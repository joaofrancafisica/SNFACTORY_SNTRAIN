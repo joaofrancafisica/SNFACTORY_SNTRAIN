{
 "cells": [
  {
   "cell_type": "code",
   "execution_count": 1,
   "id": "46e96d09",
   "metadata": {},
   "outputs": [],
   "source": [
    "import pandas as pd\n",
    "import numpy as np\n",
    "import sncosmo\n",
    "from sncosmo.salt2utils import BicubicInterpolator\n",
    "import glob\n",
    "from scipy.interpolate import (\n",
    "    InterpolatedUnivariateSpline as Spline1d,\n",
    "    RectBivariateSpline as Spline2d\n",
    ")\n",
    "import math\n",
    "import os\n",
    "from tabulate import tabulate"
   ]
  },
  {
   "cell_type": "code",
   "execution_count": 2,
   "id": "5a413fcd",
   "metadata": {},
   "outputs": [],
   "source": [
    "#from scipy.interpolate import RectBivariateSpline\n",
    "\n",
    "# A new class for sncosmo\n",
    "class EXP_LC(sncosmo.Source):\n",
    "    \n",
    "    _param_names = ['x0', 'x1', 'x2','x3','x4','x5','x6','x7','x8','x9', 'c']\n",
    "    param_names_latex = ['x_0', 'x_1', 'x_2', 'x_3', 'x_4', 'x_5', 'x_6', 'x_7', 'x_8', 'x_9', 'c']\n",
    "    \n",
    "    \n",
    "    def __init__(self, phase, wave, flux0, flux1, flux2, flux3, flux4, flux5, flux6, flux7, flux8, flux9, LC, name='EXP', version='2021'):\n",
    "\n",
    "        self.name = name\n",
    "        self.version = version\n",
    "        self._phase = phase\n",
    "        self._wave = wave\n",
    "        \n",
    "        self._model_flux0  = BicubicInterpolator(phase, wave, flux0.T)\n",
    "        self._model_flux1  = BicubicInterpolator(phase, wave, flux1.T)\n",
    "        self._model_flux2  = BicubicInterpolator(phase, wave, flux2.T)\n",
    "        self._model_flux3  = BicubicInterpolator(phase, wave, flux3.T)\n",
    "        self._model_flux4  = BicubicInterpolator(phase, wave, flux4.T)\n",
    "        self._model_flux5  = BicubicInterpolator(phase, wave, flux5.T)\n",
    "        self._model_flux6  = BicubicInterpolator(phase, wave, flux6.T)\n",
    "        self._model_flux7  = BicubicInterpolator(phase, wave, flux7.T)\n",
    "        self._model_flux8  = BicubicInterpolator(phase, wave, flux8.T)\n",
    "        self._model_flux9  = BicubicInterpolator(phase, wave, flux9.T)\n",
    "        self._model_ext =  Spline1d(LC['wave'], LC['ext'],  k=1)  \n",
    "\n",
    "\n",
    "        self._parameters = np.array([1, 0, 0, 0, 0, 0, 0, 0, 0, 0, 0])  # initial guess\n",
    "        \n",
    "\n",
    "    def _flux(self, phase, wave):\n",
    "        \n",
    "        x0, x1, x2, x3, x4, x5, x6, x7, x8, x9, c = self._parameters\n",
    "        #print('flux!')\n",
    "        return x0 * (self._model_flux0(phase, wave) +  x1 * self._model_flux1(phase, wave) +  x2 * self._model_flux2(phase, wave) +  x3 * self._model_flux3(phase, wave) +  x4 * self._model_flux4(phase, wave)  +  x5 * self._model_flux5(phase, wave) +  x6 * self._model_flux6(phase, wave) +  x7 * self._model_flux7(phase, wave) +  x8 * self._model_flux8(phase, wave) +  x9 * self._model_flux9(phase, wave))* 10.** (-0.4 * self._model_ext(wave) * c)"
   ]
  },
  {
   "cell_type": "code",
   "execution_count": 3,
   "id": "4fcb76b1",
   "metadata": {},
   "outputs": [
    {
     "name": "stdout",
     "output_type": "stream",
     "text": [
      "JLA files in path:  740\n"
     ]
    }
   ],
   "source": [
    "files=glob.glob(\"./JLA_LCS/*.list\")\n",
    "print(\"JLA files in path: \", len(files))"
   ]
  },
  {
   "cell_type": "markdown",
   "id": "abba41d5",
   "metadata": {},
   "source": [
    "## Factor analysis templates"
   ]
  },
  {
   "cell_type": "code",
   "execution_count": 4,
   "id": "4cac931b",
   "metadata": {},
   "outputs": [],
   "source": [
    "M0 = pd.read_csv(\"./Templates/fa/M0.dat\", names=[\"time\", \"wave\", \"flux\"], sep=\"\\s+\")\n",
    "M1 = pd.read_csv(\"./Templates/fa/M1.dat\", names=[\"time\", \"wave\", \"flux\"], sep=\"\\s+\")\n",
    "M2 = pd.read_csv(\"./Templates/fa/M2.dat\", names=[\"time\", \"wave\", \"flux\"], sep=\"\\s+\")\n",
    "M3 = pd.read_csv(\"./Templates/fa/M3.dat\", names=[\"time\", \"wave\", \"flux\"], sep=\"\\s+\")\n",
    "M4 = pd.read_csv(\"./Templates/fa/M4.dat\", names=[\"time\", \"wave\", \"flux\"], sep=\"\\s+\")\n",
    "M5 = pd.read_csv(\"./Templates/fa/M5.dat\", names=[\"time\", \"wave\", \"flux\"], sep=\"\\s+\")\n",
    "M6 = pd.read_csv(\"./Templates/fa/M6.dat\", names=[\"time\", \"wave\", \"flux\"], sep=\"\\s+\")\n",
    "M7 = pd.read_csv(\"./Templates/fa/M7.dat\", names=[\"time\", \"wave\", \"flux\"], sep=\"\\s+\")\n",
    "M8 = pd.read_csv(\"./Templates/fa/M8.dat\", names=[\"time\", \"wave\", \"flux\"], sep=\"\\s+\")\n",
    "M9 = pd.read_csv(\"./Templates/fa/M9.dat\", names=[\"time\", \"wave\", \"flux\"], sep=\"\\s+\")"
   ]
  },
  {
   "cell_type": "code",
   "execution_count": 5,
   "id": "2082966f",
   "metadata": {},
   "outputs": [
    {
     "data": {
      "text/html": [
       "<div>\n",
       "<style scoped>\n",
       "    .dataframe tbody tr th:only-of-type {\n",
       "        vertical-align: middle;\n",
       "    }\n",
       "\n",
       "    .dataframe tbody tr th {\n",
       "        vertical-align: top;\n",
       "    }\n",
       "\n",
       "    .dataframe thead th {\n",
       "        text-align: right;\n",
       "    }\n",
       "</style>\n",
       "<table border=\"1\" class=\"dataframe\">\n",
       "  <thead>\n",
       "    <tr style=\"text-align: right;\">\n",
       "      <th></th>\n",
       "      <th>time</th>\n",
       "      <th>wave</th>\n",
       "      <th>flux</th>\n",
       "    </tr>\n",
       "  </thead>\n",
       "  <tbody>\n",
       "    <tr>\n",
       "      <th>0</th>\n",
       "      <td>-10</td>\n",
       "      <td>3500</td>\n",
       "      <td>0.146131</td>\n",
       "    </tr>\n",
       "    <tr>\n",
       "      <th>1</th>\n",
       "      <td>-9</td>\n",
       "      <td>3500</td>\n",
       "      <td>0.155753</td>\n",
       "    </tr>\n",
       "    <tr>\n",
       "      <th>2</th>\n",
       "      <td>-8</td>\n",
       "      <td>3500</td>\n",
       "      <td>0.163890</td>\n",
       "    </tr>\n",
       "    <tr>\n",
       "      <th>3</th>\n",
       "      <td>-7</td>\n",
       "      <td>3500</td>\n",
       "      <td>0.170134</td>\n",
       "    </tr>\n",
       "    <tr>\n",
       "      <th>4</th>\n",
       "      <td>-6</td>\n",
       "      <td>3500</td>\n",
       "      <td>0.174158</td>\n",
       "    </tr>\n",
       "  </tbody>\n",
       "</table>\n",
       "</div>"
      ],
      "text/plain": [
       "   time  wave      flux\n",
       "0   -10  3500  0.146131\n",
       "1    -9  3500  0.155753\n",
       "2    -8  3500  0.163890\n",
       "3    -7  3500  0.170134\n",
       "4    -6  3500  0.174158"
      ]
     },
     "execution_count": 5,
     "metadata": {},
     "output_type": "execute_result"
    }
   ],
   "source": [
    "M0.head()"
   ]
  },
  {
   "cell_type": "code",
   "execution_count": 6,
   "id": "46143b24",
   "metadata": {},
   "outputs": [],
   "source": [
    "SCALE_FACTOR=10**(-12)\n",
    "\n",
    "M0_reshape = np.array(M0[\"flux\"]).reshape(501, 61)*SCALE_FACTOR\n",
    "M1_reshape = np.array(M1[\"flux\"]).reshape(501, 61)*SCALE_FACTOR\n",
    "M2_reshape = np.array(M2[\"flux\"]).reshape(501, 61)*SCALE_FACTOR\n",
    "M3_reshape = np.array(M3[\"flux\"]).reshape(501, 61)*SCALE_FACTOR\n",
    "M4_reshape = np.array(M4[\"flux\"]).reshape(501, 61)*SCALE_FACTOR\n",
    "M5_reshape = np.array(M5[\"flux\"]).reshape(501, 61)*SCALE_FACTOR\n",
    "M6_reshape = np.array(M6[\"flux\"]).reshape(501, 61)*SCALE_FACTOR\n",
    "M7_reshape = np.array(M7[\"flux\"]).reshape(501, 61)*SCALE_FACTOR\n",
    "M8_reshape = np.array(M8[\"flux\"]).reshape(501, 61)*SCALE_FACTOR\n",
    "M9_reshape = np.array(M9[\"flux\"]).reshape(501, 61)*SCALE_FACTOR"
   ]
  },
  {
   "cell_type": "markdown",
   "id": "29f835f9",
   "metadata": {},
   "source": [
    "## SALT2 templates"
   ]
  },
  {
   "cell_type": "code",
   "execution_count": 7,
   "id": "40d81146",
   "metadata": {},
   "outputs": [],
   "source": [
    "M0_SALT2 = pd.read_csv(\"./Templates/salt2_betoule_et_al/salt2_template_0.dat\", names=[\"time\", \"wave\", \"flux\"], sep=\"\\s+\")\n",
    "M1_SALT2 = pd.read_csv(\"./Templates/salt2_betoule_et_al/salt2_template_1.dat\", names=[\"time\", \"wave\", \"flux\"], sep=\"\\s+\")"
   ]
  },
  {
   "cell_type": "code",
   "execution_count": 8,
   "id": "e0b23aa1",
   "metadata": {},
   "outputs": [],
   "source": [
    "c = pd.read_csv(\"./Templates/salt2_colour_law_guy2010.dat\", header = None, sep = \"\\s+\") # color term\n",
    "c.columns = [\"wave\", \"ext\"]"
   ]
  },
  {
   "cell_type": "code",
   "execution_count": 9,
   "id": "9b611720",
   "metadata": {},
   "outputs": [
    {
     "data": {
      "text/html": [
       "<div>\n",
       "<style scoped>\n",
       "    .dataframe tbody tr th:only-of-type {\n",
       "        vertical-align: middle;\n",
       "    }\n",
       "\n",
       "    .dataframe tbody tr th {\n",
       "        vertical-align: top;\n",
       "    }\n",
       "\n",
       "    .dataframe thead th {\n",
       "        text-align: right;\n",
       "    }\n",
       "</style>\n",
       "<table border=\"1\" class=\"dataframe\">\n",
       "  <thead>\n",
       "    <tr style=\"text-align: right;\">\n",
       "      <th></th>\n",
       "      <th>time</th>\n",
       "      <th>wave</th>\n",
       "      <th>flux</th>\n",
       "    </tr>\n",
       "  </thead>\n",
       "  <tbody>\n",
       "    <tr>\n",
       "      <th>0</th>\n",
       "      <td>-20.0</td>\n",
       "      <td>2000.0</td>\n",
       "      <td>0.0</td>\n",
       "    </tr>\n",
       "    <tr>\n",
       "      <th>1</th>\n",
       "      <td>-20.0</td>\n",
       "      <td>2010.0</td>\n",
       "      <td>0.0</td>\n",
       "    </tr>\n",
       "    <tr>\n",
       "      <th>2</th>\n",
       "      <td>-20.0</td>\n",
       "      <td>2020.0</td>\n",
       "      <td>0.0</td>\n",
       "    </tr>\n",
       "    <tr>\n",
       "      <th>3</th>\n",
       "      <td>-20.0</td>\n",
       "      <td>2030.0</td>\n",
       "      <td>0.0</td>\n",
       "    </tr>\n",
       "    <tr>\n",
       "      <th>4</th>\n",
       "      <td>-20.0</td>\n",
       "      <td>2040.0</td>\n",
       "      <td>0.0</td>\n",
       "    </tr>\n",
       "  </tbody>\n",
       "</table>\n",
       "</div>"
      ],
      "text/plain": [
       "   time    wave  flux\n",
       "0 -20.0  2000.0   0.0\n",
       "1 -20.0  2010.0   0.0\n",
       "2 -20.0  2020.0   0.0\n",
       "3 -20.0  2030.0   0.0\n",
       "4 -20.0  2040.0   0.0"
      ]
     },
     "execution_count": 9,
     "metadata": {},
     "output_type": "execute_result"
    }
   ],
   "source": [
    "M0_SALT2.head()"
   ]
  },
  {
   "cell_type": "code",
   "execution_count": 10,
   "id": "f43239da",
   "metadata": {},
   "outputs": [],
   "source": [
    "M0_SALT2_reshape = np.array(M0_SALT2[\"time\"]).reshape(721, 71)\n",
    "M1_SALT2_reshape = np.array(M1_SALT2[\"flux\"]).reshape(721, 71)"
   ]
  },
  {
   "cell_type": "code",
   "execution_count": 11,
   "id": "f4dde84b",
   "metadata": {},
   "outputs": [
    {
     "data": {
      "text/plain": [
       "array([[-20., -20., -20., ..., -20., -20., -20.],\n",
       "       [-20., -20., -20., ..., -20., -20., -20.],\n",
       "       [-20., -20., -20., ..., -20., -20., -20.],\n",
       "       ...,\n",
       "       [ 50.,  50.,  50., ...,  50.,  50.,  50.],\n",
       "       [ 50.,  50.,  50., ...,  50.,  50.,  50.],\n",
       "       [ 50.,  50.,  50., ...,  50.,  50.,  50.]])"
      ]
     },
     "execution_count": 11,
     "metadata": {},
     "output_type": "execute_result"
    }
   ],
   "source": [
    "M0_SALT2_reshape"
   ]
  },
  {
   "cell_type": "code",
   "execution_count": 12,
   "id": "b480d0f2",
   "metadata": {},
   "outputs": [],
   "source": [
    "gridx = np.linspace(-10, 50, 61)\n",
    "gridy = np.linspace(3500, 8500, 501)\n",
    "\n",
    "exp_lc = EXP_LC(gridx, gridy, M0_reshape, M1_reshape, M2_reshape, M3_reshape, M4_reshape, M5_reshape, M6_reshape, M7_reshape, M8_reshape, M9_reshape, c)"
   ]
  },
  {
   "cell_type": "code",
   "execution_count": 13,
   "id": "9665de19",
   "metadata": {},
   "outputs": [],
   "source": [
    "table = []"
   ]
  },
  {
   "cell_type": "code",
   "execution_count": 14,
   "id": "3b00d0e5",
   "metadata": {},
   "outputs": [],
   "source": [
    "exc = [50, 158, 211, 339, 409, 592]"
   ]
  },
  {
   "cell_type": "code",
   "execution_count": 15,
   "id": "27212e1b",
   "metadata": {
    "scrolled": true
   },
   "outputs": [
    {
     "name": "stdout",
     "output_type": "stream",
     "text": [
      "0\n"
     ]
    },
    {
     "name": "stderr",
     "output_type": "stream",
     "text": [
      "/home/joao/.local/lib/python3.8/site-packages/sncosmo/fitting.py:187: RuntimeWarning: Dropping following bands from data: megacampsf::r at 17.085289, megacampsf::g at 17.085289(out of model wavelength range)\n",
      "  warnings.warn(\"Dropping following bands from data: \" +\n"
     ]
    },
    {
     "name": "stdout",
     "output_type": "stream",
     "text": [
      "0.13693331256322053\n",
      "0.09212407429525285\n",
      "0.15429154140231846\n",
      "1\n"
     ]
    },
    {
     "name": "stderr",
     "output_type": "stream",
     "text": [
      "/home/joao/.local/lib/python3.8/site-packages/sncosmo/fitting.py:187: RuntimeWarning: Dropping following bands from data: megacampsf::g at 14.933665(out of model wavelength range)\n",
      "  warnings.warn(\"Dropping following bands from data: \" +\n"
     ]
    },
    {
     "name": "stdout",
     "output_type": "stream",
     "text": [
      "1.0320323419747073\n",
      "11.012677736710204\n",
      "5.970976792636613\n",
      "2\n"
     ]
    },
    {
     "name": "stderr",
     "output_type": "stream",
     "text": [
      "/home/joao/.local/lib/python3.8/site-packages/sncosmo/fitting.py:187: RuntimeWarning: Dropping following bands from data: 4shooter2::us, 4shooter2::i, 4shooter2::r, 4shooter2::b(out of model wavelength range)\n",
      "  warnings.warn(\"Dropping following bands from data: \" +\n"
     ]
    },
    {
     "name": "stdout",
     "output_type": "stream",
     "text": [
      "1.9230601402561305\n",
      "3\n"
     ]
    },
    {
     "name": "stderr",
     "output_type": "stream",
     "text": [
      "/home/joao/.local/lib/python3.8/site-packages/sncosmo/fitting.py:187: RuntimeWarning: Dropping following bands from data: 4shooter2::us, 4shooter2::i, 4shooter2::r, 4shooter2::b(out of model wavelength range)\n",
      "  warnings.warn(\"Dropping following bands from data: \" +\n"
     ]
    },
    {
     "name": "stdout",
     "output_type": "stream",
     "text": [
      "3.319926778600675\n",
      "2.0892056158527494\n",
      "1.6756869007530066\n",
      "4\n"
     ]
    },
    {
     "name": "stderr",
     "output_type": "stream",
     "text": [
      "/home/joao/.local/lib/python3.8/site-packages/sncosmo/fitting.py:187: RuntimeWarning: Dropping following bands from data: megacampsf::g at 15.528713, megacampsf::r at 15.528713(out of model wavelength range)\n",
      "  warnings.warn(\"Dropping following bands from data: \" +\n"
     ]
    },
    {
     "name": "stdout",
     "output_type": "stream",
     "text": [
      "0.30739052275297657\n",
      "0.38224142871572264\n",
      "0.4919628974777628\n",
      "5\n"
     ]
    },
    {
     "name": "stderr",
     "output_type": "stream",
     "text": [
      "/home/joao/.local/lib/python3.8/site-packages/sncosmo/fitting.py:187: RuntimeWarning: Dropping following bands from data: sdss::g, sdss::u, sdss::z(out of model wavelength range)\n",
      "  warnings.warn(\"Dropping following bands from data: \" +\n"
     ]
    },
    {
     "name": "stdout",
     "output_type": "stream",
     "text": [
      "0.6786388851729079\n",
      "0.6571202379840901\n",
      "0.9180054812262537\n",
      "6\n"
     ]
    },
    {
     "name": "stderr",
     "output_type": "stream",
     "text": [
      "/home/joao/.local/lib/python3.8/site-packages/sncosmo/fitting.py:187: RuntimeWarning: Dropping following bands from data: megacampsf::g at 11.477897(out of model wavelength range)\n",
      "  warnings.warn(\"Dropping following bands from data: \" +\n",
      "/home/joao/.local/lib/python3.8/site-packages/sncosmo/fitting.py:187: RuntimeWarning: Dropping following bands from data: megacampsf::r at 11.477897, megacampsf::i at 11.477897, megacampsf::g at 11.477897(out of model wavelength range)\n",
      "  warnings.warn(\"Dropping following bands from data: \" +\n"
     ]
    },
    {
     "name": "stdout",
     "output_type": "stream",
     "text": [
      "1.4020275949780712\n",
      "1.436793894917688\n",
      "1.4473239527518484\n",
      "7\n"
     ]
    },
    {
     "name": "stderr",
     "output_type": "stream",
     "text": [
      "/home/joao/.local/lib/python3.8/site-packages/sncosmo/fitting.py:187: RuntimeWarning: Dropping following bands from data: sdss::z(out of model wavelength range)\n",
      "  warnings.warn(\"Dropping following bands from data: \" +\n",
      "/home/joao/.local/lib/python3.8/site-packages/sncosmo/fitting.py:187: RuntimeWarning: Dropping following bands from data: sdss::g, sdss::u, sdss::z(out of model wavelength range)\n",
      "  warnings.warn(\"Dropping following bands from data: \" +\n"
     ]
    },
    {
     "name": "stdout",
     "output_type": "stream",
     "text": [
      "7.57975978572863\n",
      "10.670139972005865\n",
      "10.532815417646098\n",
      "8\n"
     ]
    },
    {
     "name": "stderr",
     "output_type": "stream",
     "text": [
      "/home/joao/.local/lib/python3.8/site-packages/sncosmo/fitting.py:187: RuntimeWarning: Dropping following bands from data: megacampsf::g at 8.891392, megacampsf::r at 8.891392(out of model wavelength range)\n",
      "  warnings.warn(\"Dropping following bands from data: \" +\n"
     ]
    },
    {
     "name": "stdout",
     "output_type": "stream",
     "text": [
      "1.5121263633201651\n",
      "1.2895334303223611\n",
      "2.262935221197526\n",
      "9\n"
     ]
    },
    {
     "name": "stderr",
     "output_type": "stream",
     "text": [
      "/home/joao/.local/lib/python3.8/site-packages/sncosmo/fitting.py:187: RuntimeWarning: Dropping following bands from data: sdss::z(out of model wavelength range)\n",
      "  warnings.warn(\"Dropping following bands from data: \" +\n",
      "/home/joao/.local/lib/python3.8/site-packages/sncosmo/fitting.py:187: RuntimeWarning: Dropping following bands from data: sdss::g, sdss::u, sdss::z(out of model wavelength range)\n",
      "  warnings.warn(\"Dropping following bands from data: \" +\n"
     ]
    },
    {
     "name": "stdout",
     "output_type": "stream",
     "text": [
      "0.9240921925859641\n",
      "1.9348403694776934\n",
      "0.9387126373959108\n",
      "10\n"
     ]
    },
    {
     "name": "stderr",
     "output_type": "stream",
     "text": [
      "/home/joao/.local/lib/python3.8/site-packages/sncosmo/fitting.py:187: RuntimeWarning: Dropping following bands from data: megacampsf::r at 5.141305, megacampsf::g at 5.141305(out of model wavelength range)\n",
      "  warnings.warn(\"Dropping following bands from data: \" +\n"
     ]
    },
    {
     "name": "stdout",
     "output_type": "stream",
     "text": [
      "0.8831172938972495\n",
      "1.2745613113357561\n",
      "1.3219472357571407\n",
      "11\n"
     ]
    },
    {
     "name": "stderr",
     "output_type": "stream",
     "text": [
      "/home/joao/.local/lib/python3.8/site-packages/sncosmo/fitting.py:187: RuntimeWarning: Dropping following bands from data: megacampsf::g at 15.437459, megacampsf::r at 15.437459(out of model wavelength range)\n",
      "  warnings.warn(\"Dropping following bands from data: \" +\n"
     ]
    },
    {
     "name": "stdout",
     "output_type": "stream",
     "text": [
      "1.1155299902474778\n",
      "1.3792178303099063\n",
      "1.0113117855451252\n",
      "12\n"
     ]
    },
    {
     "name": "stderr",
     "output_type": "stream",
     "text": [
      "/home/joao/.local/lib/python3.8/site-packages/sncosmo/fitting.py:187: RuntimeWarning: Dropping following bands from data: megacampsf::g at 4.868827, megacampsf::i at 4.868827, megacampsf::r at 4.868827(out of model wavelength range)\n",
      "  warnings.warn(\"Dropping following bands from data: \" +\n"
     ]
    },
    {
     "name": "stdout",
     "output_type": "stream",
     "text": [
      "0.6466484567888093\n",
      "13\n"
     ]
    },
    {
     "name": "stderr",
     "output_type": "stream",
     "text": [
      "/home/joao/.local/lib/python3.8/site-packages/sncosmo/fitting.py:187: RuntimeWarning: Dropping following bands from data: sdss::z(out of model wavelength range)\n",
      "  warnings.warn(\"Dropping following bands from data: \" +\n",
      "/home/joao/.local/lib/python3.8/site-packages/sncosmo/fitting.py:187: RuntimeWarning: Dropping following bands from data: sdss::g, sdss::u, sdss::z(out of model wavelength range)\n",
      "  warnings.warn(\"Dropping following bands from data: \" +\n"
     ]
    },
    {
     "name": "stdout",
     "output_type": "stream",
     "text": [
      "2.025246619122553\n",
      "1.589945390843007\n",
      "2.0652426473260697\n",
      "14\n"
     ]
    },
    {
     "name": "stderr",
     "output_type": "stream",
     "text": [
      "/home/joao/.local/lib/python3.8/site-packages/sncosmo/fitting.py:187: RuntimeWarning: Dropping following bands from data: megacampsf::r at 7.332225, megacampsf::g at 7.332225(out of model wavelength range)\n",
      "  warnings.warn(\"Dropping following bands from data: \" +\n"
     ]
    },
    {
     "name": "stdout",
     "output_type": "stream",
     "text": [
      "1.0196092359205173\n",
      "1.5544047906155407\n",
      "0.9486263064569043\n",
      "15\n"
     ]
    },
    {
     "name": "stderr",
     "output_type": "stream",
     "text": [
      "/home/joao/.local/lib/python3.8/site-packages/sncosmo/fitting.py:187: RuntimeWarning: Dropping following bands from data: sdss::z(out of model wavelength range)\n",
      "  warnings.warn(\"Dropping following bands from data: \" +\n",
      "/home/joao/.local/lib/python3.8/site-packages/sncosmo/fitting.py:187: RuntimeWarning: Dropping following bands from data: sdss::g, sdss::u, sdss::z(out of model wavelength range)\n",
      "  warnings.warn(\"Dropping following bands from data: \" +\n"
     ]
    },
    {
     "name": "stdout",
     "output_type": "stream",
     "text": [
      "0.5318133797133465\n",
      "1.0489330540127328\n",
      "0.8916277605278409\n",
      "16\n"
     ]
    },
    {
     "name": "stderr",
     "output_type": "stream",
     "text": [
      "/home/joao/.local/lib/python3.8/site-packages/sncosmo/fitting.py:187: RuntimeWarning: Dropping following bands from data: sdss::z(out of model wavelength range)\n",
      "  warnings.warn(\"Dropping following bands from data: \" +\n",
      "/home/joao/.local/lib/python3.8/site-packages/sncosmo/fitting.py:187: RuntimeWarning: Dropping following bands from data: sdss::g, sdss::u, sdss::z(out of model wavelength range)\n",
      "  warnings.warn(\"Dropping following bands from data: \" +\n"
     ]
    },
    {
     "name": "stdout",
     "output_type": "stream",
     "text": [
      "1.4984401894005859\n",
      "2.5179578314025415\n",
      "2.8960805621733114\n",
      "17\n"
     ]
    },
    {
     "name": "stderr",
     "output_type": "stream",
     "text": [
      "/home/joao/.local/lib/python3.8/site-packages/sncosmo/fitting.py:187: RuntimeWarning: Dropping following bands from data: sdss::g, sdss::u, sdss::z(out of model wavelength range)\n",
      "  warnings.warn(\"Dropping following bands from data: \" +\n"
     ]
    },
    {
     "name": "stdout",
     "output_type": "stream",
     "text": [
      "1.2984689902203868\n",
      "1.2543227627637445\n",
      "1.3380419520670341\n",
      "18\n"
     ]
    },
    {
     "name": "stderr",
     "output_type": "stream",
     "text": [
      "/home/joao/.local/lib/python3.8/site-packages/sncosmo/fitting.py:187: RuntimeWarning: Dropping following bands from data: sdss::g, sdss::u, sdss::z(out of model wavelength range)\n",
      "  warnings.warn(\"Dropping following bands from data: \" +\n"
     ]
    },
    {
     "name": "stdout",
     "output_type": "stream",
     "text": [
      "0.9679316143897791\n",
      "0.8374579079051762\n",
      "0.8616531196019607\n",
      "19\n"
     ]
    },
    {
     "name": "stderr",
     "output_type": "stream",
     "text": [
      "/home/joao/.local/lib/python3.8/site-packages/sncosmo/fitting.py:187: RuntimeWarning: Dropping following bands from data: standard::r, standard::i, standard::u(out of model wavelength range)\n",
      "  warnings.warn(\"Dropping following bands from data: \" +\n"
     ]
    },
    {
     "name": "stdout",
     "output_type": "stream",
     "text": [
      "5.751188086878788\n",
      "9.702113462630221\n",
      "26.028478443543992\n",
      "20\n"
     ]
    },
    {
     "name": "stderr",
     "output_type": "stream",
     "text": [
      "/home/joao/.local/lib/python3.8/site-packages/sncosmo/fitting.py:187: RuntimeWarning: Dropping following bands from data: sdss::z(out of model wavelength range)\n",
      "  warnings.warn(\"Dropping following bands from data: \" +\n",
      "/home/joao/.local/lib/python3.8/site-packages/sncosmo/fitting.py:187: RuntimeWarning: Dropping following bands from data: sdss::g, sdss::u, sdss::z(out of model wavelength range)\n",
      "  warnings.warn(\"Dropping following bands from data: \" +\n"
     ]
    },
    {
     "name": "stdout",
     "output_type": "stream",
     "text": [
      "1.1507084512854242\n",
      "1.5979024598162954\n",
      "1.668730133302577\n",
      "21\n"
     ]
    },
    {
     "name": "stderr",
     "output_type": "stream",
     "text": [
      "/home/joao/.local/lib/python3.8/site-packages/sncosmo/fitting.py:187: RuntimeWarning: Dropping following bands from data: sdss::g, sdss::u, sdss::z(out of model wavelength range)\n",
      "  warnings.warn(\"Dropping following bands from data: \" +\n"
     ]
    },
    {
     "name": "stdout",
     "output_type": "stream",
     "text": [
      "0.546318928260384\n",
      "0.679760636903365\n",
      "0.6884553937507996\n",
      "22\n"
     ]
    },
    {
     "name": "stderr",
     "output_type": "stream",
     "text": [
      "/home/joao/.local/lib/python3.8/site-packages/sncosmo/fitting.py:187: RuntimeWarning: Dropping following bands from data: megacampsf::r at 16.843245, megacampsf::g at 16.843245(out of model wavelength range)\n",
      "  warnings.warn(\"Dropping following bands from data: \" +\n"
     ]
    },
    {
     "name": "stdout",
     "output_type": "stream",
     "text": [
      "1.8855206488801053\n",
      "2.325589288144435\n",
      "3.3822892916454435\n",
      "23\n"
     ]
    },
    {
     "name": "stderr",
     "output_type": "stream",
     "text": [
      "/home/joao/.local/lib/python3.8/site-packages/sncosmo/fitting.py:187: RuntimeWarning: Dropping following bands from data: sdss::z(out of model wavelength range)\n",
      "  warnings.warn(\"Dropping following bands from data: \" +\n",
      "/home/joao/.local/lib/python3.8/site-packages/sncosmo/fitting.py:187: RuntimeWarning: Dropping following bands from data: sdss::g, sdss::u, sdss::z(out of model wavelength range)\n",
      "  warnings.warn(\"Dropping following bands from data: \" +\n"
     ]
    },
    {
     "name": "stdout",
     "output_type": "stream",
     "text": [
      "2.115123657325971\n",
      "5.670205258752151\n",
      "6.16117698552654\n",
      "24\n"
     ]
    },
    {
     "name": "stderr",
     "output_type": "stream",
     "text": [
      "/home/joao/.local/lib/python3.8/site-packages/sncosmo/fitting.py:187: RuntimeWarning: Dropping following bands from data: keplercam::i, keplercam::us, keplercam::b(out of model wavelength range)\n",
      "  warnings.warn(\"Dropping following bands from data: \" +\n"
     ]
    },
    {
     "name": "stdout",
     "output_type": "stream",
     "text": [
      "2.6099149542569666\n",
      "1.4977409940296222\n",
      "1.3253835189762584\n",
      "25\n"
     ]
    },
    {
     "name": "stderr",
     "output_type": "stream",
     "text": [
      "/home/joao/.local/lib/python3.8/site-packages/sncosmo/fitting.py:187: RuntimeWarning: Dropping following bands from data: 4shooter2::us, 4shooter2::i, 4shooter2::r, 4shooter2::b(out of model wavelength range)\n",
      "  warnings.warn(\"Dropping following bands from data: \" +\n"
     ]
    },
    {
     "name": "stdout",
     "output_type": "stream",
     "text": [
      "6.032382606295681\n",
      "1.8103354371473535\n",
      "2.964182067926695\n",
      "26\n"
     ]
    },
    {
     "name": "stderr",
     "output_type": "stream",
     "text": [
      "/home/joao/.local/lib/python3.8/site-packages/sncosmo/fitting.py:187: RuntimeWarning: Dropping following bands from data: 4shooter2::us, 4shooter2::i, 4shooter2::r, 4shooter2::b(out of model wavelength range)\n",
      "  warnings.warn(\"Dropping following bands from data: \" +\n"
     ]
    },
    {
     "name": "stdout",
     "output_type": "stream",
     "text": [
      "13.105951996764691\n",
      "10.875390531420706\n",
      "13.425028398438974\n",
      "27\n"
     ]
    },
    {
     "name": "stderr",
     "output_type": "stream",
     "text": [
      "/home/joao/.local/lib/python3.8/site-packages/sncosmo/fitting.py:187: RuntimeWarning: Dropping following bands from data: megacampsf::r at 14.792260, megacampsf::g at 14.792260(out of model wavelength range)\n",
      "  warnings.warn(\"Dropping following bands from data: \" +\n"
     ]
    },
    {
     "name": "stdout",
     "output_type": "stream",
     "text": [
      "1.154781397332706\n",
      "1.17436521781733\n",
      "1.2157688733259984\n",
      "28\n"
     ]
    },
    {
     "name": "stderr",
     "output_type": "stream",
     "text": [
      "/home/joao/.local/lib/python3.8/site-packages/sncosmo/fitting.py:187: RuntimeWarning: Dropping following bands from data: keplercam::i, keplercam::b(out of model wavelength range)\n",
      "  warnings.warn(\"Dropping following bands from data: \" +\n"
     ]
    },
    {
     "name": "stdout",
     "output_type": "stream",
     "text": [
      "2.4835639654185124\n",
      "0.8789869093208167\n",
      "1.0120181711706226\n",
      "29\n"
     ]
    },
    {
     "name": "stderr",
     "output_type": "stream",
     "text": [
      "/home/joao/.local/lib/python3.8/site-packages/sncosmo/fitting.py:187: RuntimeWarning: Dropping following bands from data: megacampsf::g at 7.866507, megacampsf::r at 7.866507(out of model wavelength range)\n",
      "  warnings.warn(\"Dropping following bands from data: \" +\n"
     ]
    },
    {
     "name": "stdout",
     "output_type": "stream",
     "text": [
      "1.2048072053783816\n",
      "1.7381671533001692\n",
      "1.7073465189579005\n",
      "30\n"
     ]
    },
    {
     "name": "stderr",
     "output_type": "stream",
     "text": [
      "/home/joao/.local/lib/python3.8/site-packages/sncosmo/fitting.py:187: RuntimeWarning: Dropping following bands from data: sdss::g, sdss::u, sdss::z(out of model wavelength range)\n",
      "  warnings.warn(\"Dropping following bands from data: \" +\n"
     ]
    },
    {
     "name": "stdout",
     "output_type": "stream",
     "text": [
      "1.1883642252150008\n",
      "1.5281979685469147\n",
      "1.5273141282996276\n",
      "31\n"
     ]
    },
    {
     "name": "stderr",
     "output_type": "stream",
     "text": [
      "/home/joao/.local/lib/python3.8/site-packages/sncosmo/fitting.py:187: RuntimeWarning: Dropping following bands from data: standard::r, standard::i(out of model wavelength range)\n",
      "  warnings.warn(\"Dropping following bands from data: \" +\n"
     ]
    },
    {
     "name": "stdout",
     "output_type": "stream",
     "text": [
      "1.8271898626072682\n",
      "102.64823648588452\n",
      "12.10010549685483\n",
      "32\n"
     ]
    },
    {
     "name": "stderr",
     "output_type": "stream",
     "text": [
      "/home/joao/.local/lib/python3.8/site-packages/sncosmo/fitting.py:187: RuntimeWarning: Dropping following bands from data: megacampsf::r at 15.708185, megacampsf::g at 15.708185(out of model wavelength range)\n",
      "  warnings.warn(\"Dropping following bands from data: \" +\n"
     ]
    },
    {
     "name": "stdout",
     "output_type": "stream",
     "text": [
      "3.971082506755472\n",
      "3.9577801117796887\n",
      "33\n"
     ]
    },
    {
     "name": "stderr",
     "output_type": "stream",
     "text": [
      "/home/joao/.local/lib/python3.8/site-packages/sncosmo/fitting.py:187: RuntimeWarning: Dropping following bands from data: standard::r, standard::i, standard::u(out of model wavelength range)\n",
      "  warnings.warn(\"Dropping following bands from data: \" +\n"
     ]
    },
    {
     "name": "stdout",
     "output_type": "stream",
     "text": [
      "8.22998135415086\n",
      "5.7051207878189505\n",
      "8.229527336951314\n",
      "34\n"
     ]
    },
    {
     "name": "stderr",
     "output_type": "stream",
     "text": [
      "/home/joao/.local/lib/python3.8/site-packages/sncosmo/fitting.py:187: RuntimeWarning: Dropping following bands from data: keplercam::b(out of model wavelength range)\n",
      "  warnings.warn(\"Dropping following bands from data: \" +\n"
     ]
    },
    {
     "name": "stdout",
     "output_type": "stream",
     "text": [
      "1.592273696635529\n",
      "5.18095232683028\n",
      "5.227611051592972\n",
      "35\n"
     ]
    },
    {
     "name": "stderr",
     "output_type": "stream",
     "text": [
      "/home/joao/.local/lib/python3.8/site-packages/sncosmo/fitting.py:187: RuntimeWarning: Dropping following bands from data: megacampsf::g at 6.233097(out of model wavelength range)\n",
      "  warnings.warn(\"Dropping following bands from data: \" +\n"
     ]
    },
    {
     "name": "stdout",
     "output_type": "stream",
     "text": [
      "0.42300230820633794\n",
      "0.8844444827765617\n",
      "0.9608037718618713\n",
      "36\n"
     ]
    },
    {
     "name": "stderr",
     "output_type": "stream",
     "text": [
      "/home/joao/.local/lib/python3.8/site-packages/sncosmo/fitting.py:187: RuntimeWarning: Dropping following bands from data: megacampsf::r at 12.619024, megacampsf::g at 12.619024(out of model wavelength range)\n",
      "  warnings.warn(\"Dropping following bands from data: \" +\n"
     ]
    },
    {
     "name": "stdout",
     "output_type": "stream",
     "text": [
      "0.8167051352232096\n",
      "0.8171099977874033\n",
      "1.5795353791580005\n",
      "37\n"
     ]
    },
    {
     "name": "stderr",
     "output_type": "stream",
     "text": [
      "/home/joao/.local/lib/python3.8/site-packages/sncosmo/fitting.py:187: RuntimeWarning: Dropping following bands from data: sdss::z(out of model wavelength range)\n",
      "  warnings.warn(\"Dropping following bands from data: \" +\n",
      "/home/joao/.local/lib/python3.8/site-packages/sncosmo/fitting.py:187: RuntimeWarning: Dropping following bands from data: sdss::g, sdss::u, sdss::z(out of model wavelength range)\n",
      "  warnings.warn(\"Dropping following bands from data: \" +\n"
     ]
    },
    {
     "name": "stdout",
     "output_type": "stream",
     "text": [
      "1.223986818728144\n",
      "1.1510349977040937\n",
      "1.1888427053274517\n",
      "38\n"
     ]
    },
    {
     "name": "stderr",
     "output_type": "stream",
     "text": [
      "/home/joao/.local/lib/python3.8/site-packages/sncosmo/fitting.py:187: RuntimeWarning: Dropping following bands from data: sdss::z(out of model wavelength range)\n",
      "  warnings.warn(\"Dropping following bands from data: \" +\n",
      "/home/joao/.local/lib/python3.8/site-packages/sncosmo/fitting.py:187: RuntimeWarning: Dropping following bands from data: sdss::g, sdss::u, sdss::z(out of model wavelength range)\n",
      "  warnings.warn(\"Dropping following bands from data: \" +\n"
     ]
    },
    {
     "name": "stdout",
     "output_type": "stream",
     "text": [
      "1.2063473182466355\n",
      "1.1700617450381037\n",
      "1.161921295700673\n",
      "39\n"
     ]
    },
    {
     "name": "stderr",
     "output_type": "stream",
     "text": [
      "/home/joao/.local/lib/python3.8/site-packages/sncosmo/fitting.py:187: RuntimeWarning: Dropping following bands from data: megacampsf::g at 4.820496, megacampsf::r at 4.820496(out of model wavelength range)\n",
      "  warnings.warn(\"Dropping following bands from data: \" +\n"
     ]
    },
    {
     "name": "stdout",
     "output_type": "stream",
     "text": [
      "1.6473001372017613\n",
      "5.930074711309263\n",
      "9.467116552408509\n",
      "40\n"
     ]
    },
    {
     "name": "stderr",
     "output_type": "stream",
     "text": [
      "/home/joao/.local/lib/python3.8/site-packages/sncosmo/fitting.py:187: RuntimeWarning: Dropping following bands from data: megacampsf::g at 14.061385(out of model wavelength range)\n",
      "  warnings.warn(\"Dropping following bands from data: \" +\n"
     ]
    },
    {
     "name": "stdout",
     "output_type": "stream",
     "text": [
      "1.0336663350432258\n",
      "2.201879954909871\n",
      "1.1129862967883757\n",
      "41\n"
     ]
    },
    {
     "name": "stderr",
     "output_type": "stream",
     "text": [
      "/home/joao/.local/lib/python3.8/site-packages/sncosmo/fitting.py:187: RuntimeWarning: Dropping following bands from data: megacampsf::i at 10.089108, megacampsf::r at 10.089108, megacampsf::g at 10.089108(out of model wavelength range)\n",
      "  warnings.warn(\"Dropping following bands from data: \" +\n"
     ]
    },
    {
     "name": "stdout",
     "output_type": "stream",
     "text": [
      "1.6130764653092424\n",
      "42\n"
     ]
    },
    {
     "name": "stderr",
     "output_type": "stream",
     "text": [
      "/home/joao/.local/lib/python3.8/site-packages/sncosmo/fitting.py:187: RuntimeWarning: Dropping following bands from data: standard::r, standard::u, standard::i(out of model wavelength range)\n",
      "  warnings.warn(\"Dropping following bands from data: \" +\n"
     ]
    },
    {
     "name": "stdout",
     "output_type": "stream",
     "text": [
      "8.000858290979624\n",
      "18.088718463333652\n",
      "24.01184786013464\n",
      "43\n"
     ]
    },
    {
     "name": "stderr",
     "output_type": "stream",
     "text": [
      "/home/joao/.local/lib/python3.8/site-packages/sncosmo/fitting.py:187: RuntimeWarning: Dropping following bands from data: standard::r, standard::u, standard::i(out of model wavelength range)\n",
      "  warnings.warn(\"Dropping following bands from data: \" +\n"
     ]
    },
    {
     "name": "stdout",
     "output_type": "stream",
     "text": [
      "17.606674546013412\n",
      "7.312326386503182\n",
      "6.433629849547355\n",
      "44\n"
     ]
    },
    {
     "name": "stderr",
     "output_type": "stream",
     "text": [
      "/home/joao/.local/lib/python3.8/site-packages/sncosmo/fitting.py:187: RuntimeWarning: Dropping following bands from data: sdss::z(out of model wavelength range)\n",
      "  warnings.warn(\"Dropping following bands from data: \" +\n",
      "/home/joao/.local/lib/python3.8/site-packages/sncosmo/fitting.py:187: RuntimeWarning: Dropping following bands from data: sdss::g, sdss::u, sdss::z(out of model wavelength range)\n",
      "  warnings.warn(\"Dropping following bands from data: \" +\n"
     ]
    },
    {
     "name": "stdout",
     "output_type": "stream",
     "text": [
      "1.4614407525711228\n",
      "1.2941786752810265\n",
      "0.9792809016710283\n",
      "45\n"
     ]
    },
    {
     "name": "stderr",
     "output_type": "stream",
     "text": [
      "/home/joao/.local/lib/python3.8/site-packages/sncosmo/fitting.py:187: RuntimeWarning: Dropping following bands from data: megacampsf::g at 7.431941(out of model wavelength range)\n",
      "  warnings.warn(\"Dropping following bands from data: \" +\n"
     ]
    },
    {
     "name": "stdout",
     "output_type": "stream",
     "text": [
      "1.5582165386457076\n",
      "3.235507900183643\n",
      "4.777332705150868\n",
      "46\n"
     ]
    },
    {
     "name": "stderr",
     "output_type": "stream",
     "text": [
      "/home/joao/.local/lib/python3.8/site-packages/sncosmo/fitting.py:187: RuntimeWarning: Dropping following bands from data: megacampsf::r at 15.123140, megacampsf::g at 15.123140(out of model wavelength range)\n",
      "  warnings.warn(\"Dropping following bands from data: \" +\n"
     ]
    },
    {
     "name": "stdout",
     "output_type": "stream",
     "text": [
      "1.1901677676681788\n",
      "1.0938446386304788\n",
      "0.8127877125615892\n",
      "47\n"
     ]
    },
    {
     "name": "stderr",
     "output_type": "stream",
     "text": [
      "/home/joao/.local/lib/python3.8/site-packages/sncosmo/fitting.py:187: RuntimeWarning: Dropping following bands from data: sdss::z(out of model wavelength range)\n",
      "  warnings.warn(\"Dropping following bands from data: \" +\n",
      "/home/joao/.local/lib/python3.8/site-packages/sncosmo/fitting.py:187: RuntimeWarning: Dropping following bands from data: sdss::g, sdss::u, sdss::z(out of model wavelength range)\n",
      "  warnings.warn(\"Dropping following bands from data: \" +\n"
     ]
    },
    {
     "name": "stdout",
     "output_type": "stream",
     "text": [
      "1.5227431792066746\n",
      "1.8491471110629811\n",
      "1.880413318126094\n",
      "48\n"
     ]
    },
    {
     "name": "stderr",
     "output_type": "stream",
     "text": [
      "/home/joao/.local/lib/python3.8/site-packages/sncosmo/fitting.py:187: RuntimeWarning: Dropping following bands from data: sdss::g, sdss::u, sdss::z(out of model wavelength range)\n",
      "  warnings.warn(\"Dropping following bands from data: \" +\n"
     ]
    },
    {
     "name": "stdout",
     "output_type": "stream",
     "text": [
      "1.709534917481739\n",
      "0.9846689981428997\n",
      "0.93098211306635\n",
      "49\n"
     ]
    },
    {
     "name": "stderr",
     "output_type": "stream",
     "text": [
      "/home/joao/.local/lib/python3.8/site-packages/sncosmo/fitting.py:187: RuntimeWarning: Dropping following bands from data: megacampsf::g at 14.769841, megacampsf::r at 14.769841(out of model wavelength range)\n",
      "  warnings.warn(\"Dropping following bands from data: \" +\n"
     ]
    },
    {
     "name": "stdout",
     "output_type": "stream",
     "text": [
      "0.7077596045797016\n",
      "0.8386535242915912\n",
      "0.6613269770323372\n",
      "50\n",
      "51\n"
     ]
    },
    {
     "name": "stderr",
     "output_type": "stream",
     "text": [
      "/home/joao/.local/lib/python3.8/site-packages/sncosmo/fitting.py:187: RuntimeWarning: Dropping following bands from data: sdss::g, sdss::u(out of model wavelength range)\n",
      "  warnings.warn(\"Dropping following bands from data: \" +\n"
     ]
    },
    {
     "name": "stdout",
     "output_type": "stream",
     "text": [
      "1.020459685986404\n",
      "0.9759668713964516\n",
      "1.2099538861153238\n",
      "52\n"
     ]
    },
    {
     "name": "stderr",
     "output_type": "stream",
     "text": [
      "/home/joao/.local/lib/python3.8/site-packages/sncosmo/fitting.py:187: RuntimeWarning: Dropping following bands from data: sdss::z(out of model wavelength range)\n",
      "  warnings.warn(\"Dropping following bands from data: \" +\n",
      "/home/joao/.local/lib/python3.8/site-packages/sncosmo/fitting.py:187: RuntimeWarning: Dropping following bands from data: sdss::g, sdss::u, sdss::z(out of model wavelength range)\n",
      "  warnings.warn(\"Dropping following bands from data: \" +\n"
     ]
    },
    {
     "name": "stdout",
     "output_type": "stream",
     "text": [
      "2.653774564176533\n",
      "1.1323320334205609\n",
      "1.1164436429552678\n",
      "53\n"
     ]
    },
    {
     "name": "stderr",
     "output_type": "stream",
     "text": [
      "/home/joao/.local/lib/python3.8/site-packages/sncosmo/fitting.py:187: RuntimeWarning: Dropping following bands from data: megacampsf::g at 9.674763, megacampsf::r at 9.674763(out of model wavelength range)\n",
      "  warnings.warn(\"Dropping following bands from data: \" +\n"
     ]
    },
    {
     "name": "stdout",
     "output_type": "stream",
     "text": [
      "0.797005796442883\n",
      "0.9147702630599756\n",
      "1.1786844922978685\n",
      "54\n"
     ]
    },
    {
     "name": "stderr",
     "output_type": "stream",
     "text": [
      "/home/joao/.local/lib/python3.8/site-packages/sncosmo/fitting.py:187: RuntimeWarning: Dropping following bands from data: megacampsf::g at 12.036865(out of model wavelength range)\n",
      "  warnings.warn(\"Dropping following bands from data: \" +\n"
     ]
    },
    {
     "name": "stdout",
     "output_type": "stream",
     "text": [
      "2.248499883229017\n",
      "3.6532780162736835\n",
      "3.27630437007582\n",
      "55\n"
     ]
    },
    {
     "name": "stderr",
     "output_type": "stream",
     "text": [
      "/home/joao/.local/lib/python3.8/site-packages/sncosmo/fitting.py:187: RuntimeWarning: Dropping following bands from data: keplercam::i, keplercam::us, keplercam::b(out of model wavelength range)\n",
      "  warnings.warn(\"Dropping following bands from data: \" +\n"
     ]
    },
    {
     "name": "stdout",
     "output_type": "stream",
     "text": [
      "4.52024621463681\n",
      "5.1707601848739335\n",
      "19.138113080679595\n",
      "56\n"
     ]
    },
    {
     "name": "stderr",
     "output_type": "stream",
     "text": [
      "/home/joao/.local/lib/python3.8/site-packages/sncosmo/fitting.py:187: RuntimeWarning: Dropping following bands from data: megacampsf::g at 10.272500, megacampsf::r at 10.272500(out of model wavelength range)\n",
      "  warnings.warn(\"Dropping following bands from data: \" +\n"
     ]
    },
    {
     "name": "stdout",
     "output_type": "stream",
     "text": [
      "1.486822091845229\n",
      "3.672762101097258\n",
      "7.728304983058206\n",
      "57\n"
     ]
    },
    {
     "name": "stderr",
     "output_type": "stream",
     "text": [
      "/home/joao/.local/lib/python3.8/site-packages/sncosmo/fitting.py:187: RuntimeWarning: Dropping following bands from data: standard::i(out of model wavelength range)\n",
      "  warnings.warn(\"Dropping following bands from data: \" +\n"
     ]
    },
    {
     "name": "stdout",
     "output_type": "stream",
     "text": [
      "0.9099945148205323\n",
      "1.1779309566715188\n",
      "1.001088012840405\n",
      "58\n"
     ]
    },
    {
     "name": "stderr",
     "output_type": "stream",
     "text": [
      "/home/joao/.local/lib/python3.8/site-packages/sncosmo/fitting.py:187: RuntimeWarning: Dropping following bands from data: megacampsf::g at 3.639431(out of model wavelength range)\n",
      "  warnings.warn(\"Dropping following bands from data: \" +\n"
     ]
    },
    {
     "name": "stdout",
     "output_type": "stream",
     "text": [
      "1.9095063258854983\n",
      "3.914421401007844\n",
      "3.7109834675401805\n",
      "59\n"
     ]
    },
    {
     "name": "stderr",
     "output_type": "stream",
     "text": [
      "/home/joao/.local/lib/python3.8/site-packages/sncosmo/fitting.py:187: RuntimeWarning: Dropping following bands from data: standard::r, standard::u, standard::i(out of model wavelength range)\n",
      "  warnings.warn(\"Dropping following bands from data: \" +\n"
     ]
    },
    {
     "name": "stdout",
     "output_type": "stream",
     "text": [
      "17.38744523761404\n",
      "10.303597557579783\n",
      "12.065265453685832\n",
      "60\n"
     ]
    },
    {
     "name": "stderr",
     "output_type": "stream",
     "text": [
      "/home/joao/.local/lib/python3.8/site-packages/sncosmo/fitting.py:187: RuntimeWarning: Dropping following bands from data: sdss::z(out of model wavelength range)\n",
      "  warnings.warn(\"Dropping following bands from data: \" +\n",
      "/home/joao/.local/lib/python3.8/site-packages/sncosmo/fitting.py:187: RuntimeWarning: Dropping following bands from data: sdss::g, sdss::u, sdss::z(out of model wavelength range)\n",
      "  warnings.warn(\"Dropping following bands from data: \" +\n"
     ]
    },
    {
     "name": "stdout",
     "output_type": "stream",
     "text": [
      "0.6829253230370512\n",
      "0.6957929787809877\n",
      "0.6762297058148751\n",
      "61\n"
     ]
    },
    {
     "name": "stderr",
     "output_type": "stream",
     "text": [
      "/home/joao/.local/lib/python3.8/site-packages/sncosmo/fitting.py:187: RuntimeWarning: Dropping following bands from data: megacampsf::r at 15.109483, megacampsf::g at 15.109483(out of model wavelength range)\n",
      "  warnings.warn(\"Dropping following bands from data: \" +\n"
     ]
    },
    {
     "name": "stdout",
     "output_type": "stream",
     "text": [
      "1.4950895219262397\n",
      "1.358673518943047\n",
      "2.4914362130027987\n",
      "62\n"
     ]
    },
    {
     "name": "stderr",
     "output_type": "stream",
     "text": [
      "/home/joao/.local/lib/python3.8/site-packages/sncosmo/fitting.py:187: RuntimeWarning: Dropping following bands from data: sdss::z(out of model wavelength range)\n",
      "  warnings.warn(\"Dropping following bands from data: \" +\n",
      "/home/joao/.local/lib/python3.8/site-packages/sncosmo/fitting.py:187: RuntimeWarning: Dropping following bands from data: sdss::g, sdss::u, sdss::z(out of model wavelength range)\n",
      "  warnings.warn(\"Dropping following bands from data: \" +\n"
     ]
    },
    {
     "name": "stdout",
     "output_type": "stream",
     "text": [
      "1.7734691571294778\n",
      "2.9272938471636616\n",
      "4.071300010409798\n",
      "63\n"
     ]
    },
    {
     "name": "stderr",
     "output_type": "stream",
     "text": [
      "/home/joao/.local/lib/python3.8/site-packages/sncosmo/fitting.py:187: RuntimeWarning: Dropping following bands from data: 4shooter2::us, 4shooter2::i, 4shooter2::r, 4shooter2::b(out of model wavelength range)\n",
      "  warnings.warn(\"Dropping following bands from data: \" +\n"
     ]
    },
    {
     "name": "stdout",
     "output_type": "stream",
     "text": [
      "3.7301976420965857\n",
      "1.3931393323228893\n",
      "1.495863706670293\n",
      "64\n"
     ]
    },
    {
     "name": "stderr",
     "output_type": "stream",
     "text": [
      "/home/joao/.local/lib/python3.8/site-packages/sncosmo/fitting.py:187: RuntimeWarning: Dropping following bands from data: 4shooter2::us, 4shooter2::i, 4shooter2::r, 4shooter2::b(out of model wavelength range)\n",
      "  warnings.warn(\"Dropping following bands from data: \" +\n"
     ]
    },
    {
     "name": "stdout",
     "output_type": "stream",
     "text": [
      "11.310261207362675\n",
      "1.822711244964233\n",
      "3.6364898267883468\n",
      "65\n"
     ]
    },
    {
     "name": "stderr",
     "output_type": "stream",
     "text": [
      "/home/joao/.local/lib/python3.8/site-packages/sncosmo/fitting.py:187: RuntimeWarning: Dropping following bands from data: sdss::g, sdss::u, sdss::z(out of model wavelength range)\n",
      "  warnings.warn(\"Dropping following bands from data: \" +\n"
     ]
    },
    {
     "name": "stdout",
     "output_type": "stream",
     "text": [
      "1.397120268664195\n",
      "0.9224489893179577\n",
      "1.053459963180818\n",
      "66\n"
     ]
    },
    {
     "name": "stderr",
     "output_type": "stream",
     "text": [
      "/home/joao/.local/lib/python3.8/site-packages/sncosmo/fitting.py:187: RuntimeWarning: Dropping following bands from data: 4shooter2::us, 4shooter2::i, 4shooter2::r, 4shooter2::b(out of model wavelength range)\n",
      "  warnings.warn(\"Dropping following bands from data: \" +\n"
     ]
    },
    {
     "name": "stdout",
     "output_type": "stream",
     "text": [
      "6.511500229684308\n",
      "2.308607766429482\n",
      "1.9955918129943804\n",
      "67\n"
     ]
    },
    {
     "name": "stderr",
     "output_type": "stream",
     "text": [
      "/home/joao/.local/lib/python3.8/site-packages/sncosmo/fitting.py:187: RuntimeWarning: Dropping following bands from data: 4shooter2::us, 4shooter2::b, standard::i, standard::r, 4shooter2::i, 4shooter2::r(out of model wavelength range)\n",
      "  warnings.warn(\"Dropping following bands from data: \" +\n"
     ]
    },
    {
     "name": "stdout",
     "output_type": "stream",
     "text": [
      "7.587498106897622\n",
      "15.768902049837275\n",
      "23.03226913888997\n",
      "68\n"
     ]
    },
    {
     "name": "stderr",
     "output_type": "stream",
     "text": [
      "/home/joao/.local/lib/python3.8/site-packages/sncosmo/fitting.py:187: RuntimeWarning: Dropping following bands from data: sdss::z(out of model wavelength range)\n",
      "  warnings.warn(\"Dropping following bands from data: \" +\n",
      "/home/joao/.local/lib/python3.8/site-packages/sncosmo/fitting.py:187: RuntimeWarning: Dropping following bands from data: sdss::g, sdss::u, sdss::z(out of model wavelength range)\n",
      "  warnings.warn(\"Dropping following bands from data: \" +\n"
     ]
    },
    {
     "name": "stdout",
     "output_type": "stream",
     "text": [
      "1.5000352190355621\n",
      "1.8316007943375376\n",
      "1.828768986948765\n",
      "69\n"
     ]
    },
    {
     "name": "stderr",
     "output_type": "stream",
     "text": [
      "/home/joao/.local/lib/python3.8/site-packages/sncosmo/fitting.py:187: RuntimeWarning: Dropping following bands from data: sdss::g, sdss::u, sdss::z(out of model wavelength range)\n",
      "  warnings.warn(\"Dropping following bands from data: \" +\n"
     ]
    },
    {
     "name": "stdout",
     "output_type": "stream",
     "text": [
      "1.446482563268612\n",
      "0.8182221033887863\n",
      "0.8527439517911386\n",
      "70\n"
     ]
    },
    {
     "name": "stderr",
     "output_type": "stream",
     "text": [
      "/home/joao/.local/lib/python3.8/site-packages/sncosmo/fitting.py:187: RuntimeWarning: Dropping following bands from data: sdss::z(out of model wavelength range)\n",
      "  warnings.warn(\"Dropping following bands from data: \" +\n",
      "/home/joao/.local/lib/python3.8/site-packages/sncosmo/fitting.py:187: RuntimeWarning: Dropping following bands from data: sdss::g, sdss::u, sdss::z(out of model wavelength range)\n",
      "  warnings.warn(\"Dropping following bands from data: \" +\n"
     ]
    },
    {
     "name": "stdout",
     "output_type": "stream",
     "text": [
      "1.1719936268547262\n",
      "1.0750831392736442\n",
      "1.0532792819622536\n",
      "71\n"
     ]
    },
    {
     "name": "stderr",
     "output_type": "stream",
     "text": [
      "/home/joao/.local/lib/python3.8/site-packages/sncosmo/fitting.py:187: RuntimeWarning: Dropping following bands from data: megacampsf::g at 11.503709(out of model wavelength range)\n",
      "  warnings.warn(\"Dropping following bands from data: \" +\n"
     ]
    },
    {
     "name": "stdout",
     "output_type": "stream",
     "text": [
      "1.805520042813443\n",
      "1.8514734751340645\n",
      "2.400647112840798\n",
      "72\n"
     ]
    },
    {
     "name": "stderr",
     "output_type": "stream",
     "text": [
      "/home/joao/.local/lib/python3.8/site-packages/sncosmo/fitting.py:187: RuntimeWarning: Dropping following bands from data: keplercam::i, keplercam::us, keplercam::b(out of model wavelength range)\n",
      "  warnings.warn(\"Dropping following bands from data: \" +\n"
     ]
    },
    {
     "name": "stdout",
     "output_type": "stream",
     "text": [
      "6.534199639481992\n",
      "27.942308049260635\n",
      "28.484841019016514\n",
      "73\n"
     ]
    },
    {
     "name": "stderr",
     "output_type": "stream",
     "text": [
      "/home/joao/.local/lib/python3.8/site-packages/sncosmo/fitting.py:187: RuntimeWarning: Dropping following bands from data: megacampsf::r at 7.337149, megacampsf::g at 7.337149(out of model wavelength range)\n",
      "  warnings.warn(\"Dropping following bands from data: \" +\n"
     ]
    },
    {
     "name": "stdout",
     "output_type": "stream",
     "text": [
      "1.7091286717378944\n",
      "1.7173858771564634\n",
      "1.9552721392098744\n",
      "74\n"
     ]
    },
    {
     "name": "stderr",
     "output_type": "stream",
     "text": [
      "/home/joao/.local/lib/python3.8/site-packages/sncosmo/fitting.py:187: RuntimeWarning: Dropping following bands from data: sdss::g, sdss::u, sdss::z(out of model wavelength range)\n",
      "  warnings.warn(\"Dropping following bands from data: \" +\n"
     ]
    },
    {
     "name": "stdout",
     "output_type": "stream",
     "text": [
      "0.7602313112144136\n",
      "0.7376398255853541\n",
      "0.846696913246625\n",
      "75\n"
     ]
    },
    {
     "name": "stderr",
     "output_type": "stream",
     "text": [
      "/home/joao/.local/lib/python3.8/site-packages/sncosmo/fitting.py:187: RuntimeWarning: Dropping following bands from data: megacampsf::g at 10.974379, megacampsf::r at 10.974379(out of model wavelength range)\n",
      "  warnings.warn(\"Dropping following bands from data: \" +\n"
     ]
    },
    {
     "name": "stdout",
     "output_type": "stream",
     "text": [
      "0.6884089893600982\n",
      "0.6710546329440296\n",
      "0.6369407108036834\n",
      "76\n"
     ]
    },
    {
     "name": "stderr",
     "output_type": "stream",
     "text": [
      "/home/joao/.local/lib/python3.8/site-packages/sncosmo/fitting.py:187: RuntimeWarning: Dropping following bands from data: sdss::z(out of model wavelength range)\n",
      "  warnings.warn(\"Dropping following bands from data: \" +\n",
      "/home/joao/.local/lib/python3.8/site-packages/sncosmo/fitting.py:187: RuntimeWarning: Dropping following bands from data: sdss::g, sdss::u, sdss::z(out of model wavelength range)\n",
      "  warnings.warn(\"Dropping following bands from data: \" +\n"
     ]
    },
    {
     "name": "stdout",
     "output_type": "stream",
     "text": [
      "2.1127294050661307\n",
      "1.2113175640261977\n",
      "1.5760534166373406\n",
      "77\n"
     ]
    },
    {
     "name": "stderr",
     "output_type": "stream",
     "text": [
      "/home/joao/.local/lib/python3.8/site-packages/sncosmo/fitting.py:187: RuntimeWarning: Dropping following bands from data: sdss::z(out of model wavelength range)\n",
      "  warnings.warn(\"Dropping following bands from data: \" +\n",
      "/home/joao/.local/lib/python3.8/site-packages/sncosmo/fitting.py:187: RuntimeWarning: Dropping following bands from data: sdss::g, sdss::u, sdss::z(out of model wavelength range)\n",
      "  warnings.warn(\"Dropping following bands from data: \" +\n"
     ]
    },
    {
     "name": "stdout",
     "output_type": "stream",
     "text": [
      "1.744116281870553\n",
      "1.7995171797252982\n",
      "1.7799149160091317\n",
      "78\n"
     ]
    },
    {
     "name": "stderr",
     "output_type": "stream",
     "text": [
      "/home/joao/.local/lib/python3.8/site-packages/sncosmo/fitting.py:187: RuntimeWarning: Dropping following bands from data: megacampsf::r at 3.705632, megacampsf::g at 3.705632(out of model wavelength range)\n",
      "  warnings.warn(\"Dropping following bands from data: \" +\n"
     ]
    },
    {
     "name": "stdout",
     "output_type": "stream",
     "text": [
      "0.6852522965450786\n",
      "0.6543865560212703\n",
      "0.8352935631116856\n",
      "79\n"
     ]
    },
    {
     "name": "stderr",
     "output_type": "stream",
     "text": [
      "/home/joao/.local/lib/python3.8/site-packages/sncosmo/fitting.py:187: RuntimeWarning: Dropping following bands from data: sdss::g, sdss::u, sdss::z(out of model wavelength range)\n",
      "  warnings.warn(\"Dropping following bands from data: \" +\n"
     ]
    },
    {
     "name": "stdout",
     "output_type": "stream",
     "text": [
      "0.776057511683145\n",
      "0.7688934233267418\n",
      "0.7788568916074498\n",
      "80\n"
     ]
    },
    {
     "name": "stderr",
     "output_type": "stream",
     "text": [
      "/home/joao/.local/lib/python3.8/site-packages/sncosmo/fitting.py:187: RuntimeWarning: Dropping following bands from data: sdss::z(out of model wavelength range)\n",
      "  warnings.warn(\"Dropping following bands from data: \" +\n",
      "/home/joao/.local/lib/python3.8/site-packages/sncosmo/fitting.py:187: RuntimeWarning: Dropping following bands from data: sdss::g, sdss::u, sdss::z(out of model wavelength range)\n",
      "  warnings.warn(\"Dropping following bands from data: \" +\n"
     ]
    },
    {
     "name": "stdout",
     "output_type": "stream",
     "text": [
      "0.7933336510225849\n",
      "16.725454369786842\n",
      "12.635469660703235\n",
      "81\n"
     ]
    },
    {
     "name": "stderr",
     "output_type": "stream",
     "text": [
      "/home/joao/.local/lib/python3.8/site-packages/sncosmo/fitting.py:187: RuntimeWarning: Dropping following bands from data: megacampsf::r at 9.797678, megacampsf::g at 9.797678(out of model wavelength range)\n",
      "  warnings.warn(\"Dropping following bands from data: \" +\n"
     ]
    },
    {
     "name": "stdout",
     "output_type": "stream",
     "text": [
      "1.4965871908247637\n",
      "0.7308023369896776\n",
      "1.081513715037024\n",
      "82\n"
     ]
    },
    {
     "name": "stderr",
     "output_type": "stream",
     "text": [
      "/home/joao/.local/lib/python3.8/site-packages/sncosmo/fitting.py:187: RuntimeWarning: Dropping following bands from data: megacampsf::g at 12.202034(out of model wavelength range)\n",
      "  warnings.warn(\"Dropping following bands from data: \" +\n"
     ]
    },
    {
     "name": "stdout",
     "output_type": "stream",
     "text": [
      "1.2461418792052084\n",
      "3.8188068894933496\n",
      "3.950315756465328\n",
      "83\n"
     ]
    },
    {
     "name": "stderr",
     "output_type": "stream",
     "text": [
      "/home/joao/.local/lib/python3.8/site-packages/sncosmo/fitting.py:187: RuntimeWarning: Dropping following bands from data: sdss::g, sdss::u, sdss::z(out of model wavelength range)\n",
      "  warnings.warn(\"Dropping following bands from data: \" +\n"
     ]
    },
    {
     "name": "stdout",
     "output_type": "stream",
     "text": [
      "1.1409670079457683\n",
      "1.0828464420586632\n",
      "1.0381763829903712\n",
      "84\n"
     ]
    },
    {
     "name": "stderr",
     "output_type": "stream",
     "text": [
      "/home/joao/.local/lib/python3.8/site-packages/sncosmo/fitting.py:187: RuntimeWarning: Dropping following bands from data: swope2::b, swope2::u(out of model wavelength range)\n",
      "  warnings.warn(\"Dropping following bands from data: \" +\n"
     ]
    },
    {
     "name": "stdout",
     "output_type": "stream",
     "text": [
      "20.863330084988377\n",
      "160.75652497660536\n",
      "229.55187734809775\n",
      "85\n"
     ]
    },
    {
     "name": "stderr",
     "output_type": "stream",
     "text": [
      "/home/joao/.local/lib/python3.8/site-packages/sncosmo/fitting.py:187: RuntimeWarning: Dropping following bands from data: sdss::g, sdss::u(out of model wavelength range)\n",
      "  warnings.warn(\"Dropping following bands from data: \" +\n"
     ]
    },
    {
     "name": "stdout",
     "output_type": "stream",
     "text": [
      "1.0013978547192903\n",
      "0.9836427995377769\n",
      "0.998681002761201\n",
      "86\n"
     ]
    },
    {
     "name": "stderr",
     "output_type": "stream",
     "text": [
      "/home/joao/.local/lib/python3.8/site-packages/sncosmo/fitting.py:187: RuntimeWarning: Dropping following bands from data: sdss::g, sdss::u(out of model wavelength range)\n",
      "  warnings.warn(\"Dropping following bands from data: \" +\n"
     ]
    },
    {
     "name": "stdout",
     "output_type": "stream",
     "text": [
      "0.5759997730519947\n",
      "0.6431016796952207\n",
      "0.6468300299197987\n",
      "87\n"
     ]
    },
    {
     "name": "stderr",
     "output_type": "stream",
     "text": [
      "/home/joao/.local/lib/python3.8/site-packages/sncosmo/fitting.py:187: RuntimeWarning: Dropping following bands from data: sdss::z(out of model wavelength range)\n",
      "  warnings.warn(\"Dropping following bands from data: \" +\n",
      "/home/joao/.local/lib/python3.8/site-packages/sncosmo/fitting.py:187: RuntimeWarning: Dropping following bands from data: sdss::g, sdss::u, sdss::z(out of model wavelength range)\n",
      "  warnings.warn(\"Dropping following bands from data: \" +\n"
     ]
    },
    {
     "name": "stdout",
     "output_type": "stream",
     "text": [
      "1.2201772109257771\n",
      "1.4095439495740902\n",
      "1.495199920279759\n",
      "88\n"
     ]
    },
    {
     "name": "stderr",
     "output_type": "stream",
     "text": [
      "/home/joao/.local/lib/python3.8/site-packages/sncosmo/fitting.py:187: RuntimeWarning: Dropping following bands from data: sdss::z(out of model wavelength range)\n",
      "  warnings.warn(\"Dropping following bands from data: \" +\n",
      "/home/joao/.local/lib/python3.8/site-packages/sncosmo/fitting.py:187: RuntimeWarning: Dropping following bands from data: sdss::g, sdss::u, sdss::z(out of model wavelength range)\n",
      "  warnings.warn(\"Dropping following bands from data: \" +\n"
     ]
    },
    {
     "name": "stdout",
     "output_type": "stream",
     "text": [
      "1.5736682929673624\n",
      "6.271165237605334\n",
      "10.27105732568219\n",
      "89\n"
     ]
    },
    {
     "name": "stderr",
     "output_type": "stream",
     "text": [
      "/home/joao/.local/lib/python3.8/site-packages/sncosmo/fitting.py:187: RuntimeWarning: Dropping following bands from data: sdss::z(out of model wavelength range)\n",
      "  warnings.warn(\"Dropping following bands from data: \" +\n",
      "/home/joao/.local/lib/python3.8/site-packages/sncosmo/fitting.py:187: RuntimeWarning: Dropping following bands from data: sdss::g, sdss::u, sdss::z(out of model wavelength range)\n",
      "  warnings.warn(\"Dropping following bands from data: \" +\n"
     ]
    },
    {
     "name": "stdout",
     "output_type": "stream",
     "text": [
      "0.680753008584371\n",
      "0.7074996505990166\n",
      "0.7315552855157088\n",
      "90\n"
     ]
    },
    {
     "name": "stderr",
     "output_type": "stream",
     "text": [
      "/home/joao/.local/lib/python3.8/site-packages/sncosmo/fitting.py:187: RuntimeWarning: Dropping following bands from data: sdss::z(out of model wavelength range)\n",
      "  warnings.warn(\"Dropping following bands from data: \" +\n",
      "/home/joao/.local/lib/python3.8/site-packages/sncosmo/fitting.py:187: RuntimeWarning: Dropping following bands from data: sdss::g, sdss::u, sdss::z(out of model wavelength range)\n",
      "  warnings.warn(\"Dropping following bands from data: \" +\n"
     ]
    },
    {
     "name": "stdout",
     "output_type": "stream",
     "text": [
      "0.5659654231947694\n",
      "0.8408187917832475\n",
      "0.7323859069334097\n",
      "91\n"
     ]
    },
    {
     "name": "stderr",
     "output_type": "stream",
     "text": [
      "/home/joao/.local/lib/python3.8/site-packages/sncosmo/fitting.py:187: RuntimeWarning: Dropping following bands from data: sdss::z(out of model wavelength range)\n",
      "  warnings.warn(\"Dropping following bands from data: \" +\n",
      "/home/joao/.local/lib/python3.8/site-packages/sncosmo/fitting.py:187: RuntimeWarning: Dropping following bands from data: sdss::g, sdss::u, sdss::z(out of model wavelength range)\n",
      "  warnings.warn(\"Dropping following bands from data: \" +\n"
     ]
    },
    {
     "name": "stdout",
     "output_type": "stream",
     "text": [
      "2.19960755060615\n",
      "4.73805894797006\n",
      "4.5963926584563035\n",
      "92\n"
     ]
    },
    {
     "name": "stderr",
     "output_type": "stream",
     "text": [
      "/home/joao/.local/lib/python3.8/site-packages/sncosmo/fitting.py:187: RuntimeWarning: Dropping following bands from data: megacampsf::i at 4.822673, megacampsf::r at 4.822673, megacampsf::g at 4.822673(out of model wavelength range)\n",
      "  warnings.warn(\"Dropping following bands from data: \" +\n"
     ]
    },
    {
     "name": "stdout",
     "output_type": "stream",
     "text": [
      "1.0954410654181006\n",
      "93\n"
     ]
    },
    {
     "name": "stderr",
     "output_type": "stream",
     "text": [
      "/home/joao/.local/lib/python3.8/site-packages/sncosmo/fitting.py:187: RuntimeWarning: Dropping following bands from data: megacampsf::g at 10.872058(out of model wavelength range)\n",
      "  warnings.warn(\"Dropping following bands from data: \" +\n"
     ]
    },
    {
     "name": "stdout",
     "output_type": "stream",
     "text": [
      "0.8282569041111066\n",
      "1.3238763822735793\n",
      "0.914923976977963\n",
      "94\n"
     ]
    },
    {
     "name": "stderr",
     "output_type": "stream",
     "text": [
      "/home/joao/.local/lib/python3.8/site-packages/sncosmo/fitting.py:187: RuntimeWarning: Dropping following bands from data: megacampsf::r at 16.129693, megacampsf::i at 16.129693, megacampsf::g at 16.129693(out of model wavelength range)\n",
      "  warnings.warn(\"Dropping following bands from data: \" +\n"
     ]
    },
    {
     "name": "stdout",
     "output_type": "stream",
     "text": [
      "0.98339136805583\n",
      "1.057516252469845\n",
      "1.083335540578693\n",
      "95\n"
     ]
    },
    {
     "name": "stderr",
     "output_type": "stream",
     "text": [
      "/home/joao/.local/lib/python3.8/site-packages/sncosmo/fitting.py:187: RuntimeWarning: Dropping following bands from data: standard::b(out of model wavelength range)\n",
      "  warnings.warn(\"Dropping following bands from data: \" +\n"
     ]
    },
    {
     "name": "stdout",
     "output_type": "stream",
     "text": [
      "0.8981119514250194\n",
      "0.48398201075669994\n",
      "0.5499366270053632\n",
      "96\n"
     ]
    },
    {
     "name": "stderr",
     "output_type": "stream",
     "text": [
      "/home/joao/.local/lib/python3.8/site-packages/sncosmo/fitting.py:187: RuntimeWarning: Dropping following bands from data: keplercam::i, keplercam::us, keplercam::b(out of model wavelength range)\n",
      "  warnings.warn(\"Dropping following bands from data: \" +\n"
     ]
    },
    {
     "name": "stdout",
     "output_type": "stream",
     "text": [
      "13.648685572918195\n",
      "132.66133732284678\n",
      "113.18556580442608\n",
      "97\n"
     ]
    },
    {
     "name": "stderr",
     "output_type": "stream",
     "text": [
      "/home/joao/.local/lib/python3.8/site-packages/sncosmo/fitting.py:187: RuntimeWarning: Dropping following bands from data: keplercam::i, keplercam::b(out of model wavelength range)\n",
      "  warnings.warn(\"Dropping following bands from data: \" +\n"
     ]
    },
    {
     "name": "stdout",
     "output_type": "stream",
     "text": [
      "3.8563805933639568\n",
      "44.049980027075755\n",
      "98\n"
     ]
    },
    {
     "name": "stderr",
     "output_type": "stream",
     "text": [
      "/home/joao/.local/lib/python3.8/site-packages/sncosmo/fitting.py:187: RuntimeWarning: Dropping following bands from data: acswf::f606w(out of model wavelength range)\n",
      "  warnings.warn(\"Dropping following bands from data: \" +\n"
     ]
    },
    {
     "name": "stdout",
     "output_type": "stream",
     "text": [
      "2.917137591109223\n",
      "4.00576674991084\n",
      "1.6200787866638624\n",
      "99\n"
     ]
    },
    {
     "name": "stderr",
     "output_type": "stream",
     "text": [
      "/home/joao/.local/lib/python3.8/site-packages/sncosmo/fitting.py:187: RuntimeWarning: Dropping following bands from data: standard::r, standard::i(out of model wavelength range)\n",
      "  warnings.warn(\"Dropping following bands from data: \" +\n"
     ]
    },
    {
     "name": "stdout",
     "output_type": "stream",
     "text": [
      "4.011369564801535\n",
      "66.4154708631283\n",
      "27.511562749004653\n",
      "100\n"
     ]
    },
    {
     "name": "stderr",
     "output_type": "stream",
     "text": [
      "/home/joao/.local/lib/python3.8/site-packages/sncosmo/fitting.py:187: RuntimeWarning: Dropping following bands from data: megacampsf::g at 13.297299(out of model wavelength range)\n",
      "  warnings.warn(\"Dropping following bands from data: \" +\n"
     ]
    },
    {
     "name": "stdout",
     "output_type": "stream",
     "text": [
      "1.1433866391380207\n",
      "1.8752100412311932\n",
      "3.1709477528737526\n",
      "101\n"
     ]
    },
    {
     "name": "stderr",
     "output_type": "stream",
     "text": [
      "/home/joao/.local/lib/python3.8/site-packages/sncosmo/fitting.py:187: RuntimeWarning: Dropping following bands from data: sdss::z(out of model wavelength range)\n",
      "  warnings.warn(\"Dropping following bands from data: \" +\n",
      "/home/joao/.local/lib/python3.8/site-packages/sncosmo/fitting.py:187: RuntimeWarning: Dropping following bands from data: sdss::g, sdss::u, sdss::z(out of model wavelength range)\n",
      "  warnings.warn(\"Dropping following bands from data: \" +\n"
     ]
    },
    {
     "name": "stdout",
     "output_type": "stream",
     "text": [
      "0.7149724087774517\n",
      "0.7732137017561548\n",
      "0.7850428773783092\n",
      "102\n"
     ]
    },
    {
     "name": "stderr",
     "output_type": "stream",
     "text": [
      "/home/joao/.local/lib/python3.8/site-packages/sncosmo/fitting.py:187: RuntimeWarning: Dropping following bands from data: standard::r, standard::i, standard::u(out of model wavelength range)\n",
      "  warnings.warn(\"Dropping following bands from data: \" +\n"
     ]
    },
    {
     "name": "stdout",
     "output_type": "stream",
     "text": [
      "6.465505069055831\n",
      "23.760034392205807\n",
      "36.98668681007943\n",
      "103\n"
     ]
    },
    {
     "name": "stderr",
     "output_type": "stream",
     "text": [
      "/home/joao/.local/lib/python3.8/site-packages/sncosmo/fitting.py:187: RuntimeWarning: Dropping following bands from data: 4shooter2::us, 4shooter2::i, 4shooter2::r, 4shooter2::b(out of model wavelength range)\n",
      "  warnings.warn(\"Dropping following bands from data: \" +\n"
     ]
    },
    {
     "name": "stdout",
     "output_type": "stream",
     "text": [
      "1.3070459530283787\n",
      "104\n"
     ]
    },
    {
     "name": "stderr",
     "output_type": "stream",
     "text": [
      "/home/joao/.local/lib/python3.8/site-packages/sncosmo/fitting.py:187: RuntimeWarning: Dropping following bands from data: megacampsf::r at 8.715451, megacampsf::g at 8.715451(out of model wavelength range)\n",
      "  warnings.warn(\"Dropping following bands from data: \" +\n"
     ]
    },
    {
     "name": "stdout",
     "output_type": "stream",
     "text": [
      "1.2106953047055506\n",
      "1.8888337961848087\n",
      "1.9495311117581444\n",
      "105\n"
     ]
    },
    {
     "name": "stderr",
     "output_type": "stream",
     "text": [
      "/home/joao/.local/lib/python3.8/site-packages/sncosmo/fitting.py:187: RuntimeWarning: Dropping following bands from data: sdss::z(out of model wavelength range)\n",
      "  warnings.warn(\"Dropping following bands from data: \" +\n",
      "/home/joao/.local/lib/python3.8/site-packages/sncosmo/fitting.py:187: RuntimeWarning: Dropping following bands from data: sdss::g, sdss::u, sdss::z(out of model wavelength range)\n",
      "  warnings.warn(\"Dropping following bands from data: \" +\n"
     ]
    },
    {
     "name": "stdout",
     "output_type": "stream",
     "text": [
      "1.2466634168604067\n",
      "2.8237674213689408\n",
      "5.70834075479339\n",
      "106\n"
     ]
    },
    {
     "name": "stderr",
     "output_type": "stream",
     "text": [
      "/home/joao/.local/lib/python3.8/site-packages/sncosmo/fitting.py:187: RuntimeWarning: Dropping following bands from data: sdss::z(out of model wavelength range)\n",
      "  warnings.warn(\"Dropping following bands from data: \" +\n",
      "/home/joao/.local/lib/python3.8/site-packages/sncosmo/fitting.py:187: RuntimeWarning: Dropping following bands from data: sdss::g, sdss::u, sdss::z(out of model wavelength range)\n",
      "  warnings.warn(\"Dropping following bands from data: \" +\n"
     ]
    },
    {
     "name": "stdout",
     "output_type": "stream",
     "text": [
      "1.4761279116829527\n",
      "3.2403821948934577\n",
      "4.075125955229279\n",
      "107\n"
     ]
    },
    {
     "name": "stderr",
     "output_type": "stream",
     "text": [
      "/home/joao/.local/lib/python3.8/site-packages/sncosmo/fitting.py:187: RuntimeWarning: Dropping following bands from data: megacampsf::g at 5.185655(out of model wavelength range)\n",
      "  warnings.warn(\"Dropping following bands from data: \" +\n"
     ]
    },
    {
     "name": "stdout",
     "output_type": "stream",
     "text": [
      "5.978297963032804\n",
      "58.24640487821009\n",
      "77.91782728282921\n",
      "108\n"
     ]
    },
    {
     "name": "stderr",
     "output_type": "stream",
     "text": [
      "/home/joao/.local/lib/python3.8/site-packages/sncosmo/fitting.py:187: RuntimeWarning: Dropping following bands from data: megacampsf::g at 2.745259, megacampsf::r at 2.745259(out of model wavelength range)\n",
      "  warnings.warn(\"Dropping following bands from data: \" +\n"
     ]
    },
    {
     "name": "stdout",
     "output_type": "stream",
     "text": [
      "1.5059548474507654\n",
      "2.153137468513297\n",
      "2.7527372213058814\n",
      "109\n"
     ]
    },
    {
     "name": "stderr",
     "output_type": "stream",
     "text": [
      "/home/joao/.local/lib/python3.8/site-packages/sncosmo/fitting.py:187: RuntimeWarning: Dropping following bands from data: megacampsf::r at 10.846566, megacampsf::g at 10.846566(out of model wavelength range)\n",
      "  warnings.warn(\"Dropping following bands from data: \" +\n"
     ]
    },
    {
     "name": "stdout",
     "output_type": "stream",
     "text": [
      "1.2189835492789876\n",
      "1.1720156247947076\n",
      "1.2265844208241385\n",
      "110\n"
     ]
    },
    {
     "name": "stderr",
     "output_type": "stream",
     "text": [
      "/home/joao/.local/lib/python3.8/site-packages/sncosmo/fitting.py:187: RuntimeWarning: Dropping following bands from data: sdss::g, sdss::u, sdss::z(out of model wavelength range)\n",
      "  warnings.warn(\"Dropping following bands from data: \" +\n"
     ]
    },
    {
     "name": "stdout",
     "output_type": "stream",
     "text": [
      "0.9928757458168963\n",
      "0.8825132850990716\n",
      "1.0223176780726504\n",
      "111\n"
     ]
    },
    {
     "name": "stderr",
     "output_type": "stream",
     "text": [
      "/home/joao/.local/lib/python3.8/site-packages/sncosmo/fitting.py:187: RuntimeWarning: Dropping following bands from data: keplercam::i, keplercam::us, keplercam::b(out of model wavelength range)\n",
      "  warnings.warn(\"Dropping following bands from data: \" +\n"
     ]
    },
    {
     "name": "stdout",
     "output_type": "stream",
     "text": [
      "19.236187890692435\n",
      "3.27048596912866\n",
      "3.7219970234933872\n",
      "112\n"
     ]
    },
    {
     "name": "stderr",
     "output_type": "stream",
     "text": [
      "/home/joao/.local/lib/python3.8/site-packages/sncosmo/fitting.py:187: RuntimeWarning: Dropping following bands from data: megacampsf::g at 14.325307, megacampsf::r at 14.325307(out of model wavelength range)\n",
      "  warnings.warn(\"Dropping following bands from data: \" +\n"
     ]
    },
    {
     "name": "stdout",
     "output_type": "stream",
     "text": [
      "1.2569792363970942\n",
      "1.6676158172302098\n",
      "1.952352427288845\n",
      "113\n"
     ]
    },
    {
     "name": "stderr",
     "output_type": "stream",
     "text": [
      "/home/joao/.local/lib/python3.8/site-packages/sncosmo/fitting.py:187: RuntimeWarning: Dropping following bands from data: sdss::z(out of model wavelength range)\n",
      "  warnings.warn(\"Dropping following bands from data: \" +\n",
      "/home/joao/.local/lib/python3.8/site-packages/sncosmo/fitting.py:187: RuntimeWarning: Dropping following bands from data: sdss::g, sdss::u, sdss::z(out of model wavelength range)\n",
      "  warnings.warn(\"Dropping following bands from data: \" +\n"
     ]
    },
    {
     "name": "stdout",
     "output_type": "stream",
     "text": [
      "0.7836080089764254\n",
      "0.7631915896727091\n",
      "0.7645384326216988\n",
      "114\n"
     ]
    },
    {
     "name": "stderr",
     "output_type": "stream",
     "text": [
      "/home/joao/.local/lib/python3.8/site-packages/sncosmo/fitting.py:187: RuntimeWarning: Dropping following bands from data: sdss::z(out of model wavelength range)\n",
      "  warnings.warn(\"Dropping following bands from data: \" +\n",
      "/home/joao/.local/lib/python3.8/site-packages/sncosmo/fitting.py:187: RuntimeWarning: Dropping following bands from data: sdss::g, sdss::u, sdss::z(out of model wavelength range)\n",
      "  warnings.warn(\"Dropping following bands from data: \" +\n"
     ]
    },
    {
     "name": "stdout",
     "output_type": "stream",
     "text": [
      "0.5851853767049187\n",
      "0.8592658890413407\n",
      "1.0325974703332226\n",
      "115\n"
     ]
    },
    {
     "name": "stderr",
     "output_type": "stream",
     "text": [
      "/home/joao/.local/lib/python3.8/site-packages/sncosmo/fitting.py:187: RuntimeWarning: Dropping following bands from data: sdss::g, sdss::u(out of model wavelength range)\n",
      "  warnings.warn(\"Dropping following bands from data: \" +\n"
     ]
    },
    {
     "name": "stdout",
     "output_type": "stream",
     "text": [
      "0.45031454524386616\n",
      "0.44753887442871176\n",
      "0.4494487363451065\n",
      "116\n"
     ]
    },
    {
     "name": "stderr",
     "output_type": "stream",
     "text": [
      "/home/joao/.local/lib/python3.8/site-packages/sncosmo/fitting.py:187: RuntimeWarning: Dropping following bands from data: sdss::z(out of model wavelength range)\n",
      "  warnings.warn(\"Dropping following bands from data: \" +\n",
      "/home/joao/.local/lib/python3.8/site-packages/sncosmo/fitting.py:187: RuntimeWarning: Dropping following bands from data: sdss::g, sdss::u, sdss::z(out of model wavelength range)\n",
      "  warnings.warn(\"Dropping following bands from data: \" +\n"
     ]
    },
    {
     "name": "stdout",
     "output_type": "stream",
     "text": [
      "1.427253337619602\n",
      "2.2800335618680148\n",
      "1.9825840345862766\n",
      "117\n"
     ]
    },
    {
     "name": "stderr",
     "output_type": "stream",
     "text": [
      "/home/joao/.local/lib/python3.8/site-packages/sncosmo/fitting.py:187: RuntimeWarning: Dropping following bands from data: standard::r, standard::i(out of model wavelength range)\n",
      "  warnings.warn(\"Dropping following bands from data: \" +\n"
     ]
    },
    {
     "name": "stdout",
     "output_type": "stream",
     "text": [
      "4.478737603253018\n",
      "4.640479901336765\n",
      "2.4315911319083328\n",
      "118\n"
     ]
    },
    {
     "name": "stderr",
     "output_type": "stream",
     "text": [
      "/home/joao/.local/lib/python3.8/site-packages/sncosmo/fitting.py:187: RuntimeWarning: Dropping following bands from data: megacampsf::r at 9.104826, megacampsf::g at 9.104826(out of model wavelength range)\n",
      "  warnings.warn(\"Dropping following bands from data: \" +\n"
     ]
    },
    {
     "name": "stdout",
     "output_type": "stream",
     "text": [
      "1.3866738383970894\n",
      "3.479161329009102\n",
      "1.630310383618703\n",
      "119\n"
     ]
    },
    {
     "name": "stderr",
     "output_type": "stream",
     "text": [
      "/home/joao/.local/lib/python3.8/site-packages/sncosmo/fitting.py:187: RuntimeWarning: Dropping following bands from data: acswf::f775w(out of model wavelength range)\n",
      "  warnings.warn(\"Dropping following bands from data: \" +\n"
     ]
    },
    {
     "name": "stdout",
     "output_type": "stream",
     "text": [
      "1.5080125714576105\n",
      "2.147610733480443\n",
      "1.7828665758508382\n",
      "120\n"
     ]
    },
    {
     "name": "stderr",
     "output_type": "stream",
     "text": [
      "/home/joao/.local/lib/python3.8/site-packages/sncosmo/fitting.py:187: RuntimeWarning: Dropping following bands from data: sdss::z(out of model wavelength range)\n",
      "  warnings.warn(\"Dropping following bands from data: \" +\n",
      "/home/joao/.local/lib/python3.8/site-packages/sncosmo/fitting.py:187: RuntimeWarning: Dropping following bands from data: sdss::g, sdss::z(out of model wavelength range)\n",
      "  warnings.warn(\"Dropping following bands from data: \" +\n"
     ]
    },
    {
     "name": "stdout",
     "output_type": "stream",
     "text": [
      "0.6466792535801812\n",
      "1.53795893889668\n",
      "0.7323980940806066\n",
      "121\n"
     ]
    },
    {
     "name": "stderr",
     "output_type": "stream",
     "text": [
      "/home/joao/.local/lib/python3.8/site-packages/sncosmo/fitting.py:187: RuntimeWarning: Dropping following bands from data: sdss::z(out of model wavelength range)\n",
      "  warnings.warn(\"Dropping following bands from data: \" +\n",
      "/home/joao/.local/lib/python3.8/site-packages/sncosmo/fitting.py:187: RuntimeWarning: Dropping following bands from data: sdss::u, keplercam::b, sdss::z, sdss::g, keplercam::us(out of model wavelength range)\n",
      "  warnings.warn(\"Dropping following bands from data: \" +\n"
     ]
    },
    {
     "name": "stdout",
     "output_type": "stream",
     "text": [
      "2.841274818332026\n",
      "6.443278423611152\n",
      "4.339518943339668\n",
      "122\n"
     ]
    },
    {
     "name": "stderr",
     "output_type": "stream",
     "text": [
      "/home/joao/.local/lib/python3.8/site-packages/sncosmo/fitting.py:187: RuntimeWarning: Dropping following bands from data: keplercam::i, keplercam::b(out of model wavelength range)\n",
      "  warnings.warn(\"Dropping following bands from data: \" +\n"
     ]
    },
    {
     "name": "stdout",
     "output_type": "stream",
     "text": [
      "7.2359183065008414\n",
      "21.2237605067681\n",
      "52.664380277809244\n",
      "123\n"
     ]
    },
    {
     "name": "stderr",
     "output_type": "stream",
     "text": [
      "/home/joao/.local/lib/python3.8/site-packages/sncosmo/fitting.py:187: RuntimeWarning: Dropping following bands from data: sdss::z(out of model wavelength range)\n",
      "  warnings.warn(\"Dropping following bands from data: \" +\n",
      "/home/joao/.local/lib/python3.8/site-packages/sncosmo/fitting.py:187: RuntimeWarning: Dropping following bands from data: sdss::g, sdss::u, sdss::z(out of model wavelength range)\n",
      "  warnings.warn(\"Dropping following bands from data: \" +\n"
     ]
    },
    {
     "name": "stdout",
     "output_type": "stream",
     "text": [
      "1.0924226915813724\n",
      "1.290200136866585\n",
      "0.6309691265130603\n",
      "124\n"
     ]
    },
    {
     "name": "stderr",
     "output_type": "stream",
     "text": [
      "/home/joao/.local/lib/python3.8/site-packages/sncosmo/fitting.py:187: RuntimeWarning: Dropping following bands from data: sdss::z(out of model wavelength range)\n",
      "  warnings.warn(\"Dropping following bands from data: \" +\n",
      "/home/joao/.local/lib/python3.8/site-packages/sncosmo/fitting.py:187: RuntimeWarning: Dropping following bands from data: sdss::g, sdss::u, sdss::z(out of model wavelength range)\n",
      "  warnings.warn(\"Dropping following bands from data: \" +\n"
     ]
    },
    {
     "name": "stdout",
     "output_type": "stream",
     "text": [
      "0.9238494983323885\n",
      "2.644770182117551\n",
      "1.2156171526390291\n",
      "125\n"
     ]
    },
    {
     "name": "stderr",
     "output_type": "stream",
     "text": [
      "/home/joao/.local/lib/python3.8/site-packages/sncosmo/fitting.py:187: RuntimeWarning: Dropping following bands from data: megacampsf::g at 13.044258, megacampsf::r at 13.044258(out of model wavelength range)\n",
      "  warnings.warn(\"Dropping following bands from data: \" +\n"
     ]
    },
    {
     "name": "stdout",
     "output_type": "stream",
     "text": [
      "1.038623131909692\n",
      "1.112206938364312\n",
      "1.4504033166217474\n",
      "126\n"
     ]
    },
    {
     "name": "stderr",
     "output_type": "stream",
     "text": [
      "/home/joao/.local/lib/python3.8/site-packages/sncosmo/fitting.py:187: RuntimeWarning: Dropping following bands from data: sdss::g, sdss::u, sdss::z(out of model wavelength range)\n",
      "  warnings.warn(\"Dropping following bands from data: \" +\n"
     ]
    },
    {
     "name": "stdout",
     "output_type": "stream",
     "text": [
      "2.7796317437108744\n",
      "1.254529355893411\n",
      "1.2412828865171714\n",
      "127\n"
     ]
    },
    {
     "name": "stderr",
     "output_type": "stream",
     "text": [
      "/home/joao/.local/lib/python3.8/site-packages/sncosmo/fitting.py:187: RuntimeWarning: Dropping following bands from data: megacampsf::r at 12.114595, megacampsf::g at 12.114595(out of model wavelength range)\n",
      "  warnings.warn(\"Dropping following bands from data: \" +\n"
     ]
    },
    {
     "name": "stdout",
     "output_type": "stream",
     "text": [
      "2.1974781746715752\n",
      "3.6243306749601825\n",
      "4.25982322776314\n",
      "128\n"
     ]
    },
    {
     "name": "stderr",
     "output_type": "stream",
     "text": [
      "/home/joao/.local/lib/python3.8/site-packages/sncosmo/fitting.py:187: RuntimeWarning: Dropping following bands from data: megacampsf::r at 12.621749, megacampsf::g at 12.621749(out of model wavelength range)\n",
      "  warnings.warn(\"Dropping following bands from data: \" +\n"
     ]
    },
    {
     "name": "stdout",
     "output_type": "stream",
     "text": [
      "1.4435116584983743\n",
      "2.260027472373457\n",
      "1.760512093696171\n",
      "129\n"
     ]
    },
    {
     "name": "stderr",
     "output_type": "stream",
     "text": [
      "/home/joao/.local/lib/python3.8/site-packages/sncosmo/fitting.py:187: RuntimeWarning: Dropping following bands from data: sdss::z(out of model wavelength range)\n",
      "  warnings.warn(\"Dropping following bands from data: \" +\n",
      "/home/joao/.local/lib/python3.8/site-packages/sncosmo/fitting.py:187: RuntimeWarning: Dropping following bands from data: sdss::g, sdss::u, sdss::z(out of model wavelength range)\n",
      "  warnings.warn(\"Dropping following bands from data: \" +\n"
     ]
    },
    {
     "name": "stdout",
     "output_type": "stream",
     "text": [
      "0.5947460561515736\n",
      "0.4651021558172696\n",
      "0.49644060120478745\n",
      "130\n"
     ]
    },
    {
     "name": "stderr",
     "output_type": "stream",
     "text": [
      "/home/joao/.local/lib/python3.8/site-packages/sncosmo/fitting.py:187: RuntimeWarning: Dropping following bands from data: sdss::z(out of model wavelength range)\n",
      "  warnings.warn(\"Dropping following bands from data: \" +\n",
      "/home/joao/.local/lib/python3.8/site-packages/sncosmo/fitting.py:187: RuntimeWarning: Dropping following bands from data: sdss::g, sdss::u, sdss::z(out of model wavelength range)\n",
      "  warnings.warn(\"Dropping following bands from data: \" +\n"
     ]
    },
    {
     "name": "stdout",
     "output_type": "stream",
     "text": [
      "0.7706443890581357\n",
      "0.4381843095750866\n",
      "0.4350184911747443\n",
      "131\n"
     ]
    },
    {
     "name": "stderr",
     "output_type": "stream",
     "text": [
      "/home/joao/.local/lib/python3.8/site-packages/sncosmo/fitting.py:187: RuntimeWarning: Dropping following bands from data: sdss::z(out of model wavelength range)\n",
      "  warnings.warn(\"Dropping following bands from data: \" +\n",
      "/home/joao/.local/lib/python3.8/site-packages/sncosmo/fitting.py:187: RuntimeWarning: Dropping following bands from data: sdss::g, sdss::u, sdss::z(out of model wavelength range)\n",
      "  warnings.warn(\"Dropping following bands from data: \" +\n"
     ]
    },
    {
     "name": "stdout",
     "output_type": "stream",
     "text": [
      "0.7193331973744033\n",
      "0.793649672455563\n",
      "0.7756401760447611\n",
      "132\n"
     ]
    },
    {
     "name": "stderr",
     "output_type": "stream",
     "text": [
      "/home/joao/.local/lib/python3.8/site-packages/sncosmo/fitting.py:187: RuntimeWarning: Dropping following bands from data: megacampsf::r at 10.137537, megacampsf::g at 10.137537(out of model wavelength range)\n",
      "  warnings.warn(\"Dropping following bands from data: \" +\n"
     ]
    },
    {
     "name": "stdout",
     "output_type": "stream",
     "text": [
      "0.9707819997726663\n",
      "1.0073431627131701\n",
      "1.4925653847613336\n",
      "133\n"
     ]
    },
    {
     "name": "stderr",
     "output_type": "stream",
     "text": [
      "/home/joao/.local/lib/python3.8/site-packages/sncosmo/fitting.py:187: RuntimeWarning: Dropping following bands from data: sdss::g, sdss::u, sdss::z(out of model wavelength range)\n",
      "  warnings.warn(\"Dropping following bands from data: \" +\n"
     ]
    },
    {
     "name": "stdout",
     "output_type": "stream",
     "text": [
      "0.8418485467044894\n",
      "0.7053773005665783\n",
      "0.9579084749594012\n",
      "134\n"
     ]
    },
    {
     "name": "stderr",
     "output_type": "stream",
     "text": [
      "/home/joao/.local/lib/python3.8/site-packages/sncosmo/fitting.py:187: RuntimeWarning: Dropping following bands from data: sdss::g, sdss::u, sdss::z(out of model wavelength range)\n",
      "  warnings.warn(\"Dropping following bands from data: \" +\n"
     ]
    },
    {
     "name": "stdout",
     "output_type": "stream",
     "text": [
      "1.3334170826629792\n",
      "1.4883960206114928\n",
      "1.3912602188516376\n",
      "135\n"
     ]
    },
    {
     "name": "stderr",
     "output_type": "stream",
     "text": [
      "/home/joao/.local/lib/python3.8/site-packages/sncosmo/fitting.py:187: RuntimeWarning: Dropping following bands from data: sdss::z(out of model wavelength range)\n",
      "  warnings.warn(\"Dropping following bands from data: \" +\n",
      "/home/joao/.local/lib/python3.8/site-packages/sncosmo/fitting.py:187: RuntimeWarning: Dropping following bands from data: sdss::g, sdss::u, sdss::z(out of model wavelength range)\n",
      "  warnings.warn(\"Dropping following bands from data: \" +\n"
     ]
    },
    {
     "name": "stdout",
     "output_type": "stream",
     "text": [
      "0.8326444796007713\n",
      "1.6530587598511859\n",
      "1.6965706198044488\n",
      "136\n"
     ]
    },
    {
     "name": "stderr",
     "output_type": "stream",
     "text": [
      "/home/joao/.local/lib/python3.8/site-packages/sncosmo/fitting.py:187: RuntimeWarning: Dropping following bands from data: sdss::z(out of model wavelength range)\n",
      "  warnings.warn(\"Dropping following bands from data: \" +\n",
      "/home/joao/.local/lib/python3.8/site-packages/sncosmo/fitting.py:187: RuntimeWarning: Dropping following bands from data: sdss::g, sdss::u, sdss::z(out of model wavelength range)\n",
      "  warnings.warn(\"Dropping following bands from data: \" +\n"
     ]
    },
    {
     "name": "stdout",
     "output_type": "stream",
     "text": [
      "0.7782366218103326\n",
      "0.6601069847653127\n",
      "0.9510357230138221\n",
      "137\n"
     ]
    },
    {
     "name": "stderr",
     "output_type": "stream",
     "text": [
      "/home/joao/.local/lib/python3.8/site-packages/sncosmo/fitting.py:187: RuntimeWarning: Dropping following bands from data: sdss::z(out of model wavelength range)\n",
      "  warnings.warn(\"Dropping following bands from data: \" +\n",
      "/home/joao/.local/lib/python3.8/site-packages/sncosmo/fitting.py:187: RuntimeWarning: Dropping following bands from data: sdss::g, sdss::u, sdss::z(out of model wavelength range)\n",
      "  warnings.warn(\"Dropping following bands from data: \" +\n"
     ]
    },
    {
     "name": "stdout",
     "output_type": "stream",
     "text": [
      "0.6682613466295695\n",
      "138\n"
     ]
    },
    {
     "name": "stderr",
     "output_type": "stream",
     "text": [
      "/home/joao/.local/lib/python3.8/site-packages/sncosmo/fitting.py:187: RuntimeWarning: Dropping following bands from data: sdss::g, sdss::u, sdss::z(out of model wavelength range)\n",
      "  warnings.warn(\"Dropping following bands from data: \" +\n"
     ]
    },
    {
     "name": "stdout",
     "output_type": "stream",
     "text": [
      "0.7332385550414667\n",
      "1.075170980449668\n",
      "0.940981488213393\n",
      "139\n"
     ]
    },
    {
     "name": "stderr",
     "output_type": "stream",
     "text": [
      "/home/joao/.local/lib/python3.8/site-packages/sncosmo/fitting.py:187: RuntimeWarning: Dropping following bands from data: keplercam::i, keplercam::b(out of model wavelength range)\n",
      "  warnings.warn(\"Dropping following bands from data: \" +\n"
     ]
    },
    {
     "name": "stdout",
     "output_type": "stream",
     "text": [
      "4.189260389224762\n",
      "7.755880170187948\n",
      "8.2492533756205\n",
      "140\n"
     ]
    },
    {
     "name": "stderr",
     "output_type": "stream",
     "text": [
      "/home/joao/.local/lib/python3.8/site-packages/sncosmo/fitting.py:187: RuntimeWarning: Dropping following bands from data: sdss::z(out of model wavelength range)\n",
      "  warnings.warn(\"Dropping following bands from data: \" +\n",
      "/home/joao/.local/lib/python3.8/site-packages/sncosmo/fitting.py:187: RuntimeWarning: Dropping following bands from data: sdss::g, sdss::u, sdss::z(out of model wavelength range)\n",
      "  warnings.warn(\"Dropping following bands from data: \" +\n"
     ]
    },
    {
     "name": "stdout",
     "output_type": "stream",
     "text": [
      "0.796196414413948\n",
      "0.8619059538792911\n",
      "0.8472662270945676\n",
      "141\n"
     ]
    },
    {
     "name": "stderr",
     "output_type": "stream",
     "text": [
      "/home/joao/.local/lib/python3.8/site-packages/sncosmo/fitting.py:187: RuntimeWarning: Dropping following bands from data: sdss::z(out of model wavelength range)\n",
      "  warnings.warn(\"Dropping following bands from data: \" +\n",
      "/home/joao/.local/lib/python3.8/site-packages/sncosmo/fitting.py:187: RuntimeWarning: Dropping following bands from data: sdss::g, sdss::u, sdss::z(out of model wavelength range)\n",
      "  warnings.warn(\"Dropping following bands from data: \" +\n"
     ]
    },
    {
     "name": "stdout",
     "output_type": "stream",
     "text": [
      "0.6614022124037012\n",
      "1.4548556358524747\n",
      "1.381057999181561\n",
      "142\n"
     ]
    },
    {
     "name": "stderr",
     "output_type": "stream",
     "text": [
      "/home/joao/.local/lib/python3.8/site-packages/sncosmo/fitting.py:187: RuntimeWarning: Dropping following bands from data: megacampsf::g at 9.310315(out of model wavelength range)\n",
      "  warnings.warn(\"Dropping following bands from data: \" +\n"
     ]
    },
    {
     "name": "stdout",
     "output_type": "stream",
     "text": [
      "11.46491666526887\n",
      "10.503571822620355\n",
      "143\n"
     ]
    },
    {
     "name": "stderr",
     "output_type": "stream",
     "text": [
      "/home/joao/.local/lib/python3.8/site-packages/sncosmo/fitting.py:187: RuntimeWarning: Dropping following bands from data: megacampsf::g at 4.573300(out of model wavelength range)\n",
      "  warnings.warn(\"Dropping following bands from data: \" +\n"
     ]
    },
    {
     "name": "stdout",
     "output_type": "stream",
     "text": [
      "3.891405985172087\n",
      "13.09836319352085\n",
      "144\n"
     ]
    },
    {
     "name": "stderr",
     "output_type": "stream",
     "text": [
      "/home/joao/.local/lib/python3.8/site-packages/sncosmo/fitting.py:187: RuntimeWarning: Dropping following bands from data: sdss::g, sdss::u(out of model wavelength range)\n",
      "  warnings.warn(\"Dropping following bands from data: \" +\n"
     ]
    },
    {
     "name": "stdout",
     "output_type": "stream",
     "text": [
      "0.9491562585001263\n",
      "0.9931575006815875\n",
      "0.9714474062331149\n",
      "145\n"
     ]
    },
    {
     "name": "stderr",
     "output_type": "stream",
     "text": [
      "/home/joao/.local/lib/python3.8/site-packages/sncosmo/fitting.py:187: RuntimeWarning: Dropping following bands from data: sdss::g, sdss::u, sdss::z(out of model wavelength range)\n",
      "  warnings.warn(\"Dropping following bands from data: \" +\n"
     ]
    },
    {
     "name": "stdout",
     "output_type": "stream",
     "text": [
      "1.1812642528714559\n",
      "1.594421315334052\n",
      "1.7773452336907987\n",
      "146\n"
     ]
    },
    {
     "name": "stderr",
     "output_type": "stream",
     "text": [
      "/home/joao/.local/lib/python3.8/site-packages/sncosmo/fitting.py:187: RuntimeWarning: Dropping following bands from data: sdss::z(out of model wavelength range)\n",
      "  warnings.warn(\"Dropping following bands from data: \" +\n",
      "/home/joao/.local/lib/python3.8/site-packages/sncosmo/fitting.py:187: RuntimeWarning: Dropping following bands from data: sdss::g, sdss::u, sdss::z(out of model wavelength range)\n",
      "  warnings.warn(\"Dropping following bands from data: \" +\n"
     ]
    },
    {
     "name": "stdout",
     "output_type": "stream",
     "text": [
      "2.0860742692555996\n",
      "1.6485611492554355\n",
      "1.6218811701662046\n",
      "147\n"
     ]
    },
    {
     "name": "stderr",
     "output_type": "stream",
     "text": [
      "/home/joao/.local/lib/python3.8/site-packages/sncosmo/fitting.py:187: RuntimeWarning: Dropping following bands from data: megacampsf::g at 10.987359(out of model wavelength range)\n",
      "  warnings.warn(\"Dropping following bands from data: \" +\n"
     ]
    },
    {
     "name": "stdout",
     "output_type": "stream",
     "text": [
      "5.200396767486838\n",
      "1.8338725988258786\n",
      "6.672104624555788\n",
      "148\n"
     ]
    },
    {
     "name": "stderr",
     "output_type": "stream",
     "text": [
      "/home/joao/.local/lib/python3.8/site-packages/sncosmo/fitting.py:187: RuntimeWarning: Dropping following bands from data: megacampsf::g at 10.607113, megacampsf::r at 10.607113(out of model wavelength range)\n",
      "  warnings.warn(\"Dropping following bands from data: \" +\n"
     ]
    },
    {
     "name": "stdout",
     "output_type": "stream",
     "text": [
      "1.5893342707255258\n",
      "1.9237782887388573\n",
      "2.0609360765502913\n",
      "149\n"
     ]
    },
    {
     "name": "stderr",
     "output_type": "stream",
     "text": [
      "/home/joao/.local/lib/python3.8/site-packages/sncosmo/fitting.py:187: RuntimeWarning: Dropping following bands from data: sdss::z(out of model wavelength range)\n",
      "  warnings.warn(\"Dropping following bands from data: \" +\n",
      "/home/joao/.local/lib/python3.8/site-packages/sncosmo/fitting.py:187: RuntimeWarning: Dropping following bands from data: sdss::g, sdss::u, sdss::z(out of model wavelength range)\n",
      "  warnings.warn(\"Dropping following bands from data: \" +\n"
     ]
    },
    {
     "name": "stdout",
     "output_type": "stream",
     "text": [
      "1.4924615492811615\n",
      "1.2237827847546177\n",
      "1.0952099985047776\n",
      "150\n"
     ]
    },
    {
     "name": "stderr",
     "output_type": "stream",
     "text": [
      "/home/joao/.local/lib/python3.8/site-packages/sncosmo/fitting.py:187: RuntimeWarning: Dropping following bands from data: sdss::g, sdss::u(out of model wavelength range)\n",
      "  warnings.warn(\"Dropping following bands from data: \" +\n"
     ]
    },
    {
     "name": "stdout",
     "output_type": "stream",
     "text": [
      "0.7442644116524552\n",
      "0.8730257310153404\n",
      "0.8622183171904025\n",
      "151\n"
     ]
    },
    {
     "name": "stderr",
     "output_type": "stream",
     "text": [
      "/home/joao/.local/lib/python3.8/site-packages/sncosmo/fitting.py:187: RuntimeWarning: Dropping following bands from data: megacampsf::g at 2.884758, megacampsf::r at 2.884758(out of model wavelength range)\n",
      "  warnings.warn(\"Dropping following bands from data: \" +\n"
     ]
    },
    {
     "name": "stdout",
     "output_type": "stream",
     "text": [
      "1.1061347286553522\n",
      "1.2865255135198217\n",
      "1.2157354712772226\n",
      "152\n"
     ]
    },
    {
     "name": "stderr",
     "output_type": "stream",
     "text": [
      "/home/joao/.local/lib/python3.8/site-packages/sncosmo/fitting.py:187: RuntimeWarning: Dropping following bands from data: sdss::g, sdss::u, sdss::z(out of model wavelength range)\n",
      "  warnings.warn(\"Dropping following bands from data: \" +\n"
     ]
    },
    {
     "name": "stdout",
     "output_type": "stream",
     "text": [
      "1.0839975420454553\n",
      "0.9311538994249222\n",
      "1.015587084168798\n",
      "153\n"
     ]
    },
    {
     "name": "stderr",
     "output_type": "stream",
     "text": [
      "/home/joao/.local/lib/python3.8/site-packages/sncosmo/fitting.py:187: RuntimeWarning: Dropping following bands from data: 4shooter2::us, 4shooter2::i, 4shooter2::r, 4shooter2::b(out of model wavelength range)\n",
      "  warnings.warn(\"Dropping following bands from data: \" +\n"
     ]
    },
    {
     "name": "stdout",
     "output_type": "stream",
     "text": [
      "4.947563788556161\n",
      "121.27627179390709\n",
      "11.925168026539419\n",
      "154\n"
     ]
    },
    {
     "name": "stderr",
     "output_type": "stream",
     "text": [
      "/home/joao/.local/lib/python3.8/site-packages/sncosmo/fitting.py:187: RuntimeWarning: Dropping following bands from data: sdss::g, sdss::u, sdss::z(out of model wavelength range)\n",
      "  warnings.warn(\"Dropping following bands from data: \" +\n"
     ]
    },
    {
     "name": "stdout",
     "output_type": "stream",
     "text": [
      "1.4931340533143482\n",
      "1.2260775475124885\n",
      "1.704240082367521\n",
      "155\n"
     ]
    },
    {
     "name": "stderr",
     "output_type": "stream",
     "text": [
      "/home/joao/.local/lib/python3.8/site-packages/sncosmo/fitting.py:187: RuntimeWarning: Dropping following bands from data: standard::i, standard::u(out of model wavelength range)\n",
      "  warnings.warn(\"Dropping following bands from data: \" +\n"
     ]
    },
    {
     "name": "stdout",
     "output_type": "stream",
     "text": [
      "5.084679906034521\n",
      "4.008100145144342\n",
      "2.4098521712824725\n",
      "156\n"
     ]
    },
    {
     "name": "stderr",
     "output_type": "stream",
     "text": [
      "/home/joao/.local/lib/python3.8/site-packages/sncosmo/fitting.py:187: RuntimeWarning: Dropping following bands from data: sdss::z(out of model wavelength range)\n",
      "  warnings.warn(\"Dropping following bands from data: \" +\n",
      "/home/joao/.local/lib/python3.8/site-packages/sncosmo/fitting.py:187: RuntimeWarning: Dropping following bands from data: sdss::g, sdss::u, sdss::z(out of model wavelength range)\n",
      "  warnings.warn(\"Dropping following bands from data: \" +\n"
     ]
    },
    {
     "name": "stdout",
     "output_type": "stream",
     "text": [
      "3.302507548299949\n",
      "1.361449362217866\n",
      "1.2229624176148042\n",
      "157\n"
     ]
    },
    {
     "name": "stderr",
     "output_type": "stream",
     "text": [
      "/home/joao/.local/lib/python3.8/site-packages/sncosmo/fitting.py:187: RuntimeWarning: Dropping following bands from data: 4shooter2::us, 4shooter2::i, 4shooter2::r, 4shooter2::b(out of model wavelength range)\n",
      "  warnings.warn(\"Dropping following bands from data: \" +\n"
     ]
    },
    {
     "name": "stdout",
     "output_type": "stream",
     "text": [
      "5.832631960810801\n",
      "158\n",
      "159\n"
     ]
    },
    {
     "name": "stderr",
     "output_type": "stream",
     "text": [
      "/home/joao/.local/lib/python3.8/site-packages/sncosmo/fitting.py:187: RuntimeWarning: Dropping following bands from data: standard::r, standard::u, standard::i(out of model wavelength range)\n",
      "  warnings.warn(\"Dropping following bands from data: \" +\n"
     ]
    },
    {
     "name": "stdout",
     "output_type": "stream",
     "text": [
      "19.931322696019937\n",
      "32.080939439976895\n",
      "43.452910696494875\n",
      "160\n"
     ]
    },
    {
     "name": "stderr",
     "output_type": "stream",
     "text": [
      "/home/joao/.local/lib/python3.8/site-packages/sncosmo/fitting.py:187: RuntimeWarning: Dropping following bands from data: megacampsf::g at 9.284653(out of model wavelength range)\n",
      "  warnings.warn(\"Dropping following bands from data: \" +\n"
     ]
    },
    {
     "name": "stdout",
     "output_type": "stream",
     "text": [
      "1.4225728357316616\n",
      "8.691580359540337\n",
      "9.043658003900614\n",
      "161\n"
     ]
    },
    {
     "name": "stderr",
     "output_type": "stream",
     "text": [
      "/home/joao/.local/lib/python3.8/site-packages/sncosmo/fitting.py:187: RuntimeWarning: Dropping following bands from data: megacampsf::g at 13.402228, megacampsf::r at 13.402228(out of model wavelength range)\n",
      "  warnings.warn(\"Dropping following bands from data: \" +\n"
     ]
    },
    {
     "name": "stdout",
     "output_type": "stream",
     "text": [
      "1.384084708913171\n",
      "1.689355248978965\n",
      "1.688378860495728\n",
      "162\n"
     ]
    },
    {
     "name": "stderr",
     "output_type": "stream",
     "text": [
      "/home/joao/.local/lib/python3.8/site-packages/sncosmo/fitting.py:187: RuntimeWarning: Dropping following bands from data: megacampsf::g at 14.381891(out of model wavelength range)\n",
      "  warnings.warn(\"Dropping following bands from data: \" +\n"
     ]
    },
    {
     "name": "stdout",
     "output_type": "stream",
     "text": [
      "6.499723160001589\n",
      "12.34013276724051\n",
      "3.4908006710800854\n",
      "163\n"
     ]
    },
    {
     "name": "stderr",
     "output_type": "stream",
     "text": [
      "/home/joao/.local/lib/python3.8/site-packages/sncosmo/fitting.py:187: RuntimeWarning: Dropping following bands from data: sdss::g, sdss::u, sdss::z(out of model wavelength range)\n",
      "  warnings.warn(\"Dropping following bands from data: \" +\n"
     ]
    },
    {
     "name": "stdout",
     "output_type": "stream",
     "text": [
      "0.6453979451021155\n",
      "0.5904432464101879\n",
      "0.5609494965620777\n",
      "164\n"
     ]
    },
    {
     "name": "stderr",
     "output_type": "stream",
     "text": [
      "/home/joao/.local/lib/python3.8/site-packages/sncosmo/fitting.py:187: RuntimeWarning: Dropping following bands from data: sdss::g, sdss::u, sdss::z(out of model wavelength range)\n",
      "  warnings.warn(\"Dropping following bands from data: \" +\n"
     ]
    },
    {
     "name": "stdout",
     "output_type": "stream",
     "text": [
      "1.540509441744573\n",
      "0.6059384155272274\n",
      "1.0624585024678792\n",
      "165\n"
     ]
    },
    {
     "name": "stderr",
     "output_type": "stream",
     "text": [
      "/home/joao/.local/lib/python3.8/site-packages/sncosmo/fitting.py:187: RuntimeWarning: Dropping following bands from data: megacampsf::g at 3.185913(out of model wavelength range)\n",
      "  warnings.warn(\"Dropping following bands from data: \" +\n"
     ]
    },
    {
     "name": "stdout",
     "output_type": "stream",
     "text": [
      "0.8672869936693269\n",
      "3.187684349218976\n",
      "2.505652211398915\n",
      "166\n"
     ]
    },
    {
     "name": "stderr",
     "output_type": "stream",
     "text": [
      "/home/joao/.local/lib/python3.8/site-packages/sncosmo/fitting.py:187: RuntimeWarning: Dropping following bands from data: sdss::z(out of model wavelength range)\n",
      "  warnings.warn(\"Dropping following bands from data: \" +\n",
      "/home/joao/.local/lib/python3.8/site-packages/sncosmo/fitting.py:187: RuntimeWarning: Dropping following bands from data: sdss::g, sdss::u, sdss::z(out of model wavelength range)\n",
      "  warnings.warn(\"Dropping following bands from data: \" +\n"
     ]
    },
    {
     "name": "stdout",
     "output_type": "stream",
     "text": [
      "0.8054963884403008\n",
      "0.9239892423208287\n",
      "0.9243754149945994\n",
      "167\n"
     ]
    },
    {
     "name": "stderr",
     "output_type": "stream",
     "text": [
      "/home/joao/.local/lib/python3.8/site-packages/sncosmo/fitting.py:187: RuntimeWarning: Dropping following bands from data: megacampsf::r at 10.810891, megacampsf::g at 10.810891, megacampsf::i at 10.810891(out of model wavelength range)\n",
      "  warnings.warn(\"Dropping following bands from data: \" +\n"
     ]
    },
    {
     "name": "stdout",
     "output_type": "stream",
     "text": [
      "1.0971503505354767\n",
      "1.2000897075339534\n",
      "1.0390263857829296\n",
      "168\n"
     ]
    },
    {
     "name": "stderr",
     "output_type": "stream",
     "text": [
      "/home/joao/.local/lib/python3.8/site-packages/sncosmo/fitting.py:187: RuntimeWarning: Dropping following bands from data: sdss::z(out of model wavelength range)\n",
      "  warnings.warn(\"Dropping following bands from data: \" +\n",
      "/home/joao/.local/lib/python3.8/site-packages/sncosmo/fitting.py:187: RuntimeWarning: Dropping following bands from data: sdss::g, sdss::u, sdss::z(out of model wavelength range)\n",
      "  warnings.warn(\"Dropping following bands from data: \" +\n"
     ]
    },
    {
     "name": "stdout",
     "output_type": "stream",
     "text": [
      "0.9931846859312918\n",
      "0.9106082344700118\n",
      "0.908602997173833\n",
      "169\n"
     ]
    },
    {
     "name": "stderr",
     "output_type": "stream",
     "text": [
      "/home/joao/.local/lib/python3.8/site-packages/sncosmo/fitting.py:187: RuntimeWarning: Dropping following bands from data: sdss::z(out of model wavelength range)\n",
      "  warnings.warn(\"Dropping following bands from data: \" +\n",
      "/home/joao/.local/lib/python3.8/site-packages/sncosmo/fitting.py:187: RuntimeWarning: Dropping following bands from data: sdss::g, sdss::u, sdss::z(out of model wavelength range)\n",
      "  warnings.warn(\"Dropping following bands from data: \" +\n"
     ]
    },
    {
     "name": "stdout",
     "output_type": "stream",
     "text": [
      "0.9124977780714193\n",
      "1.9374963527754367\n",
      "0.726398651506743\n",
      "170\n"
     ]
    },
    {
     "name": "stderr",
     "output_type": "stream",
     "text": [
      "/home/joao/.local/lib/python3.8/site-packages/sncosmo/fitting.py:187: RuntimeWarning: Dropping following bands from data: megacampsf::g at 14.939609(out of model wavelength range)\n",
      "  warnings.warn(\"Dropping following bands from data: \" +\n"
     ]
    },
    {
     "name": "stdout",
     "output_type": "stream",
     "text": [
      "1.7506158563488183\n",
      "4.239154648968097\n",
      "4.699168539092927\n",
      "171\n"
     ]
    },
    {
     "name": "stderr",
     "output_type": "stream",
     "text": [
      "/home/joao/.local/lib/python3.8/site-packages/sncosmo/fitting.py:187: RuntimeWarning: Dropping following bands from data: megacampsf::r at 11.264976, megacampsf::g at 11.264976(out of model wavelength range)\n",
      "  warnings.warn(\"Dropping following bands from data: \" +\n"
     ]
    },
    {
     "name": "stdout",
     "output_type": "stream",
     "text": [
      "1.6995106130954578\n",
      "1.9742380093956287\n",
      "2.0075773029834716\n",
      "172\n"
     ]
    },
    {
     "name": "stderr",
     "output_type": "stream",
     "text": [
      "/home/joao/.local/lib/python3.8/site-packages/sncosmo/fitting.py:187: RuntimeWarning: Dropping following bands from data: sdss::g, sdss::u, sdss::z(out of model wavelength range)\n",
      "  warnings.warn(\"Dropping following bands from data: \" +\n"
     ]
    },
    {
     "name": "stdout",
     "output_type": "stream",
     "text": [
      "0.7936764526007875\n",
      "0.9697199539110197\n",
      "0.8204255668230584\n",
      "173\n"
     ]
    },
    {
     "name": "stderr",
     "output_type": "stream",
     "text": [
      "/home/joao/.local/lib/python3.8/site-packages/sncosmo/fitting.py:187: RuntimeWarning: Dropping following bands from data: sdss::g, sdss::u, sdss::z(out of model wavelength range)\n",
      "  warnings.warn(\"Dropping following bands from data: \" +\n"
     ]
    },
    {
     "name": "stdout",
     "output_type": "stream",
     "text": [
      "0.8999043324945932\n",
      "0.9430450671438528\n",
      "0.961518700843574\n",
      "174\n"
     ]
    },
    {
     "name": "stderr",
     "output_type": "stream",
     "text": [
      "/home/joao/.local/lib/python3.8/site-packages/sncosmo/fitting.py:187: RuntimeWarning: Dropping following bands from data: megacampsf::r at 9.870980, megacampsf::g at 9.870980(out of model wavelength range)\n",
      "  warnings.warn(\"Dropping following bands from data: \" +\n"
     ]
    },
    {
     "name": "stdout",
     "output_type": "stream",
     "text": [
      "1.0534432800132612\n",
      "1.3598478591224175\n",
      "1.8478773109694477\n",
      "175\n"
     ]
    },
    {
     "name": "stderr",
     "output_type": "stream",
     "text": [
      "/home/joao/.local/lib/python3.8/site-packages/sncosmo/fitting.py:187: RuntimeWarning: Dropping following bands from data: megacampsf::r at 15.865490, megacampsf::g at 15.865490(out of model wavelength range)\n",
      "  warnings.warn(\"Dropping following bands from data: \" +\n"
     ]
    },
    {
     "name": "stdout",
     "output_type": "stream",
     "text": [
      "2.448920257514767\n",
      "2.8238600578510833\n",
      "5.881003043650349\n",
      "176\n"
     ]
    },
    {
     "name": "stderr",
     "output_type": "stream",
     "text": [
      "/home/joao/.local/lib/python3.8/site-packages/sncosmo/fitting.py:187: RuntimeWarning: Dropping following bands from data: megacampsf::g at 9.048552, megacampsf::r at 9.048552(out of model wavelength range)\n",
      "  warnings.warn(\"Dropping following bands from data: \" +\n"
     ]
    },
    {
     "name": "stdout",
     "output_type": "stream",
     "text": [
      "1.5865737142325285\n",
      "3.289119018422165\n",
      "3.4897439092729994\n",
      "177\n"
     ]
    },
    {
     "name": "stderr",
     "output_type": "stream",
     "text": [
      "/home/joao/.local/lib/python3.8/site-packages/sncosmo/fitting.py:187: RuntimeWarning: Dropping following bands from data: megacampsf::r at 11.177878, megacampsf::g at 11.177878(out of model wavelength range)\n",
      "  warnings.warn(\"Dropping following bands from data: \" +\n"
     ]
    },
    {
     "name": "stdout",
     "output_type": "stream",
     "text": [
      "1.6853968221975761\n",
      "1.4192812914802826\n",
      "1.6012059401790628\n",
      "178\n"
     ]
    },
    {
     "name": "stderr",
     "output_type": "stream",
     "text": [
      "/home/joao/.local/lib/python3.8/site-packages/sncosmo/fitting.py:187: RuntimeWarning: Dropping following bands from data: sdss::z(out of model wavelength range)\n",
      "  warnings.warn(\"Dropping following bands from data: \" +\n",
      "/home/joao/.local/lib/python3.8/site-packages/sncosmo/fitting.py:187: RuntimeWarning: Dropping following bands from data: sdss::g, sdss::u, sdss::z(out of model wavelength range)\n",
      "  warnings.warn(\"Dropping following bands from data: \" +\n"
     ]
    },
    {
     "name": "stdout",
     "output_type": "stream",
     "text": [
      "1.4420004792179242\n",
      "2.0192114579785856\n",
      "2.0300187302749197\n",
      "179\n"
     ]
    },
    {
     "name": "stderr",
     "output_type": "stream",
     "text": [
      "/home/joao/.local/lib/python3.8/site-packages/sncosmo/fitting.py:187: RuntimeWarning: Dropping following bands from data: standard::b, standard::i(out of model wavelength range)\n",
      "  warnings.warn(\"Dropping following bands from data: \" +\n"
     ]
    },
    {
     "name": "stdout",
     "output_type": "stream",
     "text": [
      "1.548133462058133\n",
      "1.3035720467346716\n",
      "1.1087329340883287\n",
      "180\n"
     ]
    },
    {
     "name": "stderr",
     "output_type": "stream",
     "text": [
      "/home/joao/.local/lib/python3.8/site-packages/sncosmo/fitting.py:187: RuntimeWarning: Dropping following bands from data: standard::r, standard::i(out of model wavelength range)\n",
      "  warnings.warn(\"Dropping following bands from data: \" +\n"
     ]
    },
    {
     "name": "stdout",
     "output_type": "stream",
     "text": [
      "0.6038672568743209\n",
      "1.9445662484930797\n",
      "2.1246605912500716\n",
      "181\n"
     ]
    },
    {
     "name": "stderr",
     "output_type": "stream",
     "text": [
      "/home/joao/.local/lib/python3.8/site-packages/sncosmo/fitting.py:187: RuntimeWarning: Dropping following bands from data: sdss::g, sdss::u, sdss::z(out of model wavelength range)\n",
      "  warnings.warn(\"Dropping following bands from data: \" +\n"
     ]
    },
    {
     "name": "stdout",
     "output_type": "stream",
     "text": [
      "0.6996690893120451\n",
      "0.6361336947055847\n",
      "0.7558166742145926\n",
      "182\n"
     ]
    },
    {
     "name": "stderr",
     "output_type": "stream",
     "text": [
      "/home/joao/.local/lib/python3.8/site-packages/sncosmo/fitting.py:187: RuntimeWarning: Dropping following bands from data: sdss::z(out of model wavelength range)\n",
      "  warnings.warn(\"Dropping following bands from data: \" +\n",
      "/home/joao/.local/lib/python3.8/site-packages/sncosmo/fitting.py:187: RuntimeWarning: Dropping following bands from data: sdss::g, sdss::u, sdss::z(out of model wavelength range)\n",
      "  warnings.warn(\"Dropping following bands from data: \" +\n"
     ]
    },
    {
     "name": "stdout",
     "output_type": "stream",
     "text": [
      "10.24270048890598\n",
      "9.235068950652645\n",
      "14.46273037471107\n",
      "183\n"
     ]
    },
    {
     "name": "stderr",
     "output_type": "stream",
     "text": [
      "/home/joao/.local/lib/python3.8/site-packages/sncosmo/fitting.py:187: RuntimeWarning: Dropping following bands from data: sdss::z(out of model wavelength range)\n",
      "  warnings.warn(\"Dropping following bands from data: \" +\n",
      "/home/joao/.local/lib/python3.8/site-packages/sncosmo/fitting.py:187: RuntimeWarning: Dropping following bands from data: sdss::g, sdss::u, sdss::z(out of model wavelength range)\n",
      "  warnings.warn(\"Dropping following bands from data: \" +\n"
     ]
    },
    {
     "name": "stdout",
     "output_type": "stream",
     "text": [
      "1.3494472041696384\n",
      "2.0895575039657452\n",
      "1.7544583880946805\n",
      "184\n"
     ]
    },
    {
     "name": "stderr",
     "output_type": "stream",
     "text": [
      "/home/joao/.local/lib/python3.8/site-packages/sncosmo/fitting.py:187: RuntimeWarning: Dropping following bands from data: sdss::g, sdss::u, sdss::z(out of model wavelength range)\n",
      "  warnings.warn(\"Dropping following bands from data: \" +\n"
     ]
    },
    {
     "name": "stdout",
     "output_type": "stream",
     "text": [
      "0.7138510274029425\n",
      "0.6456231746287353\n",
      "0.6738661429918626\n",
      "185\n"
     ]
    },
    {
     "name": "stderr",
     "output_type": "stream",
     "text": [
      "/home/joao/.local/lib/python3.8/site-packages/sncosmo/fitting.py:187: RuntimeWarning: Dropping following bands from data: megacampsf::g at 9.013909, megacampsf::r at 9.013909, megacampsf::i at 9.013909(out of model wavelength range)\n",
      "  warnings.warn(\"Dropping following bands from data: \" +\n"
     ]
    },
    {
     "name": "stdout",
     "output_type": "stream",
     "text": [
      "0.8063815771236088\n",
      "0.2663745171350989\n",
      "0.9040471450678499\n",
      "186\n"
     ]
    },
    {
     "name": "stderr",
     "output_type": "stream",
     "text": [
      "/home/joao/.local/lib/python3.8/site-packages/sncosmo/fitting.py:187: RuntimeWarning: Dropping following bands from data: swope2::b, swope2::u(out of model wavelength range)\n",
      "  warnings.warn(\"Dropping following bands from data: \" +\n"
     ]
    },
    {
     "name": "stdout",
     "output_type": "stream",
     "text": [
      "31.09855113505627\n",
      "187\n"
     ]
    },
    {
     "name": "stderr",
     "output_type": "stream",
     "text": [
      "/home/joao/.local/lib/python3.8/site-packages/sncosmo/fitting.py:187: RuntimeWarning: Dropping following bands from data: sdss::z(out of model wavelength range)\n",
      "  warnings.warn(\"Dropping following bands from data: \" +\n",
      "/home/joao/.local/lib/python3.8/site-packages/sncosmo/fitting.py:187: RuntimeWarning: Dropping following bands from data: sdss::g, sdss::u, sdss::z(out of model wavelength range)\n",
      "  warnings.warn(\"Dropping following bands from data: \" +\n"
     ]
    },
    {
     "name": "stdout",
     "output_type": "stream",
     "text": [
      "0.5799786230761529\n",
      "0.664830452193733\n",
      "0.722518689328934\n",
      "188\n"
     ]
    },
    {
     "name": "stderr",
     "output_type": "stream",
     "text": [
      "/home/joao/.local/lib/python3.8/site-packages/sncosmo/fitting.py:187: RuntimeWarning: Dropping following bands from data: megacampsf::g at 12.265802(out of model wavelength range)\n",
      "  warnings.warn(\"Dropping following bands from data: \" +\n"
     ]
    },
    {
     "name": "stdout",
     "output_type": "stream",
     "text": [
      "1.0763547221170549\n",
      "7.5707206100641\n",
      "7.301630254641376\n",
      "189\n"
     ]
    },
    {
     "name": "stderr",
     "output_type": "stream",
     "text": [
      "/home/joao/.local/lib/python3.8/site-packages/sncosmo/fitting.py:187: RuntimeWarning: Dropping following bands from data: sdss::g, sdss::u, sdss::z(out of model wavelength range)\n",
      "  warnings.warn(\"Dropping following bands from data: \" +\n"
     ]
    },
    {
     "name": "stdout",
     "output_type": "stream",
     "text": [
      "0.9791092353835509\n",
      "0.8306056962269283\n",
      "0.9495038585987172\n",
      "190\n"
     ]
    },
    {
     "name": "stderr",
     "output_type": "stream",
     "text": [
      "/home/joao/.local/lib/python3.8/site-packages/sncosmo/fitting.py:187: RuntimeWarning: Dropping following bands from data: megacampsf::g at 3.346174(out of model wavelength range)\n",
      "  warnings.warn(\"Dropping following bands from data: \" +\n"
     ]
    },
    {
     "name": "stdout",
     "output_type": "stream",
     "text": [
      "3.2574966281432243\n",
      "2.2541509697254596\n",
      "3.2861399356246728\n",
      "191\n"
     ]
    },
    {
     "name": "stderr",
     "output_type": "stream",
     "text": [
      "/home/joao/.local/lib/python3.8/site-packages/sncosmo/fitting.py:187: RuntimeWarning: Dropping following bands from data: sdss::g, sdss::u, sdss::z(out of model wavelength range)\n",
      "  warnings.warn(\"Dropping following bands from data: \" +\n"
     ]
    },
    {
     "name": "stdout",
     "output_type": "stream",
     "text": [
      "1.0452717770266489\n",
      "2.183255794291707\n",
      "2.103418169335204\n",
      "192\n"
     ]
    },
    {
     "name": "stderr",
     "output_type": "stream",
     "text": [
      "/home/joao/.local/lib/python3.8/site-packages/sncosmo/fitting.py:187: RuntimeWarning: Dropping following bands from data: standard::b, standard::i(out of model wavelength range)\n",
      "  warnings.warn(\"Dropping following bands from data: \" +\n"
     ]
    },
    {
     "name": "stdout",
     "output_type": "stream",
     "text": [
      "1.2452624974083655\n",
      "2.38234719674188\n",
      "1.1854973507178974\n",
      "193\n"
     ]
    },
    {
     "name": "stderr",
     "output_type": "stream",
     "text": [
      "/home/joao/.local/lib/python3.8/site-packages/sncosmo/fitting.py:187: RuntimeWarning: Dropping following bands from data: sdss::g, sdss::u, sdss::z(out of model wavelength range)\n",
      "  warnings.warn(\"Dropping following bands from data: \" +\n"
     ]
    },
    {
     "name": "stdout",
     "output_type": "stream",
     "text": [
      "0.5472494792423969\n",
      "0.5099531376651648\n",
      "0.44237298205820547\n",
      "194\n"
     ]
    },
    {
     "name": "stderr",
     "output_type": "stream",
     "text": [
      "/home/joao/.local/lib/python3.8/site-packages/sncosmo/fitting.py:187: RuntimeWarning: Dropping following bands from data: megacampsf::r at 15.744406, megacampsf::g at 15.744406(out of model wavelength range)\n",
      "  warnings.warn(\"Dropping following bands from data: \" +\n"
     ]
    },
    {
     "name": "stdout",
     "output_type": "stream",
     "text": [
      "1.0581727523112288\n",
      "2.654685088790821\n",
      "2.413471459927975\n",
      "195\n"
     ]
    },
    {
     "name": "stderr",
     "output_type": "stream",
     "text": [
      "/home/joao/.local/lib/python3.8/site-packages/sncosmo/fitting.py:187: RuntimeWarning: Dropping following bands from data: megacampsf::r at 9.013713, megacampsf::g at 9.013713, megacampsf::i at 9.013713(out of model wavelength range)\n",
      "  warnings.warn(\"Dropping following bands from data: \" +\n"
     ]
    },
    {
     "name": "stdout",
     "output_type": "stream",
     "text": [
      "196\n"
     ]
    },
    {
     "name": "stderr",
     "output_type": "stream",
     "text": [
      "/home/joao/.local/lib/python3.8/site-packages/sncosmo/fitting.py:187: RuntimeWarning: Dropping following bands from data: sdss::z(out of model wavelength range)\n",
      "  warnings.warn(\"Dropping following bands from data: \" +\n",
      "/home/joao/.local/lib/python3.8/site-packages/sncosmo/fitting.py:187: RuntimeWarning: Dropping following bands from data: sdss::g, sdss::u, sdss::z(out of model wavelength range)\n",
      "  warnings.warn(\"Dropping following bands from data: \" +\n"
     ]
    },
    {
     "name": "stdout",
     "output_type": "stream",
     "text": [
      "1.0100483262465836\n",
      "1.0374514979000744\n",
      "1.8367346216055813\n",
      "197\n"
     ]
    },
    {
     "name": "stderr",
     "output_type": "stream",
     "text": [
      "/home/joao/.local/lib/python3.8/site-packages/sncosmo/fitting.py:187: RuntimeWarning: Dropping following bands from data: megacampsf::g at 12.116543, megacampsf::r at 12.116543(out of model wavelength range)\n",
      "  warnings.warn(\"Dropping following bands from data: \" +\n"
     ]
    },
    {
     "name": "stdout",
     "output_type": "stream",
     "text": [
      "0.7559030375272234\n",
      "1.3643971521471119\n",
      "0.9566514568581279\n",
      "198\n"
     ]
    },
    {
     "name": "stderr",
     "output_type": "stream",
     "text": [
      "/home/joao/.local/lib/python3.8/site-packages/sncosmo/fitting.py:187: RuntimeWarning: Dropping following bands from data: megacampsf::g at 7.376386, megacampsf::r at 7.376386(out of model wavelength range)\n",
      "  warnings.warn(\"Dropping following bands from data: \" +\n"
     ]
    },
    {
     "name": "stdout",
     "output_type": "stream",
     "text": [
      "0.45139786908632545\n",
      "0.4506846183021922\n",
      "0.44276620846452136\n",
      "199\n"
     ]
    },
    {
     "name": "stderr",
     "output_type": "stream",
     "text": [
      "/home/joao/.local/lib/python3.8/site-packages/sncosmo/fitting.py:187: RuntimeWarning: Dropping following bands from data: sdss::g, sdss::u, sdss::z(out of model wavelength range)\n",
      "  warnings.warn(\"Dropping following bands from data: \" +\n"
     ]
    },
    {
     "name": "stdout",
     "output_type": "stream",
     "text": [
      "0.8767970021014164\n",
      "1.651224965030577\n",
      "1.6253574474811496\n",
      "200\n"
     ]
    },
    {
     "name": "stderr",
     "output_type": "stream",
     "text": [
      "/home/joao/.local/lib/python3.8/site-packages/sncosmo/fitting.py:187: RuntimeWarning: Dropping following bands from data: swope2::u, swope2::b(out of model wavelength range)\n",
      "  warnings.warn(\"Dropping following bands from data: \" +\n"
     ]
    },
    {
     "name": "stdout",
     "output_type": "stream",
     "text": [
      "4.922295056563586\n",
      "30.94532968028767\n",
      "19.344992379959976\n",
      "201\n"
     ]
    },
    {
     "name": "stderr",
     "output_type": "stream",
     "text": [
      "/home/joao/.local/lib/python3.8/site-packages/sncosmo/fitting.py:187: RuntimeWarning: Dropping following bands from data: megacampsf::r at 7.768147, megacampsf::g at 7.768147(out of model wavelength range)\n",
      "  warnings.warn(\"Dropping following bands from data: \" +\n"
     ]
    },
    {
     "name": "stdout",
     "output_type": "stream",
     "text": [
      "0.45323524685786226\n",
      "1.296693828390457\n",
      "1.300984244407604\n",
      "202\n"
     ]
    },
    {
     "name": "stderr",
     "output_type": "stream",
     "text": [
      "/home/joao/.local/lib/python3.8/site-packages/sncosmo/fitting.py:187: RuntimeWarning: Dropping following bands from data: sdss::g, sdss::u, sdss::z(out of model wavelength range)\n",
      "  warnings.warn(\"Dropping following bands from data: \" +\n"
     ]
    },
    {
     "name": "stdout",
     "output_type": "stream",
     "text": [
      "1.2529307746969562\n",
      "0.7535708412918094\n",
      "0.7751354647309218\n",
      "203\n"
     ]
    },
    {
     "name": "stderr",
     "output_type": "stream",
     "text": [
      "/home/joao/.local/lib/python3.8/site-packages/sncosmo/fitting.py:187: RuntimeWarning: Dropping following bands from data: sdss::z(out of model wavelength range)\n",
      "  warnings.warn(\"Dropping following bands from data: \" +\n",
      "/home/joao/.local/lib/python3.8/site-packages/sncosmo/fitting.py:187: RuntimeWarning: Dropping following bands from data: sdss::g, sdss::u, sdss::z(out of model wavelength range)\n",
      "  warnings.warn(\"Dropping following bands from data: \" +\n"
     ]
    },
    {
     "name": "stdout",
     "output_type": "stream",
     "text": [
      "23.375329154328796\n",
      "204\n"
     ]
    },
    {
     "name": "stderr",
     "output_type": "stream",
     "text": [
      "/home/joao/.local/lib/python3.8/site-packages/sncosmo/fitting.py:187: RuntimeWarning: Dropping following bands from data: swope2::b, swope2::g(out of model wavelength range)\n",
      "  warnings.warn(\"Dropping following bands from data: \" +\n"
     ]
    },
    {
     "name": "stdout",
     "output_type": "stream",
     "text": [
      "1.6796399182063375\n",
      "2.077304771249361\n",
      "2.244677517273329\n",
      "205\n"
     ]
    },
    {
     "name": "stderr",
     "output_type": "stream",
     "text": [
      "/home/joao/.local/lib/python3.8/site-packages/sncosmo/fitting.py:187: RuntimeWarning: Dropping following bands from data: sdss::g, sdss::u, sdss::z(out of model wavelength range)\n",
      "  warnings.warn(\"Dropping following bands from data: \" +\n"
     ]
    },
    {
     "name": "stdout",
     "output_type": "stream",
     "text": [
      "1.1537004022704518\n",
      "1.133804069687101\n",
      "1.2538108470122624\n",
      "206\n"
     ]
    },
    {
     "name": "stderr",
     "output_type": "stream",
     "text": [
      "/home/joao/.local/lib/python3.8/site-packages/sncosmo/fitting.py:187: RuntimeWarning: Dropping following bands from data: keplercam::i, keplercam::b(out of model wavelength range)\n",
      "  warnings.warn(\"Dropping following bands from data: \" +\n"
     ]
    },
    {
     "name": "stdout",
     "output_type": "stream",
     "text": [
      "2.738850061743364\n",
      "13.052385594252378\n",
      "12.938489881190979\n",
      "207\n"
     ]
    },
    {
     "name": "stderr",
     "output_type": "stream",
     "text": [
      "/home/joao/.local/lib/python3.8/site-packages/sncosmo/fitting.py:187: RuntimeWarning: Dropping following bands from data: megacampsf::r at 5.713654, megacampsf::g at 5.713654(out of model wavelength range)\n",
      "  warnings.warn(\"Dropping following bands from data: \" +\n"
     ]
    },
    {
     "name": "stdout",
     "output_type": "stream",
     "text": [
      "1.081133380156421\n",
      "0.9201053560374949\n",
      "0.908227856307144\n",
      "208\n"
     ]
    },
    {
     "name": "stderr",
     "output_type": "stream",
     "text": [
      "/home/joao/.local/lib/python3.8/site-packages/sncosmo/fitting.py:187: RuntimeWarning: Dropping following bands from data: megacampsf::r at 12.885584, megacampsf::g at 12.885584(out of model wavelength range)\n",
      "  warnings.warn(\"Dropping following bands from data: \" +\n"
     ]
    },
    {
     "name": "stdout",
     "output_type": "stream",
     "text": [
      "0.49378396994607915\n",
      "0.7344923962459576\n",
      "0.5929661353615306\n",
      "209\n"
     ]
    },
    {
     "name": "stderr",
     "output_type": "stream",
     "text": [
      "/home/joao/.local/lib/python3.8/site-packages/sncosmo/fitting.py:187: RuntimeWarning: Dropping following bands from data: standard::b, standard::i(out of model wavelength range)\n",
      "  warnings.warn(\"Dropping following bands from data: \" +\n"
     ]
    },
    {
     "name": "stdout",
     "output_type": "stream",
     "text": [
      "1.815028763671285\n",
      "1.8157313029457796\n",
      "1.044979082918854\n",
      "210\n"
     ]
    },
    {
     "name": "stderr",
     "output_type": "stream",
     "text": [
      "/home/joao/.local/lib/python3.8/site-packages/sncosmo/fitting.py:187: RuntimeWarning: Dropping following bands from data: sdss::g, sdss::u, sdss::z(out of model wavelength range)\n",
      "  warnings.warn(\"Dropping following bands from data: \" +\n"
     ]
    },
    {
     "name": "stdout",
     "output_type": "stream",
     "text": [
      "1.0837187425393169\n",
      "0.9781638866927685\n",
      "0.97565590439512\n",
      "211\n",
      "212\n"
     ]
    },
    {
     "name": "stderr",
     "output_type": "stream",
     "text": [
      "/home/joao/.local/lib/python3.8/site-packages/sncosmo/fitting.py:187: RuntimeWarning: Dropping following bands from data: keplercam::i, keplercam::b(out of model wavelength range)\n",
      "  warnings.warn(\"Dropping following bands from data: \" +\n"
     ]
    },
    {
     "name": "stdout",
     "output_type": "stream",
     "text": [
      "2.4851907180652004\n",
      "4.146441031626723\n",
      "19.621812443158607\n",
      "213\n"
     ]
    },
    {
     "name": "stderr",
     "output_type": "stream",
     "text": [
      "/home/joao/.local/lib/python3.8/site-packages/sncosmo/fitting.py:187: RuntimeWarning: Dropping following bands from data: sdss::g, sdss::u, sdss::z(out of model wavelength range)\n",
      "  warnings.warn(\"Dropping following bands from data: \" +\n"
     ]
    },
    {
     "name": "stdout",
     "output_type": "stream",
     "text": [
      "0.6146166455634016\n",
      "0.5878859881783317\n",
      "0.5921271362665774\n",
      "214\n"
     ]
    },
    {
     "name": "stderr",
     "output_type": "stream",
     "text": [
      "/home/joao/.local/lib/python3.8/site-packages/sncosmo/fitting.py:187: RuntimeWarning: Dropping following bands from data: sdss::z(out of model wavelength range)\n",
      "  warnings.warn(\"Dropping following bands from data: \" +\n",
      "/home/joao/.local/lib/python3.8/site-packages/sncosmo/fitting.py:187: RuntimeWarning: Dropping following bands from data: sdss::g, sdss::u, sdss::z(out of model wavelength range)\n",
      "  warnings.warn(\"Dropping following bands from data: \" +\n"
     ]
    },
    {
     "name": "stdout",
     "output_type": "stream",
     "text": [
      "0.5658588985035982\n",
      "0.6893166404426455\n",
      "0.6556716936099439\n",
      "215\n"
     ]
    },
    {
     "name": "stderr",
     "output_type": "stream",
     "text": [
      "/home/joao/.local/lib/python3.8/site-packages/sncosmo/fitting.py:187: RuntimeWarning: Dropping following bands from data: sdss::z(out of model wavelength range)\n",
      "  warnings.warn(\"Dropping following bands from data: \" +\n",
      "/home/joao/.local/lib/python3.8/site-packages/sncosmo/fitting.py:187: RuntimeWarning: Dropping following bands from data: sdss::g, sdss::u, sdss::z(out of model wavelength range)\n",
      "  warnings.warn(\"Dropping following bands from data: \" +\n"
     ]
    },
    {
     "name": "stdout",
     "output_type": "stream",
     "text": [
      "1.0437909478093705\n",
      "1.9310854434071574\n",
      "1.950891219491299\n",
      "216\n"
     ]
    },
    {
     "name": "stderr",
     "output_type": "stream",
     "text": [
      "/home/joao/.local/lib/python3.8/site-packages/sncosmo/fitting.py:187: RuntimeWarning: Dropping following bands from data: sdss::z(out of model wavelength range)\n",
      "  warnings.warn(\"Dropping following bands from data: \" +\n",
      "/home/joao/.local/lib/python3.8/site-packages/sncosmo/fitting.py:187: RuntimeWarning: Dropping following bands from data: sdss::g, sdss::u, sdss::z(out of model wavelength range)\n",
      "  warnings.warn(\"Dropping following bands from data: \" +\n"
     ]
    },
    {
     "name": "stdout",
     "output_type": "stream",
     "text": [
      "2.34685180305879\n",
      "4.011061952686855\n",
      "4.914398645890476\n",
      "217\n"
     ]
    },
    {
     "name": "stderr",
     "output_type": "stream",
     "text": [
      "/home/joao/.local/lib/python3.8/site-packages/sncosmo/fitting.py:187: RuntimeWarning: Dropping following bands from data: keplercam::i, keplercam::us, keplercam::b(out of model wavelength range)\n",
      "  warnings.warn(\"Dropping following bands from data: \" +\n"
     ]
    },
    {
     "name": "stdout",
     "output_type": "stream",
     "text": [
      "3.5575397794418815\n",
      "4.471857087964188\n",
      "3.536489509942948\n",
      "218\n"
     ]
    },
    {
     "name": "stderr",
     "output_type": "stream",
     "text": [
      "/home/joao/.local/lib/python3.8/site-packages/sncosmo/fitting.py:187: RuntimeWarning: Dropping following bands from data: megacampsf::r at 16.994521, megacampsf::g at 16.994521(out of model wavelength range)\n",
      "  warnings.warn(\"Dropping following bands from data: \" +\n"
     ]
    },
    {
     "name": "stdout",
     "output_type": "stream",
     "text": [
      "1.2196544816626032\n",
      "1.1530223005151996\n",
      "1.1734027948502683\n",
      "219\n"
     ]
    },
    {
     "name": "stderr",
     "output_type": "stream",
     "text": [
      "/home/joao/.local/lib/python3.8/site-packages/sncosmo/fitting.py:187: RuntimeWarning: Dropping following bands from data: megacampsf::r at 10.828873, megacampsf::g at 10.828873(out of model wavelength range)\n",
      "  warnings.warn(\"Dropping following bands from data: \" +\n"
     ]
    },
    {
     "name": "stdout",
     "output_type": "stream",
     "text": [
      "2.227754245246094\n",
      "1.8894217345731803\n",
      "2.2725217034369383\n",
      "220\n"
     ]
    },
    {
     "name": "stderr",
     "output_type": "stream",
     "text": [
      "/home/joao/.local/lib/python3.8/site-packages/sncosmo/fitting.py:187: RuntimeWarning: Dropping following bands from data: sdss::g, sdss::u, sdss::z(out of model wavelength range)\n",
      "  warnings.warn(\"Dropping following bands from data: \" +\n"
     ]
    },
    {
     "name": "stdout",
     "output_type": "stream",
     "text": [
      "1.1259920995980568\n",
      "1.183847620811052\n",
      "1.1867577943061711\n",
      "221\n"
     ]
    },
    {
     "name": "stderr",
     "output_type": "stream",
     "text": [
      "/home/joao/.local/lib/python3.8/site-packages/sncosmo/fitting.py:187: RuntimeWarning: Dropping following bands from data: sdss::g, sdss::u, sdss::z(out of model wavelength range)\n",
      "  warnings.warn(\"Dropping following bands from data: \" +\n"
     ]
    },
    {
     "name": "stdout",
     "output_type": "stream",
     "text": [
      "0.8113136714480005\n",
      "0.916666323569248\n",
      "0.9263090017578086\n",
      "222\n"
     ]
    },
    {
     "name": "stderr",
     "output_type": "stream",
     "text": [
      "/home/joao/.local/lib/python3.8/site-packages/sncosmo/fitting.py:187: RuntimeWarning: Dropping following bands from data: keplercam::i, keplercam::us, keplercam::b(out of model wavelength range)\n",
      "  warnings.warn(\"Dropping following bands from data: \" +\n"
     ]
    },
    {
     "name": "stdout",
     "output_type": "stream",
     "text": [
      "2.735021521568959\n",
      "10.136177660389881\n",
      "10.266652418093285\n",
      "223\n"
     ]
    },
    {
     "name": "stderr",
     "output_type": "stream",
     "text": [
      "/home/joao/.local/lib/python3.8/site-packages/sncosmo/fitting.py:187: RuntimeWarning: Dropping following bands from data: sdss::z(out of model wavelength range)\n",
      "  warnings.warn(\"Dropping following bands from data: \" +\n",
      "/home/joao/.local/lib/python3.8/site-packages/sncosmo/fitting.py:187: RuntimeWarning: Dropping following bands from data: sdss::g, sdss::u, sdss::z(out of model wavelength range)\n",
      "  warnings.warn(\"Dropping following bands from data: \" +\n"
     ]
    },
    {
     "name": "stdout",
     "output_type": "stream",
     "text": [
      "1.7651611667347793\n",
      "2.2221230185607665\n",
      "1.9181922606699224\n",
      "224\n"
     ]
    },
    {
     "name": "stderr",
     "output_type": "stream",
     "text": [
      "/home/joao/.local/lib/python3.8/site-packages/sncosmo/fitting.py:187: RuntimeWarning: Dropping following bands from data: sdss::g, sdss::u(out of model wavelength range)\n",
      "  warnings.warn(\"Dropping following bands from data: \" +\n"
     ]
    },
    {
     "name": "stdout",
     "output_type": "stream",
     "text": [
      "1.1458660424614344\n",
      "1.132217365702682\n",
      "1.1320785299071336\n",
      "225\n"
     ]
    },
    {
     "name": "stderr",
     "output_type": "stream",
     "text": [
      "/home/joao/.local/lib/python3.8/site-packages/sncosmo/fitting.py:187: RuntimeWarning: Dropping following bands from data: megacampsf::g at 6.810493(out of model wavelength range)\n",
      "  warnings.warn(\"Dropping following bands from data: \" +\n"
     ]
    },
    {
     "name": "stdout",
     "output_type": "stream",
     "text": [
      "1.5433652502719168\n",
      "2.980629602965682\n",
      "226\n"
     ]
    },
    {
     "name": "stderr",
     "output_type": "stream",
     "text": [
      "/home/joao/.local/lib/python3.8/site-packages/sncosmo/fitting.py:187: RuntimeWarning: Dropping following bands from data: megacampsf::g at 10.741505, megacampsf::r at 10.741505(out of model wavelength range)\n",
      "  warnings.warn(\"Dropping following bands from data: \" +\n"
     ]
    },
    {
     "name": "stdout",
     "output_type": "stream",
     "text": [
      "0.9741787431939867\n",
      "1.2240504494120095\n",
      "1.2720522986882776\n",
      "227\n"
     ]
    },
    {
     "name": "stderr",
     "output_type": "stream",
     "text": [
      "/home/joao/.local/lib/python3.8/site-packages/sncosmo/fitting.py:187: RuntimeWarning: Dropping following bands from data: megacampsf::g at 9.738702(out of model wavelength range)\n",
      "  warnings.warn(\"Dropping following bands from data: \" +\n"
     ]
    },
    {
     "name": "stdout",
     "output_type": "stream",
     "text": [
      "1.6056230749679439\n",
      "12.80304437925664\n",
      "12.955122747733121\n",
      "228\n"
     ]
    },
    {
     "name": "stderr",
     "output_type": "stream",
     "text": [
      "/home/joao/.local/lib/python3.8/site-packages/sncosmo/fitting.py:187: RuntimeWarning: Dropping following bands from data: sdss::z(out of model wavelength range)\n",
      "  warnings.warn(\"Dropping following bands from data: \" +\n",
      "/home/joao/.local/lib/python3.8/site-packages/sncosmo/fitting.py:187: RuntimeWarning: Dropping following bands from data: sdss::g, sdss::u, sdss::z(out of model wavelength range)\n",
      "  warnings.warn(\"Dropping following bands from data: \" +\n"
     ]
    },
    {
     "name": "stdout",
     "output_type": "stream",
     "text": [
      "1.9917257617850297\n",
      "8.973644644015152\n",
      "12.406068912754737\n",
      "229\n"
     ]
    },
    {
     "name": "stderr",
     "output_type": "stream",
     "text": [
      "/home/joao/.local/lib/python3.8/site-packages/sncosmo/fitting.py:187: RuntimeWarning: Dropping following bands from data: megacampsf::g at 8.483255(out of model wavelength range)\n",
      "  warnings.warn(\"Dropping following bands from data: \" +\n"
     ]
    },
    {
     "name": "stdout",
     "output_type": "stream",
     "text": [
      "1.5624496063597693\n",
      "4.20454319800982\n",
      "3.397734023596376\n",
      "230\n"
     ]
    },
    {
     "name": "stderr",
     "output_type": "stream",
     "text": [
      "/home/joao/.local/lib/python3.8/site-packages/sncosmo/fitting.py:187: RuntimeWarning: Dropping following bands from data: sdss::z(out of model wavelength range)\n",
      "  warnings.warn(\"Dropping following bands from data: \" +\n",
      "/home/joao/.local/lib/python3.8/site-packages/sncosmo/fitting.py:187: RuntimeWarning: Dropping following bands from data: sdss::g, sdss::u, sdss::z(out of model wavelength range)\n",
      "  warnings.warn(\"Dropping following bands from data: \" +\n"
     ]
    },
    {
     "name": "stdout",
     "output_type": "stream",
     "text": [
      "0.8587687021377037\n",
      "0.8100719999442413\n",
      "0.9476140320317353\n",
      "231\n"
     ]
    },
    {
     "name": "stderr",
     "output_type": "stream",
     "text": [
      "/home/joao/.local/lib/python3.8/site-packages/sncosmo/fitting.py:187: RuntimeWarning: Dropping following bands from data: standard::r, standard::u, standard::i(out of model wavelength range)\n",
      "  warnings.warn(\"Dropping following bands from data: \" +\n"
     ]
    },
    {
     "name": "stdout",
     "output_type": "stream",
     "text": [
      "5.551588210722745\n",
      "1.4399720090840098\n",
      "1.3241244157963739\n",
      "232\n"
     ]
    },
    {
     "name": "stderr",
     "output_type": "stream",
     "text": [
      "/home/joao/.local/lib/python3.8/site-packages/sncosmo/fitting.py:187: RuntimeWarning: Dropping following bands from data: standard::r, standard::i, standard::u(out of model wavelength range)\n",
      "  warnings.warn(\"Dropping following bands from data: \" +\n"
     ]
    },
    {
     "name": "stdout",
     "output_type": "stream",
     "text": [
      "8.458180982920501\n",
      "85.90943229535694\n",
      "127.40957711154617\n",
      "233\n"
     ]
    },
    {
     "name": "stderr",
     "output_type": "stream",
     "text": [
      "/home/joao/.local/lib/python3.8/site-packages/sncosmo/fitting.py:187: RuntimeWarning: Dropping following bands from data: sdss::g, sdss::u, sdss::z(out of model wavelength range)\n",
      "  warnings.warn(\"Dropping following bands from data: \" +\n"
     ]
    },
    {
     "name": "stdout",
     "output_type": "stream",
     "text": [
      "0.5849682210453605\n",
      "0.5107612704448118\n",
      "0.5294413672109749\n",
      "234\n"
     ]
    },
    {
     "name": "stderr",
     "output_type": "stream",
     "text": [
      "/home/joao/.local/lib/python3.8/site-packages/sncosmo/fitting.py:187: RuntimeWarning: Dropping following bands from data: sdss::z(out of model wavelength range)\n",
      "  warnings.warn(\"Dropping following bands from data: \" +\n",
      "/home/joao/.local/lib/python3.8/site-packages/sncosmo/fitting.py:187: RuntimeWarning: Dropping following bands from data: sdss::g, sdss::u, sdss::z(out of model wavelength range)\n",
      "  warnings.warn(\"Dropping following bands from data: \" +\n"
     ]
    },
    {
     "name": "stdout",
     "output_type": "stream",
     "text": [
      "1.3746515242011825\n",
      "0.930145213598776\n",
      "1.1496980910928498\n",
      "235\n"
     ]
    },
    {
     "name": "stderr",
     "output_type": "stream",
     "text": [
      "/home/joao/.local/lib/python3.8/site-packages/sncosmo/fitting.py:187: RuntimeWarning: Dropping following bands from data: standard::r, standard::i(out of model wavelength range)\n",
      "  warnings.warn(\"Dropping following bands from data: \" +\n"
     ]
    },
    {
     "name": "stdout",
     "output_type": "stream",
     "text": [
      "3.1931598841599955\n",
      "2.815393675041664\n",
      "2.2042890007345517\n",
      "236\n"
     ]
    },
    {
     "name": "stderr",
     "output_type": "stream",
     "text": [
      "/home/joao/.local/lib/python3.8/site-packages/sncosmo/fitting.py:187: RuntimeWarning: Dropping following bands from data: megacampsf::r at 14.525979, megacampsf::i at 14.525979, megacampsf::g at 14.525979(out of model wavelength range)\n",
      "  warnings.warn(\"Dropping following bands from data: \" +\n"
     ]
    },
    {
     "name": "stdout",
     "output_type": "stream",
     "text": [
      "2.195620734066061\n",
      "1.8386249380803097\n",
      "2.289412190091024\n",
      "237\n"
     ]
    },
    {
     "name": "stderr",
     "output_type": "stream",
     "text": [
      "/home/joao/.local/lib/python3.8/site-packages/sncosmo/fitting.py:187: RuntimeWarning: Dropping following bands from data: standard::b, standard::r, standard::i(out of model wavelength range)\n",
      "  warnings.warn(\"Dropping following bands from data: \" +\n"
     ]
    },
    {
     "name": "stdout",
     "output_type": "stream",
     "text": [
      "8.557923198294576\n",
      "0.8510372989959978\n",
      "0.5342136239997198\n",
      "238\n"
     ]
    },
    {
     "name": "stderr",
     "output_type": "stream",
     "text": [
      "/home/joao/.local/lib/python3.8/site-packages/sncosmo/fitting.py:187: RuntimeWarning: Dropping following bands from data: megacampsf::g at 2.415076, megacampsf::r at 2.415076(out of model wavelength range)\n",
      "  warnings.warn(\"Dropping following bands from data: \" +\n"
     ]
    },
    {
     "name": "stdout",
     "output_type": "stream",
     "text": [
      "0.9305281210616985\n",
      "0.9046788844395419\n",
      "1.2648065083604563\n",
      "239\n"
     ]
    },
    {
     "name": "stderr",
     "output_type": "stream",
     "text": [
      "/home/joao/.local/lib/python3.8/site-packages/sncosmo/fitting.py:187: RuntimeWarning: Dropping following bands from data: sdss::z(out of model wavelength range)\n",
      "  warnings.warn(\"Dropping following bands from data: \" +\n",
      "/home/joao/.local/lib/python3.8/site-packages/sncosmo/fitting.py:187: RuntimeWarning: Dropping following bands from data: sdss::g, sdss::u, sdss::z(out of model wavelength range)\n",
      "  warnings.warn(\"Dropping following bands from data: \" +\n"
     ]
    },
    {
     "name": "stdout",
     "output_type": "stream",
     "text": [
      "240\n"
     ]
    },
    {
     "name": "stderr",
     "output_type": "stream",
     "text": [
      "/home/joao/.local/lib/python3.8/site-packages/sncosmo/fitting.py:187: RuntimeWarning: Dropping following bands from data: megacampsf::r at 9.670620, megacampsf::g at 9.670620(out of model wavelength range)\n",
      "  warnings.warn(\"Dropping following bands from data: \" +\n"
     ]
    },
    {
     "name": "stdout",
     "output_type": "stream",
     "text": [
      "1.088669605395994\n",
      "1.1691604887805032\n",
      "1.1412407163940155\n",
      "241\n"
     ]
    },
    {
     "name": "stderr",
     "output_type": "stream",
     "text": [
      "/home/joao/.local/lib/python3.8/site-packages/sncosmo/fitting.py:187: RuntimeWarning: Dropping following bands from data: sdss::g, sdss::u, sdss::z(out of model wavelength range)\n",
      "  warnings.warn(\"Dropping following bands from data: \" +\n"
     ]
    },
    {
     "name": "stdout",
     "output_type": "stream",
     "text": [
      "0.7496596409247217\n",
      "0.40563273895303226\n",
      "0.40808095853245274\n",
      "242\n"
     ]
    },
    {
     "name": "stderr",
     "output_type": "stream",
     "text": [
      "/home/joao/.local/lib/python3.8/site-packages/sncosmo/fitting.py:187: RuntimeWarning: Dropping following bands from data: sdss::z(out of model wavelength range)\n",
      "  warnings.warn(\"Dropping following bands from data: \" +\n",
      "/home/joao/.local/lib/python3.8/site-packages/sncosmo/fitting.py:187: RuntimeWarning: Dropping following bands from data: sdss::g, sdss::u, sdss::z(out of model wavelength range)\n",
      "  warnings.warn(\"Dropping following bands from data: \" +\n"
     ]
    },
    {
     "name": "stdout",
     "output_type": "stream",
     "text": [
      "0.7730615393260057\n",
      "0.7521608971599103\n",
      "0.7470213542238427\n",
      "243\n"
     ]
    },
    {
     "name": "stderr",
     "output_type": "stream",
     "text": [
      "/home/joao/.local/lib/python3.8/site-packages/sncosmo/fitting.py:187: RuntimeWarning: Dropping following bands from data: megacampsf::r at 9.215425, megacampsf::g at 9.215425(out of model wavelength range)\n",
      "  warnings.warn(\"Dropping following bands from data: \" +\n"
     ]
    },
    {
     "name": "stdout",
     "output_type": "stream",
     "text": [
      "2.9418831008698123\n",
      "2.8976427839411225\n",
      "7.3956373545743475\n",
      "244\n"
     ]
    },
    {
     "name": "stderr",
     "output_type": "stream",
     "text": [
      "/home/joao/.local/lib/python3.8/site-packages/sncosmo/fitting.py:187: RuntimeWarning: Dropping following bands from data: sdss::g, sdss::u, sdss::z(out of model wavelength range)\n",
      "  warnings.warn(\"Dropping following bands from data: \" +\n"
     ]
    },
    {
     "name": "stdout",
     "output_type": "stream",
     "text": [
      "0.5229768236478154\n",
      "0.6237176358194586\n",
      "0.6005532453651857\n",
      "245\n"
     ]
    },
    {
     "name": "stderr",
     "output_type": "stream",
     "text": [
      "/home/joao/.local/lib/python3.8/site-packages/sncosmo/fitting.py:187: RuntimeWarning: Dropping following bands from data: sdss::z(out of model wavelength range)\n",
      "  warnings.warn(\"Dropping following bands from data: \" +\n",
      "/home/joao/.local/lib/python3.8/site-packages/sncosmo/fitting.py:187: RuntimeWarning: Dropping following bands from data: sdss::g, sdss::u, sdss::z(out of model wavelength range)\n",
      "  warnings.warn(\"Dropping following bands from data: \" +\n"
     ]
    },
    {
     "name": "stdout",
     "output_type": "stream",
     "text": [
      "0.8092449607096378\n",
      "0.7089413346860908\n",
      "0.8803191476085971\n",
      "246\n"
     ]
    },
    {
     "name": "stderr",
     "output_type": "stream",
     "text": [
      "/home/joao/.local/lib/python3.8/site-packages/sncosmo/fitting.py:187: RuntimeWarning: Dropping following bands from data: sdss::g, sdss::u, sdss::z(out of model wavelength range)\n",
      "  warnings.warn(\"Dropping following bands from data: \" +\n"
     ]
    },
    {
     "name": "stdout",
     "output_type": "stream",
     "text": [
      "0.9608328566979256\n",
      "0.5938451713930667\n",
      "0.575568474121593\n",
      "247\n"
     ]
    },
    {
     "name": "stderr",
     "output_type": "stream",
     "text": [
      "/home/joao/.local/lib/python3.8/site-packages/sncosmo/fitting.py:187: RuntimeWarning: Dropping following bands from data: sdss::z(out of model wavelength range)\n",
      "  warnings.warn(\"Dropping following bands from data: \" +\n",
      "/home/joao/.local/lib/python3.8/site-packages/sncosmo/fitting.py:187: RuntimeWarning: Dropping following bands from data: sdss::g, sdss::u, sdss::z(out of model wavelength range)\n",
      "  warnings.warn(\"Dropping following bands from data: \" +\n"
     ]
    },
    {
     "name": "stdout",
     "output_type": "stream",
     "text": [
      "2.2814607959146613\n",
      "1.117590016764216\n",
      "1.225211979395033\n",
      "248\n"
     ]
    },
    {
     "name": "stderr",
     "output_type": "stream",
     "text": [
      "/home/joao/.local/lib/python3.8/site-packages/sncosmo/fitting.py:187: RuntimeWarning: Dropping following bands from data: megacampsf::g at 0.595222, megacampsf::r at 0.595222(out of model wavelength range)\n",
      "  warnings.warn(\"Dropping following bands from data: \" +\n"
     ]
    },
    {
     "name": "stdout",
     "output_type": "stream",
     "text": [
      "2.4430647619733574\n",
      "2.3335378327933882\n",
      "2.9301134866135454\n",
      "249\n"
     ]
    },
    {
     "name": "stderr",
     "output_type": "stream",
     "text": [
      "/home/joao/.local/lib/python3.8/site-packages/sncosmo/fitting.py:187: RuntimeWarning: Dropping following bands from data: megacampsf::g at 6.007784(out of model wavelength range)\n",
      "  warnings.warn(\"Dropping following bands from data: \" +\n"
     ]
    },
    {
     "name": "stdout",
     "output_type": "stream",
     "text": [
      "4.217171154585665\n",
      "6.378170571494802\n",
      "5.436366452945121\n",
      "250\n"
     ]
    },
    {
     "name": "stderr",
     "output_type": "stream",
     "text": [
      "/home/joao/.local/lib/python3.8/site-packages/sncosmo/fitting.py:187: RuntimeWarning: Dropping following bands from data: sdss::g, sdss::u, sdss::z(out of model wavelength range)\n",
      "  warnings.warn(\"Dropping following bands from data: \" +\n"
     ]
    },
    {
     "name": "stdout",
     "output_type": "stream",
     "text": [
      "0.5445354130131308\n",
      "1.1188452353456455\n",
      "1.107726834819762\n",
      "251\n"
     ]
    },
    {
     "name": "stderr",
     "output_type": "stream",
     "text": [
      "/home/joao/.local/lib/python3.8/site-packages/sncosmo/fitting.py:187: RuntimeWarning: Dropping following bands from data: sdss::z(out of model wavelength range)\n",
      "  warnings.warn(\"Dropping following bands from data: \" +\n",
      "/home/joao/.local/lib/python3.8/site-packages/sncosmo/fitting.py:187: RuntimeWarning: Dropping following bands from data: sdss::g, sdss::u, sdss::z(out of model wavelength range)\n",
      "  warnings.warn(\"Dropping following bands from data: \" +\n"
     ]
    },
    {
     "name": "stdout",
     "output_type": "stream",
     "text": [
      "0.6661053195937144\n",
      "1.041768996062139\n",
      "0.9553881943246568\n",
      "252\n"
     ]
    },
    {
     "name": "stderr",
     "output_type": "stream",
     "text": [
      "/home/joao/.local/lib/python3.8/site-packages/sncosmo/fitting.py:187: RuntimeWarning: Dropping following bands from data: sdss::z(out of model wavelength range)\n",
      "  warnings.warn(\"Dropping following bands from data: \" +\n",
      "/home/joao/.local/lib/python3.8/site-packages/sncosmo/fitting.py:187: RuntimeWarning: Dropping following bands from data: sdss::g, sdss::u, sdss::z(out of model wavelength range)\n",
      "  warnings.warn(\"Dropping following bands from data: \" +\n"
     ]
    },
    {
     "name": "stdout",
     "output_type": "stream",
     "text": [
      "1.063985860037873\n",
      "1.250085183493845\n",
      "1.0664781828308236\n",
      "253\n"
     ]
    },
    {
     "name": "stderr",
     "output_type": "stream",
     "text": [
      "/home/joao/.local/lib/python3.8/site-packages/sncosmo/fitting.py:187: RuntimeWarning: Dropping following bands from data: standard::r, standard::i(out of model wavelength range)\n",
      "  warnings.warn(\"Dropping following bands from data: \" +\n"
     ]
    },
    {
     "name": "stdout",
     "output_type": "stream",
     "text": [
      "1.911888324361167\n",
      "4.385979279926561\n",
      "19.861424781329767\n",
      "254\n"
     ]
    },
    {
     "name": "stderr",
     "output_type": "stream",
     "text": [
      "/home/joao/.local/lib/python3.8/site-packages/sncosmo/fitting.py:187: RuntimeWarning: Dropping following bands from data: sdss::g, sdss::u(out of model wavelength range)\n",
      "  warnings.warn(\"Dropping following bands from data: \" +\n"
     ]
    },
    {
     "name": "stdout",
     "output_type": "stream",
     "text": [
      "0.622787297254709\n",
      "0.6250355043403735\n",
      "0.6765590726239779\n",
      "255\n"
     ]
    },
    {
     "name": "stderr",
     "output_type": "stream",
     "text": [
      "/home/joao/.local/lib/python3.8/site-packages/sncosmo/fitting.py:187: RuntimeWarning: Dropping following bands from data: sdss::z(out of model wavelength range)\n",
      "  warnings.warn(\"Dropping following bands from data: \" +\n",
      "/home/joao/.local/lib/python3.8/site-packages/sncosmo/fitting.py:187: RuntimeWarning: Dropping following bands from data: sdss::g, sdss::u, sdss::z(out of model wavelength range)\n",
      "  warnings.warn(\"Dropping following bands from data: \" +\n"
     ]
    },
    {
     "name": "stdout",
     "output_type": "stream",
     "text": [
      "2.1197759172019905\n",
      "0.9169970885771045\n",
      "0.9779889199361762\n",
      "256\n"
     ]
    },
    {
     "name": "stderr",
     "output_type": "stream",
     "text": [
      "/home/joao/.local/lib/python3.8/site-packages/sncosmo/fitting.py:187: RuntimeWarning: Dropping following bands from data: keplercam::i, keplercam::b(out of model wavelength range)\n",
      "  warnings.warn(\"Dropping following bands from data: \" +\n"
     ]
    },
    {
     "name": "stdout",
     "output_type": "stream",
     "text": [
      "2.8876702121661375\n",
      "6.3011998148407775\n",
      "6.461239760211335\n",
      "257\n"
     ]
    },
    {
     "name": "stderr",
     "output_type": "stream",
     "text": [
      "/home/joao/.local/lib/python3.8/site-packages/sncosmo/fitting.py:187: RuntimeWarning: Dropping following bands from data: megacampsf::g at 2.848608, megacampsf::r at 2.848608(out of model wavelength range)\n",
      "  warnings.warn(\"Dropping following bands from data: \" +\n"
     ]
    },
    {
     "name": "stdout",
     "output_type": "stream",
     "text": [
      "1.2090574583146345\n",
      "0.8703527917278497\n",
      "1.081673711815464\n",
      "258\n"
     ]
    },
    {
     "name": "stderr",
     "output_type": "stream",
     "text": [
      "/home/joao/.local/lib/python3.8/site-packages/sncosmo/fitting.py:187: RuntimeWarning: Dropping following bands from data: megacampsf::g at 5.495226, megacampsf::r at 5.495226(out of model wavelength range)\n",
      "  warnings.warn(\"Dropping following bands from data: \" +\n"
     ]
    },
    {
     "name": "stdout",
     "output_type": "stream",
     "text": [
      "0.9798476051180767\n",
      "1.0905677194861068\n",
      "1.0657382468895638\n",
      "259\n"
     ]
    },
    {
     "name": "stderr",
     "output_type": "stream",
     "text": [
      "/home/joao/.local/lib/python3.8/site-packages/sncosmo/fitting.py:187: RuntimeWarning: Dropping following bands from data: sdss::g, sdss::u, sdss::z(out of model wavelength range)\n",
      "  warnings.warn(\"Dropping following bands from data: \" +\n"
     ]
    },
    {
     "name": "stdout",
     "output_type": "stream",
     "text": [
      "0.8256712609069027\n",
      "0.4667004520536141\n",
      "0.46996737546900264\n",
      "260\n"
     ]
    },
    {
     "name": "stderr",
     "output_type": "stream",
     "text": [
      "/home/joao/.local/lib/python3.8/site-packages/sncosmo/fitting.py:187: RuntimeWarning: Dropping following bands from data: keplercam::i, keplercam::us, keplercam::b(out of model wavelength range)\n",
      "  warnings.warn(\"Dropping following bands from data: \" +\n"
     ]
    },
    {
     "name": "stdout",
     "output_type": "stream",
     "text": [
      "3.479475622953427\n",
      "10.505180060930563\n",
      "10.491358825826925\n",
      "261\n"
     ]
    },
    {
     "name": "stderr",
     "output_type": "stream",
     "text": [
      "/home/joao/.local/lib/python3.8/site-packages/sncosmo/fitting.py:187: RuntimeWarning: Dropping following bands from data: sdss::g, sdss::u, sdss::z(out of model wavelength range)\n",
      "  warnings.warn(\"Dropping following bands from data: \" +\n"
     ]
    },
    {
     "name": "stdout",
     "output_type": "stream",
     "text": [
      "0.9062042665324589\n",
      "1.0933421815663122\n",
      "1.0953872299075427\n",
      "262\n"
     ]
    },
    {
     "name": "stderr",
     "output_type": "stream",
     "text": [
      "/home/joao/.local/lib/python3.8/site-packages/sncosmo/fitting.py:187: RuntimeWarning: Dropping following bands from data: sdss::g, sdss::u, sdss::z(out of model wavelength range)\n",
      "  warnings.warn(\"Dropping following bands from data: \" +\n"
     ]
    },
    {
     "name": "stdout",
     "output_type": "stream",
     "text": [
      "1.0711056932924914\n",
      "0.9730050202347992\n",
      "0.8445793975574751\n",
      "263\n"
     ]
    },
    {
     "name": "stderr",
     "output_type": "stream",
     "text": [
      "/home/joao/.local/lib/python3.8/site-packages/sncosmo/fitting.py:187: RuntimeWarning: Dropping following bands from data: sdss::z(out of model wavelength range)\n",
      "  warnings.warn(\"Dropping following bands from data: \" +\n",
      "/home/joao/.local/lib/python3.8/site-packages/sncosmo/fitting.py:187: RuntimeWarning: Dropping following bands from data: sdss::g, sdss::u, sdss::z(out of model wavelength range)\n",
      "  warnings.warn(\"Dropping following bands from data: \" +\n"
     ]
    },
    {
     "name": "stdout",
     "output_type": "stream",
     "text": [
      "0.49688686917568053\n",
      "0.5410375223751674\n",
      "0.5517950859822652\n",
      "264\n"
     ]
    },
    {
     "name": "stderr",
     "output_type": "stream",
     "text": [
      "/home/joao/.local/lib/python3.8/site-packages/sncosmo/fitting.py:187: RuntimeWarning: Dropping following bands from data: megacampsf::g at 12.945166, megacampsf::r at 12.945166(out of model wavelength range)\n",
      "  warnings.warn(\"Dropping following bands from data: \" +\n"
     ]
    },
    {
     "name": "stdout",
     "output_type": "stream",
     "text": [
      "0.8932499604443687\n",
      "0.9345024146724998\n",
      "0.8071983473657758\n",
      "265\n"
     ]
    },
    {
     "name": "stderr",
     "output_type": "stream",
     "text": [
      "/home/joao/.local/lib/python3.8/site-packages/sncosmo/fitting.py:187: RuntimeWarning: Dropping following bands from data: megacampsf::g at 7.004330(out of model wavelength range)\n",
      "  warnings.warn(\"Dropping following bands from data: \" +\n"
     ]
    },
    {
     "name": "stdout",
     "output_type": "stream",
     "text": [
      "1.6582504417192567\n",
      "11.561633552274799\n",
      "11.870333888497687\n",
      "266\n"
     ]
    },
    {
     "name": "stderr",
     "output_type": "stream",
     "text": [
      "/home/joao/.local/lib/python3.8/site-packages/sncosmo/fitting.py:187: RuntimeWarning: Dropping following bands from data: 4shooter2::us, 4shooter2::i, 4shooter2::r, 4shooter2::b(out of model wavelength range)\n",
      "  warnings.warn(\"Dropping following bands from data: \" +\n"
     ]
    },
    {
     "name": "stdout",
     "output_type": "stream",
     "text": [
      "2.9264391818727966\n",
      "0.7202288411443246\n",
      "0.803445623341338\n",
      "267\n"
     ]
    },
    {
     "name": "stderr",
     "output_type": "stream",
     "text": [
      "/home/joao/.local/lib/python3.8/site-packages/sncosmo/fitting.py:187: RuntimeWarning: Dropping following bands from data: sdss::z(out of model wavelength range)\n",
      "  warnings.warn(\"Dropping following bands from data: \" +\n",
      "/home/joao/.local/lib/python3.8/site-packages/sncosmo/fitting.py:187: RuntimeWarning: Dropping following bands from data: sdss::g, sdss::u, sdss::z(out of model wavelength range)\n",
      "  warnings.warn(\"Dropping following bands from data: \" +\n"
     ]
    },
    {
     "name": "stdout",
     "output_type": "stream",
     "text": [
      "1.2250348646747096\n",
      "1.3177224090545054\n",
      "1.3307862459647777\n",
      "268\n"
     ]
    },
    {
     "name": "stderr",
     "output_type": "stream",
     "text": [
      "/home/joao/.local/lib/python3.8/site-packages/sncosmo/fitting.py:187: RuntimeWarning: Dropping following bands from data: sdss::z(out of model wavelength range)\n",
      "  warnings.warn(\"Dropping following bands from data: \" +\n",
      "/home/joao/.local/lib/python3.8/site-packages/sncosmo/fitting.py:187: RuntimeWarning: Dropping following bands from data: sdss::g, sdss::u, sdss::z(out of model wavelength range)\n",
      "  warnings.warn(\"Dropping following bands from data: \" +\n"
     ]
    },
    {
     "name": "stdout",
     "output_type": "stream",
     "text": [
      "1.6985103371554249\n",
      "1.6746420147268621\n",
      "1.67713591901292\n",
      "269\n"
     ]
    },
    {
     "name": "stderr",
     "output_type": "stream",
     "text": [
      "/home/joao/.local/lib/python3.8/site-packages/sncosmo/fitting.py:187: RuntimeWarning: Dropping following bands from data: sdss::z(out of model wavelength range)\n",
      "  warnings.warn(\"Dropping following bands from data: \" +\n",
      "/home/joao/.local/lib/python3.8/site-packages/sncosmo/fitting.py:187: RuntimeWarning: Dropping following bands from data: sdss::g, sdss::u, sdss::z(out of model wavelength range)\n",
      "  warnings.warn(\"Dropping following bands from data: \" +\n"
     ]
    },
    {
     "name": "stdout",
     "output_type": "stream",
     "text": [
      "1.7733491770851932\n",
      "3.269928980269629\n",
      "3.7861964802563968\n",
      "270\n"
     ]
    },
    {
     "name": "stderr",
     "output_type": "stream",
     "text": [
      "/home/joao/.local/lib/python3.8/site-packages/sncosmo/fitting.py:187: RuntimeWarning: Dropping following bands from data: sdss::z(out of model wavelength range)\n",
      "  warnings.warn(\"Dropping following bands from data: \" +\n",
      "/home/joao/.local/lib/python3.8/site-packages/sncosmo/fitting.py:187: RuntimeWarning: Dropping following bands from data: sdss::g, sdss::u, sdss::z(out of model wavelength range)\n",
      "  warnings.warn(\"Dropping following bands from data: \" +\n"
     ]
    },
    {
     "name": "stdout",
     "output_type": "stream",
     "text": [
      "1.9728264778628917\n",
      "10.590069845056911\n",
      "11.260625983225975\n",
      "271\n"
     ]
    },
    {
     "name": "stderr",
     "output_type": "stream",
     "text": [
      "/home/joao/.local/lib/python3.8/site-packages/sncosmo/fitting.py:187: RuntimeWarning: Dropping following bands from data: sdss::g, sdss::u, sdss::z(out of model wavelength range)\n",
      "  warnings.warn(\"Dropping following bands from data: \" +\n"
     ]
    },
    {
     "name": "stdout",
     "output_type": "stream",
     "text": [
      "0.6914624600667335\n",
      "0.7536942243211117\n",
      "0.758100890778241\n",
      "272\n"
     ]
    },
    {
     "name": "stderr",
     "output_type": "stream",
     "text": [
      "/home/joao/.local/lib/python3.8/site-packages/sncosmo/fitting.py:187: RuntimeWarning: Dropping following bands from data: megacampsf::g at 4.821766, megacampsf::r at 4.821766(out of model wavelength range)\n",
      "  warnings.warn(\"Dropping following bands from data: \" +\n"
     ]
    },
    {
     "name": "stdout",
     "output_type": "stream",
     "text": [
      "0.8237395657289003\n",
      "1.091712059047696\n",
      "1.3116178956100304\n",
      "273\n"
     ]
    },
    {
     "name": "stderr",
     "output_type": "stream",
     "text": [
      "/home/joao/.local/lib/python3.8/site-packages/sncosmo/fitting.py:187: RuntimeWarning: Dropping following bands from data: swope2::b, swope2::u(out of model wavelength range)\n",
      "  warnings.warn(\"Dropping following bands from data: \" +\n"
     ]
    },
    {
     "name": "stdout",
     "output_type": "stream",
     "text": [
      "15.657772295032416\n",
      "102.10054877618018\n",
      "274\n"
     ]
    },
    {
     "name": "stderr",
     "output_type": "stream",
     "text": [
      "/home/joao/.local/lib/python3.8/site-packages/sncosmo/fitting.py:187: RuntimeWarning: Dropping following bands from data: sdss::z(out of model wavelength range)\n",
      "  warnings.warn(\"Dropping following bands from data: \" +\n",
      "/home/joao/.local/lib/python3.8/site-packages/sncosmo/fitting.py:187: RuntimeWarning: Dropping following bands from data: sdss::g, sdss::u, sdss::z(out of model wavelength range)\n",
      "  warnings.warn(\"Dropping following bands from data: \" +\n"
     ]
    },
    {
     "name": "stdout",
     "output_type": "stream",
     "text": [
      "1.2865984960086627\n",
      "4.5741857286061345\n",
      "5.374262588027508\n",
      "275\n"
     ]
    },
    {
     "name": "stderr",
     "output_type": "stream",
     "text": [
      "/home/joao/.local/lib/python3.8/site-packages/sncosmo/fitting.py:187: RuntimeWarning: Dropping following bands from data: sdss::z(out of model wavelength range)\n",
      "  warnings.warn(\"Dropping following bands from data: \" +\n",
      "/home/joao/.local/lib/python3.8/site-packages/sncosmo/fitting.py:187: RuntimeWarning: Dropping following bands from data: sdss::g, sdss::u, sdss::z(out of model wavelength range)\n",
      "  warnings.warn(\"Dropping following bands from data: \" +\n"
     ]
    },
    {
     "name": "stdout",
     "output_type": "stream",
     "text": [
      "0.7361162329628236\n",
      "0.8283239869856936\n",
      "0.8582449703732212\n",
      "276\n"
     ]
    },
    {
     "name": "stderr",
     "output_type": "stream",
     "text": [
      "/home/joao/.local/lib/python3.8/site-packages/sncosmo/fitting.py:187: RuntimeWarning: Dropping following bands from data: sdss::g, sdss::u, sdss::z(out of model wavelength range)\n",
      "  warnings.warn(\"Dropping following bands from data: \" +\n"
     ]
    },
    {
     "name": "stdout",
     "output_type": "stream",
     "text": [
      "1.103056421141512\n",
      "0.8809608212950014\n",
      "277\n"
     ]
    },
    {
     "name": "stderr",
     "output_type": "stream",
     "text": [
      "/home/joao/.local/lib/python3.8/site-packages/sncosmo/fitting.py:187: RuntimeWarning: Dropping following bands from data: sdss::g, sdss::u, sdss::z(out of model wavelength range)\n",
      "  warnings.warn(\"Dropping following bands from data: \" +\n"
     ]
    },
    {
     "name": "stdout",
     "output_type": "stream",
     "text": [
      "0.8467818904262927\n",
      "0.7289496926879666\n",
      "0.6084638282995274\n",
      "278\n"
     ]
    },
    {
     "name": "stderr",
     "output_type": "stream",
     "text": [
      "/home/joao/.local/lib/python3.8/site-packages/sncosmo/fitting.py:187: RuntimeWarning: Dropping following bands from data: standard::r, standard::i(out of model wavelength range)\n",
      "  warnings.warn(\"Dropping following bands from data: \" +\n"
     ]
    },
    {
     "name": "stdout",
     "output_type": "stream",
     "text": [
      "0.7133483484313495\n",
      "2.3372661913390247\n",
      "1.7071236007425579\n",
      "279\n"
     ]
    },
    {
     "name": "stderr",
     "output_type": "stream",
     "text": [
      "/home/joao/.local/lib/python3.8/site-packages/sncosmo/fitting.py:187: RuntimeWarning: Dropping following bands from data: 4shooter2::us, 4shooter2::i, 4shooter2::r, 4shooter2::b(out of model wavelength range)\n",
      "  warnings.warn(\"Dropping following bands from data: \" +\n"
     ]
    },
    {
     "name": "stdout",
     "output_type": "stream",
     "text": [
      "1.8249388206996269\n",
      "0.9044906432277147\n",
      "0.7602549563488273\n",
      "280\n"
     ]
    },
    {
     "name": "stderr",
     "output_type": "stream",
     "text": [
      "/home/joao/.local/lib/python3.8/site-packages/sncosmo/fitting.py:187: RuntimeWarning: Dropping following bands from data: megacampsf::i at 6.766805, megacampsf::r at 6.766805, megacampsf::g at 6.766805(out of model wavelength range)\n",
      "  warnings.warn(\"Dropping following bands from data: \" +\n"
     ]
    },
    {
     "name": "stdout",
     "output_type": "stream",
     "text": [
      "0.9065550776769706\n",
      "0.6441945218890347\n",
      "0.7034737706724361\n",
      "281\n"
     ]
    },
    {
     "name": "stderr",
     "output_type": "stream",
     "text": [
      "/home/joao/.local/lib/python3.8/site-packages/sncosmo/fitting.py:187: RuntimeWarning: Dropping following bands from data: sdss::g, sdss::u, sdss::z(out of model wavelength range)\n",
      "  warnings.warn(\"Dropping following bands from data: \" +\n"
     ]
    },
    {
     "name": "stdout",
     "output_type": "stream",
     "text": [
      "1.026637146508534\n",
      "1.030878033417905\n",
      "1.0321532700423934\n",
      "282\n"
     ]
    },
    {
     "name": "stderr",
     "output_type": "stream",
     "text": [
      "/home/joao/.local/lib/python3.8/site-packages/sncosmo/fitting.py:187: RuntimeWarning: Dropping following bands from data: sdss::z(out of model wavelength range)\n",
      "  warnings.warn(\"Dropping following bands from data: \" +\n",
      "/home/joao/.local/lib/python3.8/site-packages/sncosmo/fitting.py:187: RuntimeWarning: Dropping following bands from data: sdss::g, sdss::u, sdss::z(out of model wavelength range)\n",
      "  warnings.warn(\"Dropping following bands from data: \" +\n"
     ]
    },
    {
     "name": "stdout",
     "output_type": "stream",
     "text": [
      "1.6570327777905\n",
      "2.700651752718088\n",
      "2.6591716814572495\n",
      "283\n"
     ]
    },
    {
     "name": "stderr",
     "output_type": "stream",
     "text": [
      "/home/joao/.local/lib/python3.8/site-packages/sncosmo/fitting.py:187: RuntimeWarning: Dropping following bands from data: sdss::g, sdss::u, sdss::z(out of model wavelength range)\n",
      "  warnings.warn(\"Dropping following bands from data: \" +\n"
     ]
    },
    {
     "name": "stdout",
     "output_type": "stream",
     "text": [
      "1.639218264133697\n",
      "1.3631313181694624\n",
      "1.3547777157807603\n",
      "284\n"
     ]
    },
    {
     "name": "stderr",
     "output_type": "stream",
     "text": [
      "/home/joao/.local/lib/python3.8/site-packages/sncosmo/fitting.py:187: RuntimeWarning: Dropping following bands from data: megacampsf::g at 4.922929, megacampsf::r at 4.922929(out of model wavelength range)\n",
      "  warnings.warn(\"Dropping following bands from data: \" +\n"
     ]
    },
    {
     "name": "stdout",
     "output_type": "stream",
     "text": [
      "1.110737286673148\n",
      "1.3986854484464717\n",
      "1.2494318825895896\n",
      "285\n"
     ]
    },
    {
     "name": "stderr",
     "output_type": "stream",
     "text": [
      "/home/joao/.local/lib/python3.8/site-packages/sncosmo/fitting.py:187: RuntimeWarning: Dropping following bands from data: standard::r, standard::i(out of model wavelength range)\n",
      "  warnings.warn(\"Dropping following bands from data: \" +\n"
     ]
    },
    {
     "name": "stdout",
     "output_type": "stream",
     "text": [
      "1.6211326917978082\n",
      "0.7839624808868064\n",
      "0.828507728893412\n",
      "286\n"
     ]
    },
    {
     "name": "stderr",
     "output_type": "stream",
     "text": [
      "/home/joao/.local/lib/python3.8/site-packages/sncosmo/fitting.py:187: RuntimeWarning: Dropping following bands from data: megacampsf::g at 10.649150(out of model wavelength range)\n",
      "  warnings.warn(\"Dropping following bands from data: \" +\n"
     ]
    },
    {
     "name": "stdout",
     "output_type": "stream",
     "text": [
      "10.02930231089795\n",
      "30.571979341170447\n",
      "21.21685460055896\n",
      "287\n"
     ]
    },
    {
     "name": "stderr",
     "output_type": "stream",
     "text": [
      "/home/joao/.local/lib/python3.8/site-packages/sncosmo/fitting.py:187: RuntimeWarning: Dropping following bands from data: sdss::z(out of model wavelength range)\n",
      "  warnings.warn(\"Dropping following bands from data: \" +\n",
      "/home/joao/.local/lib/python3.8/site-packages/sncosmo/fitting.py:187: RuntimeWarning: Dropping following bands from data: sdss::g, sdss::u, sdss::z(out of model wavelength range)\n",
      "  warnings.warn(\"Dropping following bands from data: \" +\n"
     ]
    },
    {
     "name": "stdout",
     "output_type": "stream",
     "text": [
      "6.569014751350178\n",
      "288\n"
     ]
    },
    {
     "name": "stderr",
     "output_type": "stream",
     "text": [
      "/home/joao/.local/lib/python3.8/site-packages/sncosmo/fitting.py:187: RuntimeWarning: Dropping following bands from data: megacampsf::r at 12.196750, megacampsf::g at 12.196750(out of model wavelength range)\n",
      "  warnings.warn(\"Dropping following bands from data: \" +\n"
     ]
    },
    {
     "name": "stdout",
     "output_type": "stream",
     "text": [
      "0.8997347161502819\n",
      "1.0743863598188794\n",
      "1.0479177296840891\n",
      "289\n"
     ]
    },
    {
     "name": "stderr",
     "output_type": "stream",
     "text": [
      "/home/joao/.local/lib/python3.8/site-packages/sncosmo/fitting.py:187: RuntimeWarning: Dropping following bands from data: standard::b, standard::r, standard::i(out of model wavelength range)\n",
      "  warnings.warn(\"Dropping following bands from data: \" +\n"
     ]
    },
    {
     "name": "stdout",
     "output_type": "stream",
     "text": [
      "1.8199866741521846\n",
      "0.645380986984066\n",
      "0.6161092560911045\n",
      "290\n"
     ]
    },
    {
     "name": "stderr",
     "output_type": "stream",
     "text": [
      "/home/joao/.local/lib/python3.8/site-packages/sncosmo/fitting.py:187: RuntimeWarning: Dropping following bands from data: 4shooter2::us, 4shooter2::i, 4shooter2::r, 4shooter2::b(out of model wavelength range)\n",
      "  warnings.warn(\"Dropping following bands from data: \" +\n"
     ]
    },
    {
     "name": "stdout",
     "output_type": "stream",
     "text": [
      "2.312029170747847\n",
      "291\n"
     ]
    },
    {
     "name": "stderr",
     "output_type": "stream",
     "text": [
      "/home/joao/.local/lib/python3.8/site-packages/sncosmo/fitting.py:187: RuntimeWarning: Dropping following bands from data: megacampsf::r at 9.482325, megacampsf::g at 9.482325(out of model wavelength range)\n",
      "  warnings.warn(\"Dropping following bands from data: \" +\n"
     ]
    },
    {
     "name": "stdout",
     "output_type": "stream",
     "text": [
      "1.2703912918105953\n",
      "3.209522244641537\n",
      "4.022154101950035\n",
      "292\n"
     ]
    },
    {
     "name": "stderr",
     "output_type": "stream",
     "text": [
      "/home/joao/.local/lib/python3.8/site-packages/sncosmo/fitting.py:187: RuntimeWarning: Dropping following bands from data: keplercam::i, keplercam::us, keplercam::b(out of model wavelength range)\n",
      "  warnings.warn(\"Dropping following bands from data: \" +\n"
     ]
    },
    {
     "name": "stdout",
     "output_type": "stream",
     "text": [
      "19.943496072966695\n",
      "31.30981967646907\n",
      "31.257109445397074\n",
      "293\n"
     ]
    },
    {
     "name": "stderr",
     "output_type": "stream",
     "text": [
      "/home/joao/.local/lib/python3.8/site-packages/sncosmo/fitting.py:187: RuntimeWarning: Dropping following bands from data: sdss::z(out of model wavelength range)\n",
      "  warnings.warn(\"Dropping following bands from data: \" +\n",
      "/home/joao/.local/lib/python3.8/site-packages/sncosmo/fitting.py:187: RuntimeWarning: Dropping following bands from data: sdss::g, sdss::u, sdss::z(out of model wavelength range)\n",
      "  warnings.warn(\"Dropping following bands from data: \" +\n"
     ]
    },
    {
     "name": "stdout",
     "output_type": "stream",
     "text": [
      "1.1339468498116314\n",
      "1.3346731499763713\n",
      "1.3962213182481393\n",
      "294\n"
     ]
    },
    {
     "name": "stderr",
     "output_type": "stream",
     "text": [
      "/home/joao/.local/lib/python3.8/site-packages/sncosmo/fitting.py:187: RuntimeWarning: Dropping following bands from data: megacampsf::g at 3.487725(out of model wavelength range)\n",
      "  warnings.warn(\"Dropping following bands from data: \" +\n"
     ]
    },
    {
     "name": "stdout",
     "output_type": "stream",
     "text": [
      "0.7858837666194273\n",
      "3.57409597820943\n",
      "2.8329508382461848\n",
      "295\n"
     ]
    },
    {
     "name": "stderr",
     "output_type": "stream",
     "text": [
      "/home/joao/.local/lib/python3.8/site-packages/sncosmo/fitting.py:187: RuntimeWarning: Dropping following bands from data: sdss::g, sdss::u, sdss::z(out of model wavelength range)\n",
      "  warnings.warn(\"Dropping following bands from data: \" +\n"
     ]
    },
    {
     "name": "stdout",
     "output_type": "stream",
     "text": [
      "0.6924402942449166\n",
      "0.5578944880634684\n",
      "0.5545547297313\n",
      "296\n"
     ]
    },
    {
     "name": "stderr",
     "output_type": "stream",
     "text": [
      "/home/joao/.local/lib/python3.8/site-packages/sncosmo/fitting.py:187: RuntimeWarning: Dropping following bands from data: megacampsf::g at 3.745428(out of model wavelength range)\n",
      "  warnings.warn(\"Dropping following bands from data: \" +\n"
     ]
    },
    {
     "name": "stdout",
     "output_type": "stream",
     "text": [
      "2.899764655493402\n",
      "63.664947665939465\n",
      "96.91233035445276\n",
      "297\n"
     ]
    },
    {
     "name": "stderr",
     "output_type": "stream",
     "text": [
      "/home/joao/.local/lib/python3.8/site-packages/sncosmo/fitting.py:187: RuntimeWarning: Dropping following bands from data: megacampsf::g at 14.376912, megacampsf::r at 14.376912(out of model wavelength range)\n",
      "  warnings.warn(\"Dropping following bands from data: \" +\n"
     ]
    },
    {
     "name": "stdout",
     "output_type": "stream",
     "text": [
      "1.2138496229074303\n",
      "1.0156626697967004\n",
      "1.0148580849244815\n",
      "298\n"
     ]
    },
    {
     "name": "stderr",
     "output_type": "stream",
     "text": [
      "/home/joao/.local/lib/python3.8/site-packages/sncosmo/fitting.py:187: RuntimeWarning: Dropping following bands from data: sdss::g, sdss::u, sdss::z(out of model wavelength range)\n",
      "  warnings.warn(\"Dropping following bands from data: \" +\n"
     ]
    },
    {
     "name": "stdout",
     "output_type": "stream",
     "text": [
      "0.8647222296445648\n",
      "0.6688624333079607\n",
      "0.5280309998868218\n",
      "299\n"
     ]
    },
    {
     "name": "stderr",
     "output_type": "stream",
     "text": [
      "/home/joao/.local/lib/python3.8/site-packages/sncosmo/fitting.py:187: RuntimeWarning: Dropping following bands from data: standard::r, standard::u, standard::i(out of model wavelength range)\n",
      "  warnings.warn(\"Dropping following bands from data: \" +\n"
     ]
    },
    {
     "name": "stdout",
     "output_type": "stream",
     "text": [
      "3.9311307104653417\n",
      "62.05879824212656\n",
      "41.46259638931059\n",
      "300\n"
     ]
    },
    {
     "name": "stderr",
     "output_type": "stream",
     "text": [
      "/home/joao/.local/lib/python3.8/site-packages/sncosmo/fitting.py:187: RuntimeWarning: Dropping following bands from data: megacampsf::g at 5.558952(out of model wavelength range)\n",
      "  warnings.warn(\"Dropping following bands from data: \" +\n"
     ]
    },
    {
     "name": "stdout",
     "output_type": "stream",
     "text": [
      "1.8100440391259474\n",
      "3.059019387153148\n",
      "9.747514610906956\n",
      "301\n"
     ]
    },
    {
     "name": "stderr",
     "output_type": "stream",
     "text": [
      "/home/joao/.local/lib/python3.8/site-packages/sncosmo/fitting.py:187: RuntimeWarning: Dropping following bands from data: megacampsf::r at 10.933050, megacampsf::g at 10.933050(out of model wavelength range)\n",
      "  warnings.warn(\"Dropping following bands from data: \" +\n"
     ]
    },
    {
     "name": "stdout",
     "output_type": "stream",
     "text": [
      "0.7899852712849671\n",
      "0.7984996338442769\n",
      "0.8287793159654685\n",
      "302\n"
     ]
    },
    {
     "name": "stderr",
     "output_type": "stream",
     "text": [
      "/home/joao/.local/lib/python3.8/site-packages/sncosmo/fitting.py:187: RuntimeWarning: Dropping following bands from data: megacampsf::g at 12.217787(out of model wavelength range)\n",
      "  warnings.warn(\"Dropping following bands from data: \" +\n"
     ]
    },
    {
     "name": "stdout",
     "output_type": "stream",
     "text": [
      "1.7822956374318781\n",
      "4.027732770421832\n",
      "5.403338941546498\n",
      "303\n"
     ]
    },
    {
     "name": "stderr",
     "output_type": "stream",
     "text": [
      "/home/joao/.local/lib/python3.8/site-packages/sncosmo/fitting.py:187: RuntimeWarning: Dropping following bands from data: sdss::z(out of model wavelength range)\n",
      "  warnings.warn(\"Dropping following bands from data: \" +\n",
      "/home/joao/.local/lib/python3.8/site-packages/sncosmo/fitting.py:187: RuntimeWarning: Dropping following bands from data: sdss::g, sdss::u, sdss::z(out of model wavelength range)\n",
      "  warnings.warn(\"Dropping following bands from data: \" +\n"
     ]
    },
    {
     "name": "stdout",
     "output_type": "stream",
     "text": [
      "1.3621120704647867\n",
      "1.6460870089925588\n",
      "1.6390045511291955\n",
      "304\n"
     ]
    },
    {
     "name": "stderr",
     "output_type": "stream",
     "text": [
      "/home/joao/.local/lib/python3.8/site-packages/sncosmo/fitting.py:187: RuntimeWarning: Dropping following bands from data: 4shooter2::us, 4shooter2::i, 4shooter2::r, 4shooter2::b(out of model wavelength range)\n",
      "  warnings.warn(\"Dropping following bands from data: \" +\n"
     ]
    },
    {
     "name": "stdout",
     "output_type": "stream",
     "text": [
      "3.0170628055345823\n",
      "2.3704788824254424\n",
      "2.2408499719562003\n",
      "305\n"
     ]
    },
    {
     "name": "stderr",
     "output_type": "stream",
     "text": [
      "/home/joao/.local/lib/python3.8/site-packages/sncosmo/fitting.py:187: RuntimeWarning: Dropping following bands from data: standard::r, standard::i, standard::u(out of model wavelength range)\n",
      "  warnings.warn(\"Dropping following bands from data: \" +\n"
     ]
    },
    {
     "name": "stdout",
     "output_type": "stream",
     "text": [
      "10.500193668923595\n",
      "98.06500859397778\n",
      "145.34476751142165\n",
      "306\n"
     ]
    },
    {
     "name": "stderr",
     "output_type": "stream",
     "text": [
      "/home/joao/.local/lib/python3.8/site-packages/sncosmo/fitting.py:187: RuntimeWarning: Dropping following bands from data: acswf::f775w(out of model wavelength range)\n",
      "  warnings.warn(\"Dropping following bands from data: \" +\n"
     ]
    },
    {
     "name": "stdout",
     "output_type": "stream",
     "text": [
      "0.9663059293812878\n",
      "0.6364822191243062\n",
      "0.7516285042217148\n",
      "307\n"
     ]
    },
    {
     "name": "stderr",
     "output_type": "stream",
     "text": [
      "/home/joao/.local/lib/python3.8/site-packages/sncosmo/fitting.py:187: RuntimeWarning: Dropping following bands from data: sdss::z(out of model wavelength range)\n",
      "  warnings.warn(\"Dropping following bands from data: \" +\n",
      "/home/joao/.local/lib/python3.8/site-packages/sncosmo/fitting.py:187: RuntimeWarning: Dropping following bands from data: sdss::g, sdss::u, sdss::z(out of model wavelength range)\n",
      "  warnings.warn(\"Dropping following bands from data: \" +\n"
     ]
    },
    {
     "name": "stdout",
     "output_type": "stream",
     "text": [
      "1.1284594896978444\n",
      "1.3305728588254095\n",
      "1.4139544053697595\n",
      "308\n"
     ]
    },
    {
     "name": "stderr",
     "output_type": "stream",
     "text": [
      "/home/joao/.local/lib/python3.8/site-packages/sncosmo/fitting.py:187: RuntimeWarning: Dropping following bands from data: megacampsf::r at 6.928525, megacampsf::g at 6.928525(out of model wavelength range)\n",
      "  warnings.warn(\"Dropping following bands from data: \" +\n"
     ]
    },
    {
     "name": "stdout",
     "output_type": "stream",
     "text": [
      "0.5911442332975153\n",
      "0.705355026594415\n",
      "0.7076693897489563\n",
      "309\n"
     ]
    },
    {
     "name": "stderr",
     "output_type": "stream",
     "text": [
      "/home/joao/.local/lib/python3.8/site-packages/sncosmo/fitting.py:187: RuntimeWarning: Dropping following bands from data: megacampsf::r at 7.183397, megacampsf::g at 7.183397(out of model wavelength range)\n",
      "  warnings.warn(\"Dropping following bands from data: \" +\n"
     ]
    },
    {
     "name": "stdout",
     "output_type": "stream",
     "text": [
      "1.0505733263823658\n",
      "1.307970019382704\n",
      "1.2421121468674716\n",
      "310\n"
     ]
    },
    {
     "name": "stderr",
     "output_type": "stream",
     "text": [
      "/home/joao/.local/lib/python3.8/site-packages/sncosmo/fitting.py:187: RuntimeWarning: Dropping following bands from data: sdss::z(out of model wavelength range)\n",
      "  warnings.warn(\"Dropping following bands from data: \" +\n",
      "/home/joao/.local/lib/python3.8/site-packages/sncosmo/fitting.py:187: RuntimeWarning: Dropping following bands from data: sdss::g, sdss::u, sdss::z(out of model wavelength range)\n",
      "  warnings.warn(\"Dropping following bands from data: \" +\n"
     ]
    },
    {
     "name": "stdout",
     "output_type": "stream",
     "text": [
      "0.7050407901951613\n",
      "0.7572182025982391\n",
      "0.7740549433088447\n",
      "311\n"
     ]
    },
    {
     "name": "stderr",
     "output_type": "stream",
     "text": [
      "/home/joao/.local/lib/python3.8/site-packages/sncosmo/fitting.py:187: RuntimeWarning: Dropping following bands from data: sdss::g, sdss::u, sdss::z(out of model wavelength range)\n",
      "  warnings.warn(\"Dropping following bands from data: \" +\n"
     ]
    },
    {
     "name": "stdout",
     "output_type": "stream",
     "text": [
      "1.1468886121662307\n",
      "1.1774767246384341\n",
      "1.1258355336011983\n",
      "312\n"
     ]
    },
    {
     "name": "stderr",
     "output_type": "stream",
     "text": [
      "/home/joao/.local/lib/python3.8/site-packages/sncosmo/fitting.py:187: RuntimeWarning: Dropping following bands from data: keplercam::i, keplercam::us, keplercam::b(out of model wavelength range)\n",
      "  warnings.warn(\"Dropping following bands from data: \" +\n"
     ]
    },
    {
     "name": "stdout",
     "output_type": "stream",
     "text": [
      "4.197562943446223\n",
      "3.2964829798598596\n",
      "3.511474667705519\n",
      "313\n"
     ]
    },
    {
     "name": "stderr",
     "output_type": "stream",
     "text": [
      "/home/joao/.local/lib/python3.8/site-packages/sncosmo/fitting.py:187: RuntimeWarning: Dropping following bands from data: sdss::g, sdss::u(out of model wavelength range)\n",
      "  warnings.warn(\"Dropping following bands from data: \" +\n"
     ]
    },
    {
     "name": "stdout",
     "output_type": "stream",
     "text": [
      "1.148642860050942\n",
      "0.9442418141453425\n",
      "1.0517547869184154\n",
      "314\n"
     ]
    },
    {
     "name": "stderr",
     "output_type": "stream",
     "text": [
      "/home/joao/.local/lib/python3.8/site-packages/sncosmo/fitting.py:187: RuntimeWarning: Dropping following bands from data: sdss::z(out of model wavelength range)\n",
      "  warnings.warn(\"Dropping following bands from data: \" +\n",
      "/home/joao/.local/lib/python3.8/site-packages/sncosmo/fitting.py:187: RuntimeWarning: Dropping following bands from data: sdss::g, sdss::u, sdss::z(out of model wavelength range)\n",
      "  warnings.warn(\"Dropping following bands from data: \" +\n"
     ]
    },
    {
     "name": "stdout",
     "output_type": "stream",
     "text": [
      "1.9943465428845297\n",
      "1.7609547805070591\n",
      "2.3008579829031324\n",
      "315\n"
     ]
    },
    {
     "name": "stderr",
     "output_type": "stream",
     "text": [
      "/home/joao/.local/lib/python3.8/site-packages/sncosmo/fitting.py:187: RuntimeWarning: Dropping following bands from data: sdss::z(out of model wavelength range)\n",
      "  warnings.warn(\"Dropping following bands from data: \" +\n",
      "/home/joao/.local/lib/python3.8/site-packages/sncosmo/fitting.py:187: RuntimeWarning: Dropping following bands from data: sdss::g, sdss::u, sdss::z(out of model wavelength range)\n",
      "  warnings.warn(\"Dropping following bands from data: \" +\n"
     ]
    },
    {
     "name": "stdout",
     "output_type": "stream",
     "text": [
      "1.1304875934615504\n",
      "4.8504430985651235\n",
      "3.1626034932569103\n",
      "316\n"
     ]
    },
    {
     "name": "stderr",
     "output_type": "stream",
     "text": [
      "/home/joao/.local/lib/python3.8/site-packages/sncosmo/fitting.py:187: RuntimeWarning: Dropping following bands from data: sdss::z(out of model wavelength range)\n",
      "  warnings.warn(\"Dropping following bands from data: \" +\n",
      "/home/joao/.local/lib/python3.8/site-packages/sncosmo/fitting.py:187: RuntimeWarning: Dropping following bands from data: sdss::g, sdss::u, sdss::z(out of model wavelength range)\n",
      "  warnings.warn(\"Dropping following bands from data: \" +\n"
     ]
    },
    {
     "name": "stdout",
     "output_type": "stream",
     "text": [
      "0.5794969778061461\n",
      "0.6704503888998172\n",
      "0.6763210754507025\n",
      "317\n"
     ]
    },
    {
     "name": "stderr",
     "output_type": "stream",
     "text": [
      "/home/joao/.local/lib/python3.8/site-packages/sncosmo/fitting.py:187: RuntimeWarning: Dropping following bands from data: sdss::z(out of model wavelength range)\n",
      "  warnings.warn(\"Dropping following bands from data: \" +\n",
      "/home/joao/.local/lib/python3.8/site-packages/sncosmo/fitting.py:187: RuntimeWarning: Dropping following bands from data: sdss::g, sdss::u, sdss::z(out of model wavelength range)\n",
      "  warnings.warn(\"Dropping following bands from data: \" +\n"
     ]
    },
    {
     "name": "stdout",
     "output_type": "stream",
     "text": [
      "0.5023492672637669\n",
      "1.0069519957942203\n",
      "1.011989872444037\n",
      "318\n"
     ]
    },
    {
     "name": "stderr",
     "output_type": "stream",
     "text": [
      "/home/joao/.local/lib/python3.8/site-packages/sncosmo/fitting.py:187: RuntimeWarning: Dropping following bands from data: sdss::g, sdss::u(out of model wavelength range)\n",
      "  warnings.warn(\"Dropping following bands from data: \" +\n"
     ]
    },
    {
     "name": "stdout",
     "output_type": "stream",
     "text": [
      "0.7501973471703807\n",
      "0.6214379862384065\n",
      "0.6255702264068765\n",
      "319\n"
     ]
    },
    {
     "name": "stderr",
     "output_type": "stream",
     "text": [
      "/home/joao/.local/lib/python3.8/site-packages/sncosmo/fitting.py:187: RuntimeWarning: Dropping following bands from data: sdss::g, sdss::u, sdss::z(out of model wavelength range)\n",
      "  warnings.warn(\"Dropping following bands from data: \" +\n"
     ]
    },
    {
     "name": "stdout",
     "output_type": "stream",
     "text": [
      "2.084384540585098\n",
      "3.3963470141362926\n",
      "3.364314916558296\n",
      "320\n"
     ]
    },
    {
     "name": "stderr",
     "output_type": "stream",
     "text": [
      "/home/joao/.local/lib/python3.8/site-packages/sncosmo/fitting.py:187: RuntimeWarning: Dropping following bands from data: sdss::z(out of model wavelength range)\n",
      "  warnings.warn(\"Dropping following bands from data: \" +\n",
      "/home/joao/.local/lib/python3.8/site-packages/sncosmo/fitting.py:187: RuntimeWarning: Dropping following bands from data: sdss::g, sdss::u, sdss::z(out of model wavelength range)\n",
      "  warnings.warn(\"Dropping following bands from data: \" +\n"
     ]
    },
    {
     "name": "stdout",
     "output_type": "stream",
     "text": [
      "1.6195146408240826\n",
      "1.7906638523470804\n",
      "1.7450819062314098\n",
      "321\n"
     ]
    },
    {
     "name": "stderr",
     "output_type": "stream",
     "text": [
      "/home/joao/.local/lib/python3.8/site-packages/sncosmo/fitting.py:187: RuntimeWarning: Dropping following bands from data: sdss::z(out of model wavelength range)\n",
      "  warnings.warn(\"Dropping following bands from data: \" +\n",
      "/home/joao/.local/lib/python3.8/site-packages/sncosmo/fitting.py:187: RuntimeWarning: Dropping following bands from data: sdss::g, sdss::u, sdss::z(out of model wavelength range)\n",
      "  warnings.warn(\"Dropping following bands from data: \" +\n"
     ]
    },
    {
     "name": "stdout",
     "output_type": "stream",
     "text": [
      "1.045735701237738\n",
      "1.2079864506175169\n",
      "1.1460363846540795\n",
      "322\n"
     ]
    },
    {
     "name": "stderr",
     "output_type": "stream",
     "text": [
      "/home/joao/.local/lib/python3.8/site-packages/sncosmo/fitting.py:187: RuntimeWarning: Dropping following bands from data: megacampsf::g at 12.608058, megacampsf::r at 12.608058, megacampsf::i at 12.608058(out of model wavelength range)\n",
      "  warnings.warn(\"Dropping following bands from data: \" +\n"
     ]
    },
    {
     "name": "stdout",
     "output_type": "stream",
     "text": [
      "323\n"
     ]
    },
    {
     "name": "stderr",
     "output_type": "stream",
     "text": [
      "/home/joao/.local/lib/python3.8/site-packages/sncosmo/fitting.py:187: RuntimeWarning: Dropping following bands from data: standard::b, standard::r, standard::i(out of model wavelength range)\n",
      "  warnings.warn(\"Dropping following bands from data: \" +\n"
     ]
    },
    {
     "name": "stdout",
     "output_type": "stream",
     "text": [
      "8.451597410791798\n",
      "1.2411812320747568\n",
      "0.6739132499131344\n",
      "324\n"
     ]
    },
    {
     "name": "stderr",
     "output_type": "stream",
     "text": [
      "/home/joao/.local/lib/python3.8/site-packages/sncosmo/fitting.py:187: RuntimeWarning: Dropping following bands from data: sdss::z(out of model wavelength range)\n",
      "  warnings.warn(\"Dropping following bands from data: \" +\n",
      "/home/joao/.local/lib/python3.8/site-packages/sncosmo/fitting.py:187: RuntimeWarning: Dropping following bands from data: sdss::g, sdss::u, sdss::z(out of model wavelength range)\n",
      "  warnings.warn(\"Dropping following bands from data: \" +\n"
     ]
    },
    {
     "name": "stdout",
     "output_type": "stream",
     "text": [
      "0.9907965762692224\n",
      "1.0555054329218765\n",
      "1.0587882164782605\n",
      "325\n"
     ]
    },
    {
     "name": "stderr",
     "output_type": "stream",
     "text": [
      "/home/joao/.local/lib/python3.8/site-packages/sncosmo/fitting.py:187: RuntimeWarning: Dropping following bands from data: keplercam::i, keplercam::b(out of model wavelength range)\n",
      "  warnings.warn(\"Dropping following bands from data: \" +\n"
     ]
    },
    {
     "name": "stdout",
     "output_type": "stream",
     "text": [
      "9.41998127104695\n",
      "13.400039361438836\n",
      "14.454491282162174\n",
      "326\n"
     ]
    },
    {
     "name": "stderr",
     "output_type": "stream",
     "text": [
      "/home/joao/.local/lib/python3.8/site-packages/sncosmo/fitting.py:187: RuntimeWarning: Dropping following bands from data: sdss::g, sdss::u, sdss::z(out of model wavelength range)\n",
      "  warnings.warn(\"Dropping following bands from data: \" +\n"
     ]
    },
    {
     "name": "stdout",
     "output_type": "stream",
     "text": [
      "0.5626131584147964\n",
      "0.9230450554883125\n",
      "0.975711721075332\n",
      "327\n"
     ]
    },
    {
     "name": "stderr",
     "output_type": "stream",
     "text": [
      "/home/joao/.local/lib/python3.8/site-packages/sncosmo/fitting.py:187: RuntimeWarning: Dropping following bands from data: sdss::z(out of model wavelength range)\n",
      "  warnings.warn(\"Dropping following bands from data: \" +\n",
      "/home/joao/.local/lib/python3.8/site-packages/sncosmo/fitting.py:187: RuntimeWarning: Dropping following bands from data: sdss::g, sdss::u, sdss::z(out of model wavelength range)\n",
      "  warnings.warn(\"Dropping following bands from data: \" +\n"
     ]
    },
    {
     "name": "stdout",
     "output_type": "stream",
     "text": [
      "2.756933002922022\n",
      "3.845638146610777\n",
      "3.331876981245218\n",
      "328\n"
     ]
    },
    {
     "name": "stderr",
     "output_type": "stream",
     "text": [
      "/home/joao/.local/lib/python3.8/site-packages/sncosmo/fitting.py:187: RuntimeWarning: Dropping following bands from data: megacampsf::g at 11.357875, megacampsf::r at 11.357875, megacampsf::i at 11.357875(out of model wavelength range)\n",
      "  warnings.warn(\"Dropping following bands from data: \" +\n"
     ]
    },
    {
     "name": "stdout",
     "output_type": "stream",
     "text": [
      "0.24772682361459014\n",
      "0.07276876262686315\n",
      "0.13884460141039676\n",
      "329\n"
     ]
    },
    {
     "name": "stderr",
     "output_type": "stream",
     "text": [
      "/home/joao/.local/lib/python3.8/site-packages/sncosmo/fitting.py:187: RuntimeWarning: Dropping following bands from data: sdss::z(out of model wavelength range)\n",
      "  warnings.warn(\"Dropping following bands from data: \" +\n",
      "/home/joao/.local/lib/python3.8/site-packages/sncosmo/fitting.py:187: RuntimeWarning: Dropping following bands from data: sdss::g, sdss::u, sdss::z(out of model wavelength range)\n",
      "  warnings.warn(\"Dropping following bands from data: \" +\n"
     ]
    },
    {
     "name": "stdout",
     "output_type": "stream",
     "text": [
      "1.7586686288382827\n",
      "3.4559801354380926\n",
      "3.4689376509143677\n",
      "330\n"
     ]
    },
    {
     "name": "stderr",
     "output_type": "stream",
     "text": [
      "/home/joao/.local/lib/python3.8/site-packages/sncosmo/fitting.py:187: RuntimeWarning: Dropping following bands from data: sdss::z(out of model wavelength range)\n",
      "  warnings.warn(\"Dropping following bands from data: \" +\n",
      "/home/joao/.local/lib/python3.8/site-packages/sncosmo/fitting.py:187: RuntimeWarning: Dropping following bands from data: sdss::g, sdss::u, sdss::z(out of model wavelength range)\n",
      "  warnings.warn(\"Dropping following bands from data: \" +\n"
     ]
    },
    {
     "name": "stdout",
     "output_type": "stream",
     "text": [
      "1.1763435597117706\n",
      "1.1727195490724673\n",
      "1.1753104391213\n",
      "331\n"
     ]
    },
    {
     "name": "stderr",
     "output_type": "stream",
     "text": [
      "/home/joao/.local/lib/python3.8/site-packages/sncosmo/fitting.py:187: RuntimeWarning: Dropping following bands from data: sdss::z(out of model wavelength range)\n",
      "  warnings.warn(\"Dropping following bands from data: \" +\n",
      "/home/joao/.local/lib/python3.8/site-packages/sncosmo/fitting.py:187: RuntimeWarning: Dropping following bands from data: sdss::g, sdss::u, sdss::z(out of model wavelength range)\n",
      "  warnings.warn(\"Dropping following bands from data: \" +\n"
     ]
    },
    {
     "name": "stdout",
     "output_type": "stream",
     "text": [
      "1.254997052453945\n",
      "1.1462241957818349\n",
      "1.1858359158957228\n",
      "332\n"
     ]
    },
    {
     "name": "stderr",
     "output_type": "stream",
     "text": [
      "/home/joao/.local/lib/python3.8/site-packages/sncosmo/fitting.py:187: RuntimeWarning: Dropping following bands from data: sdss::z(out of model wavelength range)\n",
      "  warnings.warn(\"Dropping following bands from data: \" +\n",
      "/home/joao/.local/lib/python3.8/site-packages/sncosmo/fitting.py:187: RuntimeWarning: Dropping following bands from data: sdss::g, sdss::u, sdss::z(out of model wavelength range)\n",
      "  warnings.warn(\"Dropping following bands from data: \" +\n"
     ]
    },
    {
     "name": "stdout",
     "output_type": "stream",
     "text": [
      "0.5098763642944164\n",
      "0.8309786066208256\n",
      "0.8456120691850403\n",
      "333\n"
     ]
    },
    {
     "name": "stderr",
     "output_type": "stream",
     "text": [
      "/home/joao/.local/lib/python3.8/site-packages/sncosmo/fitting.py:187: RuntimeWarning: Dropping following bands from data: sdss::g, sdss::u, sdss::z(out of model wavelength range)\n",
      "  warnings.warn(\"Dropping following bands from data: \" +\n"
     ]
    },
    {
     "name": "stdout",
     "output_type": "stream",
     "text": [
      "0.5812445362156061\n",
      "0.8286125438695849\n",
      "0.5981964765056845\n",
      "334\n"
     ]
    },
    {
     "name": "stderr",
     "output_type": "stream",
     "text": [
      "/home/joao/.local/lib/python3.8/site-packages/sncosmo/fitting.py:187: RuntimeWarning: Dropping following bands from data: megacampsf::g at 9.864817(out of model wavelength range)\n",
      "  warnings.warn(\"Dropping following bands from data: \" +\n"
     ]
    },
    {
     "name": "stdout",
     "output_type": "stream",
     "text": [
      "4.206821418226354\n",
      "15.240327968656525\n",
      "18.021507071070257\n",
      "335\n"
     ]
    },
    {
     "name": "stderr",
     "output_type": "stream",
     "text": [
      "/home/joao/.local/lib/python3.8/site-packages/sncosmo/fitting.py:187: RuntimeWarning: Dropping following bands from data: sdss::g, sdss::u, sdss::z(out of model wavelength range)\n",
      "  warnings.warn(\"Dropping following bands from data: \" +\n"
     ]
    },
    {
     "name": "stdout",
     "output_type": "stream",
     "text": [
      "0.9064260275992116\n",
      "1.5514512694507274\n",
      "1.6977694664058305\n",
      "336\n"
     ]
    },
    {
     "name": "stderr",
     "output_type": "stream",
     "text": [
      "/home/joao/.local/lib/python3.8/site-packages/sncosmo/fitting.py:187: RuntimeWarning: Dropping following bands from data: sdss::g, sdss::u, sdss::z(out of model wavelength range)\n",
      "  warnings.warn(\"Dropping following bands from data: \" +\n"
     ]
    },
    {
     "name": "stdout",
     "output_type": "stream",
     "text": [
      "1.1079332074054646\n",
      "0.7979252795149726\n",
      "0.7942321635683961\n",
      "337\n"
     ]
    },
    {
     "name": "stderr",
     "output_type": "stream",
     "text": [
      "/home/joao/.local/lib/python3.8/site-packages/sncosmo/fitting.py:187: RuntimeWarning: Dropping following bands from data: sdss::g, sdss::u, sdss::z(out of model wavelength range)\n",
      "  warnings.warn(\"Dropping following bands from data: \" +\n"
     ]
    },
    {
     "name": "stdout",
     "output_type": "stream",
     "text": [
      "1.184573585363325\n",
      "0.7564245924130236\n",
      "0.7239326437340701\n",
      "338\n"
     ]
    },
    {
     "name": "stderr",
     "output_type": "stream",
     "text": [
      "/home/joao/.local/lib/python3.8/site-packages/sncosmo/fitting.py:187: RuntimeWarning: Dropping following bands from data: sdss::z(out of model wavelength range)\n",
      "  warnings.warn(\"Dropping following bands from data: \" +\n",
      "/home/joao/.local/lib/python3.8/site-packages/sncosmo/fitting.py:187: RuntimeWarning: Dropping following bands from data: sdss::g, sdss::u, sdss::z(out of model wavelength range)\n",
      "  warnings.warn(\"Dropping following bands from data: \" +\n"
     ]
    },
    {
     "name": "stdout",
     "output_type": "stream",
     "text": [
      "1.5595725204388793\n",
      "2.1967314446745845\n",
      "2.2482263950583348\n",
      "339\n",
      "340\n"
     ]
    },
    {
     "name": "stderr",
     "output_type": "stream",
     "text": [
      "/home/joao/.local/lib/python3.8/site-packages/sncosmo/fitting.py:187: RuntimeWarning: Dropping following bands from data: sdss::z(out of model wavelength range)\n",
      "  warnings.warn(\"Dropping following bands from data: \" +\n",
      "/home/joao/.local/lib/python3.8/site-packages/sncosmo/fitting.py:187: RuntimeWarning: Dropping following bands from data: sdss::g, sdss::u, sdss::z(out of model wavelength range)\n",
      "  warnings.warn(\"Dropping following bands from data: \" +\n"
     ]
    },
    {
     "name": "stdout",
     "output_type": "stream",
     "text": [
      "0.9834328836039331\n",
      "1.3127435508111103\n",
      "1.1725950523806545\n",
      "341\n"
     ]
    },
    {
     "name": "stderr",
     "output_type": "stream",
     "text": [
      "/home/joao/.local/lib/python3.8/site-packages/sncosmo/fitting.py:187: RuntimeWarning: Dropping following bands from data: sdss::g, sdss::u(out of model wavelength range)\n",
      "  warnings.warn(\"Dropping following bands from data: \" +\n"
     ]
    },
    {
     "name": "stdout",
     "output_type": "stream",
     "text": [
      "0.7913587024063318\n",
      "0.8037107628878597\n",
      "0.8157733415435129\n",
      "342\n"
     ]
    },
    {
     "name": "stderr",
     "output_type": "stream",
     "text": [
      "/home/joao/.local/lib/python3.8/site-packages/sncosmo/fitting.py:187: RuntimeWarning: Dropping following bands from data: sdss::z(out of model wavelength range)\n",
      "  warnings.warn(\"Dropping following bands from data: \" +\n",
      "/home/joao/.local/lib/python3.8/site-packages/sncosmo/fitting.py:187: RuntimeWarning: Dropping following bands from data: sdss::g, sdss::u, sdss::z(out of model wavelength range)\n",
      "  warnings.warn(\"Dropping following bands from data: \" +\n"
     ]
    },
    {
     "name": "stdout",
     "output_type": "stream",
     "text": [
      "0.8492024251502973\n",
      "3.023914803835054\n",
      "4.6984590458995665\n",
      "343\n"
     ]
    },
    {
     "name": "stderr",
     "output_type": "stream",
     "text": [
      "/home/joao/.local/lib/python3.8/site-packages/sncosmo/fitting.py:187: RuntimeWarning: Dropping following bands from data: standard::i, standard::u(out of model wavelength range)\n",
      "  warnings.warn(\"Dropping following bands from data: \" +\n"
     ]
    },
    {
     "name": "stdout",
     "output_type": "stream",
     "text": [
      "5.3471307584784835\n",
      "6.254279227248186\n",
      "6.631763961705728\n",
      "344\n"
     ]
    },
    {
     "name": "stderr",
     "output_type": "stream",
     "text": [
      "/home/joao/.local/lib/python3.8/site-packages/sncosmo/fitting.py:187: RuntimeWarning: Dropping following bands from data: megacampsf::r at 11.853677, megacampsf::g at 11.853677(out of model wavelength range)\n",
      "  warnings.warn(\"Dropping following bands from data: \" +\n"
     ]
    },
    {
     "name": "stdout",
     "output_type": "stream",
     "text": [
      "2.4680119602488904\n",
      "2.541406320665468\n",
      "2.558457185245646\n",
      "345\n"
     ]
    },
    {
     "name": "stderr",
     "output_type": "stream",
     "text": [
      "/home/joao/.local/lib/python3.8/site-packages/sncosmo/fitting.py:187: RuntimeWarning: Dropping following bands from data: megacampsf::g at 7.161094, megacampsf::r at 7.161094(out of model wavelength range)\n",
      "  warnings.warn(\"Dropping following bands from data: \" +\n"
     ]
    },
    {
     "name": "stdout",
     "output_type": "stream",
     "text": [
      "1.7580682998509576\n",
      "1.6704433251041864\n",
      "1.714984523083128\n",
      "346\n"
     ]
    },
    {
     "name": "stderr",
     "output_type": "stream",
     "text": [
      "/home/joao/.local/lib/python3.8/site-packages/sncosmo/fitting.py:187: RuntimeWarning: Dropping following bands from data: sdss::z(out of model wavelength range)\n",
      "  warnings.warn(\"Dropping following bands from data: \" +\n",
      "/home/joao/.local/lib/python3.8/site-packages/sncosmo/fitting.py:187: RuntimeWarning: Dropping following bands from data: sdss::g, sdss::u, sdss::z(out of model wavelength range)\n",
      "  warnings.warn(\"Dropping following bands from data: \" +\n"
     ]
    },
    {
     "name": "stdout",
     "output_type": "stream",
     "text": [
      "3.4482650628851377\n",
      "0.48797492487210076\n",
      "0.36768329133838445\n",
      "347\n"
     ]
    },
    {
     "name": "stderr",
     "output_type": "stream",
     "text": [
      "/home/joao/.local/lib/python3.8/site-packages/sncosmo/fitting.py:187: RuntimeWarning: Dropping following bands from data: sdss::g, sdss::z(out of model wavelength range)\n",
      "  warnings.warn(\"Dropping following bands from data: \" +\n"
     ]
    },
    {
     "name": "stdout",
     "output_type": "stream",
     "text": [
      "0.8351422336487688\n",
      "1.4401074065634372\n",
      "1.2260481935967977\n",
      "348\n"
     ]
    },
    {
     "name": "stderr",
     "output_type": "stream",
     "text": [
      "/home/joao/.local/lib/python3.8/site-packages/sncosmo/fitting.py:187: RuntimeWarning: Dropping following bands from data: sdss::z(out of model wavelength range)\n",
      "  warnings.warn(\"Dropping following bands from data: \" +\n",
      "/home/joao/.local/lib/python3.8/site-packages/sncosmo/fitting.py:187: RuntimeWarning: Dropping following bands from data: sdss::g, sdss::u, sdss::z(out of model wavelength range)\n",
      "  warnings.warn(\"Dropping following bands from data: \" +\n"
     ]
    },
    {
     "name": "stdout",
     "output_type": "stream",
     "text": [
      "1.241049698322375\n",
      "0.9895800210490933\n",
      "0.9752260162819175\n",
      "349\n"
     ]
    },
    {
     "name": "stderr",
     "output_type": "stream",
     "text": [
      "/home/joao/.local/lib/python3.8/site-packages/sncosmo/fitting.py:187: RuntimeWarning: Dropping following bands from data: sdss::z(out of model wavelength range)\n",
      "  warnings.warn(\"Dropping following bands from data: \" +\n",
      "/home/joao/.local/lib/python3.8/site-packages/sncosmo/fitting.py:187: RuntimeWarning: Dropping following bands from data: sdss::g, sdss::u, sdss::z(out of model wavelength range)\n",
      "  warnings.warn(\"Dropping following bands from data: \" +\n"
     ]
    },
    {
     "name": "stdout",
     "output_type": "stream",
     "text": [
      "0.8107572385387627\n",
      "0.8278579777918127\n",
      "0.7734137872425308\n",
      "350\n"
     ]
    },
    {
     "name": "stderr",
     "output_type": "stream",
     "text": [
      "/home/joao/.local/lib/python3.8/site-packages/sncosmo/fitting.py:187: RuntimeWarning: Dropping following bands from data: megacampsf::g at 10.275726(out of model wavelength range)\n",
      "  warnings.warn(\"Dropping following bands from data: \" +\n"
     ]
    },
    {
     "name": "stdout",
     "output_type": "stream",
     "text": [
      "3.5510809641503016\n",
      "9.731922914739227\n",
      "21.548505235384596\n",
      "351\n"
     ]
    },
    {
     "name": "stderr",
     "output_type": "stream",
     "text": [
      "/home/joao/.local/lib/python3.8/site-packages/sncosmo/fitting.py:187: RuntimeWarning: Dropping following bands from data: sdss::z(out of model wavelength range)\n",
      "  warnings.warn(\"Dropping following bands from data: \" +\n",
      "/home/joao/.local/lib/python3.8/site-packages/sncosmo/fitting.py:187: RuntimeWarning: Dropping following bands from data: sdss::g, sdss::u, sdss::z(out of model wavelength range)\n",
      "  warnings.warn(\"Dropping following bands from data: \" +\n"
     ]
    },
    {
     "name": "stdout",
     "output_type": "stream",
     "text": [
      "0.9068312847512625\n",
      "0.9995633006142598\n",
      "1.0007946388381745\n",
      "352\n"
     ]
    },
    {
     "name": "stderr",
     "output_type": "stream",
     "text": [
      "/home/joao/.local/lib/python3.8/site-packages/sncosmo/fitting.py:187: RuntimeWarning: Dropping following bands from data: megacampsf::g at 11.979979(out of model wavelength range)\n",
      "  warnings.warn(\"Dropping following bands from data: \" +\n"
     ]
    },
    {
     "name": "stdout",
     "output_type": "stream",
     "text": [
      "1.051888770971011\n",
      "3.669047676237808\n",
      "3.931575512567368\n",
      "353\n"
     ]
    },
    {
     "name": "stderr",
     "output_type": "stream",
     "text": [
      "/home/joao/.local/lib/python3.8/site-packages/sncosmo/fitting.py:187: RuntimeWarning: Dropping following bands from data: sdss::g, sdss::u(out of model wavelength range)\n",
      "  warnings.warn(\"Dropping following bands from data: \" +\n"
     ]
    },
    {
     "name": "stdout",
     "output_type": "stream",
     "text": [
      "0.8208994554445416\n",
      "0.8170622213713835\n",
      "0.8198573788137657\n",
      "354\n"
     ]
    },
    {
     "name": "stderr",
     "output_type": "stream",
     "text": [
      "/home/joao/.local/lib/python3.8/site-packages/sncosmo/fitting.py:187: RuntimeWarning: Dropping following bands from data: sdss::z(out of model wavelength range)\n",
      "  warnings.warn(\"Dropping following bands from data: \" +\n",
      "/home/joao/.local/lib/python3.8/site-packages/sncosmo/fitting.py:187: RuntimeWarning: Dropping following bands from data: sdss::g, sdss::u, sdss::z(out of model wavelength range)\n",
      "  warnings.warn(\"Dropping following bands from data: \" +\n"
     ]
    },
    {
     "name": "stdout",
     "output_type": "stream",
     "text": [
      "0.7869820914271632\n",
      "1.2137612421171173\n",
      "1.212719353747336\n",
      "355\n"
     ]
    },
    {
     "name": "stderr",
     "output_type": "stream",
     "text": [
      "/home/joao/.local/lib/python3.8/site-packages/sncosmo/fitting.py:187: RuntimeWarning: Dropping following bands from data: megacampsf::z at 7.942315, megacampsf::g at 7.942315(out of model wavelength range)\n",
      "  warnings.warn(\"Dropping following bands from data: \" +\n"
     ]
    },
    {
     "name": "stdout",
     "output_type": "stream",
     "text": [
      "102.9525090785045\n",
      "23.888628629523524\n",
      "356\n"
     ]
    },
    {
     "name": "stderr",
     "output_type": "stream",
     "text": [
      "/home/joao/.local/lib/python3.8/site-packages/sncosmo/fitting.py:187: RuntimeWarning: Dropping following bands from data: sdss::g, sdss::u, sdss::z(out of model wavelength range)\n",
      "  warnings.warn(\"Dropping following bands from data: \" +\n"
     ]
    },
    {
     "name": "stdout",
     "output_type": "stream",
     "text": [
      "6.543062952585961\n",
      "2.760857373206894\n",
      "3.1897008658089008\n",
      "357\n"
     ]
    },
    {
     "name": "stderr",
     "output_type": "stream",
     "text": [
      "/home/joao/.local/lib/python3.8/site-packages/sncosmo/fitting.py:187: RuntimeWarning: Dropping following bands from data: sdss::g, sdss::u, sdss::z(out of model wavelength range)\n",
      "  warnings.warn(\"Dropping following bands from data: \" +\n"
     ]
    },
    {
     "name": "stdout",
     "output_type": "stream",
     "text": [
      "1.0176524082108438\n",
      "0.7869704053286543\n",
      "0.7906088007876423\n",
      "358\n"
     ]
    },
    {
     "name": "stderr",
     "output_type": "stream",
     "text": [
      "/home/joao/.local/lib/python3.8/site-packages/sncosmo/fitting.py:187: RuntimeWarning: Dropping following bands from data: sdss::z(out of model wavelength range)\n",
      "  warnings.warn(\"Dropping following bands from data: \" +\n",
      "/home/joao/.local/lib/python3.8/site-packages/sncosmo/fitting.py:187: RuntimeWarning: Dropping following bands from data: sdss::g, sdss::u, sdss::z(out of model wavelength range)\n",
      "  warnings.warn(\"Dropping following bands from data: \" +\n"
     ]
    },
    {
     "name": "stdout",
     "output_type": "stream",
     "text": [
      "1.5136312144840351\n",
      "5.440788751015432\n",
      "4.248956852296306\n",
      "359\n"
     ]
    },
    {
     "name": "stderr",
     "output_type": "stream",
     "text": [
      "/home/joao/.local/lib/python3.8/site-packages/sncosmo/fitting.py:187: RuntimeWarning: Dropping following bands from data: sdss::z(out of model wavelength range)\n",
      "  warnings.warn(\"Dropping following bands from data: \" +\n",
      "/home/joao/.local/lib/python3.8/site-packages/sncosmo/fitting.py:187: RuntimeWarning: Dropping following bands from data: sdss::g, sdss::u, sdss::z(out of model wavelength range)\n",
      "  warnings.warn(\"Dropping following bands from data: \" +\n"
     ]
    },
    {
     "name": "stdout",
     "output_type": "stream",
     "text": [
      "0.825105404060645\n",
      "1.0434795151041116\n",
      "1.0363945719333543\n",
      "360\n"
     ]
    },
    {
     "name": "stderr",
     "output_type": "stream",
     "text": [
      "/home/joao/.local/lib/python3.8/site-packages/sncosmo/fitting.py:187: RuntimeWarning: Dropping following bands from data: sdss::g, sdss::u, sdss::z(out of model wavelength range)\n",
      "  warnings.warn(\"Dropping following bands from data: \" +\n"
     ]
    },
    {
     "name": "stdout",
     "output_type": "stream",
     "text": [
      "0.7662784988425078\n",
      "0.9571305635421459\n",
      "0.9911490683044099\n",
      "361\n"
     ]
    },
    {
     "name": "stderr",
     "output_type": "stream",
     "text": [
      "/home/joao/.local/lib/python3.8/site-packages/sncosmo/fitting.py:187: RuntimeWarning: Dropping following bands from data: sdss::z(out of model wavelength range)\n",
      "  warnings.warn(\"Dropping following bands from data: \" +\n",
      "/home/joao/.local/lib/python3.8/site-packages/sncosmo/fitting.py:187: RuntimeWarning: Dropping following bands from data: sdss::g, sdss::u, sdss::z(out of model wavelength range)\n",
      "  warnings.warn(\"Dropping following bands from data: \" +\n"
     ]
    },
    {
     "name": "stdout",
     "output_type": "stream",
     "text": [
      "3.4682635125851875\n",
      "3.8148664210433534\n",
      "3.410460918038484\n",
      "362\n"
     ]
    },
    {
     "name": "stderr",
     "output_type": "stream",
     "text": [
      "/home/joao/.local/lib/python3.8/site-packages/sncosmo/fitting.py:187: RuntimeWarning: Dropping following bands from data: sdss::g, sdss::u, sdss::z(out of model wavelength range)\n",
      "  warnings.warn(\"Dropping following bands from data: \" +\n"
     ]
    },
    {
     "name": "stdout",
     "output_type": "stream",
     "text": [
      "1.4101615358258661\n",
      "1.1932610277235935\n",
      "1.2758701072357126\n",
      "363\n"
     ]
    },
    {
     "name": "stderr",
     "output_type": "stream",
     "text": [
      "/home/joao/.local/lib/python3.8/site-packages/sncosmo/fitting.py:187: RuntimeWarning: Dropping following bands from data: sdss::z(out of model wavelength range)\n",
      "  warnings.warn(\"Dropping following bands from data: \" +\n",
      "/home/joao/.local/lib/python3.8/site-packages/sncosmo/fitting.py:187: RuntimeWarning: Dropping following bands from data: sdss::g, sdss::u, sdss::z(out of model wavelength range)\n",
      "  warnings.warn(\"Dropping following bands from data: \" +\n"
     ]
    },
    {
     "name": "stdout",
     "output_type": "stream",
     "text": [
      "1.3000615424227169\n",
      "1.424631699435231\n",
      "1.4300635571998768\n",
      "364\n"
     ]
    },
    {
     "name": "stderr",
     "output_type": "stream",
     "text": [
      "/home/joao/.local/lib/python3.8/site-packages/sncosmo/fitting.py:187: RuntimeWarning: Dropping following bands from data: sdss::g, sdss::u, sdss::z(out of model wavelength range)\n",
      "  warnings.warn(\"Dropping following bands from data: \" +\n"
     ]
    },
    {
     "name": "stdout",
     "output_type": "stream",
     "text": [
      "0.8799525041363025\n",
      "0.6797780318792179\n",
      "0.688263390019997\n",
      "365\n"
     ]
    },
    {
     "name": "stderr",
     "output_type": "stream",
     "text": [
      "/home/joao/.local/lib/python3.8/site-packages/sncosmo/fitting.py:187: RuntimeWarning: Dropping following bands from data: megacampsf::g at 11.583376(out of model wavelength range)\n",
      "  warnings.warn(\"Dropping following bands from data: \" +\n"
     ]
    },
    {
     "name": "stdout",
     "output_type": "stream",
     "text": [
      "1.8535178746960737\n",
      "10.932331004112687\n",
      "12.351206166679884\n",
      "366\n"
     ]
    },
    {
     "name": "stderr",
     "output_type": "stream",
     "text": [
      "/home/joao/.local/lib/python3.8/site-packages/sncosmo/fitting.py:187: RuntimeWarning: Dropping following bands from data: standard::r, standard::i(out of model wavelength range)\n",
      "  warnings.warn(\"Dropping following bands from data: \" +\n"
     ]
    },
    {
     "name": "stdout",
     "output_type": "stream",
     "text": [
      "7.498009874513\n",
      "9.304285985733406\n",
      "11.40371782588222\n",
      "367\n"
     ]
    },
    {
     "name": "stderr",
     "output_type": "stream",
     "text": [
      "/home/joao/.local/lib/python3.8/site-packages/sncosmo/fitting.py:187: RuntimeWarning: Dropping following bands from data: swope2::b, swope2::u(out of model wavelength range)\n",
      "  warnings.warn(\"Dropping following bands from data: \" +\n"
     ]
    },
    {
     "name": "stdout",
     "output_type": "stream",
     "text": [
      "1.9963881910582\n",
      "44.10668251939234\n",
      "16.232108010602047\n",
      "368\n"
     ]
    },
    {
     "name": "stderr",
     "output_type": "stream",
     "text": [
      "/home/joao/.local/lib/python3.8/site-packages/sncosmo/fitting.py:187: RuntimeWarning: Dropping following bands from data: sdss::z(out of model wavelength range)\n",
      "  warnings.warn(\"Dropping following bands from data: \" +\n",
      "/home/joao/.local/lib/python3.8/site-packages/sncosmo/fitting.py:187: RuntimeWarning: Dropping following bands from data: sdss::g, sdss::u, sdss::z(out of model wavelength range)\n",
      "  warnings.warn(\"Dropping following bands from data: \" +\n"
     ]
    },
    {
     "name": "stdout",
     "output_type": "stream",
     "text": [
      "0.6563056123803246\n",
      "0.5808179062874794\n",
      "0.5811241184059973\n",
      "369\n"
     ]
    },
    {
     "name": "stderr",
     "output_type": "stream",
     "text": [
      "/home/joao/.local/lib/python3.8/site-packages/sncosmo/fitting.py:187: RuntimeWarning: Dropping following bands from data: sdss::z(out of model wavelength range)\n",
      "  warnings.warn(\"Dropping following bands from data: \" +\n",
      "/home/joao/.local/lib/python3.8/site-packages/sncosmo/fitting.py:187: RuntimeWarning: Dropping following bands from data: sdss::g, sdss::u, sdss::z(out of model wavelength range)\n",
      "  warnings.warn(\"Dropping following bands from data: \" +\n"
     ]
    },
    {
     "name": "stdout",
     "output_type": "stream",
     "text": [
      "0.46144917208769576\n",
      "0.5061297395788467\n",
      "0.47459730973530034\n",
      "370\n"
     ]
    },
    {
     "name": "stderr",
     "output_type": "stream",
     "text": [
      "/home/joao/.local/lib/python3.8/site-packages/sncosmo/fitting.py:187: RuntimeWarning: Dropping following bands from data: sdss::g, sdss::u, sdss::z(out of model wavelength range)\n",
      "  warnings.warn(\"Dropping following bands from data: \" +\n"
     ]
    },
    {
     "name": "stdout",
     "output_type": "stream",
     "text": [
      "0.6635031756317303\n",
      "0.5290282241794971\n",
      "0.5184531841080762\n",
      "371\n"
     ]
    },
    {
     "name": "stderr",
     "output_type": "stream",
     "text": [
      "/home/joao/.local/lib/python3.8/site-packages/sncosmo/fitting.py:187: RuntimeWarning: Dropping following bands from data: sdss::z(out of model wavelength range)\n",
      "  warnings.warn(\"Dropping following bands from data: \" +\n",
      "/home/joao/.local/lib/python3.8/site-packages/sncosmo/fitting.py:187: RuntimeWarning: Dropping following bands from data: sdss::g, sdss::u, sdss::z(out of model wavelength range)\n",
      "  warnings.warn(\"Dropping following bands from data: \" +\n"
     ]
    },
    {
     "name": "stdout",
     "output_type": "stream",
     "text": [
      "2.5354572679026033\n",
      "4.392661204640097\n",
      "7.830712917584953\n",
      "372\n"
     ]
    },
    {
     "name": "stderr",
     "output_type": "stream",
     "text": [
      "/home/joao/.local/lib/python3.8/site-packages/sncosmo/fitting.py:187: RuntimeWarning: Dropping following bands from data: megacampsf::g at 9.608375(out of model wavelength range)\n",
      "  warnings.warn(\"Dropping following bands from data: \" +\n"
     ]
    },
    {
     "name": "stdout",
     "output_type": "stream",
     "text": [
      "1.6986703570602315\n",
      "1.557618135144329\n",
      "1.6919619595776365\n",
      "373\n"
     ]
    },
    {
     "name": "stderr",
     "output_type": "stream",
     "text": [
      "/home/joao/.local/lib/python3.8/site-packages/sncosmo/fitting.py:187: RuntimeWarning: Dropping following bands from data: sdss::g, sdss::u, sdss::z(out of model wavelength range)\n",
      "  warnings.warn(\"Dropping following bands from data: \" +\n"
     ]
    },
    {
     "name": "stdout",
     "output_type": "stream",
     "text": [
      "0.8489113839553919\n",
      "0.4161452425505014\n",
      "0.42941962211580487\n",
      "374\n"
     ]
    },
    {
     "name": "stderr",
     "output_type": "stream",
     "text": [
      "/home/joao/.local/lib/python3.8/site-packages/sncosmo/fitting.py:187: RuntimeWarning: Dropping following bands from data: sdss::z(out of model wavelength range)\n",
      "  warnings.warn(\"Dropping following bands from data: \" +\n",
      "/home/joao/.local/lib/python3.8/site-packages/sncosmo/fitting.py:187: RuntimeWarning: Dropping following bands from data: keplercam::b, sdss::g, sdss::u, sdss::z(out of model wavelength range)\n",
      "  warnings.warn(\"Dropping following bands from data: \" +\n"
     ]
    },
    {
     "name": "stdout",
     "output_type": "stream",
     "text": [
      "1.8433294803952687\n",
      "5.597712907446854\n",
      "8.116110478054456\n",
      "375\n"
     ]
    },
    {
     "name": "stderr",
     "output_type": "stream",
     "text": [
      "/home/joao/.local/lib/python3.8/site-packages/sncosmo/fitting.py:187: RuntimeWarning: Dropping following bands from data: swope2::b, swope2::u(out of model wavelength range)\n",
      "  warnings.warn(\"Dropping following bands from data: \" +\n"
     ]
    },
    {
     "name": "stdout",
     "output_type": "stream",
     "text": [
      "15.238573953048274\n",
      "114.21034509503512\n",
      "112.15537897876487\n",
      "376\n"
     ]
    },
    {
     "name": "stderr",
     "output_type": "stream",
     "text": [
      "/home/joao/.local/lib/python3.8/site-packages/sncosmo/fitting.py:187: RuntimeWarning: Dropping following bands from data: sdss::z(out of model wavelength range)\n",
      "  warnings.warn(\"Dropping following bands from data: \" +\n",
      "/home/joao/.local/lib/python3.8/site-packages/sncosmo/fitting.py:187: RuntimeWarning: Dropping following bands from data: sdss::g, sdss::u, sdss::z(out of model wavelength range)\n",
      "  warnings.warn(\"Dropping following bands from data: \" +\n"
     ]
    },
    {
     "name": "stdout",
     "output_type": "stream",
     "text": [
      "0.9679171865976673\n",
      "1.779094648843655\n",
      "1.6892128387390308\n",
      "377\n"
     ]
    },
    {
     "name": "stderr",
     "output_type": "stream",
     "text": [
      "/home/joao/.local/lib/python3.8/site-packages/sncosmo/fitting.py:187: RuntimeWarning: Dropping following bands from data: sdss::z(out of model wavelength range)\n",
      "  warnings.warn(\"Dropping following bands from data: \" +\n",
      "/home/joao/.local/lib/python3.8/site-packages/sncosmo/fitting.py:187: RuntimeWarning: Dropping following bands from data: sdss::g, sdss::u, sdss::z(out of model wavelength range)\n",
      "  warnings.warn(\"Dropping following bands from data: \" +\n"
     ]
    },
    {
     "name": "stdout",
     "output_type": "stream",
     "text": [
      "1.432488072819187\n",
      "1.2185333825550748\n",
      "1.3937157195222616\n",
      "378\n"
     ]
    },
    {
     "name": "stderr",
     "output_type": "stream",
     "text": [
      "/home/joao/.local/lib/python3.8/site-packages/sncosmo/fitting.py:187: RuntimeWarning: Dropping following bands from data: sdss::z(out of model wavelength range)\n",
      "  warnings.warn(\"Dropping following bands from data: \" +\n",
      "/home/joao/.local/lib/python3.8/site-packages/sncosmo/fitting.py:187: RuntimeWarning: Dropping following bands from data: sdss::g, sdss::u, sdss::z(out of model wavelength range)\n",
      "  warnings.warn(\"Dropping following bands from data: \" +\n"
     ]
    },
    {
     "name": "stdout",
     "output_type": "stream",
     "text": [
      "4.227628282166288\n",
      "2.205625219318257\n",
      "4.958050723057255\n",
      "379\n"
     ]
    },
    {
     "name": "stderr",
     "output_type": "stream",
     "text": [
      "/home/joao/.local/lib/python3.8/site-packages/sncosmo/fitting.py:187: RuntimeWarning: Dropping following bands from data: sdss::z(out of model wavelength range)\n",
      "  warnings.warn(\"Dropping following bands from data: \" +\n",
      "/home/joao/.local/lib/python3.8/site-packages/sncosmo/fitting.py:187: RuntimeWarning: Dropping following bands from data: sdss::g, sdss::u, sdss::z(out of model wavelength range)\n",
      "  warnings.warn(\"Dropping following bands from data: \" +\n"
     ]
    },
    {
     "name": "stdout",
     "output_type": "stream",
     "text": [
      "1.0862468873587794\n",
      "1.3642233210571244\n",
      "1.8262343385553232\n",
      "380\n"
     ]
    },
    {
     "name": "stderr",
     "output_type": "stream",
     "text": [
      "/home/joao/.local/lib/python3.8/site-packages/sncosmo/fitting.py:187: RuntimeWarning: Dropping following bands from data: megacampsf::g at 6.595752(out of model wavelength range)\n",
      "  warnings.warn(\"Dropping following bands from data: \" +\n"
     ]
    },
    {
     "name": "stdout",
     "output_type": "stream",
     "text": [
      "6.346438628472048\n",
      "68.05299699441704\n",
      "163.75600254111382\n",
      "381\n"
     ]
    },
    {
     "name": "stderr",
     "output_type": "stream",
     "text": [
      "/home/joao/.local/lib/python3.8/site-packages/sncosmo/fitting.py:187: RuntimeWarning: Dropping following bands from data: megacampsf::z at 11.639204(out of model wavelength range)\n",
      "  warnings.warn(\"Dropping following bands from data: \" +\n"
     ]
    },
    {
     "name": "stdout",
     "output_type": "stream",
     "text": [
      "6.972007107243166\n",
      "19.8756075520306\n",
      "35.57918207839011\n",
      "382\n"
     ]
    },
    {
     "name": "stderr",
     "output_type": "stream",
     "text": [
      "/home/joao/.local/lib/python3.8/site-packages/sncosmo/fitting.py:187: RuntimeWarning: Dropping following bands from data: sdss::g, sdss::u, sdss::z(out of model wavelength range)\n",
      "  warnings.warn(\"Dropping following bands from data: \" +\n"
     ]
    },
    {
     "name": "stdout",
     "output_type": "stream",
     "text": [
      "0.7988628090768898\n",
      "0.677188020603833\n",
      "0.6897499902069953\n",
      "383\n"
     ]
    },
    {
     "name": "stderr",
     "output_type": "stream",
     "text": [
      "/home/joao/.local/lib/python3.8/site-packages/sncosmo/fitting.py:187: RuntimeWarning: Dropping following bands from data: acswf::f606w, acswf::f775w(out of model wavelength range)\n",
      "  warnings.warn(\"Dropping following bands from data: \" +\n"
     ]
    },
    {
     "name": "stdout",
     "output_type": "stream",
     "text": [
      "5.785630742029426\n",
      "1.6469371798223365\n",
      "2.2326007941373165\n",
      "384\n"
     ]
    },
    {
     "name": "stderr",
     "output_type": "stream",
     "text": [
      "/home/joao/.local/lib/python3.8/site-packages/sncosmo/fitting.py:187: RuntimeWarning: Dropping following bands from data: sdss::g, sdss::u, sdss::z(out of model wavelength range)\n",
      "  warnings.warn(\"Dropping following bands from data: \" +\n"
     ]
    },
    {
     "name": "stdout",
     "output_type": "stream",
     "text": [
      "1.1647508700306743\n",
      "0.970316281793826\n",
      "0.9724765029551182\n",
      "385\n"
     ]
    },
    {
     "name": "stderr",
     "output_type": "stream",
     "text": [
      "/home/joao/.local/lib/python3.8/site-packages/sncosmo/fitting.py:187: RuntimeWarning: Dropping following bands from data: sdss::g, sdss::u, sdss::z(out of model wavelength range)\n",
      "  warnings.warn(\"Dropping following bands from data: \" +\n"
     ]
    },
    {
     "name": "stdout",
     "output_type": "stream",
     "text": [
      "1.0052861180950976\n",
      "0.7250271156866753\n",
      "0.7468953309565373\n",
      "386\n"
     ]
    },
    {
     "name": "stderr",
     "output_type": "stream",
     "text": [
      "/home/joao/.local/lib/python3.8/site-packages/sncosmo/fitting.py:187: RuntimeWarning: Dropping following bands from data: sdss::g, sdss::u, sdss::z(out of model wavelength range)\n",
      "  warnings.warn(\"Dropping following bands from data: \" +\n"
     ]
    },
    {
     "name": "stdout",
     "output_type": "stream",
     "text": [
      "1.253172069102786\n",
      "1.7983025790447413\n",
      "1.880022229352433\n",
      "387\n"
     ]
    },
    {
     "name": "stderr",
     "output_type": "stream",
     "text": [
      "/home/joao/.local/lib/python3.8/site-packages/sncosmo/fitting.py:187: RuntimeWarning: Dropping following bands from data: sdss::z(out of model wavelength range)\n",
      "  warnings.warn(\"Dropping following bands from data: \" +\n",
      "/home/joao/.local/lib/python3.8/site-packages/sncosmo/fitting.py:187: RuntimeWarning: Dropping following bands from data: sdss::g, sdss::u, sdss::z(out of model wavelength range)\n",
      "  warnings.warn(\"Dropping following bands from data: \" +\n"
     ]
    },
    {
     "name": "stdout",
     "output_type": "stream",
     "text": [
      "0.9799544583604737\n",
      "0.6009350939421347\n",
      "0.600310749564158\n",
      "388\n"
     ]
    },
    {
     "name": "stderr",
     "output_type": "stream",
     "text": [
      "/home/joao/.local/lib/python3.8/site-packages/sncosmo/fitting.py:187: RuntimeWarning: Dropping following bands from data: sdss::z(out of model wavelength range)\n",
      "  warnings.warn(\"Dropping following bands from data: \" +\n",
      "/home/joao/.local/lib/python3.8/site-packages/sncosmo/fitting.py:187: RuntimeWarning: Dropping following bands from data: sdss::g, sdss::u, sdss::z(out of model wavelength range)\n",
      "  warnings.warn(\"Dropping following bands from data: \" +\n"
     ]
    },
    {
     "name": "stdout",
     "output_type": "stream",
     "text": [
      "1.0895003511894599\n",
      "1.7250516565921747\n",
      "1.6294535649766635\n",
      "389\n"
     ]
    },
    {
     "name": "stderr",
     "output_type": "stream",
     "text": [
      "/home/joao/.local/lib/python3.8/site-packages/sncosmo/fitting.py:187: RuntimeWarning: Dropping following bands from data: standard::i(out of model wavelength range)\n",
      "  warnings.warn(\"Dropping following bands from data: \" +\n"
     ]
    },
    {
     "name": "stdout",
     "output_type": "stream",
     "text": [
      "1.4732082192057219\n",
      "0.5882388717220214\n",
      "0.7061608947850949\n",
      "390\n"
     ]
    },
    {
     "name": "stderr",
     "output_type": "stream",
     "text": [
      "/home/joao/.local/lib/python3.8/site-packages/sncosmo/fitting.py:187: RuntimeWarning: Dropping following bands from data: sdss::z(out of model wavelength range)\n",
      "  warnings.warn(\"Dropping following bands from data: \" +\n",
      "/home/joao/.local/lib/python3.8/site-packages/sncosmo/fitting.py:187: RuntimeWarning: Dropping following bands from data: sdss::g, sdss::u, sdss::z(out of model wavelength range)\n",
      "  warnings.warn(\"Dropping following bands from data: \" +\n"
     ]
    },
    {
     "name": "stdout",
     "output_type": "stream",
     "text": [
      "0.7435342126911231\n",
      "3.1313691748050907\n",
      "3.8062676043451162\n",
      "391\n"
     ]
    },
    {
     "name": "stderr",
     "output_type": "stream",
     "text": [
      "/home/joao/.local/lib/python3.8/site-packages/sncosmo/fitting.py:187: RuntimeWarning: Dropping following bands from data: megacampsf::g at 12.870721, megacampsf::r at 12.870721(out of model wavelength range)\n",
      "  warnings.warn(\"Dropping following bands from data: \" +\n"
     ]
    },
    {
     "name": "stdout",
     "output_type": "stream",
     "text": [
      "1.3687707247030465\n",
      "1.3449324349616167\n",
      "1.4005079897006365\n",
      "392\n"
     ]
    },
    {
     "name": "stderr",
     "output_type": "stream",
     "text": [
      "/home/joao/.local/lib/python3.8/site-packages/sncosmo/fitting.py:187: RuntimeWarning: Dropping following bands from data: sdss::g, sdss::u, sdss::z(out of model wavelength range)\n",
      "  warnings.warn(\"Dropping following bands from data: \" +\n"
     ]
    },
    {
     "name": "stdout",
     "output_type": "stream",
     "text": [
      "1.0514332172449563\n",
      "0.9535453242221713\n",
      "0.9544199403519987\n",
      "393\n"
     ]
    },
    {
     "name": "stderr",
     "output_type": "stream",
     "text": [
      "/home/joao/.local/lib/python3.8/site-packages/sncosmo/fitting.py:187: RuntimeWarning: Dropping following bands from data: sdss::g, sdss::u(out of model wavelength range)\n",
      "  warnings.warn(\"Dropping following bands from data: \" +\n"
     ]
    },
    {
     "name": "stdout",
     "output_type": "stream",
     "text": [
      "0.7846094578936668\n",
      "0.7532392480475886\n",
      "0.7118444784701701\n",
      "394\n"
     ]
    },
    {
     "name": "stderr",
     "output_type": "stream",
     "text": [
      "/home/joao/.local/lib/python3.8/site-packages/sncosmo/fitting.py:187: RuntimeWarning: Dropping following bands from data: megacampsf::r at 3.391822, megacampsf::g at 3.391822(out of model wavelength range)\n",
      "  warnings.warn(\"Dropping following bands from data: \" +\n"
     ]
    },
    {
     "name": "stdout",
     "output_type": "stream",
     "text": [
      "3.15733199013178\n",
      "6.257589874437162\n",
      "3.895362877647025\n",
      "395\n"
     ]
    },
    {
     "name": "stderr",
     "output_type": "stream",
     "text": [
      "/home/joao/.local/lib/python3.8/site-packages/sncosmo/fitting.py:187: RuntimeWarning: Dropping following bands from data: swope2::b, swope2::u(out of model wavelength range)\n",
      "  warnings.warn(\"Dropping following bands from data: \" +\n"
     ]
    },
    {
     "name": "stdout",
     "output_type": "stream",
     "text": [
      "14.982949616596608\n",
      "195.5200992819779\n",
      "195.11798995195514\n",
      "396\n"
     ]
    },
    {
     "name": "stderr",
     "output_type": "stream",
     "text": [
      "/home/joao/.local/lib/python3.8/site-packages/sncosmo/fitting.py:187: RuntimeWarning: Dropping following bands from data: sdss::g, sdss::u, sdss::z(out of model wavelength range)\n",
      "  warnings.warn(\"Dropping following bands from data: \" +\n"
     ]
    },
    {
     "name": "stdout",
     "output_type": "stream",
     "text": [
      "1.1684268301742677\n",
      "0.7075321524332249\n",
      "0.6189866328922488\n",
      "397\n"
     ]
    },
    {
     "name": "stderr",
     "output_type": "stream",
     "text": [
      "/home/joao/.local/lib/python3.8/site-packages/sncosmo/fitting.py:187: RuntimeWarning: Dropping following bands from data: megacampsf::g at 8.904867, megacampsf::r at 8.904867(out of model wavelength range)\n",
      "  warnings.warn(\"Dropping following bands from data: \" +\n"
     ]
    },
    {
     "name": "stdout",
     "output_type": "stream",
     "text": [
      "1.2972898408473197\n",
      "2.213003256048711\n",
      "2.094428173633243\n",
      "398\n"
     ]
    },
    {
     "name": "stderr",
     "output_type": "stream",
     "text": [
      "/home/joao/.local/lib/python3.8/site-packages/sncosmo/fitting.py:187: RuntimeWarning: Dropping following bands from data: sdss::g, sdss::u, sdss::z(out of model wavelength range)\n",
      "  warnings.warn(\"Dropping following bands from data: \" +\n"
     ]
    },
    {
     "name": "stdout",
     "output_type": "stream",
     "text": [
      "1.13290022947314\n",
      "1.6789753432279217\n",
      "1.9252028431347494\n",
      "399\n"
     ]
    },
    {
     "name": "stderr",
     "output_type": "stream",
     "text": [
      "/home/joao/.local/lib/python3.8/site-packages/sncosmo/fitting.py:187: RuntimeWarning: Dropping following bands from data: sdss::g, sdss::u, sdss::z(out of model wavelength range)\n",
      "  warnings.warn(\"Dropping following bands from data: \" +\n"
     ]
    },
    {
     "name": "stdout",
     "output_type": "stream",
     "text": [
      "1.3807901518439227\n",
      "1.2703892675516122\n",
      "1.2339212520592377\n",
      "400\n"
     ]
    },
    {
     "name": "stderr",
     "output_type": "stream",
     "text": [
      "/home/joao/.local/lib/python3.8/site-packages/sncosmo/fitting.py:187: RuntimeWarning: Dropping following bands from data: megacampsf::r at 11.664306, megacampsf::g at 11.664306(out of model wavelength range)\n",
      "  warnings.warn(\"Dropping following bands from data: \" +\n"
     ]
    },
    {
     "name": "stdout",
     "output_type": "stream",
     "text": [
      "1.312216892037137\n",
      "1.2855057173567088\n",
      "1.295767605103909\n",
      "401\n"
     ]
    },
    {
     "name": "stderr",
     "output_type": "stream",
     "text": [
      "/home/joao/.local/lib/python3.8/site-packages/sncosmo/fitting.py:187: RuntimeWarning: Dropping following bands from data: megacampsf::r at 9.156801, megacampsf::g at 9.156801(out of model wavelength range)\n",
      "  warnings.warn(\"Dropping following bands from data: \" +\n"
     ]
    },
    {
     "name": "stdout",
     "output_type": "stream",
     "text": [
      "1.1019760927302311\n",
      "1.6764909927485279\n",
      "1.8320433388876551\n",
      "402\n"
     ]
    },
    {
     "name": "stderr",
     "output_type": "stream",
     "text": [
      "/home/joao/.local/lib/python3.8/site-packages/sncosmo/fitting.py:187: RuntimeWarning: Dropping following bands from data: sdss::z(out of model wavelength range)\n",
      "  warnings.warn(\"Dropping following bands from data: \" +\n",
      "/home/joao/.local/lib/python3.8/site-packages/sncosmo/fitting.py:187: RuntimeWarning: Dropping following bands from data: sdss::g, sdss::u, sdss::z(out of model wavelength range)\n",
      "  warnings.warn(\"Dropping following bands from data: \" +\n"
     ]
    },
    {
     "name": "stdout",
     "output_type": "stream",
     "text": [
      "0.674780592141358\n",
      "0.8127400361669102\n",
      "0.8208786342586524\n",
      "403\n"
     ]
    },
    {
     "name": "stderr",
     "output_type": "stream",
     "text": [
      "/home/joao/.local/lib/python3.8/site-packages/sncosmo/fitting.py:187: RuntimeWarning: Dropping following bands from data: sdss::g, sdss::u(out of model wavelength range)\n",
      "  warnings.warn(\"Dropping following bands from data: \" +\n"
     ]
    },
    {
     "name": "stdout",
     "output_type": "stream",
     "text": [
      "0.7254733375389826\n",
      "0.605800926354579\n",
      "0.595089962103887\n",
      "404\n"
     ]
    },
    {
     "name": "stderr",
     "output_type": "stream",
     "text": [
      "/home/joao/.local/lib/python3.8/site-packages/sncosmo/fitting.py:187: RuntimeWarning: Dropping following bands from data: megacampsf::r at 15.344670, megacampsf::g at 15.344670, megacampsf::i at 15.344670(out of model wavelength range)\n",
      "  warnings.warn(\"Dropping following bands from data: \" +\n"
     ]
    },
    {
     "name": "stdout",
     "output_type": "stream",
     "text": [
      "405\n"
     ]
    },
    {
     "name": "stderr",
     "output_type": "stream",
     "text": [
      "/home/joao/.local/lib/python3.8/site-packages/sncosmo/fitting.py:187: RuntimeWarning: Dropping following bands from data: megacampsf::g at 11.748632(out of model wavelength range)\n",
      "  warnings.warn(\"Dropping following bands from data: \" +\n",
      "/home/joao/.local/lib/python3.8/site-packages/sncosmo/fitting.py:187: RuntimeWarning: Dropping following bands from data: megacampsf::r at 11.748632, megacampsf::g at 11.748632, megacampsf::i at 11.748632(out of model wavelength range)\n",
      "  warnings.warn(\"Dropping following bands from data: \" +\n"
     ]
    },
    {
     "name": "stdout",
     "output_type": "stream",
     "text": [
      "1.8196803174369451\n",
      "1.6271257578611604\n",
      "1.6177803347541027\n",
      "406\n"
     ]
    },
    {
     "name": "stderr",
     "output_type": "stream",
     "text": [
      "/home/joao/.local/lib/python3.8/site-packages/sncosmo/fitting.py:187: RuntimeWarning: Dropping following bands from data: sdss::z(out of model wavelength range)\n",
      "  warnings.warn(\"Dropping following bands from data: \" +\n",
      "/home/joao/.local/lib/python3.8/site-packages/sncosmo/fitting.py:187: RuntimeWarning: Dropping following bands from data: sdss::g, sdss::u, sdss::z(out of model wavelength range)\n",
      "  warnings.warn(\"Dropping following bands from data: \" +\n"
     ]
    },
    {
     "name": "stdout",
     "output_type": "stream",
     "text": [
      "1.161488520443482\n",
      "0.8808647104966837\n",
      "0.8916021920254228\n",
      "407\n"
     ]
    },
    {
     "name": "stderr",
     "output_type": "stream",
     "text": [
      "/home/joao/.local/lib/python3.8/site-packages/sncosmo/fitting.py:187: RuntimeWarning: Dropping following bands from data: keplercam::i, keplercam::b(out of model wavelength range)\n",
      "  warnings.warn(\"Dropping following bands from data: \" +\n"
     ]
    },
    {
     "name": "stdout",
     "output_type": "stream",
     "text": [
      "5.690935522900928\n",
      "4.723966240452639\n",
      "4.82935939208524\n",
      "408\n"
     ]
    },
    {
     "name": "stderr",
     "output_type": "stream",
     "text": [
      "/home/joao/.local/lib/python3.8/site-packages/sncosmo/fitting.py:187: RuntimeWarning: Dropping following bands from data: sdss::z(out of model wavelength range)\n",
      "  warnings.warn(\"Dropping following bands from data: \" +\n",
      "/home/joao/.local/lib/python3.8/site-packages/sncosmo/fitting.py:187: RuntimeWarning: Dropping following bands from data: sdss::g, sdss::u, sdss::z(out of model wavelength range)\n",
      "  warnings.warn(\"Dropping following bands from data: \" +\n"
     ]
    },
    {
     "name": "stdout",
     "output_type": "stream",
     "text": [
      "1.00074620907326\n",
      "1.6509163411938872\n",
      "1.3539567196388682\n",
      "409\n",
      "410\n"
     ]
    },
    {
     "name": "stderr",
     "output_type": "stream",
     "text": [
      "/home/joao/.local/lib/python3.8/site-packages/sncosmo/fitting.py:187: RuntimeWarning: Dropping following bands from data: sdss::g, sdss::u, sdss::z(out of model wavelength range)\n",
      "  warnings.warn(\"Dropping following bands from data: \" +\n"
     ]
    },
    {
     "name": "stdout",
     "output_type": "stream",
     "text": [
      "0.6149470280724892\n",
      "0.5814941066446031\n",
      "0.5444280743284095\n",
      "411\n"
     ]
    },
    {
     "name": "stderr",
     "output_type": "stream",
     "text": [
      "/home/joao/.local/lib/python3.8/site-packages/sncosmo/fitting.py:187: RuntimeWarning: Dropping following bands from data: megacampsf::r at 5.300147, megacampsf::g at 5.300147(out of model wavelength range)\n",
      "  warnings.warn(\"Dropping following bands from data: \" +\n"
     ]
    },
    {
     "name": "stdout",
     "output_type": "stream",
     "text": [
      "1.6853830092114914\n",
      "0.8441098306877942\n",
      "1.5848838229540374\n",
      "412\n"
     ]
    },
    {
     "name": "stderr",
     "output_type": "stream",
     "text": [
      "/home/joao/.local/lib/python3.8/site-packages/sncosmo/fitting.py:187: RuntimeWarning: Dropping following bands from data: 4shooter2::us, 4shooter2::i, 4shooter2::r, 4shooter2::b(out of model wavelength range)\n",
      "  warnings.warn(\"Dropping following bands from data: \" +\n"
     ]
    },
    {
     "name": "stdout",
     "output_type": "stream",
     "text": [
      "2.8609835417163096\n",
      "3.1068297400868876\n",
      "3.2001796655321306\n",
      "413\n"
     ]
    },
    {
     "name": "stderr",
     "output_type": "stream",
     "text": [
      "/home/joao/.local/lib/python3.8/site-packages/sncosmo/fitting.py:187: RuntimeWarning: Dropping following bands from data: standard::b, standard::r, standard::i, standard::u(out of model wavelength range)\n",
      "  warnings.warn(\"Dropping following bands from data: \" +\n"
     ]
    },
    {
     "name": "stdout",
     "output_type": "stream",
     "text": [
      "4.346142919363308\n",
      "414\n"
     ]
    },
    {
     "name": "stderr",
     "output_type": "stream",
     "text": [
      "/home/joao/.local/lib/python3.8/site-packages/sncosmo/fitting.py:187: RuntimeWarning: Dropping following bands from data: megacampsf::g at 14.094131, megacampsf::r at 14.094131(out of model wavelength range)\n",
      "  warnings.warn(\"Dropping following bands from data: \" +\n"
     ]
    },
    {
     "name": "stdout",
     "output_type": "stream",
     "text": [
      "1.0380723865562749\n",
      "0.9950169852350168\n",
      "1.0321501963785937\n",
      "415\n"
     ]
    },
    {
     "name": "stderr",
     "output_type": "stream",
     "text": [
      "/home/joao/.local/lib/python3.8/site-packages/sncosmo/fitting.py:187: RuntimeWarning: Dropping following bands from data: sdss::g, sdss::u, sdss::z(out of model wavelength range)\n",
      "  warnings.warn(\"Dropping following bands from data: \" +\n"
     ]
    },
    {
     "name": "stdout",
     "output_type": "stream",
     "text": [
      "0.718686306564363\n",
      "0.8402078586159878\n",
      "0.8439173102957862\n",
      "416\n"
     ]
    },
    {
     "name": "stderr",
     "output_type": "stream",
     "text": [
      "/home/joao/.local/lib/python3.8/site-packages/sncosmo/fitting.py:187: RuntimeWarning: Dropping following bands from data: megacampsf::g at 9.587114(out of model wavelength range)\n",
      "  warnings.warn(\"Dropping following bands from data: \" +\n"
     ]
    },
    {
     "name": "stdout",
     "output_type": "stream",
     "text": [
      "1.9605278656775627\n",
      "4.574270620492634\n",
      "6.44659065483028\n",
      "417\n"
     ]
    },
    {
     "name": "stderr",
     "output_type": "stream",
     "text": [
      "/home/joao/.local/lib/python3.8/site-packages/sncosmo/fitting.py:187: RuntimeWarning: Dropping following bands from data: sdss::z(out of model wavelength range)\n",
      "  warnings.warn(\"Dropping following bands from data: \" +\n",
      "/home/joao/.local/lib/python3.8/site-packages/sncosmo/fitting.py:187: RuntimeWarning: Dropping following bands from data: sdss::g, sdss::u, sdss::z(out of model wavelength range)\n",
      "  warnings.warn(\"Dropping following bands from data: \" +\n"
     ]
    },
    {
     "name": "stdout",
     "output_type": "stream",
     "text": [
      "1.8817267339391344\n",
      "2.6597453520935006\n",
      "2.6165386908161796\n",
      "418\n"
     ]
    },
    {
     "name": "stderr",
     "output_type": "stream",
     "text": [
      "/home/joao/.local/lib/python3.8/site-packages/sncosmo/fitting.py:187: RuntimeWarning: Dropping following bands from data: sdss::z(out of model wavelength range)\n",
      "  warnings.warn(\"Dropping following bands from data: \" +\n",
      "/home/joao/.local/lib/python3.8/site-packages/sncosmo/fitting.py:187: RuntimeWarning: Dropping following bands from data: sdss::g, sdss::u, sdss::z(out of model wavelength range)\n",
      "  warnings.warn(\"Dropping following bands from data: \" +\n"
     ]
    },
    {
     "name": "stdout",
     "output_type": "stream",
     "text": [
      "1.886732337907182\n",
      "0.5629961033469316\n",
      "0.5498299078075776\n",
      "419\n"
     ]
    },
    {
     "name": "stderr",
     "output_type": "stream",
     "text": [
      "/home/joao/.local/lib/python3.8/site-packages/sncosmo/fitting.py:187: RuntimeWarning: Dropping following bands from data: sdss::g, sdss::u(out of model wavelength range)\n",
      "  warnings.warn(\"Dropping following bands from data: \" +\n"
     ]
    },
    {
     "name": "stdout",
     "output_type": "stream",
     "text": [
      "0.9714826231547846\n",
      "0.9721794322979915\n",
      "0.9717815908484564\n",
      "420\n"
     ]
    },
    {
     "name": "stderr",
     "output_type": "stream",
     "text": [
      "/home/joao/.local/lib/python3.8/site-packages/sncosmo/fitting.py:187: RuntimeWarning: Dropping following bands from data: standard::b, standard::r, standard::u, standard::i(out of model wavelength range)\n",
      "  warnings.warn(\"Dropping following bands from data: \" +\n"
     ]
    },
    {
     "name": "stdout",
     "output_type": "stream",
     "text": [
      "2.7922829940898577\n",
      "3.7540655495750994\n",
      "4.915639620219257\n",
      "421\n"
     ]
    },
    {
     "name": "stderr",
     "output_type": "stream",
     "text": [
      "/home/joao/.local/lib/python3.8/site-packages/sncosmo/fitting.py:187: RuntimeWarning: Dropping following bands from data: sdss::g, sdss::u, sdss::z(out of model wavelength range)\n",
      "  warnings.warn(\"Dropping following bands from data: \" +\n"
     ]
    },
    {
     "name": "stdout",
     "output_type": "stream",
     "text": [
      "0.9610650899424725\n",
      "1.2257946517063585\n",
      "1.2326147468343533\n",
      "422\n"
     ]
    },
    {
     "name": "stderr",
     "output_type": "stream",
     "text": [
      "/home/joao/.local/lib/python3.8/site-packages/sncosmo/fitting.py:187: RuntimeWarning: Dropping following bands from data: megacampsf::g at 11.602828, megacampsf::r at 11.602828(out of model wavelength range)\n",
      "  warnings.warn(\"Dropping following bands from data: \" +\n"
     ]
    },
    {
     "name": "stdout",
     "output_type": "stream",
     "text": [
      "1.156647854559426\n",
      "1.0558356227432213\n",
      "1.3985240374915455\n",
      "423\n"
     ]
    },
    {
     "name": "stderr",
     "output_type": "stream",
     "text": [
      "/home/joao/.local/lib/python3.8/site-packages/sncosmo/fitting.py:187: RuntimeWarning: Dropping following bands from data: sdss::z(out of model wavelength range)\n",
      "  warnings.warn(\"Dropping following bands from data: \" +\n",
      "/home/joao/.local/lib/python3.8/site-packages/sncosmo/fitting.py:187: RuntimeWarning: Dropping following bands from data: sdss::g, sdss::u, sdss::z(out of model wavelength range)\n",
      "  warnings.warn(\"Dropping following bands from data: \" +\n"
     ]
    },
    {
     "name": "stdout",
     "output_type": "stream",
     "text": [
      "0.5269252937987104\n",
      "0.6250602922940778\n",
      "0.624525423250685\n",
      "424\n"
     ]
    },
    {
     "name": "stderr",
     "output_type": "stream",
     "text": [
      "/home/joao/.local/lib/python3.8/site-packages/sncosmo/fitting.py:187: RuntimeWarning: Dropping following bands from data: sdss::z(out of model wavelength range)\n",
      "  warnings.warn(\"Dropping following bands from data: \" +\n",
      "/home/joao/.local/lib/python3.8/site-packages/sncosmo/fitting.py:187: RuntimeWarning: Dropping following bands from data: sdss::g, sdss::u, sdss::z(out of model wavelength range)\n",
      "  warnings.warn(\"Dropping following bands from data: \" +\n"
     ]
    },
    {
     "name": "stdout",
     "output_type": "stream",
     "text": [
      "0.5997080096756119\n",
      "0.9639797831924181\n",
      "1.0593598951819267\n",
      "425\n"
     ]
    },
    {
     "name": "stderr",
     "output_type": "stream",
     "text": [
      "/home/joao/.local/lib/python3.8/site-packages/sncosmo/fitting.py:187: RuntimeWarning: Dropping following bands from data: sdss::z(out of model wavelength range)\n",
      "  warnings.warn(\"Dropping following bands from data: \" +\n",
      "/home/joao/.local/lib/python3.8/site-packages/sncosmo/fitting.py:187: RuntimeWarning: Dropping following bands from data: sdss::g, sdss::u, sdss::z(out of model wavelength range)\n",
      "  warnings.warn(\"Dropping following bands from data: \" +\n"
     ]
    },
    {
     "name": "stdout",
     "output_type": "stream",
     "text": [
      "1.026899825268233\n",
      "1.6979942657831657\n",
      "1.8217064236033063\n",
      "426\n"
     ]
    },
    {
     "name": "stderr",
     "output_type": "stream",
     "text": [
      "/home/joao/.local/lib/python3.8/site-packages/sncosmo/fitting.py:187: RuntimeWarning: Dropping following bands from data: megacampsf::r at 11.598235, megacampsf::g at 11.598235(out of model wavelength range)\n",
      "  warnings.warn(\"Dropping following bands from data: \" +\n"
     ]
    },
    {
     "name": "stdout",
     "output_type": "stream",
     "text": [
      "1.4195587912281191\n",
      "1.8545153767218654\n",
      "2.0419226831545254\n",
      "427\n"
     ]
    },
    {
     "name": "stderr",
     "output_type": "stream",
     "text": [
      "/home/joao/.local/lib/python3.8/site-packages/sncosmo/fitting.py:187: RuntimeWarning: Dropping following bands from data: megacampsf::r at 4.366641, megacampsf::g at 4.366641(out of model wavelength range)\n",
      "  warnings.warn(\"Dropping following bands from data: \" +\n"
     ]
    },
    {
     "name": "stdout",
     "output_type": "stream",
     "text": [
      "1.9769414253498154\n",
      "2.2976167426491902\n",
      "2.264997053860978\n",
      "428\n"
     ]
    },
    {
     "name": "stderr",
     "output_type": "stream",
     "text": [
      "/home/joao/.local/lib/python3.8/site-packages/sncosmo/fitting.py:187: RuntimeWarning: Dropping following bands from data: sdss::z(out of model wavelength range)\n",
      "  warnings.warn(\"Dropping following bands from data: \" +\n",
      "/home/joao/.local/lib/python3.8/site-packages/sncosmo/fitting.py:187: RuntimeWarning: Dropping following bands from data: sdss::g, sdss::u, sdss::z(out of model wavelength range)\n",
      "  warnings.warn(\"Dropping following bands from data: \" +\n"
     ]
    },
    {
     "name": "stdout",
     "output_type": "stream",
     "text": [
      "1.3371543061398818\n",
      "2.343403296227518\n",
      "3.678937034666565\n",
      "429\n"
     ]
    },
    {
     "name": "stderr",
     "output_type": "stream",
     "text": [
      "/home/joao/.local/lib/python3.8/site-packages/sncosmo/fitting.py:187: RuntimeWarning: Dropping following bands from data: megacampsf::g at 5.817795, megacampsf::r at 5.817795(out of model wavelength range)\n",
      "  warnings.warn(\"Dropping following bands from data: \" +\n"
     ]
    },
    {
     "name": "stdout",
     "output_type": "stream",
     "text": [
      "0.8589524213680859\n",
      "0.8842965672718596\n",
      "1.0917284465830803\n",
      "430\n"
     ]
    },
    {
     "name": "stderr",
     "output_type": "stream",
     "text": [
      "/home/joao/.local/lib/python3.8/site-packages/sncosmo/fitting.py:187: RuntimeWarning: Dropping following bands from data: megacampsf::r at 13.071452, megacampsf::g at 13.071452(out of model wavelength range)\n",
      "  warnings.warn(\"Dropping following bands from data: \" +\n"
     ]
    },
    {
     "name": "stdout",
     "output_type": "stream",
     "text": [
      "1.1000082688430635\n",
      "1.2155065250683539\n",
      "1.2679686697471308\n",
      "431\n"
     ]
    },
    {
     "name": "stderr",
     "output_type": "stream",
     "text": [
      "/home/joao/.local/lib/python3.8/site-packages/sncosmo/fitting.py:187: RuntimeWarning: Dropping following bands from data: sdss::g, sdss::u, sdss::z(out of model wavelength range)\n",
      "  warnings.warn(\"Dropping following bands from data: \" +\n"
     ]
    },
    {
     "name": "stdout",
     "output_type": "stream",
     "text": [
      "1.095637306343368\n",
      "0.6262440773304745\n",
      "0.5772982326401105\n",
      "432\n"
     ]
    },
    {
     "name": "stderr",
     "output_type": "stream",
     "text": [
      "/home/joao/.local/lib/python3.8/site-packages/sncosmo/fitting.py:187: RuntimeWarning: Dropping following bands from data: sdss::z(out of model wavelength range)\n",
      "  warnings.warn(\"Dropping following bands from data: \" +\n",
      "/home/joao/.local/lib/python3.8/site-packages/sncosmo/fitting.py:187: RuntimeWarning: Dropping following bands from data: sdss::g, sdss::z(out of model wavelength range)\n",
      "  warnings.warn(\"Dropping following bands from data: \" +\n"
     ]
    },
    {
     "name": "stdout",
     "output_type": "stream",
     "text": [
      "1.5241986399043723\n",
      "1.688219085077701\n",
      "1.695225810753046\n",
      "433\n"
     ]
    },
    {
     "name": "stderr",
     "output_type": "stream",
     "text": [
      "/home/joao/.local/lib/python3.8/site-packages/sncosmo/fitting.py:187: RuntimeWarning: Dropping following bands from data: sdss::g, sdss::u(out of model wavelength range)\n",
      "  warnings.warn(\"Dropping following bands from data: \" +\n"
     ]
    },
    {
     "name": "stdout",
     "output_type": "stream",
     "text": [
      "0.6132311958063393\n",
      "0.5933400187048733\n",
      "0.5916101089965116\n",
      "434\n"
     ]
    },
    {
     "name": "stderr",
     "output_type": "stream",
     "text": [
      "/home/joao/.local/lib/python3.8/site-packages/sncosmo/fitting.py:187: RuntimeWarning: Dropping following bands from data: megacampsf::g at 9.345271(out of model wavelength range)\n",
      "  warnings.warn(\"Dropping following bands from data: \" +\n"
     ]
    },
    {
     "name": "stdout",
     "output_type": "stream",
     "text": [
      "1.8042348151606038\n",
      "10.622027013447155\n",
      "13.992690317486174\n",
      "435\n"
     ]
    },
    {
     "name": "stderr",
     "output_type": "stream",
     "text": [
      "/home/joao/.local/lib/python3.8/site-packages/sncosmo/fitting.py:187: RuntimeWarning: Dropping following bands from data: sdss::g, sdss::u, sdss::z(out of model wavelength range)\n",
      "  warnings.warn(\"Dropping following bands from data: \" +\n"
     ]
    },
    {
     "name": "stdout",
     "output_type": "stream",
     "text": [
      "0.9211643338867552\n",
      "1.0539857802672992\n",
      "1.037958995315016\n",
      "436\n"
     ]
    },
    {
     "name": "stderr",
     "output_type": "stream",
     "text": [
      "/home/joao/.local/lib/python3.8/site-packages/sncosmo/fitting.py:187: RuntimeWarning: Dropping following bands from data: sdss::z(out of model wavelength range)\n",
      "  warnings.warn(\"Dropping following bands from data: \" +\n",
      "/home/joao/.local/lib/python3.8/site-packages/sncosmo/fitting.py:187: RuntimeWarning: Dropping following bands from data: sdss::g, sdss::u, sdss::z(out of model wavelength range)\n",
      "  warnings.warn(\"Dropping following bands from data: \" +\n"
     ]
    },
    {
     "name": "stdout",
     "output_type": "stream",
     "text": [
      "1.0702319189080705\n",
      "1.5460427439108182\n",
      "1.6796104462776877\n",
      "437\n"
     ]
    },
    {
     "name": "stderr",
     "output_type": "stream",
     "text": [
      "/home/joao/.local/lib/python3.8/site-packages/sncosmo/fitting.py:187: RuntimeWarning: Dropping following bands from data: sdss::z(out of model wavelength range)\n",
      "  warnings.warn(\"Dropping following bands from data: \" +\n",
      "/home/joao/.local/lib/python3.8/site-packages/sncosmo/fitting.py:187: RuntimeWarning: Dropping following bands from data: sdss::g, sdss::u, sdss::z(out of model wavelength range)\n",
      "  warnings.warn(\"Dropping following bands from data: \" +\n"
     ]
    },
    {
     "name": "stdout",
     "output_type": "stream",
     "text": [
      "3.376380339780202\n",
      "8.880483089108674\n",
      "12.70110540089375\n",
      "438\n"
     ]
    },
    {
     "name": "stderr",
     "output_type": "stream",
     "text": [
      "/home/joao/.local/lib/python3.8/site-packages/sncosmo/fitting.py:187: RuntimeWarning: Dropping following bands from data: sdss::g, sdss::u, sdss::z(out of model wavelength range)\n",
      "  warnings.warn(\"Dropping following bands from data: \" +\n"
     ]
    },
    {
     "name": "stdout",
     "output_type": "stream",
     "text": [
      "0.6408683663133967\n",
      "0.554950420339206\n",
      "0.5769364178116617\n",
      "439\n"
     ]
    },
    {
     "name": "stderr",
     "output_type": "stream",
     "text": [
      "/home/joao/.local/lib/python3.8/site-packages/sncosmo/fitting.py:187: RuntimeWarning: Dropping following bands from data: keplercam::i, keplercam::us, keplercam::b(out of model wavelength range)\n",
      "  warnings.warn(\"Dropping following bands from data: \" +\n"
     ]
    },
    {
     "name": "stdout",
     "output_type": "stream",
     "text": [
      "3.34295483095826\n",
      "1.2318426386021122\n",
      "1.2399000692694175\n",
      "440\n"
     ]
    },
    {
     "name": "stderr",
     "output_type": "stream",
     "text": [
      "/home/joao/.local/lib/python3.8/site-packages/sncosmo/fitting.py:187: RuntimeWarning: Dropping following bands from data: megacampsf::g at 16.893271, megacampsf::r at 16.893271(out of model wavelength range)\n",
      "  warnings.warn(\"Dropping following bands from data: \" +\n"
     ]
    },
    {
     "name": "stdout",
     "output_type": "stream",
     "text": [
      "2.2543333437529243\n",
      "1.7736963260270542\n",
      "2.331743752875878\n",
      "441\n"
     ]
    },
    {
     "name": "stderr",
     "output_type": "stream",
     "text": [
      "/home/joao/.local/lib/python3.8/site-packages/sncosmo/fitting.py:187: RuntimeWarning: Dropping following bands from data: megacampsf::r at 13.305949, megacampsf::g at 13.305949(out of model wavelength range)\n",
      "  warnings.warn(\"Dropping following bands from data: \" +\n"
     ]
    },
    {
     "name": "stdout",
     "output_type": "stream",
     "text": [
      "1.0532113638156018\n",
      "2.292054791188419\n",
      "1.7074583119385147\n",
      "442\n"
     ]
    },
    {
     "name": "stderr",
     "output_type": "stream",
     "text": [
      "/home/joao/.local/lib/python3.8/site-packages/sncosmo/fitting.py:187: RuntimeWarning: Dropping following bands from data: sdss::g, sdss::u, sdss::z(out of model wavelength range)\n",
      "  warnings.warn(\"Dropping following bands from data: \" +\n"
     ]
    },
    {
     "name": "stdout",
     "output_type": "stream",
     "text": [
      "1.051528333915066\n",
      "0.9033110417854974\n",
      "0.829953471077908\n",
      "443\n"
     ]
    },
    {
     "name": "stderr",
     "output_type": "stream",
     "text": [
      "/home/joao/.local/lib/python3.8/site-packages/sncosmo/fitting.py:187: RuntimeWarning: Dropping following bands from data: standard::b, standard::r, standard::i(out of model wavelength range)\n",
      "  warnings.warn(\"Dropping following bands from data: \" +\n"
     ]
    },
    {
     "name": "stdout",
     "output_type": "stream",
     "text": [
      "2.4518351184013634\n",
      "0.7971548997651919\n",
      "3.8249816888357087\n",
      "444\n"
     ]
    },
    {
     "name": "stderr",
     "output_type": "stream",
     "text": [
      "/home/joao/.local/lib/python3.8/site-packages/sncosmo/fitting.py:187: RuntimeWarning: Dropping following bands from data: sdss::g, sdss::u(out of model wavelength range)\n",
      "  warnings.warn(\"Dropping following bands from data: \" +\n"
     ]
    },
    {
     "name": "stdout",
     "output_type": "stream",
     "text": [
      "0.8714076102150939\n",
      "0.8469575627559577\n",
      "0.8614981934431714\n",
      "445\n"
     ]
    },
    {
     "name": "stderr",
     "output_type": "stream",
     "text": [
      "/home/joao/.local/lib/python3.8/site-packages/sncosmo/fitting.py:187: RuntimeWarning: Dropping following bands from data: megacampsf::g at 9.791391, megacampsf::r at 9.791391(out of model wavelength range)\n",
      "  warnings.warn(\"Dropping following bands from data: \" +\n"
     ]
    },
    {
     "name": "stdout",
     "output_type": "stream",
     "text": [
      "0.8248407463506312\n",
      "1.0517891136739466\n",
      "0.989342358513091\n",
      "446\n"
     ]
    },
    {
     "name": "stderr",
     "output_type": "stream",
     "text": [
      "/home/joao/.local/lib/python3.8/site-packages/sncosmo/fitting.py:187: RuntimeWarning: Dropping following bands from data: sdss::z(out of model wavelength range)\n",
      "  warnings.warn(\"Dropping following bands from data: \" +\n",
      "/home/joao/.local/lib/python3.8/site-packages/sncosmo/fitting.py:187: RuntimeWarning: Dropping following bands from data: sdss::g, sdss::u, sdss::z(out of model wavelength range)\n",
      "  warnings.warn(\"Dropping following bands from data: \" +\n"
     ]
    },
    {
     "name": "stdout",
     "output_type": "stream",
     "text": [
      "0.8360987744333394\n",
      "0.9904432453922527\n",
      "0.8945337895827395\n",
      "447\n"
     ]
    },
    {
     "name": "stderr",
     "output_type": "stream",
     "text": [
      "/home/joao/.local/lib/python3.8/site-packages/sncosmo/fitting.py:187: RuntimeWarning: Dropping following bands from data: sdss::g, sdss::u(out of model wavelength range)\n",
      "  warnings.warn(\"Dropping following bands from data: \" +\n"
     ]
    },
    {
     "name": "stdout",
     "output_type": "stream",
     "text": [
      "0.9153436101519394\n",
      "1.0659839020753352\n",
      "1.040583684246675\n",
      "448\n"
     ]
    },
    {
     "name": "stderr",
     "output_type": "stream",
     "text": [
      "/home/joao/.local/lib/python3.8/site-packages/sncosmo/fitting.py:187: RuntimeWarning: Dropping following bands from data: sdss::z(out of model wavelength range)\n",
      "  warnings.warn(\"Dropping following bands from data: \" +\n",
      "/home/joao/.local/lib/python3.8/site-packages/sncosmo/fitting.py:187: RuntimeWarning: Dropping following bands from data: sdss::g, sdss::u, sdss::z(out of model wavelength range)\n",
      "  warnings.warn(\"Dropping following bands from data: \" +\n"
     ]
    },
    {
     "name": "stdout",
     "output_type": "stream",
     "text": [
      "1.6009773148119704\n",
      "3.1633554207998076\n",
      "2.968013277495577\n",
      "449\n"
     ]
    },
    {
     "name": "stderr",
     "output_type": "stream",
     "text": [
      "/home/joao/.local/lib/python3.8/site-packages/sncosmo/fitting.py:187: RuntimeWarning: Dropping following bands from data: sdss::g, sdss::u, sdss::z(out of model wavelength range)\n",
      "  warnings.warn(\"Dropping following bands from data: \" +\n"
     ]
    },
    {
     "name": "stdout",
     "output_type": "stream",
     "text": [
      "1.13515132248126\n",
      "1.0529750486220983\n",
      "1.0594100118290537\n",
      "450\n"
     ]
    },
    {
     "name": "stderr",
     "output_type": "stream",
     "text": [
      "/home/joao/.local/lib/python3.8/site-packages/sncosmo/fitting.py:187: RuntimeWarning: Dropping following bands from data: megacampsf::g at 13.213178(out of model wavelength range)\n",
      "  warnings.warn(\"Dropping following bands from data: \" +\n"
     ]
    },
    {
     "name": "stdout",
     "output_type": "stream",
     "text": [
      "1.4282682241679434\n",
      "1.250714307931818\n",
      "1.2340409012637645\n",
      "451\n"
     ]
    },
    {
     "name": "stderr",
     "output_type": "stream",
     "text": [
      "/home/joao/.local/lib/python3.8/site-packages/sncosmo/fitting.py:187: RuntimeWarning: Dropping following bands from data: megacampsf::i at 10.991350, megacampsf::g at 10.991350, megacampsf::r at 10.991350(out of model wavelength range)\n",
      "  warnings.warn(\"Dropping following bands from data: \" +\n"
     ]
    },
    {
     "name": "stdout",
     "output_type": "stream",
     "text": [
      "1.619635197710558\n",
      "1.1346136286913677\n",
      "0.9021504085828134\n",
      "452\n"
     ]
    },
    {
     "name": "stderr",
     "output_type": "stream",
     "text": [
      "/home/joao/.local/lib/python3.8/site-packages/sncosmo/fitting.py:187: RuntimeWarning: Dropping following bands from data: sdss::z(out of model wavelength range)\n",
      "  warnings.warn(\"Dropping following bands from data: \" +\n",
      "/home/joao/.local/lib/python3.8/site-packages/sncosmo/fitting.py:187: RuntimeWarning: Dropping following bands from data: sdss::g, sdss::u, sdss::z(out of model wavelength range)\n",
      "  warnings.warn(\"Dropping following bands from data: \" +\n"
     ]
    },
    {
     "name": "stdout",
     "output_type": "stream",
     "text": [
      "1.20371212451585\n",
      "6.483347852051041\n",
      "6.833136276233735\n",
      "453\n"
     ]
    },
    {
     "name": "stderr",
     "output_type": "stream",
     "text": [
      "/home/joao/.local/lib/python3.8/site-packages/sncosmo/fitting.py:187: RuntimeWarning: Dropping following bands from data: megacampsf::r at 11.571199, megacampsf::g at 11.571199(out of model wavelength range)\n",
      "  warnings.warn(\"Dropping following bands from data: \" +\n"
     ]
    },
    {
     "name": "stdout",
     "output_type": "stream",
     "text": [
      "1.9389984466676016\n",
      "1.9378483762989953\n",
      "1.539480569005725\n",
      "454\n"
     ]
    },
    {
     "name": "stderr",
     "output_type": "stream",
     "text": [
      "/home/joao/.local/lib/python3.8/site-packages/sncosmo/fitting.py:187: RuntimeWarning: Dropping following bands from data: standard::b, standard::r, standard::i, standard::u(out of model wavelength range)\n",
      "  warnings.warn(\"Dropping following bands from data: \" +\n"
     ]
    },
    {
     "name": "stdout",
     "output_type": "stream",
     "text": [
      "3.2602533744119073\n",
      "2.1338688030199084\n",
      "2.034669308583817\n",
      "455\n"
     ]
    },
    {
     "name": "stderr",
     "output_type": "stream",
     "text": [
      "/home/joao/.local/lib/python3.8/site-packages/sncosmo/fitting.py:187: RuntimeWarning: Dropping following bands from data: sdss::z(out of model wavelength range)\n",
      "  warnings.warn(\"Dropping following bands from data: \" +\n",
      "/home/joao/.local/lib/python3.8/site-packages/sncosmo/fitting.py:187: RuntimeWarning: Dropping following bands from data: sdss::g, sdss::u, sdss::z(out of model wavelength range)\n",
      "  warnings.warn(\"Dropping following bands from data: \" +\n"
     ]
    },
    {
     "name": "stdout",
     "output_type": "stream",
     "text": [
      "12.2931819418253\n",
      "106.88907528751336\n",
      "134.3095072557562\n",
      "456\n"
     ]
    },
    {
     "name": "stderr",
     "output_type": "stream",
     "text": [
      "/home/joao/.local/lib/python3.8/site-packages/sncosmo/fitting.py:187: RuntimeWarning: Dropping following bands from data: megacampsf::r at 16.929935, megacampsf::g at 16.929935(out of model wavelength range)\n",
      "  warnings.warn(\"Dropping following bands from data: \" +\n"
     ]
    },
    {
     "name": "stdout",
     "output_type": "stream",
     "text": [
      "1.2061363032144286\n",
      "1.2695135801264057\n",
      "1.712542698104772\n",
      "457\n"
     ]
    },
    {
     "name": "stderr",
     "output_type": "stream",
     "text": [
      "/home/joao/.local/lib/python3.8/site-packages/sncosmo/fitting.py:187: RuntimeWarning: Dropping following bands from data: sdss::g, sdss::u, sdss::z(out of model wavelength range)\n",
      "  warnings.warn(\"Dropping following bands from data: \" +\n"
     ]
    },
    {
     "name": "stdout",
     "output_type": "stream",
     "text": [
      "0.5650442310783582\n",
      "0.4913019318071455\n",
      "0.42402237547046595\n",
      "458\n"
     ]
    },
    {
     "name": "stderr",
     "output_type": "stream",
     "text": [
      "/home/joao/.local/lib/python3.8/site-packages/sncosmo/fitting.py:187: RuntimeWarning: Dropping following bands from data: megacampsf::i at 11.465213, megacampsf::g at 11.465213, megacampsf::r at 11.465213(out of model wavelength range)\n",
      "  warnings.warn(\"Dropping following bands from data: \" +\n"
     ]
    },
    {
     "name": "stdout",
     "output_type": "stream",
     "text": [
      "0.4013956141051753\n",
      "0.6167090892341351\n",
      "0.5225644195433653\n",
      "459\n"
     ]
    },
    {
     "name": "stderr",
     "output_type": "stream",
     "text": [
      "/home/joao/.local/lib/python3.8/site-packages/sncosmo/fitting.py:187: RuntimeWarning: Dropping following bands from data: sdss::z(out of model wavelength range)\n",
      "  warnings.warn(\"Dropping following bands from data: \" +\n",
      "/home/joao/.local/lib/python3.8/site-packages/sncosmo/fitting.py:187: RuntimeWarning: Dropping following bands from data: sdss::g, sdss::u, sdss::z(out of model wavelength range)\n",
      "  warnings.warn(\"Dropping following bands from data: \" +\n"
     ]
    },
    {
     "name": "stdout",
     "output_type": "stream",
     "text": [
      "2.1413193407830664\n",
      "5.552492649391678\n",
      "5.790482877344195\n",
      "460\n"
     ]
    },
    {
     "name": "stderr",
     "output_type": "stream",
     "text": [
      "/home/joao/.local/lib/python3.8/site-packages/sncosmo/fitting.py:187: RuntimeWarning: Dropping following bands from data: megacampsf::g at 11.618317, megacampsf::r at 11.618317(out of model wavelength range)\n",
      "  warnings.warn(\"Dropping following bands from data: \" +\n"
     ]
    },
    {
     "name": "stdout",
     "output_type": "stream",
     "text": [
      "1.058542777361957\n",
      "1.2639418718321476\n",
      "2.099786504700601\n",
      "461\n"
     ]
    },
    {
     "name": "stderr",
     "output_type": "stream",
     "text": [
      "/home/joao/.local/lib/python3.8/site-packages/sncosmo/fitting.py:187: RuntimeWarning: Dropping following bands from data: sdss::z(out of model wavelength range)\n",
      "  warnings.warn(\"Dropping following bands from data: \" +\n",
      "/home/joao/.local/lib/python3.8/site-packages/sncosmo/fitting.py:187: RuntimeWarning: Dropping following bands from data: sdss::g, sdss::u, sdss::z(out of model wavelength range)\n",
      "  warnings.warn(\"Dropping following bands from data: \" +\n"
     ]
    },
    {
     "name": "stdout",
     "output_type": "stream",
     "text": [
      "0.6694678681827472\n",
      "0.6441260773112503\n",
      "0.6444226452654451\n",
      "462\n"
     ]
    },
    {
     "name": "stderr",
     "output_type": "stream",
     "text": [
      "/home/joao/.local/lib/python3.8/site-packages/sncosmo/fitting.py:187: RuntimeWarning: Dropping following bands from data: sdss::g, sdss::u, sdss::z(out of model wavelength range)\n",
      "  warnings.warn(\"Dropping following bands from data: \" +\n"
     ]
    },
    {
     "name": "stdout",
     "output_type": "stream",
     "text": [
      "1.0501586709864943\n",
      "1.5223062951246393\n",
      "1.671941599742835\n",
      "463\n"
     ]
    },
    {
     "name": "stderr",
     "output_type": "stream",
     "text": [
      "/home/joao/.local/lib/python3.8/site-packages/sncosmo/fitting.py:187: RuntimeWarning: Dropping following bands from data: megacampsf::g at 14.739975, megacampsf::r at 14.739975(out of model wavelength range)\n",
      "  warnings.warn(\"Dropping following bands from data: \" +\n"
     ]
    },
    {
     "name": "stdout",
     "output_type": "stream",
     "text": [
      "1.1312257607568212\n",
      "0.9653702124659427\n",
      "1.8620535644279892\n",
      "464\n"
     ]
    },
    {
     "name": "stderr",
     "output_type": "stream",
     "text": [
      "/home/joao/.local/lib/python3.8/site-packages/sncosmo/fitting.py:187: RuntimeWarning: Dropping following bands from data: sdss::z(out of model wavelength range)\n",
      "  warnings.warn(\"Dropping following bands from data: \" +\n",
      "/home/joao/.local/lib/python3.8/site-packages/sncosmo/fitting.py:187: RuntimeWarning: Dropping following bands from data: sdss::g, sdss::u, sdss::z(out of model wavelength range)\n",
      "  warnings.warn(\"Dropping following bands from data: \" +\n"
     ]
    },
    {
     "name": "stdout",
     "output_type": "stream",
     "text": [
      "6.078829047097252\n",
      "11.433570568185708\n",
      "31.23297698953276\n",
      "465\n"
     ]
    },
    {
     "name": "stderr",
     "output_type": "stream",
     "text": [
      "/home/joao/.local/lib/python3.8/site-packages/sncosmo/fitting.py:187: RuntimeWarning: Dropping following bands from data: sdss::z(out of model wavelength range)\n",
      "  warnings.warn(\"Dropping following bands from data: \" +\n",
      "/home/joao/.local/lib/python3.8/site-packages/sncosmo/fitting.py:187: RuntimeWarning: Dropping following bands from data: sdss::g, sdss::u, sdss::z(out of model wavelength range)\n",
      "  warnings.warn(\"Dropping following bands from data: \" +\n"
     ]
    },
    {
     "name": "stdout",
     "output_type": "stream",
     "text": [
      "0.7431078618619049\n",
      "0.7370244960006822\n",
      "0.793685461592703\n",
      "466\n"
     ]
    },
    {
     "name": "stderr",
     "output_type": "stream",
     "text": [
      "/home/joao/.local/lib/python3.8/site-packages/sncosmo/fitting.py:187: RuntimeWarning: Dropping following bands from data: megacampsf::r at 10.924165, megacampsf::g at 10.924165(out of model wavelength range)\n",
      "  warnings.warn(\"Dropping following bands from data: \" +\n"
     ]
    },
    {
     "name": "stdout",
     "output_type": "stream",
     "text": [
      "0.8415514259661198\n",
      "0.8872168976788126\n",
      "0.8830332575799701\n",
      "467\n"
     ]
    },
    {
     "name": "stderr",
     "output_type": "stream",
     "text": [
      "/home/joao/.local/lib/python3.8/site-packages/sncosmo/fitting.py:187: RuntimeWarning: Dropping following bands from data: sdss::g, sdss::u(out of model wavelength range)\n",
      "  warnings.warn(\"Dropping following bands from data: \" +\n"
     ]
    },
    {
     "name": "stdout",
     "output_type": "stream",
     "text": [
      "0.7214071377809717\n",
      "0.723888294159339\n",
      "0.7255036069751166\n",
      "468\n"
     ]
    },
    {
     "name": "stderr",
     "output_type": "stream",
     "text": [
      "/home/joao/.local/lib/python3.8/site-packages/sncosmo/fitting.py:187: RuntimeWarning: Dropping following bands from data: megacampsf::g at 6.902562, megacampsf::r at 6.902562, megacampsf::i at 6.902562(out of model wavelength range)\n",
      "  warnings.warn(\"Dropping following bands from data: \" +\n"
     ]
    },
    {
     "name": "stdout",
     "output_type": "stream",
     "text": [
      "2.5786193101123387\n",
      "1.7412340410006546\n",
      "2.258831908240452\n",
      "469\n"
     ]
    },
    {
     "name": "stderr",
     "output_type": "stream",
     "text": [
      "/home/joao/.local/lib/python3.8/site-packages/sncosmo/fitting.py:187: RuntimeWarning: Dropping following bands from data: sdss::z(out of model wavelength range)\n",
      "  warnings.warn(\"Dropping following bands from data: \" +\n",
      "/home/joao/.local/lib/python3.8/site-packages/sncosmo/fitting.py:187: RuntimeWarning: Dropping following bands from data: sdss::g, sdss::u, sdss::z(out of model wavelength range)\n",
      "  warnings.warn(\"Dropping following bands from data: \" +\n"
     ]
    },
    {
     "name": "stdout",
     "output_type": "stream",
     "text": [
      "0.8241118379457718\n",
      "0.7569650987892419\n",
      "0.744878621121251\n",
      "470\n"
     ]
    },
    {
     "name": "stderr",
     "output_type": "stream",
     "text": [
      "/home/joao/.local/lib/python3.8/site-packages/sncosmo/fitting.py:187: RuntimeWarning: Dropping following bands from data: sdss::g, sdss::u, sdss::z(out of model wavelength range)\n",
      "  warnings.warn(\"Dropping following bands from data: \" +\n"
     ]
    },
    {
     "name": "stdout",
     "output_type": "stream",
     "text": [
      "1.0089600673938521\n",
      "1.0187928594946005\n",
      "1.0669052093726448\n",
      "471\n"
     ]
    },
    {
     "name": "stderr",
     "output_type": "stream",
     "text": [
      "/home/joao/.local/lib/python3.8/site-packages/sncosmo/fitting.py:187: RuntimeWarning: Dropping following bands from data: sdss::z(out of model wavelength range)\n",
      "  warnings.warn(\"Dropping following bands from data: \" +\n",
      "/home/joao/.local/lib/python3.8/site-packages/sncosmo/fitting.py:187: RuntimeWarning: Dropping following bands from data: sdss::g, sdss::u, sdss::z(out of model wavelength range)\n",
      "  warnings.warn(\"Dropping following bands from data: \" +\n"
     ]
    },
    {
     "name": "stdout",
     "output_type": "stream",
     "text": [
      "1.6021350046293954\n",
      "1.3939548449042565\n",
      "1.4207281021548863\n",
      "472\n"
     ]
    },
    {
     "name": "stderr",
     "output_type": "stream",
     "text": [
      "/home/joao/.local/lib/python3.8/site-packages/sncosmo/fitting.py:187: RuntimeWarning: Dropping following bands from data: megacampsf::r at 6.782611, megacampsf::g at 6.782611(out of model wavelength range)\n",
      "  warnings.warn(\"Dropping following bands from data: \" +\n"
     ]
    },
    {
     "name": "stdout",
     "output_type": "stream",
     "text": [
      "0.7261761678992087\n",
      "1.536145654345494\n",
      "1.5733187493535061\n",
      "473\n"
     ]
    },
    {
     "name": "stderr",
     "output_type": "stream",
     "text": [
      "/home/joao/.local/lib/python3.8/site-packages/sncosmo/fitting.py:187: RuntimeWarning: Dropping following bands from data: nicmos2::f110w, acswf::f775w, acswf::f850lp(out of model wavelength range)\n",
      "  warnings.warn(\"Dropping following bands from data: \" +\n"
     ]
    },
    {
     "name": "stdout",
     "output_type": "stream",
     "text": [
      "474\n"
     ]
    },
    {
     "name": "stderr",
     "output_type": "stream",
     "text": [
      "/home/joao/.local/lib/python3.8/site-packages/sncosmo/fitting.py:187: RuntimeWarning: Dropping following bands from data: sdss::g, sdss::u, sdss::z(out of model wavelength range)\n",
      "  warnings.warn(\"Dropping following bands from data: \" +\n"
     ]
    },
    {
     "name": "stdout",
     "output_type": "stream",
     "text": [
      "0.5832774388529426\n",
      "0.36919019996922553\n",
      "0.546581342961648\n",
      "475\n"
     ]
    },
    {
     "name": "stderr",
     "output_type": "stream",
     "text": [
      "/home/joao/.local/lib/python3.8/site-packages/sncosmo/fitting.py:187: RuntimeWarning: Dropping following bands from data: acswf::f775w(out of model wavelength range)\n",
      "  warnings.warn(\"Dropping following bands from data: \" +\n"
     ]
    },
    {
     "name": "stdout",
     "output_type": "stream",
     "text": [
      "476\n"
     ]
    },
    {
     "name": "stderr",
     "output_type": "stream",
     "text": [
      "/home/joao/.local/lib/python3.8/site-packages/sncosmo/fitting.py:187: RuntimeWarning: Dropping following bands from data: sdss::g, sdss::u, sdss::z(out of model wavelength range)\n",
      "  warnings.warn(\"Dropping following bands from data: \" +\n"
     ]
    },
    {
     "name": "stdout",
     "output_type": "stream",
     "text": [
      "0.689448712677107\n",
      "0.7428702033128621\n",
      "0.756093872186108\n",
      "477\n"
     ]
    },
    {
     "name": "stderr",
     "output_type": "stream",
     "text": [
      "/home/joao/.local/lib/python3.8/site-packages/sncosmo/fitting.py:187: RuntimeWarning: Dropping following bands from data: sdss::z(out of model wavelength range)\n",
      "  warnings.warn(\"Dropping following bands from data: \" +\n",
      "/home/joao/.local/lib/python3.8/site-packages/sncosmo/fitting.py:187: RuntimeWarning: Dropping following bands from data: sdss::g, sdss::u, sdss::z(out of model wavelength range)\n",
      "  warnings.warn(\"Dropping following bands from data: \" +\n"
     ]
    },
    {
     "name": "stdout",
     "output_type": "stream",
     "text": [
      "2.8476147754075405\n",
      "10.598074923397798\n",
      "10.59096774012624\n",
      "478\n"
     ]
    },
    {
     "name": "stderr",
     "output_type": "stream",
     "text": [
      "/home/joao/.local/lib/python3.8/site-packages/sncosmo/fitting.py:187: RuntimeWarning: Dropping following bands from data: megacampsf::g at 8.709023(out of model wavelength range)\n",
      "  warnings.warn(\"Dropping following bands from data: \" +\n"
     ]
    },
    {
     "name": "stdout",
     "output_type": "stream",
     "text": [
      "2.0267100902126858\n",
      "3.683604496488046\n",
      "3.381744816644466\n",
      "479\n"
     ]
    },
    {
     "name": "stderr",
     "output_type": "stream",
     "text": [
      "/home/joao/.local/lib/python3.8/site-packages/sncosmo/fitting.py:187: RuntimeWarning: Dropping following bands from data: keplercam::i, keplercam::us, keplercam::b(out of model wavelength range)\n",
      "  warnings.warn(\"Dropping following bands from data: \" +\n"
     ]
    },
    {
     "name": "stdout",
     "output_type": "stream",
     "text": [
      "4.225800218356292\n",
      "15.430327825882589\n",
      "16.221779753456634\n",
      "480\n"
     ]
    },
    {
     "name": "stderr",
     "output_type": "stream",
     "text": [
      "/home/joao/.local/lib/python3.8/site-packages/sncosmo/fitting.py:187: RuntimeWarning: Dropping following bands from data: sdss::z(out of model wavelength range)\n",
      "  warnings.warn(\"Dropping following bands from data: \" +\n",
      "/home/joao/.local/lib/python3.8/site-packages/sncosmo/fitting.py:187: RuntimeWarning: Dropping following bands from data: sdss::g, sdss::u, sdss::z(out of model wavelength range)\n",
      "  warnings.warn(\"Dropping following bands from data: \" +\n"
     ]
    },
    {
     "name": "stdout",
     "output_type": "stream",
     "text": [
      "1.0869787411050278\n",
      "0.9535793776570534\n",
      "0.9557140378609956\n",
      "481\n"
     ]
    },
    {
     "name": "stderr",
     "output_type": "stream",
     "text": [
      "/home/joao/.local/lib/python3.8/site-packages/sncosmo/fitting.py:187: RuntimeWarning: Dropping following bands from data: megacampsf::r at 5.335817, megacampsf::g at 5.335817(out of model wavelength range)\n",
      "  warnings.warn(\"Dropping following bands from data: \" +\n"
     ]
    },
    {
     "name": "stdout",
     "output_type": "stream",
     "text": [
      "1.0945899728494257\n",
      "1.1257104419439206\n",
      "1.1521141062591318\n",
      "482\n"
     ]
    },
    {
     "name": "stderr",
     "output_type": "stream",
     "text": [
      "/home/joao/.local/lib/python3.8/site-packages/sncosmo/fitting.py:187: RuntimeWarning: Dropping following bands from data: sdss::g, sdss::u, sdss::z(out of model wavelength range)\n",
      "  warnings.warn(\"Dropping following bands from data: \" +\n"
     ]
    },
    {
     "name": "stdout",
     "output_type": "stream",
     "text": [
      "0.8616307893840515\n",
      "1.121923378596517\n",
      "1.0333939257589908\n",
      "483\n"
     ]
    },
    {
     "name": "stderr",
     "output_type": "stream",
     "text": [
      "/home/joao/.local/lib/python3.8/site-packages/sncosmo/fitting.py:187: RuntimeWarning: Dropping following bands from data: sdss::g, sdss::u, sdss::z(out of model wavelength range)\n",
      "  warnings.warn(\"Dropping following bands from data: \" +\n"
     ]
    },
    {
     "name": "stdout",
     "output_type": "stream",
     "text": [
      "0.9510040648068857\n",
      "1.0767194034390222\n",
      "0.9860838785096123\n",
      "484\n"
     ]
    },
    {
     "name": "stderr",
     "output_type": "stream",
     "text": [
      "/home/joao/.local/lib/python3.8/site-packages/sncosmo/fitting.py:187: RuntimeWarning: Dropping following bands from data: megacampsf::r at 12.879576, megacampsf::g at 12.879576(out of model wavelength range)\n",
      "  warnings.warn(\"Dropping following bands from data: \" +\n"
     ]
    },
    {
     "name": "stdout",
     "output_type": "stream",
     "text": [
      "1.4462779420089016\n",
      "1.6338317957831985\n",
      "1.6292857428372103\n",
      "485\n"
     ]
    },
    {
     "name": "stderr",
     "output_type": "stream",
     "text": [
      "/home/joao/.local/lib/python3.8/site-packages/sncosmo/fitting.py:187: RuntimeWarning: Dropping following bands from data: sdss::g, sdss::u, sdss::z(out of model wavelength range)\n",
      "  warnings.warn(\"Dropping following bands from data: \" +\n"
     ]
    },
    {
     "name": "stdout",
     "output_type": "stream",
     "text": [
      "0.7590003891023769\n",
      "0.9031404884214511\n",
      "0.8187970769944347\n",
      "486\n"
     ]
    },
    {
     "name": "stderr",
     "output_type": "stream",
     "text": [
      "/home/joao/.local/lib/python3.8/site-packages/sncosmo/fitting.py:187: RuntimeWarning: Dropping following bands from data: sdss::z(out of model wavelength range)\n",
      "  warnings.warn(\"Dropping following bands from data: \" +\n",
      "/home/joao/.local/lib/python3.8/site-packages/sncosmo/fitting.py:187: RuntimeWarning: Dropping following bands from data: sdss::g, sdss::u, sdss::z(out of model wavelength range)\n",
      "  warnings.warn(\"Dropping following bands from data: \" +\n"
     ]
    },
    {
     "name": "stdout",
     "output_type": "stream",
     "text": [
      "0.9995121225086661\n",
      "1.367906295782959\n",
      "1.2937516034393213\n",
      "487\n"
     ]
    },
    {
     "name": "stderr",
     "output_type": "stream",
     "text": [
      "/home/joao/.local/lib/python3.8/site-packages/sncosmo/fitting.py:187: RuntimeWarning: Dropping following bands from data: sdss::g, sdss::u, sdss::z(out of model wavelength range)\n",
      "  warnings.warn(\"Dropping following bands from data: \" +\n"
     ]
    },
    {
     "name": "stdout",
     "output_type": "stream",
     "text": [
      "1.3617741350555956\n",
      "1.5012736582711592\n",
      "1.521167951157911\n",
      "488\n"
     ]
    },
    {
     "name": "stderr",
     "output_type": "stream",
     "text": [
      "/home/joao/.local/lib/python3.8/site-packages/sncosmo/fitting.py:187: RuntimeWarning: Dropping following bands from data: sdss::z(out of model wavelength range)\n",
      "  warnings.warn(\"Dropping following bands from data: \" +\n",
      "/home/joao/.local/lib/python3.8/site-packages/sncosmo/fitting.py:187: RuntimeWarning: Dropping following bands from data: sdss::g, sdss::u, sdss::z(out of model wavelength range)\n",
      "  warnings.warn(\"Dropping following bands from data: \" +\n"
     ]
    },
    {
     "name": "stdout",
     "output_type": "stream",
     "text": [
      "1.0469127215233194\n",
      "1.3241607552112271\n",
      "1.2542478732979103\n",
      "489\n"
     ]
    },
    {
     "name": "stderr",
     "output_type": "stream",
     "text": [
      "/home/joao/.local/lib/python3.8/site-packages/sncosmo/fitting.py:187: RuntimeWarning: Dropping following bands from data: megacampsf::g at 11.633648(out of model wavelength range)\n",
      "  warnings.warn(\"Dropping following bands from data: \" +\n"
     ]
    },
    {
     "name": "stdout",
     "output_type": "stream",
     "text": [
      "2.4746567590147097\n",
      "34.22688049688954\n",
      "490\n"
     ]
    },
    {
     "name": "stderr",
     "output_type": "stream",
     "text": [
      "/home/joao/.local/lib/python3.8/site-packages/sncosmo/fitting.py:187: RuntimeWarning: Dropping following bands from data: sdss::z(out of model wavelength range)\n",
      "  warnings.warn(\"Dropping following bands from data: \" +\n",
      "/home/joao/.local/lib/python3.8/site-packages/sncosmo/fitting.py:187: RuntimeWarning: Dropping following bands from data: sdss::g, sdss::u, sdss::z(out of model wavelength range)\n",
      "  warnings.warn(\"Dropping following bands from data: \" +\n"
     ]
    },
    {
     "name": "stdout",
     "output_type": "stream",
     "text": [
      "0.9066051191900022\n",
      "2.2281885582376737\n",
      "2.3764409280976575\n",
      "491\n"
     ]
    },
    {
     "name": "stderr",
     "output_type": "stream",
     "text": [
      "/home/joao/.local/lib/python3.8/site-packages/sncosmo/fitting.py:187: RuntimeWarning: Dropping following bands from data: sdss::z(out of model wavelength range)\n",
      "  warnings.warn(\"Dropping following bands from data: \" +\n",
      "/home/joao/.local/lib/python3.8/site-packages/sncosmo/fitting.py:187: RuntimeWarning: Dropping following bands from data: sdss::g, sdss::u, sdss::z(out of model wavelength range)\n",
      "  warnings.warn(\"Dropping following bands from data: \" +\n"
     ]
    },
    {
     "name": "stdout",
     "output_type": "stream",
     "text": [
      "1.2087767217180565\n",
      "2.0583338075104445\n",
      "2.733785807972513\n",
      "492\n"
     ]
    },
    {
     "name": "stderr",
     "output_type": "stream",
     "text": [
      "/home/joao/.local/lib/python3.8/site-packages/sncosmo/fitting.py:187: RuntimeWarning: Dropping following bands from data: sdss::z(out of model wavelength range)\n",
      "  warnings.warn(\"Dropping following bands from data: \" +\n",
      "/home/joao/.local/lib/python3.8/site-packages/sncosmo/fitting.py:187: RuntimeWarning: Dropping following bands from data: sdss::g, sdss::u, sdss::z(out of model wavelength range)\n",
      "  warnings.warn(\"Dropping following bands from data: \" +\n"
     ]
    },
    {
     "name": "stdout",
     "output_type": "stream",
     "text": [
      "1.3880063056126593\n",
      "1.4159623079148644\n",
      "1.4408078432599853\n",
      "493\n"
     ]
    },
    {
     "name": "stderr",
     "output_type": "stream",
     "text": [
      "/home/joao/.local/lib/python3.8/site-packages/sncosmo/fitting.py:187: RuntimeWarning: Dropping following bands from data: megacampsf::g at 16.338681, megacampsf::r at 16.338681(out of model wavelength range)\n",
      "  warnings.warn(\"Dropping following bands from data: \" +\n"
     ]
    },
    {
     "name": "stdout",
     "output_type": "stream",
     "text": [
      "0.7642637218218843\n",
      "0.9875327961883951\n",
      "0.9615936126506602\n",
      "494\n"
     ]
    },
    {
     "name": "stderr",
     "output_type": "stream",
     "text": [
      "/home/joao/.local/lib/python3.8/site-packages/sncosmo/fitting.py:187: RuntimeWarning: Dropping following bands from data: sdss::z(out of model wavelength range)\n",
      "  warnings.warn(\"Dropping following bands from data: \" +\n",
      "/home/joao/.local/lib/python3.8/site-packages/sncosmo/fitting.py:187: RuntimeWarning: Dropping following bands from data: sdss::g, sdss::u, sdss::z(out of model wavelength range)\n",
      "  warnings.warn(\"Dropping following bands from data: \" +\n"
     ]
    },
    {
     "name": "stdout",
     "output_type": "stream",
     "text": [
      "0.8181112282542751\n",
      "1.3570420770600349\n",
      "1.1346343862148969\n",
      "495\n"
     ]
    },
    {
     "name": "stderr",
     "output_type": "stream",
     "text": [
      "/home/joao/.local/lib/python3.8/site-packages/sncosmo/fitting.py:187: RuntimeWarning: Dropping following bands from data: sdss::z(out of model wavelength range)\n",
      "  warnings.warn(\"Dropping following bands from data: \" +\n",
      "/home/joao/.local/lib/python3.8/site-packages/sncosmo/fitting.py:187: RuntimeWarning: Dropping following bands from data: sdss::g, sdss::u, sdss::z(out of model wavelength range)\n",
      "  warnings.warn(\"Dropping following bands from data: \" +\n"
     ]
    },
    {
     "name": "stdout",
     "output_type": "stream",
     "text": [
      "0.9325800475039911\n",
      "1.8562379046464632\n",
      "1.9138999394913676\n",
      "496\n"
     ]
    },
    {
     "name": "stderr",
     "output_type": "stream",
     "text": [
      "/home/joao/.local/lib/python3.8/site-packages/sncosmo/fitting.py:187: RuntimeWarning: Dropping following bands from data: megacampsf::g at 11.021115, megacampsf::r at 11.021115(out of model wavelength range)\n",
      "  warnings.warn(\"Dropping following bands from data: \" +\n"
     ]
    },
    {
     "name": "stdout",
     "output_type": "stream",
     "text": [
      "1.5254798064430939\n",
      "1.142143517448079\n",
      "1.5796668967701875\n",
      "497\n"
     ]
    },
    {
     "name": "stderr",
     "output_type": "stream",
     "text": [
      "/home/joao/.local/lib/python3.8/site-packages/sncosmo/fitting.py:187: RuntimeWarning: Dropping following bands from data: sdss::z(out of model wavelength range)\n",
      "  warnings.warn(\"Dropping following bands from data: \" +\n",
      "/home/joao/.local/lib/python3.8/site-packages/sncosmo/fitting.py:187: RuntimeWarning: Dropping following bands from data: sdss::g, sdss::u, sdss::z(out of model wavelength range)\n",
      "  warnings.warn(\"Dropping following bands from data: \" +\n"
     ]
    },
    {
     "name": "stdout",
     "output_type": "stream",
     "text": [
      "1.327681244396738\n",
      "1.8005840670044673\n",
      "1.8246024505766403\n",
      "498\n"
     ]
    },
    {
     "name": "stderr",
     "output_type": "stream",
     "text": [
      "/home/joao/.local/lib/python3.8/site-packages/sncosmo/fitting.py:187: RuntimeWarning: Dropping following bands from data: sdss::g, sdss::u, sdss::z(out of model wavelength range)\n",
      "  warnings.warn(\"Dropping following bands from data: \" +\n"
     ]
    },
    {
     "name": "stdout",
     "output_type": "stream",
     "text": [
      "0.7288699966037097\n",
      "0.5136063726050007\n",
      "0.5393619089021309\n",
      "499\n"
     ]
    },
    {
     "name": "stderr",
     "output_type": "stream",
     "text": [
      "/home/joao/.local/lib/python3.8/site-packages/sncosmo/fitting.py:187: RuntimeWarning: Dropping following bands from data: sdss::g, sdss::u, sdss::z(out of model wavelength range)\n",
      "  warnings.warn(\"Dropping following bands from data: \" +\n"
     ]
    },
    {
     "name": "stdout",
     "output_type": "stream",
     "text": [
      "0.6612687051791566\n",
      "0.7662049296392561\n",
      "0.7199828331799162\n",
      "500\n"
     ]
    },
    {
     "name": "stderr",
     "output_type": "stream",
     "text": [
      "/home/joao/.local/lib/python3.8/site-packages/sncosmo/fitting.py:187: RuntimeWarning: Dropping following bands from data: megacampsf::g at 17.953492, megacampsf::r at 17.953492(out of model wavelength range)\n",
      "  warnings.warn(\"Dropping following bands from data: \" +\n"
     ]
    },
    {
     "name": "stdout",
     "output_type": "stream",
     "text": [
      "2.8519475490582074\n",
      "2.7570298634661143\n",
      "2.718857709768583\n",
      "501\n"
     ]
    },
    {
     "name": "stderr",
     "output_type": "stream",
     "text": [
      "/home/joao/.local/lib/python3.8/site-packages/sncosmo/fitting.py:187: RuntimeWarning: Dropping following bands from data: megacampsf::g at 8.175091(out of model wavelength range)\n",
      "  warnings.warn(\"Dropping following bands from data: \" +\n"
     ]
    },
    {
     "name": "stdout",
     "output_type": "stream",
     "text": [
      "4.991935679224137\n",
      "12.731499326426352\n",
      "11.78156259202689\n",
      "502\n"
     ]
    },
    {
     "name": "stderr",
     "output_type": "stream",
     "text": [
      "/home/joao/.local/lib/python3.8/site-packages/sncosmo/fitting.py:187: RuntimeWarning: Dropping following bands from data: megacampsf::i at 6.063931, megacampsf::g at 6.063931, megacampsf::r at 6.063931(out of model wavelength range)\n",
      "  warnings.warn(\"Dropping following bands from data: \" +\n"
     ]
    },
    {
     "name": "stdout",
     "output_type": "stream",
     "text": [
      "503\n"
     ]
    },
    {
     "name": "stderr",
     "output_type": "stream",
     "text": [
      "/home/joao/.local/lib/python3.8/site-packages/sncosmo/fitting.py:187: RuntimeWarning: Dropping following bands from data: megacampsf::r at 10.981797, megacampsf::g at 10.981797(out of model wavelength range)\n",
      "  warnings.warn(\"Dropping following bands from data: \" +\n"
     ]
    },
    {
     "name": "stdout",
     "output_type": "stream",
     "text": [
      "1.535102849472586\n",
      "1.744231607846712\n",
      "2.2192873500589907\n",
      "504\n"
     ]
    },
    {
     "name": "stderr",
     "output_type": "stream",
     "text": [
      "/home/joao/.local/lib/python3.8/site-packages/sncosmo/fitting.py:187: RuntimeWarning: Dropping following bands from data: sdss::z(out of model wavelength range)\n",
      "  warnings.warn(\"Dropping following bands from data: \" +\n",
      "/home/joao/.local/lib/python3.8/site-packages/sncosmo/fitting.py:187: RuntimeWarning: Dropping following bands from data: sdss::g, sdss::u, sdss::z(out of model wavelength range)\n",
      "  warnings.warn(\"Dropping following bands from data: \" +\n"
     ]
    },
    {
     "name": "stdout",
     "output_type": "stream",
     "text": [
      "0.44940806455808674\n",
      "0.9276603744504005\n",
      "0.955971058104813\n",
      "505\n"
     ]
    },
    {
     "name": "stderr",
     "output_type": "stream",
     "text": [
      "/home/joao/.local/lib/python3.8/site-packages/sncosmo/fitting.py:187: RuntimeWarning: Dropping following bands from data: megacampsf::g at 12.639872(out of model wavelength range)\n",
      "  warnings.warn(\"Dropping following bands from data: \" +\n"
     ]
    },
    {
     "name": "stdout",
     "output_type": "stream",
     "text": [
      "1.4842952608794624\n",
      "15.634109854379156\n",
      "15.812842918772427\n",
      "506\n"
     ]
    },
    {
     "name": "stderr",
     "output_type": "stream",
     "text": [
      "/home/joao/.local/lib/python3.8/site-packages/sncosmo/fitting.py:187: RuntimeWarning: Dropping following bands from data: sdss::g, sdss::u, sdss::z(out of model wavelength range)\n",
      "  warnings.warn(\"Dropping following bands from data: \" +\n"
     ]
    },
    {
     "name": "stdout",
     "output_type": "stream",
     "text": [
      "0.9317491194515516\n",
      "0.9485962871735434\n",
      "1.0138019988135871\n",
      "507\n"
     ]
    },
    {
     "name": "stderr",
     "output_type": "stream",
     "text": [
      "/home/joao/.local/lib/python3.8/site-packages/sncosmo/fitting.py:187: RuntimeWarning: Dropping following bands from data: sdss::z(out of model wavelength range)\n",
      "  warnings.warn(\"Dropping following bands from data: \" +\n",
      "/home/joao/.local/lib/python3.8/site-packages/sncosmo/fitting.py:187: RuntimeWarning: Dropping following bands from data: sdss::g, sdss::u, sdss::z(out of model wavelength range)\n",
      "  warnings.warn(\"Dropping following bands from data: \" +\n"
     ]
    },
    {
     "name": "stdout",
     "output_type": "stream",
     "text": [
      "1.2906245019721896\n",
      "1.4185793360488188\n",
      "1.9414368783331308\n",
      "508\n"
     ]
    },
    {
     "name": "stderr",
     "output_type": "stream",
     "text": [
      "/home/joao/.local/lib/python3.8/site-packages/sncosmo/fitting.py:187: RuntimeWarning: Dropping following bands from data: megacampsf::g at 8.806124(out of model wavelength range)\n",
      "  warnings.warn(\"Dropping following bands from data: \" +\n"
     ]
    },
    {
     "name": "stdout",
     "output_type": "stream",
     "text": [
      "1.4696324574766912\n",
      "2.8028192155243055\n",
      "3.9147327388294073\n",
      "509\n"
     ]
    },
    {
     "name": "stderr",
     "output_type": "stream",
     "text": [
      "/home/joao/.local/lib/python3.8/site-packages/sncosmo/fitting.py:187: RuntimeWarning: Dropping following bands from data: megacampsf::g at 9.578206(out of model wavelength range)\n",
      "  warnings.warn(\"Dropping following bands from data: \" +\n"
     ]
    },
    {
     "name": "stdout",
     "output_type": "stream",
     "text": [
      "0.9597514210349909\n",
      "5.408731386949526\n",
      "3.6399769911616007\n",
      "510\n"
     ]
    },
    {
     "name": "stderr",
     "output_type": "stream",
     "text": [
      "/home/joao/.local/lib/python3.8/site-packages/sncosmo/fitting.py:187: RuntimeWarning: Dropping following bands from data: megacampsf::g at 11.130967(out of model wavelength range)\n",
      "  warnings.warn(\"Dropping following bands from data: \" +\n"
     ]
    },
    {
     "name": "stdout",
     "output_type": "stream",
     "text": [
      "1.2187721024451992\n",
      "1.5893660877908187\n",
      "1.343589993106544\n",
      "511\n"
     ]
    },
    {
     "name": "stderr",
     "output_type": "stream",
     "text": [
      "/home/joao/.local/lib/python3.8/site-packages/sncosmo/fitting.py:187: RuntimeWarning: Dropping following bands from data: megacampsf::g at 12.502190, megacampsf::r at 12.502190(out of model wavelength range)\n",
      "  warnings.warn(\"Dropping following bands from data: \" +\n"
     ]
    },
    {
     "name": "stdout",
     "output_type": "stream",
     "text": [
      "1.434467009016491\n",
      "1.2664553323808414\n",
      "1.6803471628665945\n",
      "512\n"
     ]
    },
    {
     "name": "stderr",
     "output_type": "stream",
     "text": [
      "/home/joao/.local/lib/python3.8/site-packages/sncosmo/fitting.py:187: RuntimeWarning: Dropping following bands from data: sdss::g, sdss::u, sdss::z(out of model wavelength range)\n",
      "  warnings.warn(\"Dropping following bands from data: \" +\n"
     ]
    },
    {
     "name": "stdout",
     "output_type": "stream",
     "text": [
      "0.8802813189092866\n",
      "0.933733548530912\n",
      "0.9121645700152418\n",
      "513\n"
     ]
    },
    {
     "name": "stderr",
     "output_type": "stream",
     "text": [
      "/home/joao/.local/lib/python3.8/site-packages/sncosmo/fitting.py:187: RuntimeWarning: Dropping following bands from data: sdss::g, sdss::u, sdss::z(out of model wavelength range)\n",
      "  warnings.warn(\"Dropping following bands from data: \" +\n"
     ]
    },
    {
     "name": "stdout",
     "output_type": "stream",
     "text": [
      "1.0146170014739395\n",
      "1.0472029544056207\n",
      "1.18921031609327\n",
      "514\n"
     ]
    },
    {
     "name": "stderr",
     "output_type": "stream",
     "text": [
      "/home/joao/.local/lib/python3.8/site-packages/sncosmo/fitting.py:187: RuntimeWarning: Dropping following bands from data: sdss::g, sdss::u, sdss::z(out of model wavelength range)\n",
      "  warnings.warn(\"Dropping following bands from data: \" +\n"
     ]
    },
    {
     "name": "stdout",
     "output_type": "stream",
     "text": [
      "1.071276066084833\n",
      "0.4820695581316417\n",
      "0.5001040658569519\n",
      "515\n"
     ]
    },
    {
     "name": "stderr",
     "output_type": "stream",
     "text": [
      "/home/joao/.local/lib/python3.8/site-packages/sncosmo/fitting.py:187: RuntimeWarning: Dropping following bands from data: megacampsf::r at 6.786945, megacampsf::g at 6.786945(out of model wavelength range)\n",
      "  warnings.warn(\"Dropping following bands from data: \" +\n"
     ]
    },
    {
     "name": "stdout",
     "output_type": "stream",
     "text": [
      "0.8494916205850955\n",
      "0.7677623122330943\n",
      "0.769196798742607\n",
      "516\n"
     ]
    },
    {
     "name": "stderr",
     "output_type": "stream",
     "text": [
      "/home/joao/.local/lib/python3.8/site-packages/sncosmo/fitting.py:187: RuntimeWarning: Dropping following bands from data: standard::b, standard::i(out of model wavelength range)\n",
      "  warnings.warn(\"Dropping following bands from data: \" +\n"
     ]
    },
    {
     "name": "stdout",
     "output_type": "stream",
     "text": [
      "1.0103921516082042\n",
      "1.5180134049414071\n",
      "0.7701033925347056\n",
      "517\n"
     ]
    },
    {
     "name": "stderr",
     "output_type": "stream",
     "text": [
      "/home/joao/.local/lib/python3.8/site-packages/sncosmo/fitting.py:187: RuntimeWarning: Dropping following bands from data: sdss::z(out of model wavelength range)\n",
      "  warnings.warn(\"Dropping following bands from data: \" +\n",
      "/home/joao/.local/lib/python3.8/site-packages/sncosmo/fitting.py:187: RuntimeWarning: Dropping following bands from data: sdss::g, sdss::u, sdss::z(out of model wavelength range)\n",
      "  warnings.warn(\"Dropping following bands from data: \" +\n"
     ]
    },
    {
     "name": "stdout",
     "output_type": "stream",
     "text": [
      "0.6042992011103705\n",
      "1.1559725549031716\n",
      "1.3297940621048359\n",
      "518\n"
     ]
    },
    {
     "name": "stderr",
     "output_type": "stream",
     "text": [
      "/home/joao/.local/lib/python3.8/site-packages/sncosmo/fitting.py:187: RuntimeWarning: Dropping following bands from data: sdss::g, sdss::u, sdss::z(out of model wavelength range)\n",
      "  warnings.warn(\"Dropping following bands from data: \" +\n"
     ]
    },
    {
     "name": "stdout",
     "output_type": "stream",
     "text": [
      "1.3256952644627107\n",
      "0.49952054397032714\n",
      "0.5084502000949299\n",
      "519\n"
     ]
    },
    {
     "name": "stderr",
     "output_type": "stream",
     "text": [
      "/home/joao/.local/lib/python3.8/site-packages/sncosmo/fitting.py:187: RuntimeWarning: Dropping following bands from data: megacampsf::r at 10.602722, megacampsf::g at 10.602722(out of model wavelength range)\n",
      "  warnings.warn(\"Dropping following bands from data: \" +\n"
     ]
    },
    {
     "name": "stdout",
     "output_type": "stream",
     "text": [
      "1.5182006635078875\n",
      "1.209791992543931\n",
      "4.018267408987357\n",
      "520\n"
     ]
    },
    {
     "name": "stderr",
     "output_type": "stream",
     "text": [
      "/home/joao/.local/lib/python3.8/site-packages/sncosmo/fitting.py:187: RuntimeWarning: Dropping following bands from data: keplercam::i, keplercam::b(out of model wavelength range)\n",
      "  warnings.warn(\"Dropping following bands from data: \" +\n"
     ]
    },
    {
     "name": "stdout",
     "output_type": "stream",
     "text": [
      "1.3959401898918071\n",
      "9.461552445952242\n",
      "8.828034246072436\n",
      "521\n"
     ]
    },
    {
     "name": "stderr",
     "output_type": "stream",
     "text": [
      "/home/joao/.local/lib/python3.8/site-packages/sncosmo/fitting.py:187: RuntimeWarning: Dropping following bands from data: megacampsf::g at 8.032071, megacampsf::r at 8.032071(out of model wavelength range)\n",
      "  warnings.warn(\"Dropping following bands from data: \" +\n"
     ]
    },
    {
     "name": "stdout",
     "output_type": "stream",
     "text": [
      "0.8573536814573183\n",
      "2.2995100955449645\n",
      "2.4081011795622262\n",
      "522\n"
     ]
    },
    {
     "name": "stderr",
     "output_type": "stream",
     "text": [
      "/home/joao/.local/lib/python3.8/site-packages/sncosmo/fitting.py:187: RuntimeWarning: Dropping following bands from data: sdss::z(out of model wavelength range)\n",
      "  warnings.warn(\"Dropping following bands from data: \" +\n",
      "/home/joao/.local/lib/python3.8/site-packages/sncosmo/fitting.py:187: RuntimeWarning: Dropping following bands from data: sdss::g, sdss::u, sdss::z(out of model wavelength range)\n",
      "  warnings.warn(\"Dropping following bands from data: \" +\n"
     ]
    },
    {
     "name": "stdout",
     "output_type": "stream",
     "text": [
      "1.3359069109926656\n",
      "1.9655040033507816\n",
      "1.9836328502701592\n",
      "523\n"
     ]
    },
    {
     "name": "stderr",
     "output_type": "stream",
     "text": [
      "/home/joao/.local/lib/python3.8/site-packages/sncosmo/fitting.py:187: RuntimeWarning: Dropping following bands from data: sdss::z(out of model wavelength range)\n",
      "  warnings.warn(\"Dropping following bands from data: \" +\n",
      "/home/joao/.local/lib/python3.8/site-packages/sncosmo/fitting.py:187: RuntimeWarning: Dropping following bands from data: sdss::g, sdss::u, sdss::z(out of model wavelength range)\n",
      "  warnings.warn(\"Dropping following bands from data: \" +\n"
     ]
    },
    {
     "name": "stdout",
     "output_type": "stream",
     "text": [
      "1.4894649234325608\n",
      "2.1103753874582227\n",
      "2.27493747758288\n",
      "524\n"
     ]
    },
    {
     "name": "stderr",
     "output_type": "stream",
     "text": [
      "/home/joao/.local/lib/python3.8/site-packages/sncosmo/fitting.py:187: RuntimeWarning: Dropping following bands from data: sdss::g, sdss::u, sdss::z(out of model wavelength range)\n",
      "  warnings.warn(\"Dropping following bands from data: \" +\n"
     ]
    },
    {
     "name": "stdout",
     "output_type": "stream",
     "text": [
      "0.8277397639248111\n",
      "1.08502575534682\n",
      "1.0940538798882\n",
      "525\n"
     ]
    },
    {
     "name": "stderr",
     "output_type": "stream",
     "text": [
      "/home/joao/.local/lib/python3.8/site-packages/sncosmo/fitting.py:187: RuntimeWarning: Dropping following bands from data: megacampsf::g at 12.648104, megacampsf::r at 12.648104(out of model wavelength range)\n",
      "  warnings.warn(\"Dropping following bands from data: \" +\n"
     ]
    },
    {
     "name": "stdout",
     "output_type": "stream",
     "text": [
      "3.4836192622770894\n",
      "3.6802511871069776\n",
      "3.665669382550186\n",
      "526\n"
     ]
    },
    {
     "name": "stderr",
     "output_type": "stream",
     "text": [
      "/home/joao/.local/lib/python3.8/site-packages/sncosmo/fitting.py:187: RuntimeWarning: Dropping following bands from data: acswf::f775w(out of model wavelength range)\n",
      "  warnings.warn(\"Dropping following bands from data: \" +\n"
     ]
    },
    {
     "name": "stdout",
     "output_type": "stream",
     "text": [
      "1.2256102097739863\n",
      "1.1508296938764713\n",
      "1.1229383322781679\n",
      "527\n"
     ]
    },
    {
     "name": "stderr",
     "output_type": "stream",
     "text": [
      "/home/joao/.local/lib/python3.8/site-packages/sncosmo/fitting.py:187: RuntimeWarning: Dropping following bands from data: acswf::f775w(out of model wavelength range)\n",
      "  warnings.warn(\"Dropping following bands from data: \" +\n"
     ]
    },
    {
     "name": "stdout",
     "output_type": "stream",
     "text": [
      "5.609483037751855\n",
      "3.744070192969917\n",
      "4.1588682782296065\n",
      "528\n"
     ]
    },
    {
     "name": "stderr",
     "output_type": "stream",
     "text": [
      "/home/joao/.local/lib/python3.8/site-packages/sncosmo/fitting.py:187: RuntimeWarning: Dropping following bands from data: standard::r, standard::i(out of model wavelength range)\n",
      "  warnings.warn(\"Dropping following bands from data: \" +\n"
     ]
    },
    {
     "name": "stdout",
     "output_type": "stream",
     "text": [
      "6.580538264681571\n",
      "23.21163738717881\n",
      "39.62261094406873\n",
      "529\n"
     ]
    },
    {
     "name": "stderr",
     "output_type": "stream",
     "text": [
      "/home/joao/.local/lib/python3.8/site-packages/sncosmo/fitting.py:187: RuntimeWarning: Dropping following bands from data: sdss::g, sdss::u, sdss::z(out of model wavelength range)\n",
      "  warnings.warn(\"Dropping following bands from data: \" +\n"
     ]
    },
    {
     "name": "stdout",
     "output_type": "stream",
     "text": [
      "1.1156806781600943\n",
      "0.9291128640077759\n",
      "0.9027610633845309\n",
      "530\n"
     ]
    },
    {
     "name": "stderr",
     "output_type": "stream",
     "text": [
      "/home/joao/.local/lib/python3.8/site-packages/sncosmo/fitting.py:187: RuntimeWarning: Dropping following bands from data: sdss::z(out of model wavelength range)\n",
      "  warnings.warn(\"Dropping following bands from data: \" +\n",
      "/home/joao/.local/lib/python3.8/site-packages/sncosmo/fitting.py:187: RuntimeWarning: Dropping following bands from data: swope2::u, swope2::b, sdss::u, keplercam::b, sdss::z, keplercam::i, sdss::g, keplercam::us(out of model wavelength range)\n",
      "  warnings.warn(\"Dropping following bands from data: \" +\n"
     ]
    },
    {
     "name": "stdout",
     "output_type": "stream",
     "text": [
      "5.058236400044952\n",
      "10.750137870429306\n",
      "10.564074794663949\n",
      "531\n"
     ]
    },
    {
     "name": "stderr",
     "output_type": "stream",
     "text": [
      "/home/joao/.local/lib/python3.8/site-packages/sncosmo/fitting.py:187: RuntimeWarning: Dropping following bands from data: sdss::z(out of model wavelength range)\n",
      "  warnings.warn(\"Dropping following bands from data: \" +\n",
      "/home/joao/.local/lib/python3.8/site-packages/sncosmo/fitting.py:187: RuntimeWarning: Dropping following bands from data: sdss::g, sdss::u, sdss::z(out of model wavelength range)\n",
      "  warnings.warn(\"Dropping following bands from data: \" +\n"
     ]
    },
    {
     "name": "stdout",
     "output_type": "stream",
     "text": [
      "0.6657856258317734\n",
      "0.9530143025600559\n",
      "1.7906448438847042\n",
      "532\n"
     ]
    },
    {
     "name": "stderr",
     "output_type": "stream",
     "text": [
      "/home/joao/.local/lib/python3.8/site-packages/sncosmo/fitting.py:187: RuntimeWarning: Dropping following bands from data: acswf::f775w, acswf::f850lp(out of model wavelength range)\n",
      "  warnings.warn(\"Dropping following bands from data: \" +\n",
      "/home/joao/.local/lib/python3.8/site-packages/sncosmo/fitting.py:187: RuntimeWarning: Dropping following bands from data: sdss::z(out of model wavelength range)\n",
      "  warnings.warn(\"Dropping following bands from data: \" +\n"
     ]
    },
    {
     "name": "stdout",
     "output_type": "stream",
     "text": [
      "533\n"
     ]
    },
    {
     "name": "stderr",
     "output_type": "stream",
     "text": [
      "/home/joao/.local/lib/python3.8/site-packages/sncosmo/fitting.py:187: RuntimeWarning: Dropping following bands from data: sdss::g, sdss::u, sdss::z(out of model wavelength range)\n",
      "  warnings.warn(\"Dropping following bands from data: \" +\n"
     ]
    },
    {
     "name": "stdout",
     "output_type": "stream",
     "text": [
      "0.36592531076849183\n",
      "2.303011447073114\n",
      "0.6822126147878179\n",
      "534\n"
     ]
    },
    {
     "name": "stderr",
     "output_type": "stream",
     "text": [
      "/home/joao/.local/lib/python3.8/site-packages/sncosmo/fitting.py:187: RuntimeWarning: Dropping following bands from data: megacampsf::r at 12.048380, megacampsf::g at 12.048380(out of model wavelength range)\n",
      "  warnings.warn(\"Dropping following bands from data: \" +\n"
     ]
    },
    {
     "name": "stdout",
     "output_type": "stream",
     "text": [
      "535\n"
     ]
    },
    {
     "name": "stderr",
     "output_type": "stream",
     "text": [
      "/home/joao/.local/lib/python3.8/site-packages/sncosmo/fitting.py:187: RuntimeWarning: Dropping following bands from data: megacampsf::g at 7.696038(out of model wavelength range)\n",
      "  warnings.warn(\"Dropping following bands from data: \" +\n"
     ]
    },
    {
     "name": "stdout",
     "output_type": "stream",
     "text": [
      "1.7124828417933868\n",
      "15.071086733271159\n",
      "23.033589659712128\n",
      "536\n"
     ]
    },
    {
     "name": "stderr",
     "output_type": "stream",
     "text": [
      "/home/joao/.local/lib/python3.8/site-packages/sncosmo/fitting.py:187: RuntimeWarning: Dropping following bands from data: keplercam::b(out of model wavelength range)\n",
      "  warnings.warn(\"Dropping following bands from data: \" +\n"
     ]
    },
    {
     "name": "stdout",
     "output_type": "stream",
     "text": [
      "6.74277559019303\n",
      "2.7196226582633236\n",
      "2.6989537115422784\n",
      "537\n"
     ]
    },
    {
     "name": "stderr",
     "output_type": "stream",
     "text": [
      "/home/joao/.local/lib/python3.8/site-packages/sncosmo/fitting.py:187: RuntimeWarning: Dropping following bands from data: megacampsf::g at 6.787385, megacampsf::r at 6.787385(out of model wavelength range)\n",
      "  warnings.warn(\"Dropping following bands from data: \" +\n"
     ]
    },
    {
     "name": "stdout",
     "output_type": "stream",
     "text": [
      "1.20211257713342\n",
      "1.5488323870038712\n",
      "1.6249514137346068\n",
      "538\n"
     ]
    },
    {
     "name": "stderr",
     "output_type": "stream",
     "text": [
      "/home/joao/.local/lib/python3.8/site-packages/sncosmo/fitting.py:187: RuntimeWarning: Dropping following bands from data: sdss::z(out of model wavelength range)\n",
      "  warnings.warn(\"Dropping following bands from data: \" +\n",
      "/home/joao/.local/lib/python3.8/site-packages/sncosmo/fitting.py:187: RuntimeWarning: Dropping following bands from data: sdss::g, sdss::u, sdss::z(out of model wavelength range)\n",
      "  warnings.warn(\"Dropping following bands from data: \" +\n"
     ]
    },
    {
     "name": "stdout",
     "output_type": "stream",
     "text": [
      "0.55525892534966\n",
      "0.8932122838806829\n",
      "0.8917236741476268\n",
      "539\n"
     ]
    },
    {
     "name": "stderr",
     "output_type": "stream",
     "text": [
      "/home/joao/.local/lib/python3.8/site-packages/sncosmo/fitting.py:187: RuntimeWarning: Dropping following bands from data: megacampsf::g at 8.403372(out of model wavelength range)\n",
      "  warnings.warn(\"Dropping following bands from data: \" +\n",
      "/home/joao/.local/lib/python3.8/site-packages/sncosmo/fitting.py:187: RuntimeWarning: Dropping following bands from data: megacampsf::g at 8.403372, megacampsf::r at 8.403372, megacampsf::i at 8.403372(out of model wavelength range)\n",
      "  warnings.warn(\"Dropping following bands from data: \" +\n"
     ]
    },
    {
     "name": "stdout",
     "output_type": "stream",
     "text": [
      "11.505413725236027\n",
      "10.624884002656419\n",
      "12.419570727592093\n",
      "540\n"
     ]
    },
    {
     "name": "stderr",
     "output_type": "stream",
     "text": [
      "/home/joao/.local/lib/python3.8/site-packages/sncosmo/fitting.py:187: RuntimeWarning: Dropping following bands from data: keplercam::i, keplercam::b(out of model wavelength range)\n",
      "  warnings.warn(\"Dropping following bands from data: \" +\n"
     ]
    },
    {
     "name": "stdout",
     "output_type": "stream",
     "text": [
      "4.283635326009181\n",
      "3.0804908040144996\n",
      "6.99497387744494\n",
      "541\n"
     ]
    },
    {
     "name": "stderr",
     "output_type": "stream",
     "text": [
      "/home/joao/.local/lib/python3.8/site-packages/sncosmo/fitting.py:187: RuntimeWarning: Dropping following bands from data: megacampsf::g at 16.788120(out of model wavelength range)\n",
      "  warnings.warn(\"Dropping following bands from data: \" +\n"
     ]
    },
    {
     "name": "stdout",
     "output_type": "stream",
     "text": [
      "1.0234162618877476\n",
      "1.5491796537615343\n",
      "1.2814072746802267\n",
      "542\n"
     ]
    },
    {
     "name": "stderr",
     "output_type": "stream",
     "text": [
      "/home/joao/.local/lib/python3.8/site-packages/sncosmo/fitting.py:187: RuntimeWarning: Dropping following bands from data: megacampsf::r at 15.124173, megacampsf::g at 15.124173(out of model wavelength range)\n",
      "  warnings.warn(\"Dropping following bands from data: \" +\n"
     ]
    },
    {
     "name": "stdout",
     "output_type": "stream",
     "text": [
      "2.218081931501378\n",
      "6.167592779183981\n",
      "5.984373017903736\n",
      "543\n"
     ]
    },
    {
     "name": "stderr",
     "output_type": "stream",
     "text": [
      "/home/joao/.local/lib/python3.8/site-packages/sncosmo/fitting.py:187: RuntimeWarning: Dropping following bands from data: megacampsf::g at 8.370188, megacampsf::r at 8.370188(out of model wavelength range)\n",
      "  warnings.warn(\"Dropping following bands from data: \" +\n"
     ]
    },
    {
     "name": "stdout",
     "output_type": "stream",
     "text": [
      "1.4945030609031225\n",
      "1.4790409781062133\n",
      "1.4465946268022003\n",
      "544\n"
     ]
    },
    {
     "name": "stderr",
     "output_type": "stream",
     "text": [
      "/home/joao/.local/lib/python3.8/site-packages/sncosmo/fitting.py:187: RuntimeWarning: Dropping following bands from data: sdss::z(out of model wavelength range)\n",
      "  warnings.warn(\"Dropping following bands from data: \" +\n",
      "/home/joao/.local/lib/python3.8/site-packages/sncosmo/fitting.py:187: RuntimeWarning: Dropping following bands from data: sdss::g, sdss::u, sdss::z(out of model wavelength range)\n",
      "  warnings.warn(\"Dropping following bands from data: \" +\n"
     ]
    },
    {
     "name": "stdout",
     "output_type": "stream",
     "text": [
      "0.8197988486101391\n",
      "1.05799940513336\n",
      "1.025173250022182\n",
      "545\n"
     ]
    },
    {
     "name": "stderr",
     "output_type": "stream",
     "text": [
      "/home/joao/.local/lib/python3.8/site-packages/sncosmo/fitting.py:187: RuntimeWarning: Dropping following bands from data: swope2::b, swope2::u(out of model wavelength range)\n",
      "  warnings.warn(\"Dropping following bands from data: \" +\n"
     ]
    },
    {
     "name": "stdout",
     "output_type": "stream",
     "text": [
      "20.421910942175487\n",
      "28.51662623171202\n",
      "27.838981423935312\n",
      "546\n"
     ]
    },
    {
     "name": "stderr",
     "output_type": "stream",
     "text": [
      "/home/joao/.local/lib/python3.8/site-packages/sncosmo/fitting.py:187: RuntimeWarning: Dropping following bands from data: sdss::z(out of model wavelength range)\n",
      "  warnings.warn(\"Dropping following bands from data: \" +\n",
      "/home/joao/.local/lib/python3.8/site-packages/sncosmo/fitting.py:187: RuntimeWarning: Dropping following bands from data: sdss::g, sdss::u, sdss::z(out of model wavelength range)\n",
      "  warnings.warn(\"Dropping following bands from data: \" +\n"
     ]
    },
    {
     "name": "stdout",
     "output_type": "stream",
     "text": [
      "1.1867432490160477\n",
      "1.7521276619613173\n",
      "2.2900712277053845\n",
      "547\n"
     ]
    },
    {
     "name": "stderr",
     "output_type": "stream",
     "text": [
      "/home/joao/.local/lib/python3.8/site-packages/sncosmo/fitting.py:187: RuntimeWarning: Dropping following bands from data: sdss::z(out of model wavelength range)\n",
      "  warnings.warn(\"Dropping following bands from data: \" +\n",
      "/home/joao/.local/lib/python3.8/site-packages/sncosmo/fitting.py:187: RuntimeWarning: Dropping following bands from data: sdss::g, sdss::u, sdss::z(out of model wavelength range)\n",
      "  warnings.warn(\"Dropping following bands from data: \" +\n"
     ]
    },
    {
     "name": "stdout",
     "output_type": "stream",
     "text": [
      "1.4355836117028586\n",
      "1.5894551373199424\n",
      "1.589714774610538\n",
      "548\n"
     ]
    },
    {
     "name": "stderr",
     "output_type": "stream",
     "text": [
      "/home/joao/.local/lib/python3.8/site-packages/sncosmo/fitting.py:187: RuntimeWarning: Dropping following bands from data: sdss::z(out of model wavelength range)\n",
      "  warnings.warn(\"Dropping following bands from data: \" +\n",
      "/home/joao/.local/lib/python3.8/site-packages/sncosmo/fitting.py:187: RuntimeWarning: Dropping following bands from data: sdss::g, sdss::u, sdss::z(out of model wavelength range)\n",
      "  warnings.warn(\"Dropping following bands from data: \" +\n"
     ]
    },
    {
     "name": "stdout",
     "output_type": "stream",
     "text": [
      "1.2975255629185007\n",
      "4.239011278059306\n",
      "5.924049041324019\n",
      "549\n"
     ]
    },
    {
     "name": "stderr",
     "output_type": "stream",
     "text": [
      "/home/joao/.local/lib/python3.8/site-packages/sncosmo/fitting.py:187: RuntimeWarning: Dropping following bands from data: megacampsf::r at 6.904617, megacampsf::g at 6.904617(out of model wavelength range)\n",
      "  warnings.warn(\"Dropping following bands from data: \" +\n"
     ]
    },
    {
     "name": "stdout",
     "output_type": "stream",
     "text": [
      "1.8105800175852065\n",
      "1.8276630710770447\n",
      "1.9282359986843214\n",
      "550\n"
     ]
    },
    {
     "name": "stderr",
     "output_type": "stream",
     "text": [
      "/home/joao/.local/lib/python3.8/site-packages/sncosmo/fitting.py:187: RuntimeWarning: Dropping following bands from data: sdss::g, sdss::u, sdss::z(out of model wavelength range)\n",
      "  warnings.warn(\"Dropping following bands from data: \" +\n"
     ]
    },
    {
     "name": "stdout",
     "output_type": "stream",
     "text": [
      "2.2175362685556275\n",
      "2.6450809558299606\n",
      "2.8153087727171404\n",
      "551\n"
     ]
    },
    {
     "name": "stderr",
     "output_type": "stream",
     "text": [
      "/home/joao/.local/lib/python3.8/site-packages/sncosmo/fitting.py:187: RuntimeWarning: Dropping following bands from data: sdss::g, sdss::u, sdss::z(out of model wavelength range)\n",
      "  warnings.warn(\"Dropping following bands from data: \" +\n"
     ]
    },
    {
     "name": "stdout",
     "output_type": "stream",
     "text": [
      "0.6883858257641337\n",
      "0.4035685705780083\n",
      "0.4750354979287476\n",
      "552\n"
     ]
    },
    {
     "name": "stderr",
     "output_type": "stream",
     "text": [
      "/home/joao/.local/lib/python3.8/site-packages/sncosmo/fitting.py:187: RuntimeWarning: Dropping following bands from data: keplercam::i, keplercam::us, keplercam::b(out of model wavelength range)\n",
      "  warnings.warn(\"Dropping following bands from data: \" +\n"
     ]
    },
    {
     "name": "stdout",
     "output_type": "stream",
     "text": [
      "2.455563125087703\n",
      "5.083579723576794\n",
      "5.898706765184781\n",
      "553\n"
     ]
    },
    {
     "name": "stderr",
     "output_type": "stream",
     "text": [
      "/home/joao/.local/lib/python3.8/site-packages/sncosmo/fitting.py:187: RuntimeWarning: Dropping following bands from data: sdss::g, sdss::u, sdss::z(out of model wavelength range)\n",
      "  warnings.warn(\"Dropping following bands from data: \" +\n"
     ]
    },
    {
     "name": "stdout",
     "output_type": "stream",
     "text": [
      "1.0608471044193248\n",
      "1.0931774328542612\n",
      "1.0859026332222592\n",
      "554\n"
     ]
    },
    {
     "name": "stderr",
     "output_type": "stream",
     "text": [
      "/home/joao/.local/lib/python3.8/site-packages/sncosmo/fitting.py:187: RuntimeWarning: Dropping following bands from data: megacampsf::r at 12.673135, megacampsf::g at 12.673135(out of model wavelength range)\n",
      "  warnings.warn(\"Dropping following bands from data: \" +\n"
     ]
    },
    {
     "name": "stdout",
     "output_type": "stream",
     "text": [
      "0.9336188176874872\n",
      "0.8968532599371558\n",
      "1.0173658919907722\n",
      "555\n"
     ]
    },
    {
     "name": "stderr",
     "output_type": "stream",
     "text": [
      "/home/joao/.local/lib/python3.8/site-packages/sncosmo/fitting.py:187: RuntimeWarning: Dropping following bands from data: sdss::z(out of model wavelength range)\n",
      "  warnings.warn(\"Dropping following bands from data: \" +\n",
      "/home/joao/.local/lib/python3.8/site-packages/sncosmo/fitting.py:187: RuntimeWarning: Dropping following bands from data: sdss::g, sdss::u, sdss::z(out of model wavelength range)\n",
      "  warnings.warn(\"Dropping following bands from data: \" +\n"
     ]
    },
    {
     "name": "stdout",
     "output_type": "stream",
     "text": [
      "0.9160715493962381\n",
      "1.7506017538229255\n",
      "1.9840597183108646\n",
      "556\n"
     ]
    },
    {
     "name": "stderr",
     "output_type": "stream",
     "text": [
      "/home/joao/.local/lib/python3.8/site-packages/sncosmo/fitting.py:187: RuntimeWarning: Dropping following bands from data: sdss::g, sdss::u, sdss::z(out of model wavelength range)\n",
      "  warnings.warn(\"Dropping following bands from data: \" +\n"
     ]
    },
    {
     "name": "stdout",
     "output_type": "stream",
     "text": [
      "0.761838106004819\n",
      "0.7477463314377996\n",
      "0.8565553350497076\n",
      "557\n"
     ]
    },
    {
     "name": "stderr",
     "output_type": "stream",
     "text": [
      "/home/joao/.local/lib/python3.8/site-packages/sncosmo/fitting.py:187: RuntimeWarning: Dropping following bands from data: megacampsf::g at 11.642224, megacampsf::r at 11.642224(out of model wavelength range)\n",
      "  warnings.warn(\"Dropping following bands from data: \" +\n"
     ]
    },
    {
     "name": "stdout",
     "output_type": "stream",
     "text": [
      "1.6465898054009889\n",
      "1.5859858113031535\n",
      "1.6773891492437196\n",
      "558\n"
     ]
    },
    {
     "name": "stderr",
     "output_type": "stream",
     "text": [
      "/home/joao/.local/lib/python3.8/site-packages/sncosmo/fitting.py:187: RuntimeWarning: Dropping following bands from data: sdss::z(out of model wavelength range)\n",
      "  warnings.warn(\"Dropping following bands from data: \" +\n",
      "/home/joao/.local/lib/python3.8/site-packages/sncosmo/fitting.py:187: RuntimeWarning: Dropping following bands from data: sdss::g, sdss::u, sdss::z(out of model wavelength range)\n",
      "  warnings.warn(\"Dropping following bands from data: \" +\n"
     ]
    },
    {
     "name": "stdout",
     "output_type": "stream",
     "text": [
      "559\n"
     ]
    },
    {
     "name": "stderr",
     "output_type": "stream",
     "text": [
      "/home/joao/.local/lib/python3.8/site-packages/sncosmo/fitting.py:187: RuntimeWarning: Dropping following bands from data: megacampsf::g at 6.937970, megacampsf::r at 6.937970(out of model wavelength range)\n",
      "  warnings.warn(\"Dropping following bands from data: \" +\n"
     ]
    },
    {
     "name": "stdout",
     "output_type": "stream",
     "text": [
      "0.7675223313292266\n",
      "0.7280569218659407\n",
      "0.7194417557119247\n",
      "560\n"
     ]
    },
    {
     "name": "stderr",
     "output_type": "stream",
     "text": [
      "/home/joao/.local/lib/python3.8/site-packages/sncosmo/fitting.py:187: RuntimeWarning: Dropping following bands from data: sdss::z(out of model wavelength range)\n",
      "  warnings.warn(\"Dropping following bands from data: \" +\n",
      "/home/joao/.local/lib/python3.8/site-packages/sncosmo/fitting.py:187: RuntimeWarning: Dropping following bands from data: sdss::g, sdss::u, sdss::z(out of model wavelength range)\n",
      "  warnings.warn(\"Dropping following bands from data: \" +\n"
     ]
    },
    {
     "name": "stdout",
     "output_type": "stream",
     "text": [
      "0.8227236585554597\n",
      "2.03820227393125\n",
      "5.411122817622302\n",
      "561\n"
     ]
    },
    {
     "name": "stderr",
     "output_type": "stream",
     "text": [
      "/home/joao/.local/lib/python3.8/site-packages/sncosmo/fitting.py:187: RuntimeWarning: Dropping following bands from data: megacampsf::r at 13.708196, megacampsf::g at 13.708196(out of model wavelength range)\n",
      "  warnings.warn(\"Dropping following bands from data: \" +\n"
     ]
    },
    {
     "name": "stdout",
     "output_type": "stream",
     "text": [
      "1.8392905574888683\n",
      "4.837008414202625\n",
      "7.566832516614017\n",
      "562\n"
     ]
    },
    {
     "name": "stderr",
     "output_type": "stream",
     "text": [
      "/home/joao/.local/lib/python3.8/site-packages/sncosmo/fitting.py:187: RuntimeWarning: Dropping following bands from data: keplercam::i, keplercam::b(out of model wavelength range)\n",
      "  warnings.warn(\"Dropping following bands from data: \" +\n"
     ]
    },
    {
     "name": "stdout",
     "output_type": "stream",
     "text": [
      "7.5101751016837754\n",
      "3.941643970885492\n",
      "4.145195285394288\n",
      "563\n"
     ]
    },
    {
     "name": "stderr",
     "output_type": "stream",
     "text": [
      "/home/joao/.local/lib/python3.8/site-packages/sncosmo/fitting.py:187: RuntimeWarning: Dropping following bands from data: sdss::g, sdss::u(out of model wavelength range)\n",
      "  warnings.warn(\"Dropping following bands from data: \" +\n"
     ]
    },
    {
     "name": "stdout",
     "output_type": "stream",
     "text": [
      "0.24901642282319533\n",
      "0.16976372008858256\n",
      "0.24952216875094807\n",
      "564\n"
     ]
    },
    {
     "name": "stderr",
     "output_type": "stream",
     "text": [
      "/home/joao/.local/lib/python3.8/site-packages/sncosmo/fitting.py:187: RuntimeWarning: Dropping following bands from data: megacampsf::r at 9.253921, megacampsf::g at 9.253921(out of model wavelength range)\n",
      "  warnings.warn(\"Dropping following bands from data: \" +\n"
     ]
    },
    {
     "name": "stdout",
     "output_type": "stream",
     "text": [
      "1.7286627599100246\n",
      "1.7419195441239665\n",
      "2.133078746509723\n",
      "565\n"
     ]
    },
    {
     "name": "stderr",
     "output_type": "stream",
     "text": [
      "/home/joao/.local/lib/python3.8/site-packages/sncosmo/fitting.py:187: RuntimeWarning: Dropping following bands from data: megacampsf::g at 12.134173, megacampsf::r at 12.134173(out of model wavelength range)\n",
      "  warnings.warn(\"Dropping following bands from data: \" +\n"
     ]
    },
    {
     "name": "stdout",
     "output_type": "stream",
     "text": [
      "2.753473703384558\n",
      "3.020440367918835\n",
      "3.8201160888770747\n",
      "566\n"
     ]
    },
    {
     "name": "stderr",
     "output_type": "stream",
     "text": [
      "/home/joao/.local/lib/python3.8/site-packages/sncosmo/fitting.py:187: RuntimeWarning: Dropping following bands from data: sdss::g, sdss::u, sdss::z(out of model wavelength range)\n",
      "  warnings.warn(\"Dropping following bands from data: \" +\n"
     ]
    },
    {
     "name": "stdout",
     "output_type": "stream",
     "text": [
      "1.2076817746225286\n",
      "1.4102129999569157\n",
      "1.4156928721874515\n",
      "567\n"
     ]
    },
    {
     "name": "stderr",
     "output_type": "stream",
     "text": [
      "/home/joao/.local/lib/python3.8/site-packages/sncosmo/fitting.py:187: RuntimeWarning: Dropping following bands from data: standard::r, standard::i, standard::u(out of model wavelength range)\n",
      "  warnings.warn(\"Dropping following bands from data: \" +\n"
     ]
    },
    {
     "name": "stdout",
     "output_type": "stream",
     "text": [
      "12.571500041487552\n",
      "21.09310260973494\n",
      "37.35155228759484\n",
      "568\n"
     ]
    },
    {
     "name": "stderr",
     "output_type": "stream",
     "text": [
      "/home/joao/.local/lib/python3.8/site-packages/sncosmo/fitting.py:187: RuntimeWarning: Dropping following bands from data: sdss::g, sdss::u(out of model wavelength range)\n",
      "  warnings.warn(\"Dropping following bands from data: \" +\n"
     ]
    },
    {
     "name": "stdout",
     "output_type": "stream",
     "text": [
      "0.6372009966870706\n",
      "0.6522383850406175\n",
      "0.6497866546956632\n",
      "569\n"
     ]
    },
    {
     "name": "stderr",
     "output_type": "stream",
     "text": [
      "/home/joao/.local/lib/python3.8/site-packages/sncosmo/fitting.py:187: RuntimeWarning: Dropping following bands from data: megacampsf::r at 1.726947, megacampsf::g at 1.726947(out of model wavelength range)\n",
      "  warnings.warn(\"Dropping following bands from data: \" +\n"
     ]
    },
    {
     "name": "stdout",
     "output_type": "stream",
     "text": [
      "2.294883129238485\n",
      "1.6199368307749178\n",
      "2.154319085827969\n",
      "570\n"
     ]
    },
    {
     "name": "stderr",
     "output_type": "stream",
     "text": [
      "/home/joao/.local/lib/python3.8/site-packages/sncosmo/fitting.py:187: RuntimeWarning: Dropping following bands from data: sdss::z(out of model wavelength range)\n",
      "  warnings.warn(\"Dropping following bands from data: \" +\n",
      "/home/joao/.local/lib/python3.8/site-packages/sncosmo/fitting.py:187: RuntimeWarning: Dropping following bands from data: sdss::g, sdss::u, sdss::z(out of model wavelength range)\n",
      "  warnings.warn(\"Dropping following bands from data: \" +\n"
     ]
    },
    {
     "name": "stdout",
     "output_type": "stream",
     "text": [
      "2.0983383607043304\n",
      "1.4567265927433566\n",
      "1.7543703618256274\n",
      "571\n"
     ]
    },
    {
     "name": "stderr",
     "output_type": "stream",
     "text": [
      "/home/joao/.local/lib/python3.8/site-packages/sncosmo/fitting.py:187: RuntimeWarning: Dropping following bands from data: sdss::g, sdss::u, sdss::z(out of model wavelength range)\n",
      "  warnings.warn(\"Dropping following bands from data: \" +\n"
     ]
    },
    {
     "name": "stdout",
     "output_type": "stream",
     "text": [
      "0.821796701424422\n",
      "0.8013332736500262\n",
      "0.7715552608292635\n",
      "572\n"
     ]
    },
    {
     "name": "stderr",
     "output_type": "stream",
     "text": [
      "/home/joao/.local/lib/python3.8/site-packages/sncosmo/fitting.py:187: RuntimeWarning: Dropping following bands from data: sdss::g, sdss::u, sdss::z(out of model wavelength range)\n",
      "  warnings.warn(\"Dropping following bands from data: \" +\n"
     ]
    },
    {
     "name": "stdout",
     "output_type": "stream",
     "text": [
      "0.7338650770547207\n",
      "0.9613940875315188\n",
      "0.7511300504821317\n",
      "573\n"
     ]
    },
    {
     "name": "stderr",
     "output_type": "stream",
     "text": [
      "/home/joao/.local/lib/python3.8/site-packages/sncosmo/fitting.py:187: RuntimeWarning: Dropping following bands from data: standard::b, standard::i(out of model wavelength range)\n",
      "  warnings.warn(\"Dropping following bands from data: \" +\n"
     ]
    },
    {
     "name": "stdout",
     "output_type": "stream",
     "text": [
      "1.8015548467123186\n",
      "1.22108997591279\n",
      "1.0887446074818463\n",
      "574\n"
     ]
    },
    {
     "name": "stderr",
     "output_type": "stream",
     "text": [
      "/home/joao/.local/lib/python3.8/site-packages/sncosmo/fitting.py:187: RuntimeWarning: Dropping following bands from data: sdss::z(out of model wavelength range)\n",
      "  warnings.warn(\"Dropping following bands from data: \" +\n",
      "/home/joao/.local/lib/python3.8/site-packages/sncosmo/fitting.py:187: RuntimeWarning: Dropping following bands from data: sdss::g, sdss::u, sdss::z(out of model wavelength range)\n",
      "  warnings.warn(\"Dropping following bands from data: \" +\n"
     ]
    },
    {
     "name": "stdout",
     "output_type": "stream",
     "text": [
      "1.2159718224189036\n",
      "0.8541769212578159\n",
      "0.8778302656085917\n",
      "575\n"
     ]
    },
    {
     "name": "stderr",
     "output_type": "stream",
     "text": [
      "/home/joao/.local/lib/python3.8/site-packages/sncosmo/fitting.py:187: RuntimeWarning: Dropping following bands from data: standard::b, standard::i(out of model wavelength range)\n",
      "  warnings.warn(\"Dropping following bands from data: \" +\n"
     ]
    },
    {
     "name": "stdout",
     "output_type": "stream",
     "text": [
      "0.6709506487754903\n",
      "4.550542491835908\n",
      "0.5909248118469674\n",
      "576\n"
     ]
    },
    {
     "name": "stderr",
     "output_type": "stream",
     "text": [
      "/home/joao/.local/lib/python3.8/site-packages/sncosmo/fitting.py:187: RuntimeWarning: Dropping following bands from data: megacampsf::g at 4.156369(out of model wavelength range)\n",
      "  warnings.warn(\"Dropping following bands from data: \" +\n"
     ]
    },
    {
     "name": "stdout",
     "output_type": "stream",
     "text": [
      "2.19593431911725\n",
      "5.393611731414457\n",
      "4.417631754504978\n",
      "577\n"
     ]
    },
    {
     "name": "stderr",
     "output_type": "stream",
     "text": [
      "/home/joao/.local/lib/python3.8/site-packages/sncosmo/fitting.py:187: RuntimeWarning: Dropping following bands from data: sdss::z(out of model wavelength range)\n",
      "  warnings.warn(\"Dropping following bands from data: \" +\n",
      "/home/joao/.local/lib/python3.8/site-packages/sncosmo/fitting.py:187: RuntimeWarning: Dropping following bands from data: sdss::g, sdss::u, sdss::z(out of model wavelength range)\n",
      "  warnings.warn(\"Dropping following bands from data: \" +\n"
     ]
    },
    {
     "name": "stdout",
     "output_type": "stream",
     "text": [
      "1.582675390262996\n",
      "3.9640912860912003\n",
      "3.733225462648032\n",
      "578\n"
     ]
    },
    {
     "name": "stderr",
     "output_type": "stream",
     "text": [
      "/home/joao/.local/lib/python3.8/site-packages/sncosmo/fitting.py:187: RuntimeWarning: Dropping following bands from data: megacampsf::g at 16.153253(out of model wavelength range)\n",
      "  warnings.warn(\"Dropping following bands from data: \" +\n"
     ]
    },
    {
     "name": "stdout",
     "output_type": "stream",
     "text": [
      "2.159315623539476\n",
      "3.2146733445673643\n",
      "3.5464511446309412\n",
      "579\n"
     ]
    },
    {
     "name": "stderr",
     "output_type": "stream",
     "text": [
      "/home/joao/.local/lib/python3.8/site-packages/sncosmo/fitting.py:187: RuntimeWarning: Dropping following bands from data: sdss::g, sdss::u(out of model wavelength range)\n",
      "  warnings.warn(\"Dropping following bands from data: \" +\n"
     ]
    },
    {
     "name": "stdout",
     "output_type": "stream",
     "text": [
      "1.040254899699267\n",
      "1.0372327274281983\n",
      "0.978918986389136\n",
      "580\n"
     ]
    },
    {
     "name": "stderr",
     "output_type": "stream",
     "text": [
      "/home/joao/.local/lib/python3.8/site-packages/sncosmo/fitting.py:187: RuntimeWarning: Dropping following bands from data: megacampsf::r at 7.212814, megacampsf::g at 7.212814(out of model wavelength range)\n",
      "  warnings.warn(\"Dropping following bands from data: \" +\n"
     ]
    },
    {
     "name": "stdout",
     "output_type": "stream",
     "text": [
      "1.8454224283889886\n",
      "0.4651530149325113\n",
      "0.06447796996202652\n",
      "581\n"
     ]
    },
    {
     "name": "stderr",
     "output_type": "stream",
     "text": [
      "/home/joao/.local/lib/python3.8/site-packages/sncosmo/fitting.py:187: RuntimeWarning: Dropping following bands from data: swope2::b, swope2::u(out of model wavelength range)\n",
      "  warnings.warn(\"Dropping following bands from data: \" +\n"
     ]
    },
    {
     "name": "stdout",
     "output_type": "stream",
     "text": [
      "23.498312404431438\n",
      "377.7673730321876\n",
      "515.5226336050285\n",
      "582\n"
     ]
    },
    {
     "name": "stderr",
     "output_type": "stream",
     "text": [
      "/home/joao/.local/lib/python3.8/site-packages/sncosmo/fitting.py:187: RuntimeWarning: Dropping following bands from data: sdss::z(out of model wavelength range)\n",
      "  warnings.warn(\"Dropping following bands from data: \" +\n",
      "/home/joao/.local/lib/python3.8/site-packages/sncosmo/fitting.py:187: RuntimeWarning: Dropping following bands from data: swope2::u, swope2::g, swope2::b, sdss::u, sdss::z, sdss::g(out of model wavelength range)\n",
      "  warnings.warn(\"Dropping following bands from data: \" +\n"
     ]
    },
    {
     "name": "stdout",
     "output_type": "stream",
     "text": [
      "3.3544078419208354\n",
      "6.3715341719582765\n",
      "6.965049493582669\n",
      "583\n"
     ]
    },
    {
     "name": "stderr",
     "output_type": "stream",
     "text": [
      "/home/joao/.local/lib/python3.8/site-packages/sncosmo/fitting.py:187: RuntimeWarning: Dropping following bands from data: 4shooter2::us, 4shooter2::i, 4shooter2::r, 4shooter2::b(out of model wavelength range)\n",
      "  warnings.warn(\"Dropping following bands from data: \" +\n"
     ]
    },
    {
     "name": "stdout",
     "output_type": "stream",
     "text": [
      "2.7150233919500493\n",
      "2.620349844373955\n",
      "1.4831188581823744\n",
      "584\n"
     ]
    },
    {
     "name": "stderr",
     "output_type": "stream",
     "text": [
      "/home/joao/.local/lib/python3.8/site-packages/sncosmo/fitting.py:187: RuntimeWarning: Dropping following bands from data: 4shooter2::us, 4shooter2::i, 4shooter2::r, 4shooter2::b(out of model wavelength range)\n",
      "  warnings.warn(\"Dropping following bands from data: \" +\n"
     ]
    },
    {
     "name": "stdout",
     "output_type": "stream",
     "text": [
      "6.793407681883645\n",
      "2.095509709320963\n",
      "1.8957628116122147\n",
      "585\n"
     ]
    },
    {
     "name": "stderr",
     "output_type": "stream",
     "text": [
      "/home/joao/.local/lib/python3.8/site-packages/sncosmo/fitting.py:187: RuntimeWarning: Dropping following bands from data: sdss::z(out of model wavelength range)\n",
      "  warnings.warn(\"Dropping following bands from data: \" +\n",
      "/home/joao/.local/lib/python3.8/site-packages/sncosmo/fitting.py:187: RuntimeWarning: Dropping following bands from data: sdss::g, sdss::u, sdss::z(out of model wavelength range)\n",
      "  warnings.warn(\"Dropping following bands from data: \" +\n"
     ]
    },
    {
     "name": "stdout",
     "output_type": "stream",
     "text": [
      "2.0757701479376314\n",
      "4.71970309702947\n",
      "1.634147240310158\n",
      "586\n"
     ]
    },
    {
     "name": "stderr",
     "output_type": "stream",
     "text": [
      "/home/joao/.local/lib/python3.8/site-packages/sncosmo/fitting.py:187: RuntimeWarning: Dropping following bands from data: swope2::b, swope2::u(out of model wavelength range)\n",
      "  warnings.warn(\"Dropping following bands from data: \" +\n"
     ]
    },
    {
     "name": "stdout",
     "output_type": "stream",
     "text": [
      "13.93517257098882\n",
      "83.30439148427227\n",
      "84.20570587775599\n",
      "587\n"
     ]
    },
    {
     "name": "stderr",
     "output_type": "stream",
     "text": [
      "/home/joao/.local/lib/python3.8/site-packages/sncosmo/fitting.py:187: RuntimeWarning: Dropping following bands from data: sdss::z(out of model wavelength range)\n",
      "  warnings.warn(\"Dropping following bands from data: \" +\n",
      "/home/joao/.local/lib/python3.8/site-packages/sncosmo/fitting.py:187: RuntimeWarning: Dropping following bands from data: sdss::g, sdss::u, sdss::z(out of model wavelength range)\n",
      "  warnings.warn(\"Dropping following bands from data: \" +\n"
     ]
    },
    {
     "name": "stdout",
     "output_type": "stream",
     "text": [
      "7.728232733032138\n",
      "50.04428087321303\n",
      "49.37615002746057\n",
      "588\n"
     ]
    },
    {
     "name": "stderr",
     "output_type": "stream",
     "text": [
      "/home/joao/.local/lib/python3.8/site-packages/sncosmo/fitting.py:187: RuntimeWarning: Dropping following bands from data: megacampsf::g at 11.458259, megacampsf::r at 11.458259(out of model wavelength range)\n",
      "  warnings.warn(\"Dropping following bands from data: \" +\n"
     ]
    },
    {
     "name": "stdout",
     "output_type": "stream",
     "text": [
      "5.0748403110875016\n",
      "5.1596232663875945\n",
      "589\n"
     ]
    },
    {
     "name": "stderr",
     "output_type": "stream",
     "text": [
      "/home/joao/.local/lib/python3.8/site-packages/sncosmo/fitting.py:187: RuntimeWarning: Dropping following bands from data: megacampsf::g at 9.603230, megacampsf::r at 9.603230(out of model wavelength range)\n",
      "  warnings.warn(\"Dropping following bands from data: \" +\n"
     ]
    },
    {
     "name": "stdout",
     "output_type": "stream",
     "text": [
      "0.9350705645087616\n",
      "1.5511608412131894\n",
      "2.3570953025124672\n",
      "590\n"
     ]
    },
    {
     "name": "stderr",
     "output_type": "stream",
     "text": [
      "/home/joao/.local/lib/python3.8/site-packages/sncosmo/fitting.py:187: RuntimeWarning: Dropping following bands from data: keplercam::i, keplercam::us, keplercam::b(out of model wavelength range)\n",
      "  warnings.warn(\"Dropping following bands from data: \" +\n"
     ]
    },
    {
     "name": "stdout",
     "output_type": "stream",
     "text": [
      "4.986282556022426\n",
      "6.261974491006318\n",
      "6.121036620294699\n",
      "591\n"
     ]
    },
    {
     "name": "stderr",
     "output_type": "stream",
     "text": [
      "/home/joao/.local/lib/python3.8/site-packages/sncosmo/fitting.py:187: RuntimeWarning: Dropping following bands from data: sdss::z(out of model wavelength range)\n",
      "  warnings.warn(\"Dropping following bands from data: \" +\n",
      "/home/joao/.local/lib/python3.8/site-packages/sncosmo/fitting.py:187: RuntimeWarning: Dropping following bands from data: sdss::u, keplercam::b, sdss::z, keplercam::i, sdss::g(out of model wavelength range)\n",
      "  warnings.warn(\"Dropping following bands from data: \" +\n"
     ]
    },
    {
     "name": "stdout",
     "output_type": "stream",
     "text": [
      "7.731842525183645\n",
      "21.47292254091714\n",
      "21.836824484703495\n",
      "592\n",
      "593\n"
     ]
    },
    {
     "name": "stderr",
     "output_type": "stream",
     "text": [
      "/home/joao/.local/lib/python3.8/site-packages/sncosmo/fitting.py:187: RuntimeWarning: Dropping following bands from data: megacampsf::i at 14.061753, megacampsf::g at 14.061753, megacampsf::r at 14.061753(out of model wavelength range)\n",
      "  warnings.warn(\"Dropping following bands from data: \" +\n"
     ]
    },
    {
     "name": "stdout",
     "output_type": "stream",
     "text": [
      "1.2673740498707835\n",
      "2.641096952675075\n",
      "2.489775573822933\n",
      "594\n"
     ]
    },
    {
     "name": "stderr",
     "output_type": "stream",
     "text": [
      "/home/joao/.local/lib/python3.8/site-packages/sncosmo/fitting.py:187: RuntimeWarning: Dropping following bands from data: sdss::g, sdss::u, sdss::z(out of model wavelength range)\n",
      "  warnings.warn(\"Dropping following bands from data: \" +\n"
     ]
    },
    {
     "name": "stdout",
     "output_type": "stream",
     "text": [
      "0.9472238348955699\n",
      "0.7601289302687262\n",
      "0.8155382032881183\n",
      "595\n"
     ]
    },
    {
     "name": "stderr",
     "output_type": "stream",
     "text": [
      "/home/joao/.local/lib/python3.8/site-packages/sncosmo/fitting.py:187: RuntimeWarning: Dropping following bands from data: sdss::z(out of model wavelength range)\n",
      "  warnings.warn(\"Dropping following bands from data: \" +\n",
      "/home/joao/.local/lib/python3.8/site-packages/sncosmo/fitting.py:187: RuntimeWarning: Dropping following bands from data: sdss::g, sdss::u, sdss::z(out of model wavelength range)\n",
      "  warnings.warn(\"Dropping following bands from data: \" +\n"
     ]
    },
    {
     "name": "stdout",
     "output_type": "stream",
     "text": [
      "1.0888541673902545\n",
      "1.1519290580205968\n",
      "1.141056311970364\n",
      "596\n"
     ]
    },
    {
     "name": "stderr",
     "output_type": "stream",
     "text": [
      "/home/joao/.local/lib/python3.8/site-packages/sncosmo/fitting.py:187: RuntimeWarning: Dropping following bands from data: sdss::g, sdss::u, sdss::z(out of model wavelength range)\n",
      "  warnings.warn(\"Dropping following bands from data: \" +\n"
     ]
    },
    {
     "name": "stdout",
     "output_type": "stream",
     "text": [
      "0.5421291922561624\n",
      "0.4167685332225737\n",
      "0.40911980518002505\n",
      "597\n"
     ]
    },
    {
     "name": "stderr",
     "output_type": "stream",
     "text": [
      "/home/joao/.local/lib/python3.8/site-packages/sncosmo/fitting.py:187: RuntimeWarning: Dropping following bands from data: sdss::g, sdss::u, sdss::z(out of model wavelength range)\n",
      "  warnings.warn(\"Dropping following bands from data: \" +\n"
     ]
    },
    {
     "name": "stdout",
     "output_type": "stream",
     "text": [
      "0.6776896180231422\n",
      "0.5633298933376816\n",
      "0.5489001968336107\n",
      "598\n"
     ]
    },
    {
     "name": "stderr",
     "output_type": "stream",
     "text": [
      "/home/joao/.local/lib/python3.8/site-packages/sncosmo/fitting.py:187: RuntimeWarning: Dropping following bands from data: sdss::g, sdss::u, sdss::z(out of model wavelength range)\n",
      "  warnings.warn(\"Dropping following bands from data: \" +\n"
     ]
    },
    {
     "name": "stdout",
     "output_type": "stream",
     "text": [
      "0.4390412152690138\n",
      "0.34994576683649986\n",
      "0.35400353653237887\n",
      "599\n"
     ]
    },
    {
     "name": "stderr",
     "output_type": "stream",
     "text": [
      "/home/joao/.local/lib/python3.8/site-packages/sncosmo/fitting.py:187: RuntimeWarning: Dropping following bands from data: megacampsf::g at 8.347957, megacampsf::r at 8.347957(out of model wavelength range)\n",
      "  warnings.warn(\"Dropping following bands from data: \" +\n"
     ]
    },
    {
     "name": "stdout",
     "output_type": "stream",
     "text": [
      "1.3631848842522707\n",
      "1.095882238442437\n",
      "1.1028910913935508\n",
      "600\n"
     ]
    },
    {
     "name": "stderr",
     "output_type": "stream",
     "text": [
      "/home/joao/.local/lib/python3.8/site-packages/sncosmo/fitting.py:187: RuntimeWarning: Dropping following bands from data: sdss::z(out of model wavelength range)\n",
      "  warnings.warn(\"Dropping following bands from data: \" +\n",
      "/home/joao/.local/lib/python3.8/site-packages/sncosmo/fitting.py:187: RuntimeWarning: Dropping following bands from data: sdss::g, sdss::u, sdss::z(out of model wavelength range)\n",
      "  warnings.warn(\"Dropping following bands from data: \" +\n"
     ]
    },
    {
     "name": "stdout",
     "output_type": "stream",
     "text": [
      "0.9908279617012028\n",
      "0.8199178060699936\n",
      "0.8223569737535599\n",
      "601\n"
     ]
    },
    {
     "name": "stderr",
     "output_type": "stream",
     "text": [
      "/home/joao/.local/lib/python3.8/site-packages/sncosmo/fitting.py:187: RuntimeWarning: Dropping following bands from data: sdss::g, sdss::u, sdss::z(out of model wavelength range)\n",
      "  warnings.warn(\"Dropping following bands from data: \" +\n"
     ]
    },
    {
     "name": "stdout",
     "output_type": "stream",
     "text": [
      "1.4497697971370862\n",
      "0.969596730488082\n",
      "1.0095932737307873\n",
      "602\n"
     ]
    },
    {
     "name": "stderr",
     "output_type": "stream",
     "text": [
      "/home/joao/.local/lib/python3.8/site-packages/sncosmo/fitting.py:187: RuntimeWarning: Dropping following bands from data: sdss::g, sdss::u(out of model wavelength range)\n",
      "  warnings.warn(\"Dropping following bands from data: \" +\n"
     ]
    },
    {
     "name": "stdout",
     "output_type": "stream",
     "text": [
      "0.8464884309342491\n",
      "1.000657622058462\n",
      "0.9325864135578\n",
      "603\n"
     ]
    },
    {
     "name": "stderr",
     "output_type": "stream",
     "text": [
      "/home/joao/.local/lib/python3.8/site-packages/sncosmo/fitting.py:187: RuntimeWarning: Dropping following bands from data: sdss::z(out of model wavelength range)\n",
      "  warnings.warn(\"Dropping following bands from data: \" +\n",
      "/home/joao/.local/lib/python3.8/site-packages/sncosmo/fitting.py:187: RuntimeWarning: Dropping following bands from data: sdss::g, sdss::u, sdss::z(out of model wavelength range)\n",
      "  warnings.warn(\"Dropping following bands from data: \" +\n"
     ]
    },
    {
     "name": "stdout",
     "output_type": "stream",
     "text": [
      "1.3137310894430392\n",
      "7.229871242878949\n",
      "8.743852855775835\n",
      "604\n"
     ]
    },
    {
     "name": "stderr",
     "output_type": "stream",
     "text": [
      "/home/joao/.local/lib/python3.8/site-packages/sncosmo/fitting.py:187: RuntimeWarning: Dropping following bands from data: megacampsf::g at 12.714489(out of model wavelength range)\n",
      "  warnings.warn(\"Dropping following bands from data: \" +\n"
     ]
    },
    {
     "name": "stdout",
     "output_type": "stream",
     "text": [
      "0.9693739150127356\n",
      "4.986953805244987\n",
      "6.011261601324311\n",
      "605\n"
     ]
    },
    {
     "name": "stderr",
     "output_type": "stream",
     "text": [
      "/home/joao/.local/lib/python3.8/site-packages/sncosmo/fitting.py:187: RuntimeWarning: Dropping following bands from data: megacampsf::g at 3.172691, megacampsf::r at 3.172691(out of model wavelength range)\n",
      "  warnings.warn(\"Dropping following bands from data: \" +\n"
     ]
    },
    {
     "name": "stdout",
     "output_type": "stream",
     "text": [
      "2.0810367933493596\n",
      "2.308224282939203\n",
      "2.3198808775802333\n",
      "606\n"
     ]
    },
    {
     "name": "stderr",
     "output_type": "stream",
     "text": [
      "/home/joao/.local/lib/python3.8/site-packages/sncosmo/fitting.py:187: RuntimeWarning: Dropping following bands from data: sdss::g, sdss::u, sdss::z(out of model wavelength range)\n",
      "  warnings.warn(\"Dropping following bands from data: \" +\n"
     ]
    },
    {
     "name": "stdout",
     "output_type": "stream",
     "text": [
      "1.2682941927294247\n",
      "1.2825415892193606\n",
      "1.3148533771743534\n",
      "607\n"
     ]
    },
    {
     "name": "stderr",
     "output_type": "stream",
     "text": [
      "/home/joao/.local/lib/python3.8/site-packages/sncosmo/fitting.py:187: RuntimeWarning: Dropping following bands from data: sdss::g, sdss::u, sdss::z(out of model wavelength range)\n",
      "  warnings.warn(\"Dropping following bands from data: \" +\n"
     ]
    },
    {
     "name": "stdout",
     "output_type": "stream",
     "text": [
      "0.7710191993182083\n",
      "0.6844904467523354\n",
      "0.6955274671754553\n",
      "608\n"
     ]
    },
    {
     "name": "stderr",
     "output_type": "stream",
     "text": [
      "/home/joao/.local/lib/python3.8/site-packages/sncosmo/fitting.py:187: RuntimeWarning: Dropping following bands from data: megacampsf::r at 16.385129, megacampsf::g at 16.385129(out of model wavelength range)\n",
      "  warnings.warn(\"Dropping following bands from data: \" +\n"
     ]
    },
    {
     "name": "stdout",
     "output_type": "stream",
     "text": [
      "0.590468768089284\n",
      "0.5789240559954086\n",
      "0.5562475595854341\n",
      "609\n"
     ]
    },
    {
     "name": "stderr",
     "output_type": "stream",
     "text": [
      "/home/joao/.local/lib/python3.8/site-packages/sncosmo/fitting.py:187: RuntimeWarning: Dropping following bands from data: sdss::z(out of model wavelength range)\n",
      "  warnings.warn(\"Dropping following bands from data: \" +\n",
      "/home/joao/.local/lib/python3.8/site-packages/sncosmo/fitting.py:187: RuntimeWarning: Dropping following bands from data: sdss::g, sdss::u, sdss::z(out of model wavelength range)\n",
      "  warnings.warn(\"Dropping following bands from data: \" +\n"
     ]
    },
    {
     "name": "stdout",
     "output_type": "stream",
     "text": [
      "1.8987589825843316\n",
      "2.053965621807527\n",
      "2.2252368392468833\n",
      "610\n"
     ]
    },
    {
     "name": "stderr",
     "output_type": "stream",
     "text": [
      "/home/joao/.local/lib/python3.8/site-packages/sncosmo/fitting.py:187: RuntimeWarning: Dropping following bands from data: sdss::g, sdss::u, sdss::z(out of model wavelength range)\n",
      "  warnings.warn(\"Dropping following bands from data: \" +\n"
     ]
    },
    {
     "name": "stdout",
     "output_type": "stream",
     "text": [
      "1.0329496243407605\n",
      "1.0135747288401424\n",
      "0.9766321575060166\n",
      "611\n"
     ]
    },
    {
     "name": "stderr",
     "output_type": "stream",
     "text": [
      "/home/joao/.local/lib/python3.8/site-packages/sncosmo/fitting.py:187: RuntimeWarning: Dropping following bands from data: sdss::z(out of model wavelength range)\n",
      "  warnings.warn(\"Dropping following bands from data: \" +\n",
      "/home/joao/.local/lib/python3.8/site-packages/sncosmo/fitting.py:187: RuntimeWarning: Dropping following bands from data: sdss::g, sdss::u, sdss::z(out of model wavelength range)\n",
      "  warnings.warn(\"Dropping following bands from data: \" +\n"
     ]
    },
    {
     "name": "stdout",
     "output_type": "stream",
     "text": [
      "1.233300815130244\n",
      "0.8584053048532292\n",
      "0.8810709421357285\n",
      "612\n"
     ]
    },
    {
     "name": "stderr",
     "output_type": "stream",
     "text": [
      "/home/joao/.local/lib/python3.8/site-packages/sncosmo/fitting.py:187: RuntimeWarning: Dropping following bands from data: megacampsf::g at 11.212149, megacampsf::z at 11.212149(out of model wavelength range)\n",
      "  warnings.warn(\"Dropping following bands from data: \" +\n"
     ]
    },
    {
     "name": "stdout",
     "output_type": "stream",
     "text": [
      "4.296663571688633\n",
      "6.828562797313897\n",
      "8.894125469911879\n",
      "613\n"
     ]
    },
    {
     "name": "stderr",
     "output_type": "stream",
     "text": [
      "/home/joao/.local/lib/python3.8/site-packages/sncosmo/fitting.py:187: RuntimeWarning: Dropping following bands from data: sdss::z(out of model wavelength range)\n",
      "  warnings.warn(\"Dropping following bands from data: \" +\n",
      "/home/joao/.local/lib/python3.8/site-packages/sncosmo/fitting.py:187: RuntimeWarning: Dropping following bands from data: sdss::g, sdss::u, sdss::z(out of model wavelength range)\n",
      "  warnings.warn(\"Dropping following bands from data: \" +\n"
     ]
    },
    {
     "name": "stdout",
     "output_type": "stream",
     "text": [
      "1.7341169884930778\n",
      "2.6781772876398486\n",
      "2.477551726654637\n",
      "614\n"
     ]
    },
    {
     "name": "stderr",
     "output_type": "stream",
     "text": [
      "/home/joao/.local/lib/python3.8/site-packages/sncosmo/fitting.py:187: RuntimeWarning: Dropping following bands from data: sdss::z(out of model wavelength range)\n",
      "  warnings.warn(\"Dropping following bands from data: \" +\n",
      "/home/joao/.local/lib/python3.8/site-packages/sncosmo/fitting.py:187: RuntimeWarning: Dropping following bands from data: sdss::g, sdss::u, sdss::z(out of model wavelength range)\n",
      "  warnings.warn(\"Dropping following bands from data: \" +\n"
     ]
    },
    {
     "name": "stdout",
     "output_type": "stream",
     "text": [
      "2.3338504230488355\n",
      "3.757008353364388\n",
      "1.3622791476879093\n",
      "615\n"
     ]
    },
    {
     "name": "stderr",
     "output_type": "stream",
     "text": [
      "/home/joao/.local/lib/python3.8/site-packages/sncosmo/fitting.py:187: RuntimeWarning: Dropping following bands from data: sdss::g, sdss::u, sdss::z(out of model wavelength range)\n",
      "  warnings.warn(\"Dropping following bands from data: \" +\n"
     ]
    },
    {
     "name": "stdout",
     "output_type": "stream",
     "text": [
      "1.0713422545887397\n",
      "1.3663514600063524\n",
      "1.468568664525799\n",
      "616\n"
     ]
    },
    {
     "name": "stderr",
     "output_type": "stream",
     "text": [
      "/home/joao/.local/lib/python3.8/site-packages/sncosmo/fitting.py:187: RuntimeWarning: Dropping following bands from data: sdss::z(out of model wavelength range)\n",
      "  warnings.warn(\"Dropping following bands from data: \" +\n",
      "/home/joao/.local/lib/python3.8/site-packages/sncosmo/fitting.py:187: RuntimeWarning: Dropping following bands from data: sdss::g, sdss::u, sdss::z(out of model wavelength range)\n",
      "  warnings.warn(\"Dropping following bands from data: \" +\n"
     ]
    },
    {
     "name": "stdout",
     "output_type": "stream",
     "text": [
      "1.0643923564141549\n",
      "0.865138474879041\n",
      "0.881040313619649\n",
      "617\n"
     ]
    },
    {
     "name": "stderr",
     "output_type": "stream",
     "text": [
      "/home/joao/.local/lib/python3.8/site-packages/sncosmo/fitting.py:187: RuntimeWarning: Dropping following bands from data: megacampsf::r at 8.076115, megacampsf::g at 8.076115(out of model wavelength range)\n",
      "  warnings.warn(\"Dropping following bands from data: \" +\n"
     ]
    },
    {
     "name": "stdout",
     "output_type": "stream",
     "text": [
      "1.0208153974599108\n",
      "0.9437383900952021\n",
      "1.0247468155936978\n",
      "618\n"
     ]
    },
    {
     "name": "stderr",
     "output_type": "stream",
     "text": [
      "/home/joao/.local/lib/python3.8/site-packages/sncosmo/fitting.py:187: RuntimeWarning: Dropping following bands from data: megacampsf::g at 12.876400(out of model wavelength range)\n",
      "  warnings.warn(\"Dropping following bands from data: \" +\n"
     ]
    },
    {
     "name": "stdout",
     "output_type": "stream",
     "text": [
      "1.5222349982363197\n",
      "4.329473758942601\n",
      "3.622611129060738\n",
      "619\n"
     ]
    },
    {
     "name": "stderr",
     "output_type": "stream",
     "text": [
      "/home/joao/.local/lib/python3.8/site-packages/sncosmo/fitting.py:187: RuntimeWarning: Dropping following bands from data: standard::b(out of model wavelength range)\n",
      "  warnings.warn(\"Dropping following bands from data: \" +\n"
     ]
    },
    {
     "name": "stdout",
     "output_type": "stream",
     "text": [
      "1.0603433428533688\n",
      "1.959556128107914\n",
      "1.1818176024048581\n",
      "620\n"
     ]
    },
    {
     "name": "stderr",
     "output_type": "stream",
     "text": [
      "/home/joao/.local/lib/python3.8/site-packages/sncosmo/fitting.py:187: RuntimeWarning: Dropping following bands from data: sdss::z(out of model wavelength range)\n",
      "  warnings.warn(\"Dropping following bands from data: \" +\n",
      "/home/joao/.local/lib/python3.8/site-packages/sncosmo/fitting.py:187: RuntimeWarning: Dropping following bands from data: sdss::g, sdss::u, sdss::z(out of model wavelength range)\n",
      "  warnings.warn(\"Dropping following bands from data: \" +\n"
     ]
    },
    {
     "name": "stdout",
     "output_type": "stream",
     "text": [
      "0.5185896859183371\n",
      "0.9945664552745149\n",
      "0.9790400161438314\n",
      "621\n"
     ]
    },
    {
     "name": "stderr",
     "output_type": "stream",
     "text": [
      "/home/joao/.local/lib/python3.8/site-packages/sncosmo/fitting.py:187: RuntimeWarning: Dropping following bands from data: megacampsf::r at 4.842079, megacampsf::g at 4.842079(out of model wavelength range)\n",
      "  warnings.warn(\"Dropping following bands from data: \" +\n"
     ]
    },
    {
     "name": "stdout",
     "output_type": "stream",
     "text": [
      "0.9306087293234413\n",
      "0.8562013833918453\n",
      "0.8642432651321522\n",
      "622\n"
     ]
    },
    {
     "name": "stderr",
     "output_type": "stream",
     "text": [
      "/home/joao/.local/lib/python3.8/site-packages/sncosmo/fitting.py:187: RuntimeWarning: Dropping following bands from data: megacampsf::r at 15.248261, megacampsf::i at 15.248261, megacampsf::g at 15.248261(out of model wavelength range)\n",
      "  warnings.warn(\"Dropping following bands from data: \" +\n"
     ]
    },
    {
     "name": "stdout",
     "output_type": "stream",
     "text": [
      "1.9479547202976504\n",
      "0.5642117001317231\n",
      "623\n"
     ]
    },
    {
     "name": "stderr",
     "output_type": "stream",
     "text": [
      "/home/joao/.local/lib/python3.8/site-packages/sncosmo/fitting.py:187: RuntimeWarning: Dropping following bands from data: sdss::z(out of model wavelength range)\n",
      "  warnings.warn(\"Dropping following bands from data: \" +\n",
      "/home/joao/.local/lib/python3.8/site-packages/sncosmo/fitting.py:187: RuntimeWarning: Dropping following bands from data: sdss::g, sdss::u, sdss::z(out of model wavelength range)\n",
      "  warnings.warn(\"Dropping following bands from data: \" +\n"
     ]
    },
    {
     "name": "stdout",
     "output_type": "stream",
     "text": [
      "0.6708746535227007\n",
      "0.6940058742627708\n",
      "0.6665009962774356\n",
      "624\n"
     ]
    },
    {
     "name": "stderr",
     "output_type": "stream",
     "text": [
      "/home/joao/.local/lib/python3.8/site-packages/sncosmo/fitting.py:187: RuntimeWarning: Dropping following bands from data: sdss::g, sdss::u, sdss::z(out of model wavelength range)\n",
      "  warnings.warn(\"Dropping following bands from data: \" +\n"
     ]
    },
    {
     "name": "stdout",
     "output_type": "stream",
     "text": [
      "0.8990300134675354\n",
      "0.9465565551187364\n",
      "0.8752837167678722\n",
      "625\n"
     ]
    },
    {
     "name": "stderr",
     "output_type": "stream",
     "text": [
      "/home/joao/.local/lib/python3.8/site-packages/sncosmo/fitting.py:187: RuntimeWarning: Dropping following bands from data: sdss::z(out of model wavelength range)\n",
      "  warnings.warn(\"Dropping following bands from data: \" +\n",
      "/home/joao/.local/lib/python3.8/site-packages/sncosmo/fitting.py:187: RuntimeWarning: Dropping following bands from data: sdss::g, sdss::u, sdss::z(out of model wavelength range)\n",
      "  warnings.warn(\"Dropping following bands from data: \" +\n"
     ]
    },
    {
     "name": "stdout",
     "output_type": "stream",
     "text": [
      "1.4330297852568785\n",
      "1.231728626959663\n",
      "1.2042023214772128\n",
      "626\n"
     ]
    },
    {
     "name": "stderr",
     "output_type": "stream",
     "text": [
      "/home/joao/.local/lib/python3.8/site-packages/sncosmo/fitting.py:187: RuntimeWarning: Dropping following bands from data: megacampsf::r at 5.445395, megacampsf::g at 5.445395(out of model wavelength range)\n",
      "  warnings.warn(\"Dropping following bands from data: \" +\n"
     ]
    },
    {
     "name": "stdout",
     "output_type": "stream",
     "text": [
      "0.8863959980313508\n",
      "1.2191723088605864\n",
      "2.4192759970246813\n",
      "627\n"
     ]
    },
    {
     "name": "stderr",
     "output_type": "stream",
     "text": [
      "/home/joao/.local/lib/python3.8/site-packages/sncosmo/fitting.py:187: RuntimeWarning: Dropping following bands from data: sdss::z(out of model wavelength range)\n",
      "  warnings.warn(\"Dropping following bands from data: \" +\n",
      "/home/joao/.local/lib/python3.8/site-packages/sncosmo/fitting.py:187: RuntimeWarning: Dropping following bands from data: sdss::g, sdss::u, sdss::z(out of model wavelength range)\n",
      "  warnings.warn(\"Dropping following bands from data: \" +\n"
     ]
    },
    {
     "name": "stdout",
     "output_type": "stream",
     "text": [
      "0.44705056754383\n",
      "0.5100969378476274\n",
      "0.5083706360097543\n",
      "628\n"
     ]
    },
    {
     "name": "stderr",
     "output_type": "stream",
     "text": [
      "/home/joao/.local/lib/python3.8/site-packages/sncosmo/fitting.py:187: RuntimeWarning: Dropping following bands from data: megacampsf::g at 4.804870(out of model wavelength range)\n",
      "  warnings.warn(\"Dropping following bands from data: \" +\n"
     ]
    },
    {
     "name": "stdout",
     "output_type": "stream",
     "text": [
      "2.52204316615914\n",
      "6.97456179065165\n",
      "10.45993134023558\n",
      "629\n"
     ]
    },
    {
     "name": "stderr",
     "output_type": "stream",
     "text": [
      "/home/joao/.local/lib/python3.8/site-packages/sncosmo/fitting.py:187: RuntimeWarning: Dropping following bands from data: megacampsf::g at 9.590155, megacampsf::r at 9.590155(out of model wavelength range)\n",
      "  warnings.warn(\"Dropping following bands from data: \" +\n"
     ]
    },
    {
     "name": "stdout",
     "output_type": "stream",
     "text": [
      "0.09551626563780287\n",
      "0.12387698505224087\n",
      "2.586237065876795\n",
      "630\n"
     ]
    },
    {
     "name": "stderr",
     "output_type": "stream",
     "text": [
      "/home/joao/.local/lib/python3.8/site-packages/sncosmo/fitting.py:187: RuntimeWarning: Dropping following bands from data: sdss::z(out of model wavelength range)\n",
      "  warnings.warn(\"Dropping following bands from data: \" +\n",
      "/home/joao/.local/lib/python3.8/site-packages/sncosmo/fitting.py:187: RuntimeWarning: Dropping following bands from data: sdss::g, sdss::u, sdss::z(out of model wavelength range)\n",
      "  warnings.warn(\"Dropping following bands from data: \" +\n"
     ]
    },
    {
     "name": "stdout",
     "output_type": "stream",
     "text": [
      "1.295494623585088\n",
      "4.385254906376444\n",
      "1.0863709458566642\n",
      "631\n"
     ]
    },
    {
     "name": "stderr",
     "output_type": "stream",
     "text": [
      "/home/joao/.local/lib/python3.8/site-packages/sncosmo/fitting.py:187: RuntimeWarning: Dropping following bands from data: sdss::z(out of model wavelength range)\n",
      "  warnings.warn(\"Dropping following bands from data: \" +\n",
      "/home/joao/.local/lib/python3.8/site-packages/sncosmo/fitting.py:187: RuntimeWarning: Dropping following bands from data: sdss::g, sdss::u, sdss::z(out of model wavelength range)\n",
      "  warnings.warn(\"Dropping following bands from data: \" +\n"
     ]
    },
    {
     "name": "stdout",
     "output_type": "stream",
     "text": [
      "0.8879429736489417\n",
      "0.9116307550562885\n",
      "0.9016719910115917\n",
      "632\n"
     ]
    },
    {
     "name": "stderr",
     "output_type": "stream",
     "text": [
      "/home/joao/.local/lib/python3.8/site-packages/sncosmo/fitting.py:187: RuntimeWarning: Dropping following bands from data: sdss::z(out of model wavelength range)\n",
      "  warnings.warn(\"Dropping following bands from data: \" +\n",
      "/home/joao/.local/lib/python3.8/site-packages/sncosmo/fitting.py:187: RuntimeWarning: Dropping following bands from data: sdss::g, sdss::u, sdss::z(out of model wavelength range)\n",
      "  warnings.warn(\"Dropping following bands from data: \" +\n"
     ]
    },
    {
     "name": "stdout",
     "output_type": "stream",
     "text": [
      "1.4355280334260863\n",
      "1.8284472842820965\n",
      "1.8702174594585255\n",
      "633\n"
     ]
    },
    {
     "name": "stderr",
     "output_type": "stream",
     "text": [
      "/home/joao/.local/lib/python3.8/site-packages/sncosmo/fitting.py:187: RuntimeWarning: Dropping following bands from data: sdss::z(out of model wavelength range)\n",
      "  warnings.warn(\"Dropping following bands from data: \" +\n",
      "/home/joao/.local/lib/python3.8/site-packages/sncosmo/fitting.py:187: RuntimeWarning: Dropping following bands from data: sdss::g, sdss::u, sdss::z(out of model wavelength range)\n",
      "  warnings.warn(\"Dropping following bands from data: \" +\n"
     ]
    },
    {
     "name": "stdout",
     "output_type": "stream",
     "text": [
      "1.5151819057332365\n",
      "1.7987270190527316\n",
      "1.8055375548899566\n",
      "634\n"
     ]
    },
    {
     "name": "stderr",
     "output_type": "stream",
     "text": [
      "/home/joao/.local/lib/python3.8/site-packages/sncosmo/fitting.py:187: RuntimeWarning: Dropping following bands from data: sdss::g, sdss::u(out of model wavelength range)\n",
      "  warnings.warn(\"Dropping following bands from data: \" +\n"
     ]
    },
    {
     "name": "stdout",
     "output_type": "stream",
     "text": [
      "1.2443487145430556\n",
      "1.3238642635369462\n",
      "1.3825565778634552\n",
      "635\n"
     ]
    },
    {
     "name": "stderr",
     "output_type": "stream",
     "text": [
      "/home/joao/.local/lib/python3.8/site-packages/sncosmo/fitting.py:187: RuntimeWarning: Dropping following bands from data: sdss::z(out of model wavelength range)\n",
      "  warnings.warn(\"Dropping following bands from data: \" +\n",
      "/home/joao/.local/lib/python3.8/site-packages/sncosmo/fitting.py:187: RuntimeWarning: Dropping following bands from data: sdss::u, keplercam::b, sdss::z, sdss::g, keplercam::us(out of model wavelength range)\n",
      "  warnings.warn(\"Dropping following bands from data: \" +\n"
     ]
    },
    {
     "name": "stdout",
     "output_type": "stream",
     "text": [
      "2.7790386913240255\n",
      "20.422756803470786\n",
      "10.78186787685405\n",
      "636\n"
     ]
    },
    {
     "name": "stderr",
     "output_type": "stream",
     "text": [
      "/home/joao/.local/lib/python3.8/site-packages/sncosmo/fitting.py:187: RuntimeWarning: Dropping following bands from data: sdss::z(out of model wavelength range)\n",
      "  warnings.warn(\"Dropping following bands from data: \" +\n",
      "/home/joao/.local/lib/python3.8/site-packages/sncosmo/fitting.py:187: RuntimeWarning: Dropping following bands from data: sdss::g, sdss::u, sdss::z(out of model wavelength range)\n",
      "  warnings.warn(\"Dropping following bands from data: \" +\n"
     ]
    },
    {
     "name": "stdout",
     "output_type": "stream",
     "text": [
      "0.9391606450408035\n",
      "1.4192790044452004\n",
      "1.5466913159312339\n",
      "637\n"
     ]
    },
    {
     "name": "stderr",
     "output_type": "stream",
     "text": [
      "/home/joao/.local/lib/python3.8/site-packages/sncosmo/fitting.py:187: RuntimeWarning: Dropping following bands from data: megacampsf::i at 13.312774, megacampsf::r at 13.312774, megacampsf::g at 13.312774(out of model wavelength range)\n",
      "  warnings.warn(\"Dropping following bands from data: \" +\n"
     ]
    },
    {
     "name": "stdout",
     "output_type": "stream",
     "text": [
      "638\n"
     ]
    },
    {
     "name": "stderr",
     "output_type": "stream",
     "text": [
      "/home/joao/.local/lib/python3.8/site-packages/sncosmo/fitting.py:187: RuntimeWarning: Dropping following bands from data: sdss::z(out of model wavelength range)\n",
      "  warnings.warn(\"Dropping following bands from data: \" +\n",
      "/home/joao/.local/lib/python3.8/site-packages/sncosmo/fitting.py:187: RuntimeWarning: Dropping following bands from data: sdss::g, sdss::u, sdss::z(out of model wavelength range)\n",
      "  warnings.warn(\"Dropping following bands from data: \" +\n"
     ]
    },
    {
     "name": "stdout",
     "output_type": "stream",
     "text": [
      "1.5410131453409455\n",
      "1.9485142820044559\n",
      "1.9131600090092917\n",
      "639\n"
     ]
    },
    {
     "name": "stderr",
     "output_type": "stream",
     "text": [
      "/home/joao/.local/lib/python3.8/site-packages/sncosmo/fitting.py:187: RuntimeWarning: Dropping following bands from data: sdss::z(out of model wavelength range)\n",
      "  warnings.warn(\"Dropping following bands from data: \" +\n",
      "/home/joao/.local/lib/python3.8/site-packages/sncosmo/fitting.py:187: RuntimeWarning: Dropping following bands from data: sdss::g, sdss::u, sdss::z(out of model wavelength range)\n",
      "  warnings.warn(\"Dropping following bands from data: \" +\n"
     ]
    },
    {
     "name": "stdout",
     "output_type": "stream",
     "text": [
      "1.501596644828486\n",
      "2.8476747041368937\n",
      "2.556746478827467\n",
      "640\n"
     ]
    },
    {
     "name": "stderr",
     "output_type": "stream",
     "text": [
      "/home/joao/.local/lib/python3.8/site-packages/sncosmo/fitting.py:187: RuntimeWarning: Dropping following bands from data: sdss::z(out of model wavelength range)\n",
      "  warnings.warn(\"Dropping following bands from data: \" +\n",
      "/home/joao/.local/lib/python3.8/site-packages/sncosmo/fitting.py:187: RuntimeWarning: Dropping following bands from data: sdss::g, sdss::u, sdss::z(out of model wavelength range)\n",
      "  warnings.warn(\"Dropping following bands from data: \" +\n"
     ]
    },
    {
     "name": "stdout",
     "output_type": "stream",
     "text": [
      "2.1152938589280303\n",
      "1.6410847162976834\n",
      "1.6426685104728456\n",
      "641\n"
     ]
    },
    {
     "name": "stderr",
     "output_type": "stream",
     "text": [
      "/home/joao/.local/lib/python3.8/site-packages/sncosmo/fitting.py:187: RuntimeWarning: Dropping following bands from data: swope2::b, swope2::i, swope2::u(out of model wavelength range)\n",
      "  warnings.warn(\"Dropping following bands from data: \" +\n"
     ]
    },
    {
     "name": "stdout",
     "output_type": "stream",
     "text": [
      "88.1422395778022\n",
      "820.0622346239134\n",
      "892.1926081832687\n",
      "642\n"
     ]
    },
    {
     "name": "stderr",
     "output_type": "stream",
     "text": [
      "/home/joao/.local/lib/python3.8/site-packages/sncosmo/fitting.py:187: RuntimeWarning: Dropping following bands from data: sdss::z(out of model wavelength range)\n",
      "  warnings.warn(\"Dropping following bands from data: \" +\n",
      "/home/joao/.local/lib/python3.8/site-packages/sncosmo/fitting.py:187: RuntimeWarning: Dropping following bands from data: sdss::g, sdss::u, sdss::z(out of model wavelength range)\n",
      "  warnings.warn(\"Dropping following bands from data: \" +\n"
     ]
    },
    {
     "name": "stdout",
     "output_type": "stream",
     "text": [
      "1.1651330266044326\n",
      "1.5573366688727068\n",
      "1.6008057193098684\n",
      "643\n"
     ]
    },
    {
     "name": "stderr",
     "output_type": "stream",
     "text": [
      "/home/joao/.local/lib/python3.8/site-packages/sncosmo/fitting.py:187: RuntimeWarning: Dropping following bands from data: megacampsf::r at 15.564128, megacampsf::g at 15.564128(out of model wavelength range)\n",
      "  warnings.warn(\"Dropping following bands from data: \" +\n"
     ]
    },
    {
     "name": "stdout",
     "output_type": "stream",
     "text": [
      "1.5496071282447408\n",
      "1.6804144073255731\n",
      "1.8307038866943817\n",
      "644\n"
     ]
    },
    {
     "name": "stderr",
     "output_type": "stream",
     "text": [
      "/home/joao/.local/lib/python3.8/site-packages/sncosmo/fitting.py:187: RuntimeWarning: Dropping following bands from data: megacampsf::r at 13.010879, megacampsf::g at 13.010879(out of model wavelength range)\n",
      "  warnings.warn(\"Dropping following bands from data: \" +\n"
     ]
    },
    {
     "name": "stdout",
     "output_type": "stream",
     "text": [
      "1.3801676116939041\n",
      "1.726461686278138\n",
      "2.6676721295192785\n",
      "645\n"
     ]
    },
    {
     "name": "stderr",
     "output_type": "stream",
     "text": [
      "/home/joao/.local/lib/python3.8/site-packages/sncosmo/fitting.py:187: RuntimeWarning: Dropping following bands from data: sdss::g, sdss::u, sdss::z(out of model wavelength range)\n",
      "  warnings.warn(\"Dropping following bands from data: \" +\n"
     ]
    },
    {
     "name": "stdout",
     "output_type": "stream",
     "text": [
      "0.9140504250027381\n",
      "1.4908753067362357\n",
      "1.5228089849588693\n",
      "646\n"
     ]
    },
    {
     "name": "stderr",
     "output_type": "stream",
     "text": [
      "/home/joao/.local/lib/python3.8/site-packages/sncosmo/fitting.py:187: RuntimeWarning: Dropping following bands from data: megacampsf::r at 8.310002, megacampsf::g at 8.310002(out of model wavelength range)\n",
      "  warnings.warn(\"Dropping following bands from data: \" +\n"
     ]
    },
    {
     "name": "stdout",
     "output_type": "stream",
     "text": [
      "1.712542999544565\n",
      "2.1627213550630398\n",
      "2.3189834142583825\n",
      "647\n"
     ]
    },
    {
     "name": "stderr",
     "output_type": "stream",
     "text": [
      "/home/joao/.local/lib/python3.8/site-packages/sncosmo/fitting.py:187: RuntimeWarning: Dropping following bands from data: megacampsf::r at 8.026311, megacampsf::g at 8.026311(out of model wavelength range)\n",
      "  warnings.warn(\"Dropping following bands from data: \" +\n"
     ]
    },
    {
     "name": "stdout",
     "output_type": "stream",
     "text": [
      "0.9797533069622447\n",
      "1.5181144174295513\n",
      "1.8246482913617081\n",
      "648\n"
     ]
    },
    {
     "name": "stderr",
     "output_type": "stream",
     "text": [
      "/home/joao/.local/lib/python3.8/site-packages/sncosmo/fitting.py:187: RuntimeWarning: Dropping following bands from data: megacampsf::r at 9.082847, megacampsf::g at 9.082847(out of model wavelength range)\n",
      "  warnings.warn(\"Dropping following bands from data: \" +\n"
     ]
    },
    {
     "name": "stdout",
     "output_type": "stream",
     "text": [
      "1.76656218924832\n",
      "1.690914186799821\n",
      "1.651076190537936\n",
      "649\n"
     ]
    },
    {
     "name": "stderr",
     "output_type": "stream",
     "text": [
      "/home/joao/.local/lib/python3.8/site-packages/sncosmo/fitting.py:187: RuntimeWarning: Dropping following bands from data: megacampsf::g at 9.909179(out of model wavelength range)\n",
      "  warnings.warn(\"Dropping following bands from data: \" +\n"
     ]
    },
    {
     "name": "stdout",
     "output_type": "stream",
     "text": [
      "0.8523579174992771\n",
      "1.1317306536200413\n",
      "0.8180050960690183\n",
      "650\n"
     ]
    },
    {
     "name": "stderr",
     "output_type": "stream",
     "text": [
      "/home/joao/.local/lib/python3.8/site-packages/sncosmo/fitting.py:187: RuntimeWarning: Dropping following bands from data: megacampsf::g at 13.293279(out of model wavelength range)\n",
      "  warnings.warn(\"Dropping following bands from data: \" +\n"
     ]
    },
    {
     "name": "stdout",
     "output_type": "stream",
     "text": [
      "0.9626604360541775\n",
      "1.4260973338216536\n",
      "1.1726218453241002\n",
      "651\n"
     ]
    },
    {
     "name": "stderr",
     "output_type": "stream",
     "text": [
      "/home/joao/.local/lib/python3.8/site-packages/sncosmo/fitting.py:187: RuntimeWarning: Dropping following bands from data: megacampsf::g at 8.035029(out of model wavelength range)\n",
      "  warnings.warn(\"Dropping following bands from data: \" +\n",
      "/home/joao/.local/lib/python3.8/site-packages/sncosmo/fitting.py:187: RuntimeWarning: Dropping following bands from data: megacampsf::g at 8.035029, megacampsf::r at 8.035029, megacampsf::i at 8.035029(out of model wavelength range)\n",
      "  warnings.warn(\"Dropping following bands from data: \" +\n"
     ]
    },
    {
     "name": "stdout",
     "output_type": "stream",
     "text": [
      "2.561044911259882\n",
      "1.0235356318760631\n",
      "1.9942959583351243\n",
      "652\n"
     ]
    },
    {
     "name": "stderr",
     "output_type": "stream",
     "text": [
      "/home/joao/.local/lib/python3.8/site-packages/sncosmo/fitting.py:187: RuntimeWarning: Dropping following bands from data: sdss::z(out of model wavelength range)\n",
      "  warnings.warn(\"Dropping following bands from data: \" +\n",
      "/home/joao/.local/lib/python3.8/site-packages/sncosmo/fitting.py:187: RuntimeWarning: Dropping following bands from data: sdss::g, sdss::u, sdss::z(out of model wavelength range)\n",
      "  warnings.warn(\"Dropping following bands from data: \" +\n"
     ]
    },
    {
     "name": "stdout",
     "output_type": "stream",
     "text": [
      "0.8488863129416925\n",
      "5.27280008166616\n",
      "1.0564399542022151\n",
      "653\n"
     ]
    },
    {
     "name": "stderr",
     "output_type": "stream",
     "text": [
      "/home/joao/.local/lib/python3.8/site-packages/sncosmo/fitting.py:187: RuntimeWarning: Dropping following bands from data: megacampsf::r at 7.136267, megacampsf::g at 7.136267(out of model wavelength range)\n",
      "  warnings.warn(\"Dropping following bands from data: \" +\n"
     ]
    },
    {
     "name": "stdout",
     "output_type": "stream",
     "text": [
      "1.0599183031322021\n",
      "1.1162571440302587\n",
      "1.5228283658827\n",
      "654\n"
     ]
    },
    {
     "name": "stderr",
     "output_type": "stream",
     "text": [
      "/home/joao/.local/lib/python3.8/site-packages/sncosmo/fitting.py:187: RuntimeWarning: Dropping following bands from data: megacampsf::r at 12.074284, megacampsf::i at 12.074284, megacampsf::g at 12.074284(out of model wavelength range)\n",
      "  warnings.warn(\"Dropping following bands from data: \" +\n"
     ]
    },
    {
     "name": "stdout",
     "output_type": "stream",
     "text": [
      "0.8452352879770909\n",
      "0.7819932993649962\n",
      "1.0144246826191523\n",
      "655\n"
     ]
    },
    {
     "name": "stderr",
     "output_type": "stream",
     "text": [
      "/home/joao/.local/lib/python3.8/site-packages/sncosmo/fitting.py:187: RuntimeWarning: Dropping following bands from data: megacampsf::r at 11.116168, megacampsf::g at 11.116168(out of model wavelength range)\n",
      "  warnings.warn(\"Dropping following bands from data: \" +\n"
     ]
    },
    {
     "name": "stdout",
     "output_type": "stream",
     "text": [
      "1.8497721036635493\n",
      "5.064179163774005\n",
      "7.688060933201477\n",
      "656\n"
     ]
    },
    {
     "name": "stderr",
     "output_type": "stream",
     "text": [
      "/home/joao/.local/lib/python3.8/site-packages/sncosmo/fitting.py:187: RuntimeWarning: Dropping following bands from data: sdss::z(out of model wavelength range)\n",
      "  warnings.warn(\"Dropping following bands from data: \" +\n",
      "/home/joao/.local/lib/python3.8/site-packages/sncosmo/fitting.py:187: RuntimeWarning: Dropping following bands from data: sdss::g, sdss::z(out of model wavelength range)\n",
      "  warnings.warn(\"Dropping following bands from data: \" +\n"
     ]
    },
    {
     "name": "stdout",
     "output_type": "stream",
     "text": [
      "43.58728096507917\n",
      "47.698724404624805\n",
      "38.869256827976955\n",
      "657\n"
     ]
    },
    {
     "name": "stderr",
     "output_type": "stream",
     "text": [
      "/home/joao/.local/lib/python3.8/site-packages/sncosmo/fitting.py:187: RuntimeWarning: Dropping following bands from data: standard::r, standard::i, standard::u(out of model wavelength range)\n",
      "  warnings.warn(\"Dropping following bands from data: \" +\n"
     ]
    },
    {
     "name": "stdout",
     "output_type": "stream",
     "text": [
      "5.117594363089057\n",
      "4.124926450565052\n",
      "3.6103642369519324\n",
      "658\n"
     ]
    },
    {
     "name": "stderr",
     "output_type": "stream",
     "text": [
      "/home/joao/.local/lib/python3.8/site-packages/sncosmo/fitting.py:187: RuntimeWarning: Dropping following bands from data: sdss::z(out of model wavelength range)\n",
      "  warnings.warn(\"Dropping following bands from data: \" +\n",
      "/home/joao/.local/lib/python3.8/site-packages/sncosmo/fitting.py:187: RuntimeWarning: Dropping following bands from data: sdss::g, sdss::u, sdss::z(out of model wavelength range)\n",
      "  warnings.warn(\"Dropping following bands from data: \" +\n"
     ]
    },
    {
     "name": "stdout",
     "output_type": "stream",
     "text": [
      "2.2093018400625954\n",
      "2.456993699804414\n",
      "1.9744230605611728\n",
      "659\n"
     ]
    },
    {
     "name": "stderr",
     "output_type": "stream",
     "text": [
      "/home/joao/.local/lib/python3.8/site-packages/sncosmo/fitting.py:187: RuntimeWarning: Dropping following bands from data: sdss::z(out of model wavelength range)\n",
      "  warnings.warn(\"Dropping following bands from data: \" +\n",
      "/home/joao/.local/lib/python3.8/site-packages/sncosmo/fitting.py:187: RuntimeWarning: Dropping following bands from data: sdss::g, sdss::u, sdss::z(out of model wavelength range)\n",
      "  warnings.warn(\"Dropping following bands from data: \" +\n"
     ]
    },
    {
     "name": "stdout",
     "output_type": "stream",
     "text": [
      "1.043285835148018\n",
      "0.9454636575421149\n",
      "0.9748312320523523\n",
      "660\n"
     ]
    },
    {
     "name": "stderr",
     "output_type": "stream",
     "text": [
      "/home/joao/.local/lib/python3.8/site-packages/sncosmo/fitting.py:187: RuntimeWarning: Dropping following bands from data: megacampsf::g at 15.198657(out of model wavelength range)\n",
      "  warnings.warn(\"Dropping following bands from data: \" +\n"
     ]
    },
    {
     "name": "stdout",
     "output_type": "stream",
     "text": [
      "7.1718760538463\n",
      "37.55032426943668\n",
      "40.93082258724577\n",
      "661\n"
     ]
    },
    {
     "name": "stderr",
     "output_type": "stream",
     "text": [
      "/home/joao/.local/lib/python3.8/site-packages/sncosmo/fitting.py:187: RuntimeWarning: Dropping following bands from data: sdss::z(out of model wavelength range)\n",
      "  warnings.warn(\"Dropping following bands from data: \" +\n",
      "/home/joao/.local/lib/python3.8/site-packages/sncosmo/fitting.py:187: RuntimeWarning: Dropping following bands from data: sdss::g, sdss::u, sdss::z(out of model wavelength range)\n",
      "  warnings.warn(\"Dropping following bands from data: \" +\n"
     ]
    },
    {
     "name": "stdout",
     "output_type": "stream",
     "text": [
      "0.82931223508568\n",
      "1.2268983104515907\n",
      "1.1097051439492454\n",
      "662\n"
     ]
    },
    {
     "name": "stderr",
     "output_type": "stream",
     "text": [
      "/home/joao/.local/lib/python3.8/site-packages/sncosmo/fitting.py:187: RuntimeWarning: Dropping following bands from data: megacampsf::r at 9.196321, megacampsf::g at 9.196321(out of model wavelength range)\n",
      "  warnings.warn(\"Dropping following bands from data: \" +\n"
     ]
    },
    {
     "name": "stdout",
     "output_type": "stream",
     "text": [
      "1.3080883893825206\n",
      "2.1244878143868378\n",
      "2.027784907178264\n",
      "663\n"
     ]
    },
    {
     "name": "stderr",
     "output_type": "stream",
     "text": [
      "/home/joao/.local/lib/python3.8/site-packages/sncosmo/fitting.py:187: RuntimeWarning: Dropping following bands from data: standard::r, standard::u, standard::i(out of model wavelength range)\n",
      "  warnings.warn(\"Dropping following bands from data: \" +\n"
     ]
    },
    {
     "name": "stdout",
     "output_type": "stream",
     "text": [
      "2.499411633985663\n",
      "8.975677672464233\n",
      "8.36755133710869\n",
      "664\n"
     ]
    },
    {
     "name": "stderr",
     "output_type": "stream",
     "text": [
      "/home/joao/.local/lib/python3.8/site-packages/sncosmo/fitting.py:187: RuntimeWarning: Dropping following bands from data: megacampsf::g at 10.089285(out of model wavelength range)\n",
      "  warnings.warn(\"Dropping following bands from data: \" +\n"
     ]
    },
    {
     "name": "stdout",
     "output_type": "stream",
     "text": [
      "2.1390676873700873\n",
      "60.038988998826376\n",
      "70.3842158496453\n",
      "665\n"
     ]
    },
    {
     "name": "stderr",
     "output_type": "stream",
     "text": [
      "/home/joao/.local/lib/python3.8/site-packages/sncosmo/fitting.py:187: RuntimeWarning: Dropping following bands from data: megacampsf::g at 9.468740(out of model wavelength range)\n",
      "  warnings.warn(\"Dropping following bands from data: \" +\n"
     ]
    },
    {
     "name": "stdout",
     "output_type": "stream",
     "text": [
      "1.5010267638176782\n",
      "2.543805269158022\n",
      "1.630497947998239\n",
      "666\n"
     ]
    },
    {
     "name": "stderr",
     "output_type": "stream",
     "text": [
      "/home/joao/.local/lib/python3.8/site-packages/sncosmo/fitting.py:187: RuntimeWarning: Dropping following bands from data: sdss::z(out of model wavelength range)\n",
      "  warnings.warn(\"Dropping following bands from data: \" +\n",
      "/home/joao/.local/lib/python3.8/site-packages/sncosmo/fitting.py:187: RuntimeWarning: Dropping following bands from data: sdss::g, sdss::u, sdss::z(out of model wavelength range)\n",
      "  warnings.warn(\"Dropping following bands from data: \" +\n"
     ]
    },
    {
     "name": "stdout",
     "output_type": "stream",
     "text": [
      "1.738220148405751\n",
      "1.7098910000709258\n",
      "1.772602752555687\n",
      "667\n"
     ]
    },
    {
     "name": "stderr",
     "output_type": "stream",
     "text": [
      "/home/joao/.local/lib/python3.8/site-packages/sncosmo/fitting.py:187: RuntimeWarning: Dropping following bands from data: megacampsf::r at 8.979765, megacampsf::g at 8.979765(out of model wavelength range)\n",
      "  warnings.warn(\"Dropping following bands from data: \" +\n"
     ]
    },
    {
     "name": "stdout",
     "output_type": "stream",
     "text": [
      "1.6066370634156806\n",
      "1.7325768242310293\n",
      "1.609122557173278\n",
      "668\n"
     ]
    },
    {
     "name": "stderr",
     "output_type": "stream",
     "text": [
      "/home/joao/.local/lib/python3.8/site-packages/sncosmo/fitting.py:187: RuntimeWarning: Dropping following bands from data: sdss::g, sdss::u(out of model wavelength range)\n",
      "  warnings.warn(\"Dropping following bands from data: \" +\n"
     ]
    },
    {
     "name": "stdout",
     "output_type": "stream",
     "text": [
      "0.7364976746015434\n",
      "0.7231593352210357\n",
      "0.7511781712266836\n",
      "669\n"
     ]
    },
    {
     "name": "stderr",
     "output_type": "stream",
     "text": [
      "/home/joao/.local/lib/python3.8/site-packages/sncosmo/fitting.py:187: RuntimeWarning: Dropping following bands from data: sdss::z(out of model wavelength range)\n",
      "  warnings.warn(\"Dropping following bands from data: \" +\n",
      "/home/joao/.local/lib/python3.8/site-packages/sncosmo/fitting.py:187: RuntimeWarning: Dropping following bands from data: sdss::g, sdss::u, sdss::z(out of model wavelength range)\n",
      "  warnings.warn(\"Dropping following bands from data: \" +\n"
     ]
    },
    {
     "name": "stdout",
     "output_type": "stream",
     "text": [
      "2.7947473391832873\n",
      "6.425944961645156\n",
      "6.140489566131263\n",
      "670\n"
     ]
    },
    {
     "name": "stderr",
     "output_type": "stream",
     "text": [
      "/home/joao/.local/lib/python3.8/site-packages/sncosmo/fitting.py:187: RuntimeWarning: Dropping following bands from data: megacampsf::r at 11.147321, megacampsf::g at 11.147321(out of model wavelength range)\n",
      "  warnings.warn(\"Dropping following bands from data: \" +\n"
     ]
    },
    {
     "name": "stdout",
     "output_type": "stream",
     "text": [
      "2.1515365777262763\n",
      "1.9087512157672164\n",
      "1.7517923699856768\n",
      "671\n"
     ]
    },
    {
     "name": "stderr",
     "output_type": "stream",
     "text": [
      "/home/joao/.local/lib/python3.8/site-packages/sncosmo/fitting.py:187: RuntimeWarning: Dropping following bands from data: sdss::z(out of model wavelength range)\n",
      "  warnings.warn(\"Dropping following bands from data: \" +\n",
      "/home/joao/.local/lib/python3.8/site-packages/sncosmo/fitting.py:187: RuntimeWarning: Dropping following bands from data: sdss::g, sdss::u, sdss::z(out of model wavelength range)\n",
      "  warnings.warn(\"Dropping following bands from data: \" +\n"
     ]
    },
    {
     "name": "stdout",
     "output_type": "stream",
     "text": [
      "0.35193402946297636\n",
      "672\n"
     ]
    },
    {
     "name": "stderr",
     "output_type": "stream",
     "text": [
      "/home/joao/.local/lib/python3.8/site-packages/sncosmo/fitting.py:187: RuntimeWarning: Dropping following bands from data: sdss::g, sdss::u, sdss::z(out of model wavelength range)\n",
      "  warnings.warn(\"Dropping following bands from data: \" +\n"
     ]
    },
    {
     "name": "stdout",
     "output_type": "stream",
     "text": [
      "1.8573925152789201\n",
      "1.4795890693089553\n",
      "1.501879411384803\n",
      "673\n"
     ]
    },
    {
     "name": "stderr",
     "output_type": "stream",
     "text": [
      "/home/joao/.local/lib/python3.8/site-packages/sncosmo/fitting.py:187: RuntimeWarning: Dropping following bands from data: standard::r, standard::i, standard::u(out of model wavelength range)\n",
      "  warnings.warn(\"Dropping following bands from data: \" +\n"
     ]
    },
    {
     "name": "stdout",
     "output_type": "stream",
     "text": [
      "4.32118016553851\n",
      "6.698188995006674\n",
      "4.735883112675321\n",
      "674\n"
     ]
    },
    {
     "name": "stderr",
     "output_type": "stream",
     "text": [
      "/home/joao/.local/lib/python3.8/site-packages/sncosmo/fitting.py:187: RuntimeWarning: Dropping following bands from data: megacampsf::g at 17.355532, megacampsf::r at 17.355532(out of model wavelength range)\n",
      "  warnings.warn(\"Dropping following bands from data: \" +\n"
     ]
    },
    {
     "name": "stdout",
     "output_type": "stream",
     "text": [
      "0.9560234513754474\n",
      "0.9401789833674947\n",
      "0.8955220785096523\n",
      "675\n"
     ]
    },
    {
     "name": "stderr",
     "output_type": "stream",
     "text": [
      "/home/joao/.local/lib/python3.8/site-packages/sncosmo/fitting.py:187: RuntimeWarning: Dropping following bands from data: sdss::g, sdss::u, sdss::z(out of model wavelength range)\n",
      "  warnings.warn(\"Dropping following bands from data: \" +\n"
     ]
    },
    {
     "name": "stdout",
     "output_type": "stream",
     "text": [
      "0.9111217145802701\n",
      "0.8954445918905907\n",
      "0.9243573812496121\n",
      "676\n"
     ]
    },
    {
     "name": "stderr",
     "output_type": "stream",
     "text": [
      "/home/joao/.local/lib/python3.8/site-packages/sncosmo/fitting.py:187: RuntimeWarning: Dropping following bands from data: megacampsf::g at 12.356245, megacampsf::r at 12.356245(out of model wavelength range)\n",
      "  warnings.warn(\"Dropping following bands from data: \" +\n"
     ]
    },
    {
     "name": "stdout",
     "output_type": "stream",
     "text": [
      "0.870332531542142\n",
      "1.3371724773577491\n",
      "1.5632888092046027\n",
      "677\n"
     ]
    },
    {
     "name": "stderr",
     "output_type": "stream",
     "text": [
      "/home/joao/.local/lib/python3.8/site-packages/sncosmo/fitting.py:187: RuntimeWarning: Dropping following bands from data: sdss::z(out of model wavelength range)\n",
      "  warnings.warn(\"Dropping following bands from data: \" +\n",
      "/home/joao/.local/lib/python3.8/site-packages/sncosmo/fitting.py:187: RuntimeWarning: Dropping following bands from data: sdss::g, sdss::u, sdss::z(out of model wavelength range)\n",
      "  warnings.warn(\"Dropping following bands from data: \" +\n"
     ]
    },
    {
     "name": "stdout",
     "output_type": "stream",
     "text": [
      "0.8640047281311188\n",
      "1.4720179899847865\n",
      "1.656468897380463\n",
      "678\n"
     ]
    },
    {
     "name": "stderr",
     "output_type": "stream",
     "text": [
      "/home/joao/.local/lib/python3.8/site-packages/sncosmo/fitting.py:187: RuntimeWarning: Dropping following bands from data: standard::b, standard::i(out of model wavelength range)\n",
      "  warnings.warn(\"Dropping following bands from data: \" +\n"
     ]
    },
    {
     "name": "stdout",
     "output_type": "stream",
     "text": [
      "2.8262413783834903\n",
      "1.616138432710163\n",
      "1.3271506309239216\n",
      "679\n"
     ]
    },
    {
     "name": "stderr",
     "output_type": "stream",
     "text": [
      "/home/joao/.local/lib/python3.8/site-packages/sncosmo/fitting.py:187: RuntimeWarning: Dropping following bands from data: sdss::z(out of model wavelength range)\n",
      "  warnings.warn(\"Dropping following bands from data: \" +\n",
      "/home/joao/.local/lib/python3.8/site-packages/sncosmo/fitting.py:187: RuntimeWarning: Dropping following bands from data: sdss::g, sdss::u, sdss::z(out of model wavelength range)\n",
      "  warnings.warn(\"Dropping following bands from data: \" +\n"
     ]
    },
    {
     "name": "stdout",
     "output_type": "stream",
     "text": [
      "0.5654332609523904\n",
      "0.37046567053548823\n",
      "0.35584579467455707\n",
      "680\n"
     ]
    },
    {
     "name": "stderr",
     "output_type": "stream",
     "text": [
      "/home/joao/.local/lib/python3.8/site-packages/sncosmo/fitting.py:187: RuntimeWarning: Dropping following bands from data: sdss::g, sdss::u, sdss::z(out of model wavelength range)\n",
      "  warnings.warn(\"Dropping following bands from data: \" +\n"
     ]
    },
    {
     "name": "stdout",
     "output_type": "stream",
     "text": [
      "0.9705328399583892\n",
      "1.1086350930499844\n",
      "1.1008948408361348\n",
      "681\n"
     ]
    },
    {
     "name": "stderr",
     "output_type": "stream",
     "text": [
      "/home/joao/.local/lib/python3.8/site-packages/sncosmo/fitting.py:187: RuntimeWarning: Dropping following bands from data: megacampsf::g at 11.156678(out of model wavelength range)\n",
      "  warnings.warn(\"Dropping following bands from data: \" +\n"
     ]
    },
    {
     "name": "stdout",
     "output_type": "stream",
     "text": [
      "5.00270875376689\n",
      "5.16274884230118\n",
      "11.897664378591168\n",
      "682\n"
     ]
    },
    {
     "name": "stderr",
     "output_type": "stream",
     "text": [
      "/home/joao/.local/lib/python3.8/site-packages/sncosmo/fitting.py:187: RuntimeWarning: Dropping following bands from data: standard::b(out of model wavelength range)\n",
      "  warnings.warn(\"Dropping following bands from data: \" +\n"
     ]
    },
    {
     "name": "stdout",
     "output_type": "stream",
     "text": [
      "1.0668919378335715\n",
      "0.6211934508263446\n",
      "0.5742378538771296\n",
      "683\n"
     ]
    },
    {
     "name": "stderr",
     "output_type": "stream",
     "text": [
      "/home/joao/.local/lib/python3.8/site-packages/sncosmo/fitting.py:187: RuntimeWarning: Dropping following bands from data: standard::r, standard::i(out of model wavelength range)\n",
      "  warnings.warn(\"Dropping following bands from data: \" +\n"
     ]
    },
    {
     "name": "stdout",
     "output_type": "stream",
     "text": [
      "4.374077371412261\n",
      "24.42332269322194\n",
      "35.850028192355\n",
      "684\n"
     ]
    },
    {
     "name": "stderr",
     "output_type": "stream",
     "text": [
      "/home/joao/.local/lib/python3.8/site-packages/sncosmo/fitting.py:187: RuntimeWarning: Dropping following bands from data: megacampsf::r at 12.630385, megacampsf::g at 12.630385(out of model wavelength range)\n",
      "  warnings.warn(\"Dropping following bands from data: \" +\n"
     ]
    },
    {
     "name": "stdout",
     "output_type": "stream",
     "text": [
      "0.5849752641160951\n",
      "1.2825202341131454\n",
      "1.7664694466985662\n",
      "685\n"
     ]
    },
    {
     "name": "stderr",
     "output_type": "stream",
     "text": [
      "/home/joao/.local/lib/python3.8/site-packages/sncosmo/fitting.py:187: RuntimeWarning: Dropping following bands from data: sdss::z(out of model wavelength range)\n",
      "  warnings.warn(\"Dropping following bands from data: \" +\n",
      "/home/joao/.local/lib/python3.8/site-packages/sncosmo/fitting.py:187: RuntimeWarning: Dropping following bands from data: sdss::g, sdss::u, sdss::z(out of model wavelength range)\n",
      "  warnings.warn(\"Dropping following bands from data: \" +\n"
     ]
    },
    {
     "name": "stdout",
     "output_type": "stream",
     "text": [
      "686\n"
     ]
    },
    {
     "name": "stderr",
     "output_type": "stream",
     "text": [
      "/home/joao/.local/lib/python3.8/site-packages/sncosmo/fitting.py:187: RuntimeWarning: Dropping following bands from data: 4shooter2::us, 4shooter2::i, 4shooter2::r, 4shooter2::b(out of model wavelength range)\n",
      "  warnings.warn(\"Dropping following bands from data: \" +\n"
     ]
    },
    {
     "name": "stdout",
     "output_type": "stream",
     "text": [
      "5.0788718609258465\n",
      "3.5793844632685454\n",
      "10.873634668160005\n",
      "687\n"
     ]
    },
    {
     "name": "stderr",
     "output_type": "stream",
     "text": [
      "/home/joao/.local/lib/python3.8/site-packages/sncosmo/fitting.py:187: RuntimeWarning: Dropping following bands from data: megacampsf::g at 12.663710, megacampsf::r at 12.663710(out of model wavelength range)\n",
      "  warnings.warn(\"Dropping following bands from data: \" +\n"
     ]
    },
    {
     "name": "stdout",
     "output_type": "stream",
     "text": [
      "0.8258195632194297\n",
      "1.390809733031872\n",
      "1.5211593954974436\n",
      "688\n"
     ]
    },
    {
     "name": "stderr",
     "output_type": "stream",
     "text": [
      "/home/joao/.local/lib/python3.8/site-packages/sncosmo/fitting.py:187: RuntimeWarning: Dropping following bands from data: sdss::z(out of model wavelength range)\n",
      "  warnings.warn(\"Dropping following bands from data: \" +\n",
      "/home/joao/.local/lib/python3.8/site-packages/sncosmo/fitting.py:187: RuntimeWarning: Dropping following bands from data: sdss::g, sdss::z(out of model wavelength range)\n",
      "  warnings.warn(\"Dropping following bands from data: \" +\n"
     ]
    },
    {
     "name": "stdout",
     "output_type": "stream",
     "text": [
      "1.6764840355352846\n",
      "1.36490090614756\n",
      "1.3484789105777975\n",
      "689\n"
     ]
    },
    {
     "name": "stderr",
     "output_type": "stream",
     "text": [
      "/home/joao/.local/lib/python3.8/site-packages/sncosmo/fitting.py:187: RuntimeWarning: Dropping following bands from data: sdss::z(out of model wavelength range)\n",
      "  warnings.warn(\"Dropping following bands from data: \" +\n",
      "/home/joao/.local/lib/python3.8/site-packages/sncosmo/fitting.py:187: RuntimeWarning: Dropping following bands from data: sdss::g, sdss::u, sdss::z(out of model wavelength range)\n",
      "  warnings.warn(\"Dropping following bands from data: \" +\n"
     ]
    },
    {
     "name": "stdout",
     "output_type": "stream",
     "text": [
      "1.4102239923929343\n",
      "3.2668155919710355\n",
      "3.367178745560481\n",
      "690\n"
     ]
    },
    {
     "name": "stderr",
     "output_type": "stream",
     "text": [
      "/home/joao/.local/lib/python3.8/site-packages/sncosmo/fitting.py:187: RuntimeWarning: Dropping following bands from data: sdss::z(out of model wavelength range)\n",
      "  warnings.warn(\"Dropping following bands from data: \" +\n",
      "/home/joao/.local/lib/python3.8/site-packages/sncosmo/fitting.py:187: RuntimeWarning: Dropping following bands from data: sdss::g, sdss::u, sdss::z(out of model wavelength range)\n",
      "  warnings.warn(\"Dropping following bands from data: \" +\n"
     ]
    },
    {
     "name": "stdout",
     "output_type": "stream",
     "text": [
      "1.1285593777183978\n",
      "1.9283501839978725\n",
      "1.9656653465061713\n",
      "691\n"
     ]
    },
    {
     "name": "stderr",
     "output_type": "stream",
     "text": [
      "/home/joao/.local/lib/python3.8/site-packages/sncosmo/fitting.py:187: RuntimeWarning: Dropping following bands from data: sdss::g, sdss::u, sdss::z(out of model wavelength range)\n",
      "  warnings.warn(\"Dropping following bands from data: \" +\n"
     ]
    },
    {
     "name": "stdout",
     "output_type": "stream",
     "text": [
      "1.046861349896722\n",
      "0.6985218724220885\n",
      "0.7542648813722567\n",
      "692\n"
     ]
    },
    {
     "name": "stderr",
     "output_type": "stream",
     "text": [
      "/home/joao/.local/lib/python3.8/site-packages/sncosmo/fitting.py:187: RuntimeWarning: Dropping following bands from data: sdss::g, sdss::u, sdss::z(out of model wavelength range)\n",
      "  warnings.warn(\"Dropping following bands from data: \" +\n"
     ]
    },
    {
     "name": "stdout",
     "output_type": "stream",
     "text": [
      "1.7784644473465352\n",
      "1.5436638644499263\n",
      "1.6071360505492116\n",
      "693\n"
     ]
    },
    {
     "name": "stderr",
     "output_type": "stream",
     "text": [
      "/home/joao/.local/lib/python3.8/site-packages/sncosmo/fitting.py:187: RuntimeWarning: Dropping following bands from data: megacampsf::g at 10.068631(out of model wavelength range)\n",
      "  warnings.warn(\"Dropping following bands from data: \" +\n"
     ]
    },
    {
     "name": "stdout",
     "output_type": "stream",
     "text": [
      "3.683983304650565\n",
      "7.434849708346247\n",
      "7.1889265942162\n",
      "694\n"
     ]
    },
    {
     "name": "stderr",
     "output_type": "stream",
     "text": [
      "/home/joao/.local/lib/python3.8/site-packages/sncosmo/fitting.py:187: RuntimeWarning: Dropping following bands from data: sdss::g, sdss::u(out of model wavelength range)\n",
      "  warnings.warn(\"Dropping following bands from data: \" +\n"
     ]
    },
    {
     "name": "stdout",
     "output_type": "stream",
     "text": [
      "0.7530317479125972\n",
      "0.6788328258953508\n",
      "0.6965608581508963\n",
      "695\n"
     ]
    },
    {
     "name": "stderr",
     "output_type": "stream",
     "text": [
      "/home/joao/.local/lib/python3.8/site-packages/sncosmo/fitting.py:187: RuntimeWarning: Dropping following bands from data: sdss::z(out of model wavelength range)\n",
      "  warnings.warn(\"Dropping following bands from data: \" +\n",
      "/home/joao/.local/lib/python3.8/site-packages/sncosmo/fitting.py:187: RuntimeWarning: Dropping following bands from data: sdss::g, sdss::z(out of model wavelength range)\n",
      "  warnings.warn(\"Dropping following bands from data: \" +\n"
     ]
    },
    {
     "name": "stdout",
     "output_type": "stream",
     "text": [
      "1.239147418107625\n",
      "1.5037105132033637\n",
      "1.4717819151653262\n",
      "696\n"
     ]
    },
    {
     "name": "stderr",
     "output_type": "stream",
     "text": [
      "/home/joao/.local/lib/python3.8/site-packages/sncosmo/fitting.py:187: RuntimeWarning: Dropping following bands from data: megacampsf::g at 11.849223(out of model wavelength range)\n",
      "  warnings.warn(\"Dropping following bands from data: \" +\n"
     ]
    },
    {
     "name": "stdout",
     "output_type": "stream",
     "text": [
      "2.018051677108196\n",
      "3.5644460038417227\n",
      "3.3166013270409613\n",
      "697\n"
     ]
    },
    {
     "name": "stderr",
     "output_type": "stream",
     "text": [
      "/home/joao/.local/lib/python3.8/site-packages/sncosmo/fitting.py:187: RuntimeWarning: Dropping following bands from data: sdss::g, sdss::u, sdss::z(out of model wavelength range)\n",
      "  warnings.warn(\"Dropping following bands from data: \" +\n"
     ]
    },
    {
     "name": "stdout",
     "output_type": "stream",
     "text": [
      "0.612821845229507\n",
      "0.9236346916512889\n",
      "0.8457842090003315\n",
      "698\n"
     ]
    },
    {
     "name": "stderr",
     "output_type": "stream",
     "text": [
      "/home/joao/.local/lib/python3.8/site-packages/sncosmo/fitting.py:187: RuntimeWarning: Dropping following bands from data: 4shooter2::us, 4shooter2::i, 4shooter2::r, 4shooter2::b(out of model wavelength range)\n",
      "  warnings.warn(\"Dropping following bands from data: \" +\n"
     ]
    },
    {
     "name": "stdout",
     "output_type": "stream",
     "text": [
      "2.505401759461206\n",
      "0.807288892447013\n",
      "0.7116292786602585\n",
      "699\n"
     ]
    },
    {
     "name": "stderr",
     "output_type": "stream",
     "text": [
      "/home/joao/.local/lib/python3.8/site-packages/sncosmo/fitting.py:187: RuntimeWarning: Dropping following bands from data: sdss::g, sdss::u, sdss::z(out of model wavelength range)\n",
      "  warnings.warn(\"Dropping following bands from data: \" +\n"
     ]
    },
    {
     "name": "stdout",
     "output_type": "stream",
     "text": [
      "0.7046881608300487\n",
      "0.9403191244909178\n",
      "0.8792327435587098\n",
      "700\n"
     ]
    },
    {
     "name": "stderr",
     "output_type": "stream",
     "text": [
      "/home/joao/.local/lib/python3.8/site-packages/sncosmo/fitting.py:187: RuntimeWarning: Dropping following bands from data: megacampsf::g at 11.318847(out of model wavelength range)\n",
      "  warnings.warn(\"Dropping following bands from data: \" +\n"
     ]
    },
    {
     "name": "stdout",
     "output_type": "stream",
     "text": [
      "1.3802953800697937\n",
      "1.2826150559379967\n",
      "1.3770524242371998\n",
      "701\n"
     ]
    },
    {
     "name": "stderr",
     "output_type": "stream",
     "text": [
      "/home/joao/.local/lib/python3.8/site-packages/sncosmo/fitting.py:187: RuntimeWarning: Dropping following bands from data: keplercam::i, keplercam::b(out of model wavelength range)\n",
      "  warnings.warn(\"Dropping following bands from data: \" +\n"
     ]
    },
    {
     "name": "stdout",
     "output_type": "stream",
     "text": [
      "36.89844455696511\n",
      "57.42030155646104\n",
      "84.44078721462473\n",
      "702\n"
     ]
    },
    {
     "name": "stderr",
     "output_type": "stream",
     "text": [
      "/home/joao/.local/lib/python3.8/site-packages/sncosmo/fitting.py:187: RuntimeWarning: Dropping following bands from data: sdss::z(out of model wavelength range)\n",
      "  warnings.warn(\"Dropping following bands from data: \" +\n",
      "/home/joao/.local/lib/python3.8/site-packages/sncosmo/fitting.py:187: RuntimeWarning: Dropping following bands from data: sdss::g, sdss::u, sdss::z(out of model wavelength range)\n",
      "  warnings.warn(\"Dropping following bands from data: \" +\n"
     ]
    },
    {
     "name": "stdout",
     "output_type": "stream",
     "text": [
      "2.9029182287797277\n",
      "2.3887090894869196\n",
      "3.548306535369197\n",
      "703\n"
     ]
    },
    {
     "name": "stderr",
     "output_type": "stream",
     "text": [
      "/home/joao/.local/lib/python3.8/site-packages/sncosmo/fitting.py:187: RuntimeWarning: Dropping following bands from data: megacampsf::r at 8.923847, megacampsf::g at 8.923847(out of model wavelength range)\n",
      "  warnings.warn(\"Dropping following bands from data: \" +\n"
     ]
    },
    {
     "name": "stdout",
     "output_type": "stream",
     "text": [
      "1.4009152851180802\n",
      "1.8169898612928779\n",
      "1.4085019882054925\n",
      "704\n"
     ]
    },
    {
     "name": "stderr",
     "output_type": "stream",
     "text": [
      "/home/joao/.local/lib/python3.8/site-packages/sncosmo/fitting.py:187: RuntimeWarning: Dropping following bands from data: swope2::b, swope2::u(out of model wavelength range)\n",
      "  warnings.warn(\"Dropping following bands from data: \" +\n"
     ]
    },
    {
     "name": "stdout",
     "output_type": "stream",
     "text": [
      "19.585080665311345\n",
      "133.1640303209585\n",
      "127.42390384391197\n",
      "705\n"
     ]
    },
    {
     "name": "stderr",
     "output_type": "stream",
     "text": [
      "/home/joao/.local/lib/python3.8/site-packages/sncosmo/fitting.py:187: RuntimeWarning: Dropping following bands from data: keplercam::b(out of model wavelength range)\n",
      "  warnings.warn(\"Dropping following bands from data: \" +\n"
     ]
    },
    {
     "name": "stdout",
     "output_type": "stream",
     "text": [
      "1.8715296653816962\n",
      "1.944984347155143\n",
      "2.0463761538227674\n",
      "706\n"
     ]
    },
    {
     "name": "stderr",
     "output_type": "stream",
     "text": [
      "/home/joao/.local/lib/python3.8/site-packages/sncosmo/fitting.py:187: RuntimeWarning: Dropping following bands from data: megacampsf::g at 13.314087(out of model wavelength range)\n",
      "  warnings.warn(\"Dropping following bands from data: \" +\n"
     ]
    },
    {
     "name": "stdout",
     "output_type": "stream",
     "text": [
      "2.2861764264566324\n",
      "11.577274003852263\n",
      "11.840209217806091\n",
      "707\n"
     ]
    },
    {
     "name": "stderr",
     "output_type": "stream",
     "text": [
      "/home/joao/.local/lib/python3.8/site-packages/sncosmo/fitting.py:187: RuntimeWarning: Dropping following bands from data: keplercam::i, keplercam::us, keplercam::b(out of model wavelength range)\n",
      "  warnings.warn(\"Dropping following bands from data: \" +\n"
     ]
    },
    {
     "name": "stdout",
     "output_type": "stream",
     "text": [
      "8.56209519525043\n",
      "68.76635499730591\n",
      "76.5631195384187\n",
      "708\n"
     ]
    },
    {
     "name": "stderr",
     "output_type": "stream",
     "text": [
      "/home/joao/.local/lib/python3.8/site-packages/sncosmo/fitting.py:187: RuntimeWarning: Dropping following bands from data: sdss::z(out of model wavelength range)\n",
      "  warnings.warn(\"Dropping following bands from data: \" +\n",
      "/home/joao/.local/lib/python3.8/site-packages/sncosmo/fitting.py:187: RuntimeWarning: Dropping following bands from data: sdss::g, sdss::u, sdss::z(out of model wavelength range)\n",
      "  warnings.warn(\"Dropping following bands from data: \" +\n"
     ]
    },
    {
     "name": "stdout",
     "output_type": "stream",
     "text": [
      "1.0257973324731595\n",
      "1.7788583687104607\n",
      "2.1529569289923662\n",
      "709\n"
     ]
    },
    {
     "name": "stderr",
     "output_type": "stream",
     "text": [
      "/home/joao/.local/lib/python3.8/site-packages/sncosmo/fitting.py:187: RuntimeWarning: Dropping following bands from data: megacampsf::g at 15.488093, megacampsf::r at 15.488093(out of model wavelength range)\n",
      "  warnings.warn(\"Dropping following bands from data: \" +\n"
     ]
    },
    {
     "name": "stdout",
     "output_type": "stream",
     "text": [
      "2.5451324431272435\n",
      "3.5992055574266835\n",
      "3.685931462919163\n",
      "710\n"
     ]
    },
    {
     "name": "stderr",
     "output_type": "stream",
     "text": [
      "/home/joao/.local/lib/python3.8/site-packages/sncosmo/fitting.py:187: RuntimeWarning: Dropping following bands from data: sdss::g, sdss::u, sdss::z(out of model wavelength range)\n",
      "  warnings.warn(\"Dropping following bands from data: \" +\n"
     ]
    },
    {
     "name": "stdout",
     "output_type": "stream",
     "text": [
      "1.094611388684682\n",
      "2.0239793753182065\n",
      "1.6486046954651337\n",
      "711\n"
     ]
    },
    {
     "name": "stderr",
     "output_type": "stream",
     "text": [
      "/home/joao/.local/lib/python3.8/site-packages/sncosmo/fitting.py:187: RuntimeWarning: Dropping following bands from data: megacampsf::g at 11.622499(out of model wavelength range)\n",
      "  warnings.warn(\"Dropping following bands from data: \" +\n"
     ]
    },
    {
     "name": "stdout",
     "output_type": "stream",
     "text": [
      "2.9639709062104704\n",
      "9.632296069916759\n",
      "21.891357926952875\n",
      "712\n"
     ]
    },
    {
     "name": "stderr",
     "output_type": "stream",
     "text": [
      "/home/joao/.local/lib/python3.8/site-packages/sncosmo/fitting.py:187: RuntimeWarning: Dropping following bands from data: megacampsf::g at 7.848527(out of model wavelength range)\n",
      "  warnings.warn(\"Dropping following bands from data: \" +\n"
     ]
    },
    {
     "name": "stdout",
     "output_type": "stream",
     "text": [
      "1.0239690892478281\n",
      "2.939909410031176\n",
      "16.728519428463073\n",
      "713\n"
     ]
    },
    {
     "name": "stderr",
     "output_type": "stream",
     "text": [
      "/home/joao/.local/lib/python3.8/site-packages/sncosmo/fitting.py:187: RuntimeWarning: Dropping following bands from data: megacampsf::g at 16.827521, megacampsf::r at 16.827521(out of model wavelength range)\n",
      "  warnings.warn(\"Dropping following bands from data: \" +\n"
     ]
    },
    {
     "name": "stdout",
     "output_type": "stream",
     "text": [
      "0.9777934098837271\n",
      "1.300690349195434\n",
      "1.1373045834466564\n",
      "714\n"
     ]
    },
    {
     "name": "stderr",
     "output_type": "stream",
     "text": [
      "/home/joao/.local/lib/python3.8/site-packages/sncosmo/fitting.py:187: RuntimeWarning: Dropping following bands from data: sdss::z(out of model wavelength range)\n",
      "  warnings.warn(\"Dropping following bands from data: \" +\n",
      "/home/joao/.local/lib/python3.8/site-packages/sncosmo/fitting.py:187: RuntimeWarning: Dropping following bands from data: sdss::g, sdss::u, sdss::z(out of model wavelength range)\n",
      "  warnings.warn(\"Dropping following bands from data: \" +\n"
     ]
    },
    {
     "name": "stdout",
     "output_type": "stream",
     "text": [
      "0.9964490585373383\n",
      "0.7192224621388703\n",
      "0.7981203859287642\n",
      "715\n"
     ]
    },
    {
     "name": "stderr",
     "output_type": "stream",
     "text": [
      "/home/joao/.local/lib/python3.8/site-packages/sncosmo/fitting.py:187: RuntimeWarning: Dropping following bands from data: standard::b, standard::i(out of model wavelength range)\n",
      "  warnings.warn(\"Dropping following bands from data: \" +\n"
     ]
    },
    {
     "name": "stdout",
     "output_type": "stream",
     "text": [
      "2.118231037149887\n",
      "3.6732870159665723\n",
      "2.014414277969385\n",
      "716\n"
     ]
    },
    {
     "name": "stderr",
     "output_type": "stream",
     "text": [
      "/home/joao/.local/lib/python3.8/site-packages/sncosmo/fitting.py:187: RuntimeWarning: Dropping following bands from data: standard::i(out of model wavelength range)\n",
      "  warnings.warn(\"Dropping following bands from data: \" +\n"
     ]
    },
    {
     "name": "stdout",
     "output_type": "stream",
     "text": [
      "2.069112693051128\n",
      "2.1641231479223917\n",
      "1.7661256535341938\n",
      "717\n"
     ]
    },
    {
     "name": "stderr",
     "output_type": "stream",
     "text": [
      "/home/joao/.local/lib/python3.8/site-packages/sncosmo/fitting.py:187: RuntimeWarning: Dropping following bands from data: megacampsf::g at 11.217828, megacampsf::r at 11.217828(out of model wavelength range)\n",
      "  warnings.warn(\"Dropping following bands from data: \" +\n"
     ]
    },
    {
     "name": "stdout",
     "output_type": "stream",
     "text": [
      "1.6193329546178703\n",
      "1.7947320536492766\n",
      "2.3990555146003794\n",
      "718\n"
     ]
    },
    {
     "name": "stderr",
     "output_type": "stream",
     "text": [
      "/home/joao/.local/lib/python3.8/site-packages/sncosmo/fitting.py:187: RuntimeWarning: Dropping following bands from data: sdss::z(out of model wavelength range)\n",
      "  warnings.warn(\"Dropping following bands from data: \" +\n",
      "/home/joao/.local/lib/python3.8/site-packages/sncosmo/fitting.py:187: RuntimeWarning: Dropping following bands from data: sdss::g, sdss::u, sdss::z(out of model wavelength range)\n",
      "  warnings.warn(\"Dropping following bands from data: \" +\n"
     ]
    },
    {
     "name": "stdout",
     "output_type": "stream",
     "text": [
      "1.6399678716889852\n",
      "6.334718159735171\n",
      "7.9517223201581295\n",
      "719\n"
     ]
    },
    {
     "name": "stderr",
     "output_type": "stream",
     "text": [
      "/home/joao/.local/lib/python3.8/site-packages/sncosmo/fitting.py:187: RuntimeWarning: Dropping following bands from data: megacampsf::g at 12.090701(out of model wavelength range)\n",
      "  warnings.warn(\"Dropping following bands from data: \" +\n"
     ]
    },
    {
     "name": "stdout",
     "output_type": "stream",
     "text": [
      "1.4285901062715356\n",
      "9.159768779109479\n",
      "9.937809480894826\n",
      "720\n"
     ]
    },
    {
     "name": "stderr",
     "output_type": "stream",
     "text": [
      "/home/joao/.local/lib/python3.8/site-packages/sncosmo/fitting.py:187: RuntimeWarning: Dropping following bands from data: sdss::z(out of model wavelength range)\n",
      "  warnings.warn(\"Dropping following bands from data: \" +\n",
      "/home/joao/.local/lib/python3.8/site-packages/sncosmo/fitting.py:187: RuntimeWarning: Dropping following bands from data: sdss::g, sdss::z(out of model wavelength range)\n",
      "  warnings.warn(\"Dropping following bands from data: \" +\n"
     ]
    },
    {
     "name": "stdout",
     "output_type": "stream",
     "text": [
      "0.6216857611797383\n",
      "0.6375638945084152\n",
      "0.6386462416607018\n",
      "721\n"
     ]
    },
    {
     "name": "stderr",
     "output_type": "stream",
     "text": [
      "/home/joao/.local/lib/python3.8/site-packages/sncosmo/fitting.py:187: RuntimeWarning: Dropping following bands from data: sdss::g, sdss::u, sdss::z(out of model wavelength range)\n",
      "  warnings.warn(\"Dropping following bands from data: \" +\n"
     ]
    },
    {
     "name": "stdout",
     "output_type": "stream",
     "text": [
      "0.8948990457396127\n",
      "1.9237229897402592\n",
      "1.8359831171781242\n",
      "722\n"
     ]
    },
    {
     "name": "stderr",
     "output_type": "stream",
     "text": [
      "/home/joao/.local/lib/python3.8/site-packages/sncosmo/fitting.py:187: RuntimeWarning: Dropping following bands from data: megacampsf::g at 11.796503(out of model wavelength range)\n",
      "  warnings.warn(\"Dropping following bands from data: \" +\n"
     ]
    },
    {
     "name": "stdout",
     "output_type": "stream",
     "text": [
      "1.653192664838053\n",
      "12.285036622507272\n",
      "11.168580006482893\n",
      "723\n"
     ]
    },
    {
     "name": "stderr",
     "output_type": "stream",
     "text": [
      "/home/joao/.local/lib/python3.8/site-packages/sncosmo/fitting.py:187: RuntimeWarning: Dropping following bands from data: 4shooter2::us, 4shooter2::i, 4shooter2::r, 4shooter2::b(out of model wavelength range)\n",
      "  warnings.warn(\"Dropping following bands from data: \" +\n"
     ]
    },
    {
     "name": "stdout",
     "output_type": "stream",
     "text": [
      "39.60812771661596\n",
      "8.083275519959521\n",
      "2.2773337911524982\n",
      "724\n"
     ]
    },
    {
     "name": "stderr",
     "output_type": "stream",
     "text": [
      "/home/joao/.local/lib/python3.8/site-packages/sncosmo/fitting.py:187: RuntimeWarning: Dropping following bands from data: standard::r, standard::i, standard::u(out of model wavelength range)\n",
      "  warnings.warn(\"Dropping following bands from data: \" +\n"
     ]
    },
    {
     "name": "stdout",
     "output_type": "stream",
     "text": [
      "4.149692035781608\n",
      "5.157038221381685\n",
      "2.07312626883851\n",
      "725\n"
     ]
    },
    {
     "name": "stderr",
     "output_type": "stream",
     "text": [
      "/home/joao/.local/lib/python3.8/site-packages/sncosmo/fitting.py:187: RuntimeWarning: Dropping following bands from data: sdss::z(out of model wavelength range)\n",
      "  warnings.warn(\"Dropping following bands from data: \" +\n",
      "/home/joao/.local/lib/python3.8/site-packages/sncosmo/fitting.py:187: RuntimeWarning: Dropping following bands from data: sdss::g, sdss::u, sdss::z(out of model wavelength range)\n",
      "  warnings.warn(\"Dropping following bands from data: \" +\n"
     ]
    },
    {
     "name": "stdout",
     "output_type": "stream",
     "text": [
      "0.921853061053371\n",
      "1.301114057216564\n",
      "1.2600455763157243\n",
      "726\n"
     ]
    },
    {
     "name": "stderr",
     "output_type": "stream",
     "text": [
      "/home/joao/.local/lib/python3.8/site-packages/sncosmo/fitting.py:187: RuntimeWarning: Dropping following bands from data: sdss::z(out of model wavelength range)\n",
      "  warnings.warn(\"Dropping following bands from data: \" +\n",
      "/home/joao/.local/lib/python3.8/site-packages/sncosmo/fitting.py:187: RuntimeWarning: Dropping following bands from data: sdss::g, sdss::z(out of model wavelength range)\n",
      "  warnings.warn(\"Dropping following bands from data: \" +\n"
     ]
    },
    {
     "name": "stdout",
     "output_type": "stream",
     "text": [
      "1.2598505401040507\n",
      "0.9322114084732019\n",
      "0.9252812587147756\n",
      "727\n"
     ]
    },
    {
     "name": "stderr",
     "output_type": "stream",
     "text": [
      "/home/joao/.local/lib/python3.8/site-packages/sncosmo/fitting.py:187: RuntimeWarning: Dropping following bands from data: sdss::g, sdss::u, sdss::z(out of model wavelength range)\n",
      "  warnings.warn(\"Dropping following bands from data: \" +\n"
     ]
    },
    {
     "name": "stdout",
     "output_type": "stream",
     "text": [
      "1.0282420130113654\n",
      "0.9100713842986929\n",
      "0.8592366552103334\n",
      "728\n"
     ]
    },
    {
     "name": "stderr",
     "output_type": "stream",
     "text": [
      "/home/joao/.local/lib/python3.8/site-packages/sncosmo/fitting.py:187: RuntimeWarning: Dropping following bands from data: megacampsf::r at 13.057513, megacampsf::g at 13.057513(out of model wavelength range)\n",
      "  warnings.warn(\"Dropping following bands from data: \" +\n"
     ]
    },
    {
     "name": "stdout",
     "output_type": "stream",
     "text": [
      "1.9323731514824973\n",
      "1.74603293304362\n",
      "1.8021836980831245\n",
      "729\n"
     ]
    },
    {
     "name": "stderr",
     "output_type": "stream",
     "text": [
      "/home/joao/.local/lib/python3.8/site-packages/sncosmo/fitting.py:187: RuntimeWarning: Dropping following bands from data: sdss::g, sdss::u(out of model wavelength range)\n",
      "  warnings.warn(\"Dropping following bands from data: \" +\n"
     ]
    },
    {
     "name": "stdout",
     "output_type": "stream",
     "text": [
      "1.1759069361834114\n",
      "1.160133527904227\n",
      "1.167307251331925\n",
      "730\n"
     ]
    },
    {
     "name": "stderr",
     "output_type": "stream",
     "text": [
      "/home/joao/.local/lib/python3.8/site-packages/sncosmo/fitting.py:187: RuntimeWarning: Dropping following bands from data: 4shooter2::us, 4shooter2::i, 4shooter2::r, 4shooter2::b(out of model wavelength range)\n",
      "  warnings.warn(\"Dropping following bands from data: \" +\n"
     ]
    },
    {
     "name": "stdout",
     "output_type": "stream",
     "text": [
      "3.0411809584260285\n",
      "731\n"
     ]
    },
    {
     "name": "stderr",
     "output_type": "stream",
     "text": [
      "/home/joao/.local/lib/python3.8/site-packages/sncosmo/fitting.py:187: RuntimeWarning: Dropping following bands from data: keplercam::i, keplercam::b(out of model wavelength range)\n",
      "  warnings.warn(\"Dropping following bands from data: \" +\n"
     ]
    },
    {
     "name": "stdout",
     "output_type": "stream",
     "text": [
      "13.950800725945824\n",
      "43.32977098154583\n",
      "81.46236380756132\n",
      "732\n"
     ]
    },
    {
     "name": "stderr",
     "output_type": "stream",
     "text": [
      "/home/joao/.local/lib/python3.8/site-packages/sncosmo/fitting.py:187: RuntimeWarning: Dropping following bands from data: sdss::z(out of model wavelength range)\n",
      "  warnings.warn(\"Dropping following bands from data: \" +\n",
      "/home/joao/.local/lib/python3.8/site-packages/sncosmo/fitting.py:187: RuntimeWarning: Dropping following bands from data: sdss::g, sdss::u, sdss::z(out of model wavelength range)\n",
      "  warnings.warn(\"Dropping following bands from data: \" +\n"
     ]
    },
    {
     "name": "stdout",
     "output_type": "stream",
     "text": [
      "0.6787837969520182\n",
      "1.0015947561619476\n",
      "1.0115653507163749\n",
      "733\n"
     ]
    },
    {
     "name": "stderr",
     "output_type": "stream",
     "text": [
      "/home/joao/.local/lib/python3.8/site-packages/sncosmo/fitting.py:187: RuntimeWarning: Dropping following bands from data: megacampsf::g at 12.370540, megacampsf::r at 12.370540(out of model wavelength range)\n",
      "  warnings.warn(\"Dropping following bands from data: \" +\n"
     ]
    },
    {
     "name": "stdout",
     "output_type": "stream",
     "text": [
      "1.3626353301174765\n",
      "2.109500242839719\n",
      "3.1081045442055366\n",
      "734\n"
     ]
    },
    {
     "name": "stderr",
     "output_type": "stream",
     "text": [
      "/home/joao/.local/lib/python3.8/site-packages/sncosmo/fitting.py:187: RuntimeWarning: Dropping following bands from data: megacampsf::g at 12.324840(out of model wavelength range)\n",
      "  warnings.warn(\"Dropping following bands from data: \" +\n"
     ]
    },
    {
     "name": "stdout",
     "output_type": "stream",
     "text": [
      "1.3640410496017794\n",
      "1.301154143003184\n",
      "1.0554818170715432\n",
      "735\n"
     ]
    },
    {
     "name": "stderr",
     "output_type": "stream",
     "text": [
      "/home/joao/.local/lib/python3.8/site-packages/sncosmo/fitting.py:187: RuntimeWarning: Dropping following bands from data: 4shooter2::us, 4shooter2::i, 4shooter2::r, 4shooter2::b(out of model wavelength range)\n",
      "  warnings.warn(\"Dropping following bands from data: \" +\n"
     ]
    },
    {
     "name": "stdout",
     "output_type": "stream",
     "text": [
      "5.246165775442881\n",
      "736\n"
     ]
    },
    {
     "name": "stderr",
     "output_type": "stream",
     "text": [
      "/home/joao/.local/lib/python3.8/site-packages/sncosmo/fitting.py:187: RuntimeWarning: Dropping following bands from data: sdss::z(out of model wavelength range)\n",
      "  warnings.warn(\"Dropping following bands from data: \" +\n",
      "/home/joao/.local/lib/python3.8/site-packages/sncosmo/fitting.py:187: RuntimeWarning: Dropping following bands from data: sdss::g, sdss::u, sdss::z(out of model wavelength range)\n",
      "  warnings.warn(\"Dropping following bands from data: \" +\n"
     ]
    },
    {
     "name": "stdout",
     "output_type": "stream",
     "text": [
      "5.759471421781402\n",
      "19.314585399959057\n",
      "7.564767432565262\n",
      "737\n"
     ]
    },
    {
     "name": "stderr",
     "output_type": "stream",
     "text": [
      "/home/joao/.local/lib/python3.8/site-packages/sncosmo/fitting.py:187: RuntimeWarning: Dropping following bands from data: megacampsf::g at 12.446425(out of model wavelength range)\n",
      "  warnings.warn(\"Dropping following bands from data: \" +\n"
     ]
    },
    {
     "name": "stdout",
     "output_type": "stream",
     "text": [
      "1.4313811054772054\n",
      "1.9206233899148772\n",
      "1.841222726098055\n",
      "738\n"
     ]
    },
    {
     "name": "stderr",
     "output_type": "stream",
     "text": [
      "/home/joao/.local/lib/python3.8/site-packages/sncosmo/fitting.py:187: RuntimeWarning: Dropping following bands from data: megacampsf::g at 16.806184, megacampsf::r at 16.806184(out of model wavelength range)\n",
      "  warnings.warn(\"Dropping following bands from data: \" +\n"
     ]
    },
    {
     "name": "stdout",
     "output_type": "stream",
     "text": [
      "0.9725056912728909\n",
      "1.1546056481432514\n",
      "1.916372304970279\n",
      "739\n"
     ]
    },
    {
     "name": "stderr",
     "output_type": "stream",
     "text": [
      "/home/joao/.local/lib/python3.8/site-packages/sncosmo/fitting.py:187: RuntimeWarning: Dropping following bands from data: sdss::g, sdss::u, sdss::z(out of model wavelength range)\n",
      "  warnings.warn(\"Dropping following bands from data: \" +\n"
     ]
    },
    {
     "name": "stdout",
     "output_type": "stream",
     "text": [
      "0.687776553145968\n",
      "1.0717476280749418\n",
      "0.9580034171338113\n"
     ]
    }
   ],
   "source": [
    "for i in range(0, len(files)):\n",
    "    print(i)\n",
    "    if i not in exc:\n",
    "        data = sncosmo.read_lc(str(files[i]), format='salt2')\n",
    "\n",
    "        if data[\"Filter\"][0][:-3] == \"MEGACAMPSF\":\n",
    "\n",
    "            r = math.sqrt(data.meta['X_FOCAL_PLANE']**2 + data.meta['Y_FOCAL_PLANE']**2)\n",
    "\n",
    "\n",
    "            megacg = sncosmo.get_bandpass('megacampsf::g', r)\n",
    "            megacr = sncosmo.get_bandpass('megacampsf::r', r)\n",
    "            megaci = sncosmo.get_bandpass('megacampsf::i', r)\n",
    "            megacz = sncosmo.get_bandpass('megacampsf::z', r)\n",
    "\n",
    "            sncosmo.register(megacg, 'MEGACAMPSF::g', force = True)\n",
    "            sncosmo.register(megacr, 'MEGACAMPSF::r', force = True)\n",
    "            sncosmo.register(megaci, 'MEGACAMPSF::i', force = True)\n",
    "            sncosmo.register(megacz, 'MEGACAMPSF::z', force = True)\n",
    "\n",
    "        rname = data.meta['SN']\n",
    "        # original salt2\n",
    "        model_salt2 = sncosmo.Model(source=\"salt2\",\n",
    "                                    effects=[sncosmo.F99Dust()],\n",
    "                                    effect_names=['mw'],\n",
    "                                    effect_frames=['obs'])\n",
    "\n",
    "        model_salt2.set(mwebv=data.meta['MWEBV'],\n",
    "                        z = data.meta['Z_HELIO'])\n",
    "\n",
    "        model_3 = sncosmo.Model(source=exp_lc,\n",
    "                                effects=[sncosmo.F99Dust()],\n",
    "                                effect_names=['mw'],\n",
    "                                effect_frames=['obs'])\n",
    "\n",
    "        model_3.set(mwebv=data.meta['MWEBV'],\n",
    "                    z = data.meta['Z_HELIO'],\n",
    "                    x3 = 0,\n",
    "                    x4 = 0,\n",
    "                    x5 = 0,\n",
    "                    x6 = 0,\n",
    "                    x7 = 0,\n",
    "                    x8 = 0,\n",
    "                    x9 = 0,\n",
    "                    c = 0)\n",
    "\n",
    "        model_2_lc = sncosmo.Model(source=exp_lc,\n",
    "                                   effects=[sncosmo.F99Dust()],\n",
    "                                   effect_names=['mw'],\n",
    "                                   effect_frames=['obs'])\n",
    "\n",
    "        model_2_lc.set(mwebv=data.meta['MWEBV'],\n",
    "                       z = data.meta['Z_HELIO'],\n",
    "                       x2 = 0,\n",
    "                       x3 = 0,\n",
    "                       x4 = 0,\n",
    "                       x5 = 0,\n",
    "                       x6 = 0,\n",
    "                       x7 = 0,\n",
    "                       x8 = 0,\n",
    "                       x9 = 0)\n",
    "\n",
    "        result_salt2, m_salt2 = sncosmo.fit_lc(data, model_salt2, ['t0', 'x0', 'x1', 'c'], modelcov=False, phase_range=(-10, 45.), wave_range=(4000., 8000.), verbose=False)\n",
    "\n",
    "        result_3, m_3 = sncosmo.fit_lc(data, model_3, ['t0', 'x0', 'x1', 'x2'], modelcov=False, phase_range=(-10, 45.), wave_range=(4000., 8000.), verbose=False)\n",
    "\n",
    "        result_2, m_2 = sncosmo.fit_lc(data, model_2_lc, ['t0', 'x0', 'x1', 'c'], modelcov=False, phase_range=(-10, 45.), wave_range=(4000., 8000.), verbose=False)\n",
    "\n",
    "\n",
    "\n",
    "        if result_salt2.success == True:\n",
    "            if result_salt2.ndof > 2:\n",
    "                print(result_salt2.chisq/result_salt2.ndof)\n",
    "                table.append((rname, result_salt2.parameters[0], result_salt2.parameters[1], result_salt2.errors['t0'], result_salt2.parameters[2], result_salt2.errors['x0'], result_salt2.parameters[3], result_salt2.errors['x1'], result_salt2.parameters[4], result_salt2.errors['c'], data.meta['MWEBV'], result_salt2.covariance[1][2], result_salt2.covariance[1][3], result_salt2.covariance[2][3], result_salt2.chisq/result_salt2.ndof, \"salt2\"))\n",
    "        if result_3.success == True:\n",
    "            if result_3.ndof > 2:\n",
    "                print(result_3.chisq/result_3.ndof)\n",
    "                table.append((rname, result_3.parameters[0], result_3.parameters[1], result_3.errors['t0'], result_3.parameters[2], result_3.errors['x0'], result_3.parameters[3], result_3.errors['x1'], result_3.parameters[4], result_3.errors['x2'], data.meta['MWEBV'], result_3.covariance[1][2], result_3.covariance[1][3], result_3.covariance[2][3], result_3.chisq/result_3.ndof, \"exp3\"))\n",
    "        if result_2.success == True:\n",
    "            if result_2.ndof > 2:    \n",
    "                print(result_2.chisq/result_2.ndof)\n",
    "                table.append((rname, result_2.parameters[0], result_2.parameters[1], result_2.errors['t0'], result_2.parameters[2], result_2.errors['x0'], result_2.parameters[3], result_2.errors['x1'], result_2.parameters[12], result_2.errors['c'], data.meta['MWEBV'], result_2.covariance[1][2], result_2.covariance[1][3], result_2.covariance[2][3], result_2.chisq/result_2.ndof, \"exp2lc\"))\n"
   ]
  },
  {
   "cell_type": "code",
   "execution_count": 16,
   "id": "8180d5a8",
   "metadata": {},
   "outputs": [
    {
     "data": {
      "text/plain": [
       "2125"
      ]
     },
     "execution_count": 16,
     "metadata": {},
     "output_type": "execute_result"
    }
   ],
   "source": [
    "len(table)"
   ]
  },
  {
   "cell_type": "code",
   "execution_count": 17,
   "id": "aa51ab69",
   "metadata": {},
   "outputs": [],
   "source": [
    "save_path = './'"
   ]
  },
  {
   "cell_type": "code",
   "execution_count": 18,
   "id": "cfd5aa68",
   "metadata": {},
   "outputs": [],
   "source": [
    "completeName = os.path.join(save_path,\"ajuste_lc.txt\")      \n",
    "\n",
    "header = \"name     redshift     t0      t0err          x0         x0err       x1          x1err          x2     x2err   mwebv      cov_x0x1       cov_x0c       cov_x1x2  chiquad/dof modelo\"\n",
    "\n",
    "f = open(completeName, 'w')               \n",
    "f.write(header + \"\\n\")\n",
    "f.write(tabulate(table, tablefmt=\"plain\"))\n",
    "f.close()"
   ]
  },
  {
   "cell_type": "code",
   "execution_count": null,
   "id": "dcd79b4b",
   "metadata": {},
   "outputs": [],
   "source": []
  },
  {
   "cell_type": "code",
   "execution_count": null,
   "id": "8bac66bd",
   "metadata": {},
   "outputs": [],
   "source": []
  }
 ],
 "metadata": {
  "kernelspec": {
   "display_name": "Python 3 (ipykernel)",
   "language": "python",
   "name": "python3"
  },
  "language_info": {
   "codemirror_mode": {
    "name": "ipython",
    "version": 3
   },
   "file_extension": ".py",
   "mimetype": "text/x-python",
   "name": "python",
   "nbconvert_exporter": "python",
   "pygments_lexer": "ipython3",
   "version": "3.8.10"
  }
 },
 "nbformat": 4,
 "nbformat_minor": 5
}
