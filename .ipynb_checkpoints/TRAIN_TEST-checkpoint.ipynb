{
 "cells": [
  {
   "cell_type": "code",
   "execution_count": 1,
   "id": "f18a4081",
   "metadata": {},
   "outputs": [],
   "source": [
    "import numpy as np\n",
    "import pandas as pd\n",
    "import matplotlib.pyplot as plt\n",
    "import glob\n",
    "import random\n",
    "from mpl_toolkits.mplot3d import axes3d\n",
    "import scipy.interpolate as interp\n",
    "from matplotlib import cm\n",
    "from scipy.interpolate import (\n",
    "    InterpolatedUnivariateSpline as Spline1d,\n",
    "    RectBivariateSpline as Spline2d\n",
    ")\n",
    "from scipy.interpolate import RectBivariateSpline\n",
    "from scipy.stats import kurtosis, skew\n",
    "import scipy.optimize as optimize\n",
    "from iminuit import Minuit\n",
    "\n",
    "from ipywidgets import *\n",
    "\n",
    "from sklearn.model_selection import train_test_split\n",
    "from sklearn.decomposition import PCA, FactorAnalysis\n",
    "\n",
    "import sncosmo\n",
    "from sncosmo.salt2utils import BicubicInterpolator\n",
    "\n",
    "from astropy.table import Table\n",
    "from tabulate import tabulate # to export in table format\n",
    "\n",
    "\n",
    "%matplotlib inline"
   ]
  },
  {
   "cell_type": "markdown",
   "id": "d5205c3e",
   "metadata": {},
   "source": [
    "# Read the data"
   ]
  },
  {
   "cell_type": "code",
   "execution_count": 2,
   "id": "f3f5ec45",
   "metadata": {
    "scrolled": true
   },
   "outputs": [
    {
     "name": "stdout",
     "output_type": "stream",
     "text": [
      "Total files in path:  160\n"
     ]
    }
   ],
   "source": [
    "# file data paths\n",
    "data_path = \".//SN_surfaces//\"\n",
    "file_names = glob.glob(data_path+\"*.dat\")\n",
    "# rewrite the names\n",
    "for i in range(0, len(file_names)):\n",
    "    file_names[i] = file_names[i][15:]\n",
    "print(\"Total files in path: \", len(file_names))"
   ]
  },
  {
   "cell_type": "markdown",
   "id": "67e733c6",
   "metadata": {},
   "source": [
    "# To split the test and train dataset"
   ]
  },
  {
   "cell_type": "code",
   "execution_count": 3,
   "id": "276e6799",
   "metadata": {},
   "outputs": [
    {
     "name": "stdout",
     "output_type": "stream",
     "text": [
      "112 48\n"
     ]
    }
   ],
   "source": [
    "# split our data in training and test dataset with ration 70 - 30 %\n",
    "np.random.seed(42)\n",
    "sn_train, sn_test = train_test_split(file_names, test_size=0.3)\n",
    "print(len(sn_train), len(sn_test))"
   ]
  },
  {
   "cell_type": "code",
   "execution_count": 4,
   "id": "fad603a3",
   "metadata": {},
   "outputs": [],
   "source": [
    "#Create a log file with training and testing dataset names\n",
    "f = open(\".//log//train_names.txt\", 'w')\n",
    "for i in range(0, len(sn_train)):\n",
    "    f.write(str(sn_train[i][:-4])+\"\\n\")\n",
    "f.close()\n",
    "\n",
    "f = open(\".//log//test_names.txt\", 'w')\n",
    "for i in range(0, len(sn_test)):\n",
    "    f.write(str(sn_test[i][:-4])+\"\\n\")\n",
    "f.close()"
   ]
  },
  {
   "cell_type": "markdown",
   "id": "a82dcb07",
   "metadata": {},
   "source": [
    "# Training the model"
   ]
  },
  {
   "cell_type": "markdown",
   "id": "09117f10",
   "metadata": {},
   "source": [
    "## Principal Component Analysis"
   ]
  },
  {
   "cell_type": "code",
   "execution_count": 5,
   "id": "9f5def22",
   "metadata": {},
   "outputs": [],
   "source": [
    "TRAIN_DATASET = []\n",
    "ERROR_DATASET = []\n",
    "\n",
    "# read the training dataset\n",
    "for i in range(0, len(sn_train)):\n",
    "    SN = pd.read_csv(\".//SN_surfaces//\"+str(sn_train[i]),\n",
    "                           header=None,\n",
    "                           sep=\"\\s+\",\n",
    "                           names=[\"phase\", \"wave\", \"flux\", \"eflux\"])\n",
    "    TRAIN_DATASET.append(np.array(SN[\"flux\"]))\n",
    "    ERROR_DATASET.append(np.array(SN[\"eflux\"]))"
   ]
  },
  {
   "cell_type": "code",
   "execution_count": 6,
   "id": "81231f46",
   "metadata": {},
   "outputs": [],
   "source": [
    "#rng = np.random.RandomState(42)\n",
    "#sigma = 1\n",
    "#SIGMAS = sigma * rng.rand(len(TRAIN_DATASET[0])) + sigma / 2."
   ]
  },
  {
   "cell_type": "code",
   "execution_count": 7,
   "id": "cbef2ddb",
   "metadata": {},
   "outputs": [],
   "source": [
    "def PCA_FIT(dataset, N_comp=10):\n",
    "    \"\"\"\n",
    "    dataset: list containin spectroscopy data\n",
    "    N_comp: number of components\n",
    "    \"\"\"\n",
    "    np.random.random(42)\n",
    "    # apply pca with N components\n",
    "    pca = PCA(N_comp)\n",
    "    pca.fit(dataset)\n",
    "    return pca"
   ]
  },
  {
   "cell_type": "code",
   "execution_count": 8,
   "id": "2994cc87",
   "metadata": {},
   "outputs": [],
   "source": [
    "def FA_FIT(dataset, N_comp=10):\n",
    "    \"\"\"\n",
    "    dataset: list containin spectroscopy data\n",
    "    N_comp: number of components\n",
    "    \"\"\"\n",
    "    np.random.random(42)\n",
    "    # apply pca with N components\n",
    "    FA = FactorAnalysis(N_comp)\n",
    "    FA.fit(dataset)\n",
    "    return FA"
   ]
  },
  {
   "cell_type": "code",
   "execution_count": 9,
   "id": "8b421655",
   "metadata": {},
   "outputs": [],
   "source": [
    "N=10\n",
    "pca=PCA_FIT(TRAIN_DATASET, N_comp=N)"
   ]
  },
  {
   "cell_type": "code",
   "execution_count": 10,
   "id": "ba6f29c7",
   "metadata": {},
   "outputs": [],
   "source": [
    "N=10\n",
    "FA=FA_FIT(TRAIN_DATASET + ERROR_DATASET, N_comp=N)"
   ]
  },
  {
   "cell_type": "code",
   "execution_count": 11,
   "id": "210f13b0",
   "metadata": {},
   "outputs": [],
   "source": [
    "save_path = '/home/joao/Documents/GitHub/SNFACTORY_SNTRAIN/Templates/fa/'"
   ]
  },
  {
   "cell_type": "code",
   "execution_count": 12,
   "id": "141b919f",
   "metadata": {},
   "outputs": [],
   "source": [
    "for i in range(0, len(FA.components_)):\n",
    "    table = []\n",
    "    for n in range(0, len(SN[\"wave\"])):\n",
    "        table.append((SN[\"phase\"][n], SN[\"wave\"][n], FA.components_[i][n]))\n",
    "\n",
    "    completeName = os.path.join(save_path, \"M\"+str(i)+\".dat\")\n",
    "\n",
    "    f = open(completeName, 'w')\n",
    "    f.write(tabulate(table, tablefmt=\"plain\"))\n",
    "    f.close()"
   ]
  },
  {
   "cell_type": "code",
   "execution_count": 13,
   "id": "aa00e9bb",
   "metadata": {},
   "outputs": [
    {
     "data": {
      "text/plain": [
       "0       -10\n",
       "1        -9\n",
       "2        -8\n",
       "3        -7\n",
       "4        -6\n",
       "         ..\n",
       "30556    46\n",
       "30557    47\n",
       "30558    48\n",
       "30559    49\n",
       "30560    50\n",
       "Name: phase, Length: 30561, dtype: int64"
      ]
     },
     "execution_count": 13,
     "metadata": {},
     "output_type": "execute_result"
    }
   ],
   "source": [
    "SN[\"phase\"]"
   ]
  },
  {
   "cell_type": "code",
   "execution_count": 14,
   "id": "9e3581a0",
   "metadata": {},
   "outputs": [
    {
     "data": {
      "text/plain": [
       "10"
      ]
     },
     "execution_count": 14,
     "metadata": {},
     "output_type": "execute_result"
    }
   ],
   "source": [
    "len(FA.components_)"
   ]
  },
  {
   "cell_type": "code",
   "execution_count": null,
   "id": "3ac34403",
   "metadata": {},
   "outputs": [],
   "source": []
  },
  {
   "cell_type": "code",
   "execution_count": null,
   "id": "43a9f281",
   "metadata": {},
   "outputs": [],
   "source": []
  },
  {
   "cell_type": "code",
   "execution_count": null,
   "id": "2c149162",
   "metadata": {},
   "outputs": [],
   "source": []
  },
  {
   "cell_type": "code",
   "execution_count": 15,
   "id": "e397278d",
   "metadata": {
    "scrolled": true
   },
   "outputs": [
    {
     "data": {
      "image/png": "[encoded data removed]",
      "text/plain": [
       "<Figure size 432x288 with 1 Axes>"
      ]
     },
     "metadata": {
      "needs_background": "light"
     },
     "output_type": "display_data"
    }
   ],
   "source": [
    "plt.plot(np.linspace(1, 10, 10, dtype=int), np.cumsum(pca.explained_variance_ratio_)*100, color=\"slateblue\")\n",
    "plt.xlabel('Number of components')\n",
    "plt.ylabel('Variability (%)')\n",
    "plt.subplots_adjust(bottom=0.15)\n",
    "plt.subplots_adjust(left=0.15)\n",
    "\n",
    "#plt.savefig(\"/home/joao/Desktop/variabilidade_acumulada.png\", dpi = 200)   # save the figure to file"
   ]
  },
  {
   "cell_type": "code",
   "execution_count": 16,
   "id": "3f5a8013",
   "metadata": {},
   "outputs": [
    {
     "name": "stdout",
     "output_type": "stream",
     "text": [
      "Explained variance in 3 components:  0.9031274070020153\n"
     ]
    }
   ],
   "source": [
    "print(\"Explained variance in 3 components: \", pca.explained_variance_ratio_[0]+pca.explained_variance_ratio_[1]+pca.explained_variance_ratio_[2])"
   ]
  },
  {
   "cell_type": "code",
   "execution_count": 17,
   "id": "929ed735",
   "metadata": {},
   "outputs": [],
   "source": [
    "# grid plot\n",
    "x_grid = np.linspace(-10,50,61)\n",
    "y_grid = np.linspace(3500,8000, 451)\n",
    "B1, B2 = np.meshgrid(x_grid, y_grid, indexing='xy')"
   ]
  },
  {
   "cell_type": "markdown",
   "id": "17416e49",
   "metadata": {},
   "source": [
    "### Mean surface"
   ]
  },
  {
   "cell_type": "code",
   "execution_count": 18,
   "id": "22ae0b76",
   "metadata": {},
   "outputs": [
    {
     "name": "stderr",
     "output_type": "stream",
     "text": [
      "/home/joao/.local/lib/python3.8/site-packages/numpy/core/_asarray.py:171: VisibleDeprecationWarning: Creating an ndarray from ragged nested sequences (which is a list-or-tuple of lists-or-tuples-or ndarrays with different lengths or shapes) is deprecated. If you meant to do this, you must specify 'dtype=object' when creating the ndarray.\n",
      "  return array(a, dtype, copy=False, order=order, subok=True)\n"
     ]
    },
    {
     "data": {
      "image/png": "[encoded data removed]",
      "text/plain": [
       "<Figure size 504x360 with 1 Axes>"
      ]
     },
     "metadata": {
      "needs_background": "light"
     },
     "output_type": "display_data"
    }
   ],
   "source": [
    "#matplotlib notebook\n",
    "\n",
    "Z = interp.griddata((SN[\"phase\"],SN[\"wave\"]),pca.mean_,(B1,B2),method='cubic')\n",
    "#Z = splinemean(B1, B2)\n",
    "fig = plt.figure(figsize=(7, 5))\n",
    "ax = axes3d.Axes3D(fig)\n",
    "ax.plot_wireframe(B1, B2, Z)\n",
    "ax.plot_surface(B1, B2, Z, cmap=cm.viridis, lw=0.5, rstride=1, cstride=1, alpha=0.6)\n",
    "ax.set_xlabel(\"phase (days)\")\n",
    "ax.set_ylabel(\"wavelength (angstrom)\")\n",
    "ax.set_zlabel(\"mean surface (a. u.)\")\n",
    "\n",
    "plt.show()"
   ]
  },
  {
   "cell_type": "markdown",
   "id": "e8e8a825",
   "metadata": {},
   "source": [
    "### Components"
   ]
  },
  {
   "cell_type": "code",
   "execution_count": 19,
   "id": "b4bc27a3",
   "metadata": {},
   "outputs": [],
   "source": [
    "optionslist = []\n",
    "\n",
    "for i in range(0,N):\n",
    "    \n",
    "    optionslist.append(i)"
   ]
  },
  {
   "cell_type": "code",
   "execution_count": 20,
   "id": "85c283b3",
   "metadata": {},
   "outputs": [
    {
     "data": {
      "application/vnd.jupyter.widget-view+json": {
       "model_id": "04098bd93fc24c97a51c8c2eb7da2b45",
       "version_major": 2,
       "version_minor": 0
      },
      "text/plain": [
       "interactive(children=(Dropdown(description='Component:', options=(0, 1, 2, 3, 4, 5, 6, 7, 8, 9), value=0), Out…"
      ]
     },
     "metadata": {},
     "output_type": "display_data"
    },
    {
     "data": {
      "image/png": "[encoded data removed]",
      "text/plain": [
       "<Figure size 720x432 with 1 Axes>"
      ]
     },
     "metadata": {
      "needs_background": "light"
     },
     "output_type": "display_data"
    }
   ],
   "source": [
    "#matplotlib notebook\n",
    "\n",
    "fig = plt.figure(figsize=(10, 6))\n",
    "ax = axes3d.Axes3D(fig)\n",
    "\n",
    "def update_graph(i):\n",
    "    \n",
    "    ax.clear()\n",
    "\n",
    "    Z = interp.griddata((SN[\"phase\"],SN[\"wave\"]),-pca.components_[i],(B1,B2),method='cubic')\n",
    "    #Z = splinemean(B1, B2)\n",
    "    ax.plot_wireframe(B1, B2, Z)\n",
    "    ax.plot_surface(B1, B2, Z, cmap=cm.viridis, lw=0.5, rstride=1, cstride=1, alpha=0.6)\n",
    "    ax.set_xlabel(\"phase (days)\")\n",
    "    ax.set_ylabel(\"wavelength (angstrom)\")\n",
    "    ax.set_zlabel(\"components (a. u.)\")\n",
    "\n",
    "\n",
    "    plt.show()\n",
    "    \n",
    "i = widgets.Dropdown(options=optionslist, value=0, description='Component:', disabled=False)\n",
    "\n",
    "widgets.interactive(update_graph,i = i)"
   ]
  },
  {
   "cell_type": "code",
   "execution_count": 21,
   "id": "f6000c0a",
   "metadata": {},
   "outputs": [
    {
     "data": {
      "application/vnd.jupyter.widget-view+json": {
       "model_id": "37dc89e9e5144a4caaadd849bb1cd159",
       "version_major": 2,
       "version_minor": 0
      },
      "text/plain": [
       "interactive(children=(Dropdown(description='Component:', options=(0, 1, 2, 3, 4, 5, 6, 7, 8, 9), value=0), Out…"
      ]
     },
     "metadata": {},
     "output_type": "display_data"
    },
    {
     "data": {
      "image/png": "[encoded data removed]",
      "text/plain": [
       "<Figure size 720x432 with 1 Axes>"
      ]
     },
     "metadata": {
      "needs_background": "light"
     },
     "output_type": "display_data"
    }
   ],
   "source": [
    "#matplotlib notebook\n",
    "\n",
    "fig = plt.figure(figsize=(10, 6))\n",
    "ax = axes3d.Axes3D(fig)\n",
    "\n",
    "def update_graph(i):\n",
    "    \n",
    "    ax.clear()\n",
    "\n",
    "    Z = interp.griddata((SN[\"phase\"],SN[\"wave\"]),FA.components_[i],(B1,B2),method='cubic')\n",
    "    #Z = splinemean(B1, B2)\n",
    "    ax.plot_wireframe(B1, B2, Z)\n",
    "    ax.plot_surface(B1, B2, Z, cmap=cm.viridis, lw=0.5, rstride=1, cstride=1, alpha=0.6)\n",
    "    ax.set_xlabel(\"phase (days)\")\n",
    "    ax.set_ylabel(\"wavelength (angstrom)\")\n",
    "    ax.set_zlabel(\"components (a. u.)\")\n",
    "\n",
    "\n",
    "    plt.show()\n",
    "    \n",
    "i = widgets.Dropdown(options=optionslist, value=0, description='Component:', disabled=False)\n",
    "\n",
    "widgets.interactive(update_graph,i = i)"
   ]
  },
  {
   "cell_type": "code",
   "execution_count": 22,
   "id": "14ddef6d",
   "metadata": {},
   "outputs": [],
   "source": [
    "# training grid\n",
    "TEMP_PHASE_GRID = np.linspace(-10, 50, 61, dtype=int)\n",
    "TEMP_WAVE_GRID = np.linspace(3500, 8500, 501, dtype=int)"
   ]
  },
  {
   "cell_type": "code",
   "execution_count": 23,
   "id": "9496bd66",
   "metadata": {},
   "outputs": [],
   "source": [
    "# 2d grid\n",
    "X_GRID = []\n",
    "Y_GRID = []\n",
    "for i in range(0, len(TEMP_PHASE_GRID)):\n",
    "    for j in range(0, len(TEMP_WAVE_GRID)):\n",
    "        X_GRID.append(TEMP_PHASE_GRID[i])\n",
    "        Y_GRID.append(TEMP_WAVE_GRID[j])"
   ]
  },
  {
   "cell_type": "code",
   "execution_count": 24,
   "id": "44c6f94a",
   "metadata": {},
   "outputs": [
    {
     "name": "stdout",
     "output_type": "stream",
     "text": [
      "number of templates generated:  10\n"
     ]
    }
   ],
   "source": [
    "# Templates dataset in a pandas dataframe\n",
    "templates = []\n",
    "for i in range(N):\n",
    "    data = [np.array(X_GRID), np.array(Y_GRID), -(pca.components_[i].reshape(501, 61).T).reshape(1, len(pca.components_[i]))[0]] # to save as a pandas dataframe\n",
    "    templates.append(pd.DataFrame(np.array(data).T, columns=[\"phase\", \"wave\", \"flux\"]))\n",
    "    \n",
    "print(\"number of templates generated: \", len(templates))"
   ]
  },
  {
   "cell_type": "code",
   "execution_count": 25,
   "id": "2f76e1e3",
   "metadata": {},
   "outputs": [
    {
     "name": "stdout",
     "output_type": "stream",
     "text": [
      "number of templates generated:  10\n"
     ]
    }
   ],
   "source": [
    "# Templates dataset in a pandas dataframe\n",
    "templates_FA = []\n",
    "for i in range(N):\n",
    "    data = [np.array(X_GRID), np.array(Y_GRID), (FA.components_[i].reshape(501, 61).T).reshape(1, len(FA.components_[i]))[0]] # to save as a pandas dataframe\n",
    "    templates_FA.append(-pd.DataFrame(np.array(data).T, columns=[\"phase\", \"wave\", \"flux\"]))\n",
    "    \n",
    "print(\"number of templates generated: \", len(templates_FA))"
   ]
  },
  {
   "cell_type": "markdown",
   "id": "5f4f6f24",
   "metadata": {},
   "source": [
    "## Mean, Standard Deviation and Skewness"
   ]
  },
  {
   "cell_type": "code",
   "execution_count": 26,
   "id": "ce00b460",
   "metadata": {},
   "outputs": [],
   "source": [
    "# Mean, Standard Deviation and Skewness surfaces\n",
    "MEAN = np.mean(TRAIN_DATASET, axis=0)\n",
    "DESVP = np.std(TRAIN_DATASET, axis=0)\n",
    "SKW = skew(TRAIN_DATASET, axis=0)\n",
    "\n",
    "STATISTICAL_MOMENTS = [MEAN, DESVP, SKW]"
   ]
  },
  {
   "cell_type": "code",
   "execution_count": 27,
   "id": "80021142",
   "metadata": {},
   "outputs": [
    {
     "name": "stdout",
     "output_type": "stream",
     "text": [
      "number of templates generated:  3\n"
     ]
    }
   ],
   "source": [
    "# Given templates in a pandas dataframe\n",
    "ST_MOM = []\n",
    "for i in range(3):\n",
    "    data = [np.array(X_GRID), np.array(Y_GRID), (STATISTICAL_MOMENTS[i].reshape(501, 61).T).reshape(1, len(STATISTICAL_MOMENTS[i]))[0]] # to save as a pandas dataframe\n",
    "    ST_MOM.append(pd.DataFrame(np.array(data).T, columns=[\"phase\", \"wave\", \"flux\"]))\n",
    "    \n",
    "print(\"number of templates generated: \", len(ST_MOM))"
   ]
  },
  {
   "cell_type": "markdown",
   "id": "26f3d18f",
   "metadata": {},
   "source": [
    "# Generate photometry data"
   ]
  },
  {
   "cell_type": "code",
   "execution_count": 28,
   "id": "53e0fcac",
   "metadata": {},
   "outputs": [],
   "source": [
    "# csp filters using sncosmo\n",
    "ab = sncosmo.get_magsystem('ab')\n",
    "# catalog of bands\n",
    "csp_filtersname = [\"cspg\", \"cspr\", \"cspv9844\"]\n",
    "csp_filters = [sncosmo.get_bandpass('cspg'), sncosmo.get_bandpass('cspr'), sncosmo.get_bandpass('cspv9844')]"
   ]
  },
  {
   "cell_type": "code",
   "execution_count": 29,
   "id": "98d7305d",
   "metadata": {},
   "outputs": [],
   "source": [
    "# photometry grid\n",
    "PHOTO_XGRID = np.linspace(-10, 45, 16, dtype=int)\n",
    "WAVE_GRID = np.linspace(3500, 8500, 501, dtype=int)"
   ]
  },
  {
   "cell_type": "code",
   "execution_count": 30,
   "id": "badfc922",
   "metadata": {},
   "outputs": [],
   "source": [
    "def function_gen(data, dwave=10, returnfun=\"on\"):\n",
    "    \"\"\"\n",
    "    data: pandas dataframe structured with column names as phase, wave and flux\n",
    "    dwave: differencial wavelength (defaut 10 angstroms)\n",
    "    returnfun: variable to define what you will want to return. If on it return function, if off return data values\n",
    "    \"\"\"\n",
    "    \n",
    "    if returnfun == \"on\":\n",
    "        functions = []\n",
    "        for nn in range(0, len(csp_filters)): # run over filters\n",
    "            temp_flux = []\n",
    "            for ii in range(0, len(PHOTO_XGRID)): # for each grid point...\n",
    "                # integral element\n",
    "                temp_flux.append(np.sum(data[data[\"phase\"]==PHOTO_XGRID[ii]][\"flux\"]*csp_filters[nn](WAVE_GRID)*WAVE_GRID*dwave))\n",
    "            functions.append(Spline1d(PHOTO_XGRID, temp_flux)) # save each function to return (number of functions will be the number of filters)\n",
    "        return functions\n",
    "\n",
    "    if returnfun == \"off\":\n",
    "        \n",
    "        temp_phase =[]\n",
    "        temp_flux = []\n",
    "        temp_eflux = []\n",
    "        temp_filter = []\n",
    "        temp_zp = []\n",
    "        temp_zpsys = []\n",
    "        for nn in range(0, len(csp_filters)): # run over filters\n",
    "            for ii in range(0, len(PHOTO_XGRID)): # for each grid point...\n",
    "                # lists to transform in a pandas dataframe (format of sncosmo fit)\n",
    "                temp_phase.append(float(PHOTO_XGRID[ii]))\n",
    "                temp_flux.append(float(np.sum(data[data[\"phase\"]==PHOTO_XGRID[ii]][\"flux\"]*csp_filters[nn](WAVE_GRID)*WAVE_GRID*dwave))) # flux\n",
    "                temp_eflux.append(float(np.sum(csp_filters[nn](WAVE_GRID)*WAVE_GRID*dwave*data[data[\"phase\"]==PHOTO_XGRID[ii]][\"eflux\"]))) # error on flux\n",
    "                temp_filter.append(str(csp_filtersname[nn])) # given bands\n",
    "                temp_zp.append(2.5*np.log10(ab.zpbandflux(csp_filtersname[nn]))) # zeropoint magnitudes\n",
    "                temp_zpsys.append(\"ab\") # magnitude format\n",
    "                temp_data = [temp_phase, temp_flux, temp_eflux, temp_filter, temp_zp, temp_zpsys] # to save as a pandas dataframe\n",
    "                temp_data = pd.DataFrame(np.array(temp_data).T, columns=[\"time\", \"flux\", \"fluxerr\", \"band\", \"zp\", \"zpsys\"]) # collumn names in agreement with sncosmo\n",
    "        return temp_data"
   ]
  },
  {
   "cell_type": "code",
   "execution_count": 31,
   "id": "b5d2a918",
   "metadata": {},
   "outputs": [
    {
     "data": {
      "text/plain": [
       "\"\\nM0_filt = dict({'cspg':function_gen(templates[0])[0],\\n                'cspr':function_gen(templates[0])[1],\\n                'cspv9844':function_gen(templates[0])[2]})\\n\\nM1_filt = dict({'cspg':function_gen(templates[1])[0],\\n                'cspr':function_gen(templates[1])[1],\\n                'cspv9844':function_gen(templates[1])[2]})\\n\\nM2_filt = dict({'cspg':function_gen(templates[2])[0],\\n                'cspr':function_gen(templates[2])[1],\\n                'cspv9844':function_gen(templates[2])[2]})\\n\\nM3_filt = dict({'cspg':function_gen(templates[3])[0],\\n                'cspr':function_gen(templates[3])[1],\\n                'cspv9844':function_gen(templates[3])[2]})\\n\\nM4_filt = dict({'cspg':function_gen(templates[4])[0],\\n                'cspr':function_gen(templates[4])[1],\\n                'cspv9844':function_gen(templates[4])[2]})\\n\\nM5_filt = dict({'cspg':function_gen(templates[5])[0],\\n                'cspr':function_gen(templates[5])[1],\\n                'cspv9844':function_gen(templates[5])[2]})\\n\\nM6_filt = dict({'cspg':function_gen(templates[6])[0],\\n                'cspr':function_gen(templates[6])[1],\\n                'cspv9844':function_gen(templates[6])[2]})\\n\\nM7_filt = dict({'cspg':function_gen(templates[7])[0],\\n                'cspr':function_gen(templates[7])[1],\\n                'cspv9844':function_gen(templates[7])[2]})\\n\\nM8_filt = dict({'cspg':function_gen(templates[8])[0],\\n                'cspr':function_gen(templates[8])[1],\\n                'cspv9844':function_gen(templates[8])[2]})\\n\\nM9_filt = dict({'cspg':function_gen(templates[9])[0],\\n                'cspr':function_gen(templates[9])[1],\\n                'cspv9844':function_gen(templates[9])[2]})\\n\""
      ]
     },
     "execution_count": 31,
     "metadata": {},
     "output_type": "execute_result"
    }
   ],
   "source": [
    "# Filters dictionary\n",
    "'''\n",
    "M0_filt = dict({'cspg':function_gen(templates[0])[0],\n",
    "                'cspr':function_gen(templates[0])[1],\n",
    "                'cspv9844':function_gen(templates[0])[2]})\n",
    "\n",
    "M1_filt = dict({'cspg':function_gen(templates[1])[0],\n",
    "                'cspr':function_gen(templates[1])[1],\n",
    "                'cspv9844':function_gen(templates[1])[2]})\n",
    "\n",
    "M2_filt = dict({'cspg':function_gen(templates[2])[0],\n",
    "                'cspr':function_gen(templates[2])[1],\n",
    "                'cspv9844':function_gen(templates[2])[2]})\n",
    "\n",
    "M3_filt = dict({'cspg':function_gen(templates[3])[0],\n",
    "                'cspr':function_gen(templates[3])[1],\n",
    "                'cspv9844':function_gen(templates[3])[2]})\n",
    "\n",
    "M4_filt = dict({'cspg':function_gen(templates[4])[0],\n",
    "                'cspr':function_gen(templates[4])[1],\n",
    "                'cspv9844':function_gen(templates[4])[2]})\n",
    "\n",
    "M5_filt = dict({'cspg':function_gen(templates[5])[0],\n",
    "                'cspr':function_gen(templates[5])[1],\n",
    "                'cspv9844':function_gen(templates[5])[2]})\n",
    "\n",
    "M6_filt = dict({'cspg':function_gen(templates[6])[0],\n",
    "                'cspr':function_gen(templates[6])[1],\n",
    "                'cspv9844':function_gen(templates[6])[2]})\n",
    "\n",
    "M7_filt = dict({'cspg':function_gen(templates[7])[0],\n",
    "                'cspr':function_gen(templates[7])[1],\n",
    "                'cspv9844':function_gen(templates[7])[2]})\n",
    "\n",
    "M8_filt = dict({'cspg':function_gen(templates[8])[0],\n",
    "                'cspr':function_gen(templates[8])[1],\n",
    "                'cspv9844':function_gen(templates[8])[2]})\n",
    "\n",
    "M9_filt = dict({'cspg':function_gen(templates[9])[0],\n",
    "                'cspr':function_gen(templates[9])[1],\n",
    "                'cspv9844':function_gen(templates[9])[2]})\n",
    "'''"
   ]
  },
  {
   "cell_type": "markdown",
   "id": "c8d38837",
   "metadata": {},
   "source": [
    "# Generating Sintetic fotometry on test data"
   ]
  },
  {
   "cell_type": "code",
   "execution_count": 32,
   "id": "0fcb9080",
   "metadata": {},
   "outputs": [],
   "source": [
    "TEST_DATASET=[]\n",
    "# use the function above\n",
    "for i in range(0, len(sn_test)):\n",
    "    SN = pd.read_csv(\".//SN_surfaces//\"+str(sn_test[i]),\n",
    "                           header=None,\n",
    "                           sep=\"\\s+\",\n",
    "                           names=[\"phase\", \"wave\", \"flux\", \"eflux\"])\n",
    "    TEST_DATASET.append(SN)"
   ]
  },
  {
   "cell_type": "code",
   "execution_count": 33,
   "id": "56d6427e",
   "metadata": {
    "scrolled": true
   },
   "outputs": [],
   "source": [
    "# photometry data\n",
    "PHOTOMETRY_DATASET_TEST = []\n",
    "for i in range(0, len(TEST_DATASET)):\n",
    "    PHOTOMETRY_DATASET_TEST.append(Table(data=Table.from_pandas(function_gen(TEST_DATASET[i], returnfun=\"off\")), dtype=[float, float, float, str, float, str]))"
   ]
  },
  {
   "cell_type": "markdown",
   "id": "d7499adf",
   "metadata": {},
   "source": [
    "# Models Fit"
   ]
  },
  {
   "cell_type": "markdown",
   "id": "cca03fc1",
   "metadata": {},
   "source": [
    "### SALT2"
   ]
  },
  {
   "cell_type": "code",
   "execution_count": 34,
   "id": "8afd1c32",
   "metadata": {},
   "outputs": [],
   "source": [
    "def salt2_fit(data):\n",
    "    # create a model\n",
    "    model = sncosmo.Model(source='salt2') # sncosmo model (salt2)\n",
    "    model.set(z=0, t0=0, c=0) # fixed params\n",
    "    # run the fit\n",
    "    result, fitted_model = sncosmo.fit_lc(data, model, ['x0', 'x1'], modelcov=False)  # bounds on parameters (if any)\n",
    "    #print(\"chi^2 minimum/dof (SALT2): \", result.chisq/result.ndof)\n",
    "    \n",
    "    #sncosmo.plot_lc(data, model=fitted_model, errors=result.errors);\n",
    "    return fitted_model, result"
   ]
  },
  {
   "cell_type": "markdown",
   "id": "4aac88a6",
   "metadata": {},
   "source": [
    "### Single Expansion Model (Using PCA) (com todas 10 componentes)"
   ]
  },
  {
   "cell_type": "code",
   "execution_count": 35,
   "id": "04613f82",
   "metadata": {},
   "outputs": [],
   "source": [
    "#from scipy.interpolate import RectBivariateSpline\n",
    "\n",
    "# A new class for sncosmo\n",
    "class EXP_LC(sncosmo.Source):\n",
    "    \n",
    "    _param_names = ['x0', 'x1', 'x2','x3','x4','x5','x6','x7','x8','x9', 'c']\n",
    "    param_names_latex = ['x_0', 'x_1', 'x_2', 'x_3', 'x_4', 'x_5', 'x_6', 'x_7', 'x_8', 'x_9', 'c']\n",
    "    \n",
    "    \n",
    "    def __init__(self, phase, wave, flux0, flux1, flux2, flux3, flux4, flux5, flux6, flux7, flux8, flux9, LC, name='EXP', version='2021'):\n",
    "\n",
    "        self.name = name\n",
    "        self.version = version\n",
    "        self._phase = phase\n",
    "        self._wave = wave\n",
    "        \n",
    "        self._model_flux0  = BicubicInterpolator(phase, wave, flux0)\n",
    "        self._model_flux1  = BicubicInterpolator(phase, wave, flux1)\n",
    "        self._model_flux2  = BicubicInterpolator(phase, wave, flux2)\n",
    "        self._model_flux3  = BicubicInterpolator(phase, wave, flux3)\n",
    "        self._model_flux4  = BicubicInterpolator(phase, wave, flux4)\n",
    "        self._model_flux5  = BicubicInterpolator(phase, wave, flux5)\n",
    "        self._model_flux6  = BicubicInterpolator(phase, wave, flux6)\n",
    "        self._model_flux7  = BicubicInterpolator(phase, wave, flux7)\n",
    "        self._model_flux8  = BicubicInterpolator(phase, wave, flux8)\n",
    "        self._model_flux9  = BicubicInterpolator(phase, wave, flux9)\n",
    "        self._model_ext =  Spline1d(LC['wave'], LC['ext'],  k=1)  \n",
    "\n",
    "\n",
    "        self._parameters = np.array([1, 0, 0, 0, 0, 0, 0, 0, 0, 0, 0])  # initial guess\n",
    "        \n",
    "\n",
    "    def _flux(self, phase, wave):\n",
    "        \n",
    "        x0, x1, x2, x3, x4, x5, x6, x7, x8, x9, c = self._parameters\n",
    "        #print('flux!')\n",
    "        return x0 * (self._model_flux0(phase, wave) +  x1 * self._model_flux1(phase, wave) +  x2 * self._model_flux2(phase, wave) +  x3 * self._model_flux3(phase, wave) +  x4 * self._model_flux4(phase, wave)  +  x5 * self._model_flux5(phase, wave) +  x6 * self._model_flux6(phase, wave) +  x7 * self._model_flux7(phase, wave) +  x8 * self._model_flux8(phase, wave) +  x9 * self._model_flux9(phase, wave))* 10.** (-0.4 * self._model_ext(wave) * c)"
   ]
  },
  {
   "cell_type": "markdown",
   "id": "8f6f4d8a",
   "metadata": {},
   "source": [
    "# Light Curve Fits"
   ]
  },
  {
   "cell_type": "code",
   "execution_count": 36,
   "id": "fc8f92aa",
   "metadata": {},
   "outputs": [],
   "source": [
    "gridx = np.linspace(-10, 50, 61)\n",
    "gridy = np.linspace(3500, 8500, 501)\n",
    "\n",
    "# templates reshaped\n",
    "M0_reshape = np.array(templates[0][\"flux\"]).reshape(61, 501) \n",
    "M1_reshape = np.array(templates[1][\"flux\"]).reshape(61, 501)\n",
    "M2_reshape = np.array(templates[2][\"flux\"]).reshape(61, 501)\n",
    "M3_reshape = np.array(templates[3][\"flux\"]).reshape(61, 501)\n",
    "M4_reshape = np.array(templates[4][\"flux\"]).reshape(61, 501)\n",
    "M5_reshape = np.array(templates[5][\"flux\"]).reshape(61, 501)\n",
    "M6_reshape = np.array(templates[6][\"flux\"]).reshape(61, 501)\n",
    "M7_reshape = np.array(templates[7][\"flux\"]).reshape(61, 501)\n",
    "M8_reshape = np.array(templates[8][\"flux\"]).reshape(61, 501)\n",
    "M9_reshape = np.array(templates[9][\"flux\"]).reshape(61, 501)\n",
    "c = pd.read_csv(\".//Templates//salt2_colour_law_guy2010.dat\", header = None, sep = \"\\s+\") # color term\n",
    "c.columns = [\"wave\", \"ext\"]\n",
    "\n",
    "#exp_mom = EXP_MOM(gridx, gridy, name='EXP_MOM')"
   ]
  },
  {
   "cell_type": "code",
   "execution_count": 37,
   "id": "48182b74",
   "metadata": {},
   "outputs": [],
   "source": [
    "gridx = np.linspace(-10, 50, 61)\n",
    "gridy = np.linspace(3500, 8500, 501)\n",
    "\n",
    "# templates reshaped\n",
    "M0_reshape_FA = np.array(templates_FA[0][\"flux\"]).reshape(61, 501) \n",
    "M1_reshape_FA = np.array(templates_FA[1][\"flux\"]).reshape(61, 501)\n",
    "M2_reshape_FA = np.array(templates_FA[2][\"flux\"]).reshape(61, 501)\n",
    "M3_reshape_FA = np.array(templates_FA[3][\"flux\"]).reshape(61, 501)\n",
    "M4_reshape_FA = np.array(templates_FA[4][\"flux\"]).reshape(61, 501)\n",
    "M5_reshape_FA = np.array(templates_FA[5][\"flux\"]).reshape(61, 501)\n",
    "M6_reshape_FA = np.array(templates_FA[6][\"flux\"]).reshape(61, 501)\n",
    "M7_reshape_FA = np.array(templates_FA[7][\"flux\"]).reshape(61, 501)\n",
    "M8_reshape_FA = np.array(templates_FA[8][\"flux\"]).reshape(61, 501)\n",
    "M9_reshape_FA = np.array(templates_FA[9][\"flux\"]).reshape(61, 501)\n",
    "\n",
    "#exp_mom = EXP_MOM(gridx, gridy, name='EXP_MOM')"
   ]
  },
  {
   "cell_type": "markdown",
   "id": "b758053a",
   "metadata": {},
   "source": [
    "## SALT2 x EXP(3)"
   ]
  },
  {
   "cell_type": "code",
   "execution_count": 38,
   "id": "206bca09",
   "metadata": {},
   "outputs": [],
   "source": [
    "optionslist = []\n",
    "\n",
    "for i in range(0,len(PHOTOMETRY_DATASET_TEST)):\n",
    "    \n",
    "    optionslist.append(i)"
   ]
  },
  {
   "cell_type": "code",
   "execution_count": 39,
   "id": "0c8d1368",
   "metadata": {
    "scrolled": false
   },
   "outputs": [
    {
     "data": {
      "application/vnd.jupyter.widget-view+json": {
       "model_id": "316f129d43c049f2b12b36fc4edb1d43",
       "version_major": 2,
       "version_minor": 0
      },
      "text/plain": [
       "interactive(children=(Dropdown(description='Component:', options=(0, 1, 2, 3, 4, 5, 6, 7, 8, 9, 10, 11, 12, 13…"
      ]
     },
     "metadata": {},
     "output_type": "display_data"
    }
   ],
   "source": [
    "def update_graph(i):\n",
    "    \n",
    "    exp = EXP_LC(gridx, gridy, M0_reshape, M1_reshape, M2_reshape, M3_reshape, M4_reshape, M5_reshape, M6_reshape, M7_reshape, M8_reshape, M9_reshape, c, name='EXP')\n",
    "    model = sncosmo.Model(source=exp)\n",
    "\n",
    "    model.set(z=0.,\n",
    "              t0=0,\n",
    "              x3=0,\n",
    "              x4=0,\n",
    "              x5=0,\n",
    "              x6=0,\n",
    "              x7=0,\n",
    "              x8=0,\n",
    "              x9=0,\n",
    "              c=0)\n",
    "    \n",
    "    result_exp, model_exp = sncosmo.fit_lc(PHOTOMETRY_DATASET_TEST[i], model, ['x0', 'x1', 'x2'], modelcov=False)  # bounds on parameters (if any)\n",
    "    print(\"chi^2 minimum/dof (EXP): \", result_exp.chisq/result_exp.ndof)\n",
    "    model_salt2, result_salt2 = salt2_fit(PHOTOMETRY_DATASET_TEST[i]);\n",
    "    #print(result_salt2)\n",
    "    sncosmo.plot_lc(PHOTOMETRY_DATASET_TEST[i],\n",
    "                    model=[model_salt2, model_exp],\n",
    "                    errors=[result_salt2.errors, result_exp.errors],\n",
    "                    model_label=[\"SALT2 (c=0)\", \"EXP\"],\n",
    "                    color=\"k\")\n",
    "    #plt.savefig('SALT2_x_EXP_SN'+str(i)+'.pdf')\n",
    "    \n",
    "i = widgets.Dropdown(options=optionslist, value=0, description='Component:', disabled=False)\n",
    "widgets.interactive(update_graph,i = i)"
   ]
  },
  {
   "cell_type": "markdown",
   "id": "f0d10aac",
   "metadata": {},
   "source": [
    "## EXP3(PCA) x EXP3(FA)"
   ]
  },
  {
   "cell_type": "code",
   "execution_count": 40,
   "id": "da5b2555",
   "metadata": {},
   "outputs": [
    {
     "data": {
      "application/vnd.jupyter.widget-view+json": {
       "model_id": "661e1c6522f5422ba689292820f6309d",
       "version_major": 2,
       "version_minor": 0
      },
      "text/plain": [
       "interactive(children=(Dropdown(description='Component:', options=(0, 1, 2, 3, 4, 5, 6, 7, 8, 9, 10, 11, 12, 13…"
      ]
     },
     "metadata": {},
     "output_type": "display_data"
    }
   ],
   "source": [
    "def update_graph(i):\n",
    "    \n",
    "    exp = EXP_LC(gridx, gridy, M0_reshape_FA, M1_reshape_FA, M2_reshape_FA, M3_reshape_FA, M4_reshape_FA, M5_reshape_FA, M6_reshape_FA, M7_reshape_FA, M8_reshape_FA, M9_reshape_FA, c, name='EXP')\n",
    "    model = sncosmo.Model(source=exp)\n",
    "\n",
    "    model.set(z=0.,\n",
    "              t0=0,\n",
    "              x3=0,\n",
    "              x4=0,\n",
    "              x5=0,\n",
    "              x6=0,\n",
    "              x7=0,\n",
    "              x8=0,\n",
    "              x9=0,\n",
    "              c=0)\n",
    "    \n",
    "    result_exp, model_exp = sncosmo.fit_lc(PHOTOMETRY_DATASET_TEST[i], model, ['x0', 'x1', 'x2'], modelcov=False)  # bounds on parameters (if any)\n",
    "    print(\"chi^2 minimum/dof (EXP) FA: \", result_exp.chisq/result_exp.ndof)\n",
    "    \n",
    "    \n",
    "    exp_pca = EXP_LC(gridx, gridy, M0_reshape, M1_reshape, M2_reshape, M3_reshape, M4_reshape, M5_reshape, M6_reshape, M7_reshape, M8_reshape, M9_reshape, c, name='EXP')\n",
    "    model_pca = sncosmo.Model(source=exp_pca)\n",
    "\n",
    "    model_pca.set(z=0.,\n",
    "              t0=0,\n",
    "              x3=0,\n",
    "              x4=0,\n",
    "              x5=0,\n",
    "              x6=0,\n",
    "              x7=0,\n",
    "              x8=0,\n",
    "              x9=0,\n",
    "              c=0)\n",
    "    \n",
    "    result_exp_pca, model_exp_pca = sncosmo.fit_lc(PHOTOMETRY_DATASET_TEST[i], model_pca, ['x0', 'x1', 'x2'], modelcov=False)  # bounds on parameters (if any)\n",
    "    print(\"chi^2 minimum/dof (EXP) PCA: \", result_exp_pca.chisq/result_exp_pca.ndof)\n",
    "    #print(result_salt2)\n",
    "    sncosmo.plot_lc(PHOTOMETRY_DATASET_TEST[i],\n",
    "                    model=[model_exp, model_exp_pca],\n",
    "                    errors=[result_exp.errors, result_exp_pca.errors],\n",
    "                    model_label=[\"EXP(3) FA\", \"EXP(3) PCA\"],\n",
    "                    color=\"k\")\n",
    "    #plt.savefig('SALT2_x_EXP_SN'+str(i)+'.pdf')\n",
    "    \n",
    "i = widgets.Dropdown(options=optionslist, value=0, description='Component:', disabled=False)\n",
    "widgets.interactive(update_graph,i = i)"
   ]
  },
  {
   "cell_type": "markdown",
   "id": "166a9b2f",
   "metadata": {},
   "source": [
    "## SALT2 x EXP4"
   ]
  },
  {
   "cell_type": "code",
   "execution_count": 41,
   "id": "fac9fee4",
   "metadata": {},
   "outputs": [
    {
     "data": {
      "application/vnd.jupyter.widget-view+json": {
       "model_id": "e480ecd0d2c4422cab10d886b0784c99",
       "version_major": 2,
       "version_minor": 0
      },
      "text/plain": [
       "interactive(children=(Dropdown(description='Component:', options=(0, 1, 2, 3, 4, 5, 6, 7, 8, 9, 10, 11, 12, 13…"
      ]
     },
     "metadata": {},
     "output_type": "display_data"
    }
   ],
   "source": [
    "def update_graph(i):\n",
    "    \n",
    "    exp = EXP_LC(gridx, gridy, M0_reshape, M1_reshape, M2_reshape, M3_reshape, M4_reshape, M5_reshape, M6_reshape, M7_reshape, M8_reshape, M9_reshape, c, name='EXP')\n",
    "    model = sncosmo.Model(source=exp)\n",
    "\n",
    "    model.set(z=0.,\n",
    "              t0=0,\n",
    "              x4=0,\n",
    "              x5=0,\n",
    "              x6=0,\n",
    "              x7=0,\n",
    "              x8=0,\n",
    "              x9=0,\n",
    "              c=0)\n",
    "    \n",
    "    result_exp, model_exp = sncosmo.fit_lc(PHOTOMETRY_DATASET_TEST[i], model, ['x0', 'x1', 'x2', 'x3'], modelcov=False)  # bounds on parameters (if any)\n",
    "    print(\"chi^2 minimum/dof (EXP): \", result_exp.chisq/result_exp.ndof)\n",
    "    model_salt2, result_salt2 = salt2_fit(PHOTOMETRY_DATASET_TEST[i]);\n",
    "    #print(result_exp)\n",
    "    sncosmo.plot_lc(PHOTOMETRY_DATASET_TEST[i],\n",
    "                    model=[model_salt2, model_exp],\n",
    "                    errors=[result_salt2.errors, result_exp.errors],\n",
    "                    model_label=[\"SALT2\", \"EXP\"],\n",
    "                    color=\"k\")\n",
    "    #plt.savefig('SALT2_x_EXP_SN'+str(i)+'.pdf')\n",
    "    \n",
    "i = widgets.Dropdown(options=optionslist, value=0, description='Component:', disabled=False)\n",
    "widgets.interactive(update_graph,i = i)"
   ]
  },
  {
   "cell_type": "markdown",
   "id": "05e43a16",
   "metadata": {},
   "source": [
    "## SALT2 x EXP10"
   ]
  },
  {
   "cell_type": "code",
   "execution_count": 42,
   "id": "7510af53",
   "metadata": {},
   "outputs": [
    {
     "data": {
      "application/vnd.jupyter.widget-view+json": {
       "model_id": "d2450613fda74aaeb78b2f272f1f5a90",
       "version_major": 2,
       "version_minor": 0
      },
      "text/plain": [
       "interactive(children=(Dropdown(description='Component:', options=(0, 1, 2, 3, 4, 5, 6, 7, 8, 9, 10, 11, 12, 13…"
      ]
     },
     "metadata": {},
     "output_type": "display_data"
    }
   ],
   "source": [
    "def update_graph(i):\n",
    "    \n",
    "    exp = EXP_LC(gridx, gridy, M0_reshape, M1_reshape, M2_reshape, M3_reshape, M4_reshape, M5_reshape, M6_reshape, M7_reshape, M8_reshape, M9_reshape, c, name='EXP')\n",
    "    model = sncosmo.Model(source=exp)\n",
    "\n",
    "    model.set(z=0.,\n",
    "              t0=0,\n",
    "              c=0)\n",
    "    \n",
    "    result_exp, model_exp = sncosmo.fit_lc(PHOTOMETRY_DATASET_TEST[i], model, ['x0', 'x1', 'x2', 'x3', 'x4', 'x5', 'x6', 'x7', 'x8', 'x9'], modelcov=False)  # bounds on parameters (if any)\n",
    "    print(\"chi^2 minimum/dof (EXP): \", result_exp.chisq/result_exp.ndof)\n",
    "    model_salt2, result_salt2 = salt2_fit(PHOTOMETRY_DATASET_TEST[i]);\n",
    "    #print(result_exp)\n",
    "    sncosmo.plot_lc(PHOTOMETRY_DATASET_TEST[i],\n",
    "                    model=[model_salt2, model_exp],\n",
    "                    errors=[result_salt2.errors, result_exp.errors],\n",
    "                    model_label=[\"SALT2\", \"EXP\"],\n",
    "                    color=\"k\")\n",
    "    #plt.savefig('SALT2_x_EXP_SN'+str(i)+'.pdf')\n",
    "    \n",
    "i = widgets.Dropdown(options=optionslist, value=0, description='Component:', disabled=False)\n",
    "widgets.interactive(update_graph,i = i)"
   ]
  },
  {
   "cell_type": "markdown",
   "id": "73f71a14",
   "metadata": {},
   "source": [
    "## EXP(3)x EXP10"
   ]
  },
  {
   "cell_type": "code",
   "execution_count": 43,
   "id": "2e1bcb1b",
   "metadata": {},
   "outputs": [
    {
     "data": {
      "application/vnd.jupyter.widget-view+json": {
       "model_id": "c1e10c7a6de24ad2932a04c6c5044b0c",
       "version_major": 2,
       "version_minor": 0
      },
      "text/plain": [
       "interactive(children=(Dropdown(description='Component:', options=(0, 1, 2, 3, 4, 5, 6, 7, 8, 9, 10, 11, 12, 13…"
      ]
     },
     "metadata": {},
     "output_type": "display_data"
    }
   ],
   "source": [
    "def update_graph(i):\n",
    "    \n",
    "    exp3 = EXP_LC(gridx, gridy, M0_reshape, M1_reshape, M2_reshape, M3_reshape, M4_reshape, M5_reshape, M6_reshape, M7_reshape, M8_reshape, M9_reshape, c, name='EXP')\n",
    "    model3 = sncosmo.Model(source=exp3)\n",
    "\n",
    "    model3.set(z=0.,\n",
    "              t0=0,\n",
    "              x4=0,\n",
    "              x5=0,\n",
    "              x6=0,\n",
    "              x7=0,\n",
    "              x8=0,\n",
    "              x9=0,\n",
    "              c=0)\n",
    "    \n",
    "    result_exp3, model_exp3 = sncosmo.fit_lc(PHOTOMETRY_DATASET_TEST[i], model3, ['x0', 'x1', 'x2', 'x3'], modelcov=False)  # bounds on parameters (if any)\n",
    "    \n",
    "    \n",
    "\n",
    "    exp10 = EXP_LC(gridx, gridy, M0_reshape, M1_reshape, M2_reshape, M3_reshape, M4_reshape, M5_reshape, M6_reshape, M7_reshape, M8_reshape, M9_reshape, c, name='EXP')\n",
    "    model10 = sncosmo.Model(source=exp10)\n",
    "\n",
    "    model10.set(z=0.,\n",
    "              t0=0,\n",
    "              c=0)\n",
    "    \n",
    "    result_exp10, model_exp10 = sncosmo.fit_lc(PHOTOMETRY_DATASET_TEST[i], model10, ['x0', 'x1', 'x2', 'x3', 'x4', 'x5', 'x6', 'x7', 'x8', 'x9'], modelcov=False)  # bounds on parameters (if any)\n",
    "    \n",
    "    #print(result_exp10.keys())\n",
    "    \n",
    "    sncosmo.plot_lc(PHOTOMETRY_DATASET_TEST[i],\n",
    "                    model=[model_exp3, model_exp10],\n",
    "                    errors=[result_exp3.errors, result_exp10.errors],\n",
    "                    model_label=[\"EXP(3)\", \"EXP10\"],\n",
    "                    color=\"k\")\n",
    "    \n",
    "    #plt.savefig('EXP_x_EXP10_SN'+str(i)+'.pdf')\n",
    "    \n",
    "i = widgets.Dropdown(options=optionslist, value=0, description='Component:', disabled=False)\n",
    "widgets.interactive(update_graph,i = i)"
   ]
  },
  {
   "cell_type": "markdown",
   "id": "d804a674",
   "metadata": {},
   "source": [
    "### SALT2 x EXP(3) with LC (x0, x1, x2, c)"
   ]
  },
  {
   "cell_type": "code",
   "execution_count": 44,
   "id": "1cc9cbf2",
   "metadata": {},
   "outputs": [
    {
     "data": {
      "application/vnd.jupyter.widget-view+json": {
       "model_id": "a5f5ae11a66646bea8fbcd781ad786c3",
       "version_major": 2,
       "version_minor": 0
      },
      "text/plain": [
       "interactive(children=(Dropdown(description='Component:', options=(0, 1, 2, 3, 4, 5, 6, 7, 8, 9, 10, 11, 12, 13…"
      ]
     },
     "metadata": {},
     "output_type": "display_data"
    }
   ],
   "source": [
    "def update_graph(i):\n",
    "    \n",
    "    exp = EXP_LC(gridx, gridy, M0_reshape, M1_reshape, M2_reshape, M3_reshape, M4_reshape, M5_reshape, M6_reshape, M7_reshape, M8_reshape, M9_reshape, c, name='EXP')\n",
    "    model = sncosmo.Model(source=exp)\n",
    "\n",
    "    model.set(z=0.,\n",
    "              t0=0,\n",
    "              x3=0,\n",
    "              x4=0,\n",
    "              x5=0,\n",
    "              x6=0,\n",
    "              x7=0,\n",
    "              x8=0,\n",
    "              x9=0)\n",
    "    \n",
    "    result_exp, model_exp = sncosmo.fit_lc(PHOTOMETRY_DATASET_TEST[i], model, ['x0', 'x1', 'x2', 'c'], modelcov=False)  # bounds on parameters (if any)\n",
    "    print(\"chi^2 minimum/dof (EXP): \", result_exp.chisq/result_exp.ndof)\n",
    "    model_salt2, result_salt2 = salt2_fit(PHOTOMETRY_DATASET_TEST[i]);\n",
    "    #print(result_salt2)\n",
    "    sncosmo.plot_lc(PHOTOMETRY_DATASET_TEST[i],\n",
    "                    model=[model_salt2, model_exp],\n",
    "                    errors=[result_salt2.errors, result_exp.errors],\n",
    "                    model_label=[\"SALT2\", \"EXP\"],\n",
    "                    color=\"k\")\n",
    "    #plt.savefig('SALT2_x_EXP_SN'+str(i)+'.pdf')\n",
    "    \n",
    "i = widgets.Dropdown(options=optionslist, value=0, description='Component:', disabled=False)\n",
    "widgets.interactive(update_graph,i = i)"
   ]
  },
  {
   "cell_type": "code",
   "execution_count": 45,
   "id": "2d62ab17",
   "metadata": {},
   "outputs": [],
   "source": [
    "def free_parameters(ii):\n",
    "    \"\"\"\n",
    "    i:SN train index\n",
    "    \"\"\"\n",
    "    \n",
    "    exp = EXP_LC(gridx, gridy, M0_reshape, M1_reshape, M2_reshape, M3_reshape, M4_reshape, M5_reshape, M6_reshape, M7_reshape, M8_reshape, M9_reshape, c, name='EXP')\n",
    "    model = sncosmo.Model(source=exp)\n",
    "\n",
    "    model.set(z=0.,\n",
    "              t0=0,\n",
    "              x3=0,\n",
    "              x4=0,\n",
    "              x5=0,\n",
    "              x6=0,\n",
    "              x7=0,\n",
    "              x8=0,\n",
    "              x9=0)\n",
    "    \n",
    "    result_exp, model_exp = sncosmo.fit_lc(PHOTOMETRY_DATASET_TEST[i], model, ['x0', 'x1', 'x2'], modelcov=False)\n",
    "    model_salt2, result_salt2 = salt2_fit(PHOTOMETRY_DATASET_TEST[i]);\n",
    "    \n",
    "    return result_exp.parameters[2], result_exp.parameters[3], result_exp.parameters[4], result_salt2.parameters[2], result_salt2.parameters[3], result_salt2.parameters[4]"
   ]
  },
  {
   "cell_type": "code",
   "execution_count": 36,
   "id": "5233af4d",
   "metadata": {
    "scrolled": true
   },
   "outputs": [
    {
     "name": "stderr",
     "output_type": "stream",
     "text": [
      "/tmp/ipykernel_27559/1797058000.py:4: RuntimeWarning: invalid value encountered in log10\n",
      "  df[\"x0_exp\"][i] = -2.5*np.log10(x0_exp)\n"
     ]
    },
    {
     "data": {
      "text/html": [
       "<div>\n",
       "<style scoped>\n",
       "    .dataframe tbody tr th:only-of-type {\n",
       "        vertical-align: middle;\n",
       "    }\n",
       "\n",
       "    .dataframe tbody tr th {\n",
       "        vertical-align: top;\n",
       "    }\n",
       "\n",
       "    .dataframe thead th {\n",
       "        text-align: right;\n",
       "    }\n",
       "</style>\n",
       "<table border=\"1\" class=\"dataframe\">\n",
       "  <thead>\n",
       "    <tr style=\"text-align: right;\">\n",
       "      <th></th>\n",
       "      <th>x0_exp</th>\n",
       "      <th>x1_exp</th>\n",
       "      <th>x2_exp</th>\n",
       "      <th>x0_salt2</th>\n",
       "      <th>x1_salt2</th>\n",
       "      <th>c_salt2</th>\n",
       "    </tr>\n",
       "  </thead>\n",
       "  <tbody>\n",
       "    <tr>\n",
       "      <th>0</th>\n",
       "      <td>NaN</td>\n",
       "      <td>0.461973</td>\n",
       "      <td>-0.575618</td>\n",
       "      <td>-10.182429</td>\n",
       "      <td>-1.941286</td>\n",
       "      <td>0.0</td>\n",
       "    </tr>\n",
       "    <tr>\n",
       "      <th>1</th>\n",
       "      <td>28.764108</td>\n",
       "      <td>-140808.302077</td>\n",
       "      <td>278061.684072</td>\n",
       "      <td>-10.521916</td>\n",
       "      <td>-0.134080</td>\n",
       "      <td>0.0</td>\n",
       "    </tr>\n",
       "    <tr>\n",
       "      <th>2</th>\n",
       "      <td>NaN</td>\n",
       "      <td>0.280235</td>\n",
       "      <td>-0.215200</td>\n",
       "      <td>-10.242802</td>\n",
       "      <td>-0.566359</td>\n",
       "      <td>0.0</td>\n",
       "    </tr>\n",
       "    <tr>\n",
       "      <th>3</th>\n",
       "      <td>26.673514</td>\n",
       "      <td>-19589.070459</td>\n",
       "      <td>37863.645958</td>\n",
       "      <td>-10.467690</td>\n",
       "      <td>0.055918</td>\n",
       "      <td>0.0</td>\n",
       "    </tr>\n",
       "    <tr>\n",
       "      <th>4</th>\n",
       "      <td>NaN</td>\n",
       "      <td>0.351491</td>\n",
       "      <td>-0.283313</td>\n",
       "      <td>-10.270304</td>\n",
       "      <td>-1.598777</td>\n",
       "      <td>0.0</td>\n",
       "    </tr>\n",
       "  </tbody>\n",
       "</table>\n",
       "</div>"
      ],
      "text/plain": [
       "      x0_exp         x1_exp         x2_exp   x0_salt2  x1_salt2  c_salt2\n",
       "0        NaN       0.461973      -0.575618 -10.182429 -1.941286      0.0\n",
       "1  28.764108 -140808.302077  278061.684072 -10.521916 -0.134080      0.0\n",
       "2        NaN       0.280235      -0.215200 -10.242802 -0.566359      0.0\n",
       "3  26.673514  -19589.070459   37863.645958 -10.467690  0.055918      0.0\n",
       "4        NaN       0.351491      -0.283313 -10.270304 -1.598777      0.0"
      ]
     },
     "execution_count": 36,
     "metadata": {},
     "output_type": "execute_result"
    }
   ],
   "source": [
    "df = pd.DataFrame(data=np.zeros(shape=(len(PHOTOMETRY_DATASET_TEST), 6)), columns=[\"x0_exp\", \"x1_exp\", \"x2_exp\", \"x0_salt2\", \"x1_salt2\", \"c_salt2\"])\n",
    "for i in range(0, len(PHOTOMETRY_DATASET_TEST)):\n",
    "    x0_exp, x1_exp, x2_exp, x0_salt2, x1_salt2, c_salt2 = free_parameters(i)\n",
    "    df[\"x0_exp\"][i] = -2.5*np.log10(x0_exp)\n",
    "    df[\"x1_exp\"][i] = x1_exp\n",
    "    df[\"x2_exp\"][i] = x2_exp\n",
    "    df[\"x0_salt2\"][i] = -2.5*np.log10(x0_salt2)\n",
    "    df[\"x1_salt2\"][i] = x1_salt2\n",
    "    df[\"c_salt2\"][i] = c_salt2\n",
    "\n",
    "df.head()"
   ]
  },
  {
   "cell_type": "code",
   "execution_count": 37,
   "id": "65d7e7d8",
   "metadata": {},
   "outputs": [],
   "source": [
    "salt2_param_names = {\n",
    "    0:\"x0_salt2\",\n",
    "    1:\"x1_salt2\",\n",
    "    2:\"c_salt2\"\n",
    "}\n",
    "\n",
    "salt2_param_latex = {\n",
    "    0:\"$x_0$\",\n",
    "    1:\"$x_1$\",\n",
    "    2:\"$c$\"\n",
    "}\n",
    "\n",
    "exp_param_names = {\n",
    "    0:\"x0_exp\",\n",
    "    1:\"x1_exp\",\n",
    "    2:\"x2_exp\"\n",
    "}\n",
    "\n",
    "exp_param_latex = {\n",
    "    0:\"$x_0$\",\n",
    "    1:\"$x_1$\",\n",
    "    2:\"$x_2$\"\n",
    "}"
   ]
  },
  {
   "cell_type": "code",
   "execution_count": 38,
   "id": "4d355973",
   "metadata": {},
   "outputs": [
    {
     "name": "stderr",
     "output_type": "stream",
     "text": [
      "/usr/lib/python3/dist-packages/matplotlib/cbook/__init__.py:1402: FutureWarning: Support for multi-dimensional indexing (e.g. `obj[:, None]`) is deprecated and will be removed in a future version.  Convert to a numpy array before indexing instead.\n",
      "  ndim = x[:, None].ndim\n",
      "/usr/lib/python3/dist-packages/matplotlib/axes/_base.py:276: FutureWarning: Support for multi-dimensional indexing (e.g. `obj[:, None]`) is deprecated and will be removed in a future version.  Convert to a numpy array before indexing instead.\n",
      "  x = x[:, np.newaxis]\n",
      "/usr/lib/python3/dist-packages/matplotlib/axes/_base.py:278: FutureWarning: Support for multi-dimensional indexing (e.g. `obj[:, None]`) is deprecated and will be removed in a future version.  Convert to a numpy array before indexing instead.\n",
      "  y = y[:, np.newaxis]\n",
      "/home/joao/.local/lib/python3.8/site-packages/numpy/lib/function_base.py:2642: RuntimeWarning: invalid value encountered in true_divide\n",
      "  c /= stddev[:, None]\n",
      "/home/joao/.local/lib/python3.8/site-packages/numpy/lib/function_base.py:2643: RuntimeWarning: invalid value encountered in true_divide\n",
      "  c /= stddev[None, :]\n"
     ]
    },
    {
     "data": {
      "image/png": "[encoded data removed]",
      "text/plain": [
       "<Figure size 720x720 with 9 Axes>"
      ]
     },
     "metadata": {
      "needs_background": "light"
     },
     "output_type": "display_data"
    }
   ],
   "source": [
    "fig, ax = plt.subplots(ncols=3, nrows=3, figsize=(10,10))\n",
    "for i in range(3):\n",
    "    for j in range(3):\n",
    "        ax[i, j].plot(df[exp_param_names[i]], df[salt2_param_names[j]], 'k.', label=str(round(np.corrcoef(df[salt2_param_names[i]], df[exp_param_names[j]])[0][1]*100, 1)))\n",
    "        ax[i, j].annotate(\"ρ = \"+str(round(np.corrcoef(df[exp_param_names[i]], df[salt2_param_names[j]])[0][1]*100, 1)), xy=(0.9, .2), xycoords='axes fraction',\n",
    "                          size=14, ha='right', va='top',\n",
    "                          bbox=dict(boxstyle='round', fc='w'))\n",
    "        if j == 0:\n",
    "            ax[i, j].set_ylabel(exp_param_latex[i])\n",
    "        if i == 2:\n",
    "            ax[i, j].set_xlabel(salt2_param_latex[j])"
   ]
  },
  {
   "cell_type": "markdown",
   "id": "714434fb",
   "metadata": {},
   "source": [
    "## SALT2 x SNEMO2 (with c=0)"
   ]
  },
  {
   "cell_type": "code",
   "execution_count": 39,
   "id": "9d269a20",
   "metadata": {},
   "outputs": [
    {
     "data": {
      "text/html": [
       "<div>\n",
       "<style scoped>\n",
       "    .dataframe tbody tr th:only-of-type {\n",
       "        vertical-align: middle;\n",
       "    }\n",
       "\n",
       "    .dataframe tbody tr th {\n",
       "        vertical-align: top;\n",
       "    }\n",
       "\n",
       "    .dataframe thead th {\n",
       "        text-align: right;\n",
       "    }\n",
       "</style>\n",
       "<table border=\"1\" class=\"dataframe\">\n",
       "  <thead>\n",
       "    <tr style=\"text-align: right;\">\n",
       "      <th></th>\n",
       "      <th>time</th>\n",
       "      <th>wave</th>\n",
       "      <th>M0</th>\n",
       "      <th>M1</th>\n",
       "    </tr>\n",
       "  </thead>\n",
       "  <tbody>\n",
       "    <tr>\n",
       "      <th>0</th>\n",
       "      <td>-20.0</td>\n",
       "      <td>3305.0</td>\n",
       "      <td>0.0</td>\n",
       "      <td>0.0</td>\n",
       "    </tr>\n",
       "    <tr>\n",
       "      <th>1</th>\n",
       "      <td>-20.0</td>\n",
       "      <td>3317.0</td>\n",
       "      <td>0.0</td>\n",
       "      <td>0.0</td>\n",
       "    </tr>\n",
       "    <tr>\n",
       "      <th>2</th>\n",
       "      <td>-20.0</td>\n",
       "      <td>3328.0</td>\n",
       "      <td>0.0</td>\n",
       "      <td>0.0</td>\n",
       "    </tr>\n",
       "    <tr>\n",
       "      <th>3</th>\n",
       "      <td>-20.0</td>\n",
       "      <td>3339.0</td>\n",
       "      <td>0.0</td>\n",
       "      <td>0.0</td>\n",
       "    </tr>\n",
       "    <tr>\n",
       "      <th>4</th>\n",
       "      <td>-20.0</td>\n",
       "      <td>3350.0</td>\n",
       "      <td>0.0</td>\n",
       "      <td>0.0</td>\n",
       "    </tr>\n",
       "  </tbody>\n",
       "</table>\n",
       "</div>"
      ],
      "text/plain": [
       "   time    wave   M0   M1\n",
       "0 -20.0  3305.0  0.0  0.0\n",
       "1 -20.0  3317.0  0.0  0.0\n",
       "2 -20.0  3328.0  0.0  0.0\n",
       "3 -20.0  3339.0  0.0  0.0\n",
       "4 -20.0  3350.0  0.0  0.0"
      ]
     },
     "execution_count": 39,
     "metadata": {},
     "output_type": "execute_result"
    }
   ],
   "source": [
    "#SNEMO2 = pd.read_csv(\"/home/joao/Documents/Research/SNFACTORY_SNTRAIN/Templates/snemo2/snemo2_ev.dat\",\n",
    "SNEMO2 = pd.read_csv(\"./Templates/snemo2/snemo2_ev.dat\",\n",
    "                       sep=\"\\s+\",\n",
    "                       names=[\"time\", \"wave\", \"M0\", \"M1\"])\n",
    "SNEMO2.head()"
   ]
  },
  {
   "cell_type": "code",
   "execution_count": 40,
   "id": "952e11e5",
   "metadata": {},
   "outputs": [
    {
     "data": {
      "text/plain": [
       "array([-20., -10.,  -8.,  -6.,  -4.,  -2.,   0.,   2.,   4.,   6.,   8.,\n",
       "        10.,  12.,  14.,  16.,  18.,  20.,  22.,  24.,  26.,  28.,  30.,\n",
       "        32.,  34.,  36.,  38.,  40.,  42.,  44.,  46.,  60.])"
      ]
     },
     "execution_count": 40,
     "metadata": {},
     "output_type": "execute_result"
    }
   ],
   "source": [
    "SNEMO2[\"time\"].unique()"
   ]
  },
  {
   "cell_type": "code",
   "execution_count": 41,
   "id": "bc897e9e",
   "metadata": {},
   "outputs": [],
   "source": [
    "gridx_SNEMO = SNEMO2[\"time\"].unique()\n",
    "gridy_SNEMO= SNEMO2[\"wave\"].unique()\n",
    "\n",
    "M0_SNEMO2_reshape = np.array(SNEMO2[\"M0\"]).reshape(len(SNEMO2[\"time\"].unique()), len(SNEMO2[\"wave\"].unique()))\n",
    "M1_SNEMO2_reshape = np.array(SNEMO2[\"M1\"]).reshape(len(SNEMO2[\"time\"].unique()), len(SNEMO2[\"wave\"].unique()))"
   ]
  },
  {
   "cell_type": "code",
   "execution_count": 47,
   "id": "9988019d",
   "metadata": {},
   "outputs": [
    {
     "data": {
      "application/vnd.jupyter.widget-view+json": {
       "model_id": "62d5f1f7826b4226bcb90c4edc970022",
       "version_major": 2,
       "version_minor": 0
      },
      "text/plain": [
       "interactive(children=(Dropdown(description='Component:', options=(0, 1, 2, 3, 4, 5, 6, 7, 8, 9, 10, 11, 12, 13…"
      ]
     },
     "metadata": {},
     "output_type": "display_data"
    }
   ],
   "source": [
    "def update_graph(i):\n",
    "    \n",
    "    exp = EXP_LC(gridx_SNEMO, gridy_SNEMO, M0_SNEMO2_reshape, M1_SNEMO2_reshape, M2_reshape, M3_reshape, M4_reshape, M5_reshape, M6_reshape, M7_reshape, M8_reshape, M9_reshape, c, name='EXP')\n",
    "    model = sncosmo.Model(source=exp)\n",
    "\n",
    "    model.set(z=0.,\n",
    "              t0=0,\n",
    "              x2=0,\n",
    "              x3=0,\n",
    "              x4=0,\n",
    "              x5=0,\n",
    "              x6=0,\n",
    "              x7=0,\n",
    "              x8=0,\n",
    "              x9=0,\n",
    "              c=0)\n",
    "    \n",
    "    result_exp, model_exp = sncosmo.fit_lc(PHOTOMETRY_DATASET_TEST[i], model, ['x0', 'x1', 'x2'], modelcov=False)  # bounds on parameters (if any)\n",
    "    print(\"chi^2 minimum/dof (EXP): \", result_exp.chisq/result_exp.ndof)\n",
    "    model_salt2, result_salt2 = salt2_fit(PHOTOMETRY_DATASET_TEST[i]);\n",
    "    #print(result_salt2)\n",
    "    sncosmo.plot_lc(PHOTOMETRY_DATASET_TEST[i],\n",
    "                    model=[model_salt2, model_exp],\n",
    "                    errors=[result_salt2.errors, result_exp.errors],\n",
    "                    model_label=[\"SALT2\", \"SNEMO\"],\n",
    "                    color=\"k\")\n",
    "    #plt.savefig('SALT2_x_EXP_SN'+str(i)+'.pdf')\n",
    "    \n",
    "i = widgets.Dropdown(options=optionslist, value=0, description='Component:', disabled=False)\n",
    "widgets.interactive(update_graph,i = i)"
   ]
  },
  {
   "cell_type": "markdown",
   "id": "7750daef",
   "metadata": {},
   "source": [
    "# Finding corrrelations between EXP(3) x EXP10 model coefficients "
   ]
  },
  {
   "cell_type": "code",
   "execution_count": 43,
   "id": "9d421608",
   "metadata": {},
   "outputs": [],
   "source": [
    "def parametros_ajustes(ii):\n",
    "    \"\"\"\n",
    "    i:SN train index\n",
    "    \"\"\"   \n",
    "    exp10 = EXP_LC(gridx, gridy, M0_reshape, M1_reshape, M2_reshape, M3_reshape, M4_reshape, M5_reshape, M6_reshape, M7_reshape, M8_reshape, M9_reshape, c, name='EXP')\n",
    "    model10 = sncosmo.Model(source=exp10)\n",
    "\n",
    "    model10.set(z=0.,\n",
    "              t0=0,\n",
    "              c=0)\n",
    "\n",
    "    exp3 = EXP_LC(gridx, gridy, M0_reshape, M1_reshape, M2_reshape, M3_reshape, M4_reshape, M5_reshape, M6_reshape, M7_reshape, M8_reshape, M9_reshape, c, name='EXP')\n",
    "    model3 = sncosmo.Model(source=exp3)\n",
    "\n",
    "    model3.set(z=0.,\n",
    "              t0=0,\n",
    "              x4=0,\n",
    "              x5=0,\n",
    "              x6=0,\n",
    "              x7=0,\n",
    "              x8=0,\n",
    "              x9=0,\n",
    "              c=0)\n",
    "    \n",
    "    result_exp3, model_exp3 = sncosmo.fit_lc(PHOTOMETRY_DATASET_TEST[i], model3, ['x0', 'x1', 'x2', 'x3'], modelcov=False)  # bounds on parameters (if any)\n",
    "    \n",
    "    \n",
    "        \n",
    "    model3 = sncosmo.Model(source=exp3)\n",
    "    model10 = sncosmo.Model(source=exp10)\n",
    "\n",
    "    model3.set(z=0., t0=0)\n",
    "    model10.set(z=0., t0=0)\n",
    "    \n",
    "    result_exp3, model_exp3 = sncosmo.fit_lc(PHOTOMETRY_DATASET_TEST[i], model3, ['x0', 'x1', 'x2'], modelcov=False)\n",
    "    result_exp10, model_exp10 = sncosmo.fit_lc(PHOTOMETRY_DATASET_TEST[i], model10, ['x0', 'x1', 'x2', 'x3', 'x4', 'x5', 'x6', 'x7', 'x8', 'x9'], modelcov=False)\n",
    "\n",
    "    return result_exp3.parameters[2], result_exp3.parameters[3], result_exp3.parameters[4], result_exp10.parameters[2], result_exp10.parameters[3], result_exp10.parameters[4], result_exp10.parameters[5], result_exp10.parameters[6], result_exp10.parameters[7], result_exp10.parameters[8], result_exp10.parameters[9], result_exp10.parameters[10], result_exp10.parameters[11]"
   ]
  },
  {
   "cell_type": "code",
   "execution_count": 44,
   "id": "4fcc401a",
   "metadata": {},
   "outputs": [
    {
     "ename": "KeyboardInterrupt",
     "evalue": "",
     "output_type": "error",
     "traceback": [
      "\u001b[0;31m---------------------------------------------------------------------------\u001b[0m",
      "\u001b[0;31mKeyboardInterrupt\u001b[0m                         Traceback (most recent call last)",
      "\u001b[0;32m/tmp/ipykernel_27559/318513259.py\u001b[0m in \u001b[0;36m<module>\u001b[0;34m\u001b[0m\n\u001b[1;32m      1\u001b[0m \u001b[0mparam_ajuste\u001b[0m \u001b[0;34m=\u001b[0m \u001b[0mpd\u001b[0m\u001b[0;34m.\u001b[0m\u001b[0mDataFrame\u001b[0m\u001b[0;34m(\u001b[0m\u001b[0mdata\u001b[0m\u001b[0;34m=\u001b[0m\u001b[0mnp\u001b[0m\u001b[0;34m.\u001b[0m\u001b[0mzeros\u001b[0m\u001b[0;34m(\u001b[0m\u001b[0mshape\u001b[0m\u001b[0;34m=\u001b[0m\u001b[0;34m(\u001b[0m\u001b[0mlen\u001b[0m\u001b[0;34m(\u001b[0m\u001b[0mPHOTOMETRY_DATASET_TEST\u001b[0m\u001b[0;34m)\u001b[0m\u001b[0;34m,\u001b[0m \u001b[0;36m13\u001b[0m\u001b[0;34m)\u001b[0m\u001b[0;34m)\u001b[0m\u001b[0;34m,\u001b[0m \u001b[0mcolumns\u001b[0m\u001b[0;34m=\u001b[0m\u001b[0;34m[\u001b[0m\u001b[0;34m\"x0_exp3\"\u001b[0m\u001b[0;34m,\u001b[0m \u001b[0;34m\"x1_exp3\"\u001b[0m\u001b[0;34m,\u001b[0m \u001b[0;34m\"x2_exp3\"\u001b[0m\u001b[0;34m,\u001b[0m \u001b[0;34m\"x0_exp10\"\u001b[0m\u001b[0;34m,\u001b[0m \u001b[0;34m\"x1_exp10\"\u001b[0m\u001b[0;34m,\u001b[0m \u001b[0;34m\"x2_exp10\"\u001b[0m\u001b[0;34m,\u001b[0m \u001b[0;34m\"x3_exp10\"\u001b[0m\u001b[0;34m,\u001b[0m \u001b[0;34m\"x4_exp10\"\u001b[0m\u001b[0;34m,\u001b[0m \u001b[0;34m\"x5_exp10\"\u001b[0m\u001b[0;34m,\u001b[0m \u001b[0;34m\"x6_exp10\"\u001b[0m\u001b[0;34m,\u001b[0m \u001b[0;34m\"x7_exp10\"\u001b[0m\u001b[0;34m,\u001b[0m \u001b[0;34m\"x8_exp10\"\u001b[0m\u001b[0;34m,\u001b[0m \u001b[0;34m\"x9_exp10\"\u001b[0m\u001b[0;34m]\u001b[0m\u001b[0;34m)\u001b[0m\u001b[0;34m\u001b[0m\u001b[0;34m\u001b[0m\u001b[0m\n\u001b[1;32m      2\u001b[0m \u001b[0;32mfor\u001b[0m \u001b[0mi\u001b[0m \u001b[0;32min\u001b[0m \u001b[0mrange\u001b[0m\u001b[0;34m(\u001b[0m\u001b[0;36m0\u001b[0m\u001b[0;34m,\u001b[0m \u001b[0mlen\u001b[0m\u001b[0;34m(\u001b[0m\u001b[0mPHOTOMETRY_DATASET_TEST\u001b[0m\u001b[0;34m)\u001b[0m\u001b[0;34m)\u001b[0m\u001b[0;34m:\u001b[0m\u001b[0;34m\u001b[0m\u001b[0;34m\u001b[0m\u001b[0m\n\u001b[0;32m----> 3\u001b[0;31m     \u001b[0mx0_exp\u001b[0m\u001b[0;34m,\u001b[0m \u001b[0mx1_exp\u001b[0m\u001b[0;34m,\u001b[0m \u001b[0mx2_exp\u001b[0m\u001b[0;34m,\u001b[0m \u001b[0mx0_exp10\u001b[0m\u001b[0;34m,\u001b[0m \u001b[0mx1_exp10\u001b[0m\u001b[0;34m,\u001b[0m \u001b[0mx2_exp10\u001b[0m\u001b[0;34m,\u001b[0m \u001b[0mx3_exp10\u001b[0m\u001b[0;34m,\u001b[0m \u001b[0mx4_exp10\u001b[0m\u001b[0;34m,\u001b[0m \u001b[0mx5_exp10\u001b[0m\u001b[0;34m,\u001b[0m \u001b[0mx6_exp10\u001b[0m\u001b[0;34m,\u001b[0m \u001b[0mx7_exp10\u001b[0m\u001b[0;34m,\u001b[0m \u001b[0mx8_exp10\u001b[0m\u001b[0;34m,\u001b[0m \u001b[0mx9_exp10\u001b[0m  \u001b[0;34m=\u001b[0m \u001b[0mparametros_ajustes\u001b[0m\u001b[0;34m(\u001b[0m\u001b[0mi\u001b[0m\u001b[0;34m)\u001b[0m\u001b[0;34m\u001b[0m\u001b[0;34m\u001b[0m\u001b[0m\n\u001b[0m\u001b[1;32m      4\u001b[0m     \u001b[0;31m#param_ajuste[\"x0_exp3\"][i] = -2.5*np.log10(x0_exp)\u001b[0m\u001b[0;34m\u001b[0m\u001b[0;34m\u001b[0m\u001b[0;34m\u001b[0m\u001b[0m\n\u001b[1;32m      5\u001b[0m     \u001b[0mparam_ajuste\u001b[0m\u001b[0;34m[\u001b[0m\u001b[0;34m\"x0_exp3\"\u001b[0m\u001b[0;34m]\u001b[0m\u001b[0;34m[\u001b[0m\u001b[0mi\u001b[0m\u001b[0;34m]\u001b[0m \u001b[0;34m=\u001b[0m \u001b[0mx0_exp\u001b[0m\u001b[0;34m\u001b[0m\u001b[0;34m\u001b[0m\u001b[0m\n",
      "\u001b[0;32m/tmp/ipykernel_27559/2646984658.py\u001b[0m in \u001b[0;36mparametros_ajustes\u001b[0;34m(ii)\u001b[0m\n\u001b[1;32m     23\u001b[0m               c=0)\n\u001b[1;32m     24\u001b[0m \u001b[0;34m\u001b[0m\u001b[0m\n\u001b[0;32m---> 25\u001b[0;31m     \u001b[0mresult_exp3\u001b[0m\u001b[0;34m,\u001b[0m \u001b[0mmodel_exp3\u001b[0m \u001b[0;34m=\u001b[0m \u001b[0msncosmo\u001b[0m\u001b[0;34m.\u001b[0m\u001b[0mfit_lc\u001b[0m\u001b[0;34m(\u001b[0m\u001b[0mPHOTOMETRY_DATASET_TEST\u001b[0m\u001b[0;34m[\u001b[0m\u001b[0mi\u001b[0m\u001b[0;34m]\u001b[0m\u001b[0;34m,\u001b[0m \u001b[0mmodel3\u001b[0m\u001b[0;34m,\u001b[0m \u001b[0;34m[\u001b[0m\u001b[0;34m'x0'\u001b[0m\u001b[0;34m,\u001b[0m \u001b[0;34m'x1'\u001b[0m\u001b[0;34m,\u001b[0m \u001b[0;34m'x2'\u001b[0m\u001b[0;34m,\u001b[0m \u001b[0;34m'x3'\u001b[0m\u001b[0;34m]\u001b[0m\u001b[0;34m,\u001b[0m \u001b[0mmodelcov\u001b[0m\u001b[0;34m=\u001b[0m\u001b[0;32mFalse\u001b[0m\u001b[0;34m)\u001b[0m  \u001b[0;31m# bounds on parameters (if any)\u001b[0m\u001b[0;34m\u001b[0m\u001b[0;34m\u001b[0m\u001b[0m\n\u001b[0m\u001b[1;32m     26\u001b[0m \u001b[0;34m\u001b[0m\u001b[0m\n\u001b[1;32m     27\u001b[0m \u001b[0;34m\u001b[0m\u001b[0m\n",
      "\u001b[0;32m~/.local/lib/python3.8/site-packages/sncosmo/fitting.py\u001b[0m in \u001b[0;36mfit_lc\u001b[0;34m(data, model, vparam_names, bounds, spectra, method, guess_amplitude, guess_t0, guess_z, minsnr, modelcov, verbose, maxcall, phase_range, wave_range, warn)\u001b[0m\n\u001b[1;32m    730\u001b[0m                                   modelcov=False)\n\u001b[1;32m    731\u001b[0m \u001b[0;34m\u001b[0m\u001b[0m\n\u001b[0;32m--> 732\u001b[0;31m         m, fmin = _run_iminuit(fitchisq, model.param_names, start_values,\n\u001b[0m\u001b[1;32m    733\u001b[0m                                \u001b[0mstart_errors\u001b[0m\u001b[0;34m,\u001b[0m \u001b[0mbounds\u001b[0m\u001b[0;34m,\u001b[0m \u001b[0mfixed_parameters\u001b[0m\u001b[0;34m,\u001b[0m \u001b[0mmaxcall\u001b[0m\u001b[0;34m,\u001b[0m\u001b[0;34m\u001b[0m\u001b[0;34m\u001b[0m\u001b[0m\n\u001b[1;32m    734\u001b[0m                                verbose)\n",
      "\u001b[0;32m~/.local/lib/python3.8/site-packages/sncosmo/fitting.py\u001b[0m in \u001b[0;36m_run_iminuit\u001b[0;34m(chisq, parameter_names, start_values, start_errors, bounds, fixed_parameters, maxcall, verbose)\u001b[0m\n\u001b[1;32m    424\u001b[0m             \u001b[0mm\u001b[0m\u001b[0;34m.\u001b[0m\u001b[0merrors\u001b[0m\u001b[0;34m[\u001b[0m\u001b[0mkey\u001b[0m\u001b[0;34m]\u001b[0m \u001b[0;34m=\u001b[0m \u001b[0;36m0.\u001b[0m\u001b[0;34m\u001b[0m\u001b[0;34m\u001b[0m\u001b[0m\n\u001b[1;32m    425\u001b[0m \u001b[0;34m\u001b[0m\u001b[0m\n\u001b[0;32m--> 426\u001b[0;31m         \u001b[0mm\u001b[0m\u001b[0;34m.\u001b[0m\u001b[0mmigrad\u001b[0m\u001b[0;34m(\u001b[0m\u001b[0mncall\u001b[0m\u001b[0;34m=\u001b[0m\u001b[0mmaxcall\u001b[0m\u001b[0;34m)\u001b[0m\u001b[0;34m\u001b[0m\u001b[0;34m\u001b[0m\u001b[0m\n\u001b[0m\u001b[1;32m    427\u001b[0m         \u001b[0mfmin\u001b[0m \u001b[0;34m=\u001b[0m \u001b[0mm\u001b[0m\u001b[0;34m.\u001b[0m\u001b[0mfmin\u001b[0m\u001b[0;34m\u001b[0m\u001b[0;34m\u001b[0m\u001b[0m\n\u001b[1;32m    428\u001b[0m     \u001b[0;32melse\u001b[0m\u001b[0;34m:\u001b[0m\u001b[0;34m\u001b[0m\u001b[0;34m\u001b[0m\u001b[0m\n",
      "\u001b[0;32m~/.local/lib/python3.8/site-packages/iminuit/minuit.py\u001b[0m in \u001b[0;36mmigrad\u001b[0;34m(self, ncall, iterate)\u001b[0m\n\u001b[1;32m    681\u001b[0m             \u001b[0;32mif\u001b[0m \u001b[0mself\u001b[0m\u001b[0;34m.\u001b[0m\u001b[0m_precision\u001b[0m \u001b[0;32mis\u001b[0m \u001b[0;32mnot\u001b[0m \u001b[0;32mNone\u001b[0m\u001b[0;34m:\u001b[0m\u001b[0;34m\u001b[0m\u001b[0;34m\u001b[0m\u001b[0m\n\u001b[1;32m    682\u001b[0m                 \u001b[0mmigrad\u001b[0m\u001b[0;34m.\u001b[0m\u001b[0mprecision\u001b[0m \u001b[0;34m=\u001b[0m \u001b[0mself\u001b[0m\u001b[0;34m.\u001b[0m\u001b[0m_precision\u001b[0m\u001b[0;34m\u001b[0m\u001b[0;34m\u001b[0m\u001b[0m\n\u001b[0;32m--> 683\u001b[0;31m             \u001b[0mfm\u001b[0m \u001b[0;34m=\u001b[0m \u001b[0mmigrad\u001b[0m\u001b[0;34m(\u001b[0m\u001b[0mncall\u001b[0m\u001b[0;34m,\u001b[0m \u001b[0mself\u001b[0m\u001b[0;34m.\u001b[0m\u001b[0m_tolerance\u001b[0m\u001b[0;34m)\u001b[0m\u001b[0;34m\u001b[0m\u001b[0;34m\u001b[0m\u001b[0m\n\u001b[0m\u001b[1;32m    684\u001b[0m             \u001b[0;32mif\u001b[0m \u001b[0mfm\u001b[0m\u001b[0;34m.\u001b[0m\u001b[0mis_valid\u001b[0m \u001b[0;32mor\u001b[0m \u001b[0mfm\u001b[0m\u001b[0;34m.\u001b[0m\u001b[0mhas_reached_call_limit\u001b[0m\u001b[0;34m:\u001b[0m\u001b[0;34m\u001b[0m\u001b[0;34m\u001b[0m\u001b[0m\n\u001b[1;32m    685\u001b[0m                 \u001b[0;32mbreak\u001b[0m\u001b[0;34m\u001b[0m\u001b[0;34m\u001b[0m\u001b[0m\n",
      "\u001b[0;32m~/.local/lib/python3.8/site-packages/sncosmo/fitting.py\u001b[0m in \u001b[0;36mchisq\u001b[0;34m(*parameters)\u001b[0m\n\u001b[1;32m     56\u001b[0m \u001b[0;34m\u001b[0m\u001b[0m\n\u001b[1;32m     57\u001b[0m             \u001b[0;32mif\u001b[0m \u001b[0mdata\u001b[0m \u001b[0;32mis\u001b[0m \u001b[0;32mnot\u001b[0m \u001b[0;32mNone\u001b[0m\u001b[0;34m:\u001b[0m\u001b[0;34m\u001b[0m\u001b[0;34m\u001b[0m\u001b[0m\n\u001b[0;32m---> 58\u001b[0;31m                 model_flux = model.bandflux(data.band, data.time,\n\u001b[0m\u001b[1;32m     59\u001b[0m                                             zp=data.zp, zpsys=data.zpsys)\n\u001b[1;32m     60\u001b[0m                 \u001b[0mdiff\u001b[0m \u001b[0;34m=\u001b[0m \u001b[0mdata\u001b[0m\u001b[0;34m.\u001b[0m\u001b[0mflux\u001b[0m \u001b[0;34m-\u001b[0m \u001b[0mmodel_flux\u001b[0m\u001b[0;34m\u001b[0m\u001b[0;34m\u001b[0m\u001b[0m\n",
      "\u001b[0;32m~/.local/lib/python3.8/site-packages/sncosmo/models.py\u001b[0m in \u001b[0;36mbandflux\u001b[0;34m(self, band, time, zp, zpsys)\u001b[0m\n\u001b[1;32m   1670\u001b[0m \u001b[0;34m\u001b[0m\u001b[0m\n\u001b[1;32m   1671\u001b[0m         \u001b[0;32mtry\u001b[0m\u001b[0;34m:\u001b[0m\u001b[0;34m\u001b[0m\u001b[0;34m\u001b[0m\u001b[0m\n\u001b[0;32m-> 1672\u001b[0;31m             \u001b[0;32mreturn\u001b[0m \u001b[0m_bandflux\u001b[0m\u001b[0;34m(\u001b[0m\u001b[0mself\u001b[0m\u001b[0;34m,\u001b[0m \u001b[0mband\u001b[0m\u001b[0;34m,\u001b[0m \u001b[0mtime\u001b[0m\u001b[0;34m,\u001b[0m \u001b[0mzp\u001b[0m\u001b[0;34m,\u001b[0m \u001b[0mzpsys\u001b[0m\u001b[0;34m)\u001b[0m\u001b[0;34m\u001b[0m\u001b[0;34m\u001b[0m\u001b[0m\n\u001b[0m\u001b[1;32m   1673\u001b[0m         \u001b[0;32mexcept\u001b[0m \u001b[0mValueError\u001b[0m \u001b[0;32mas\u001b[0m \u001b[0me\u001b[0m\u001b[0;34m:\u001b[0m\u001b[0;34m\u001b[0m\u001b[0;34m\u001b[0m\u001b[0m\n\u001b[1;32m   1674\u001b[0m             \u001b[0m_check_for_fitpack_error\u001b[0m\u001b[0;34m(\u001b[0m\u001b[0me\u001b[0m\u001b[0;34m,\u001b[0m \u001b[0mtime\u001b[0m\u001b[0;34m,\u001b[0m \u001b[0;34m'time'\u001b[0m\u001b[0;34m)\u001b[0m\u001b[0;34m\u001b[0m\u001b[0;34m\u001b[0m\u001b[0m\n",
      "\u001b[0;32m~/.local/lib/python3.8/site-packages/sncosmo/models.py\u001b[0m in \u001b[0;36m_bandflux\u001b[0;34m(model, band, time_or_phase, zp, zpsys)\u001b[0m\n\u001b[1;32m    153\u001b[0m         \u001b[0mb\u001b[0m \u001b[0;34m=\u001b[0m \u001b[0mget_bandpass\u001b[0m\u001b[0;34m(\u001b[0m\u001b[0mb\u001b[0m\u001b[0;34m)\u001b[0m\u001b[0;34m\u001b[0m\u001b[0;34m\u001b[0m\u001b[0m\n\u001b[1;32m    154\u001b[0m \u001b[0;34m\u001b[0m\u001b[0m\n\u001b[0;32m--> 155\u001b[0;31m         \u001b[0mfsum\u001b[0m \u001b[0;34m=\u001b[0m \u001b[0m_bandflux_single\u001b[0m\u001b[0;34m(\u001b[0m\u001b[0mmodel\u001b[0m\u001b[0;34m,\u001b[0m \u001b[0mb\u001b[0m\u001b[0;34m,\u001b[0m \u001b[0mtime_or_phase\u001b[0m\u001b[0;34m[\u001b[0m\u001b[0mmask\u001b[0m\u001b[0;34m]\u001b[0m\u001b[0;34m)\u001b[0m\u001b[0;34m\u001b[0m\u001b[0;34m\u001b[0m\u001b[0m\n\u001b[0m\u001b[1;32m    156\u001b[0m \u001b[0;34m\u001b[0m\u001b[0m\n\u001b[1;32m    157\u001b[0m         \u001b[0;32mif\u001b[0m \u001b[0mzp\u001b[0m \u001b[0;32mis\u001b[0m \u001b[0;32mnot\u001b[0m \u001b[0;32mNone\u001b[0m\u001b[0;34m:\u001b[0m\u001b[0;34m\u001b[0m\u001b[0;34m\u001b[0m\u001b[0m\n",
      "\u001b[0;32m~/.local/lib/python3.8/site-packages/sncosmo/models.py\u001b[0m in \u001b[0;36m_bandflux_single\u001b[0;34m(model, band, time_or_phase)\u001b[0m\n\u001b[1;32m    115\u001b[0m                                    MODEL_BANDFLUX_SPACING)\n\u001b[1;32m    116\u001b[0m     \u001b[0mtrans\u001b[0m \u001b[0;34m=\u001b[0m \u001b[0mband\u001b[0m\u001b[0;34m(\u001b[0m\u001b[0mwave\u001b[0m\u001b[0;34m)\u001b[0m\u001b[0;34m\u001b[0m\u001b[0;34m\u001b[0m\u001b[0m\n\u001b[0;32m--> 117\u001b[0;31m     \u001b[0mf\u001b[0m \u001b[0;34m=\u001b[0m \u001b[0mmodel\u001b[0m\u001b[0;34m.\u001b[0m\u001b[0m_flux\u001b[0m\u001b[0;34m(\u001b[0m\u001b[0mtime_or_phase\u001b[0m\u001b[0;34m,\u001b[0m \u001b[0mwave\u001b[0m\u001b[0;34m)\u001b[0m\u001b[0;34m\u001b[0m\u001b[0;34m\u001b[0m\u001b[0m\n\u001b[0m\u001b[1;32m    118\u001b[0m \u001b[0;34m\u001b[0m\u001b[0m\n\u001b[1;32m    119\u001b[0m     \u001b[0;32mreturn\u001b[0m \u001b[0mnp\u001b[0m\u001b[0;34m.\u001b[0m\u001b[0msum\u001b[0m\u001b[0;34m(\u001b[0m\u001b[0mwave\u001b[0m \u001b[0;34m*\u001b[0m \u001b[0mtrans\u001b[0m \u001b[0;34m*\u001b[0m \u001b[0mf\u001b[0m\u001b[0;34m,\u001b[0m \u001b[0maxis\u001b[0m\u001b[0;34m=\u001b[0m\u001b[0;36m1\u001b[0m\u001b[0;34m)\u001b[0m \u001b[0;34m*\u001b[0m \u001b[0mdwave\u001b[0m \u001b[0;34m/\u001b[0m \u001b[0mHC_ERG_AA\u001b[0m\u001b[0;34m\u001b[0m\u001b[0;34m\u001b[0m\u001b[0m\n",
      "\u001b[0;32m~/.local/lib/python3.8/site-packages/sncosmo/models.py\u001b[0m in \u001b[0;36m_flux\u001b[0;34m(self, time, wave)\u001b[0m\n\u001b[1;32m   1545\u001b[0m         \u001b[0;31m# Note that below we multiply by the scale factor to conserve\u001b[0m\u001b[0;34m\u001b[0m\u001b[0;34m\u001b[0m\u001b[0;34m\u001b[0m\u001b[0m\n\u001b[1;32m   1546\u001b[0m         \u001b[0;31m# bolometric luminosity.\u001b[0m\u001b[0;34m\u001b[0m\u001b[0;34m\u001b[0m\u001b[0;34m\u001b[0m\u001b[0m\n\u001b[0;32m-> 1547\u001b[0;31m         \u001b[0mf\u001b[0m \u001b[0;34m=\u001b[0m \u001b[0ma\u001b[0m \u001b[0;34m*\u001b[0m \u001b[0mself\u001b[0m\u001b[0;34m.\u001b[0m\u001b[0m_source\u001b[0m\u001b[0;34m.\u001b[0m\u001b[0m_flux\u001b[0m\u001b[0;34m(\u001b[0m\u001b[0mphase\u001b[0m\u001b[0;34m,\u001b[0m \u001b[0mrestwave\u001b[0m\u001b[0;34m)\u001b[0m\u001b[0;34m\u001b[0m\u001b[0;34m\u001b[0m\u001b[0m\n\u001b[0m\u001b[1;32m   1548\u001b[0m \u001b[0;34m\u001b[0m\u001b[0m\n\u001b[1;32m   1549\u001b[0m         \u001b[0;31m# Pass the flux through the PropagationEffects.\u001b[0m\u001b[0;34m\u001b[0m\u001b[0;34m\u001b[0m\u001b[0;34m\u001b[0m\u001b[0m\n",
      "\u001b[0;32m/tmp/ipykernel_27559/1540321521.py\u001b[0m in \u001b[0;36m_flux\u001b[0;34m(self, phase, wave)\u001b[0m\n\u001b[1;32m     35\u001b[0m         \u001b[0mx0\u001b[0m\u001b[0;34m,\u001b[0m \u001b[0mx1\u001b[0m\u001b[0;34m,\u001b[0m \u001b[0mx2\u001b[0m\u001b[0;34m,\u001b[0m \u001b[0mx3\u001b[0m\u001b[0;34m,\u001b[0m \u001b[0mx4\u001b[0m\u001b[0;34m,\u001b[0m \u001b[0mx5\u001b[0m\u001b[0;34m,\u001b[0m \u001b[0mx6\u001b[0m\u001b[0;34m,\u001b[0m \u001b[0mx7\u001b[0m\u001b[0;34m,\u001b[0m \u001b[0mx8\u001b[0m\u001b[0;34m,\u001b[0m \u001b[0mx9\u001b[0m\u001b[0;34m,\u001b[0m \u001b[0mc\u001b[0m \u001b[0;34m=\u001b[0m \u001b[0mself\u001b[0m\u001b[0;34m.\u001b[0m\u001b[0m_parameters\u001b[0m\u001b[0;34m\u001b[0m\u001b[0;34m\u001b[0m\u001b[0m\n\u001b[1;32m     36\u001b[0m         \u001b[0;31m#print('flux!')\u001b[0m\u001b[0;34m\u001b[0m\u001b[0;34m\u001b[0m\u001b[0;34m\u001b[0m\u001b[0m\n\u001b[0;32m---> 37\u001b[0;31m         \u001b[0;32mreturn\u001b[0m \u001b[0mx0\u001b[0m \u001b[0;34m*\u001b[0m \u001b[0;34m(\u001b[0m\u001b[0mself\u001b[0m\u001b[0;34m.\u001b[0m\u001b[0m_model_flux0\u001b[0m\u001b[0;34m(\u001b[0m\u001b[0mphase\u001b[0m\u001b[0;34m,\u001b[0m \u001b[0mwave\u001b[0m\u001b[0;34m)\u001b[0m \u001b[0;34m+\u001b[0m  \u001b[0mx1\u001b[0m \u001b[0;34m*\u001b[0m \u001b[0mself\u001b[0m\u001b[0;34m.\u001b[0m\u001b[0m_model_flux1\u001b[0m\u001b[0;34m(\u001b[0m\u001b[0mphase\u001b[0m\u001b[0;34m,\u001b[0m \u001b[0mwave\u001b[0m\u001b[0;34m)\u001b[0m \u001b[0;34m+\u001b[0m  \u001b[0mx2\u001b[0m \u001b[0;34m*\u001b[0m \u001b[0mself\u001b[0m\u001b[0;34m.\u001b[0m\u001b[0m_model_flux2\u001b[0m\u001b[0;34m(\u001b[0m\u001b[0mphase\u001b[0m\u001b[0;34m,\u001b[0m \u001b[0mwave\u001b[0m\u001b[0;34m)\u001b[0m \u001b[0;34m+\u001b[0m  \u001b[0mx3\u001b[0m \u001b[0;34m*\u001b[0m \u001b[0mself\u001b[0m\u001b[0;34m.\u001b[0m\u001b[0m_model_flux3\u001b[0m\u001b[0;34m(\u001b[0m\u001b[0mphase\u001b[0m\u001b[0;34m,\u001b[0m \u001b[0mwave\u001b[0m\u001b[0;34m)\u001b[0m \u001b[0;34m+\u001b[0m  \u001b[0mx4\u001b[0m \u001b[0;34m*\u001b[0m \u001b[0mself\u001b[0m\u001b[0;34m.\u001b[0m\u001b[0m_model_flux4\u001b[0m\u001b[0;34m(\u001b[0m\u001b[0mphase\u001b[0m\u001b[0;34m,\u001b[0m \u001b[0mwave\u001b[0m\u001b[0;34m)\u001b[0m  \u001b[0;34m+\u001b[0m  \u001b[0mx5\u001b[0m \u001b[0;34m*\u001b[0m \u001b[0mself\u001b[0m\u001b[0;34m.\u001b[0m\u001b[0m_model_flux5\u001b[0m\u001b[0;34m(\u001b[0m\u001b[0mphase\u001b[0m\u001b[0;34m,\u001b[0m \u001b[0mwave\u001b[0m\u001b[0;34m)\u001b[0m \u001b[0;34m+\u001b[0m  \u001b[0mx6\u001b[0m \u001b[0;34m*\u001b[0m \u001b[0mself\u001b[0m\u001b[0;34m.\u001b[0m\u001b[0m_model_flux6\u001b[0m\u001b[0;34m(\u001b[0m\u001b[0mphase\u001b[0m\u001b[0;34m,\u001b[0m \u001b[0mwave\u001b[0m\u001b[0;34m)\u001b[0m \u001b[0;34m+\u001b[0m  \u001b[0mx7\u001b[0m \u001b[0;34m*\u001b[0m \u001b[0mself\u001b[0m\u001b[0;34m.\u001b[0m\u001b[0m_model_flux7\u001b[0m\u001b[0;34m(\u001b[0m\u001b[0mphase\u001b[0m\u001b[0;34m,\u001b[0m \u001b[0mwave\u001b[0m\u001b[0;34m)\u001b[0m \u001b[0;34m+\u001b[0m  \u001b[0mx8\u001b[0m \u001b[0;34m*\u001b[0m \u001b[0mself\u001b[0m\u001b[0;34m.\u001b[0m\u001b[0m_model_flux8\u001b[0m\u001b[0;34m(\u001b[0m\u001b[0mphase\u001b[0m\u001b[0;34m,\u001b[0m \u001b[0mwave\u001b[0m\u001b[0;34m)\u001b[0m \u001b[0;34m+\u001b[0m  \u001b[0mx9\u001b[0m \u001b[0;34m*\u001b[0m \u001b[0mself\u001b[0m\u001b[0;34m.\u001b[0m\u001b[0m_model_flux9\u001b[0m\u001b[0;34m(\u001b[0m\u001b[0mphase\u001b[0m\u001b[0;34m,\u001b[0m \u001b[0mwave\u001b[0m\u001b[0;34m)\u001b[0m\u001b[0;34m)\u001b[0m\u001b[0;34m*\u001b[0m \u001b[0;36m10.\u001b[0m\u001b[0;34m**\u001b[0m \u001b[0;34m(\u001b[0m\u001b[0;34m-\u001b[0m\u001b[0;36m0.4\u001b[0m \u001b[0;34m*\u001b[0m \u001b[0mself\u001b[0m\u001b[0;34m.\u001b[0m\u001b[0m_model_ext\u001b[0m\u001b[0;34m(\u001b[0m\u001b[0mwave\u001b[0m\u001b[0;34m)\u001b[0m \u001b[0;34m*\u001b[0m \u001b[0mc\u001b[0m\u001b[0;34m)\u001b[0m\u001b[0;34m\u001b[0m\u001b[0;34m\u001b[0m\u001b[0m\n\u001b[0m",
      "\u001b[0;31mKeyboardInterrupt\u001b[0m: "
     ]
    }
   ],
   "source": [
    "param_ajuste = pd.DataFrame(data=np.zeros(shape=(len(PHOTOMETRY_DATASET_TEST), 13)), columns=[\"x0_exp3\", \"x1_exp3\", \"x2_exp3\", \"x0_exp10\", \"x1_exp10\", \"x2_exp10\", \"x3_exp10\", \"x4_exp10\", \"x5_exp10\", \"x6_exp10\", \"x7_exp10\", \"x8_exp10\", \"x9_exp10\"])\n",
    "for i in range(0, len(PHOTOMETRY_DATASET_TEST)):\n",
    "    x0_exp, x1_exp, x2_exp, x0_exp10, x1_exp10, x2_exp10, x3_exp10, x4_exp10, x5_exp10, x6_exp10, x7_exp10, x8_exp10, x9_exp10  = parametros_ajustes(i)\n",
    "    #param_ajuste[\"x0_exp3\"][i] = -2.5*np.log10(x0_exp)\n",
    "    param_ajuste[\"x0_exp3\"][i] = x0_exp\n",
    "    param_ajuste[\"x1_exp3\"][i] = x1_exp\n",
    "    param_ajuste[\"x2_exp3\"][i] = x2_exp\n",
    "    #param_ajuste[\"x0_exp10\"][i] = -2.5*np.log10(x0_exp10)\n",
    "    param_ajuste[\"x0_exp10\"][i] = x0_exp10\n",
    "    param_ajuste[\"x1_exp10\"][i] = x1_exp10\n",
    "    param_ajuste[\"x2_exp10\"][i] = x2_exp10\n",
    "    param_ajuste[\"x3_exp10\"][i] = x3_exp10\n",
    "    param_ajuste[\"x4_exp10\"][i] = x4_exp10\n",
    "    param_ajuste[\"x5_exp10\"][i] = x5_exp10\n",
    "    param_ajuste[\"x6_exp10\"][i] = x6_exp10\n",
    "    param_ajuste[\"x7_exp10\"][i] = x7_exp10\n",
    "    param_ajuste[\"x8_exp10\"][i] = x8_exp10\n",
    "    param_ajuste[\"x9_exp10\"][i] = x9_exp10\n",
    "\n",
    "param_ajuste.head()"
   ]
  },
  {
   "cell_type": "code",
   "execution_count": null,
   "id": "70d0d2b7",
   "metadata": {},
   "outputs": [],
   "source": [
    "exp3_param_names = {\n",
    "    0:\"x0_exp3\",\n",
    "    1:\"x1_exp3\",\n",
    "    2:\"x2_exp3\"\n",
    "}\n",
    "\n",
    "exp3_param_latex = {\n",
    "    0:\"$x_0$\",\n",
    "    1:\"$x_1$\",\n",
    "    2:\"$x_2$\"\n",
    "}\n",
    "exp10_param_names = {\n",
    "    0:\"x0_exp10\",\n",
    "    1:\"x1_exp10\",\n",
    "    2:\"x2_exp10\",\n",
    "    3:\"x3_exp10\",\n",
    "    4:\"x4_exp10\",\n",
    "    5:\"x5_exp10\",\n",
    "    6:\"x6_exp10\",\n",
    "    7:\"x7_exp10\",\n",
    "    8:\"x8_exp10\",\n",
    "    9:\"x9_exp10\"\n",
    "}\n",
    "\n",
    "exp10_param_latex = {\n",
    "    0:\"$x_0$\",\n",
    "    1:\"$x_1$\",\n",
    "    2:\"$x_2$\",\n",
    "    3:\"$x_3$\",\n",
    "    4:\"$x_4$\",\n",
    "    5:\"$x_5$\",\n",
    "    6:\"$x_6$\",\n",
    "    7:\"$x_7$\",\n",
    "    8:\"$x_8$\",\n",
    "    9:\"$x_9$\"\n",
    "}"
   ]
  },
  {
   "cell_type": "code",
   "execution_count": null,
   "id": "3ba9c0fa",
   "metadata": {
    "scrolled": false
   },
   "outputs": [],
   "source": [
    "fig, ax = plt.subplots(ncols=3, nrows=10, figsize=(12,36))\n",
    "for i in range(10):\n",
    "    for j in range(3):\n",
    "        ax[i, j].plot(param_ajuste[exp10_param_names[i]], param_ajuste[exp3_param_names[j]], 'k.')#, label=str(round(np.corrcoef(df[salt2_param_names[i]], df[exp_param_names[j]])[0][1]*100, 1)))\n",
    "        ax[i, j].annotate(\"ρ = \"+str(round(np.corrcoef(param_ajuste[exp10_param_names[i]], param_ajuste[exp3_param_names[j]])[0][1]*100, 1)), xy=(0.9, .2), xycoords='axes fraction',\n",
    "                          size=14, ha='right', va='top',\n",
    "                          bbox=dict(boxstyle='round', fc='w'))\n",
    "        if j == 0:\n",
    "            ax[i, j].set_ylabel(exp10_param_latex[i])\n",
    "        if i == 9:\n",
    "            ax[i, j].set_xlabel(exp3_param_latex[j])\n",
    "plt.savefig('correlation.pdf')"
   ]
  },
  {
   "cell_type": "code",
   "execution_count": null,
   "id": "3baa8f11",
   "metadata": {},
   "outputs": [],
   "source": [
    "correlation_matrix=pd.DataFrame(data=np.zeros(shape=(10, 3)), index=[\"x0_exp10\", \"x1_exp10\", \"x2_exp10\", \"x3_exp10\", \"x4_exp10\", \"x5_exp10\", \"x6_exp10\", \"x7_exp10\", \"x8_exp10\", \"x9_exp10\"],columns=[\"x0_exp3\",\"x1_exp3\",\"x2_exp3\"])\n",
    "for i in range(10):\n",
    "    for j in range(3):\n",
    "        correlation_matrix[exp3_param_names[j]][exp10_param_names[i]]=round(np.corrcoef(param_ajuste[exp10_param_names[i]], param_ajuste[exp3_param_names[j]])[0][1], 4)"
   ]
  },
  {
   "cell_type": "code",
   "execution_count": null,
   "id": "434be835",
   "metadata": {},
   "outputs": [],
   "source": [
    "correlation_matrix"
   ]
  },
  {
   "cell_type": "code",
   "execution_count": null,
   "id": "654022e8",
   "metadata": {},
   "outputs": [],
   "source": [
    "new_M0=np.zeros(shape=M0_reshape.shape)\n",
    "new_M1=np.zeros(shape=M1_reshape.shape)\n",
    "new_M2=np.zeros(shape=M2_reshape.shape)\n",
    "M=[M0_reshape,M1_reshape,M2_reshape,M3_reshape,M4_reshape,M5_reshape,M6_reshape,M7_reshape,M8_reshape,M9_reshape]\n",
    "for i in range(10):\n",
    "    new_M0+=M[i]*correlation_matrix[\"x0_exp3\"][exp10_param_names[i]]\n",
    "    new_M1+=M[i]*correlation_matrix[\"x1_exp3\"][exp10_param_names[i]]\n",
    "    new_M2+=M[i]*correlation_matrix[\"x2_exp3\"][exp10_param_names[i]]"
   ]
  },
  {
   "cell_type": "markdown",
   "id": "62a11b3b",
   "metadata": {},
   "source": [
    "## SALT2 x New EXP(3)"
   ]
  },
  {
   "cell_type": "code",
   "execution_count": null,
   "id": "ccc19f1f",
   "metadata": {},
   "outputs": [],
   "source": [
    "def update_graph(i):\n",
    "    \n",
    "    exp = EXP_LC(gridx, gridy, new_M0, new_M1, new_M2, M3_reshape, M4_reshape, M5_reshape, M6_reshape, M7_reshape, M8_reshape, M9_reshape, c, name='EXP')\n",
    "    model = sncosmo.Model(source=exp)\n",
    "\n",
    "    model.set(z=0.,\n",
    "              t0=0,\n",
    "              x3=0,\n",
    "              x4=0,\n",
    "              x5=0,\n",
    "              x6=0,\n",
    "              x7=0,\n",
    "              x8=0,\n",
    "              x9=0,\n",
    "              c=0)\n",
    "    \n",
    "    result_exp, model_exp = sncosmo.fit_lc(PHOTOMETRY_DATASET_TEST[i], model, ['x0', 'x1', 'x2'], modelcov=False)  # bounds on parameters (if any)\n",
    "    print(\"chi^2 minimum/dof (EXP): \", result_exp.chisq/result_exp.ndof)\n",
    "    model_salt2, result_salt2 = salt2_fit(PHOTOMETRY_DATASET_TEST[i]);\n",
    "    #print(result_salt2)\n",
    "    sncosmo.plot_lc(PHOTOMETRY_DATASET_TEST[i],\n",
    "                    model=[model_salt2, model_exp],\n",
    "                    errors=[result_salt2.errors, result_exp.errors],\n",
    "                    model_label=[\"SALT2\", \"EXP\"],\n",
    "                    color=\"k\")\n",
    "    #plt.savefig('SALT2_x_EXP_SN'+str(i)+'.pdf')\n",
    "    \n",
    "i = widgets.Dropdown(options=optionslist, value=0, description='Component:', disabled=False)\n",
    "widgets.interactive(update_graph,i = i)"
   ]
  },
  {
   "cell_type": "markdown",
   "id": "dcec67bb",
   "metadata": {},
   "source": [
    "## New EXP(3) x EXP10"
   ]
  },
  {
   "cell_type": "code",
   "execution_count": null,
   "id": "45b3d660",
   "metadata": {},
   "outputs": [],
   "source": [
    "def update_graph(i):\n",
    "    \n",
    "    exp3 = EXP_LC(gridx, gridy, new_M0, new_M1, new_M2, M3_reshape, M4_reshape, M5_reshape, M6_reshape, M7_reshape, M8_reshape, M9_reshape, c, name='EXP')\n",
    "    model3 = sncosmo.Model(source=exp3)\n",
    "\n",
    "    model3.set(z=0.,\n",
    "              t0=0,\n",
    "              x4=0,\n",
    "              x5=0,\n",
    "              x6=0,\n",
    "              x7=0,\n",
    "              x8=0,\n",
    "              x9=0,\n",
    "              c=0)\n",
    "    \n",
    "    result_exp3, model_exp3 = sncosmo.fit_lc(PHOTOMETRY_DATASET_TEST[i], model3, ['x0', 'x1', 'x2', 'x3'], modelcov=False)  # bounds on parameters (if any)\n",
    "    \n",
    "    \n",
    "\n",
    "    exp10 = EXP_LC(gridx, gridy, M0_reshape, M1_reshape, M2_reshape, M3_reshape, M4_reshape, M5_reshape, M6_reshape, M7_reshape, M8_reshape, M9_reshape, c, name='EXP')\n",
    "    model10 = sncosmo.Model(source=exp10)\n",
    "\n",
    "    model10.set(z=0.,\n",
    "              t0=0,\n",
    "              c=0)\n",
    "    \n",
    "    result_exp10, model_exp10 = sncosmo.fit_lc(PHOTOMETRY_DATASET_TEST[i], model10, ['x0', 'x1', 'x2', 'x3', 'x4', 'x5', 'x6', 'x7', 'x8', 'x9'], modelcov=False)  # bounds on parameters (if any)\n",
    "    \n",
    "    #print(result_exp10.keys())\n",
    "    \n",
    "    sncosmo.plot_lc(PHOTOMETRY_DATASET_TEST[i],\n",
    "                    model=[model_exp3, model_exp10],\n",
    "                    errors=[result_exp3.errors, result_exp10.errors],\n",
    "                    model_label=[\"EXP(3)\", \"EXP10\"],\n",
    "                    color=\"k\")\n",
    "    \n",
    "    #plt.savefig('EXP_x_EXP10_SN'+str(i)+'.pdf')\n",
    "    \n",
    "i = widgets.Dropdown(options=optionslist, value=0, description='Component:', disabled=False)\n",
    "widgets.interactive(update_graph,i = i)"
   ]
  },
  {
   "cell_type": "markdown",
   "id": "80053cc2",
   "metadata": {},
   "source": [
    "## New EXP(3) x Old EXP(3)"
   ]
  },
  {
   "cell_type": "code",
   "execution_count": null,
   "id": "0a948e9f",
   "metadata": {},
   "outputs": [],
   "source": [
    "def update_graph(i):\n",
    "    \n",
    "    exp3_new = EXP_LC(gridx, gridy, new_M0, new_M1, new_M2, M3_reshape, M4_reshape, M5_reshape, M6_reshape, M7_reshape, M8_reshape, M9_reshape, c, name='EXP')\n",
    "    model3_new = sncosmo.Model(source=exp3_new)\n",
    "\n",
    "    model3_new.set(z=0.,\n",
    "              t0=0,\n",
    "              x4=0,\n",
    "              x5=0,\n",
    "              x6=0,\n",
    "              x7=0,\n",
    "              x8=0,\n",
    "              x9=0,\n",
    "              c=0)\n",
    "    \n",
    "    result_exp3_new, model_exp3_new = sncosmo.fit_lc(PHOTOMETRY_DATASET_TEST[i], model3_new, ['x0', 'x1', 'x2', 'x3'], modelcov=False)  # bounds on parameters (if any)\n",
    "    \n",
    "    \n",
    "\n",
    "    exp3 = EXP_LC(gridx, gridy, M0_reshape, M1_reshape, M2_reshape, M3_reshape, M4_reshape, M5_reshape, M6_reshape, M7_reshape, M8_reshape, M9_reshape, c, name='EXP')\n",
    "    model3 = sncosmo.Model(source=exp3)\n",
    "\n",
    "    model3.set(z=0.,\n",
    "              t0=0,\n",
    "              x4=0,\n",
    "              x5=0,\n",
    "              x6=0,\n",
    "              x7=0,\n",
    "              x8=0,\n",
    "              x9=0,\n",
    "              c=0)\n",
    "    \n",
    "    result_exp3, model_exp3 = sncosmo.fit_lc(PHOTOMETRY_DATASET_TEST[i], model3, ['x0', 'x1', 'x2', 'x3'], modelcov=False)  # bounds on parameters (if any)\n",
    "    \n",
    "    #print(result_exp10.keys())\n",
    "    \n",
    "    sncosmo.plot_lc(PHOTOMETRY_DATASET_TEST[i],\n",
    "                    model=[model_exp3_new, model_exp3],\n",
    "                    errors=[result_exp3_new.errors, result_exp3.errors],\n",
    "                    model_label=[\"New EXP(3)\", \"Old EXP3\"],\n",
    "                    color=\"k\")\n",
    "    \n",
    "    #plt.savefig('EXP_x_EXP10_SN'+str(i)+'.pdf')\n",
    "    \n",
    "i = widgets.Dropdown(options=optionslist, value=0, description='Component:', disabled=False)\n",
    "widgets.interactive(update_graph,i = i)"
   ]
  },
  {
   "cell_type": "code",
   "execution_count": null,
   "id": "95e4f6f6",
   "metadata": {},
   "outputs": [],
   "source": [
    "new_M0-M0_reshape"
   ]
  },
  {
   "cell_type": "markdown",
   "id": "16dd6848",
   "metadata": {},
   "source": [
    "## Variance convergency"
   ]
  },
  {
   "cell_type": "code",
   "execution_count": null,
   "id": "3e1b9b38",
   "metadata": {},
   "outputs": [],
   "source": [
    "len(TRAIN_DATASET)"
   ]
  },
  {
   "cell_type": "code",
   "execution_count": null,
   "id": "c430b28f",
   "metadata": {},
   "outputs": [],
   "source": [
    "N_COMPONENTS = np.linspace(10, 112, 50, dtype=int)"
   ]
  },
  {
   "cell_type": "code",
   "execution_count": null,
   "id": "aece9706",
   "metadata": {},
   "outputs": [],
   "source": [
    "N_training = []\n",
    "for i in range(0, len(N_COMPONENTS)):\n",
    "    N_training.append(np.array(random.sample(range(0,112), N_COMPONENTS[i])))"
   ]
  },
  {
   "cell_type": "code",
   "execution_count": null,
   "id": "3e46ea40",
   "metadata": {},
   "outputs": [],
   "source": [
    "variances = []\n",
    "templates = []"
   ]
  },
  {
   "cell_type": "code",
   "execution_count": null,
   "id": "5e1af562",
   "metadata": {},
   "outputs": [],
   "source": [
    "for i in range(0, len(N_COMPONENTS)):\n",
    "    new_dataset = []\n",
    "    for j in range(0, len(N_training[i])):\n",
    "        for k in range(0, len(TRAIN_DATASET)):\n",
    "            if k==int(N_training[i][j]):\n",
    "                new_dataset.append(np.array(TRAIN_DATASET[k]))\n",
    "                \n",
    "    temporary_pca=PCA_FIT(new_dataset, N_comp=10)\n",
    "    variances.append(temporary_pca.explained_variance_ratio_[0]+temporary_pca.explained_variance_ratio_[1]+temporary_pca.explained_variance_ratio_[2])\n",
    "    templates.append([temporary_pca.components_[0], temporary_pca.components_[1], temporary_pca.components_[2], temporary_pca.components_[3], temporary_pca.components_[4], temporary_pca.components_[5], temporary_pca.components_[6], temporary_pca.components_[7], temporary_pca.components_[8], temporary_pca.components_[9]])"
   ]
  },
  {
   "cell_type": "code",
   "execution_count": null,
   "id": "4080928d",
   "metadata": {},
   "outputs": [],
   "source": [
    "plt.plot(N_COMPONENTS, variances, 'k-')\n",
    "plt.xlabel(\"# of training data\")\n",
    "plt.ylabel(\"variance %\");"
   ]
  },
  {
   "cell_type": "code",
   "execution_count": null,
   "id": "45c85bb8",
   "metadata": {},
   "outputs": [],
   "source": [
    "for i in range(0, len(templates)):\n",
    "    for j in range(0, len(templates[i])):\n",
    "        templates[i][j] = (templates[i][j].reshape(501, 61).T).reshape(1, len(templates[i][j]))"
   ]
  },
  {
   "cell_type": "code",
   "execution_count": null,
   "id": "ea350398",
   "metadata": {
    "scrolled": true
   },
   "outputs": [],
   "source": [
    "mean_chisq = []\n",
    "for i in range(0, len(templates)):\n",
    "    print(\"-----------------\", i, \"-----------------\")\n",
    "    chisq = []\n",
    "    for j in range(0, len(PHOTOMETRY_DATASET_TEST)):\n",
    "        \n",
    "        comp0_reshape = np.array(templates[i][0]).reshape(61, 501) \n",
    "        comp1_reshape = np.array(templates[i][1]).reshape(61, 501)\n",
    "        comp2_reshape = np.array(templates[i][2]).reshape(61, 501)\n",
    "        comp3_reshape = np.array(templates[i][3]).reshape(61, 501)\n",
    "        comp4_reshape = np.array(templates[i][4]).reshape(61, 501)\n",
    "        comp5_reshape = np.array(templates[i][5]).reshape(61, 501)\n",
    "        comp6_reshape = np.array(templates[i][6]).reshape(61, 501)\n",
    "        comp7_reshape = np.array(templates[i][7]).reshape(61, 501)\n",
    "        comp8_reshape = np.array(templates[i][8]).reshape(61, 501)\n",
    "        comp9_reshape = np.array(templates[i][9]).reshape(61, 501)\n",
    "\n",
    "        exp = EXP_LC(gridx, gridy, comp0_reshape, comp1_reshape, comp2_reshape, comp3_reshape, comp4_reshape, comp5_reshape, comp6_reshape, comp7_reshape, comp8_reshape, comp9_reshape, c, name='EXP')\n",
    "        model = sncosmo.Model(source=exp)\n",
    "\n",
    "        model.set(z=0.,\n",
    "              t0=0,\n",
    "              x3=0,\n",
    "              x4=0,\n",
    "              x5=0,\n",
    "              x6=0,\n",
    "              x7=0,\n",
    "              x8=0,\n",
    "              x9=0,\n",
    "              c=0)\n",
    "\n",
    "        result_exp, model_exp = sncosmo.fit_lc(PHOTOMETRY_DATASET_TEST[j], model, ['x0', 'x1', 'x2'], modelcov=False)  # bounds on parameters (if any)\n",
    "        if result_exp.chisq/result_exp.ndof < 10:\n",
    "            print(result_exp.chisq/result_exp.ndof)\n",
    "            chisq.append(result_exp.chisq/result_exp.ndof)   \n",
    "    mean_chisq.append(np.mean(chisq))"
   ]
  },
  {
   "cell_type": "code",
   "execution_count": null,
   "id": "d21c0681",
   "metadata": {
    "scrolled": true
   },
   "outputs": [],
   "source": [
    "mean_chisq"
   ]
  },
  {
   "cell_type": "code",
   "execution_count": null,
   "id": "30767f5f",
   "metadata": {},
   "outputs": [],
   "source": [
    "plt.plot(N_COMPONENTS, mean_chisq, 'k-')\n",
    "plt.xlabel(\"chi²/dof\")\n",
    "plt.ylabel(\"variance %\");"
   ]
  },
  {
   "cell_type": "code",
   "execution_count": null,
   "id": "a39340e4",
   "metadata": {},
   "outputs": [],
   "source": []
  }
 ],
 "metadata": {
  "kernelspec": {
   "display_name": "Python 3 (ipykernel)",
   "language": "python",
   "name": "python3"
  },
  "language_info": {
   "codemirror_mode": {
    "name": "ipython",
    "version": 3
   },
   "file_extension": ".py",
   "mimetype": "text/x-python",
   "name": "python",
   "nbconvert_exporter": "python",
   "pygments_lexer": "ipython3",
   "version": "3.8.10"
  }
 },
 "nbformat": 4,
 "nbformat_minor": 5
}
