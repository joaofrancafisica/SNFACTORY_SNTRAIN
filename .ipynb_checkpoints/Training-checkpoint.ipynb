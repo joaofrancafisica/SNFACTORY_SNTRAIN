{
 "cells": [
  {
   "cell_type": "code",
   "execution_count": 51,
   "metadata": {},
   "outputs": [],
   "source": [
    "import matplotlib.pyplot as plt\n",
    "import numpy as np\n",
    "import pandas as pd\n",
    "#from os import listdir\n",
    "import glob\n",
    "import sncosmo\n",
    "from ipywidgets import *\n",
    "from scipy import signal\n",
    "from sklearn.model_selection import train_test_split\n",
    "from sklearn.gaussian_process import GaussianProcessRegressor\n",
    "from sklearn.gaussian_process.kernels import RBF, WhiteKernel\n",
    "from scipy.interpolate import (\n",
    "    InterpolatedUnivariateSpline as Spline1d,\n",
    "    RectBivariateSpline as Spline2d\n",
    ")\n",
    "from sklearn.decomposition import PCA, FactorAnalysis\n",
    "from sklearn.model_selection import cross_val_score\n",
    "from warnings import filterwarnings\n",
    "filterwarnings('ignore')\n",
    "\n",
    "from tabulate import tabulate #to export in table format\n",
    "%matplotlib inline"
   ]
  },
  {
   "cell_type": "code",
   "execution_count": 2,
   "metadata": {},
   "outputs": [],
   "source": [
    "kernel = 0.5 * (RBF(length_scale=3, length_scale_bounds=(1, 30)) + WhiteKernel(noise_level=0.1, noise_level_bounds=(1e-5,0.5)))"
   ]
  },
  {
   "cell_type": "markdown",
   "metadata": {},
   "source": [
    "# Read the files"
   ]
  },
  {
   "cell_type": "code",
   "execution_count": 3,
   "metadata": {},
   "outputs": [
    {
     "name": "stdout",
     "output_type": "stream",
     "text": [
      "Total files in path:  2466\n"
     ]
    }
   ],
   "source": [
    "# file data paths\n",
    "data_path = \"./data/sp/\"\n",
    "file_names = glob.glob(data_path+\"*.dat\")\n",
    "for i in range(0, len(file_names)):\n",
    "    file_names[i] = file_names[i][10:]\n",
    "print(\"Total files in path: \", len(file_names))"
   ]
  },
  {
   "cell_type": "code",
   "execution_count": 4,
   "metadata": {},
   "outputs": [
    {
     "data": {
      "text/html": [
       "<div>\n",
       "<style scoped>\n",
       "    .dataframe tbody tr th:only-of-type {\n",
       "        vertical-align: middle;\n",
       "    }\n",
       "\n",
       "    .dataframe tbody tr th {\n",
       "        vertical-align: top;\n",
       "    }\n",
       "\n",
       "    .dataframe thead th {\n",
       "        text-align: right;\n",
       "    }\n",
       "</style>\n",
       "<table border=\"1\" class=\"dataframe\">\n",
       "  <thead>\n",
       "    <tr style=\"text-align: right;\">\n",
       "      <th></th>\n",
       "      <th>name</th>\n",
       "      <th>phase</th>\n",
       "      <th>file_name</th>\n",
       "    </tr>\n",
       "  </thead>\n",
       "  <tbody>\n",
       "    <tr>\n",
       "      <th>0</th>\n",
       "      <td>Test_SN0</td>\n",
       "      <td>-8.154</td>\n",
       "      <td>Test_SN0_0.dat</td>\n",
       "    </tr>\n",
       "    <tr>\n",
       "      <th>1</th>\n",
       "      <td>Test_SN0</td>\n",
       "      <td>-3.522</td>\n",
       "      <td>Test_SN0_1.dat</td>\n",
       "    </tr>\n",
       "    <tr>\n",
       "      <th>2</th>\n",
       "      <td>Test_SN0</td>\n",
       "      <td>17.959</td>\n",
       "      <td>Test_SN0_10.dat</td>\n",
       "    </tr>\n",
       "    <tr>\n",
       "      <th>3</th>\n",
       "      <td>Test_SN0</td>\n",
       "      <td>19.801</td>\n",
       "      <td>Test_SN0_11.dat</td>\n",
       "    </tr>\n",
       "    <tr>\n",
       "      <th>4</th>\n",
       "      <td>Test_SN0</td>\n",
       "      <td>19.816</td>\n",
       "      <td>Test_SN0_12.dat</td>\n",
       "    </tr>\n",
       "  </tbody>\n",
       "</table>\n",
       "</div>"
      ],
      "text/plain": [
       "       name   phase        file_name\n",
       "0  Test_SN0  -8.154   Test_SN0_0.dat\n",
       "1  Test_SN0  -3.522   Test_SN0_1.dat\n",
       "2  Test_SN0  17.959  Test_SN0_10.dat\n",
       "3  Test_SN0  19.801  Test_SN0_11.dat\n",
       "4  Test_SN0  19.816  Test_SN0_12.dat"
      ]
     },
     "execution_count": 4,
     "metadata": {},
     "output_type": "execute_result"
    }
   ],
   "source": [
    "# auxiliar file \n",
    "sn_names = pd.read_csv(\"./data/list.dat\",\n",
    "                       header=None,\n",
    "                       sep=\"\\s+\",\n",
    "                       names=[\"name\", \"phase\", \"file_name\"])\n",
    "sn_names.head()"
   ]
  },
  {
   "cell_type": "code",
   "execution_count": 5,
   "metadata": {},
   "outputs": [
    {
     "name": "stdout",
     "output_type": "stream",
     "text": [
      "Total number of sn files:  171\n"
     ]
    }
   ],
   "source": [
    "names = sn_names[\"name\"].unique()\n",
    "print(\"Total number of sn files: \", len(names))"
   ]
  },
  {
   "cell_type": "markdown",
   "metadata": {},
   "source": [
    "# Training sample and simple graphs"
   ]
  },
  {
   "cell_type": "code",
   "execution_count": 6,
   "metadata": {},
   "outputs": [
    {
     "data": {
      "application/vnd.jupyter.widget-view+json": {
       "model_id": "15041b5e5631468c9b524e418905a0ec",
       "version_major": 2,
       "version_minor": 0
      },
      "text/plain": [
       "Dropdown(description='SN name:', options=('Test_SN0', 'Test_SN10', 'Test_SN11', 'Test_SN12', 'Test_SN13', 'Tes…"
      ]
     },
     "metadata": {},
     "output_type": "display_data"
    }
   ],
   "source": [
    "w = widgets.Dropdown(\n",
    "    options=names,\n",
    "    value=names[0],\n",
    "    description='SN name:',\n",
    "    disabled=False,\n",
    ")\n",
    "display(w)"
   ]
  },
  {
   "cell_type": "code",
   "execution_count": 7,
   "metadata": {},
   "outputs": [],
   "source": [
    "sn_spectra = glob.glob(data_path + w.value + \"*.dat\")"
   ]
  },
  {
   "cell_type": "code",
   "execution_count": 8,
   "metadata": {
    "scrolled": true
   },
   "outputs": [],
   "source": [
    "def spectra(i=0, plot=True):\n",
    "    \"\"\"\n",
    "    function that returns the wavelenght, the flux and the flux error for a matplotlib graph or whatever spectra\n",
    "    \n",
    "    i = index of the element\n",
    "    returns the wavelength, flux and flux error\n",
    "    \"\"\"\n",
    "    if plot == True:\n",
    "        data = sncosmo.read_lc(sn_spectra[i], format=\"salt2\")\n",
    "        return data[\"WAVE\"], data[\"SN_SPEC\"], data[\"SN_ERR\"]\n",
    "    else:\n",
    "        data = sncosmo.read_lc(data_path+file_names[i], format=\"salt2\")\n",
    "        return data[\"WAVE\"], data[\"SN_SPEC\"], data[\"SN_ERR\"]\n"
   ]
  },
  {
   "cell_type": "markdown",
   "metadata": {},
   "source": [
    "## Spectra"
   ]
  },
  {
   "cell_type": "code",
   "execution_count": 9,
   "metadata": {},
   "outputs": [
    {
     "data": {
      "application/vnd.jupyter.widget-view+json": {
       "model_id": "dfc457a2851d4d7289b1bdeec30943ed",
       "version_major": 2,
       "version_minor": 0
      },
      "text/plain": [
       "interactive(children=(Dropdown(description='Index: ', options=(0, 1, 2, 3, 4, 5, 6, 7, 8, 9, 10, 11, 12, 13, 1…"
      ]
     },
     "metadata": {},
     "output_type": "display_data"
    }
   ],
   "source": [
    "# option list for jupyter lab widgets\n",
    "optionslist = []\n",
    "for i in range(0, len(sn_spectra)):\n",
    "    optionslist.append(i)\n",
    "\n",
    "def update_graph(i):\n",
    "    \"\"\"\n",
    "    void function that updates a matplotlib graph\n",
    "    \"\"\"\n",
    "    wave, flux, fluxe = spectra(i)\n",
    "    plt.xlabel(\"$\\lambda$  ($\\AA$)\")\n",
    "    plt.ylabel(\"flux (erg/s/cm^2^/{AA} * random offset)\")\n",
    "    plt.plot(wave, flux, \"k\")\n",
    "    \n",
    "i = widgets.Dropdown(options=optionslist, value=0, description='Index: ', disabled=False)\n",
    "\n",
    "widgets.interactive(update_graph,i=i) # to activate the interactive widget"
   ]
  },
  {
   "cell_type": "markdown",
   "metadata": {},
   "source": [
    "## Monochromatic light curves"
   ]
  },
  {
   "cell_type": "code",
   "execution_count": 10,
   "metadata": {},
   "outputs": [],
   "source": [
    "wave_number = 7000\n",
    "\n",
    "time_lc = []\n",
    "flux_lc = []\n",
    "\n",
    "for i in range(0, len(sn_spectra)):\n",
    "    wave, flux, fluxe = spectra(i)\n",
    "    flux_lc.append(Spline1d(wave, flux,  k=1)(wave_number))\n",
    "    time_lc.append(sn_names[\"phase\"][sn_names[\"file_name\"] == str(sn_spectra[i][10:])])"
   ]
  },
  {
   "cell_type": "code",
   "execution_count": 11,
   "metadata": {},
   "outputs": [
    {
     "data": {
      "image/png": "[encoded data removed]",
      "text/plain": [
       "<Figure size 432x288 with 1 Axes>"
      ]
     },
     "metadata": {
      "needs_background": "light"
     },
     "output_type": "display_data"
    }
   ],
   "source": [
    "plt.plot(time_lc, flux_lc, \"k.\")\n",
    "plt.xlabel(\"time (days)\")\n",
    "plt.ylabel(\"flux (erg/s/cm^2^/{AA} * random offset)\");"
   ]
  },
  {
   "cell_type": "markdown",
   "metadata": {},
   "source": [
    "## Training grid"
   ]
  },
  {
   "cell_type": "code",
   "execution_count": 12,
   "metadata": {},
   "outputs": [
    {
     "data": {
      "text/plain": [
       "'\\nfor i in range(0, len(file_names)):\\n    wave = spectra(i, plot=False)[0]\\n    phase = sn_names[\"phase\"][sn_names[\"file_name\"] == str(file_names[i])]\\n    plt.plot([phase,phase], [np.min(wave),np.max(wave)], \\'k\\', linewidth=1)\\n    plt.xlabel(\"time (days)\")\\n    plt.ylabel(\"$\\\\lambda$ ($\\\\AA$)\")\\n    plt.xlim(-10, 50)\\n    plt.ylim(3500, 8500)\\n'"
      ]
     },
     "execution_count": 12,
     "metadata": {},
     "output_type": "execute_result"
    }
   ],
   "source": [
    "\"\"\"\n",
    "for i in range(0, len(file_names)):\n",
    "    wave = spectra(i, plot=False)[0]\n",
    "    phase = sn_names[\"phase\"][sn_names[\"file_name\"] == str(file_names[i])]\n",
    "    plt.plot([phase,phase], [np.min(wave),np.max(wave)], 'k', linewidth=1)\n",
    "    plt.xlabel(\"time (days)\")\n",
    "    plt.ylabel(\"$\\lambda$ ($\\AA$)\")\n",
    "    plt.xlim(-10, 50)\n",
    "    plt.ylim(3500, 8500)\n",
    "\"\"\""
   ]
  },
  {
   "cell_type": "code",
   "execution_count": 13,
   "metadata": {},
   "outputs": [
    {
     "name": "stdout",
     "output_type": "stream",
     "text": [
      "time grid limits:  -10 ,  50\n",
      "wavelenght grid limits:  3500 ,  8500\n"
     ]
    }
   ],
   "source": [
    "## Defining the grid\n",
    "X_GRID = np.linspace(-10, 50, 61, dtype=int)\n",
    "Y_GRID = np.linspace(3500, 8500, 501, dtype=int)\n",
    "\n",
    "# Grid limits\n",
    "print(\"time grid limits: \", np.min(X_GRID), \", \", np.max(X_GRID))\n",
    "print(\"wavelenght grid limits: \", np.min(Y_GRID), \", \", np.max(Y_GRID))"
   ]
  },
  {
   "cell_type": "code",
   "execution_count": 14,
   "metadata": {},
   "outputs": [
    {
     "name": "stdout",
     "output_type": "stream",
     "text": [
      "136 35\n"
     ]
    }
   ],
   "source": [
    "# split our data into a training and test dataset\n",
    "np.random.seed(42)\n",
    "sn_train, sn_test = train_test_split(names, test_size=0.2)\n",
    "print(len(sn_train), len(sn_test))"
   ]
  },
  {
   "cell_type": "code",
   "execution_count": 40,
   "metadata": {},
   "outputs": [],
   "source": [
    "def gaussian_process(wave, flux, error=True):\n",
    "    \"\"\"\n",
    "    function that performs a gaussian process in a dataset of monochromatic light curves\n",
    "    wave: Python list that gives the wavelenghts\n",
    "    flux: np array that gives the flux\n",
    "    error: binary variable to return or not the covariance in gaussian process regression\n",
    "    \n",
    "    return the corresponding gaussian process on data\n",
    "    \"\"\"\n",
    "    # set the gaussian process regressor\n",
    "    gp = GaussianProcessRegressor(kernel=kernel, alpha=0.0).fit(wave, flux)\n",
    "    if error==True:\n",
    "        return gp.predict(X_GRID[:, np.newaxis], return_cov=True) # return mean and covariance\n",
    "    else:\n",
    "        return gp.predict(X_GRID[:, np.newaxis], return_cov=False) # return only mean     \n"
   ]
  },
  {
   "cell_type": "code",
   "execution_count": 16,
   "metadata": {},
   "outputs": [],
   "source": [
    "def prepare_data_to_GP(wave):\n",
    "    \"\"\"\n",
    "    function that convert a np array into a Python list for a gaussian process regression in SK-Learn\n",
    "    wave: np array that gives the wavelenghts\n",
    "    \n",
    "    return the wavelenght in a correct format\n",
    "    \"\"\"\n",
    "    temp_wave = [] # a new python list\n",
    "    for ii in range(0, len(wave)):\n",
    "        temp_wave.append([wave[ii]]) # correct SK-Learn format\n",
    "    return temp_wave"
   ]
  },
  {
   "cell_type": "code",
   "execution_count": 17,
   "metadata": {},
   "outputs": [],
   "source": [
    "def spectra_train(n_file):\n",
    "    \"\"\"\n",
    "    function that returns the wavelenght, the flux and the flux error for a matplotlib graph or whatever spectra\n",
    "    \n",
    "    n_file: file name\n",
    "    returns the wavelength, flux and flux error\n",
    "    \"\"\"\n",
    "    data = sncosmo.read_lc(n_file, format=\"salt2\")\n",
    "    return data[\"WAVE\"], data[\"SN_SPEC\"], data[\"SN_ERR\"]"
   ]
  },
  {
   "cell_type": "code",
   "execution_count": 18,
   "metadata": {},
   "outputs": [],
   "source": [
    "SPEC_TRAIN_FUN = []\n",
    "SPEC_TRAIN_TIME = []\n",
    "SPEC_TRAIN_MINMAX = []\n",
    "for i in range(0, len(sn_train)):\n",
    "    SPEC_TRAIN_FUN.append([]) # for spectra function\n",
    "    SPEC_TRAIN_TIME.append([]) # for spectra time\n",
    "    SPEC_TRAIN_MINMAX.append([]) # for min max spectra (in wavelenghts)"
   ]
  },
  {
   "cell_type": "code",
   "execution_count": 19,
   "metadata": {},
   "outputs": [],
   "source": [
    "for i in range(0, len(sn_train)):\n",
    "    sn_train_spectra = glob.glob(data_path + sn_train[i] + \"_*.dat\")\n",
    "    for j in range(0, len(sn_train_spectra)):\n",
    "        wave, flux, eflux = spectra_train(sn_train_spectra[j]) # to get wave, flux and flux error\n",
    "        Nyquist_frequecy=int(len(wave)-1)/2\n",
    "        cutoff=20 #angstroms\n",
    "        #print(cutoff/Nyquist_frequecy)\n",
    "        b, a = signal.butter(8, cutoff/Nyquist_frequecy, analog=False)\n",
    "        filtered_flux=signal.filtfilt(b, a, flux, padlen=0)\n",
    "        SPEC_TRAIN_FUN[i].append(Spline1d(wave, filtered_flux)) # to register the corresponding function\n",
    "        SPEC_TRAIN_TIME[i].append(float(sn_names[\"phase\"][sn_names[\"file_name\"] == str(sn_train_spectra[j][10:])])) # to regirster the corresponding spectra time\n",
    "        SPEC_TRAIN_MINMAX[i].append([float(np.min(wave)), float(np.max(wave))]) # to register min and max wavelength that function is available"
   ]
  },
  {
   "cell_type": "code",
   "execution_count": 27,
   "metadata": {},
   "outputs": [],
   "source": [
    "SPEC_GRID = []\n",
    "for i in range(0, len(sn_train)):\n",
    "    SPEC_GRID.append([]) # loop for each supernovae in trainingfrom scipy import signal"
   ]
  },
  {
   "cell_type": "code",
   "execution_count": 28,
   "metadata": {},
   "outputs": [],
   "source": [
    "for i in range(0, len(SPEC_GRID)):\n",
    "    for j in range(0, len(Y_GRID)):\n",
    "        SPEC_GRID[i].append([[], []]) # for each supernovae and for each wavelengh we fill with time and flux lists\n",
    "#SPEC_GRID[0][1][0]  # first sn, second wave list order, time or flux"
   ]
  },
  {
   "cell_type": "code",
   "execution_count": 44,
   "metadata": {
    "scrolled": true
   },
   "outputs": [
    {
     "name": "stdout",
     "output_type": "stream",
     "text": [
      "1 / 136\n",
      "2 / 136\n",
      "3 / 136\n",
      "4 / 136\n",
      "5 / 136"
     ]
    },
    {
     "name": "stderr",
     "output_type": "stream",
     "text": [
      "<ipython-input-44-a723f1e3694a>:7: DeprecationWarning: `np.float` is a deprecated alias for the builtin `float`. To silence this warning, use `float` by itself. Doing this will not modify any behavior and is safe. If you specifically wanted the numpy scalar type, use `np.float64` here.\n",
      "Deprecated in NumPy 1.20; for more details and guidance: https://numpy.org/devdocs/release/1.20.0-notes.html#deprecations\n",
      "  SPEC_GRID[i][j][1].append(np.float(SPEC_TRAIN_FUN[i][k](Y_GRID[j]))) # flux\n"
     ]
    },
    {
     "name": "stdout",
     "output_type": "stream",
     "text": [
      "\n",
      "6 / 136\n",
      "7 / 136\n",
      "8 / 136\n",
      "9 / 136\n",
      "10 / 136\n",
      "11 / 136\n",
      "12 / 136\n",
      "13 / 136\n",
      "14 / 136\n",
      "15 / 136\n",
      "16 / 136\n",
      "17 / 136\n",
      "18 / 136\n",
      "19 / 136\n",
      "20 / 136\n",
      "21 / 136\n",
      "22 / 136\n",
      "23 / 136\n",
      "24 / 136\n",
      "25 / 136\n",
      "26 / 136\n",
      "27 / 136\n",
      "28 / 136\n",
      "29 / 136\n",
      "30 / 136\n",
      "31 / 136\n",
      "32 / 136\n",
      "33 / 136\n",
      "34 / 136\n",
      "35 / 136\n",
      "36 / 136\n",
      "37 / 136\n",
      "38 / 136\n",
      "39 / 136\n",
      "40 / 136\n",
      "41 / 136\n",
      "42 / 136\n",
      "43 / 136\n",
      "44 / 136\n",
      "45 / 136\n",
      "46 / 136\n",
      "47 / 136\n",
      "48 / 136\n",
      "49 / 136\n",
      "50 / 136\n",
      "51 / 136\n",
      "52 / 136\n",
      "53 / 136\n",
      "54 / 136\n",
      "55 / 136\n",
      "56 / 136\n",
      "57 / 136\n",
      "58 / 136\n",
      "59 / 136\n",
      "60 / 136\n",
      "61 / 136\n",
      "62 / 136\n",
      "63 / 136\n",
      "64 / 136\n",
      "65 / 136\n",
      "66 / 136\n",
      "67 / 136\n",
      "68 / 136\n",
      "69 / 136\n",
      "70 / 136\n",
      "71 / 136\n",
      "72 / 136\n",
      "73 / 136\n",
      "74 / 136\n",
      "75 / 136\n",
      "76 / 136\n",
      "77 / 136\n",
      "78 / 136\n",
      "79 / 136\n",
      "80 / 136\n",
      "81 / 136\n",
      "82 / 136\n",
      "83 / 136\n",
      "84 / 136\n",
      "85 / 136\n",
      "86 / 136\n",
      "87 / 136\n",
      "88 / 136\n",
      "89 / 136\n",
      "90 / 136\n",
      "91 / 136\n",
      "92 / 136\n",
      "93 / 136\n",
      "94 / 136\n",
      "95 / 136\n",
      "96 / 136\n",
      "97 / 136\n",
      "98 / 136\n",
      "99 / 136\n",
      "100 / 136\n",
      "101 / 136\n",
      "102 / 136\n",
      "103 / 136\n",
      "104 / 136\n",
      "105 / 136\n",
      "106 / 136\n",
      "107 / 136\n",
      "108 / 136\n",
      "109 / 136\n",
      "110 / 136\n",
      "111 / 136\n",
      "112 / 136\n",
      "113 / 136\n",
      "114 / 136\n",
      "115 / 136\n",
      "116 / 136\n",
      "117 / 136\n",
      "118 / 136\n",
      "119 / 136\n",
      "120 / 136\n",
      "121 / 136\n",
      "122 / 136\n",
      "123 / 136\n",
      "124 / 136\n",
      "125 / 136\n",
      "126 / 136\n",
      "127 / 136\n",
      "128 / 136\n",
      "129 / 136\n",
      "130 / 136\n",
      "131 / 136\n",
      "132 / 136\n",
      "133 / 136\n",
      "134 / 136\n",
      "135 / 136\n",
      "136 / 136\n"
     ]
    }
   ],
   "source": [
    "for i in range(0, len(sn_train)): # sn train index\n",
    "    print(i+1, \"/\", len(sn_train))\n",
    "    for j in range(0, len(Y_GRID)): #  grid index\n",
    "        for k in range(0, len(SPEC_TRAIN_FUN[i])): #func index\n",
    "            if SPEC_TRAIN_MINMAX[i][k][0] < Y_GRID[j] < SPEC_TRAIN_MINMAX[i][k][1]: # if it's inside the bounds\n",
    "                SPEC_GRID[i][j][0].append([SPEC_TRAIN_TIME[i][k]]) # time\n",
    "                SPEC_GRID[i][j][1].append(np.float(SPEC_TRAIN_FUN[i][k](Y_GRID[j]))) # flux"
   ]
  },
  {
   "cell_type": "code",
   "execution_count": 45,
   "metadata": {},
   "outputs": [
    {
     "data": {
      "text/plain": [
       "'\\nNsn = 30\\nNspec = 100\\nTIME_TEMP = SPEC_GRID[Nsn][Nspec][0]\\nFLUX_TEMP = SPEC_GRID[Nsn][Nspec][1]\\n\\ngp = GaussianProcessRegressor(kernel=kernel, alpha=0.0).fit(TIME_TEMP, FLUX_TEMP)\\ny_mean, y_cov = gp.predict(X_GRID[:, np.newaxis], return_cov=True) \\n\\nplt.plot(X_GRID, y_mean, \\'k\\', lw=3, zorder=9)\\nplt.fill_between(X_GRID, y_mean - np.sqrt(np.diag(y_cov)), y_mean + np.sqrt(np.diag(y_cov)), alpha=0.5, color=\\'k\\')\\nplt.scatter(TIME_TEMP, FLUX_TEMP, c=\\'r\\', s=50, zorder=10, edgecolors=(0, 0, 0))\\nplt.xlabel(\"time (days)\")\\nplt.ylabel(\"flux (a.u)\")\\n'"
      ]
     },
     "execution_count": 45,
     "metadata": {},
     "output_type": "execute_result"
    }
   ],
   "source": [
    "\"\"\"\n",
    "Nsn = 30\n",
    "Nspec = 100\n",
    "TIME_TEMP = SPEC_GRID[Nsn][Nspec][0]\n",
    "FLUX_TEMP = SPEC_GRID[Nsn][Nspec][1]\n",
    "\n",
    "gp = GaussianProcessRegressor(kernel=kernel, alpha=0.0).fit(TIME_TEMP, FLUX_TEMP)\n",
    "y_mean, y_cov = gp.predict(X_GRID[:, np.newaxis], return_cov=True) \n",
    "\n",
    "plt.plot(X_GRID, y_mean, 'k', lw=3, zorder=9)\n",
    "plt.fill_between(X_GRID, y_mean - np.sqrt(np.diag(y_cov)), y_mean + np.sqrt(np.diag(y_cov)), alpha=0.5, color='k')\n",
    "plt.scatter(TIME_TEMP, FLUX_TEMP, c='r', s=50, zorder=10, edgecolors=(0, 0, 0))\n",
    "plt.xlabel(\"time (days)\")\n",
    "plt.ylabel(\"flux (a.u)\")\n",
    "\"\"\""
   ]
  },
  {
   "cell_type": "code",
   "execution_count": 46,
   "metadata": {},
   "outputs": [],
   "source": [
    "data_NSPEC_CUT = 7 # minimum number of spectra\n",
    "data_NWAVE_CUT = 200 # wavelengh in a commom grid\n",
    "SN_TRAIN = []\n",
    "SN_TRAIN_ERROR = []\n",
    "for i in range(0, len(sn_train)):\n",
    "        SN_TRAIN.append([])\n",
    "        SN_TRAIN_ERROR.append([])"
   ]
  },
  {
   "cell_type": "code",
   "execution_count": null,
   "metadata": {
    "scrolled": true
   },
   "outputs": [
    {
     "name": "stdout",
     "output_type": "stream",
     "text": [
      "1 / 136\n",
      "2 / 136\n",
      "3 / 136\n",
      "4 / 136\n",
      "5 / 136\n",
      "6 / 136\n",
      "7 / 136\n",
      "8 / 136\n",
      "9 / 136\n",
      "10 / 136\n",
      "11 / 136\n",
      "12 / 136\n",
      "13 / 136\n",
      "14 / 136\n",
      "15 / 136\n",
      "16 / 136\n",
      "17 / 136\n",
      "18 / 136\n",
      "19 / 136\n",
      "20 / 136\n",
      "21 / 136\n",
      "22 / 136\n",
      "23 / 136\n",
      "24 / 136\n",
      "25 / 136\n",
      "26 / 136\n",
      "27 / 136\n",
      "28 / 136\n",
      "29 / 136\n",
      "30 / 136\n",
      "31 / 136\n",
      "32 / 136\n",
      "33 / 136\n",
      "34 / 136\n",
      "35 / 136\n",
      "36 / 136\n",
      "37 / 136\n",
      "38 / 136\n",
      "39 / 136\n",
      "40 / 136\n",
      "41 / 136\n",
      "42 / 136\n",
      "43 / 136\n",
      "44 / 136\n",
      "45 / 136\n",
      "46 / 136\n",
      "47 / 136\n",
      "48 / 136\n",
      "49 / 136\n",
      "50 / 136\n",
      "51 / 136\n",
      "52 / 136\n",
      "53 / 136\n",
      "54 / 136\n",
      "55 / 136\n",
      "56 / 136\n",
      "57 / 136\n",
      "58 / 136\n",
      "59 / 136\n",
      "60 / 136\n",
      "61 / 136\n",
      "62 / 136\n",
      "63 / 136\n",
      "64 / 136\n",
      "65 / 136\n",
      "66 / 136\n",
      "67 / 136\n",
      "68 / 136\n",
      "69 / 136\n",
      "70 / 136\n",
      "71 / 136\n",
      "72 / 136\n",
      "73 / 136\n",
      "74 / 136\n",
      "75 / 136\n",
      "76 / 136\n",
      "77 / 136\n",
      "78 / 136\n",
      "79 / 136\n",
      "80 / 136\n",
      "81 / 136\n",
      "82 / 136\n",
      "83 / 136\n",
      "84 / 136\n",
      "85 / 136\n",
      "86 / 136\n",
      "87 / 136\n",
      "88 / 136\n",
      "89 / 136\n",
      "90 / 136\n",
      "91 / 136\n",
      "92 / 136\n",
      "93 / 136\n",
      "94 / 136\n",
      "95 / 136\n",
      "96 / 136\n"
     ]
    }
   ],
   "source": [
    "for i in range(0, len(SPEC_GRID)):\n",
    "    print(i+1, \"/\", len(SPEC_GRID))\n",
    "    if len(SPEC_GRID[i][data_NWAVE_CUT][0]) > data_NSPEC_CUT:\n",
    "        for j in range(0, len(Y_GRID)):\n",
    "            TIME_TEMP = SPEC_GRID[i][j][0]\n",
    "            FLUX_TEMP = SPEC_GRID[i][j][1]\n",
    "            FLUX_TEMP, FLUX_ERROR_TEMP = gaussian_process(TIME_TEMP, FLUX_TEMP, error=True) # the brand new monochromatic light curves\n",
    "            FLUX_ERROR_TEMP = np.sqrt(np.diag(FLUX_ERROR_TEMP))\n",
    "            for k in range(0, len(FLUX_TEMP)):\n",
    "                SN_TRAIN[i].append(FLUX_TEMP[k])\n",
    "                SN_TRAIN_ERROR[i].append(FLUX_ERROR_TEMP[k])"
   ]
  },
  {
   "cell_type": "code",
   "execution_count": null,
   "metadata": {},
   "outputs": [],
   "source": [
    "X_TRAIN = []\n",
    "X_TRAIN_ERROR = []\n",
    "\n",
    "for i in range(0, len(SN_TRAIN)):\n",
    "    if len(SN_TRAIN[i]) > 0:\n",
    "        X_TRAIN.append(np.array(SN_TRAIN[i]))\n",
    "        X_TRAIN_ERROR.append(np.array(SN_TRAIN_ERROR[i]))"
   ]
  },
  {
   "cell_type": "code",
   "execution_count": null,
   "metadata": {},
   "outputs": [],
   "source": [
    "X_TRAIN"
   ]
  },
  {
   "cell_type": "code",
   "execution_count": null,
   "metadata": {},
   "outputs": [],
   "source": [
    "U = []\n",
    "for i in range(0, len(X_TRAIN_ERROR)):\n",
    "    U.append([])\n",
    "\n",
    "rng = np.random.RandomState(42)\n",
    "\n",
    "for i in range(0, len(X_TRAIN_ERROR)):\n",
    "    for j in range(0, len(X_TRAIN_ERROR[i])):\n",
    "        U[i].append(rng.rand()*X_TRAIN_ERROR[i][j])\n",
    "    \n",
    "X_ = np.array(X_TRAIN).T #+ np.array(U).T "
   ]
  },
  {
   "cell_type": "code",
   "execution_count": null,
   "metadata": {},
   "outputs": [],
   "source": [
    "#N = 3\n",
    "#np.random.seed(42)\n",
    "\n",
    "#transformer = FactorAnalysis(n_components=3, random_state=0)\n",
    "#X_transformed = transformer.fit_transform(X_)"
   ]
  },
  {
   "cell_type": "code",
   "execution_count": null,
   "metadata": {},
   "outputs": [],
   "source": [
    "#X_transformed = X_transformed.T"
   ]
  },
  {
   "cell_type": "code",
   "execution_count": null,
   "metadata": {},
   "outputs": [],
   "source": [
    "np.random.seed(42)\n",
    "N=3\n",
    "pca = PCA(N, whiten=True)\n",
    "pca.fit(X_.T)"
   ]
  },
  {
   "cell_type": "code",
   "execution_count": null,
   "metadata": {},
   "outputs": [],
   "source": [
    "components = pca.transform(X_.T)\n",
    "projected = pca.inverse_transform(components)"
   ]
  },
  {
   "cell_type": "code",
   "execution_count": null,
   "metadata": {},
   "outputs": [],
   "source": [
    "pca.explained_variance_ratio_[0]+pca.explained_variance_ratio_[1]+pca.explained_variance_ratio_[2]"
   ]
  },
  {
   "cell_type": "code",
   "execution_count": null,
   "metadata": {},
   "outputs": [],
   "source": [
    "xx = []\n",
    "yy = []\n",
    "\n",
    "for i in range(0, len(Y_GRID)):\n",
    "    for j in range(0, len(X_GRID)):\n",
    "        xx.append(X_GRID[j])\n",
    "        yy.append(Y_GRID[i])"
   ]
  },
  {
   "cell_type": "code",
   "execution_count": null,
   "metadata": {},
   "outputs": [],
   "source": [
    "x_grid = np.linspace(-10,50,61)\n",
    "y_grid = np.linspace(3500,8500, 501)\n",
    "B1, B2 = np.meshgrid(x_grid, y_grid, indexing='xy')"
   ]
  },
  {
   "cell_type": "code",
   "execution_count": null,
   "metadata": {},
   "outputs": [],
   "source": [
    "optionslist = []\n",
    "\n",
    "for i in range(0,N):\n",
    "    \n",
    "    optionslist.append(i)"
   ]
  },
  {
   "cell_type": "code",
   "execution_count": null,
   "metadata": {},
   "outputs": [],
   "source": [
    "import matplotlib.pyplot as plt\n",
    "from mpl_toolkits.mplot3d import axes3d\n",
    "import scipy.interpolate as interp\n",
    "\n",
    "%matplotlib notebook\n",
    "\n",
    "fig = plt.figure(figsize=(10, 4))\n",
    "ax = axes3d.Axes3D(fig)\n",
    "\n",
    "def update_graph(i):\n",
    "    \n",
    "    ax.clear()\n",
    "    \n",
    "    Z = interp.griddata((xx,yy),X_transformed[i],(B1,B2),method='cubic')\n",
    "    #Z = splinemean(B1, B2)\n",
    "    #ax.scatter3D(xx,yy,pca.components_[i], c='r')\n",
    "    ax.plot_wireframe(B1, B2, Z)\n",
    "    ax.plot_surface(B1, B2, Z,alpha=0.4)\n",
    "    #ax.set_zlim([0, 0.04])\n",
    "    plt.show()\n",
    "    \n",
    "i = widgets.Dropdown(options=optionslist, value=0, description='Component:', disabled=False)\n",
    "\n",
    "widgets.interactive(update_graph,i = i)"
   ]
  },
  {
   "cell_type": "code",
   "execution_count": null,
   "metadata": {},
   "outputs": [],
   "source": [
    "save_path = '/home/joao/Documents'"
   ]
  },
  {
   "cell_type": "code",
   "execution_count": null,
   "metadata": {},
   "outputs": [],
   "source": [
    "Z = interp.griddata((xx,yy),pca.components_[0],(B1,B2),method='cubic')"
   ]
  },
  {
   "cell_type": "code",
   "execution_count": null,
   "metadata": {},
   "outputs": [],
   "source": [
    "teste = Z.transpose()"
   ]
  },
  {
   "cell_type": "code",
   "execution_count": null,
   "metadata": {},
   "outputs": [],
   "source": [
    "exp_x = []\n",
    "exp_y = []\n",
    "exp_z = []\n",
    "\n",
    "for i in range(0,len(X_GRID)):\n",
    "    \n",
    "    for j in range(0,len(Y_GRID)):\n",
    "        \n",
    "        exp_x.append(X_GRID[i])\n",
    "        exp_y.append(Y_GRID[j])\n",
    "        exp_z.append(teste[i][j])\n",
    "        "
   ]
  },
  {
   "cell_type": "code",
   "execution_count": null,
   "metadata": {},
   "outputs": [],
   "source": [
    "\n",
    "table = []\n",
    "for l in range(0,len(exp_x)):\n",
    "    table.append((exp_x[l],exp_y[l],exp_z[l]))\n",
    "\n",
    "\n",
    "completeName = os.path.join(save_path, \"M0.dat\")\n",
    "\n",
    "f = open(completeName, 'w')\n",
    "f.write(tabulate(table, tablefmt=\"plain\"))\n",
    "f.close()\n"
   ]
  },
  {
   "cell_type": "code",
   "execution_count": null,
   "metadata": {},
   "outputs": [],
   "source": [
    "Z = interp.griddata((xx,yy),pca.components_[1],(B1,B2),method='cubic')"
   ]
  },
  {
   "cell_type": "code",
   "execution_count": null,
   "metadata": {},
   "outputs": [],
   "source": [
    "teste = Z.transpose()"
   ]
  },
  {
   "cell_type": "code",
   "execution_count": null,
   "metadata": {},
   "outputs": [],
   "source": [
    "exp_x = []\n",
    "exp_y = []\n",
    "exp_z = []\n",
    "\n",
    "for i in range(0,len(X_GRID)):\n",
    "    \n",
    "    for j in range(0,len(Y_GRID)):\n",
    "        \n",
    "        exp_x.append(X_GRID[i])\n",
    "        exp_y.append(Y_GRID[j])\n",
    "        exp_z.append(teste[i][j])"
   ]
  },
  {
   "cell_type": "code",
   "execution_count": null,
   "metadata": {},
   "outputs": [],
   "source": [
    "table = []\n",
    "for l in range(0,len(exp_x)):\n",
    "    table.append((exp_x[l],exp_y[l],exp_z[l]))\n",
    "\n",
    "\n",
    "completeName = os.path.join(save_path, \"M1.dat\")\n",
    "\n",
    "f = open(completeName, 'w')\n",
    "f.write(tabulate(table, tablefmt=\"plain\"))\n",
    "f.close()\n"
   ]
  },
  {
   "cell_type": "code",
   "execution_count": null,
   "metadata": {},
   "outputs": [],
   "source": [
    "Z = interp.griddata((xx,yy),pca.components_[2],(B1,B2),method='cubic')"
   ]
  },
  {
   "cell_type": "code",
   "execution_count": null,
   "metadata": {},
   "outputs": [],
   "source": [
    "teste = Z.transpose()"
   ]
  },
  {
   "cell_type": "code",
   "execution_count": null,
   "metadata": {},
   "outputs": [],
   "source": [
    "exp_x = []\n",
    "exp_y = []\n",
    "exp_z = []\n",
    "\n",
    "for i in range(0,len(X_GRID)):\n",
    "    \n",
    "    for j in range(0,len(Y_GRID)):\n",
    "        \n",
    "        exp_x.append(X_GRID[i])\n",
    "        exp_y.append(Y_GRID[j])\n",
    "        exp_z.append(teste[i][j])"
   ]
  },
  {
   "cell_type": "code",
   "execution_count": null,
   "metadata": {},
   "outputs": [],
   "source": [
    "table = []\n",
    "for l in range(0,len(exp_x)):\n",
    "    table.append((exp_x[l],exp_y[l],exp_z[l]))\n",
    "\n",
    "\n",
    "completeName = os.path.join(save_path, \"M2.dat\")\n",
    "\n",
    "f = open(completeName, 'w')\n",
    "f.write(tabulate(table, tablefmt=\"plain\"))\n",
    "f.close()"
   ]
  },
  {
   "cell_type": "code",
   "execution_count": null,
   "metadata": {},
   "outputs": [],
   "source": []
  },
  {
   "cell_type": "code",
   "execution_count": null,
   "metadata": {},
   "outputs": [],
   "source": []
  }
 ],
 "metadata": {
  "kernelspec": {
   "display_name": "Python 3",
   "language": "python",
   "name": "python3"
  },
  "language_info": {
   "codemirror_mode": {
    "name": "ipython",
    "version": 3
   },
   "file_extension": ".py",
   "mimetype": "text/x-python",
   "name": "python",
   "nbconvert_exporter": "python",
   "pygments_lexer": "ipython3",
   "version": "3.9.2"
  }
 },
 "nbformat": 4,
 "nbformat_minor": 4
}
