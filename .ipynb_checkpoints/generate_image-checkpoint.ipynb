{
 "cells": [
  {
   "cell_type": "code",
   "execution_count": 1,
   "id": "fe8c8743-587d-4cc5-9ada-e04a8c89f39c",
   "metadata": {},
   "outputs": [],
   "source": [
    "import matplotlib.pyplot as plt\n",
    "import numpy as np\n",
    "import pandas as pd\n",
    "\n",
    "%matplotlib inline"
   ]
  },
  {
   "cell_type": "markdown",
   "id": "43516698-9f29-4c2f-8e22-8fcb5d8bdeef",
   "metadata": {
    "tags": []
   },
   "source": [
    "## covariance graph"
   ]
  },
  {
   "cell_type": "code",
   "execution_count": 2,
   "id": "ffbb3d73-7a7c-45e9-ac2e-a49770e7dfd0",
   "metadata": {},
   "outputs": [],
   "source": [
    "output_result_path = './cosmo_results/'"
   ]
  },
  {
   "cell_type": "code",
   "execution_count": 3,
   "id": "ec5ba2e0-eae7-4869-a16e-18542720e620",
   "metadata": {},
   "outputs": [
    {
     "data": {
      "text/html": [
       "<div>\n",
       "<style scoped>\n",
       "    .dataframe tbody tr th:only-of-type {\n",
       "        vertical-align: middle;\n",
       "    }\n",
       "\n",
       "    .dataframe tbody tr th {\n",
       "        vertical-align: top;\n",
       "    }\n",
       "\n",
       "    .dataframe thead th {\n",
       "        text-align: right;\n",
       "    }\n",
       "</style>\n",
       "<table border=\"1\" class=\"dataframe\">\n",
       "  <thead>\n",
       "    <tr style=\"text-align: right;\">\n",
       "      <th></th>\n",
       "      <th>name</th>\n",
       "      <th>redshift</th>\n",
       "      <th>t0</th>\n",
       "      <th>t0_err</th>\n",
       "      <th>x0</th>\n",
       "      <th>x0_err</th>\n",
       "      <th>x1</th>\n",
       "      <th>x1_err</th>\n",
       "      <th>c</th>\n",
       "      <th>c_err</th>\n",
       "      <th>mwebv</th>\n",
       "      <th>cov_x0x1</th>\n",
       "      <th>cov_x0c</th>\n",
       "      <th>cov_x1c</th>\n",
       "      <th>chiquad/dof</th>\n",
       "      <th>model</th>\n",
       "    </tr>\n",
       "  </thead>\n",
       "  <tbody>\n",
       "    <tr>\n",
       "      <th>0</th>\n",
       "      <td>03D1au</td>\n",
       "      <td>0.5043</td>\n",
       "      <td>52909.7</td>\n",
       "      <td>0.184387</td>\n",
       "      <td>0.000011</td>\n",
       "      <td>8.286350e-08</td>\n",
       "      <td>1.292900</td>\n",
       "      <td>0.134236</td>\n",
       "      <td>-0.020352</td>\n",
       "      <td>0.012490</td>\n",
       "      <td>0.0296</td>\n",
       "      <td>-6.719740e-09</td>\n",
       "      <td>-2.978810e-10</td>\n",
       "      <td>-0.000203</td>\n",
       "      <td>1.02367</td>\n",
       "      <td>salt2</td>\n",
       "    </tr>\n",
       "    <tr>\n",
       "      <th>1</th>\n",
       "      <td>03D1aw</td>\n",
       "      <td>0.5820</td>\n",
       "      <td>52898.4</td>\n",
       "      <td>1.978770</td>\n",
       "      <td>0.000007</td>\n",
       "      <td>1.725990e-07</td>\n",
       "      <td>2.224940</td>\n",
       "      <td>0.707499</td>\n",
       "      <td>-0.007330</td>\n",
       "      <td>0.025483</td>\n",
       "      <td>0.0252</td>\n",
       "      <td>6.354680e-08</td>\n",
       "      <td>-8.085340e-10</td>\n",
       "      <td>0.006636</td>\n",
       "      <td>1.40655</td>\n",
       "      <td>salt2</td>\n",
       "    </tr>\n",
       "    <tr>\n",
       "      <th>2</th>\n",
       "      <td>03D1ax</td>\n",
       "      <td>0.4960</td>\n",
       "      <td>52916.1</td>\n",
       "      <td>0.101686</td>\n",
       "      <td>0.000011</td>\n",
       "      <td>9.210410e-08</td>\n",
       "      <td>-0.840369</td>\n",
       "      <td>0.104929</td>\n",
       "      <td>-0.030900</td>\n",
       "      <td>0.013322</td>\n",
       "      <td>0.0264</td>\n",
       "      <td>-5.879210e-09</td>\n",
       "      <td>-4.059190e-10</td>\n",
       "      <td>-0.000103</td>\n",
       "      <td>2.01389</td>\n",
       "      <td>salt2</td>\n",
       "    </tr>\n",
       "    <tr>\n",
       "      <th>3</th>\n",
       "      <td>03D1bp</td>\n",
       "      <td>0.3470</td>\n",
       "      <td>52920.3</td>\n",
       "      <td>0.103574</td>\n",
       "      <td>0.000019</td>\n",
       "      <td>2.085140e-07</td>\n",
       "      <td>-1.000660</td>\n",
       "      <td>0.114909</td>\n",
       "      <td>-0.006048</td>\n",
       "      <td>0.008554</td>\n",
       "      <td>0.0236</td>\n",
       "      <td>-1.869040e-08</td>\n",
       "      <td>-1.293780e-09</td>\n",
       "      <td>0.000409</td>\n",
       "      <td>3.73040</td>\n",
       "      <td>salt2</td>\n",
       "    </tr>\n",
       "    <tr>\n",
       "      <th>4</th>\n",
       "      <td>03D1co</td>\n",
       "      <td>0.6790</td>\n",
       "      <td>52954.4</td>\n",
       "      <td>0.451643</td>\n",
       "      <td>0.000004</td>\n",
       "      <td>1.590080e-07</td>\n",
       "      <td>0.769722</td>\n",
       "      <td>0.522152</td>\n",
       "      <td>-0.033253</td>\n",
       "      <td>0.042096</td>\n",
       "      <td>0.0299</td>\n",
       "      <td>-7.236470e-08</td>\n",
       "      <td>-1.714290e-09</td>\n",
       "      <td>0.008467</td>\n",
       "      <td>1.37515</td>\n",
       "      <td>salt2</td>\n",
       "    </tr>\n",
       "  </tbody>\n",
       "</table>\n",
       "</div>"
      ],
      "text/plain": [
       "     name  redshift       t0    t0_err        x0        x0_err        x1  \\\n",
       "0  03D1au    0.5043  52909.7  0.184387  0.000011  8.286350e-08  1.292900   \n",
       "1  03D1aw    0.5820  52898.4  1.978770  0.000007  1.725990e-07  2.224940   \n",
       "2  03D1ax    0.4960  52916.1  0.101686  0.000011  9.210410e-08 -0.840369   \n",
       "3  03D1bp    0.3470  52920.3  0.103574  0.000019  2.085140e-07 -1.000660   \n",
       "4  03D1co    0.6790  52954.4  0.451643  0.000004  1.590080e-07  0.769722   \n",
       "\n",
       "     x1_err         c     c_err   mwebv      cov_x0x1       cov_x0c   cov_x1c  \\\n",
       "0  0.134236 -0.020352  0.012490  0.0296 -6.719740e-09 -2.978810e-10 -0.000203   \n",
       "1  0.707499 -0.007330  0.025483  0.0252  6.354680e-08 -8.085340e-10  0.006636   \n",
       "2  0.104929 -0.030900  0.013322  0.0264 -5.879210e-09 -4.059190e-10 -0.000103   \n",
       "3  0.114909 -0.006048  0.008554  0.0236 -1.869040e-08 -1.293780e-09  0.000409   \n",
       "4  0.522152 -0.033253  0.042096  0.0299 -7.236470e-08 -1.714290e-09  0.008467   \n",
       "\n",
       "   chiquad/dof  model  \n",
       "0      1.02367  salt2  \n",
       "1      1.40655  salt2  \n",
       "2      2.01389  salt2  \n",
       "3      3.73040  salt2  \n",
       "4      1.37515  salt2  "
      ]
     },
     "execution_count": 3,
     "metadata": {},
     "output_type": "execute_result"
    }
   ],
   "source": [
    "salt2_fit = pd.read_csv('./cosmo_results/fit_salt2.dat',\n",
    "                       sep='\\s+',\n",
    "                       names = ['name', 'redshift', 't0', 't0_err', 'x0', 'x0_err', 'x1', 'x1_err', 'c', 'c_err', 'mwebv', 'cov_x0x1', 'cov_x0c', 'cov_x1c', 'chiquad/dof', 'model'])\n",
    "salt2_fit.head()"
   ]
  },
  {
   "cell_type": "code",
   "execution_count": 4,
   "id": "a9db0836-2225-409b-b009-822047e887c6",
   "metadata": {},
   "outputs": [
    {
     "data": {
      "text/html": [
       "<div>\n",
       "<style scoped>\n",
       "    .dataframe tbody tr th:only-of-type {\n",
       "        vertical-align: middle;\n",
       "    }\n",
       "\n",
       "    .dataframe tbody tr th {\n",
       "        vertical-align: top;\n",
       "    }\n",
       "\n",
       "    .dataframe thead th {\n",
       "        text-align: right;\n",
       "    }\n",
       "</style>\n",
       "<table border=\"1\" class=\"dataframe\">\n",
       "  <thead>\n",
       "    <tr style=\"text-align: right;\">\n",
       "      <th></th>\n",
       "      <th>name</th>\n",
       "      <th>redshift</th>\n",
       "      <th>t0</th>\n",
       "      <th>t0_err</th>\n",
       "      <th>x0</th>\n",
       "      <th>x0_err</th>\n",
       "      <th>x1</th>\n",
       "      <th>x1_err</th>\n",
       "      <th>x2</th>\n",
       "      <th>x2_err</th>\n",
       "      <th>mwebv</th>\n",
       "      <th>cov_x0x1</th>\n",
       "      <th>cov_x0x2</th>\n",
       "      <th>cov_x1x2</th>\n",
       "      <th>chiquad/dof</th>\n",
       "      <th>model</th>\n",
       "    </tr>\n",
       "  </thead>\n",
       "  <tbody>\n",
       "    <tr>\n",
       "      <th>0</th>\n",
       "      <td>03D1au</td>\n",
       "      <td>0.5043</td>\n",
       "      <td>52910.6</td>\n",
       "      <td>2.470730e-01</td>\n",
       "      <td>0.000030</td>\n",
       "      <td>6.132440e-07</td>\n",
       "      <td>0.254633</td>\n",
       "      <td>0.087649</td>\n",
       "      <td>-0.496415</td>\n",
       "      <td>0.116260</td>\n",
       "      <td>0.0296</td>\n",
       "      <td>5.039030e-08</td>\n",
       "      <td>6.830020e-08</td>\n",
       "      <td>0.009411</td>\n",
       "      <td>1.45727</td>\n",
       "      <td>exp3</td>\n",
       "    </tr>\n",
       "    <tr>\n",
       "      <th>1</th>\n",
       "      <td>03D1aw</td>\n",
       "      <td>0.5820</td>\n",
       "      <td>52899.3</td>\n",
       "      <td>6.017220e-09</td>\n",
       "      <td>0.000013</td>\n",
       "      <td>2.566260e-06</td>\n",
       "      <td>-1.097120</td>\n",
       "      <td>1.047310</td>\n",
       "      <td>-2.507690</td>\n",
       "      <td>1.601010</td>\n",
       "      <td>0.0252</td>\n",
       "      <td>2.676560e-06</td>\n",
       "      <td>4.095260e-06</td>\n",
       "      <td>1.667330</td>\n",
       "      <td>8.93582</td>\n",
       "      <td>exp3</td>\n",
       "    </tr>\n",
       "    <tr>\n",
       "      <th>2</th>\n",
       "      <td>03D1ax</td>\n",
       "      <td>0.4960</td>\n",
       "      <td>52916.5</td>\n",
       "      <td>3.381900e-05</td>\n",
       "      <td>0.000024</td>\n",
       "      <td>5.134450e-07</td>\n",
       "      <td>-0.911936</td>\n",
       "      <td>0.117513</td>\n",
       "      <td>-0.486852</td>\n",
       "      <td>0.134829</td>\n",
       "      <td>0.0264</td>\n",
       "      <td>5.082640e-08</td>\n",
       "      <td>6.352980e-08</td>\n",
       "      <td>0.010819</td>\n",
       "      <td>11.36370</td>\n",
       "      <td>exp3</td>\n",
       "    </tr>\n",
       "    <tr>\n",
       "      <th>3</th>\n",
       "      <td>03D1bp</td>\n",
       "      <td>0.3470</td>\n",
       "      <td>52919.3</td>\n",
       "      <td>6.073800e-05</td>\n",
       "      <td>0.000047</td>\n",
       "      <td>4.344940e-07</td>\n",
       "      <td>0.205477</td>\n",
       "      <td>0.050134</td>\n",
       "      <td>0.400482</td>\n",
       "      <td>0.064642</td>\n",
       "      <td>0.0236</td>\n",
       "      <td>1.561450e-08</td>\n",
       "      <td>2.265380e-08</td>\n",
       "      <td>0.001901</td>\n",
       "      <td>44.11520</td>\n",
       "      <td>exp3</td>\n",
       "    </tr>\n",
       "    <tr>\n",
       "      <th>4</th>\n",
       "      <td>03D1co</td>\n",
       "      <td>0.6790</td>\n",
       "      <td>52950.9</td>\n",
       "      <td>3.881430e-04</td>\n",
       "      <td>0.000010</td>\n",
       "      <td>8.350480e-07</td>\n",
       "      <td>0.541752</td>\n",
       "      <td>0.341222</td>\n",
       "      <td>-0.390626</td>\n",
       "      <td>0.484815</td>\n",
       "      <td>0.0299</td>\n",
       "      <td>2.674550e-07</td>\n",
       "      <td>3.902590e-07</td>\n",
       "      <td>0.159379</td>\n",
       "      <td>7.01169</td>\n",
       "      <td>exp3</td>\n",
       "    </tr>\n",
       "  </tbody>\n",
       "</table>\n",
       "</div>"
      ],
      "text/plain": [
       "     name  redshift       t0        t0_err        x0        x0_err        x1  \\\n",
       "0  03D1au    0.5043  52910.6  2.470730e-01  0.000030  6.132440e-07  0.254633   \n",
       "1  03D1aw    0.5820  52899.3  6.017220e-09  0.000013  2.566260e-06 -1.097120   \n",
       "2  03D1ax    0.4960  52916.5  3.381900e-05  0.000024  5.134450e-07 -0.911936   \n",
       "3  03D1bp    0.3470  52919.3  6.073800e-05  0.000047  4.344940e-07  0.205477   \n",
       "4  03D1co    0.6790  52950.9  3.881430e-04  0.000010  8.350480e-07  0.541752   \n",
       "\n",
       "     x1_err        x2    x2_err   mwebv      cov_x0x1      cov_x0x2  cov_x1x2  \\\n",
       "0  0.087649 -0.496415  0.116260  0.0296  5.039030e-08  6.830020e-08  0.009411   \n",
       "1  1.047310 -2.507690  1.601010  0.0252  2.676560e-06  4.095260e-06  1.667330   \n",
       "2  0.117513 -0.486852  0.134829  0.0264  5.082640e-08  6.352980e-08  0.010819   \n",
       "3  0.050134  0.400482  0.064642  0.0236  1.561450e-08  2.265380e-08  0.001901   \n",
       "4  0.341222 -0.390626  0.484815  0.0299  2.674550e-07  3.902590e-07  0.159379   \n",
       "\n",
       "   chiquad/dof model  \n",
       "0      1.45727  exp3  \n",
       "1      8.93582  exp3  \n",
       "2     11.36370  exp3  \n",
       "3     44.11520  exp3  \n",
       "4      7.01169  exp3  "
      ]
     },
     "execution_count": 4,
     "metadata": {},
     "output_type": "execute_result"
    }
   ],
   "source": [
    "exp3_fit_nocov = pd.read_csv('./cosmo_results/matern_fit_exp3_nocov.dat',\n",
    "                        sep='\\s+',\n",
    "                        names = ['name', 'redshift', 't0', 't0_err', 'x0', 'x0_err', 'x1', 'x1_err', 'x2', 'x2_err', 'mwebv', 'cov_x0x1', 'cov_x0x2', 'cov_x1x2', 'chiquad/dof', 'model'])\n",
    "exp3_fit_nocov.head()"
   ]
  },
  {
   "cell_type": "code",
   "execution_count": 5,
   "id": "7dbb29bd-0836-44ed-a094-74f8d310fdb9",
   "metadata": {},
   "outputs": [],
   "source": [
    "exp3_fit_nocov = exp3_fit_nocov[exp3_fit_nocov['chiquad/dof']<5.]\n",
    "exp3_fit_nocov = exp3_fit_nocov[np.abs(exp3_fit_nocov['x1'])<3.]\n",
    "exp3_fit_nocov = exp3_fit_nocov[np.abs(exp3_fit_nocov['x2'])<3.]\n",
    "\n",
    "\n",
    "salt2_fit = salt2_fit[salt2_fit['chiquad/dof']<5.]"
   ]
  },
  {
   "cell_type": "code",
   "execution_count": 6,
   "id": "62327ae5-f387-4df4-9f67-5b14f95b9760",
   "metadata": {},
   "outputs": [],
   "source": [
    "commom_sns = list(set(exp3_fit_nocov['name']).intersection(salt2_fit['name']))"
   ]
  },
  {
   "cell_type": "code",
   "execution_count": 7,
   "id": "bcf77258-978e-4f27-b21d-1438d789d36a",
   "metadata": {},
   "outputs": [],
   "source": [
    "covariance_graph_dictionary = {'mag_x0_salt2':[], 'mag_x0_exp3':[],\n",
    "                               'x1_salt2':[], 'x1_exp3':[],\n",
    "                               'x2_salt2':[], 'x2_exp3':[]}"
   ]
  },
  {
   "cell_type": "code",
   "execution_count": 8,
   "id": "6d402b21-0961-406e-86c7-a1b23cc43d17",
   "metadata": {},
   "outputs": [],
   "source": [
    "for i in range(0, len(commom_sns)):\n",
    "    salt2_sn_data = salt2_fit[salt2_fit['name']==commom_sns[i]]\n",
    "    exp3_sn_data = exp3_fit_nocov[exp3_fit_nocov['name']==commom_sns[i]]\n",
    "\n",
    "    covariance_graph_dictionary['mag_x0_salt2'].append(2.5*np.log10(salt2_sn_data['x0']))\n",
    "    covariance_graph_dictionary['mag_x0_exp3'].append(2.5*np.log10(exp3_sn_data['x0']))\n",
    "    \n",
    "    covariance_graph_dictionary['x1_salt2'].append(salt2_sn_data['x1'])\n",
    "    covariance_graph_dictionary['x1_exp3'].append(exp3_sn_data['x1'])\n",
    "\n",
    "    covariance_graph_dictionary['x2_salt2'].append(salt2_sn_data['c'])\n",
    "    covariance_graph_dictionary['x2_exp3'].append(exp3_sn_data['x2'])"
   ]
  },
  {
   "cell_type": "code",
   "execution_count": 17,
   "id": "0a40ef53-d4b1-4acc-9ef0-4479ae22e287",
   "metadata": {},
   "outputs": [
    {
     "data": {
      "text/plain": [
       "(-2.1427401676300075, 2.1427401676300075)"
      ]
     },
     "execution_count": 17,
     "metadata": {},
     "output_type": "execute_result"
    },
    {
     "data": {
      "image/png": "[encoded data removed]",
      "text/plain": [
       "<Figure size 432x288 with 1 Axes>"
      ]
     },
     "metadata": {
      "needs_background": "light"
     },
     "output_type": "display_data"
    }
   ],
   "source": [
    "plt.plot(covariance_graph_dictionary['x2_salt2'], covariance_graph_dictionary['x2_exp3'], '.')\n",
    "plt.xlim(-1*np.std(covariance_graph_dictionary['x2_salt2']), 1*np.std(covariance_graph_dictionary['x2_salt2']))\n",
    "plt.ylim(-2*np.std(covariance_graph_dictionary['x2_exp3']), 2*np.std(covariance_graph_dictionary['x2_exp3']))"
   ]
  },
  {
   "cell_type": "code",
   "execution_count": 10,
   "id": "c505ae41-06f3-491e-adec-91471601b89f",
   "metadata": {},
   "outputs": [
    {
     "data": {
      "text/plain": [
       "(array([  6.,  22.,  43., 108., 117.,  73.,  37.,  21.,  13.,  11.]),\n",
       " array([-2.96954 , -2.377659, -1.785778, -1.193897, -0.602016, -0.010135,\n",
       "         0.581746,  1.173627,  1.765508,  2.357389,  2.94927 ]),\n",
       " <BarContainer object of 10 artists>)"
      ]
     },
     "execution_count": 10,
     "metadata": {},
     "output_type": "execute_result"
    },
    {
     "data": {
      "image/png": "[encoded data removed]",
      "text/plain": [
       "<Figure size 432x288 with 1 Axes>"
      ]
     },
     "metadata": {
      "needs_background": "light"
     },
     "output_type": "display_data"
    }
   ],
   "source": [
    "plt.hist(np.array(covariance_graph_dictionary['x2_exp3']))"
   ]
  },
  {
   "cell_type": "code",
   "execution_count": null,
   "id": "910302fc-5cca-4acb-90a5-f21047ab5262",
   "metadata": {},
   "outputs": [],
   "source": []
  }
 ],
 "metadata": {
  "kernelspec": {
   "display_name": "Python 3 (ipykernel)",
   "language": "python",
   "name": "python3"
  },
  "language_info": {
   "codemirror_mode": {
    "name": "ipython",
    "version": 3
   },
   "file_extension": ".py",
   "mimetype": "text/x-python",
   "name": "python",
   "nbconvert_exporter": "python",
   "pygments_lexer": "ipython3",
   "version": "3.8.10"
  }
 },
 "nbformat": 4,
 "nbformat_minor": 5
}
