{
 "cells": [
  {
   "cell_type": "code",
   "execution_count": 1,
   "id": "a38fcba6",
   "metadata": {},
   "outputs": [
    {
     "name": "stdout",
     "output_type": "stream",
     "text": [
      "Do not have mpi4py package.\n"
     ]
    }
   ],
   "source": [
    "import pandas as pd\n",
    "import numpy as np\n",
    "import matplotlib.pyplot as plt\n",
    "from PTMCMCSampler import PTMCMCSampler\n",
    "import acor\n",
    "from scipy.integrate import quad\n",
    "from getdist import plots, MCSamples\n",
    "import glob\n",
    "import scipy.optimize as optimize"
   ]
  },
  {
   "cell_type": "code",
   "execution_count": 2,
   "id": "f474ae1e",
   "metadata": {},
   "outputs": [
    {
     "data": {
      "text/html": [
       "<div>\n",
       "<style scoped>\n",
       "    .dataframe tbody tr th:only-of-type {\n",
       "        vertical-align: middle;\n",
       "    }\n",
       "\n",
       "    .dataframe tbody tr th {\n",
       "        vertical-align: top;\n",
       "    }\n",
       "\n",
       "    .dataframe thead th {\n",
       "        text-align: right;\n",
       "    }\n",
       "</style>\n",
       "<table border=\"1\" class=\"dataframe\">\n",
       "  <thead>\n",
       "    <tr style=\"text-align: right;\">\n",
       "      <th></th>\n",
       "      <th>name</th>\n",
       "      <th>redshift</th>\n",
       "      <th>t0</th>\n",
       "      <th>t0err</th>\n",
       "      <th>x0</th>\n",
       "      <th>x0err</th>\n",
       "      <th>x1</th>\n",
       "      <th>x1err</th>\n",
       "      <th>x2</th>\n",
       "      <th>x2err</th>\n",
       "      <th>mwebv</th>\n",
       "      <th>cov_x0x1</th>\n",
       "      <th>cov_x0x2</th>\n",
       "      <th>cov_x1x2</th>\n",
       "      <th>chiquad/dof</th>\n",
       "      <th>modelo</th>\n",
       "    </tr>\n",
       "  </thead>\n",
       "  <tbody>\n",
       "    <tr>\n",
       "      <th>0</th>\n",
       "      <td>05D3lr</td>\n",
       "      <td>0.60</td>\n",
       "      <td>53539.6</td>\n",
       "      <td>0.677921</td>\n",
       "      <td>0.000006</td>\n",
       "      <td>3.576220e-07</td>\n",
       "      <td>0.697869</td>\n",
       "      <td>0.825238</td>\n",
       "      <td>0.007542</td>\n",
       "      <td>0.098295</td>\n",
       "      <td>0.0110</td>\n",
       "      <td>-1.650020e-07</td>\n",
       "      <td>-2.575070e-08</td>\n",
       "      <td>-0.001506</td>\n",
       "      <td>0.136933</td>\n",
       "      <td>salt2</td>\n",
       "    </tr>\n",
       "    <tr>\n",
       "      <th>1</th>\n",
       "      <td>05D3lr</td>\n",
       "      <td>0.60</td>\n",
       "      <td>53539.9</td>\n",
       "      <td>0.745297</td>\n",
       "      <td>0.000016</td>\n",
       "      <td>1.303720e-06</td>\n",
       "      <td>0.494142</td>\n",
       "      <td>0.347920</td>\n",
       "      <td>0.795836</td>\n",
       "      <td>0.798955</td>\n",
       "      <td>0.0110</td>\n",
       "      <td>6.661790e-08</td>\n",
       "      <td>9.937370e-07</td>\n",
       "      <td>0.055411</td>\n",
       "      <td>0.092124</td>\n",
       "      <td>exp3</td>\n",
       "    </tr>\n",
       "    <tr>\n",
       "      <th>2</th>\n",
       "      <td>05D3lr</td>\n",
       "      <td>0.60</td>\n",
       "      <td>53539.8</td>\n",
       "      <td>0.797247</td>\n",
       "      <td>0.000014</td>\n",
       "      <td>7.710000e-07</td>\n",
       "      <td>0.447875</td>\n",
       "      <td>0.376417</td>\n",
       "      <td>0.039706</td>\n",
       "      <td>0.097390</td>\n",
       "      <td>0.0110</td>\n",
       "      <td>-4.836770e-08</td>\n",
       "      <td>-6.655050e-08</td>\n",
       "      <td>0.004627</td>\n",
       "      <td>0.154292</td>\n",
       "      <td>exp2lc</td>\n",
       "    </tr>\n",
       "    <tr>\n",
       "      <th>3</th>\n",
       "      <td>04D2gb</td>\n",
       "      <td>0.45</td>\n",
       "      <td>53108.2</td>\n",
       "      <td>0.258147</td>\n",
       "      <td>0.000012</td>\n",
       "      <td>1.691510e-07</td>\n",
       "      <td>-1.482240</td>\n",
       "      <td>0.206127</td>\n",
       "      <td>0.019496</td>\n",
       "      <td>0.021927</td>\n",
       "      <td>0.0201</td>\n",
       "      <td>-9.398530e-09</td>\n",
       "      <td>-2.111770e-09</td>\n",
       "      <td>-0.000637</td>\n",
       "      <td>1.032030</td>\n",
       "      <td>salt2</td>\n",
       "    </tr>\n",
       "    <tr>\n",
       "      <th>4</th>\n",
       "      <td>04D2gb</td>\n",
       "      <td>0.45</td>\n",
       "      <td>53107.9</td>\n",
       "      <td>0.000282</td>\n",
       "      <td>0.000036</td>\n",
       "      <td>8.762050e-07</td>\n",
       "      <td>-0.446477</td>\n",
       "      <td>0.081853</td>\n",
       "      <td>1.543950</td>\n",
       "      <td>0.190128</td>\n",
       "      <td>0.0201</td>\n",
       "      <td>-5.412090e-09</td>\n",
       "      <td>1.542130e-07</td>\n",
       "      <td>-0.000886</td>\n",
       "      <td>11.012700</td>\n",
       "      <td>exp3</td>\n",
       "    </tr>\n",
       "  </tbody>\n",
       "</table>\n",
       "</div>"
      ],
      "text/plain": [
       "     name  redshift       t0     t0err        x0         x0err        x1  \\\n",
       "0  05D3lr      0.60  53539.6  0.677921  0.000006  3.576220e-07  0.697869   \n",
       "1  05D3lr      0.60  53539.9  0.745297  0.000016  1.303720e-06  0.494142   \n",
       "2  05D3lr      0.60  53539.8  0.797247  0.000014  7.710000e-07  0.447875   \n",
       "3  04D2gb      0.45  53108.2  0.258147  0.000012  1.691510e-07 -1.482240   \n",
       "4  04D2gb      0.45  53107.9  0.000282  0.000036  8.762050e-07 -0.446477   \n",
       "\n",
       "      x1err        x2     x2err   mwebv      cov_x0x1      cov_x0x2  cov_x1x2  \\\n",
       "0  0.825238  0.007542  0.098295  0.0110 -1.650020e-07 -2.575070e-08 -0.001506   \n",
       "1  0.347920  0.795836  0.798955  0.0110  6.661790e-08  9.937370e-07  0.055411   \n",
       "2  0.376417  0.039706  0.097390  0.0110 -4.836770e-08 -6.655050e-08  0.004627   \n",
       "3  0.206127  0.019496  0.021927  0.0201 -9.398530e-09 -2.111770e-09 -0.000637   \n",
       "4  0.081853  1.543950  0.190128  0.0201 -5.412090e-09  1.542130e-07 -0.000886   \n",
       "\n",
       "   chiquad/dof  modelo  \n",
       "0     0.136933   salt2  \n",
       "1     0.092124    exp3  \n",
       "2     0.154292  exp2lc  \n",
       "3     1.032030   salt2  \n",
       "4    11.012700    exp3  "
      ]
     },
     "execution_count": 2,
     "metadata": {},
     "output_type": "execute_result"
    }
   ],
   "source": [
    "df=pd.read_csv(\"./ajuste_lc.txt\", sep=\"\\s+\")\n",
    "df.head()"
   ]
  },
  {
   "cell_type": "code",
   "execution_count": 3,
   "id": "3d916311",
   "metadata": {},
   "outputs": [
    {
     "data": {
      "text/html": [
       "<div>\n",
       "<style scoped>\n",
       "    .dataframe tbody tr th:only-of-type {\n",
       "        vertical-align: middle;\n",
       "    }\n",
       "\n",
       "    .dataframe tbody tr th {\n",
       "        vertical-align: top;\n",
       "    }\n",
       "\n",
       "    .dataframe thead th {\n",
       "        text-align: right;\n",
       "    }\n",
       "</style>\n",
       "<table border=\"1\" class=\"dataframe\">\n",
       "  <thead>\n",
       "    <tr style=\"text-align: right;\">\n",
       "      <th></th>\n",
       "      <th>name</th>\n",
       "      <th>redshift</th>\n",
       "      <th>t0</th>\n",
       "      <th>t0err</th>\n",
       "      <th>x0</th>\n",
       "      <th>x0err</th>\n",
       "      <th>x1</th>\n",
       "      <th>x1err</th>\n",
       "      <th>x2</th>\n",
       "      <th>x2err</th>\n",
       "      <th>mwebv</th>\n",
       "      <th>cov_x0x1</th>\n",
       "      <th>cov_x0x2</th>\n",
       "      <th>cov_x1x2</th>\n",
       "      <th>chiquad/dof</th>\n",
       "      <th>modelo</th>\n",
       "    </tr>\n",
       "  </thead>\n",
       "  <tbody>\n",
       "    <tr>\n",
       "      <th>0</th>\n",
       "      <td>05D3lr</td>\n",
       "      <td>0.600000</td>\n",
       "      <td>53539.6</td>\n",
       "      <td>0.677921</td>\n",
       "      <td>0.000006</td>\n",
       "      <td>3.576220e-07</td>\n",
       "      <td>0.697869</td>\n",
       "      <td>0.825238</td>\n",
       "      <td>0.007542</td>\n",
       "      <td>0.098295</td>\n",
       "      <td>0.0110</td>\n",
       "      <td>-1.650020e-07</td>\n",
       "      <td>-2.575070e-08</td>\n",
       "      <td>-0.001506</td>\n",
       "      <td>0.136933</td>\n",
       "      <td>salt2</td>\n",
       "    </tr>\n",
       "    <tr>\n",
       "      <th>3</th>\n",
       "      <td>04D2gb</td>\n",
       "      <td>0.450000</td>\n",
       "      <td>53108.2</td>\n",
       "      <td>0.258147</td>\n",
       "      <td>0.000012</td>\n",
       "      <td>1.691510e-07</td>\n",
       "      <td>-1.482240</td>\n",
       "      <td>0.206127</td>\n",
       "      <td>0.019496</td>\n",
       "      <td>0.021927</td>\n",
       "      <td>0.0201</td>\n",
       "      <td>-9.398530e-09</td>\n",
       "      <td>-2.111770e-09</td>\n",
       "      <td>-0.000637</td>\n",
       "      <td>1.032030</td>\n",
       "      <td>salt2</td>\n",
       "    </tr>\n",
       "    <tr>\n",
       "      <th>6</th>\n",
       "      <td>sn2003iv</td>\n",
       "      <td>0.034307</td>\n",
       "      <td>52934.0</td>\n",
       "      <td>0.170022</td>\n",
       "      <td>0.002954</td>\n",
       "      <td>2.672350e-05</td>\n",
       "      <td>-2.195930</td>\n",
       "      <td>0.114680</td>\n",
       "      <td>-0.093970</td>\n",
       "      <td>0.007855</td>\n",
       "      <td>0.1370</td>\n",
       "      <td>-1.053770e-07</td>\n",
       "      <td>-1.396520e-07</td>\n",
       "      <td>0.000101</td>\n",
       "      <td>1.923060</td>\n",
       "      <td>salt2</td>\n",
       "    </tr>\n",
       "    <tr>\n",
       "      <th>7</th>\n",
       "      <td>sn2002hu</td>\n",
       "      <td>0.038000</td>\n",
       "      <td>52592.6</td>\n",
       "      <td>0.067166</td>\n",
       "      <td>0.003979</td>\n",
       "      <td>2.617700e-05</td>\n",
       "      <td>0.465116</td>\n",
       "      <td>0.072269</td>\n",
       "      <td>-0.074792</td>\n",
       "      <td>0.005334</td>\n",
       "      <td>0.0450</td>\n",
       "      <td>-1.313770e-06</td>\n",
       "      <td>-1.179530e-07</td>\n",
       "      <td>0.000223</td>\n",
       "      <td>3.319930</td>\n",
       "      <td>salt2</td>\n",
       "    </tr>\n",
       "    <tr>\n",
       "      <th>10</th>\n",
       "      <td>06D2ce</td>\n",
       "      <td>0.820000</td>\n",
       "      <td>53800.8</td>\n",
       "      <td>1.515420</td>\n",
       "      <td>0.000004</td>\n",
       "      <td>1.574390e-07</td>\n",
       "      <td>2.302120</td>\n",
       "      <td>0.856065</td>\n",
       "      <td>-0.251713</td>\n",
       "      <td>0.197723</td>\n",
       "      <td>0.0204</td>\n",
       "      <td>-4.750960e-08</td>\n",
       "      <td>1.585610e-08</td>\n",
       "      <td>-0.003036</td>\n",
       "      <td>0.307391</td>\n",
       "      <td>salt2</td>\n",
       "    </tr>\n",
       "  </tbody>\n",
       "</table>\n",
       "</div>"
      ],
      "text/plain": [
       "        name  redshift       t0     t0err        x0         x0err        x1  \\\n",
       "0     05D3lr  0.600000  53539.6  0.677921  0.000006  3.576220e-07  0.697869   \n",
       "3     04D2gb  0.450000  53108.2  0.258147  0.000012  1.691510e-07 -1.482240   \n",
       "6   sn2003iv  0.034307  52934.0  0.170022  0.002954  2.672350e-05 -2.195930   \n",
       "7   sn2002hu  0.038000  52592.6  0.067166  0.003979  2.617700e-05  0.465116   \n",
       "10    06D2ce  0.820000  53800.8  1.515420  0.000004  1.574390e-07  2.302120   \n",
       "\n",
       "       x1err        x2     x2err   mwebv      cov_x0x1      cov_x0x2  \\\n",
       "0   0.825238  0.007542  0.098295  0.0110 -1.650020e-07 -2.575070e-08   \n",
       "3   0.206127  0.019496  0.021927  0.0201 -9.398530e-09 -2.111770e-09   \n",
       "6   0.114680 -0.093970  0.007855  0.1370 -1.053770e-07 -1.396520e-07   \n",
       "7   0.072269 -0.074792  0.005334  0.0450 -1.313770e-06 -1.179530e-07   \n",
       "10  0.856065 -0.251713  0.197723  0.0204 -4.750960e-08  1.585610e-08   \n",
       "\n",
       "    cov_x1x2  chiquad/dof modelo  \n",
       "0  -0.001506     0.136933  salt2  \n",
       "3  -0.000637     1.032030  salt2  \n",
       "6   0.000101     1.923060  salt2  \n",
       "7   0.000223     3.319930  salt2  \n",
       "10 -0.003036     0.307391  salt2  "
      ]
     },
     "execution_count": 3,
     "metadata": {},
     "output_type": "execute_result"
    }
   ],
   "source": [
    "df_salt2 = df[df[\"modelo\"]==\"salt2\"]\n",
    "df_salt2.head()"
   ]
  },
  {
   "cell_type": "code",
   "execution_count": 4,
   "id": "b5d4a340",
   "metadata": {},
   "outputs": [
    {
     "data": {
      "text/html": [
       "<div>\n",
       "<style scoped>\n",
       "    .dataframe tbody tr th:only-of-type {\n",
       "        vertical-align: middle;\n",
       "    }\n",
       "\n",
       "    .dataframe tbody tr th {\n",
       "        vertical-align: top;\n",
       "    }\n",
       "\n",
       "    .dataframe thead th {\n",
       "        text-align: right;\n",
       "    }\n",
       "</style>\n",
       "<table border=\"1\" class=\"dataframe\">\n",
       "  <thead>\n",
       "    <tr style=\"text-align: right;\">\n",
       "      <th></th>\n",
       "      <th>name</th>\n",
       "      <th>redshift</th>\n",
       "      <th>t0</th>\n",
       "      <th>t0err</th>\n",
       "      <th>x0</th>\n",
       "      <th>x0err</th>\n",
       "      <th>x1</th>\n",
       "      <th>x1err</th>\n",
       "      <th>x2</th>\n",
       "      <th>x2err</th>\n",
       "      <th>mwebv</th>\n",
       "      <th>cov_x0x1</th>\n",
       "      <th>cov_x0x2</th>\n",
       "      <th>cov_x1x2</th>\n",
       "      <th>chiquad/dof</th>\n",
       "      <th>modelo</th>\n",
       "    </tr>\n",
       "  </thead>\n",
       "  <tbody>\n",
       "    <tr>\n",
       "      <th>1</th>\n",
       "      <td>05D3lr</td>\n",
       "      <td>0.6000</td>\n",
       "      <td>53539.9</td>\n",
       "      <td>0.745297</td>\n",
       "      <td>0.000016</td>\n",
       "      <td>1.303720e-06</td>\n",
       "      <td>0.494142</td>\n",
       "      <td>0.347920</td>\n",
       "      <td>0.795836</td>\n",
       "      <td>0.798955</td>\n",
       "      <td>0.0110</td>\n",
       "      <td>6.661790e-08</td>\n",
       "      <td>9.937370e-07</td>\n",
       "      <td>0.055411</td>\n",
       "      <td>0.092124</td>\n",
       "      <td>exp3</td>\n",
       "    </tr>\n",
       "    <tr>\n",
       "      <th>4</th>\n",
       "      <td>04D2gb</td>\n",
       "      <td>0.4500</td>\n",
       "      <td>53107.9</td>\n",
       "      <td>0.000282</td>\n",
       "      <td>0.000036</td>\n",
       "      <td>8.762050e-07</td>\n",
       "      <td>-0.446477</td>\n",
       "      <td>0.081853</td>\n",
       "      <td>1.543950</td>\n",
       "      <td>0.190128</td>\n",
       "      <td>0.0201</td>\n",
       "      <td>-5.412090e-09</td>\n",
       "      <td>1.542130e-07</td>\n",
       "      <td>-0.000886</td>\n",
       "      <td>11.012700</td>\n",
       "      <td>exp3</td>\n",
       "    </tr>\n",
       "    <tr>\n",
       "      <th>8</th>\n",
       "      <td>sn2002hu</td>\n",
       "      <td>0.0380</td>\n",
       "      <td>52592.5</td>\n",
       "      <td>0.133577</td>\n",
       "      <td>0.010509</td>\n",
       "      <td>2.165150e-04</td>\n",
       "      <td>0.448480</td>\n",
       "      <td>0.045778</td>\n",
       "      <td>0.780785</td>\n",
       "      <td>0.254692</td>\n",
       "      <td>0.0450</td>\n",
       "      <td>-5.298700e-06</td>\n",
       "      <td>5.335650e-05</td>\n",
       "      <td>-0.006304</td>\n",
       "      <td>2.089210</td>\n",
       "      <td>exp3</td>\n",
       "    </tr>\n",
       "    <tr>\n",
       "      <th>11</th>\n",
       "      <td>06D2ce</td>\n",
       "      <td>0.8200</td>\n",
       "      <td>53802.5</td>\n",
       "      <td>0.000177</td>\n",
       "      <td>0.000008</td>\n",
       "      <td>1.376510e-06</td>\n",
       "      <td>0.830732</td>\n",
       "      <td>0.279486</td>\n",
       "      <td>-1.822110</td>\n",
       "      <td>1.580120</td>\n",
       "      <td>0.0204</td>\n",
       "      <td>-3.072350e-07</td>\n",
       "      <td>2.133150e-06</td>\n",
       "      <td>-0.347106</td>\n",
       "      <td>0.382241</td>\n",
       "      <td>exp3</td>\n",
       "    </tr>\n",
       "    <tr>\n",
       "      <th>14</th>\n",
       "      <td>8046.0</td>\n",
       "      <td>0.2593</td>\n",
       "      <td>53683.0</td>\n",
       "      <td>0.000093</td>\n",
       "      <td>0.000129</td>\n",
       "      <td>1.216520e-05</td>\n",
       "      <td>0.774620</td>\n",
       "      <td>0.928962</td>\n",
       "      <td>2.464560</td>\n",
       "      <td>0.955442</td>\n",
       "      <td>0.0292</td>\n",
       "      <td>6.889530e-06</td>\n",
       "      <td>1.070770e-05</td>\n",
       "      <td>0.653975</td>\n",
       "      <td>0.657120</td>\n",
       "      <td>exp3</td>\n",
       "    </tr>\n",
       "  </tbody>\n",
       "</table>\n",
       "</div>"
      ],
      "text/plain": [
       "        name  redshift       t0     t0err        x0         x0err        x1  \\\n",
       "1     05D3lr    0.6000  53539.9  0.745297  0.000016  1.303720e-06  0.494142   \n",
       "4     04D2gb    0.4500  53107.9  0.000282  0.000036  8.762050e-07 -0.446477   \n",
       "8   sn2002hu    0.0380  52592.5  0.133577  0.010509  2.165150e-04  0.448480   \n",
       "11    06D2ce    0.8200  53802.5  0.000177  0.000008  1.376510e-06  0.830732   \n",
       "14    8046.0    0.2593  53683.0  0.000093  0.000129  1.216520e-05  0.774620   \n",
       "\n",
       "       x1err        x2     x2err   mwebv      cov_x0x1      cov_x0x2  \\\n",
       "1   0.347920  0.795836  0.798955  0.0110  6.661790e-08  9.937370e-07   \n",
       "4   0.081853  1.543950  0.190128  0.0201 -5.412090e-09  1.542130e-07   \n",
       "8   0.045778  0.780785  0.254692  0.0450 -5.298700e-06  5.335650e-05   \n",
       "11  0.279486 -1.822110  1.580120  0.0204 -3.072350e-07  2.133150e-06   \n",
       "14  0.928962  2.464560  0.955442  0.0292  6.889530e-06  1.070770e-05   \n",
       "\n",
       "    cov_x1x2  chiquad/dof modelo  \n",
       "1   0.055411     0.092124   exp3  \n",
       "4  -0.000886    11.012700   exp3  \n",
       "8  -0.006304     2.089210   exp3  \n",
       "11 -0.347106     0.382241   exp3  \n",
       "14  0.653975     0.657120   exp3  "
      ]
     },
     "execution_count": 4,
     "metadata": {},
     "output_type": "execute_result"
    }
   ],
   "source": [
    "df_exp = df[df[\"modelo\"]==\"exp3\"]\n",
    "df_exp.head()"
   ]
  },
  {
   "cell_type": "code",
   "execution_count": 5,
   "id": "6aa2aeea",
   "metadata": {},
   "outputs": [
    {
     "data": {
      "text/html": [
       "<div>\n",
       "<style scoped>\n",
       "    .dataframe tbody tr th:only-of-type {\n",
       "        vertical-align: middle;\n",
       "    }\n",
       "\n",
       "    .dataframe tbody tr th {\n",
       "        vertical-align: top;\n",
       "    }\n",
       "\n",
       "    .dataframe thead th {\n",
       "        text-align: right;\n",
       "    }\n",
       "</style>\n",
       "<table border=\"1\" class=\"dataframe\">\n",
       "  <thead>\n",
       "    <tr style=\"text-align: right;\">\n",
       "      <th></th>\n",
       "      <th>name</th>\n",
       "      <th>redshift</th>\n",
       "      <th>t0</th>\n",
       "      <th>t0err</th>\n",
       "      <th>x0</th>\n",
       "      <th>x0err</th>\n",
       "      <th>x1</th>\n",
       "      <th>x1err</th>\n",
       "      <th>x2</th>\n",
       "      <th>x2err</th>\n",
       "      <th>mwebv</th>\n",
       "      <th>cov_x0x1</th>\n",
       "      <th>cov_x0x2</th>\n",
       "      <th>cov_x1x2</th>\n",
       "      <th>chiquad/dof</th>\n",
       "      <th>modelo</th>\n",
       "    </tr>\n",
       "  </thead>\n",
       "  <tbody>\n",
       "    <tr>\n",
       "      <th>2</th>\n",
       "      <td>05D3lr</td>\n",
       "      <td>0.6000</td>\n",
       "      <td>53539.8</td>\n",
       "      <td>0.797247</td>\n",
       "      <td>0.000014</td>\n",
       "      <td>7.710000e-07</td>\n",
       "      <td>0.447875</td>\n",
       "      <td>0.376417</td>\n",
       "      <td>0.039706</td>\n",
       "      <td>0.097390</td>\n",
       "      <td>0.0110</td>\n",
       "      <td>-4.836770e-08</td>\n",
       "      <td>-6.655050e-08</td>\n",
       "      <td>0.004627</td>\n",
       "      <td>0.154292</td>\n",
       "      <td>exp2lc</td>\n",
       "    </tr>\n",
       "    <tr>\n",
       "      <th>5</th>\n",
       "      <td>04D2gb</td>\n",
       "      <td>0.4500</td>\n",
       "      <td>53107.4</td>\n",
       "      <td>0.336112</td>\n",
       "      <td>0.000031</td>\n",
       "      <td>4.591890e-07</td>\n",
       "      <td>-0.356747</td>\n",
       "      <td>0.100293</td>\n",
       "      <td>0.044428</td>\n",
       "      <td>0.022604</td>\n",
       "      <td>0.0201</td>\n",
       "      <td>1.125390e-08</td>\n",
       "      <td>-7.038750e-09</td>\n",
       "      <td>-0.000492</td>\n",
       "      <td>5.970980</td>\n",
       "      <td>exp2lc</td>\n",
       "    </tr>\n",
       "    <tr>\n",
       "      <th>9</th>\n",
       "      <td>sn2002hu</td>\n",
       "      <td>0.0380</td>\n",
       "      <td>52594.2</td>\n",
       "      <td>0.120050</td>\n",
       "      <td>1.236380</td>\n",
       "      <td>7.298810e-02</td>\n",
       "      <td>0.807109</td>\n",
       "      <td>0.038072</td>\n",
       "      <td>-9.413120</td>\n",
       "      <td>0.151815</td>\n",
       "      <td>0.0450</td>\n",
       "      <td>-1.330080e-06</td>\n",
       "      <td>-1.103490e-02</td>\n",
       "      <td>-0.000121</td>\n",
       "      <td>1.675690</td>\n",
       "      <td>exp2lc</td>\n",
       "    </tr>\n",
       "    <tr>\n",
       "      <th>12</th>\n",
       "      <td>06D2ce</td>\n",
       "      <td>0.8200</td>\n",
       "      <td>53801.5</td>\n",
       "      <td>1.438300</td>\n",
       "      <td>0.000010</td>\n",
       "      <td>3.941040e-07</td>\n",
       "      <td>0.567625</td>\n",
       "      <td>0.144938</td>\n",
       "      <td>-0.154079</td>\n",
       "      <td>0.199961</td>\n",
       "      <td>0.0204</td>\n",
       "      <td>-1.035220e-08</td>\n",
       "      <td>4.219080e-08</td>\n",
       "      <td>0.001409</td>\n",
       "      <td>0.491963</td>\n",
       "      <td>exp2lc</td>\n",
       "    </tr>\n",
       "    <tr>\n",
       "      <th>15</th>\n",
       "      <td>8046.0</td>\n",
       "      <td>0.2593</td>\n",
       "      <td>53683.0</td>\n",
       "      <td>0.000361</td>\n",
       "      <td>0.000101</td>\n",
       "      <td>8.663620e-06</td>\n",
       "      <td>-0.809649</td>\n",
       "      <td>0.845841</td>\n",
       "      <td>0.047073</td>\n",
       "      <td>0.096588</td>\n",
       "      <td>0.0292</td>\n",
       "      <td>-3.264840e-06</td>\n",
       "      <td>-7.564490e-07</td>\n",
       "      <td>0.031140</td>\n",
       "      <td>0.918005</td>\n",
       "      <td>exp2lc</td>\n",
       "    </tr>\n",
       "  </tbody>\n",
       "</table>\n",
       "</div>"
      ],
      "text/plain": [
       "        name  redshift       t0     t0err        x0         x0err        x1  \\\n",
       "2     05D3lr    0.6000  53539.8  0.797247  0.000014  7.710000e-07  0.447875   \n",
       "5     04D2gb    0.4500  53107.4  0.336112  0.000031  4.591890e-07 -0.356747   \n",
       "9   sn2002hu    0.0380  52594.2  0.120050  1.236380  7.298810e-02  0.807109   \n",
       "12    06D2ce    0.8200  53801.5  1.438300  0.000010  3.941040e-07  0.567625   \n",
       "15    8046.0    0.2593  53683.0  0.000361  0.000101  8.663620e-06 -0.809649   \n",
       "\n",
       "       x1err        x2     x2err   mwebv      cov_x0x1      cov_x0x2  \\\n",
       "2   0.376417  0.039706  0.097390  0.0110 -4.836770e-08 -6.655050e-08   \n",
       "5   0.100293  0.044428  0.022604  0.0201  1.125390e-08 -7.038750e-09   \n",
       "9   0.038072 -9.413120  0.151815  0.0450 -1.330080e-06 -1.103490e-02   \n",
       "12  0.144938 -0.154079  0.199961  0.0204 -1.035220e-08  4.219080e-08   \n",
       "15  0.845841  0.047073  0.096588  0.0292 -3.264840e-06 -7.564490e-07   \n",
       "\n",
       "    cov_x1x2  chiquad/dof  modelo  \n",
       "2   0.004627     0.154292  exp2lc  \n",
       "5  -0.000492     5.970980  exp2lc  \n",
       "9  -0.000121     1.675690  exp2lc  \n",
       "12  0.001409     0.491963  exp2lc  \n",
       "15  0.031140     0.918005  exp2lc  "
      ]
     },
     "execution_count": 5,
     "metadata": {},
     "output_type": "execute_result"
    }
   ],
   "source": [
    "df_2_lc = df[df[\"modelo\"]==\"exp2lc\"]\n",
    "df_2_lc.head()"
   ]
  },
  {
   "cell_type": "markdown",
   "id": "ecce31b8",
   "metadata": {},
   "source": [
    "## Applying cuts"
   ]
  },
  {
   "cell_type": "markdown",
   "id": "9a857960",
   "metadata": {},
   "source": [
    "### chi squared"
   ]
  },
  {
   "cell_type": "code",
   "execution_count": 6,
   "id": "0185155c",
   "metadata": {},
   "outputs": [
    {
     "name": "stdout",
     "output_type": "stream",
     "text": [
      "Droping  114  elements\n",
      "Resulting elements:  603\n"
     ]
    },
    {
     "name": "stderr",
     "output_type": "stream",
     "text": [
      "/home/joao/.local/lib/python3.8/site-packages/pandas/core/frame.py:4906: SettingWithCopyWarning: \n",
      "A value is trying to be set on a copy of a slice from a DataFrame\n",
      "\n",
      "See the caveats in the documentation: https://pandas.pydata.org/pandas-docs/stable/user_guide/indexing.html#returning-a-view-versus-a-copy\n",
      "  return super().drop(\n"
     ]
    }
   ],
   "source": [
    "print(\"Droping \",len(df_salt2.index[df_salt2[\"chiquad/dof\"]>3]), \" elements\")\n",
    "df_salt2.drop(df_salt2.index[df_salt2[\"chiquad/dof\"]>3], axis=0, inplace=True)\n",
    "print(\"Resulting elements: \",len(df_salt2))"
   ]
  },
  {
   "cell_type": "code",
   "execution_count": 7,
   "id": "4e4aa7fd",
   "metadata": {},
   "outputs": [
    {
     "name": "stdout",
     "output_type": "stream",
     "text": [
      "Droping  189  elements\n",
      "Resulting elements:  517\n"
     ]
    }
   ],
   "source": [
    "print(\"Droping \",len(df_exp.index[df_exp[\"chiquad/dof\"]>3]), \" elements\")\n",
    "df_exp.drop(df_exp.index[df_exp[\"chiquad/dof\"]>3], axis=0, inplace=True)\n",
    "print(\"Resulting elements: \",len(df_exp))"
   ]
  },
  {
   "cell_type": "code",
   "execution_count": 8,
   "id": "0663f1fd",
   "metadata": {},
   "outputs": [
    {
     "name": "stdout",
     "output_type": "stream",
     "text": [
      "Droping  187  elements\n",
      "Resulting elements:  515\n"
     ]
    }
   ],
   "source": [
    "print(\"Droping \",len(df_2_lc.index[df_2_lc[\"chiquad/dof\"]>3]), \" elements\")\n",
    "df_2_lc.drop(df_2_lc.index[df_2_lc[\"chiquad/dof\"]>3], axis=0, inplace=True)\n",
    "print(\"Resulting elements: \",len(df_2_lc))"
   ]
  },
  {
   "cell_type": "code",
   "execution_count": 9,
   "id": "a2fe01d1",
   "metadata": {},
   "outputs": [
    {
     "data": {
      "image/png": "[encoded data removed]",
      "text/plain": [
       "<Figure size 432x288 with 1 Axes>"
      ]
     },
     "metadata": {
      "needs_background": "light"
     },
     "output_type": "display_data"
    }
   ],
   "source": [
    "plt.hist(df_salt2[\"chiquad/dof\"], density=True, ec=\"black\", label=\"salt2\")\n",
    "plt.hist(df_exp[\"chiquad/dof\"], density=True, ec=\"black\", label=\"exp3\")\n",
    "plt.hist(df_2_lc[\"chiquad/dof\"], density=True, ec=\"black\", label=\"exp2 lc\")\n",
    "plt.legend();"
   ]
  },
  {
   "cell_type": "markdown",
   "id": "15df69fb",
   "metadata": {},
   "source": [
    "### x1"
   ]
  },
  {
   "cell_type": "code",
   "execution_count": 10,
   "id": "26c57b09",
   "metadata": {},
   "outputs": [
    {
     "name": "stdout",
     "output_type": "stream",
     "text": [
      "Droping  11  elements\n",
      "Resulting elements:  592\n"
     ]
    }
   ],
   "source": [
    "print(\"Droping \",len(df_salt2.index[abs(df_salt2[\"x1\"])>3]), \" elements\")\n",
    "df_salt2.drop(df_salt2.index[abs(df_salt2[\"x1\"])>3], axis=0, inplace=True)\n",
    "print(\"Resulting elements: \",len(df_salt2))"
   ]
  },
  {
   "cell_type": "code",
   "execution_count": 11,
   "id": "9245629a",
   "metadata": {},
   "outputs": [
    {
     "name": "stdout",
     "output_type": "stream",
     "text": [
      "Droping  38  elements\n",
      "Resulting elements:  479\n"
     ]
    }
   ],
   "source": [
    "print(\"Droping \",len(df_exp.index[abs(df_exp[\"x1\"])>3]), \" elements\")\n",
    "df_exp.drop(df_exp.index[abs(df_exp[\"x1\"])>3], axis=0, inplace=True)\n",
    "print(\"Resulting elements: \",len(df_exp))"
   ]
  },
  {
   "cell_type": "code",
   "execution_count": 12,
   "id": "aae454d5",
   "metadata": {},
   "outputs": [
    {
     "name": "stdout",
     "output_type": "stream",
     "text": [
      "Droping  21  elements\n",
      "Resulting elements:  494\n"
     ]
    }
   ],
   "source": [
    "print(\"Droping \",len(df_2_lc.index[abs(df_2_lc[\"x1\"])>3]), \" elements\")\n",
    "df_2_lc.drop(df_2_lc.index[abs(df_2_lc[\"x1\"])>3], axis=0, inplace=True)\n",
    "print(\"Resulting elements: \",len(df_2_lc))"
   ]
  },
  {
   "cell_type": "markdown",
   "id": "d89b1827",
   "metadata": {},
   "source": [
    "### x1err"
   ]
  },
  {
   "cell_type": "code",
   "execution_count": 13,
   "id": "aa2a2b73",
   "metadata": {},
   "outputs": [
    {
     "name": "stdout",
     "output_type": "stream",
     "text": [
      "Droping  5  elements\n",
      "Resulting elements:  587\n"
     ]
    }
   ],
   "source": [
    "print(\"Droping \",len(df_salt2.index[abs(df_salt2[\"x1err\"])>3]), \" elements\")\n",
    "df_salt2.drop(df_salt2.index[abs(df_salt2[\"x1err\"])>3], axis=0, inplace=True)\n",
    "print(\"Resulting elements: \",len(df_salt2))"
   ]
  },
  {
   "cell_type": "code",
   "execution_count": 14,
   "id": "232c77da",
   "metadata": {},
   "outputs": [
    {
     "name": "stdout",
     "output_type": "stream",
     "text": [
      "Droping  5  elements\n",
      "Resulting elements:  474\n"
     ]
    }
   ],
   "source": [
    "print(\"Droping \",len(df_exp.index[abs(df_exp[\"x1err\"])>3]), \" elements\")\n",
    "df_exp.drop(df_exp.index[abs(df_exp[\"x1err\"])>3], axis=0, inplace=True)\n",
    "print(\"Resulting elements: \",len(df_exp))"
   ]
  },
  {
   "cell_type": "code",
   "execution_count": 15,
   "id": "0d75215d",
   "metadata": {},
   "outputs": [
    {
     "name": "stdout",
     "output_type": "stream",
     "text": [
      "Droping  2  elements\n",
      "Resulting elements:  492\n"
     ]
    }
   ],
   "source": [
    "print(\"Droping \",len(df_2_lc.index[abs(df_2_lc[\"x1err\"])>3]), \" elements\")\n",
    "df_2_lc.drop(df_2_lc.index[abs(df_2_lc[\"x1err\"])>3], axis=0, inplace=True)\n",
    "print(\"Resulting elements: \",len(df_2_lc))"
   ]
  },
  {
   "cell_type": "markdown",
   "id": "e04f4c79",
   "metadata": {},
   "source": [
    "### x2"
   ]
  },
  {
   "cell_type": "code",
   "execution_count": 16,
   "id": "f76bf243",
   "metadata": {},
   "outputs": [
    {
     "name": "stdout",
     "output_type": "stream",
     "text": [
      "Droping  5  elements\n",
      "Resulting elements:  582\n"
     ]
    }
   ],
   "source": [
    "print(\"Droping \",len(df_salt2.index[abs(df_salt2[\"x2\"]-np.median(df_salt2[\"x2\"]))>np.std(df_salt2[\"x2\"])]), \" elements\")\n",
    "df_salt2.drop(df_salt2.index[abs(df_salt2[\"x2\"]-np.median(df_salt2[\"x2\"]))>np.std(df_salt2[\"x2\"])], axis=0, inplace=True)\n",
    "print(\"Resulting elements: \",len(df_salt2))"
   ]
  },
  {
   "cell_type": "code",
   "execution_count": 17,
   "id": "b3d2e293",
   "metadata": {},
   "outputs": [
    {
     "name": "stdout",
     "output_type": "stream",
     "text": [
      "Droping  112  elements\n",
      "Resulting elements:  362\n"
     ]
    }
   ],
   "source": [
    "print(\"Droping \",len(df_exp.index[abs(df_exp[\"x2\"]-np.median(df_exp[\"x2\"]))>np.std(df_exp[\"x2\"])]), \" elements\")\n",
    "df_exp.drop(df_exp.index[abs(df_exp[\"x2\"]-np.median(df_exp[\"x2\"]))>np.std(df_exp[\"x2\"])], axis=0, inplace=True)\n",
    "print(\"Resulting elements: \",len(df_exp))"
   ]
  },
  {
   "cell_type": "code",
   "execution_count": 18,
   "id": "4d6a02eb",
   "metadata": {},
   "outputs": [
    {
     "name": "stdout",
     "output_type": "stream",
     "text": [
      "Droping  22  elements\n",
      "Resulting elements:  470\n"
     ]
    }
   ],
   "source": [
    "print(\"Droping \",len(df_2_lc.index[abs(df_2_lc[\"x2\"]-np.median(df_2_lc[\"x2\"]))>np.std(df_2_lc[\"x2\"])]), \" elements\")\n",
    "df_2_lc.drop(df_2_lc.index[abs(df_2_lc[\"x2\"]-np.median(df_2_lc[\"x2\"]))>np.std(df_2_lc[\"x2\"])], axis=0, inplace=True)\n",
    "print(\"Resulting elements: \",len(df_2_lc))"
   ]
  },
  {
   "cell_type": "markdown",
   "id": "3445e1b4",
   "metadata": {},
   "source": [
    "### x2err"
   ]
  },
  {
   "cell_type": "code",
   "execution_count": 19,
   "id": "8e0f72a1",
   "metadata": {},
   "outputs": [
    {
     "name": "stdout",
     "output_type": "stream",
     "text": [
      "Droping  61  elements\n",
      "Resulting elements:  521\n"
     ]
    }
   ],
   "source": [
    "print(\"Droping \",len(df_salt2.index[abs(df_salt2[\"x2err\"]-np.median(df_salt2[\"x2err\"]))>np.std(df_salt2[\"x2err\"])]), \" elements\")\n",
    "df_salt2.drop(df_salt2.index[abs(df_salt2[\"x2err\"]-np.median(df_salt2[\"x2err\"]))>np.std(df_salt2[\"x2err\"])], axis=0, inplace=True)\n",
    "print(\"Resulting elements: \",len(df_salt2))"
   ]
  },
  {
   "cell_type": "code",
   "execution_count": 20,
   "id": "c38dc3ec",
   "metadata": {},
   "outputs": [
    {
     "name": "stdout",
     "output_type": "stream",
     "text": [
      "Droping  59  elements\n",
      "Resulting elements:  303\n"
     ]
    }
   ],
   "source": [
    "print(\"Droping \",len(df_exp.index[abs(df_exp[\"x2err\"]-np.median(df_exp[\"x2err\"]))>np.std(df_exp[\"x2err\"])]), \" elements\")\n",
    "df_exp.drop(df_exp.index[abs(df_exp[\"x2err\"]-np.median(df_exp[\"x2err\"]))>np.std(df_exp[\"x2err\"])], axis=0, inplace=True)\n",
    "print(\"Resulting elements: \",len(df_exp))"
   ]
  },
  {
   "cell_type": "code",
   "execution_count": 21,
   "id": "a49d7af4",
   "metadata": {},
   "outputs": [
    {
     "name": "stdout",
     "output_type": "stream",
     "text": [
      "Droping  8  elements\n",
      "Resulting elements:  462\n"
     ]
    }
   ],
   "source": [
    "print(\"Droping \",len(df_2_lc.index[abs(df_2_lc[\"x2err\"]-np.median(df_2_lc[\"x2err\"]))>np.std(df_2_lc[\"x2err\"])]), \" elements\")\n",
    "df_2_lc.drop(df_2_lc.index[abs(df_2_lc[\"x2err\"]-np.median(df_2_lc[\"x2err\"]))>np.std(df_2_lc[\"x2err\"])], axis=0, inplace=True)\n",
    "print(\"Resulting elements: \",len(df_2_lc))"
   ]
  },
  {
   "cell_type": "code",
   "execution_count": 22,
   "id": "20f312fc",
   "metadata": {},
   "outputs": [
    {
     "data": {
      "image/png": "[encoded data removed]",
      "text/plain": [
       "<Figure size 432x288 with 1 Axes>"
      ]
     },
     "metadata": {
      "needs_background": "light"
     },
     "output_type": "display_data"
    }
   ],
   "source": [
    "plt.hist(np.log10(df_salt2[\"x0\"]), density=True, ec=\"black\", label=\"salt2\")\n",
    "plt.hist(np.log10(df_exp[\"x0\"]), density=True, ec=\"black\", label=\"exp3\")\n",
    "plt.hist(np.log10(df_2_lc[\"x0\"]), density=True, ec=\"black\", label=\"exp2 lc\")\n",
    "plt.legend();"
   ]
  },
  {
   "cell_type": "code",
   "execution_count": 23,
   "id": "2d57ac31",
   "metadata": {},
   "outputs": [
    {
     "data": {
      "image/png": "[encoded data removed]",
      "text/plain": [
       "<Figure size 432x288 with 1 Axes>"
      ]
     },
     "metadata": {
      "needs_background": "light"
     },
     "output_type": "display_data"
    }
   ],
   "source": [
    "plt.hist(np.log10(df_salt2[\"x0err\"]), density=True, ec=\"black\", label=\"salt2\")\n",
    "plt.hist(np.log10(df_exp[\"x0err\"]), density=True, ec=\"black\", label=\"exp3\")\n",
    "plt.hist(np.log10(df_2_lc[\"x0err\"]), density=True, ec=\"black\", label=\"exp2 lc\")\n",
    "plt.legend();"
   ]
  },
  {
   "cell_type": "code",
   "execution_count": 24,
   "id": "d25f6d42",
   "metadata": {},
   "outputs": [
    {
     "data": {
      "text/plain": [
       "-2.72512"
      ]
     },
     "execution_count": 24,
     "metadata": {},
     "output_type": "execute_result"
    }
   ],
   "source": [
    "min(df_salt2[\"x1\"])"
   ]
  },
  {
   "cell_type": "code",
   "execution_count": 25,
   "id": "ee1d6fad",
   "metadata": {},
   "outputs": [
    {
     "data": {
      "image/png": "[encoded data removed]",
      "text/plain": [
       "<Figure size 432x288 with 1 Axes>"
      ]
     },
     "metadata": {
      "needs_background": "light"
     },
     "output_type": "display_data"
    }
   ],
   "source": [
    "plt.hist(df_salt2[\"x1\"], density=True, ec=\"black\", label=\"salt2\")\n",
    "plt.hist(df_exp[\"x1\"], density=True, ec=\"black\", label=\"exp3\")\n",
    "plt.hist(df_2_lc[\"x1\"], density=True, ec=\"black\", label=\"exp2 lc\")\n",
    "plt.legend();"
   ]
  },
  {
   "cell_type": "code",
   "execution_count": 26,
   "id": "0fd1b3b2",
   "metadata": {},
   "outputs": [
    {
     "data": {
      "image/png": "[encoded data removed]",
      "text/plain": [
       "<Figure size 432x288 with 1 Axes>"
      ]
     },
     "metadata": {
      "needs_background": "light"
     },
     "output_type": "display_data"
    }
   ],
   "source": [
    "plt.hist(df_salt2[\"x1err\"], density=True, ec=\"black\", label=\"salt2\")\n",
    "plt.hist(df_exp[\"x1err\"], density=True, ec=\"black\", label=\"exp3\")\n",
    "plt.hist(df_2_lc[\"x1err\"], density=True, ec=\"black\", label=\"exp2 lc\")\n",
    "plt.legend();"
   ]
  },
  {
   "cell_type": "code",
   "execution_count": 27,
   "id": "830ce68c",
   "metadata": {},
   "outputs": [
    {
     "data": {
      "image/png": "[encoded data removed]",
      "text/plain": [
       "<Figure size 432x288 with 1 Axes>"
      ]
     },
     "metadata": {
      "needs_background": "light"
     },
     "output_type": "display_data"
    }
   ],
   "source": [
    "plt.hist(df_salt2[\"x2\"], density=True, ec=\"black\", label=\"salt2\")\n",
    "plt.hist(df_exp[\"x2\"], density=True, ec=\"black\", label=\"exp3\")\n",
    "plt.hist(df_2_lc[\"x2\"], density=True, ec=\"black\", label=\"exp2 lc\")\n",
    "plt.legend();"
   ]
  },
  {
   "cell_type": "code",
   "execution_count": 28,
   "id": "5c3cd920",
   "metadata": {},
   "outputs": [
    {
     "data": {
      "text/plain": [
       "5.95329"
      ]
     },
     "execution_count": 28,
     "metadata": {},
     "output_type": "execute_result"
    }
   ],
   "source": [
    "max(df_2_lc[\"x2\"])"
   ]
  },
  {
   "cell_type": "code",
   "execution_count": 29,
   "id": "163f7eae",
   "metadata": {},
   "outputs": [
    {
     "data": {
      "image/png": "[encoded data removed]",
      "text/plain": [
       "<Figure size 432x288 with 1 Axes>"
      ]
     },
     "metadata": {
      "needs_background": "light"
     },
     "output_type": "display_data"
    }
   ],
   "source": [
    "plt.hist(df_salt2[\"x2err\"], density=True, ec=\"black\", label=\"salt2\")\n",
    "plt.hist(df_exp[\"x2err\"], density=True, ec=\"black\", label=\"exp3\")\n",
    "plt.hist(df_2_lc[\"x2err\"], density=True, ec=\"black\", label=\"exp2 lc\")\n",
    "plt.legend();"
   ]
  },
  {
   "cell_type": "markdown",
   "id": "f29d4922",
   "metadata": {},
   "source": [
    "## Adding mb column"
   ]
  },
  {
   "cell_type": "code",
   "execution_count": 30,
   "id": "8439868d",
   "metadata": {},
   "outputs": [
    {
     "name": "stderr",
     "output_type": "stream",
     "text": [
      "/tmp/ipykernel_21363/485644502.py:3: SettingWithCopyWarning: \n",
      "A value is trying to be set on a copy of a slice from a DataFrame.\n",
      "Try using .loc[row_indexer,col_indexer] = value instead\n",
      "\n",
      "See the caveats in the documentation: https://pandas.pydata.org/pandas-docs/stable/user_guide/indexing.html#returning-a-view-versus-a-copy\n",
      "  df_salt2[\"mb\"]= -2.5*np.log10(df_salt2[\"x0\"])+10 #referencia\n",
      "/tmp/ipykernel_21363/485644502.py:4: SettingWithCopyWarning: \n",
      "A value is trying to be set on a copy of a slice from a DataFrame.\n",
      "Try using .loc[row_indexer,col_indexer] = value instead\n",
      "\n",
      "See the caveats in the documentation: https://pandas.pydata.org/pandas-docs/stable/user_guide/indexing.html#returning-a-view-versus-a-copy\n",
      "  df_salt2[\"mberr\"] = 1.08574*(df_salt2[\"x0err\"])/df_salt2[\"x0\"]\n",
      "/tmp/ipykernel_21363/485644502.py:6: SettingWithCopyWarning: \n",
      "A value is trying to be set on a copy of a slice from a DataFrame.\n",
      "Try using .loc[row_indexer,col_indexer] = value instead\n",
      "\n",
      "See the caveats in the documentation: https://pandas.pydata.org/pandas-docs/stable/user_guide/indexing.html#returning-a-view-versus-a-copy\n",
      "  df_exp[\"mb\"]= -2.5*np.log10(df_exp[\"x0\"])+10 #referencia\n",
      "/tmp/ipykernel_21363/485644502.py:7: SettingWithCopyWarning: \n",
      "A value is trying to be set on a copy of a slice from a DataFrame.\n",
      "Try using .loc[row_indexer,col_indexer] = value instead\n",
      "\n",
      "See the caveats in the documentation: https://pandas.pydata.org/pandas-docs/stable/user_guide/indexing.html#returning-a-view-versus-a-copy\n",
      "  df_exp[\"mberr\"] = 1.08574*(df_exp[\"x0err\"])/df_exp[\"x0\"]\n",
      "/tmp/ipykernel_21363/485644502.py:9: SettingWithCopyWarning: \n",
      "A value is trying to be set on a copy of a slice from a DataFrame.\n",
      "Try using .loc[row_indexer,col_indexer] = value instead\n",
      "\n",
      "See the caveats in the documentation: https://pandas.pydata.org/pandas-docs/stable/user_guide/indexing.html#returning-a-view-versus-a-copy\n",
      "  df_2_lc[\"mb\"]= -2.5*np.log10(df_2_lc[\"x0\"])+10 #referencia\n",
      "/tmp/ipykernel_21363/485644502.py:10: SettingWithCopyWarning: \n",
      "A value is trying to be set on a copy of a slice from a DataFrame.\n",
      "Try using .loc[row_indexer,col_indexer] = value instead\n",
      "\n",
      "See the caveats in the documentation: https://pandas.pydata.org/pandas-docs/stable/user_guide/indexing.html#returning-a-view-versus-a-copy\n",
      "  df_2_lc[\"mberr\"] = 1.08574*(df_2_lc[\"x0err\"])/df_2_lc[\"x0\"]\n"
     ]
    }
   ],
   "source": [
    "# mb e mb err\n",
    "\n",
    "df_salt2[\"mb\"]= -2.5*np.log10(df_salt2[\"x0\"])+10 #referencia\n",
    "df_salt2[\"mberr\"] = 1.08574*(df_salt2[\"x0err\"])/df_salt2[\"x0\"]\n",
    "\n",
    "df_exp[\"mb\"]= -2.5*np.log10(df_exp[\"x0\"])+10 #referencia\n",
    "df_exp[\"mberr\"] = 1.08574*(df_exp[\"x0err\"])/df_exp[\"x0\"]\n",
    "\n",
    "df_2_lc[\"mb\"]= -2.5*np.log10(df_2_lc[\"x0\"])+10 #referencia\n",
    "df_2_lc[\"mberr\"] = 1.08574*(df_2_lc[\"x0err\"])/df_2_lc[\"x0\"]"
   ]
  },
  {
   "cell_type": "code",
   "execution_count": 31,
   "id": "0b9054e9",
   "metadata": {},
   "outputs": [],
   "source": [
    "df_salt2.reset_index(drop=True, inplace=True)\n",
    "df_exp.reset_index(drop=True, inplace=True)\n",
    "df_2_lc.reset_index(drop=True, inplace=True)\n"
   ]
  },
  {
   "cell_type": "markdown",
   "id": "76cfb280",
   "metadata": {},
   "source": [
    "# mcmc sampling"
   ]
  },
  {
   "cell_type": "code",
   "execution_count": 32,
   "id": "b6995dfc",
   "metadata": {},
   "outputs": [],
   "source": [
    "ndim = 7 # M, alpha, beta, om_m, om_l, h and sigma"
   ]
  },
  {
   "cell_type": "code",
   "execution_count": 33,
   "id": "d75afe65",
   "metadata": {},
   "outputs": [],
   "source": [
    "class make_cosmo:\n",
    "    def __init__(self, data):\n",
    "        \"\"\"\n",
    "        calculates a chi squared function depending on the model\n",
    "        data: pd dataframe\n",
    "        \"\"\"\n",
    "        self.data = data\n",
    "        \n",
    "    def integrando_dl(self, x, Om_m, Om_l):\n",
    "\n",
    "        '''\n",
    "        cmb redshift = x\n",
    "        Omega matter density = Om_m\n",
    "        Omega cosmologic constant density = Om_l\n",
    "\n",
    "\n",
    "        :return = integrand\n",
    "        '''\n",
    "\n",
    "        return (1/(np.sqrt(Om_m*(1 + x)*(1 + x)*(1 + x) + Om_l + (1.0 - Om_m - Om_l)*(1 + x)*(1 + x))))\n",
    "    \n",
    "    #test function for luminosity distance\n",
    "    def luminosity_d(self, Om_k, integral):\n",
    "\n",
    "        '''\n",
    "        Omega curvature density = Om_k\n",
    "        Integral value = integral\n",
    "\n",
    "        :return = luminosity distance/(1+redshift)\n",
    "        '''\n",
    "\n",
    "        if(Om_k > 0):\n",
    "\n",
    "            result = (1/np.sqrt(Om_k))*np.sinh(np.sqrt(Om_k)*integral)\n",
    "\n",
    "        if(Om_k == 0):\n",
    "\n",
    "            result = integral\n",
    "\n",
    "        if(Om_k < 0):\n",
    "\n",
    "            result = (1/np.sqrt(-Om_k))*np.sin(np.sqrt(-Om_k)*integral)\n",
    "\n",
    "        return result\n",
    "\n",
    "    def model(self, par):\n",
    "        \"\"\"\n",
    "        chi squared function of salt2\n",
    "        par: list/np array (free parameters)\n",
    "        \"\"\"\n",
    "        [M, a, b, Om_m, Om_l, h, sigma] = par\n",
    "        #curvature density  \n",
    "        Om_k = 1.0 - float(Om_m) - float(Om_l)\n",
    "\n",
    "        muth = np.zeros(len(self.data))\n",
    "        #print(M, a, b, Om_m, Om_l)\n",
    "        #to calculate luminosity distance with Om_m and Om_l as arguments\n",
    "        for ii in range(0, len(self.data)):\n",
    "\n",
    "            #integral value\n",
    "\n",
    "            I = quad(self.integrando_dl, 0, self.data[\"redshift\"][ii], args = (Om_m, Om_l))\n",
    "\n",
    "            #luminosity distance\n",
    "            dl = (1 + self.data[\"redshift\"][ii])*self.luminosity_d(Om_k, I[0])\n",
    "\n",
    "            #theoric distance module\n",
    "            muth[ii] = 5*np.log10(dl) - 5*np.log10(h) + 42.3856062736\n",
    "\n",
    "        #experimental distance module array\n",
    "        muexp = self.data[\"mb\"] - M + a*self.data[\"x1\"] - b*self.data[\"x2\"]   \n",
    "\n",
    "        sigmaz = 0.0012*(5/np.log(10))*(1 + df[\"redshift\"])/(df[\"redshift\"]*(1 + df[\"redshift\"]/2))\n",
    "\n",
    "        #cov_error = +(2*2.5/df[\"x0\"]*np.log(10))*a*df[\"cov_x0x1\"] - (2*2.5/df[\"x0\"]*np.log(10))*b*df[\"cov_x0x2\"] - 2*a*b*df[\"cov_x1x2\"]\n",
    "        #squared error\n",
    "        E_muexp_quad = self.data[\"mberr\"]*self.data[\"mberr\"] + a*a*self.data[\"x1err\"]*self.data[\"x1err\"] + b*b*self.data[\"x2err\"]*self.data[\"x2err\"] + sigmaz*sigmaz + sigma*sigma\n",
    "\n",
    "        chi_squared = np.sum(((muexp - muth)**2)/E_muexp_quad)\n",
    "\n",
    "        log_part = np.sum(np.log(E_muexp_quad))\n",
    "\n",
    "        a = chi_squared + log_part + len(E_muexp_quad)*2*np.pi\n",
    "        return -a\n",
    "\n",
    "    def lnpriorfn(self, par):\n",
    "\n",
    "        '''\n",
    "        param array = par\n",
    "\n",
    "        :return = log of posterior (in this case, posterior = likelihood because likelihood is a gaussian dist)\n",
    "        '''\n",
    "\n",
    "        [M, a, b, Om_m, Om_l, h, sigma] = par\n",
    "\n",
    "\n",
    "        if -30 < par[0] < -10 and 0 < par[1] < 1.0 and -4 < par [2] < 4 and  0. < par[3] < 1.5 and 0. < par[4] < 1.5 and  0. < par[5] < 1.0 and 0. < par[6] < 1000.:        \n",
    "            return 0\n",
    "\n",
    "        else:\n",
    "\n",
    "            return -np.inf"
   ]
  },
  {
   "cell_type": "markdown",
   "id": "8dcbc280",
   "metadata": {},
   "source": [
    "## SALT2"
   ]
  },
  {
   "cell_type": "code",
   "execution_count": 34,
   "id": "5bbe014e",
   "metadata": {},
   "outputs": [],
   "source": [
    "#cosmo = make_cosmo(df_salt2)"
   ]
  },
  {
   "cell_type": "code",
   "execution_count": 35,
   "id": "0201b0e4",
   "metadata": {
    "scrolled": true
   },
   "outputs": [
    {
     "data": {
      "text/plain": [
       "\"\\ninitial_guess = [-20, 0.1, 3.0, 0.2, 0.8, 0.7, 10] #palpite de valores iniciais para o valor de M, alpha e beta que minimizam a likelihood\\n                                                                                                                     \\nresult = optimize.minimize(cosmo.model, initial_guess, method = 'Nelder-Mead') #funcao, palpite, metodo de minimizacao\\nif result.success:\\n    fitted_params = result.x\\n                                                                                                                                                                                                                                                                                                                                                                                                 \\n    print(fitted_params)\\nelse: #se nao: erro\\n    raise ValueError(result.message)\\n\""
      ]
     },
     "execution_count": 35,
     "metadata": {},
     "output_type": "execute_result"
    }
   ],
   "source": [
    "\"\"\"\n",
    "initial_guess = [-20, 0.1, 3.0, 0.2, 0.8, 0.7, 10] #palpite de valores iniciais para o valor de M, alpha e beta que minimizam a likelihood\n",
    "                                                                                                                     \n",
    "result = optimize.minimize(cosmo.model, initial_guess, method = 'Nelder-Mead') #funcao, palpite, metodo de minimizacao\n",
    "if result.success:\n",
    "    fitted_params = result.x\n",
    "                                                                                                                                                                                                                                                                                                                                                                                                 \n",
    "    print(fitted_params)\n",
    "else: #se nao: erro\n",
    "    raise ValueError(result.message)\n",
    "\"\"\""
   ]
  },
  {
   "cell_type": "code",
   "execution_count": 36,
   "id": "8a8855f0",
   "metadata": {},
   "outputs": [],
   "source": [
    "cosmo = make_cosmo(df_salt2)"
   ]
  },
  {
   "cell_type": "code",
   "execution_count": 37,
   "id": "5d08aeca",
   "metadata": {},
   "outputs": [],
   "source": [
    "cov = np.eye(ndim) * 0.01**2\n",
    "sampler = PTMCMCSampler.PTSampler(ndim, cosmo.model, cosmo.lnpriorfn, np.copy(cov), outDir='./chains/salt2/chains_salt2')"
   ]
  },
  {
   "cell_type": "code",
   "execution_count": 38,
   "id": "6e211df8",
   "metadata": {},
   "outputs": [],
   "source": [
    "x0 = np.array([-20, 0.1, 3.0, 0.2, 0.8, 0.7, 0.15])"
   ]
  },
  {
   "cell_type": "code",
   "execution_count": 39,
   "id": "138474a2",
   "metadata": {
    "scrolled": true
   },
   "outputs": [
    {
     "name": "stdout",
     "output_type": "stream",
     "text": [
      "Adding DE jump with weight 10\n",
      "Finished 95.00 percent in 688.552161 s Acceptance rate = 0.246368\n",
      "Run Complete\n"
     ]
    }
   ],
   "source": [
    "sampler.sample(x0, 20000, burn=500, thin=10, covUpdate=500, SCAMweight=10, AMweight=10, DEweight=10)"
   ]
  },
  {
   "cell_type": "code",
   "execution_count": 40,
   "id": "462d523e",
   "metadata": {},
   "outputs": [
    {
     "data": {
      "text/plain": [
       "(0.0, 1.1)"
      ]
     },
     "execution_count": 40,
     "metadata": {},
     "output_type": "execute_result"
    },
    {
     "data": {
      "image/png": "[encoded data removed]",
      "text/plain": [
       "<Figure size 432x288 with 1 Axes>"
      ]
     },
     "metadata": {
      "needs_background": "light"
     },
     "output_type": "display_data"
    }
   ],
   "source": [
    "jumpfiles = glob.glob('/home/joao/Documents/GitHub/SNFACTORY_SNTRAIN/chains/salt2/chains_salt2/*jump.txt')\n",
    "jumps = map(np.loadtxt, jumpfiles)\n",
    "for ct, j in enumerate(jumps):\n",
    "    plt.plot(j, label=jumpfiles[ct].split('/')[-1].split('_jump.txt')[0])\n",
    "plt.legend(loc='best', frameon=False)\n",
    "plt.ylabel('Acceptance Rate')\n",
    "plt.ylim(0.0, 1.1)"
   ]
  },
  {
   "cell_type": "markdown",
   "id": "f20fc22f",
   "metadata": {},
   "source": [
    "## Exp"
   ]
  },
  {
   "cell_type": "code",
   "execution_count": 41,
   "id": "0bfe68a3",
   "metadata": {},
   "outputs": [],
   "source": [
    "cosmo = make_cosmo(df_exp)"
   ]
  },
  {
   "cell_type": "code",
   "execution_count": 42,
   "id": "f5a206d2",
   "metadata": {},
   "outputs": [],
   "source": [
    "cov = np.eye(ndim) * 0.01**2\n",
    "sampler = PTMCMCSampler.PTSampler(ndim, cosmo.model, cosmo.lnpriorfn, np.copy(cov), outDir='./chains/exp/chains_exp')"
   ]
  },
  {
   "cell_type": "code",
   "execution_count": 43,
   "id": "91e6ff7d",
   "metadata": {},
   "outputs": [
    {
     "data": {
      "text/plain": [
       "0.18319422522756776"
      ]
     },
     "execution_count": 43,
     "metadata": {},
     "output_type": "execute_result"
    }
   ],
   "source": [
    "-20.40525656384327\n",
    "0.1667805464778942\n",
    "0.059439329855345606\n",
    "0.882356462191582\n",
    "0.18319422522756776"
   ]
  },
  {
   "cell_type": "code",
   "execution_count": 44,
   "id": "a56d947f",
   "metadata": {},
   "outputs": [],
   "source": [
    "x0 = np.array([-20.4, 0.2, 0.1, 0.3, 0.7,  0.8, 0.2])"
   ]
  },
  {
   "cell_type": "code",
   "execution_count": 45,
   "id": "2198d59c",
   "metadata": {},
   "outputs": [
    {
     "name": "stdout",
     "output_type": "stream",
     "text": [
      "Adding DE jump with weight 10\n",
      "Finished 95.00 percent in 441.493708 s Acceptance rate = 0.272316\n",
      "Run Complete\n"
     ]
    }
   ],
   "source": [
    "sampler.sample(x0, 20000, burn=500, thin=10, covUpdate=500, SCAMweight=10, AMweight=10, DEweight=10)"
   ]
  },
  {
   "cell_type": "code",
   "execution_count": 46,
   "id": "3626971b",
   "metadata": {},
   "outputs": [
    {
     "data": {
      "text/plain": [
       "(0.0, 1.1)"
      ]
     },
     "execution_count": 46,
     "metadata": {},
     "output_type": "execute_result"
    },
    {
     "data": {
      "image/png": "[encoded data removed]",
      "text/plain": [
       "<Figure size 432x288 with 1 Axes>"
      ]
     },
     "metadata": {
      "needs_background": "light"
     },
     "output_type": "display_data"
    }
   ],
   "source": [
    "jumpfiles = glob.glob('/home/joao/Documents/GitHub/SNFACTORY_SNTRAIN/chains/exp/chains_exp/*jump.txt')\n",
    "jumps = map(np.loadtxt, jumpfiles)\n",
    "for ct, j in enumerate(jumps):\n",
    "    plt.plot(j, label=jumpfiles[ct].split('/')[-1].split('_jump.txt')[0])\n",
    "plt.legend(loc='best', frameon=False)\n",
    "plt.ylabel('Acceptance Rate')\n",
    "plt.ylim(0.0, 1.1)"
   ]
  },
  {
   "cell_type": "markdown",
   "id": "647e7a13",
   "metadata": {},
   "source": [
    "## EXP 2 lc"
   ]
  },
  {
   "cell_type": "code",
   "execution_count": 47,
   "id": "1c2560bb",
   "metadata": {},
   "outputs": [],
   "source": [
    "cosmo = make_cosmo(df_2_lc)"
   ]
  },
  {
   "cell_type": "code",
   "execution_count": 48,
   "id": "fbb0d5a6",
   "metadata": {},
   "outputs": [],
   "source": [
    "cov = np.eye(ndim) * 0.01**2\n",
    "sampler = PTMCMCSampler.PTSampler(ndim, cosmo.model, cosmo.lnpriorfn, np.copy(cov), outDir='./chains/exp2lc/chains_exp2lc')"
   ]
  },
  {
   "cell_type": "code",
   "execution_count": 49,
   "id": "dfa4e5da",
   "metadata": {},
   "outputs": [],
   "source": [
    "x0 = np.array([-20, 0.1, 3.0, 0.2, 0.8, 0.7, 0.15])"
   ]
  },
  {
   "cell_type": "code",
   "execution_count": 50,
   "id": "705020f7",
   "metadata": {},
   "outputs": [
    {
     "name": "stdout",
     "output_type": "stream",
     "text": [
      "Adding DE jump with weight 10\n",
      "Finished 70.00 percent in 470.250917 s Acceptance rate = 0.197571"
     ]
    },
    {
     "name": "stderr",
     "output_type": "stream",
     "text": [
      "/tmp/ipykernel_21363/3500940601.py:20: RuntimeWarning: invalid value encountered in sqrt\n",
      "  return (1/(np.sqrt(Om_m*(1 + x)*(1 + x)*(1 + x) + Om_l + (1.0 - Om_m - Om_l)*(1 + x)*(1 + x))))\n",
      "/tmp/ipykernel_21363/3500940601.py:62: IntegrationWarning: The occurrence of roundoff error is detected, which prevents \n",
      "  the requested tolerance from being achieved.  The error may be \n",
      "  underestimated.\n",
      "  I = quad(self.integrando_dl, 0, self.data[\"redshift\"][ii], args = (Om_m, Om_l))\n"
     ]
    },
    {
     "name": "stdout",
     "output_type": "stream",
     "text": [
      "Finished 95.00 percent in 643.016219 s Acceptance rate = 0.195474\n",
      "Run Complete\n"
     ]
    }
   ],
   "source": [
    "sampler.sample(x0, 20000, burn=500, thin=10, covUpdate=500, SCAMweight=10, AMweight=10, DEweight=10)"
   ]
  },
  {
   "cell_type": "code",
   "execution_count": 58,
   "id": "43bf79a0",
   "metadata": {},
   "outputs": [
    {
     "data": {
      "text/plain": [
       "(0.0, 1.1)"
      ]
     },
     "execution_count": 58,
     "metadata": {},
     "output_type": "execute_result"
    },
    {
     "data": {
      "image/png": "[encoded data removed]",
      "text/plain": [
       "<Figure size 432x288 with 1 Axes>"
      ]
     },
     "metadata": {
      "needs_background": "light"
     },
     "output_type": "display_data"
    }
   ],
   "source": [
    "jumpfiles = glob.glob('/home/joao/Documents/GitHub/SNFACTORY_SNTRAIN/chains/exp2lc/chains_exp2lc/*jump.txt')\n",
    "jumps = map(np.loadtxt, jumpfiles)\n",
    "for ct, j in enumerate(jumps):\n",
    "    plt.plot(j, label=jumpfiles[ct].split('/')[-1].split('_jump.txt')[0])\n",
    "plt.legend(loc='best', frameon=False)\n",
    "plt.ylabel('Acceptance Rate')\n",
    "plt.ylim(0.0, 1.1)"
   ]
  },
  {
   "cell_type": "markdown",
   "id": "0723cbe0",
   "metadata": {},
   "source": [
    "## Contours"
   ]
  },
  {
   "cell_type": "code",
   "execution_count": 59,
   "id": "c12fdabe",
   "metadata": {},
   "outputs": [
    {
     "data": {
      "text/html": [
       "<div>\n",
       "<style scoped>\n",
       "    .dataframe tbody tr th:only-of-type {\n",
       "        vertical-align: middle;\n",
       "    }\n",
       "\n",
       "    .dataframe tbody tr th {\n",
       "        vertical-align: top;\n",
       "    }\n",
       "\n",
       "    .dataframe thead th {\n",
       "        text-align: right;\n",
       "    }\n",
       "</style>\n",
       "<table border=\"1\" class=\"dataframe\">\n",
       "  <thead>\n",
       "    <tr style=\"text-align: right;\">\n",
       "      <th></th>\n",
       "      <th>M</th>\n",
       "      <th>a</th>\n",
       "      <th>b</th>\n",
       "      <th>om_m</th>\n",
       "      <th>om_l</th>\n",
       "      <th>h</th>\n",
       "      <th>sigma</th>\n",
       "      <th>loglike</th>\n",
       "    </tr>\n",
       "  </thead>\n",
       "  <tbody>\n",
       "    <tr>\n",
       "      <th>0</th>\n",
       "      <td>-20.000000</td>\n",
       "      <td>0.100000</td>\n",
       "      <td>3.000000</td>\n",
       "      <td>0.200000</td>\n",
       "      <td>0.800000</td>\n",
       "      <td>0.700000</td>\n",
       "      <td>0.150000</td>\n",
       "      <td>-12882.901492</td>\n",
       "    </tr>\n",
       "    <tr>\n",
       "      <th>1</th>\n",
       "      <td>-19.989111</td>\n",
       "      <td>0.089204</td>\n",
       "      <td>2.990817</td>\n",
       "      <td>0.178686</td>\n",
       "      <td>0.793327</td>\n",
       "      <td>0.695157</td>\n",
       "      <td>0.156014</td>\n",
       "      <td>-12709.342731</td>\n",
       "    </tr>\n",
       "    <tr>\n",
       "      <th>2</th>\n",
       "      <td>-19.980683</td>\n",
       "      <td>0.082773</td>\n",
       "      <td>3.003024</td>\n",
       "      <td>0.169068</td>\n",
       "      <td>0.929042</td>\n",
       "      <td>0.668245</td>\n",
       "      <td>0.184206</td>\n",
       "      <td>-12355.443979</td>\n",
       "    </tr>\n",
       "    <tr>\n",
       "      <th>3</th>\n",
       "      <td>-19.996125</td>\n",
       "      <td>0.089078</td>\n",
       "      <td>3.016737</td>\n",
       "      <td>0.163463</td>\n",
       "      <td>0.929514</td>\n",
       "      <td>0.655018</td>\n",
       "      <td>0.195665</td>\n",
       "      <td>-12338.978582</td>\n",
       "    </tr>\n",
       "    <tr>\n",
       "      <th>4</th>\n",
       "      <td>-19.994695</td>\n",
       "      <td>0.086750</td>\n",
       "      <td>3.004253</td>\n",
       "      <td>0.171284</td>\n",
       "      <td>0.971487</td>\n",
       "      <td>0.651340</td>\n",
       "      <td>0.177209</td>\n",
       "      <td>-12316.893361</td>\n",
       "    </tr>\n",
       "  </tbody>\n",
       "</table>\n",
       "</div>"
      ],
      "text/plain": [
       "           M         a         b      om_m      om_l         h     sigma  \\\n",
       "0 -20.000000  0.100000  3.000000  0.200000  0.800000  0.700000  0.150000   \n",
       "1 -19.989111  0.089204  2.990817  0.178686  0.793327  0.695157  0.156014   \n",
       "2 -19.980683  0.082773  3.003024  0.169068  0.929042  0.668245  0.184206   \n",
       "3 -19.996125  0.089078  3.016737  0.163463  0.929514  0.655018  0.195665   \n",
       "4 -19.994695  0.086750  3.004253  0.171284  0.971487  0.651340  0.177209   \n",
       "\n",
       "        loglike  \n",
       "0 -12882.901492  \n",
       "1 -12709.342731  \n",
       "2 -12355.443979  \n",
       "3 -12338.978582  \n",
       "4 -12316.893361  "
      ]
     },
     "execution_count": 59,
     "metadata": {},
     "output_type": "execute_result"
    }
   ],
   "source": [
    "salt2_chain = pd.read_csv(\"/home/joao/Documents/GitHub/SNFACTORY_SNTRAIN/chains/salt2/chains_salt2/chain_1.txt\", sep=\"\\s+\", usecols=[0, 1, 2, 3, 4, 5, 6, 7],names=[\"M\", \"a\", \"b\", \"om_m\", \"om_l\", \"h\", \"sigma\", \"loglike\"])\n",
    "salt2_chain.head()"
   ]
  },
  {
   "cell_type": "code",
   "execution_count": 60,
   "id": "240c33b9",
   "metadata": {},
   "outputs": [
    {
     "data": {
      "text/html": [
       "<div>\n",
       "<style scoped>\n",
       "    .dataframe tbody tr th:only-of-type {\n",
       "        vertical-align: middle;\n",
       "    }\n",
       "\n",
       "    .dataframe tbody tr th {\n",
       "        vertical-align: top;\n",
       "    }\n",
       "\n",
       "    .dataframe thead th {\n",
       "        text-align: right;\n",
       "    }\n",
       "</style>\n",
       "<table border=\"1\" class=\"dataframe\">\n",
       "  <thead>\n",
       "    <tr style=\"text-align: right;\">\n",
       "      <th></th>\n",
       "      <th>M</th>\n",
       "      <th>a</th>\n",
       "      <th>b</th>\n",
       "      <th>om_m</th>\n",
       "      <th>om_l</th>\n",
       "      <th>h</th>\n",
       "      <th>sigma</th>\n",
       "      <th>loglike</th>\n",
       "    </tr>\n",
       "  </thead>\n",
       "  <tbody>\n",
       "    <tr>\n",
       "      <th>0</th>\n",
       "      <td>-20.400000</td>\n",
       "      <td>0.200000</td>\n",
       "      <td>0.100000</td>\n",
       "      <td>0.300000</td>\n",
       "      <td>0.700000</td>\n",
       "      <td>0.800000</td>\n",
       "      <td>0.200000</td>\n",
       "      <td>-13011.241865</td>\n",
       "    </tr>\n",
       "    <tr>\n",
       "      <th>1</th>\n",
       "      <td>-20.408970</td>\n",
       "      <td>0.205513</td>\n",
       "      <td>0.104911</td>\n",
       "      <td>0.304005</td>\n",
       "      <td>0.707389</td>\n",
       "      <td>0.812787</td>\n",
       "      <td>0.195487</td>\n",
       "      <td>-12916.454134</td>\n",
       "    </tr>\n",
       "    <tr>\n",
       "      <th>2</th>\n",
       "      <td>-20.418941</td>\n",
       "      <td>0.226815</td>\n",
       "      <td>0.106063</td>\n",
       "      <td>0.315618</td>\n",
       "      <td>0.697350</td>\n",
       "      <td>0.829668</td>\n",
       "      <td>0.202549</td>\n",
       "      <td>-12792.988828</td>\n",
       "    </tr>\n",
       "    <tr>\n",
       "      <th>3</th>\n",
       "      <td>-20.423287</td>\n",
       "      <td>0.222450</td>\n",
       "      <td>0.107923</td>\n",
       "      <td>0.312005</td>\n",
       "      <td>0.671240</td>\n",
       "      <td>0.837407</td>\n",
       "      <td>0.218501</td>\n",
       "      <td>-12760.950517</td>\n",
       "    </tr>\n",
       "    <tr>\n",
       "      <th>4</th>\n",
       "      <td>-20.430376</td>\n",
       "      <td>0.237410</td>\n",
       "      <td>0.106959</td>\n",
       "      <td>0.300104</td>\n",
       "      <td>0.684824</td>\n",
       "      <td>0.853256</td>\n",
       "      <td>0.216431</td>\n",
       "      <td>-12729.916597</td>\n",
       "    </tr>\n",
       "  </tbody>\n",
       "</table>\n",
       "</div>"
      ],
      "text/plain": [
       "           M         a         b      om_m      om_l         h     sigma  \\\n",
       "0 -20.400000  0.200000  0.100000  0.300000  0.700000  0.800000  0.200000   \n",
       "1 -20.408970  0.205513  0.104911  0.304005  0.707389  0.812787  0.195487   \n",
       "2 -20.418941  0.226815  0.106063  0.315618  0.697350  0.829668  0.202549   \n",
       "3 -20.423287  0.222450  0.107923  0.312005  0.671240  0.837407  0.218501   \n",
       "4 -20.430376  0.237410  0.106959  0.300104  0.684824  0.853256  0.216431   \n",
       "\n",
       "        loglike  \n",
       "0 -13011.241865  \n",
       "1 -12916.454134  \n",
       "2 -12792.988828  \n",
       "3 -12760.950517  \n",
       "4 -12729.916597  "
      ]
     },
     "execution_count": 60,
     "metadata": {},
     "output_type": "execute_result"
    }
   ],
   "source": [
    "exp_chain = pd.read_csv(\"/home/joao/Documents/GitHub/SNFACTORY_SNTRAIN/chains/exp/chains_exp/chain_1.txt\", sep=\"\\s+\", usecols=[0, 1, 2, 3, 4, 5, 6, 7],names=[\"M\", \"a\", \"b\", \"om_m\", \"om_l\", \"h\", \"sigma\", \"loglike\"])\n",
    "exp_chain.head()"
   ]
  },
  {
   "cell_type": "code",
   "execution_count": 61,
   "id": "2065f00f",
   "metadata": {},
   "outputs": [
    {
     "data": {
      "text/html": [
       "<div>\n",
       "<style scoped>\n",
       "    .dataframe tbody tr th:only-of-type {\n",
       "        vertical-align: middle;\n",
       "    }\n",
       "\n",
       "    .dataframe tbody tr th {\n",
       "        vertical-align: top;\n",
       "    }\n",
       "\n",
       "    .dataframe thead th {\n",
       "        text-align: right;\n",
       "    }\n",
       "</style>\n",
       "<table border=\"1\" class=\"dataframe\">\n",
       "  <thead>\n",
       "    <tr style=\"text-align: right;\">\n",
       "      <th></th>\n",
       "      <th>M</th>\n",
       "      <th>a</th>\n",
       "      <th>b</th>\n",
       "      <th>om_m</th>\n",
       "      <th>om_l</th>\n",
       "      <th>h</th>\n",
       "      <th>sigma</th>\n",
       "      <th>loglike</th>\n",
       "    </tr>\n",
       "  </thead>\n",
       "  <tbody>\n",
       "    <tr>\n",
       "      <th>0</th>\n",
       "      <td>-20.000000</td>\n",
       "      <td>0.100000</td>\n",
       "      <td>3.000000</td>\n",
       "      <td>0.200000</td>\n",
       "      <td>0.800000</td>\n",
       "      <td>0.700000</td>\n",
       "      <td>0.150000</td>\n",
       "      <td>-23197.610041</td>\n",
       "    </tr>\n",
       "    <tr>\n",
       "      <th>1</th>\n",
       "      <td>-19.983601</td>\n",
       "      <td>0.023126</td>\n",
       "      <td>3.024754</td>\n",
       "      <td>0.255716</td>\n",
       "      <td>0.789563</td>\n",
       "      <td>0.643034</td>\n",
       "      <td>0.284434</td>\n",
       "      <td>-19954.049159</td>\n",
       "    </tr>\n",
       "    <tr>\n",
       "      <th>2</th>\n",
       "      <td>-19.990265</td>\n",
       "      <td>0.047294</td>\n",
       "      <td>3.035111</td>\n",
       "      <td>0.251891</td>\n",
       "      <td>0.784717</td>\n",
       "      <td>0.644460</td>\n",
       "      <td>0.286890</td>\n",
       "      <td>-19776.508396</td>\n",
       "    </tr>\n",
       "    <tr>\n",
       "      <th>3</th>\n",
       "      <td>-20.003397</td>\n",
       "      <td>0.059928</td>\n",
       "      <td>3.030779</td>\n",
       "      <td>0.245683</td>\n",
       "      <td>0.784866</td>\n",
       "      <td>0.662798</td>\n",
       "      <td>0.283177</td>\n",
       "      <td>-19323.355788</td>\n",
       "    </tr>\n",
       "    <tr>\n",
       "      <th>4</th>\n",
       "      <td>-20.073357</td>\n",
       "      <td>0.136501</td>\n",
       "      <td>3.020990</td>\n",
       "      <td>0.261690</td>\n",
       "      <td>0.834918</td>\n",
       "      <td>0.649397</td>\n",
       "      <td>0.319515</td>\n",
       "      <td>-18270.821975</td>\n",
       "    </tr>\n",
       "  </tbody>\n",
       "</table>\n",
       "</div>"
      ],
      "text/plain": [
       "           M         a         b      om_m      om_l         h     sigma  \\\n",
       "0 -20.000000  0.100000  3.000000  0.200000  0.800000  0.700000  0.150000   \n",
       "1 -19.983601  0.023126  3.024754  0.255716  0.789563  0.643034  0.284434   \n",
       "2 -19.990265  0.047294  3.035111  0.251891  0.784717  0.644460  0.286890   \n",
       "3 -20.003397  0.059928  3.030779  0.245683  0.784866  0.662798  0.283177   \n",
       "4 -20.073357  0.136501  3.020990  0.261690  0.834918  0.649397  0.319515   \n",
       "\n",
       "        loglike  \n",
       "0 -23197.610041  \n",
       "1 -19954.049159  \n",
       "2 -19776.508396  \n",
       "3 -19323.355788  \n",
       "4 -18270.821975  "
      ]
     },
     "execution_count": 61,
     "metadata": {},
     "output_type": "execute_result"
    }
   ],
   "source": [
    "exp2lc_chain = pd.read_csv(\"/home/joao/Documents/GitHub/SNFACTORY_SNTRAIN/chains/exp2lc/chains_exp2lc/chain_1.txt\", sep=\"\\s+\", usecols=[0, 1, 2, 3, 4, 5, 6, 7],names=[\"M\", \"a\", \"b\", \"om_m\", \"om_l\", \"h\", \"sigma\", \"loglike\"])\n",
    "exp2lc_chain.head()"
   ]
  },
  {
   "cell_type": "markdown",
   "id": "216f0c80",
   "metadata": {},
   "source": [
    "### convergencia"
   ]
  },
  {
   "cell_type": "code",
   "execution_count": 76,
   "id": "bf6c0d67",
   "metadata": {},
   "outputs": [
    {
     "data": {
      "text/plain": [
       "<matplotlib.lines.Line2D at 0x7fb50c337250>"
      ]
     },
     "execution_count": 76,
     "metadata": {},
     "output_type": "execute_result"
    },
    {
     "data": {
      "image/png": "[encoded data removed]",
      "text/plain": [
       "<Figure size 432x288 with 1 Axes>"
      ]
     },
     "metadata": {
      "needs_background": "light"
     },
     "output_type": "display_data"
    }
   ],
   "source": [
    "plt.plot(salt2_chain[\"loglike\"], label=\"salt2\")\n",
    "plt.plot(exp_chain[\"loglike\"], label=\"exp\")\n",
    "plt.plot(exp2lc_chain[\"loglike\"], label=\"exp_lc\")\n",
    "plt.legend()\n",
    "plt.xlabel(\"N\")\n",
    "plt.ylabel(\"-loglike\")\n",
    "plt.axvline(x=len(salt2_chain)*0.3, c='k')"
   ]
  },
  {
   "cell_type": "code",
   "execution_count": 63,
   "id": "2ab01189",
   "metadata": {},
   "outputs": [],
   "source": [
    "histogramsN = ['M', 'a', 'b', 'Om_m', 'Om_l', 'h']\n",
    "latexN  = ['M', 'alpha', 'beta', '\\Omega_m', '\\Omega_\\Lambda', 'h']"
   ]
  },
  {
   "cell_type": "code",
   "execution_count": 64,
   "id": "3461c005",
   "metadata": {},
   "outputs": [],
   "source": [
    "chain_1 = []\n",
    "for i in range(0, len(salt2_chain)):\n",
    "    if i > len(salt2_chain)*0.3:\n",
    "        chain_1.append([salt2_chain[\"M\"][i], salt2_chain[\"a\"][i], salt2_chain[\"b\"][i], salt2_chain[\"om_m\"][i], salt2_chain[\"om_l\"][i], salt2_chain[\"h\"][i]])\n",
    "    \n",
    "chain_2 = []\n",
    "for i in range(0, len(exp_chain)):\n",
    "    if i > len(exp_chain)*0.3:\n",
    "        chain_2.append([exp_chain[\"M\"][i], exp_chain[\"a\"][i], exp_chain[\"b\"][i], exp_chain[\"om_m\"][i], exp_chain[\"om_l\"][i], exp_chain[\"h\"][i]])\n",
    "         \n",
    "chain_3 = []\n",
    "for i in range(0, len(exp2lc_chain)):\n",
    "    if i > len(exp2lc_chain)*0.3:\n",
    "        chain_3.append([exp2lc_chain[\"M\"][i], exp2lc_chain[\"a\"][i], exp2lc_chain[\"b\"][i], exp2lc_chain[\"om_m\"][i], exp2lc_chain[\"om_l\"][i], exp2lc_chain[\"h\"][i]])"
   ]
  },
  {
   "cell_type": "code",
   "execution_count": 65,
   "id": "65a3334e",
   "metadata": {},
   "outputs": [],
   "source": [
    "chain_1 = np.array(chain_1)\n",
    "chain_2 = np.array(chain_2)\n",
    "chain_3 = np.array(chain_3)"
   ]
  },
  {
   "cell_type": "code",
   "execution_count": 66,
   "id": "fb9cee54",
   "metadata": {},
   "outputs": [
    {
     "name": "stdout",
     "output_type": "stream",
     "text": [
      "Removed no burn in\n",
      "Removed no burn in\n",
      "Removed no burn in\n"
     ]
    }
   ],
   "source": [
    "samples_1 = MCSamples(samples=chain_1, names = histogramsN, labels = latexN)\n",
    "samples_2 = MCSamples(samples=chain_2, names = histogramsN, labels = latexN)\n",
    "samples_3 = MCSamples(samples=chain_3, names = histogramsN, labels = latexN)"
   ]
  },
  {
   "cell_type": "markdown",
   "id": "06da3f74",
   "metadata": {},
   "source": [
    "## SALT2 x EXP x EXPLC"
   ]
  },
  {
   "cell_type": "code",
   "execution_count": 67,
   "id": "c7f46b27",
   "metadata": {},
   "outputs": [
    {
     "data": {
      "image/png": "[encoded data removed]",
      "text/plain": [
       "<Figure size 432x324 with 1 Axes>"
      ]
     },
     "metadata": {
      "needs_background": "light"
     },
     "output_type": "display_data"
    }
   ],
   "source": [
    "plt.rcParams.update({\"font.size\": 15})\n",
    "g = plots.get_single_plotter(rc_sizes=True)\n",
    "\n",
    "samples_1.updateSettings({'contours': [0.68, 0.95]})\n",
    "samples_2.updateSettings({'contours': [0.68, 0.95]})\n",
    "samples_3.updateSettings({'contours': [0.68, 0.95]})\n",
    "\n",
    "g.settings.alpha_filled_add = 0.7\n",
    "\n",
    "g.settings.num_plot_contours = 2\n",
    "g.plot_2d([samples_1, samples_2, samples_3], 'Om_m', 'Om_l',\n",
    "          filled=True,\n",
    "          line_args=[{'lw':1, 'color':'C3'}, {'lw':2, 'color':'slateblue'}],\n",
    "          contour_colors=['C3','slateblue'])\n",
    "g.add_legend(['SALT2', 'EXP', 'EXP2_lc'], legend_loc='upper left')\n",
    "plt.subplots_adjust(bottom=0.15)\n",
    "\n",
    "#plt.savefig(\"/home/joao/Desktop/curvas_confianca.png\", dpi = 200); #g.plot_2d(samplessalt2, 'Om_m', 'Om_l');"
   ]
  },
  {
   "cell_type": "markdown",
   "id": "47fa7d18",
   "metadata": {},
   "source": [
    "## SALT2 x EXP"
   ]
  },
  {
   "cell_type": "code",
   "execution_count": 68,
   "id": "7531f6f3",
   "metadata": {},
   "outputs": [
    {
     "data": {
      "image/png": "[encoded data removed]",
      "text/plain": [
       "<Figure size 432x324 with 1 Axes>"
      ]
     },
     "metadata": {
      "needs_background": "light"
     },
     "output_type": "display_data"
    }
   ],
   "source": [
    "plt.rcParams.update({\"font.size\": 15})\n",
    "g = plots.get_single_plotter(rc_sizes=True)\n",
    "\n",
    "samples_1.updateSettings({'contours': [0.68, 0.95]})\n",
    "samples_2.updateSettings({'contours': [0.68, 0.95]})\n",
    "g.settings.alpha_filled_add = 0.7\n",
    "\n",
    "g.settings.num_plot_contours = 2\n",
    "g.plot_2d([samples_1, samples_2], 'Om_m', 'Om_l',\n",
    "          filled=True,\n",
    "          line_args=[{'lw':1, 'color':'C3'}, {'lw':2, 'color':'slateblue'}],\n",
    "          contour_colors=['C3','slateblue'])\n",
    "g.add_legend(['SALT2', 'EXP', 'EXP2_lc'], legend_loc='upper left')\n",
    "plt.subplots_adjust(bottom=0.15)\n",
    "\n",
    "#plt.savefig(\"/home/joao/Desktop/curvas_confianca.png\", dpi = 200); #g.plot_2d(samplessalt2, 'Om_m', 'Om_l');"
   ]
  },
  {
   "cell_type": "markdown",
   "id": "b12b3a54",
   "metadata": {},
   "source": [
    "## SALT2 x EXPLC"
   ]
  },
  {
   "cell_type": "code",
   "execution_count": 70,
   "id": "16aa7c2b",
   "metadata": {},
   "outputs": [
    {
     "data": {
      "image/png": "[encoded data removed]",
      "text/plain": [
       "<Figure size 432x324 with 1 Axes>"
      ]
     },
     "metadata": {
      "needs_background": "light"
     },
     "output_type": "display_data"
    }
   ],
   "source": [
    "plt.rcParams.update({\"font.size\": 15})\n",
    "g = plots.get_single_plotter(rc_sizes=True)\n",
    "\n",
    "samples_1.updateSettings({'contours': [0.68, 0.95]})\n",
    "samples_2.updateSettings({'contours': [0.68, 0.95]})\n",
    "g.settings.alpha_filled_add = 0.7\n",
    "\n",
    "g.settings.num_plot_contours = 2\n",
    "g.plot_2d([samples_1, samples_3], 'Om_m', 'Om_l',\n",
    "          filled=True,\n",
    "          line_args=[{'lw':1, 'color':'C3'}, {'lw':2, 'color':'slateblue'}],\n",
    "          contour_colors=['C3','slateblue'])\n",
    "g.add_legend(['SALT2', 'EXP2_lc'], legend_loc='upper left')\n",
    "plt.subplots_adjust(bottom=0.15)\n",
    "\n",
    "#plt.savefig(\"/home/joao/Desktop/curvas_confianca.png\", dpi = 200); #g.plot_2d(samplessalt2, 'Om_m', 'Om_l');"
   ]
  },
  {
   "cell_type": "code",
   "execution_count": null,
   "id": "683e0853",
   "metadata": {},
   "outputs": [],
   "source": []
  }
 ],
 "metadata": {
  "kernelspec": {
   "display_name": "Python 3 (ipykernel)",
   "language": "python",
   "name": "python3"
  },
  "language_info": {
   "codemirror_mode": {
    "name": "ipython",
    "version": 3
   },
   "file_extension": ".py",
   "mimetype": "text/x-python",
   "name": "python",
   "nbconvert_exporter": "python",
   "pygments_lexer": "ipython3",
   "version": "3.8.10"
  }
 },
 "nbformat": 4,
 "nbformat_minor": 5
}
