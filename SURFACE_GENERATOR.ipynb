{
 "cells": [
  {
   "cell_type": "code",
   "execution_count": 1,
   "metadata": {},
   "outputs": [],
   "source": [
    "import matplotlib.pyplot as plt\n",
    "from matplotlib import cm\n",
    "import numpy as np\n",
    "import pandas as pd\n",
    "#from os import listdir\n",
    "import glob\n",
    "import sncosmo\n",
    "from ipywidgets import *\n",
    "from scipy import signal\n",
    "from sklearn.model_selection import train_test_split\n",
    "from sklearn.gaussian_process import GaussianProcessRegressor\n",
    "from sklearn.gaussian_process.kernels import RBF, WhiteKernel\n",
    "from scipy.interpolate import (\n",
    "    InterpolatedUnivariateSpline as Spline1d,\n",
    "    RectBivariateSpline as Spline2d\n",
    ")\n",
    "from sncosmo.salt2utils import BicubicInterpolator\n",
    "from sklearn.decomposition import PCA, FactorAnalysis\n",
    "from sklearn.model_selection import cross_val_score\n",
    "from warnings import filterwarnings\n",
    "filterwarnings('ignore')\n",
    "\n",
    "from tabulate import tabulate #to export in table format\n",
    "%matplotlib inline"
   ]
  },
  {
   "cell_type": "code",
   "execution_count": 2,
   "metadata": {},
   "outputs": [],
   "source": [
    "kernel = 0.5 * (RBF(length_scale=3, length_scale_bounds=(1, 30)) + WhiteKernel(noise_level=0.1, noise_level_bounds=(1e-5,0.5)))"
   ]
  },
  {
   "cell_type": "markdown",
   "metadata": {},
   "source": [
    "# Read the files"
   ]
  },
  {
   "cell_type": "code",
   "execution_count": 3,
   "metadata": {},
   "outputs": [
    {
     "name": "stdout",
     "output_type": "stream",
     "text": [
      "Total files in path:  2466\n"
     ]
    }
   ],
   "source": [
    "# file data paths\n",
    "data_path = \"./data/sp/\"\n",
    "file_names = glob.glob(data_path+\"*.dat\")\n",
    "for i in range(0, len(file_names)):\n",
    "    file_names[i] = file_names[i][10:]\n",
    "print(\"Total files in path: \", len(file_names))"
   ]
  },
  {
   "cell_type": "code",
   "execution_count": 4,
   "metadata": {},
   "outputs": [
    {
     "data": {
      "text/html": [
       "<div>\n",
       "<style scoped>\n",
       "    .dataframe tbody tr th:only-of-type {\n",
       "        vertical-align: middle;\n",
       "    }\n",
       "\n",
       "    .dataframe tbody tr th {\n",
       "        vertical-align: top;\n",
       "    }\n",
       "\n",
       "    .dataframe thead th {\n",
       "        text-align: right;\n",
       "    }\n",
       "</style>\n",
       "<table border=\"1\" class=\"dataframe\">\n",
       "  <thead>\n",
       "    <tr style=\"text-align: right;\">\n",
       "      <th></th>\n",
       "      <th>name</th>\n",
       "      <th>phase</th>\n",
       "      <th>file_name</th>\n",
       "    </tr>\n",
       "  </thead>\n",
       "  <tbody>\n",
       "    <tr>\n",
       "      <th>0</th>\n",
       "      <td>Test_SN0</td>\n",
       "      <td>-8.154</td>\n",
       "      <td>Test_SN0_0.dat</td>\n",
       "    </tr>\n",
       "    <tr>\n",
       "      <th>1</th>\n",
       "      <td>Test_SN0</td>\n",
       "      <td>-3.522</td>\n",
       "      <td>Test_SN0_1.dat</td>\n",
       "    </tr>\n",
       "    <tr>\n",
       "      <th>2</th>\n",
       "      <td>Test_SN0</td>\n",
       "      <td>17.959</td>\n",
       "      <td>Test_SN0_10.dat</td>\n",
       "    </tr>\n",
       "    <tr>\n",
       "      <th>3</th>\n",
       "      <td>Test_SN0</td>\n",
       "      <td>19.801</td>\n",
       "      <td>Test_SN0_11.dat</td>\n",
       "    </tr>\n",
       "    <tr>\n",
       "      <th>4</th>\n",
       "      <td>Test_SN0</td>\n",
       "      <td>19.816</td>\n",
       "      <td>Test_SN0_12.dat</td>\n",
       "    </tr>\n",
       "  </tbody>\n",
       "</table>\n",
       "</div>"
      ],
      "text/plain": [
       "       name   phase        file_name\n",
       "0  Test_SN0  -8.154   Test_SN0_0.dat\n",
       "1  Test_SN0  -3.522   Test_SN0_1.dat\n",
       "2  Test_SN0  17.959  Test_SN0_10.dat\n",
       "3  Test_SN0  19.801  Test_SN0_11.dat\n",
       "4  Test_SN0  19.816  Test_SN0_12.dat"
      ]
     },
     "execution_count": 4,
     "metadata": {},
     "output_type": "execute_result"
    }
   ],
   "source": [
    "# auxiliar file \n",
    "sn_names = pd.read_csv(\"./data/list.dat\",\n",
    "                       header=None,\n",
    "                       sep=\"\\s+\",\n",
    "                       names=[\"name\", \"phase\", \"file_name\"])\n",
    "sn_names.head()"
   ]
  },
  {
   "cell_type": "code",
   "execution_count": 5,
   "metadata": {},
   "outputs": [
    {
     "name": "stdout",
     "output_type": "stream",
     "text": [
      "Total number of sn files:  171\n"
     ]
    }
   ],
   "source": [
    "names = sn_names[\"name\"].unique()\n",
    "print(\"Total number of sn files: \", len(names))"
   ]
  },
  {
   "cell_type": "markdown",
   "metadata": {},
   "source": [
    "# Training sample and simple graphs"
   ]
  },
  {
   "cell_type": "code",
   "execution_count": 6,
   "metadata": {},
   "outputs": [
    {
     "data": {
      "application/vnd.jupyter.widget-view+json": {
       "model_id": "b6332f72d53040298ee8073abd6aad15",
       "version_major": 2,
       "version_minor": 0
      },
      "text/plain": [
       "Dropdown(description='SN name:', options=('Test_SN0', 'Test_SN10', 'Test_SN11', 'Test_SN12', 'Test_SN13', 'Tes…"
      ]
     },
     "metadata": {},
     "output_type": "display_data"
    }
   ],
   "source": [
    "w = widgets.Dropdown(\n",
    "    options=names,\n",
    "    value=names[0],\n",
    "    description='SN name:',\n",
    "    disabled=False,\n",
    ")\n",
    "display(w)"
   ]
  },
  {
   "cell_type": "code",
   "execution_count": 7,
   "metadata": {},
   "outputs": [],
   "source": [
    "sn_spectra = glob.glob(data_path + w.value + \"*.dat\")"
   ]
  },
  {
   "cell_type": "code",
   "execution_count": 8,
   "metadata": {
    "scrolled": true
   },
   "outputs": [],
   "source": [
    "def spectra(i=0, plot=True):\n",
    "    \"\"\"\n",
    "    function that returns the wavelenght, the flux and the flux error for a matplotlib graph or whatever spectra\n",
    "    \n",
    "    i = index of the element\n",
    "    returns the wavelength, flux and flux error\n",
    "    \"\"\"\n",
    "    if plot == True:\n",
    "        data = sncosmo.read_lc(sn_spectra[i], format=\"salt2\")\n",
    "        return data[\"WAVE\"], data[\"SN_SPEC\"], data[\"SN_ERR\"]\n",
    "    else:\n",
    "        data = sncosmo.read_lc(data_path+file_names[i], format=\"salt2\")\n",
    "        return data[\"WAVE\"], data[\"SN_SPEC\"], data[\"SN_ERR\"]\n"
   ]
  },
  {
   "cell_type": "markdown",
   "metadata": {},
   "source": [
    "## Spectra"
   ]
  },
  {
   "cell_type": "code",
   "execution_count": 9,
   "metadata": {},
   "outputs": [
    {
     "data": {
      "application/vnd.jupyter.widget-view+json": {
       "model_id": "8cfe7303f423460fa7d0cdfc60929864",
       "version_major": 2,
       "version_minor": 0
      },
      "text/plain": [
       "interactive(children=(Dropdown(description='Index: ', options=(0, 1, 2, 3, 4, 5, 6, 7, 8, 9, 10, 11, 12, 13, 1…"
      ]
     },
     "metadata": {},
     "output_type": "display_data"
    }
   ],
   "source": [
    "# option list for jupyter lab widgets\n",
    "optionslist = []\n",
    "for i in range(0, len(sn_spectra)):\n",
    "    optionslist.append(i)\n",
    "\n",
    "def update_graph(i):\n",
    "    \"\"\"\n",
    "    void function that updates a matplotlib graph\n",
    "    \"\"\"\n",
    "    wave, flux, fluxe = spectra(i)\n",
    "    plt.xlabel(\"$\\lambda$  ($\\AA$)\")\n",
    "    plt.ylabel(\"flux (erg/s/cm^2^/{AA} * random offset)\")\n",
    "    plt.plot(wave, flux, \"k\")\n",
    "    \n",
    "i = widgets.Dropdown(options=optionslist, value=0, description='Index: ', disabled=False)\n",
    "\n",
    "widgets.interactive(update_graph,i=i) # to activate the interactive widget"
   ]
  },
  {
   "cell_type": "markdown",
   "metadata": {},
   "source": [
    "## Monochromatic light curves"
   ]
  },
  {
   "cell_type": "code",
   "execution_count": 10,
   "metadata": {},
   "outputs": [],
   "source": [
    "wave_number = 7000\n",
    "\n",
    "time_lc = []\n",
    "flux_lc = []\n",
    "\n",
    "for i in range(0, len(sn_spectra)):\n",
    "    wave, flux, fluxe = spectra(i)\n",
    "    flux_lc.append(Spline1d(wave, flux,  k=1)(wave_number))\n",
    "    time_lc.append(sn_names[\"phase\"][sn_names[\"file_name\"] == str(sn_spectra[i][10:])])"
   ]
  },
  {
   "cell_type": "code",
   "execution_count": 11,
   "metadata": {},
   "outputs": [
    {
     "data": {
      "image/png": "[encoded data removed]",
      "text/plain": [
       "<Figure size 432x288 with 1 Axes>"
      ]
     },
     "metadata": {
      "needs_background": "light"
     },
     "output_type": "display_data"
    }
   ],
   "source": [
    "plt.plot(time_lc, flux_lc, \"k.\")\n",
    "plt.xlabel(\"time (days)\")\n",
    "plt.ylabel(\"flux (erg/s/cm^2^/{AA} * random offset)\");"
   ]
  },
  {
   "cell_type": "markdown",
   "metadata": {},
   "source": [
    "## Training grid"
   ]
  },
  {
   "cell_type": "code",
   "execution_count": 12,
   "metadata": {},
   "outputs": [
    {
     "data": {
      "text/plain": [
       "'\\nfor i in range(0, len(file_names)):\\n    wave = spectra(i, plot=False)[0]\\n    phase = sn_names[\"phase\"][sn_names[\"file_name\"] == str(file_names[i])]\\n    plt.plot([phase,phase], [np.min(wave),np.max(wave)], \\'k\\', linewidth=1)\\n    plt.xlabel(\"time (days)\")\\n    plt.ylabel(\"$\\\\lambda$ ($\\\\AA$)\")\\n    plt.xlim(-10, 50)\\n    plt.ylim(3500, 8500)\\n'"
      ]
     },
     "execution_count": 12,
     "metadata": {},
     "output_type": "execute_result"
    }
   ],
   "source": [
    "\"\"\"\n",
    "for i in range(0, len(file_names)):\n",
    "    wave = spectra(i, plot=False)[0]\n",
    "    phase = sn_names[\"phase\"][sn_names[\"file_name\"] == str(file_names[i])]\n",
    "    plt.plot([phase,phase], [np.min(wave),np.max(wave)], 'k', linewidth=1)\n",
    "    plt.xlabel(\"time (days)\")\n",
    "    plt.ylabel(\"$\\lambda$ ($\\AA$)\")\n",
    "    plt.xlim(-10, 50)\n",
    "    plt.ylim(3500, 8500)\n",
    "\"\"\""
   ]
  },
  {
   "cell_type": "code",
   "execution_count": 13,
   "metadata": {},
   "outputs": [
    {
     "name": "stdout",
     "output_type": "stream",
     "text": [
      "time grid limits:  -10 ,  50\n",
      "wavelenght grid limits:  3500 ,  8500\n"
     ]
    }
   ],
   "source": [
    "## Defining the grid\n",
    "X_GRID = np.linspace(-10, 50, 61, dtype=int)\n",
    "Y_GRID = np.linspace(3500, 8500, 501, dtype=int)\n",
    "\n",
    "# Grid limits\n",
    "print(\"time grid limits: \", np.min(X_GRID), \", \", np.max(X_GRID))\n",
    "print(\"wavelenght grid limits: \", np.min(Y_GRID), \", \", np.max(Y_GRID))"
   ]
  },
  {
   "cell_type": "code",
   "execution_count": 14,
   "metadata": {},
   "outputs": [],
   "source": [
    "# split our data into a training and test dataset\n",
    "#np.random.seed(42)\n",
    "#sn_train, sn_test = train_test_split(names, test_size=0.001)\n",
    "#print(len(sn_train), len(sn_test))"
   ]
  },
  {
   "cell_type": "code",
   "execution_count": 15,
   "metadata": {},
   "outputs": [],
   "source": [
    "def gaussian_process(wave, flux, error=True):\n",
    "    \"\"\"\n",
    "    function that performs a gaussian process in a dataset of monochromatic light curves\n",
    "    wave: Python list that gives the wavelenghts\n",
    "    flux: np array that gives the flux\n",
    "    error: binary variable to return or not the covariance in gaussian process regression\n",
    "    \n",
    "    return the corresponding gaussian process on data\n",
    "    \"\"\"\n",
    "    # set the gaussian process regressor\n",
    "    gp = GaussianProcessRegressor(kernel=kernel, alpha=0.0).fit(wave, flux)\n",
    "    if error==True:\n",
    "        return gp.predict(X_GRID[:, np.newaxis], return_cov=True) # return mean and covariance\n",
    "    else:\n",
    "        return gp.predict(X_GRID[:, np.newaxis], return_cov=False) # return only mean     \n"
   ]
  },
  {
   "cell_type": "code",
   "execution_count": 16,
   "metadata": {},
   "outputs": [],
   "source": [
    "def prepare_data_to_GP(wave):\n",
    "    \"\"\"\n",
    "    function that convert a np array into a Python list for a gaussian process regression in SK-Learn\n",
    "    wave: np array that gives the wavelenghts\n",
    "    \n",
    "    return the wavelenght in a correct format\n",
    "    \"\"\"\n",
    "    temp_wave = [] # a new python list\n",
    "    for ii in range(0, len(wave)):\n",
    "        temp_wave.append([wave[ii]]) # correct SK-Learn format\n",
    "    return temp_wave"
   ]
  },
  {
   "cell_type": "code",
   "execution_count": 17,
   "metadata": {},
   "outputs": [],
   "source": [
    "def spectra_train(n_file):\n",
    "    \"\"\"\n",
    "    function that returns the wavelenght, the flux and the flux error for a matplotlib graph or whatever spectra\n",
    "    \n",
    "    n_file: file name\n",
    "    returns the wavelength, flux and flux error\n",
    "    \"\"\"\n",
    "    data = sncosmo.read_lc(n_file, format=\"salt2\")\n",
    "    return data[\"WAVE\"], data[\"SN_SPEC\"], data[\"SN_ERR\"]"
   ]
  },
  {
   "cell_type": "code",
   "execution_count": 19,
   "metadata": {},
   "outputs": [],
   "source": [
    "SPEC_TRAIN_FUN = []\n",
    "SPEC_TRAIN_TIME = []\n",
    "SPEC_TRAIN_MINMAX = []\n",
    "for i in range(0, len(names)):\n",
    "    SPEC_TRAIN_FUN.append([]) # for spectra function\n",
    "    SPEC_TRAIN_TIME.append([]) # for spectra time\n",
    "    SPEC_TRAIN_MINMAX.append([]) # for min max spectra (in wavelenghts)"
   ]
  },
  {
   "cell_type": "code",
   "execution_count": 20,
   "metadata": {},
   "outputs": [],
   "source": [
    "for i in range(0, len(names)):\n",
    "    sn_train_spectra = glob.glob(data_path + names[i] + \"_*.dat\")\n",
    "    for j in range(0, len(sn_train_spectra)):\n",
    "        wave, flux, eflux = spectra_train(sn_train_spectra[j]) # to get wave, flux and flux error\n",
    "        Nyquist_frequecy=1/15 #approx\n",
    "        cutoff=1/100 #freq\n",
    "        #print(cutoff/Nyquist_frequecy)\n",
    "        b, a = signal.butter(8, cutoff/Nyquist_frequecy, analog=False)\n",
    "        filtered_flux=signal.filtfilt(b, a, flux, padlen=0)\n",
    "        SPEC_TRAIN_FUN[i].append(Spline1d(wave, filtered_flux)) # to register the corresponding function\n",
    "        SPEC_TRAIN_TIME[i].append(float(sn_names[\"phase\"][sn_names[\"file_name\"] == str(sn_train_spectra[j][10:])])) # to regirster the corresponding spectra time\n",
    "        SPEC_TRAIN_MINMAX[i].append([float(np.min(wave)), float(np.max(wave))]) # to register min and max wavelength that function is available"
   ]
  },
  {
   "cell_type": "code",
   "execution_count": 21,
   "metadata": {},
   "outputs": [],
   "source": [
    "SPEC_GRID = []\n",
    "for i in range(0, len(names)):\n",
    "    SPEC_GRID.append([]) # loop for each supernovae in trainingfrom scipy import signal"
   ]
  },
  {
   "cell_type": "code",
   "execution_count": 22,
   "metadata": {},
   "outputs": [],
   "source": [
    "for i in range(0, len(SPEC_GRID)):\n",
    "    for j in range(0, len(Y_GRID)):\n",
    "        SPEC_GRID[i].append([[], []]) # for each supernovae and for each wavelengh we fill with time and flux lists\n",
    "#SPEC_GRID[0][1][0]  # first sn, second wave list order, time or flux"
   ]
  },
  {
   "cell_type": "code",
   "execution_count": 23,
   "metadata": {
    "scrolled": true
   },
   "outputs": [
    {
     "name": "stdout",
     "output_type": "stream",
     "text": [
      "1 / 171\n",
      "2 / 171\n",
      "3 / 171\n",
      "4 / 171\n",
      "5 / 171\n",
      "6 / 171\n",
      "7 / 171\n",
      "8 / 171\n",
      "9 / 171\n",
      "10 / 171\n",
      "11 / 171\n",
      "12 / 171\n",
      "13 / 171\n",
      "14 / 171\n",
      "15 / 171\n",
      "16 / 171\n",
      "17 / 171\n",
      "18 / 171\n",
      "19 / 171\n",
      "20 / 171\n",
      "21 / 171\n",
      "22 / 171\n",
      "23 / 171\n",
      "24 / 171\n",
      "25 / 171\n",
      "26 / 171\n",
      "27 / 171\n",
      "28 / 171\n",
      "29 / 171\n",
      "30 / 171\n",
      "31 / 171\n",
      "32 / 171\n",
      "33 / 171\n",
      "34 / 171\n",
      "35 / 171\n",
      "36 / 171\n",
      "37 / 171\n",
      "38 / 171\n",
      "39 / 171\n",
      "40 / 171\n",
      "41 / 171\n",
      "42 / 171\n",
      "43 / 171\n",
      "44 / 171\n",
      "45 / 171\n",
      "46 / 171\n",
      "47 / 171\n",
      "48 / 171\n",
      "49 / 171\n",
      "50 / 171\n",
      "51 / 171\n",
      "52 / 171\n",
      "53 / 171\n",
      "54 / 171\n",
      "55 / 171\n",
      "56 / 171\n",
      "57 / 171\n",
      "58 / 171\n",
      "59 / 171\n",
      "60 / 171\n",
      "61 / 171\n",
      "62 / 171\n",
      "63 / 171\n",
      "64 / 171\n",
      "65 / 171\n",
      "66 / 171\n",
      "67 / 171\n",
      "68 / 171\n",
      "69 / 171\n",
      "70 / 171\n",
      "71 / 171\n",
      "72 / 171\n",
      "73 / 171\n",
      "74 / 171\n",
      "75 / 171\n",
      "76 / 171\n",
      "77 / 171\n",
      "78 / 171\n",
      "79 / 171\n",
      "80 / 171\n",
      "81 / 171\n",
      "82 / 171\n",
      "83 / 171\n",
      "84 / 171\n",
      "85 / 171\n",
      "86 / 171\n",
      "87 / 171\n",
      "88 / 171\n",
      "89 / 171\n",
      "90 / 171\n",
      "91 / 171\n",
      "92 / 171\n",
      "93 / 171\n",
      "94 / 171\n",
      "95 / 171\n",
      "96 / 171\n",
      "97 / 171\n",
      "98 / 171\n",
      "99 / 171\n",
      "100 / 171\n",
      "101 / 171\n",
      "102 / 171\n",
      "103 / 171\n",
      "104 / 171\n",
      "105 / 171\n",
      "106 / 171\n",
      "107 / 171\n",
      "108 / 171\n",
      "109 / 171\n",
      "110 / 171\n",
      "111 / 171\n",
      "112 / 171\n",
      "113 / 171\n",
      "114 / 171\n",
      "115 / 171\n",
      "116 / 171\n",
      "117 / 171\n",
      "118 / 171\n",
      "119 / 171\n",
      "120 / 171\n",
      "121 / 171\n",
      "122 / 171\n",
      "123 / 171\n",
      "124 / 171\n",
      "125 / 171\n",
      "126 / 171\n",
      "127 / 171\n",
      "128 / 171\n",
      "129 / 171\n",
      "130 / 171\n",
      "131 / 171\n",
      "132 / 171\n",
      "133 / 171\n",
      "134 / 171\n",
      "135 / 171\n",
      "136 / 171\n",
      "137 / 171\n",
      "138 / 171\n",
      "139 / 171\n",
      "140 / 171\n",
      "141 / 171\n",
      "142 / 171\n",
      "143 / 171\n",
      "144 / 171\n",
      "145 / 171\n",
      "146 / 171\n",
      "147 / 171\n",
      "148 / 171\n",
      "149 / 171\n",
      "150 / 171\n",
      "151 / 171\n",
      "152 / 171\n",
      "153 / 171\n",
      "154 / 171\n",
      "155 / 171\n",
      "156 / 171\n",
      "157 / 171\n",
      "158 / 171\n",
      "159 / 171\n",
      "160 / 171\n",
      "161 / 171\n",
      "162 / 171\n",
      "163 / 171\n",
      "164 / 171\n",
      "165 / 171\n",
      "166 / 171\n",
      "167 / 171\n",
      "168 / 171\n",
      "169 / 171\n",
      "170 / 171\n",
      "171 / 171\n"
     ]
    }
   ],
   "source": [
    "for i in range(0, len(names)): # sn train index\n",
    "    print(i+1, \"/\", len(names))\n",
    "    for j in range(0, len(Y_GRID)): #  grid index\n",
    "        for k in range(0, len(SPEC_TRAIN_FUN[i])): #func index\n",
    "            if SPEC_TRAIN_MINMAX[i][k][0] < Y_GRID[j] < SPEC_TRAIN_MINMAX[i][k][1]: # if it's inside the bounds\n",
    "                SPEC_GRID[i][j][0].append([SPEC_TRAIN_TIME[i][k]]) # time\n",
    "                SPEC_GRID[i][j][1].append(np.float(SPEC_TRAIN_FUN[i][k](Y_GRID[j]))) # flux"
   ]
  },
  {
   "cell_type": "code",
   "execution_count": 24,
   "metadata": {},
   "outputs": [
    {
     "data": {
      "text/plain": [
       "'\\nNsn = 30\\nNspec = 100\\nTIME_TEMP = SPEC_GRID[Nsn][Nspec][0]\\nFLUX_TEMP = SPEC_GRID[Nsn][Nspec][1]\\n\\ngp = GaussianProcessRegressor(kernel=kernel, alpha=0.0).fit(TIME_TEMP, FLUX_TEMP)\\ny_mean, y_cov = gp.predict(X_GRID[:, np.newaxis], return_cov=True) \\n\\nplt.plot(X_GRID, y_mean, \\'k\\', lw=3, zorder=9)\\nplt.fill_between(X_GRID, y_mean - np.sqrt(np.diag(y_cov)), y_mean + np.sqrt(np.diag(y_cov)), alpha=0.5, color=\\'k\\')\\nplt.scatter(TIME_TEMP, FLUX_TEMP, c=\\'r\\', s=50, zorder=10, edgecolors=(0, 0, 0))\\nplt.xlabel(\"time (days)\")\\nplt.ylabel(\"flux (a.u)\")\\n'"
      ]
     },
     "execution_count": 24,
     "metadata": {},
     "output_type": "execute_result"
    }
   ],
   "source": [
    "\"\"\"\n",
    "Nsn = 30\n",
    "Nspec = 100\n",
    "TIME_TEMP = SPEC_GRID[Nsn][Nspec][0]\n",
    "FLUX_TEMP = SPEC_GRID[Nsn][Nspec][1]\n",
    "\n",
    "gp = GaussianProcessRegressor(kernel=kernel, alpha=0.0).fit(TIME_TEMP, FLUX_TEMP)\n",
    "y_mean, y_cov = gp.predict(X_GRID[:, np.newaxis], return_cov=True) \n",
    "\n",
    "plt.plot(X_GRID, y_mean, 'k', lw=3, zorder=9)\n",
    "plt.fill_between(X_GRID, y_mean - np.sqrt(np.diag(y_cov)), y_mean + np.sqrt(np.diag(y_cov)), alpha=0.5, color='k')\n",
    "plt.scatter(TIME_TEMP, FLUX_TEMP, c='r', s=50, zorder=10, edgecolors=(0, 0, 0))\n",
    "plt.xlabel(\"time (days)\")\n",
    "plt.ylabel(\"flux (a.u)\")\n",
    "\"\"\""
   ]
  },
  {
   "cell_type": "code",
   "execution_count": 25,
   "metadata": {},
   "outputs": [],
   "source": [
    "data_NSPEC_CUT = 7 # minimum number of spectra\n",
    "data_NWAVE_CUT = 200 # wavelengh in a commom grid\n",
    "SN_TRAIN = []\n",
    "SN_TRAIN_ERROR = []\n",
    "for i in range(0, len(names)):\n",
    "        SN_TRAIN.append([])\n",
    "        SN_TRAIN_ERROR.append([])"
   ]
  },
  {
   "cell_type": "code",
   "execution_count": 26,
   "metadata": {
    "scrolled": true
   },
   "outputs": [
    {
     "name": "stdout",
     "output_type": "stream",
     "text": [
      "1 / 171\n",
      "2 / 171\n",
      "3 / 171\n",
      "4 / 171\n",
      "5 / 171\n",
      "6 / 171\n",
      "7 / 171\n",
      "8 / 171\n",
      "9 / 171\n",
      "10 / 171\n",
      "11 / 171\n",
      "12 / 171\n",
      "13 / 171\n",
      "14 / 171\n",
      "15 / 171\n",
      "16 / 171\n",
      "17 / 171\n",
      "18 / 171\n",
      "19 / 171\n",
      "20 / 171\n",
      "21 / 171\n",
      "22 / 171\n",
      "23 / 171\n",
      "24 / 171\n",
      "25 / 171\n",
      "26 / 171\n",
      "27 / 171\n",
      "28 / 171\n",
      "29 / 171\n",
      "30 / 171\n",
      "31 / 171\n",
      "32 / 171\n",
      "33 / 171\n",
      "34 / 171\n",
      "35 / 171\n",
      "36 / 171\n",
      "37 / 171\n",
      "38 / 171\n",
      "39 / 171\n",
      "40 / 171\n",
      "41 / 171\n",
      "42 / 171\n",
      "43 / 171\n",
      "44 / 171\n",
      "45 / 171\n",
      "46 / 171\n",
      "47 / 171\n",
      "48 / 171\n",
      "49 / 171\n",
      "50 / 171\n",
      "51 / 171\n",
      "52 / 171\n",
      "53 / 171\n",
      "54 / 171\n",
      "55 / 171\n",
      "56 / 171\n",
      "57 / 171\n",
      "58 / 171\n",
      "59 / 171\n",
      "60 / 171\n",
      "61 / 171\n",
      "62 / 171\n",
      "63 / 171\n",
      "64 / 171\n",
      "65 / 171\n",
      "66 / 171\n",
      "67 / 171\n",
      "68 / 171\n",
      "69 / 171\n",
      "70 / 171\n",
      "71 / 171\n",
      "72 / 171\n",
      "73 / 171\n",
      "74 / 171\n",
      "75 / 171\n",
      "76 / 171\n",
      "77 / 171\n",
      "78 / 171\n",
      "79 / 171\n",
      "80 / 171\n",
      "81 / 171\n",
      "82 / 171\n",
      "83 / 171\n",
      "84 / 171\n",
      "85 / 171\n",
      "86 / 171\n",
      "87 / 171\n",
      "88 / 171\n",
      "89 / 171\n",
      "90 / 171\n",
      "91 / 171\n",
      "92 / 171\n",
      "93 / 171\n",
      "94 / 171\n",
      "95 / 171\n",
      "96 / 171\n",
      "97 / 171\n",
      "98 / 171\n",
      "99 / 171\n",
      "100 / 171\n",
      "101 / 171\n",
      "102 / 171\n",
      "103 / 171\n",
      "104 / 171\n",
      "105 / 171\n",
      "106 / 171\n",
      "107 / 171\n",
      "108 / 171\n",
      "109 / 171\n",
      "110 / 171\n",
      "111 / 171\n",
      "112 / 171\n",
      "113 / 171\n",
      "114 / 171\n",
      "115 / 171\n",
      "116 / 171\n",
      "117 / 171\n",
      "118 / 171\n",
      "119 / 171\n",
      "120 / 171\n",
      "121 / 171\n",
      "122 / 171\n",
      "123 / 171\n",
      "124 / 171\n",
      "125 / 171\n",
      "126 / 171\n",
      "127 / 171\n",
      "128 / 171\n",
      "129 / 171\n",
      "130 / 171\n",
      "131 / 171\n",
      "132 / 171\n",
      "133 / 171\n",
      "134 / 171\n",
      "135 / 171\n",
      "136 / 171\n",
      "137 / 171\n",
      "138 / 171\n",
      "139 / 171\n",
      "140 / 171\n",
      "141 / 171\n",
      "142 / 171\n",
      "143 / 171\n",
      "144 / 171\n",
      "145 / 171\n",
      "146 / 171\n",
      "147 / 171\n",
      "148 / 171\n",
      "149 / 171\n",
      "150 / 171\n",
      "151 / 171\n",
      "152 / 171\n",
      "153 / 171\n",
      "154 / 171\n",
      "155 / 171\n",
      "156 / 171\n",
      "157 / 171\n",
      "158 / 171\n",
      "159 / 171\n",
      "160 / 171\n",
      "161 / 171\n",
      "162 / 171\n",
      "163 / 171\n",
      "164 / 171\n",
      "165 / 171\n",
      "166 / 171\n",
      "167 / 171\n",
      "168 / 171\n",
      "169 / 171\n",
      "170 / 171\n",
      "171 / 171\n"
     ]
    }
   ],
   "source": [
    "for i in range(0, len(SPEC_GRID)):\n",
    "    print(i+1, \"/\", len(SPEC_GRID))\n",
    "    if len(SPEC_GRID[i][data_NWAVE_CUT][0]) > data_NSPEC_CUT:\n",
    "        for j in range(0, len(Y_GRID)):\n",
    "            TIME_TEMP = SPEC_GRID[i][j][0]\n",
    "            FLUX_TEMP = SPEC_GRID[i][j][1]\n",
    "            FLUX_TEMP, FLUX_ERROR_TEMP = gaussian_process(TIME_TEMP, FLUX_TEMP, error=True) # the brand new monochromatic light curves\n",
    "            FLUX_ERROR_TEMP = np.sqrt(np.diag(FLUX_ERROR_TEMP))\n",
    "            for k in range(0, len(FLUX_TEMP)):\n",
    "                SN_TRAIN[i].append(FLUX_TEMP[k])\n",
    "                SN_TRAIN_ERROR[i].append(FLUX_ERROR_TEMP[k])"
   ]
  },
  {
   "cell_type": "code",
   "execution_count": 27,
   "metadata": {},
   "outputs": [],
   "source": [
    "X_export = []\n",
    "Y_export = []\n",
    "for i in range(0, len(Y_GRID)):\n",
    "    for j in range(0, len(X_GRID)):\n",
    "        X_export.append(X_GRID[j])\n",
    "        Y_export.append(Y_GRID[i])"
   ]
  },
  {
   "cell_type": "code",
   "execution_count": 28,
   "metadata": {},
   "outputs": [],
   "source": [
    "save_path = 'C:\\\\Users\\\\joao\\\\Documents\\\\GitHub\\\\SNFACTORY_SNTRAIN\\\\SN_surfaces\\\\'"
   ]
  },
  {
   "cell_type": "code",
   "execution_count": 49,
   "metadata": {
    "scrolled": true
   },
   "outputs": [
    {
     "name": "stdout",
     "output_type": "stream",
     "text": [
      "0\n",
      "1\n",
      "2\n",
      "3\n",
      "4\n",
      "5\n",
      "6\n",
      "7\n",
      "8\n",
      "9\n",
      "10\n",
      "11\n",
      "12\n",
      "13\n",
      "14\n",
      "15\n",
      "16\n",
      "17\n",
      "18\n",
      "19\n",
      "20\n",
      "21\n",
      "22\n",
      "23\n",
      "24\n",
      "25\n",
      "26\n",
      "27\n",
      "28\n",
      "29\n",
      "30\n",
      "31\n",
      "32\n",
      "33\n",
      "34\n",
      "35\n",
      "36\n",
      "37\n",
      "38\n",
      "39\n",
      "40\n",
      "41\n",
      "42\n",
      "43\n",
      "44\n",
      "45\n",
      "46\n",
      "47\n",
      "48\n",
      "49\n",
      "50\n",
      "51\n",
      "52\n",
      "53\n",
      "54\n",
      "55\n",
      "56\n",
      "57\n",
      "58\n",
      "59\n",
      "60\n",
      "61\n",
      "62\n",
      "63\n",
      "64\n",
      "65\n",
      "66\n",
      "67\n",
      "68\n",
      "69\n",
      "70\n",
      "71\n",
      "72\n",
      "73\n",
      "74\n",
      "75\n",
      "76\n",
      "77\n",
      "78\n",
      "79\n",
      "80\n",
      "81\n",
      "82\n",
      "83\n",
      "84\n",
      "85\n",
      "86\n",
      "87\n",
      "88\n",
      "89\n",
      "90\n",
      "91\n",
      "92\n",
      "93\n",
      "94\n",
      "95\n",
      "96\n",
      "97\n",
      "98\n",
      "99\n",
      "100\n",
      "101\n",
      "102\n",
      "103\n",
      "104\n",
      "105\n",
      "106\n",
      "107\n",
      "108\n",
      "109\n",
      "110\n",
      "111\n",
      "112\n",
      "113\n",
      "114\n",
      "115\n",
      "116\n",
      "117\n",
      "118\n",
      "119\n",
      "120\n",
      "121\n",
      "122\n",
      "123\n",
      "124\n",
      "125\n",
      "126\n",
      "127\n",
      "128\n",
      "129\n",
      "130\n",
      "131\n",
      "132\n",
      "133\n",
      "134\n",
      "135\n",
      "136\n",
      "137\n",
      "138\n",
      "139\n",
      "140\n",
      "141\n",
      "142\n",
      "143\n",
      "144\n",
      "145\n",
      "146\n",
      "147\n",
      "148\n",
      "149\n",
      "150\n",
      "151\n",
      "152\n",
      "153\n",
      "154\n",
      "155\n",
      "156\n",
      "157\n",
      "158\n",
      "159\n",
      "160\n",
      "161\n",
      "162\n",
      "163\n",
      "164\n",
      "165\n",
      "166\n",
      "167\n",
      "168\n",
      "169\n",
      "170\n"
     ]
    }
   ],
   "source": [
    "for i in range(0, len(names)):\n",
    "    print(i)\n",
    "    table = []\n",
    "    if len(SN_TRAIN[i]) > 0:\n",
    "        for n in range(0, len(X_export)):\n",
    "            table.append((X_export[n], Y_export[n], SN_TRAIN[i][n], SN_TRAIN_ERROR[i][n]))\n",
    "\n",
    "        completeName = os.path.join(save_path, str(names[i])+\".dat\")\n",
    "\n",
    "        f = open(completeName, 'w')\n",
    "        f.write(tabulate(table, tablefmt=\"plain\"))\n",
    "        f.close()\n"
   ]
  },
  {
   "cell_type": "code",
   "execution_count": null,
   "metadata": {},
   "outputs": [],
   "source": []
  }
 ],
 "metadata": {
  "kernelspec": {
   "display_name": "Python 3",
   "language": "python",
   "name": "python3"
  },
  "language_info": {
   "codemirror_mode": {
    "name": "ipython",
    "version": 3
   },
   "file_extension": ".py",
   "mimetype": "text/x-python",
   "name": "python",
   "nbconvert_exporter": "python",
   "pygments_lexer": "ipython3",
   "version": "3.9.4"
  }
 },
 "nbformat": 4,
 "nbformat_minor": 4
}
