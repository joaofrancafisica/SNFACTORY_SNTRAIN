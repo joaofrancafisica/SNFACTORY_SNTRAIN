{
 "cells": [
  {
   "cell_type": "code",
   "execution_count": 1,
   "id": "f18a4081",
   "metadata": {},
   "outputs": [],
   "source": [
    "import numpy as np\n",
    "import pandas as pd\n",
    "import matplotlib.pyplot as plt\n",
    "import glob\n",
    "import random\n",
    "from mpl_toolkits.mplot3d import axes3d\n",
    "import scipy.interpolate as interp\n",
    "from matplotlib import cm\n",
    "from scipy.interpolate import (\n",
    "    InterpolatedUnivariateSpline as Spline1d,\n",
    "    RectBivariateSpline as Spline2d\n",
    ")\n",
    "from scipy.interpolate import RectBivariateSpline\n",
    "from scipy.stats import kurtosis, skew\n",
    "import scipy.optimize as optimize\n",
    "from iminuit import Minuit\n",
    "\n",
    "from ipywidgets import *\n",
    "\n",
    "from sklearn.model_selection import train_test_split\n",
    "from sklearn.decomposition import PCA\n",
    "\n",
    "import sncosmo\n",
    "from sncosmo.salt2utils import BicubicInterpolator\n",
    "\n",
    "from astropy.table import Table\n",
    "\n",
    "%matplotlib inline"
   ]
  },
  {
   "cell_type": "markdown",
   "id": "d5205c3e",
   "metadata": {},
   "source": [
    "# Read the data"
   ]
  },
  {
   "cell_type": "code",
   "execution_count": 2,
   "id": "f3f5ec45",
   "metadata": {
    "scrolled": true
   },
   "outputs": [
    {
     "name": "stdout",
     "output_type": "stream",
     "text": [
      "Total files in path:  160\n"
     ]
    }
   ],
   "source": [
    "# file data paths\n",
    "data_path = \".//SN_surfaces//\"\n",
    "file_names = glob.glob(data_path+\"*.dat\")\n",
    "# rewrite the names\n",
    "for i in range(0, len(file_names)):\n",
    "    file_names[i] = file_names[i][15:]\n",
    "print(\"Total files in path: \", len(file_names))"
   ]
  },
  {
   "cell_type": "markdown",
   "id": "67e733c6",
   "metadata": {},
   "source": [
    "# To split the test and train dataset"
   ]
  },
  {
   "cell_type": "code",
   "execution_count": 3,
   "id": "276e6799",
   "metadata": {},
   "outputs": [
    {
     "name": "stdout",
     "output_type": "stream",
     "text": [
      "112 48\n"
     ]
    }
   ],
   "source": [
    "# split our data in training and test dataset with ration 70 - 30 %\n",
    "np.random.seed(42)\n",
    "sn_train, sn_test = train_test_split(file_names, test_size=0.3)\n",
    "print(len(sn_train), len(sn_test))"
   ]
  },
  {
   "cell_type": "code",
   "execution_count": 4,
   "id": "fad603a3",
   "metadata": {},
   "outputs": [],
   "source": [
    "#Create a log file with training and testing dataset names\n",
    "f = open(\".//log//train_names.txt\", 'w')\n",
    "for i in range(0, len(sn_train)):\n",
    "    f.write(str(sn_train[i][:-4])+\"\\n\")\n",
    "f.close()\n",
    "\n",
    "f = open(\".//log//test_names.txt\", 'w')\n",
    "for i in range(0, len(sn_test)):\n",
    "    f.write(str(sn_test[i][:-4])+\"\\n\")\n",
    "f.close()"
   ]
  },
  {
   "cell_type": "markdown",
   "id": "a82dcb07",
   "metadata": {},
   "source": [
    "# Training the model"
   ]
  },
  {
   "cell_type": "markdown",
   "id": "09117f10",
   "metadata": {},
   "source": [
    "## Principal Component Analysis"
   ]
  },
  {
   "cell_type": "code",
   "execution_count": 5,
   "id": "9f5def22",
   "metadata": {},
   "outputs": [],
   "source": [
    "TRAIN_DATASET=[]\n",
    "\n",
    "# read the training dataset\n",
    "for i in range(0, len(sn_train)):\n",
    "    SN = pd.read_csv(\".//SN_surfaces//\"+str(sn_train[i]),\n",
    "                           header=None,\n",
    "                           sep=\"\\s+\",\n",
    "                           names=[\"phase\", \"wave\", \"flux\", \"eflux\"])\n",
    "    TRAIN_DATASET.append(np.array(SN[\"flux\"]))"
   ]
  },
  {
   "cell_type": "code",
   "execution_count": 6,
   "id": "f311b665",
   "metadata": {},
   "outputs": [
    {
     "data": {
      "text/plain": [
       "[array([0.62802   , 0.611381  , 0.593151  , ..., 0.0115822 , 0.00991769,\n",
       "        0.00832076]),\n",
       " array([1.59196e-01, 1.91754e-01, 2.22219e-01, ..., 1.58948e-04,\n",
       "        1.51234e-04, 1.41736e-04]),\n",
       " array([0.097077  , 0.117023  , 0.138044  , ..., 0.00133477, 0.00125739,\n",
       "        0.00117739]),\n",
       " array([2.46391e-01, 2.94884e-01, 3.43337e-01, ..., 1.67086e-03,\n",
       "        9.43364e-04, 3.19163e-04]),\n",
       " array([3.18166e-01, 3.38935e-01, 3.56241e-01, ..., 6.94557e-04,\n",
       "        4.23930e-04, 1.78449e-04]),\n",
       " array([1.11545   , 1.05539   , 0.995102  , ..., 0.00640664, 0.006708  ,\n",
       "        0.00709616]),\n",
       " array([ 0.785135  ,  0.748958  ,  0.712496  , ..., -0.00159054,\n",
       "        -0.00274557, -0.00387855]),\n",
       " array([0.195373  , 0.225282  , 0.257926  , ..., 0.00134249, 0.0011237 ,\n",
       "        0.0010524 ]),\n",
       " array([ 0.400705  ,  0.451533  ,  0.496095  , ..., -0.001004  ,\n",
       "        -0.00152102, -0.0019598 ]),\n",
       " array([0.169497  , 0.16467   , 0.159499  , ..., 0.00197001, 0.00175762,\n",
       "        0.00154208]),\n",
       " array([0.138153  , 0.145217  , 0.151556  , ..., 0.00301963, 0.00288652,\n",
       "        0.00282757]),\n",
       " array([0.288014  , 0.325419  , 0.354871  , ..., 0.00265373, 0.00218325,\n",
       "        0.00177478]),\n",
       " array([0.0919811 , 0.116815  , 0.141013  , ..., 0.00188135, 0.00167321,\n",
       "        0.00147607]),\n",
       " array([0.062806  , 0.06219   , 0.0607052 , ..., 0.00335816, 0.00322784,\n",
       "        0.00309432]),\n",
       " array([0.072016  , 0.0945312 , 0.115537  , ..., 0.00269474, 0.00266347,\n",
       "        0.00261642]),\n",
       " array([0.0555463 , 0.0830339 , 0.108819  , ..., 0.00185001, 0.00173738,\n",
       "        0.00164899]),\n",
       " array([ 2.08045e-01,  2.04207e-01,  1.99262e-01, ...,  7.51067e-04,\n",
       "         3.87893e-04, -1.85441e-05]),\n",
       " array([ 0.171991  ,  0.198343  ,  0.224003  , ..., -0.00085385,\n",
       "        -0.00126076, -0.00158201]),\n",
       " array([0.29836   , 0.348775  , 0.395543  , ..., 0.00830867, 0.00844883,\n",
       "        0.00861867]),\n",
       " array([0.0965332 , 0.123119  , 0.148162  , ..., 0.00207471, 0.00145395,\n",
       "        0.00079341]),\n",
       " array([0.373591  , 0.389448  , 0.402085  , ..., 0.00558069, 0.00502207,\n",
       "        0.00449439]),\n",
       " array([ 9.77303e-02,  1.32912e-01,  1.67356e-01, ...,  3.82688e-04,\n",
       "        -5.75610e-06, -3.66269e-04]),\n",
       " array([0.31076   , 0.365512  , 0.414529  , ..., 0.00543195, 0.00498494,\n",
       "        0.00454131]),\n",
       " array([0.186647  , 0.202571  , 0.216364  , ..., 0.00081019, 0.00072789,\n",
       "        0.00065956]),\n",
       " array([3.53546e-01, 3.62886e-01, 3.69292e-01, ..., 2.65197e-04,\n",
       "        1.89802e-04, 1.33540e-04]),\n",
       " array([0.507769  , 0.488657  , 0.468989  , ..., 0.00191441, 0.00140089,\n",
       "        0.00088445]),\n",
       " array([0.127612  , 0.134028  , 0.13941   , ..., 0.00086504, 0.00067461,\n",
       "        0.00050695]),\n",
       " array([0.370323  , 0.36932   , 0.365363  , ..., 0.00223586, 0.00213743,\n",
       "        0.00205803]),\n",
       " array([2.85253e-02, 3.60533e-02, 4.25439e-02, ..., 2.41034e-04,\n",
       "        1.56788e-04, 9.96124e-05]),\n",
       " array([ 0.188935  ,  0.229551  ,  0.269172  , ..., -0.00721102,\n",
       "        -0.00847923, -0.00947001]),\n",
       " array([3.50097e-01, 3.99590e-01, 4.46457e-01, ..., 2.16190e-04,\n",
       "        1.62901e-04, 1.21629e-04]),\n",
       " array([ 0.115148  ,  0.149016  ,  0.184484  , ..., -0.00227925,\n",
       "        -0.00261257, -0.00289859]),\n",
       " array([0.188966  , 0.264495  , 0.334028  , ..., 0.00458114, 0.00460498,\n",
       "        0.0045689 ]),\n",
       " array([ 3.14275e-02,  5.44044e-02,  7.80190e-02, ...,  1.27923e-04,\n",
       "        -3.22911e-05, -1.93417e-04]),\n",
       " array([0.0370944 , 0.0455534 , 0.0551325 , ..., 0.00067854, 0.00052153,\n",
       "        0.00036786]),\n",
       " array([0.897642 , 0.894608 , 0.88724  , ..., 0.0319013, 0.0307589,\n",
       "        0.0296446]),\n",
       " array([0.181548  , 0.181848  , 0.180491  , ..., 0.0013619 , 0.00144242,\n",
       "        0.00152754]),\n",
       " array([0.207073  , 0.219664  , 0.230062  , ..., 0.00737528, 0.00718995,\n",
       "        0.00698585]),\n",
       " array([0.470468 , 0.451924 , 0.432629 , ..., 0.0163913, 0.0160501,\n",
       "        0.015655 ]),\n",
       " array([0.0538174 , 0.0704692 , 0.0877045 , ..., 0.00081563, 0.00073647,\n",
       "        0.00065836]),\n",
       " array([0.211174  , 0.233138  , 0.252501  , ..., 0.00453512, 0.00414433,\n",
       "        0.00375148]),\n",
       " array([ 0.462386  ,  0.477086  ,  0.486514  , ..., -0.0074279 ,\n",
       "        -0.00745498, -0.00741202]),\n",
       " array([0.0118498 , 0.0124964 , 0.0130723 , ..., 0.00111571, 0.00121835,\n",
       "        0.00134525]),\n",
       " array([0.0721702 , 0.0830517 , 0.0934482 , ..., 0.00051814, 0.00046633,\n",
       "        0.00043284]),\n",
       " array([0.420281  , 0.475729  , 0.523938  , ..., 0.00754533, 0.00729468,\n",
       "        0.00705347]),\n",
       " array([0.176272  , 0.215402  , 0.249484  , ..., 0.00450593, 0.00436227,\n",
       "        0.00424229]),\n",
       " array([0.229876  , 0.262837  , 0.292046  , ..., 0.00200096, 0.00178589,\n",
       "        0.00158454]),\n",
       " array([ 5.30380e-01,  5.17824e-01,  5.04115e-01, ...,  2.32768e-04,\n",
       "        -2.98200e-04, -8.01598e-04]),\n",
       " array([0.0660617 , 0.0769583 , 0.0874624 , ..., 0.00019563, 0.00016365,\n",
       "        0.00013602]),\n",
       " array([0.219875  , 0.270206  , 0.314573  , ..., 0.00520641, 0.00466496,\n",
       "        0.00412651]),\n",
       " array([0.164818  , 0.206584  , 0.244537  , ..., 0.0017803 , 0.00132275,\n",
       "        0.00084438]),\n",
       " array([0.324833  , 0.387302  , 0.442584  , ..., 0.00415748, 0.00394573,\n",
       "        0.00373875]),\n",
       " array([0.291203  , 0.296429  , 0.299362  , ..., 0.00342444, 0.00379617,\n",
       "        0.00417143]),\n",
       " array([0.116818  , 0.136769  , 0.155222  , ..., 0.00170611, 0.00109144,\n",
       "        0.00051601]),\n",
       " array([0.0875767 , 0.124608  , 0.163235  , ..., 0.00125355, 0.00123581,\n",
       "        0.00121609]),\n",
       " array([0.176937  , 0.212125  , 0.244655  , ..., 0.00184509, 0.00160501,\n",
       "        0.00133448]),\n",
       " array([2.29548e-01, 2.47430e-01, 2.63925e-01, ..., 2.32304e-04,\n",
       "        1.74237e-04, 1.29073e-04]),\n",
       " array([0.0593975 , 0.0835466 , 0.110614  , ..., 0.00204505, 0.00205105,\n",
       "        0.00205314]),\n",
       " array([ 0.171679  ,  0.186164  ,  0.198581  , ..., -0.00151227,\n",
       "        -0.00188192, -0.00219058]),\n",
       " array([1.46368e-01, 1.89134e-01, 2.29445e-01, ..., 6.30348e-04,\n",
       "        3.70176e-04, 1.56506e-04]),\n",
       " array([0.0531249 , 0.0515055 , 0.0497395 , ..., 0.00235091, 0.00250462,\n",
       "        0.00263447]),\n",
       " array([ 0.783774  ,  0.744729  ,  0.703521  , ..., -0.00128739,\n",
       "        -0.00236975, -0.00340347]),\n",
       " array([0.223952  , 0.279798  , 0.331486  , ..., 0.00242863, 0.00267135,\n",
       "        0.00292684]),\n",
       " array([0.185097  , 0.181854  , 0.177641  , ..., 0.00653138, 0.00711583,\n",
       "        0.00769023]),\n",
       " array([0.284014 , 0.337262 , 0.385741 , ..., 0.0127836, 0.0128654,\n",
       "        0.0127671]),\n",
       " array([0.0544    , 0.0633749 , 0.0711076 , ..., 0.0018947 , 0.00182839,\n",
       "        0.0017782 ]),\n",
       " array([ 0.151911  ,  0.186808  ,  0.223331  , ..., -0.00349925,\n",
       "        -0.00418358, -0.00474025]),\n",
       " array([0.321861  , 0.312539  , 0.302596  , ..., 0.00651062, 0.00666008,\n",
       "        0.00676549]),\n",
       " array([2.73252e-01, 3.11867e-01, 3.46159e-01, ..., 4.46258e-04,\n",
       "        3.50981e-04, 2.73793e-04]),\n",
       " array([0.229723  , 0.242345  , 0.252719  , ..., 0.00485202, 0.00486242,\n",
       "        0.00486178]),\n",
       " array([0.323198  , 0.334365  , 0.343051  , ..., 0.00229556, 0.00217719,\n",
       "        0.00208369]),\n",
       " array([6.78600e-02, 9.15083e-02, 1.14839e-01, ..., 7.55253e-06,\n",
       "        4.87271e-06, 3.09163e-06]),\n",
       " array([0.220364  , 0.254034  , 0.283725  , ..., 0.00546007, 0.00514805,\n",
       "        0.00490574]),\n",
       " array([0.103026  , 0.11806   , 0.132033  , ..., 0.00119207, 0.00113599,\n",
       "        0.00106962]),\n",
       " array([-3.07675e-02, -2.62675e-03,  2.94120e-02, ..., -4.47060e-06,\n",
       "        -2.92550e-06, -1.89108e-06]),\n",
       " array([0.221414  , 0.254536  , 0.283934  , ..., 0.00208125, 0.0019927 ,\n",
       "        0.00190854]),\n",
       " array([0.325624  , 0.342649  , 0.357129  , ..., 0.00518262, 0.0044831 ,\n",
       "        0.00376353]),\n",
       " array([0.0537821 , 0.0703636 , 0.0851505 , ..., 0.00427638, 0.00468773,\n",
       "        0.00503371]),\n",
       " array([ 0.386844  ,  0.382345  ,  0.375582  , ..., -0.00063811,\n",
       "        -0.00108746, -0.00150624]),\n",
       " array([1.75752e-01, 1.95195e-01, 2.12717e-01, ..., 1.05411e-04,\n",
       "        7.60826e-05, 5.43584e-05]),\n",
       " array([0.631612  , 0.610776  , 0.587953  , ..., 0.0049398 , 0.00486729,\n",
       "        0.00479222]),\n",
       " array([0.232784  , 0.266146  , 0.297218  , ..., 0.0030573 , 0.00291071,\n",
       "        0.00274195]),\n",
       " array([0.0657117 , 0.0902354 , 0.113125  , ..., 0.00020586, 0.00015722,\n",
       "        0.0001189 ]),\n",
       " array([0.235131  , 0.234977  , 0.233561  , ..., 0.0020292 , 0.00192561,\n",
       "        0.0018137 ]),\n",
       " array([0.112708  , 0.12568   , 0.137453  , ..., 0.0017677 , 0.00147   ,\n",
       "        0.00119376]),\n",
       " array([0.470678  , 0.474383  , 0.474837  , ..., 0.0038334 , 0.004115  ,\n",
       "        0.00443364]),\n",
       " array([0.302404  , 0.298009  , 0.292298  , ..., 0.0021554 , 0.00204849,\n",
       "        0.00197297]),\n",
       " array([0.469055 , 0.470673 , 0.469436 , ..., 0.0112242, 0.0113939,\n",
       "        0.0115593]),\n",
       " array([0.397394 , 0.428494 , 0.453909 , ..., 0.0132885, 0.0126126,\n",
       "        0.0118597]),\n",
       " array([0.666691  , 0.631156  , 0.595581  , ..., 0.0042568 , 0.00404061,\n",
       "        0.00387644]),\n",
       " array([0.213786  , 0.243627  , 0.273158  , ..., 0.00196471, 0.0018956 ,\n",
       "        0.00182697]),\n",
       " array([0.19123   , 0.199958  , 0.207183  , ..., 0.00112929, 0.00106961,\n",
       "        0.0010106 ]),\n",
       " array([0.383018  , 0.398281  , 0.411158  , ..., 0.0054835 , 0.00577171,\n",
       "        0.00604559]),\n",
       " array([ 1.42052e-01,  1.65644e-01,  1.89088e-01, ...,  5.41546e-04,\n",
       "         2.60042e-04, -5.98852e-05]),\n",
       " array([ 0.15053   ,  0.200536  ,  0.25029   , ..., -0.00143385,\n",
       "        -0.0012357 , -0.00104315]),\n",
       " array([ 0.350184  ,  0.368463  ,  0.384196  , ..., -0.00397036,\n",
       "        -0.00405067, -0.00404631]),\n",
       " array([0.231301  , 0.244605  , 0.254957  , ..., 0.0008127 , 0.00078204,\n",
       "        0.00076817]),\n",
       " array([0.163314  , 0.191474  , 0.217997  , ..., 0.00482955, 0.00456831,\n",
       "        0.00428411]),\n",
       " array([ 0.569259  ,  0.550137  ,  0.529513  , ..., -0.00112126,\n",
       "        -0.00103151, -0.0009365 ]),\n",
       " array([ 0.144773  ,  0.143025  ,  0.140625  , ..., -0.00047384,\n",
       "        -0.00066599, -0.00084633]),\n",
       " array([0.725217  , 0.696031  , 0.665883  , ..., 0.00351703, 0.00345684,\n",
       "        0.0034356 ]),\n",
       " array([0.0512337 , 0.0568055 , 0.0618831 , ..., 0.00105167, 0.00091935,\n",
       "        0.00078815]),\n",
       " array([0.0618007 , 0.0627753 , 0.0632969 , ..., 0.00126998, 0.00101587,\n",
       "        0.00074898]),\n",
       " array([ 0.171012  ,  0.209274  ,  0.245043  , ..., -0.00503667,\n",
       "        -0.00493225, -0.00471572]),\n",
       " array([0.16679   , 0.179009  , 0.189568  , ..., 0.00105598, 0.00086539,\n",
       "        0.00069708]),\n",
       " array([0.129029  , 0.160022  , 0.189173  , ..., 0.00280983, 0.00285672,\n",
       "        0.00286614]),\n",
       " array([0.0963665 , 0.127118  , 0.155728  , ..., 0.00194807, 0.00179311,\n",
       "        0.00164172]),\n",
       " array([0.172713  , 0.174516  , 0.175578  , ..., 0.00174419, 0.00181467,\n",
       "        0.00187948]),\n",
       " array([0.151532  , 0.202672  , 0.251966  , ..., 0.00472717, 0.00428217,\n",
       "        0.00380999]),\n",
       " array([0.237029  , 0.250434  , 0.261597  , ..., 0.00378741, 0.00361695,\n",
       "        0.00344927]),\n",
       " array([0.227961  , 0.278174  , 0.323892  , ..., 0.00413326, 0.00390446,\n",
       "        0.00364665]),\n",
       " array([ 0.279374  ,  0.336583  ,  0.384117  , ..., -0.00139533,\n",
       "        -0.0010765 , -0.00080302])]"
      ]
     },
     "execution_count": 6,
     "metadata": {},
     "output_type": "execute_result"
    }
   ],
   "source": [
    "TRAIN_DATASET"
   ]
  },
  {
   "cell_type": "code",
   "execution_count": 7,
   "id": "cbef2ddb",
   "metadata": {},
   "outputs": [],
   "source": [
    "def PCA_FIT(dataset, N_comp=10):\n",
    "    \"\"\"\n",
    "    dataset: list containin spectroscopy data\n",
    "    N_comp: number of components\n",
    "    \"\"\"\n",
    "    np.random.random(42)\n",
    "    # apply pca with N components\n",
    "    pca = PCA(N_comp)\n",
    "    pca.fit(dataset)\n",
    "    return pca"
   ]
  },
  {
   "cell_type": "code",
   "execution_count": 8,
   "id": "8b421655",
   "metadata": {},
   "outputs": [],
   "source": [
    "N=10\n",
    "pca=PCA_FIT(TRAIN_DATASET, N_comp=N)"
   ]
  },
  {
   "cell_type": "code",
   "execution_count": 9,
   "id": "e397278d",
   "metadata": {
    "scrolled": true
   },
   "outputs": [
    {
     "data": {
      "image/png": "[encoded data removed]",
      "text/plain": [
       "<Figure size 432x288 with 1 Axes>"
      ]
     },
     "metadata": {
      "needs_background": "light"
     },
     "output_type": "display_data"
    }
   ],
   "source": [
    "plt.plot(np.linspace(1, 10, 10, dtype=int), np.cumsum(pca.explained_variance_ratio_)*100, color=\"slateblue\")\n",
    "plt.xlabel('Number of components')\n",
    "plt.ylabel('Variability (%)')\n",
    "plt.subplots_adjust(bottom=0.15)\n",
    "plt.subplots_adjust(left=0.15)\n",
    "\n",
    "#plt.savefig(\"/home/joao/Desktop/variabilidade_acumulada.png\", dpi = 200)   # save the figure to file"
   ]
  },
  {
   "cell_type": "code",
   "execution_count": 10,
   "id": "3f5a8013",
   "metadata": {},
   "outputs": [
    {
     "name": "stdout",
     "output_type": "stream",
     "text": [
      "Explained variance in 3 components:  0.9095470928899078\n"
     ]
    }
   ],
   "source": [
    "print(\"Explained variance in 3 components: \", pca.explained_variance_ratio_[0]+pca.explained_variance_ratio_[1]+pca.explained_variance_ratio_[2])"
   ]
  },
  {
   "cell_type": "code",
   "execution_count": 11,
   "id": "929ed735",
   "metadata": {},
   "outputs": [],
   "source": [
    "# grid plot\n",
    "x_grid = np.linspace(-10,50,61)\n",
    "y_grid = np.linspace(3500,8000, 451)\n",
    "B1, B2 = np.meshgrid(x_grid, y_grid, indexing='xy')"
   ]
  },
  {
   "cell_type": "markdown",
   "id": "17416e49",
   "metadata": {},
   "source": [
    "### Mean surface"
   ]
  },
  {
   "cell_type": "code",
   "execution_count": 12,
   "id": "22ae0b76",
   "metadata": {},
   "outputs": [
    {
     "name": "stderr",
     "output_type": "stream",
     "text": [
      "<ipython-input-12-018f15a35b9b>:6: MatplotlibDeprecationWarning: Axes3D(fig) adding itself to the figure is deprecated since 3.4. Pass the keyword argument auto_add_to_figure=False and use fig.add_axes(ax) to suppress this warning. The default value of auto_add_to_figure will change to False in mpl3.5 and True values will no longer work in 3.6.  This is consistent with other Axes classes.\n",
      "  ax = axes3d.Axes3D(fig)\n"
     ]
    },
    {
     "data": {
      "image/png": "[encoded data removed]",
      "text/plain": [
       "<Figure size 504x360 with 1 Axes>"
      ]
     },
     "metadata": {
      "needs_background": "light"
     },
     "output_type": "display_data"
    }
   ],
   "source": [
    "#matplotlib notebook\n",
    "\n",
    "Z = interp.griddata((SN[\"phase\"],SN[\"wave\"]),pca.mean_,(B1,B2),method='cubic')\n",
    "#Z = splinemean(B1, B2)\n",
    "fig = plt.figure(figsize=(7, 5))\n",
    "ax = axes3d.Axes3D(fig)\n",
    "ax.plot_wireframe(B1, B2, Z)\n",
    "ax.plot_surface(B1, B2, Z, cmap=cm.viridis, lw=0.5, rstride=1, cstride=1, alpha=0.6)\n",
    "ax.set_xlabel(\"phase (days)\")\n",
    "ax.set_ylabel(\"wavelength (angstrom)\")\n",
    "ax.set_zlabel(\"mean surface (a. u.)\")\n",
    "\n",
    "plt.show()"
   ]
  },
  {
   "cell_type": "markdown",
   "id": "e8e8a825",
   "metadata": {},
   "source": [
    "### Components"
   ]
  },
  {
   "cell_type": "code",
   "execution_count": 13,
   "id": "b4bc27a3",
   "metadata": {},
   "outputs": [],
   "source": [
    "optionslist = []\n",
    "\n",
    "for i in range(0,N):\n",
    "    \n",
    "    optionslist.append(i)"
   ]
  },
  {
   "cell_type": "code",
   "execution_count": 14,
   "id": "f6000c0a",
   "metadata": {},
   "outputs": [
    {
     "name": "stderr",
     "output_type": "stream",
     "text": [
      "<ipython-input-14-c2c413a1a0f3>:4: MatplotlibDeprecationWarning: Axes3D(fig) adding itself to the figure is deprecated since 3.4. Pass the keyword argument auto_add_to_figure=False and use fig.add_axes(ax) to suppress this warning. The default value of auto_add_to_figure will change to False in mpl3.5 and True values will no longer work in 3.6.  This is consistent with other Axes classes.\n",
      "  ax = axes3d.Axes3D(fig)\n"
     ]
    },
    {
     "data": {
      "application/vnd.jupyter.widget-view+json": {
       "model_id": "e7515add03374b4aa55f537479918535",
       "version_major": 2,
       "version_minor": 0
      },
      "text/plain": [
       "interactive(children=(Dropdown(description='Component:', options=(0, 1, 2, 3, 4, 5, 6, 7, 8, 9), value=0), Out…"
      ]
     },
     "metadata": {},
     "output_type": "display_data"
    },
    {
     "data": {
      "image/png": "[encoded data removed]",
      "text/plain": [
       "<Figure size 720x432 with 1 Axes>"
      ]
     },
     "metadata": {
      "needs_background": "light"
     },
     "output_type": "display_data"
    }
   ],
   "source": [
    "#matplotlib notebook\n",
    "\n",
    "fig = plt.figure(figsize=(10, 6))\n",
    "ax = axes3d.Axes3D(fig)\n",
    "\n",
    "def update_graph(i):\n",
    "    \n",
    "    ax.clear()\n",
    "\n",
    "    Z = interp.griddata((SN[\"phase\"],SN[\"wave\"]),pca.components_[i],(B1,B2),method='cubic')\n",
    "    #Z = splinemean(B1, B2)\n",
    "    ax.plot_wireframe(B1, B2, Z)\n",
    "    ax.plot_surface(B1, B2, Z, cmap=cm.viridis, lw=0.5, rstride=1, cstride=1, alpha=0.6)\n",
    "    ax.set_xlabel(\"phase (days)\")\n",
    "    ax.set_ylabel(\"wavelength (angstrom)\")\n",
    "    ax.set_zlabel(\"components (a. u.)\")\n",
    "\n",
    "\n",
    "    plt.show()\n",
    "    \n",
    "i = widgets.Dropdown(options=optionslist, value=0, description='Component:', disabled=False)\n",
    "\n",
    "widgets.interactive(update_graph,i = i)"
   ]
  },
  {
   "cell_type": "code",
   "execution_count": 15,
   "id": "14ddef6d",
   "metadata": {},
   "outputs": [],
   "source": [
    "# training grid\n",
    "TEMP_PHASE_GRID = np.linspace(-10, 50, 61, dtype=int)\n",
    "TEMP_WAVE_GRID = np.linspace(3500, 8500, 501, dtype=int)"
   ]
  },
  {
   "cell_type": "code",
   "execution_count": 16,
   "id": "9496bd66",
   "metadata": {},
   "outputs": [],
   "source": [
    "# 2d grid\n",
    "X_GRID = []\n",
    "Y_GRID = []\n",
    "for i in range(0, len(TEMP_PHASE_GRID)):\n",
    "    for j in range(0, len(TEMP_WAVE_GRID)):\n",
    "        X_GRID.append(TEMP_PHASE_GRID[i])\n",
    "        Y_GRID.append(TEMP_WAVE_GRID[j])"
   ]
  },
  {
   "cell_type": "code",
   "execution_count": 17,
   "id": "44c6f94a",
   "metadata": {},
   "outputs": [
    {
     "name": "stdout",
     "output_type": "stream",
     "text": [
      "number of templates generated:  10\n"
     ]
    }
   ],
   "source": [
    "# Templates dataset in a pandas dataframe\n",
    "templates = []\n",
    "for i in range(N):\n",
    "    data = [np.array(X_GRID), np.array(Y_GRID), (pca.components_[i].reshape(501, 61).T).reshape(1, len(pca.components_[i]))[0]] # to save as a pandas dataframe\n",
    "    templates.append(pd.DataFrame(np.array(data).T, columns=[\"phase\", \"wave\", \"flux\"]))\n",
    "    \n",
    "print(\"number of templates generated: \", len(templates))"
   ]
  },
  {
   "cell_type": "markdown",
   "id": "5f4f6f24",
   "metadata": {},
   "source": [
    "## Mean, Standard Deviation and Skewness"
   ]
  },
  {
   "cell_type": "code",
   "execution_count": 18,
   "id": "ce00b460",
   "metadata": {},
   "outputs": [],
   "source": [
    "# Mean, Standard Deviation and Skewness surfaces\n",
    "MEAN = np.mean(TRAIN_DATASET, axis=0)\n",
    "DESVP = np.std(TRAIN_DATASET, axis=0)\n",
    "SKW = skew(TRAIN_DATASET, axis=0)\n",
    "\n",
    "STATISTICAL_MOMENTS = [MEAN, DESVP, SKW]"
   ]
  },
  {
   "cell_type": "code",
   "execution_count": 19,
   "id": "80021142",
   "metadata": {},
   "outputs": [
    {
     "name": "stdout",
     "output_type": "stream",
     "text": [
      "number of templates generated:  3\n"
     ]
    }
   ],
   "source": [
    "# Given templates in a pandas dataframe\n",
    "ST_MOM = []\n",
    "for i in range(3):\n",
    "    data = [np.array(X_GRID), np.array(Y_GRID), (STATISTICAL_MOMENTS[i].reshape(501, 61).T).reshape(1, len(STATISTICAL_MOMENTS[i]))[0]] # to save as a pandas dataframe\n",
    "    ST_MOM.append(pd.DataFrame(np.array(data).T, columns=[\"phase\", \"wave\", \"flux\"]))\n",
    "    \n",
    "print(\"number of templates generated: \", len(ST_MOM))"
   ]
  },
  {
   "cell_type": "markdown",
   "id": "26f3d18f",
   "metadata": {},
   "source": [
    "# Generate photometry data"
   ]
  },
  {
   "cell_type": "code",
   "execution_count": 20,
   "id": "53e0fcac",
   "metadata": {},
   "outputs": [],
   "source": [
    "# csp filters using sncosmo\n",
    "ab = sncosmo.get_magsystem('ab')\n",
    "# catalog of bands\n",
    "csp_filtersname = [\"cspg\", \"cspr\", \"cspv9844\"]\n",
    "csp_filters = [sncosmo.get_bandpass('cspg'), sncosmo.get_bandpass('cspr'), sncosmo.get_bandpass('cspv9844')]"
   ]
  },
  {
   "cell_type": "code",
   "execution_count": 21,
   "id": "98d7305d",
   "metadata": {},
   "outputs": [],
   "source": [
    "# photometry grid\n",
    "PHOTO_XGRID = np.linspace(-10, 45, 16, dtype=int)\n",
    "WAVE_GRID = np.linspace(3500, 8500, 501, dtype=int)"
   ]
  },
  {
   "cell_type": "code",
   "execution_count": 22,
   "id": "badfc922",
   "metadata": {},
   "outputs": [],
   "source": [
    "def function_gen(data, dwave=10, returnfun=\"on\"):\n",
    "    \"\"\"\n",
    "    data: pandas dataframe structured with column names as phase, wave and flux\n",
    "    dwave: differencial wavelength (defaut 10 angstroms)\n",
    "    returnfun: variable to define what you will want to return. If on it return function, if off return data values\n",
    "    \"\"\"\n",
    "    \n",
    "    if returnfun == \"on\":\n",
    "        functions = []\n",
    "        for nn in range(0, len(csp_filters)): # run over filters\n",
    "            temp_flux = []\n",
    "            for ii in range(0, len(PHOTO_XGRID)): # for each grid point...\n",
    "                # integral element\n",
    "                temp_flux.append(np.sum(data[data[\"phase\"]==PHOTO_XGRID[ii]][\"flux\"]*csp_filters[nn](WAVE_GRID)*WAVE_GRID*dwave))\n",
    "            functions.append(Spline1d(PHOTO_XGRID, temp_flux)) # save each function to return (number of functions will be the number of filters)\n",
    "        return functions\n",
    "\n",
    "    if returnfun == \"off\":\n",
    "        \n",
    "        temp_phase =[]\n",
    "        temp_flux = []\n",
    "        temp_eflux = []\n",
    "        temp_filter = []\n",
    "        temp_zp = []\n",
    "        temp_zpsys = []\n",
    "        for nn in range(0, len(csp_filters)): # run over filters\n",
    "            for ii in range(0, len(PHOTO_XGRID)): # for each grid point...\n",
    "                # lists to transform in a pandas dataframe (format of sncosmo fit)\n",
    "                temp_phase.append(float(PHOTO_XGRID[ii]))\n",
    "                temp_flux.append(float(np.sum(data[data[\"phase\"]==PHOTO_XGRID[ii]][\"flux\"]*csp_filters[nn](WAVE_GRID)*WAVE_GRID*dwave))) # flux\n",
    "                temp_eflux.append(float(np.sum(csp_filters[nn](WAVE_GRID)*WAVE_GRID*dwave*data[data[\"phase\"]==PHOTO_XGRID[ii]][\"eflux\"]))) # error on flux\n",
    "                temp_filter.append(str(csp_filtersname[nn])) # given bands\n",
    "                temp_zp.append(2.5*np.log10(ab.zpbandflux(csp_filtersname[nn]))) # zeropoint magnitudes\n",
    "                temp_zpsys.append(\"ab\") # magnitude format\n",
    "                temp_data = [temp_phase, temp_flux, temp_eflux, temp_filter, temp_zp, temp_zpsys] # to save as a pandas dataframe\n",
    "                temp_data = pd.DataFrame(np.array(temp_data).T, columns=[\"time\", \"flux\", \"fluxerr\", \"band\", \"zp\", \"zpsys\"]) # collumn names in agreement with sncosmo\n",
    "        return temp_data"
   ]
  },
  {
   "cell_type": "code",
   "execution_count": 23,
   "id": "b5d2a918",
   "metadata": {},
   "outputs": [
    {
     "data": {
      "text/plain": [
       "\"\\nM0_filt = dict({'cspg':function_gen(templates[0])[0],\\n                'cspr':function_gen(templates[0])[1],\\n                'cspv9844':function_gen(templates[0])[2]})\\n\\nM1_filt = dict({'cspg':function_gen(templates[1])[0],\\n                'cspr':function_gen(templates[1])[1],\\n                'cspv9844':function_gen(templates[1])[2]})\\n\\nM2_filt = dict({'cspg':function_gen(templates[2])[0],\\n                'cspr':function_gen(templates[2])[1],\\n                'cspv9844':function_gen(templates[2])[2]})\\n\\nM3_filt = dict({'cspg':function_gen(templates[3])[0],\\n                'cspr':function_gen(templates[3])[1],\\n                'cspv9844':function_gen(templates[3])[2]})\\n\\nM4_filt = dict({'cspg':function_gen(templates[4])[0],\\n                'cspr':function_gen(templates[4])[1],\\n                'cspv9844':function_gen(templates[4])[2]})\\n\\nM5_filt = dict({'cspg':function_gen(templates[5])[0],\\n                'cspr':function_gen(templates[5])[1],\\n                'cspv9844':function_gen(templates[5])[2]})\\n\\nM6_filt = dict({'cspg':function_gen(templates[6])[0],\\n                'cspr':function_gen(templates[6])[1],\\n                'cspv9844':function_gen(templates[6])[2]})\\n\\nM7_filt = dict({'cspg':function_gen(templates[7])[0],\\n                'cspr':function_gen(templates[7])[1],\\n                'cspv9844':function_gen(templates[7])[2]})\\n\\nM8_filt = dict({'cspg':function_gen(templates[8])[0],\\n                'cspr':function_gen(templates[8])[1],\\n                'cspv9844':function_gen(templates[8])[2]})\\n\\nM9_filt = dict({'cspg':function_gen(templates[9])[0],\\n                'cspr':function_gen(templates[9])[1],\\n                'cspv9844':function_gen(templates[9])[2]})\\n\""
      ]
     },
     "execution_count": 23,
     "metadata": {},
     "output_type": "execute_result"
    }
   ],
   "source": [
    "# Filters dictionary\n",
    "'''\n",
    "M0_filt = dict({'cspg':function_gen(templates[0])[0],\n",
    "                'cspr':function_gen(templates[0])[1],\n",
    "                'cspv9844':function_gen(templates[0])[2]})\n",
    "\n",
    "M1_filt = dict({'cspg':function_gen(templates[1])[0],\n",
    "                'cspr':function_gen(templates[1])[1],\n",
    "                'cspv9844':function_gen(templates[1])[2]})\n",
    "\n",
    "M2_filt = dict({'cspg':function_gen(templates[2])[0],\n",
    "                'cspr':function_gen(templates[2])[1],\n",
    "                'cspv9844':function_gen(templates[2])[2]})\n",
    "\n",
    "M3_filt = dict({'cspg':function_gen(templates[3])[0],\n",
    "                'cspr':function_gen(templates[3])[1],\n",
    "                'cspv9844':function_gen(templates[3])[2]})\n",
    "\n",
    "M4_filt = dict({'cspg':function_gen(templates[4])[0],\n",
    "                'cspr':function_gen(templates[4])[1],\n",
    "                'cspv9844':function_gen(templates[4])[2]})\n",
    "\n",
    "M5_filt = dict({'cspg':function_gen(templates[5])[0],\n",
    "                'cspr':function_gen(templates[5])[1],\n",
    "                'cspv9844':function_gen(templates[5])[2]})\n",
    "\n",
    "M6_filt = dict({'cspg':function_gen(templates[6])[0],\n",
    "                'cspr':function_gen(templates[6])[1],\n",
    "                'cspv9844':function_gen(templates[6])[2]})\n",
    "\n",
    "M7_filt = dict({'cspg':function_gen(templates[7])[0],\n",
    "                'cspr':function_gen(templates[7])[1],\n",
    "                'cspv9844':function_gen(templates[7])[2]})\n",
    "\n",
    "M8_filt = dict({'cspg':function_gen(templates[8])[0],\n",
    "                'cspr':function_gen(templates[8])[1],\n",
    "                'cspv9844':function_gen(templates[8])[2]})\n",
    "\n",
    "M9_filt = dict({'cspg':function_gen(templates[9])[0],\n",
    "                'cspr':function_gen(templates[9])[1],\n",
    "                'cspv9844':function_gen(templates[9])[2]})\n",
    "'''"
   ]
  },
  {
   "cell_type": "markdown",
   "id": "c8d38837",
   "metadata": {},
   "source": [
    "# Generating Sintetic fotometry on test data"
   ]
  },
  {
   "cell_type": "code",
   "execution_count": 24,
   "id": "0fcb9080",
   "metadata": {},
   "outputs": [],
   "source": [
    "TEST_DATASET=[]\n",
    "# use the function above\n",
    "for i in range(0, len(sn_test)):\n",
    "    SN = pd.read_csv(\".//SN_surfaces//\"+str(sn_test[i]),\n",
    "                           header=None,\n",
    "                           sep=\"\\s+\",\n",
    "                           names=[\"phase\", \"wave\", \"flux\", \"eflux\"])\n",
    "    TEST_DATASET.append(SN)"
   ]
  },
  {
   "cell_type": "code",
   "execution_count": 25,
   "id": "56d6427e",
   "metadata": {
    "scrolled": true
   },
   "outputs": [],
   "source": [
    "# photometry data\n",
    "PHOTOMETRY_DATASET_TEST = []\n",
    "for i in range(0, len(TEST_DATASET)):\n",
    "    PHOTOMETRY_DATASET_TEST.append(Table(data=Table.from_pandas(function_gen(TEST_DATASET[i], returnfun=\"off\")), dtype=[float, float, float, str, float, str]))"
   ]
  },
  {
   "cell_type": "markdown",
   "id": "d7499adf",
   "metadata": {},
   "source": [
    "# Models Fit"
   ]
  },
  {
   "cell_type": "markdown",
   "id": "cca03fc1",
   "metadata": {},
   "source": [
    "### SALT2"
   ]
  },
  {
   "cell_type": "code",
   "execution_count": 26,
   "id": "8afd1c32",
   "metadata": {},
   "outputs": [],
   "source": [
    "def salt2_fit(data):\n",
    "    # create a model\n",
    "    model = sncosmo.Model(source='salt2') # sncosmo model (salt2)\n",
    "    model.set(z=0, t0=0, c=0) # fixed params\n",
    "    # run the fit\n",
    "    result, fitted_model = sncosmo.fit_lc(data, model, ['x0', 'x1'], modelcov=False)  # bounds on parameters (if any)\n",
    "    #print(\"chi^2 minimum/dof (SALT2): \", result.chisq/result.ndof)\n",
    "    \n",
    "    #sncosmo.plot_lc(data, model=fitted_model, errors=result.errors);\n",
    "    return fitted_model, result"
   ]
  },
  {
   "cell_type": "markdown",
   "id": "4aac88a6",
   "metadata": {},
   "source": [
    "### Single Expansion Model (Using PCA) (com todas 10 componentes)"
   ]
  },
  {
   "cell_type": "code",
   "execution_count": 27,
   "id": "04613f82",
   "metadata": {},
   "outputs": [],
   "source": [
    "#from scipy.interpolate import RectBivariateSpline\n",
    "\n",
    "# A new class for sncosmo\n",
    "class EXP_LC(sncosmo.Source):\n",
    "    \n",
    "    _param_names = ['x0', 'x1', 'x2','x3','x4','x5','x6','x7','x8','x9', 'c']\n",
    "    param_names_latex = ['x_0', 'x_1', 'x_2', 'x_3', 'x_4', 'x_5', 'x_6', 'x_7', 'x_8', 'x_9', 'c']\n",
    "    \n",
    "    \n",
    "    def __init__(self, phase, wave, flux0, flux1, flux2, flux3, flux4, flux5, flux6, flux7, flux8, flux9, LC, name='EXP', version='2021'):\n",
    "\n",
    "        self.name = name\n",
    "        self.version = version\n",
    "        self._phase = phase\n",
    "        self._wave = wave\n",
    "        \n",
    "        self._model_flux0  = BicubicInterpolator(phase, wave, flux0)\n",
    "        self._model_flux1  = BicubicInterpolator(phase, wave, flux1)\n",
    "        self._model_flux2  = BicubicInterpolator(phase, wave, flux2)\n",
    "        self._model_flux3  = BicubicInterpolator(phase, wave, flux3)\n",
    "        self._model_flux4  = BicubicInterpolator(phase, wave, flux4)\n",
    "        self._model_flux5  = BicubicInterpolator(phase, wave, flux5)\n",
    "        self._model_flux6  = BicubicInterpolator(phase, wave, flux6)\n",
    "        self._model_flux7  = BicubicInterpolator(phase, wave, flux7)\n",
    "        self._model_flux8  = BicubicInterpolator(phase, wave, flux8)\n",
    "        self._model_flux9  = BicubicInterpolator(phase, wave, flux9)\n",
    "        self._model_ext =  Spline1d(LC['wave'], LC['ext'],  k=1)  \n",
    "\n",
    "\n",
    "        self._parameters = np.array([1, 0, 0, 0, 0, 0, 0, 0, 0, 0, 0])  # initial guess\n",
    "        \n",
    "\n",
    "    def _flux(self, phase, wave):\n",
    "        \n",
    "        x0, x1, x2, x3, x4, x5, x6, x7, x8, x9, c = self._parameters\n",
    "        #print('flux!')\n",
    "        return x0 * (self._model_flux0(phase, wave) +  x1 * self._model_flux1(phase, wave) +  x2 * self._model_flux2(phase, wave) +  x3 * self._model_flux3(phase, wave) +  x4 * self._model_flux4(phase, wave)  +  x5 * self._model_flux5(phase, wave) +  x6 * self._model_flux6(phase, wave) +  x7 * self._model_flux7(phase, wave) +  x8 * self._model_flux8(phase, wave) +  x9 * self._model_flux9(phase, wave))* 10.** (-0.4 * self._model_ext(wave) * c)"
   ]
  },
  {
   "cell_type": "markdown",
   "id": "8f6f4d8a",
   "metadata": {},
   "source": [
    "# Light Curve Fits"
   ]
  },
  {
   "cell_type": "code",
   "execution_count": 28,
   "id": "fc8f92aa",
   "metadata": {},
   "outputs": [],
   "source": [
    "gridx = np.linspace(-10, 50, 61)\n",
    "gridy = np.linspace(3500, 8500, 501)\n",
    "\n",
    "# templates reshaped\n",
    "M0_reshape = np.array(templates[0][\"flux\"]).reshape(61, 501) \n",
    "M1_reshape = np.array(templates[1][\"flux\"]).reshape(61, 501)\n",
    "M2_reshape = np.array(templates[2][\"flux\"]).reshape(61, 501)\n",
    "M3_reshape = np.array(templates[3][\"flux\"]).reshape(61, 501)\n",
    "M4_reshape = np.array(templates[4][\"flux\"]).reshape(61, 501)\n",
    "M5_reshape = np.array(templates[5][\"flux\"]).reshape(61, 501)\n",
    "M6_reshape = np.array(templates[6][\"flux\"]).reshape(61, 501)\n",
    "M7_reshape = np.array(templates[7][\"flux\"]).reshape(61, 501)\n",
    "M8_reshape = np.array(templates[8][\"flux\"]).reshape(61, 501)\n",
    "M9_reshape = np.array(templates[9][\"flux\"]).reshape(61, 501)\n",
    "c = pd.read_csv(\".//Templates//salt2_colour_law_guy2010.dat\", header = None, sep = \"\\s+\") # color term\n",
    "c.columns = [\"wave\", \"ext\"]\n",
    "\n",
    "#exp_mom = EXP_MOM(gridx, gridy, name='EXP_MOM')"
   ]
  },
  {
   "cell_type": "markdown",
   "id": "b758053a",
   "metadata": {},
   "source": [
    "## SALT2 x EXP(3)"
   ]
  },
  {
   "cell_type": "code",
   "execution_count": 29,
   "id": "206bca09",
   "metadata": {},
   "outputs": [],
   "source": [
    "optionslist = []\n",
    "\n",
    "for i in range(0,len(PHOTOMETRY_DATASET_TEST)):\n",
    "    \n",
    "    optionslist.append(i)"
   ]
  },
  {
   "cell_type": "code",
   "execution_count": 37,
   "id": "0c8d1368",
   "metadata": {
    "scrolled": false
   },
   "outputs": [
    {
     "data": {
      "application/vnd.jupyter.widget-view+json": {
       "model_id": "03d67b3c0b984f2dadc4bd299803dfc8",
       "version_major": 2,
       "version_minor": 0
      },
      "text/plain": [
       "interactive(children=(Dropdown(description='Component:', options=(0, 1, 2, 3, 4, 5, 6, 7, 8, 9, 10, 11, 12, 13…"
      ]
     },
     "metadata": {},
     "output_type": "display_data"
    }
   ],
   "source": [
    "def update_graph(i):\n",
    "    \n",
    "    exp = EXP_LC(gridx, gridy, M0_reshape, M1_reshape, M2_reshape, M3_reshape, M4_reshape, M5_reshape, M6_reshape, M7_reshape, M8_reshape, M9_reshape, c, name='EXP')\n",
    "    model = sncosmo.Model(source=exp)\n",
    "\n",
    "    model.set(z=0.,\n",
    "              t0=0,\n",
    "              x3=0,\n",
    "              x4=0,\n",
    "              x5=0,\n",
    "              x6=0,\n",
    "              x7=0,\n",
    "              x8=0,\n",
    "              x9=0,\n",
    "              c=0)\n",
    "    \n",
    "    result_exp, model_exp = sncosmo.fit_lc(PHOTOMETRY_DATASET_TEST[i], model, ['x0', 'x1', 'x2'], modelcov=False)  # bounds on parameters (if any)\n",
    "    print(\"chi^2 minimum/dof (EXP): \", result_exp.chisq/result_exp.ndof)\n",
    "    model_salt2, result_salt2 = salt2_fit(PHOTOMETRY_DATASET_TEST[i]);\n",
    "    #print(result_salt2)\n",
    "    sncosmo.plot_lc(PHOTOMETRY_DATASET_TEST[i],\n",
    "                    model=[model_salt2, model_exp],\n",
    "                    errors=[result_salt2.errors, result_exp.errors],\n",
    "                    model_label=[\"SALT2 (c=0)\", \"EXP\"],\n",
    "                    color=\"k\")\n",
    "    #plt.savefig('SALT2_x_EXP_SN'+str(i)+'.pdf')\n",
    "    \n",
    "i = widgets.Dropdown(options=optionslist, value=0, description='Component:', disabled=False)\n",
    "widgets.interactive(update_graph,i = i)"
   ]
  },
  {
   "cell_type": "markdown",
   "id": "2b344c76",
   "metadata": {},
   "source": [
    "## SALT2 x EXP4"
   ]
  },
  {
   "cell_type": "code",
   "execution_count": 31,
   "id": "fac9fee4",
   "metadata": {},
   "outputs": [
    {
     "data": {
      "application/vnd.jupyter.widget-view+json": {
       "model_id": "7a7d619bfe1643379e600125ae0dac7b",
       "version_major": 2,
       "version_minor": 0
      },
      "text/plain": [
       "interactive(children=(Dropdown(description='Component:', options=(0, 1, 2, 3, 4, 5, 6, 7, 8, 9, 10, 11, 12, 13…"
      ]
     },
     "metadata": {},
     "output_type": "display_data"
    }
   ],
   "source": [
    "def update_graph(i):\n",
    "    \n",
    "    exp = EXP_LC(gridx, gridy, M0_reshape, M1_reshape, M2_reshape, M3_reshape, M4_reshape, M5_reshape, M6_reshape, M7_reshape, M8_reshape, M9_reshape, c, name='EXP')\n",
    "    model = sncosmo.Model(source=exp)\n",
    "\n",
    "    model.set(z=0.,\n",
    "              t0=0,\n",
    "              x4=0,\n",
    "              x5=0,\n",
    "              x6=0,\n",
    "              x7=0,\n",
    "              x8=0,\n",
    "              x9=0,\n",
    "              c=0)\n",
    "    \n",
    "    result_exp, model_exp = sncosmo.fit_lc(PHOTOMETRY_DATASET_TEST[i], model, ['x0', 'x1', 'x2', 'x3'], modelcov=False)  # bounds on parameters (if any)\n",
    "    print(\"chi^2 minimum/dof (EXP): \", result_exp.chisq/result_exp.ndof)\n",
    "    model_salt2, result_salt2 = salt2_fit(PHOTOMETRY_DATASET_TEST[i]);\n",
    "    #print(result_exp)\n",
    "    sncosmo.plot_lc(PHOTOMETRY_DATASET_TEST[i],\n",
    "                    model=[model_salt2, model_exp],\n",
    "                    errors=[result_salt2.errors, result_exp.errors],\n",
    "                    model_label=[\"SALT2\", \"EXP\"],\n",
    "                    color=\"k\")\n",
    "    #plt.savefig('SALT2_x_EXP_SN'+str(i)+'.pdf')\n",
    "    \n",
    "i = widgets.Dropdown(options=optionslist, value=0, description='Component:', disabled=False)\n",
    "widgets.interactive(update_graph,i = i)"
   ]
  },
  {
   "cell_type": "markdown",
   "id": "05e43a16",
   "metadata": {},
   "source": [
    "## SALT2 x EXP10"
   ]
  },
  {
   "cell_type": "code",
   "execution_count": 32,
   "id": "7510af53",
   "metadata": {},
   "outputs": [
    {
     "data": {
      "application/vnd.jupyter.widget-view+json": {
       "model_id": "0dfd3b1ba2aa4d1988b7a0e14837d9e4",
       "version_major": 2,
       "version_minor": 0
      },
      "text/plain": [
       "interactive(children=(Dropdown(description='Component:', options=(0, 1, 2, 3, 4, 5, 6, 7, 8, 9, 10, 11, 12, 13…"
      ]
     },
     "metadata": {},
     "output_type": "display_data"
    }
   ],
   "source": [
    "def update_graph(i):\n",
    "    \n",
    "    exp = EXP_LC(gridx, gridy, M0_reshape, M1_reshape, M2_reshape, M3_reshape, M4_reshape, M5_reshape, M6_reshape, M7_reshape, M8_reshape, M9_reshape, c, name='EXP')\n",
    "    model = sncosmo.Model(source=exp)\n",
    "\n",
    "    model.set(z=0.,\n",
    "              t0=0,\n",
    "              c=0)\n",
    "    \n",
    "    result_exp, model_exp = sncosmo.fit_lc(PHOTOMETRY_DATASET_TEST[i], model, ['x0', 'x1', 'x2', 'x3', 'x4', 'x5', 'x6', 'x7', 'x8', 'x9'], modelcov=False)  # bounds on parameters (if any)\n",
    "    print(\"chi^2 minimum/dof (EXP): \", result_exp.chisq/result_exp.ndof)\n",
    "    model_salt2, result_salt2 = salt2_fit(PHOTOMETRY_DATASET_TEST[i]);\n",
    "    #print(result_exp)\n",
    "    sncosmo.plot_lc(PHOTOMETRY_DATASET_TEST[i],\n",
    "                    model=[model_salt2, model_exp],\n",
    "                    errors=[result_salt2.errors, result_exp.errors],\n",
    "                    model_label=[\"SALT2\", \"EXP\"],\n",
    "                    color=\"k\")\n",
    "    #plt.savefig('SALT2_x_EXP_SN'+str(i)+'.pdf')\n",
    "    \n",
    "i = widgets.Dropdown(options=optionslist, value=0, description='Component:', disabled=False)\n",
    "widgets.interactive(update_graph,i = i)"
   ]
  },
  {
   "cell_type": "markdown",
   "id": "73f71a14",
   "metadata": {},
   "source": [
    "## EXP(3)x EXP10"
   ]
  },
  {
   "cell_type": "code",
   "execution_count": 33,
   "id": "2e1bcb1b",
   "metadata": {},
   "outputs": [
    {
     "data": {
      "application/vnd.jupyter.widget-view+json": {
       "model_id": "f8363243bd714555af52c817a749e9a7",
       "version_major": 2,
       "version_minor": 0
      },
      "text/plain": [
       "interactive(children=(Dropdown(description='Component:', options=(0, 1, 2, 3, 4, 5, 6, 7, 8, 9, 10, 11, 12, 13…"
      ]
     },
     "metadata": {},
     "output_type": "display_data"
    }
   ],
   "source": [
    "def update_graph(i):\n",
    "    \n",
    "    exp3 = EXP_LC(gridx, gridy, M0_reshape, M1_reshape, M2_reshape, M3_reshape, M4_reshape, M5_reshape, M6_reshape, M7_reshape, M8_reshape, M9_reshape, c, name='EXP')\n",
    "    model3 = sncosmo.Model(source=exp3)\n",
    "\n",
    "    model3.set(z=0.,\n",
    "              t0=0,\n",
    "              x4=0,\n",
    "              x5=0,\n",
    "              x6=0,\n",
    "              x7=0,\n",
    "              x8=0,\n",
    "              x9=0,\n",
    "              c=0)\n",
    "    \n",
    "    result_exp3, model_exp3 = sncosmo.fit_lc(PHOTOMETRY_DATASET_TEST[i], model3, ['x0', 'x1', 'x2', 'x3'], modelcov=False)  # bounds on parameters (if any)\n",
    "    \n",
    "    \n",
    "\n",
    "    exp10 = EXP_LC(gridx, gridy, M0_reshape, M1_reshape, M2_reshape, M3_reshape, M4_reshape, M5_reshape, M6_reshape, M7_reshape, M8_reshape, M9_reshape, c, name='EXP')\n",
    "    model10 = sncosmo.Model(source=exp10)\n",
    "\n",
    "    model10.set(z=0.,\n",
    "              t0=0,\n",
    "              c=0)\n",
    "    \n",
    "    result_exp10, model_exp10 = sncosmo.fit_lc(PHOTOMETRY_DATASET_TEST[i], model10, ['x0', 'x1', 'x2', 'x3', 'x4', 'x5', 'x6', 'x7', 'x8', 'x9'], modelcov=False)  # bounds on parameters (if any)\n",
    "    \n",
    "    #print(result_exp10.keys())\n",
    "    \n",
    "    sncosmo.plot_lc(PHOTOMETRY_DATASET_TEST[i],\n",
    "                    model=[model_exp3, model_exp10],\n",
    "                    errors=[result_exp3.errors, result_exp10.errors],\n",
    "                    model_label=[\"EXP(3)\", \"EXP10\"],\n",
    "                    color=\"k\")\n",
    "    \n",
    "    #plt.savefig('EXP_x_EXP10_SN'+str(i)+'.pdf')\n",
    "    \n",
    "i = widgets.Dropdown(options=optionslist, value=0, description='Component:', disabled=False)\n",
    "widgets.interactive(update_graph,i = i)"
   ]
  },
  {
   "cell_type": "markdown",
   "id": "d804a674",
   "metadata": {},
   "source": [
    "### SALT2 x EXP(3) with LC (x0, x1, x2, c)"
   ]
  },
  {
   "cell_type": "code",
   "execution_count": 34,
   "id": "1cc9cbf2",
   "metadata": {},
   "outputs": [
    {
     "data": {
      "application/vnd.jupyter.widget-view+json": {
       "model_id": "5501f81451444c5f916a8aad5367984b",
       "version_major": 2,
       "version_minor": 0
      },
      "text/plain": [
       "interactive(children=(Dropdown(description='Component:', options=(0, 1, 2, 3, 4, 5, 6, 7, 8, 9, 10, 11, 12, 13…"
      ]
     },
     "metadata": {},
     "output_type": "display_data"
    }
   ],
   "source": [
    "def update_graph(i):\n",
    "    \n",
    "    exp = EXP_LC(gridx, gridy, M0_reshape, M1_reshape, M2_reshape, M3_reshape, M4_reshape, M5_reshape, M6_reshape, M7_reshape, M8_reshape, M9_reshape, c, name='EXP')\n",
    "    model = sncosmo.Model(source=exp)\n",
    "\n",
    "    model.set(z=0.,\n",
    "              t0=0,\n",
    "              x3=0,\n",
    "              x4=0,\n",
    "              x5=0,\n",
    "              x6=0,\n",
    "              x7=0,\n",
    "              x8=0,\n",
    "              x9=0)\n",
    "    \n",
    "    result_exp, model_exp = sncosmo.fit_lc(PHOTOMETRY_DATASET_TEST[i], model, ['x0', 'x1', 'x2', 'c'], modelcov=False)  # bounds on parameters (if any)\n",
    "    print(\"chi^2 minimum/dof (EXP): \", result_exp.chisq/result_exp.ndof)\n",
    "    model_salt2, result_salt2 = salt2_fit(PHOTOMETRY_DATASET_TEST[i]);\n",
    "    #print(result_salt2)\n",
    "    sncosmo.plot_lc(PHOTOMETRY_DATASET_TEST[i],\n",
    "                    model=[model_salt2, model_exp],\n",
    "                    errors=[result_salt2.errors, result_exp.errors],\n",
    "                    model_label=[\"SALT2\", \"EXP\"],\n",
    "                    color=\"k\")\n",
    "    #plt.savefig('SALT2_x_EXP_SN'+str(i)+'.pdf')\n",
    "    \n",
    "i = widgets.Dropdown(options=optionslist, value=0, description='Component:', disabled=False)\n",
    "widgets.interactive(update_graph,i = i)"
   ]
  },
  {
   "cell_type": "code",
   "execution_count": 35,
   "id": "2d62ab17",
   "metadata": {},
   "outputs": [],
   "source": [
    "def free_parameters(ii):\n",
    "    \"\"\"\n",
    "    i:SN train index\n",
    "    \"\"\"\n",
    "    \n",
    "    exp = EXP_LC(gridx, gridy, M0_reshape, M1_reshape, M2_reshape, M3_reshape, M4_reshape, M5_reshape, M6_reshape, M7_reshape, M8_reshape, M9_reshape, c, name='EXP')\n",
    "    model = sncosmo.Model(source=exp)\n",
    "\n",
    "    model.set(z=0.,\n",
    "              t0=0,\n",
    "              x3=0,\n",
    "              x4=0,\n",
    "              x5=0,\n",
    "              x6=0,\n",
    "              x7=0,\n",
    "              x8=0,\n",
    "              x9=0)\n",
    "    \n",
    "    result_exp, model_exp = sncosmo.fit_lc(PHOTOMETRY_DATASET_TEST[i], model, ['x0', 'x1', 'x2'], modelcov=False)\n",
    "    model_salt2, result_salt2 = salt2_fit(PHOTOMETRY_DATASET_TEST[i]);\n",
    "    \n",
    "    return result_exp.parameters[2], result_exp.parameters[3], result_exp.parameters[4], result_salt2.parameters[2], result_salt2.parameters[3], result_salt2.parameters[4]"
   ]
  },
  {
   "cell_type": "code",
   "execution_count": 36,
   "id": "5233af4d",
   "metadata": {
    "scrolled": true
   },
   "outputs": [
    {
     "ename": "KeyboardInterrupt",
     "evalue": "",
     "output_type": "error",
     "traceback": [
      "\u001b[0;31m---------------------------------------------------------------------------\u001b[0m",
      "\u001b[0;31mKeyboardInterrupt\u001b[0m                         Traceback (most recent call last)",
      "\u001b[0;32m<ipython-input-36-eeb3c1af1361>\u001b[0m in \u001b[0;36m<module>\u001b[0;34m\u001b[0m\n\u001b[1;32m      1\u001b[0m \u001b[0mdf\u001b[0m \u001b[0;34m=\u001b[0m \u001b[0mpd\u001b[0m\u001b[0;34m.\u001b[0m\u001b[0mDataFrame\u001b[0m\u001b[0;34m(\u001b[0m\u001b[0mdata\u001b[0m\u001b[0;34m=\u001b[0m\u001b[0mnp\u001b[0m\u001b[0;34m.\u001b[0m\u001b[0mzeros\u001b[0m\u001b[0;34m(\u001b[0m\u001b[0mshape\u001b[0m\u001b[0;34m=\u001b[0m\u001b[0;34m(\u001b[0m\u001b[0mlen\u001b[0m\u001b[0;34m(\u001b[0m\u001b[0mPHOTOMETRY_DATASET_TEST\u001b[0m\u001b[0;34m)\u001b[0m\u001b[0;34m,\u001b[0m \u001b[0;36m6\u001b[0m\u001b[0;34m)\u001b[0m\u001b[0;34m)\u001b[0m\u001b[0;34m,\u001b[0m \u001b[0mcolumns\u001b[0m\u001b[0;34m=\u001b[0m\u001b[0;34m[\u001b[0m\u001b[0;34m\"x0_exp\"\u001b[0m\u001b[0;34m,\u001b[0m \u001b[0;34m\"x1_exp\"\u001b[0m\u001b[0;34m,\u001b[0m \u001b[0;34m\"x2_exp\"\u001b[0m\u001b[0;34m,\u001b[0m \u001b[0;34m\"x0_salt2\"\u001b[0m\u001b[0;34m,\u001b[0m \u001b[0;34m\"x1_salt2\"\u001b[0m\u001b[0;34m,\u001b[0m \u001b[0;34m\"c_salt2\"\u001b[0m\u001b[0;34m]\u001b[0m\u001b[0;34m)\u001b[0m\u001b[0;34m\u001b[0m\u001b[0;34m\u001b[0m\u001b[0m\n\u001b[1;32m      2\u001b[0m \u001b[0;32mfor\u001b[0m \u001b[0mi\u001b[0m \u001b[0;32min\u001b[0m \u001b[0mrange\u001b[0m\u001b[0;34m(\u001b[0m\u001b[0;36m0\u001b[0m\u001b[0;34m,\u001b[0m \u001b[0mlen\u001b[0m\u001b[0;34m(\u001b[0m\u001b[0mPHOTOMETRY_DATASET_TEST\u001b[0m\u001b[0;34m)\u001b[0m\u001b[0;34m)\u001b[0m\u001b[0;34m:\u001b[0m\u001b[0;34m\u001b[0m\u001b[0;34m\u001b[0m\u001b[0m\n\u001b[0;32m----> 3\u001b[0;31m     \u001b[0mx0_exp\u001b[0m\u001b[0;34m,\u001b[0m \u001b[0mx1_exp\u001b[0m\u001b[0;34m,\u001b[0m \u001b[0mx2_exp\u001b[0m\u001b[0;34m,\u001b[0m \u001b[0mx0_salt2\u001b[0m\u001b[0;34m,\u001b[0m \u001b[0mx1_salt2\u001b[0m\u001b[0;34m,\u001b[0m \u001b[0mc_salt2\u001b[0m \u001b[0;34m=\u001b[0m \u001b[0mfree_parameters\u001b[0m\u001b[0;34m(\u001b[0m\u001b[0mi\u001b[0m\u001b[0;34m)\u001b[0m\u001b[0;34m\u001b[0m\u001b[0;34m\u001b[0m\u001b[0m\n\u001b[0m\u001b[1;32m      4\u001b[0m     \u001b[0mdf\u001b[0m\u001b[0;34m[\u001b[0m\u001b[0;34m\"x0_exp\"\u001b[0m\u001b[0;34m]\u001b[0m\u001b[0;34m[\u001b[0m\u001b[0mi\u001b[0m\u001b[0;34m]\u001b[0m \u001b[0;34m=\u001b[0m \u001b[0;34m-\u001b[0m\u001b[0;36m2.5\u001b[0m\u001b[0;34m*\u001b[0m\u001b[0mnp\u001b[0m\u001b[0;34m.\u001b[0m\u001b[0mlog10\u001b[0m\u001b[0;34m(\u001b[0m\u001b[0mx0_exp\u001b[0m\u001b[0;34m)\u001b[0m\u001b[0;34m\u001b[0m\u001b[0;34m\u001b[0m\u001b[0m\n\u001b[1;32m      5\u001b[0m     \u001b[0mdf\u001b[0m\u001b[0;34m[\u001b[0m\u001b[0;34m\"x1_exp\"\u001b[0m\u001b[0;34m]\u001b[0m\u001b[0;34m[\u001b[0m\u001b[0mi\u001b[0m\u001b[0;34m]\u001b[0m \u001b[0;34m=\u001b[0m \u001b[0mx1_exp\u001b[0m\u001b[0;34m\u001b[0m\u001b[0;34m\u001b[0m\u001b[0m\n",
      "\u001b[0;32m<ipython-input-35-bd1cfc79d7ea>\u001b[0m in \u001b[0;36mfree_parameters\u001b[0;34m(ii)\u001b[0m\n\u001b[1;32m     17\u001b[0m               x9=0)\n\u001b[1;32m     18\u001b[0m \u001b[0;34m\u001b[0m\u001b[0m\n\u001b[0;32m---> 19\u001b[0;31m     \u001b[0mresult_exp\u001b[0m\u001b[0;34m,\u001b[0m \u001b[0mmodel_exp\u001b[0m \u001b[0;34m=\u001b[0m \u001b[0msncosmo\u001b[0m\u001b[0;34m.\u001b[0m\u001b[0mfit_lc\u001b[0m\u001b[0;34m(\u001b[0m\u001b[0mPHOTOMETRY_DATASET_TEST\u001b[0m\u001b[0;34m[\u001b[0m\u001b[0mi\u001b[0m\u001b[0;34m]\u001b[0m\u001b[0;34m,\u001b[0m \u001b[0mmodel\u001b[0m\u001b[0;34m,\u001b[0m \u001b[0;34m[\u001b[0m\u001b[0;34m'x0'\u001b[0m\u001b[0;34m,\u001b[0m \u001b[0;34m'x1'\u001b[0m\u001b[0;34m,\u001b[0m \u001b[0;34m'x2'\u001b[0m\u001b[0;34m]\u001b[0m\u001b[0;34m,\u001b[0m \u001b[0mmodelcov\u001b[0m\u001b[0;34m=\u001b[0m\u001b[0;32mFalse\u001b[0m\u001b[0;34m)\u001b[0m\u001b[0;34m\u001b[0m\u001b[0;34m\u001b[0m\u001b[0m\n\u001b[0m\u001b[1;32m     20\u001b[0m     \u001b[0mmodel_salt2\u001b[0m\u001b[0;34m,\u001b[0m \u001b[0mresult_salt2\u001b[0m \u001b[0;34m=\u001b[0m \u001b[0msalt2_fit\u001b[0m\u001b[0;34m(\u001b[0m\u001b[0mPHOTOMETRY_DATASET_TEST\u001b[0m\u001b[0;34m[\u001b[0m\u001b[0mi\u001b[0m\u001b[0;34m]\u001b[0m\u001b[0;34m)\u001b[0m\u001b[0;34m;\u001b[0m\u001b[0;34m\u001b[0m\u001b[0;34m\u001b[0m\u001b[0m\n\u001b[1;32m     21\u001b[0m \u001b[0;34m\u001b[0m\u001b[0m\n",
      "\u001b[0;32m~/.local/lib/python3.8/site-packages/sncosmo/fitting.py\u001b[0m in \u001b[0;36mfit_lc\u001b[0;34m(data, model, vparam_names, bounds, spectra, method, guess_amplitude, guess_t0, guess_z, minsnr, modelcov, verbose, maxcall, phase_range, wave_range, warn)\u001b[0m\n\u001b[1;32m    730\u001b[0m                                   modelcov=False)\n\u001b[1;32m    731\u001b[0m \u001b[0;34m\u001b[0m\u001b[0m\n\u001b[0;32m--> 732\u001b[0;31m         m, fmin = _run_iminuit(fitchisq, model.param_names, start_values,\n\u001b[0m\u001b[1;32m    733\u001b[0m                                \u001b[0mstart_errors\u001b[0m\u001b[0;34m,\u001b[0m \u001b[0mbounds\u001b[0m\u001b[0;34m,\u001b[0m \u001b[0mfixed_parameters\u001b[0m\u001b[0;34m,\u001b[0m \u001b[0mmaxcall\u001b[0m\u001b[0;34m,\u001b[0m\u001b[0;34m\u001b[0m\u001b[0;34m\u001b[0m\u001b[0m\n\u001b[1;32m    734\u001b[0m                                verbose)\n",
      "\u001b[0;32m~/.local/lib/python3.8/site-packages/sncosmo/fitting.py\u001b[0m in \u001b[0;36m_run_iminuit\u001b[0;34m(chisq, parameter_names, start_values, start_errors, bounds, fixed_parameters, maxcall, verbose)\u001b[0m\n\u001b[1;32m    424\u001b[0m             \u001b[0mm\u001b[0m\u001b[0;34m.\u001b[0m\u001b[0merrors\u001b[0m\u001b[0;34m[\u001b[0m\u001b[0mkey\u001b[0m\u001b[0;34m]\u001b[0m \u001b[0;34m=\u001b[0m \u001b[0;36m0.\u001b[0m\u001b[0;34m\u001b[0m\u001b[0;34m\u001b[0m\u001b[0m\n\u001b[1;32m    425\u001b[0m \u001b[0;34m\u001b[0m\u001b[0m\n\u001b[0;32m--> 426\u001b[0;31m         \u001b[0mm\u001b[0m\u001b[0;34m.\u001b[0m\u001b[0mmigrad\u001b[0m\u001b[0;34m(\u001b[0m\u001b[0mncall\u001b[0m\u001b[0;34m=\u001b[0m\u001b[0mmaxcall\u001b[0m\u001b[0;34m)\u001b[0m\u001b[0;34m\u001b[0m\u001b[0;34m\u001b[0m\u001b[0m\n\u001b[0m\u001b[1;32m    427\u001b[0m         \u001b[0mfmin\u001b[0m \u001b[0;34m=\u001b[0m \u001b[0mm\u001b[0m\u001b[0;34m.\u001b[0m\u001b[0mfmin\u001b[0m\u001b[0;34m\u001b[0m\u001b[0;34m\u001b[0m\u001b[0m\n\u001b[1;32m    428\u001b[0m     \u001b[0;32melse\u001b[0m\u001b[0;34m:\u001b[0m\u001b[0;34m\u001b[0m\u001b[0;34m\u001b[0m\u001b[0m\n",
      "\u001b[0;32m~/.local/lib/python3.8/site-packages/iminuit/minuit.py\u001b[0m in \u001b[0;36mmigrad\u001b[0;34m(self, ncall, iterate)\u001b[0m\n\u001b[1;32m    650\u001b[0m             \u001b[0;32mif\u001b[0m \u001b[0mself\u001b[0m\u001b[0;34m.\u001b[0m\u001b[0m_precision\u001b[0m \u001b[0;32mis\u001b[0m \u001b[0;32mnot\u001b[0m \u001b[0;32mNone\u001b[0m\u001b[0;34m:\u001b[0m\u001b[0;34m\u001b[0m\u001b[0;34m\u001b[0m\u001b[0m\n\u001b[1;32m    651\u001b[0m                 \u001b[0mmigrad\u001b[0m\u001b[0;34m.\u001b[0m\u001b[0mprecision\u001b[0m \u001b[0;34m=\u001b[0m \u001b[0mself\u001b[0m\u001b[0;34m.\u001b[0m\u001b[0m_precision\u001b[0m\u001b[0;34m\u001b[0m\u001b[0;34m\u001b[0m\u001b[0m\n\u001b[0;32m--> 652\u001b[0;31m             \u001b[0mfm\u001b[0m \u001b[0;34m=\u001b[0m \u001b[0mmigrad\u001b[0m\u001b[0;34m(\u001b[0m\u001b[0mncall\u001b[0m\u001b[0;34m,\u001b[0m \u001b[0mself\u001b[0m\u001b[0;34m.\u001b[0m\u001b[0m_tolerance\u001b[0m\u001b[0;34m)\u001b[0m\u001b[0;34m\u001b[0m\u001b[0;34m\u001b[0m\u001b[0m\n\u001b[0m\u001b[1;32m    653\u001b[0m             \u001b[0;32mif\u001b[0m \u001b[0mfm\u001b[0m\u001b[0;34m.\u001b[0m\u001b[0mis_valid\u001b[0m \u001b[0;32mor\u001b[0m \u001b[0mfm\u001b[0m\u001b[0;34m.\u001b[0m\u001b[0mhas_reached_call_limit\u001b[0m\u001b[0;34m:\u001b[0m\u001b[0;34m\u001b[0m\u001b[0;34m\u001b[0m\u001b[0m\n\u001b[1;32m    654\u001b[0m                 \u001b[0;32mbreak\u001b[0m\u001b[0;34m\u001b[0m\u001b[0;34m\u001b[0m\u001b[0m\n",
      "\u001b[0;32m~/.local/lib/python3.8/site-packages/sncosmo/fitting.py\u001b[0m in \u001b[0;36mchisq\u001b[0;34m(*parameters)\u001b[0m\n\u001b[1;32m     56\u001b[0m \u001b[0;34m\u001b[0m\u001b[0m\n\u001b[1;32m     57\u001b[0m             \u001b[0;32mif\u001b[0m \u001b[0mdata\u001b[0m \u001b[0;32mis\u001b[0m \u001b[0;32mnot\u001b[0m \u001b[0;32mNone\u001b[0m\u001b[0;34m:\u001b[0m\u001b[0;34m\u001b[0m\u001b[0;34m\u001b[0m\u001b[0m\n\u001b[0;32m---> 58\u001b[0;31m                 model_flux = model.bandflux(data.band, data.time,\n\u001b[0m\u001b[1;32m     59\u001b[0m                                             zp=data.zp, zpsys=data.zpsys)\n\u001b[1;32m     60\u001b[0m                 \u001b[0mdiff\u001b[0m \u001b[0;34m=\u001b[0m \u001b[0mdata\u001b[0m\u001b[0;34m.\u001b[0m\u001b[0mflux\u001b[0m \u001b[0;34m-\u001b[0m \u001b[0mmodel_flux\u001b[0m\u001b[0;34m\u001b[0m\u001b[0;34m\u001b[0m\u001b[0m\n",
      "\u001b[0;32m~/.local/lib/python3.8/site-packages/sncosmo/models.py\u001b[0m in \u001b[0;36mbandflux\u001b[0;34m(self, band, time, zp, zpsys)\u001b[0m\n\u001b[1;32m   1505\u001b[0m \u001b[0;34m\u001b[0m\u001b[0m\n\u001b[1;32m   1506\u001b[0m         \u001b[0;32mtry\u001b[0m\u001b[0;34m:\u001b[0m\u001b[0;34m\u001b[0m\u001b[0;34m\u001b[0m\u001b[0m\n\u001b[0;32m-> 1507\u001b[0;31m             \u001b[0;32mreturn\u001b[0m \u001b[0m_bandflux\u001b[0m\u001b[0;34m(\u001b[0m\u001b[0mself\u001b[0m\u001b[0;34m,\u001b[0m \u001b[0mband\u001b[0m\u001b[0;34m,\u001b[0m \u001b[0mtime\u001b[0m\u001b[0;34m,\u001b[0m \u001b[0mzp\u001b[0m\u001b[0;34m,\u001b[0m \u001b[0mzpsys\u001b[0m\u001b[0;34m)\u001b[0m\u001b[0;34m\u001b[0m\u001b[0;34m\u001b[0m\u001b[0m\n\u001b[0m\u001b[1;32m   1508\u001b[0m         \u001b[0;32mexcept\u001b[0m \u001b[0mValueError\u001b[0m \u001b[0;32mas\u001b[0m \u001b[0me\u001b[0m\u001b[0;34m:\u001b[0m\u001b[0;34m\u001b[0m\u001b[0;34m\u001b[0m\u001b[0m\n\u001b[1;32m   1509\u001b[0m             \u001b[0m_check_for_fitpack_error\u001b[0m\u001b[0;34m(\u001b[0m\u001b[0me\u001b[0m\u001b[0;34m,\u001b[0m \u001b[0mtime\u001b[0m\u001b[0;34m,\u001b[0m \u001b[0;34m'time'\u001b[0m\u001b[0;34m)\u001b[0m\u001b[0;34m\u001b[0m\u001b[0;34m\u001b[0m\u001b[0m\n",
      "\u001b[0;32m~/.local/lib/python3.8/site-packages/sncosmo/models.py\u001b[0m in \u001b[0;36m_bandflux\u001b[0;34m(model, band, time_or_phase, zp, zpsys)\u001b[0m\n\u001b[1;32m    152\u001b[0m         \u001b[0mb\u001b[0m \u001b[0;34m=\u001b[0m \u001b[0mget_bandpass\u001b[0m\u001b[0;34m(\u001b[0m\u001b[0mb\u001b[0m\u001b[0;34m)\u001b[0m\u001b[0;34m\u001b[0m\u001b[0;34m\u001b[0m\u001b[0m\n\u001b[1;32m    153\u001b[0m \u001b[0;34m\u001b[0m\u001b[0m\n\u001b[0;32m--> 154\u001b[0;31m         \u001b[0mfsum\u001b[0m \u001b[0;34m=\u001b[0m \u001b[0m_bandflux_single\u001b[0m\u001b[0;34m(\u001b[0m\u001b[0mmodel\u001b[0m\u001b[0;34m,\u001b[0m \u001b[0mb\u001b[0m\u001b[0;34m,\u001b[0m \u001b[0mtime_or_phase\u001b[0m\u001b[0;34m[\u001b[0m\u001b[0mmask\u001b[0m\u001b[0;34m]\u001b[0m\u001b[0;34m)\u001b[0m\u001b[0;34m\u001b[0m\u001b[0;34m\u001b[0m\u001b[0m\n\u001b[0m\u001b[1;32m    155\u001b[0m \u001b[0;34m\u001b[0m\u001b[0m\n\u001b[1;32m    156\u001b[0m         \u001b[0;32mif\u001b[0m \u001b[0mzp\u001b[0m \u001b[0;32mis\u001b[0m \u001b[0;32mnot\u001b[0m \u001b[0;32mNone\u001b[0m\u001b[0;34m:\u001b[0m\u001b[0;34m\u001b[0m\u001b[0;34m\u001b[0m\u001b[0m\n",
      "\u001b[0;32m~/.local/lib/python3.8/site-packages/sncosmo/models.py\u001b[0m in \u001b[0;36m_bandflux_single\u001b[0;34m(model, band, time_or_phase)\u001b[0m\n\u001b[1;32m    114\u001b[0m                                    MODEL_BANDFLUX_SPACING)\n\u001b[1;32m    115\u001b[0m     \u001b[0mtrans\u001b[0m \u001b[0;34m=\u001b[0m \u001b[0mband\u001b[0m\u001b[0;34m(\u001b[0m\u001b[0mwave\u001b[0m\u001b[0;34m)\u001b[0m\u001b[0;34m\u001b[0m\u001b[0;34m\u001b[0m\u001b[0m\n\u001b[0;32m--> 116\u001b[0;31m     \u001b[0mf\u001b[0m \u001b[0;34m=\u001b[0m \u001b[0mmodel\u001b[0m\u001b[0;34m.\u001b[0m\u001b[0m_flux\u001b[0m\u001b[0;34m(\u001b[0m\u001b[0mtime_or_phase\u001b[0m\u001b[0;34m,\u001b[0m \u001b[0mwave\u001b[0m\u001b[0;34m)\u001b[0m\u001b[0;34m\u001b[0m\u001b[0;34m\u001b[0m\u001b[0m\n\u001b[0m\u001b[1;32m    117\u001b[0m \u001b[0;34m\u001b[0m\u001b[0m\n\u001b[1;32m    118\u001b[0m     \u001b[0;32mreturn\u001b[0m \u001b[0mnp\u001b[0m\u001b[0;34m.\u001b[0m\u001b[0msum\u001b[0m\u001b[0;34m(\u001b[0m\u001b[0mwave\u001b[0m \u001b[0;34m*\u001b[0m \u001b[0mtrans\u001b[0m \u001b[0;34m*\u001b[0m \u001b[0mf\u001b[0m\u001b[0;34m,\u001b[0m \u001b[0maxis\u001b[0m\u001b[0;34m=\u001b[0m\u001b[0;36m1\u001b[0m\u001b[0;34m)\u001b[0m \u001b[0;34m*\u001b[0m \u001b[0mdwave\u001b[0m \u001b[0;34m/\u001b[0m \u001b[0mHC_ERG_AA\u001b[0m\u001b[0;34m\u001b[0m\u001b[0;34m\u001b[0m\u001b[0m\n",
      "\u001b[0;32m~/.local/lib/python3.8/site-packages/sncosmo/models.py\u001b[0m in \u001b[0;36m_flux\u001b[0;34m(self, time, wave)\u001b[0m\n\u001b[1;32m   1380\u001b[0m         \u001b[0;31m# Note that below we multiply by the scale factor to conserve\u001b[0m\u001b[0;34m\u001b[0m\u001b[0;34m\u001b[0m\u001b[0;34m\u001b[0m\u001b[0m\n\u001b[1;32m   1381\u001b[0m         \u001b[0;31m# bolometric luminosity.\u001b[0m\u001b[0;34m\u001b[0m\u001b[0;34m\u001b[0m\u001b[0;34m\u001b[0m\u001b[0m\n\u001b[0;32m-> 1382\u001b[0;31m         \u001b[0mf\u001b[0m \u001b[0;34m=\u001b[0m \u001b[0ma\u001b[0m \u001b[0;34m*\u001b[0m \u001b[0mself\u001b[0m\u001b[0;34m.\u001b[0m\u001b[0m_source\u001b[0m\u001b[0;34m.\u001b[0m\u001b[0m_flux\u001b[0m\u001b[0;34m(\u001b[0m\u001b[0mphase\u001b[0m\u001b[0;34m,\u001b[0m \u001b[0mrestwave\u001b[0m\u001b[0;34m)\u001b[0m\u001b[0;34m\u001b[0m\u001b[0;34m\u001b[0m\u001b[0m\n\u001b[0m\u001b[1;32m   1383\u001b[0m \u001b[0;34m\u001b[0m\u001b[0m\n\u001b[1;32m   1384\u001b[0m         \u001b[0;31m# Pass the flux through the PropagationEffects.\u001b[0m\u001b[0;34m\u001b[0m\u001b[0;34m\u001b[0m\u001b[0;34m\u001b[0m\u001b[0m\n",
      "\u001b[0;32m<ipython-input-27-28d92ad60784>\u001b[0m in \u001b[0;36m_flux\u001b[0;34m(self, phase, wave)\u001b[0m\n\u001b[1;32m     35\u001b[0m         \u001b[0mx0\u001b[0m\u001b[0;34m,\u001b[0m \u001b[0mx1\u001b[0m\u001b[0;34m,\u001b[0m \u001b[0mx2\u001b[0m\u001b[0;34m,\u001b[0m \u001b[0mx3\u001b[0m\u001b[0;34m,\u001b[0m \u001b[0mx4\u001b[0m\u001b[0;34m,\u001b[0m \u001b[0mx5\u001b[0m\u001b[0;34m,\u001b[0m \u001b[0mx6\u001b[0m\u001b[0;34m,\u001b[0m \u001b[0mx7\u001b[0m\u001b[0;34m,\u001b[0m \u001b[0mx8\u001b[0m\u001b[0;34m,\u001b[0m \u001b[0mx9\u001b[0m\u001b[0;34m,\u001b[0m \u001b[0mc\u001b[0m \u001b[0;34m=\u001b[0m \u001b[0mself\u001b[0m\u001b[0;34m.\u001b[0m\u001b[0m_parameters\u001b[0m\u001b[0;34m\u001b[0m\u001b[0;34m\u001b[0m\u001b[0m\n\u001b[1;32m     36\u001b[0m         \u001b[0;31m#print('flux!')\u001b[0m\u001b[0;34m\u001b[0m\u001b[0;34m\u001b[0m\u001b[0;34m\u001b[0m\u001b[0m\n\u001b[0;32m---> 37\u001b[0;31m         \u001b[0;32mreturn\u001b[0m \u001b[0mx0\u001b[0m \u001b[0;34m*\u001b[0m \u001b[0;34m(\u001b[0m\u001b[0mself\u001b[0m\u001b[0;34m.\u001b[0m\u001b[0m_model_flux0\u001b[0m\u001b[0;34m(\u001b[0m\u001b[0mphase\u001b[0m\u001b[0;34m,\u001b[0m \u001b[0mwave\u001b[0m\u001b[0;34m)\u001b[0m \u001b[0;34m+\u001b[0m  \u001b[0mx1\u001b[0m \u001b[0;34m*\u001b[0m \u001b[0mself\u001b[0m\u001b[0;34m.\u001b[0m\u001b[0m_model_flux1\u001b[0m\u001b[0;34m(\u001b[0m\u001b[0mphase\u001b[0m\u001b[0;34m,\u001b[0m \u001b[0mwave\u001b[0m\u001b[0;34m)\u001b[0m \u001b[0;34m+\u001b[0m  \u001b[0mx2\u001b[0m \u001b[0;34m*\u001b[0m \u001b[0mself\u001b[0m\u001b[0;34m.\u001b[0m\u001b[0m_model_flux2\u001b[0m\u001b[0;34m(\u001b[0m\u001b[0mphase\u001b[0m\u001b[0;34m,\u001b[0m \u001b[0mwave\u001b[0m\u001b[0;34m)\u001b[0m \u001b[0;34m+\u001b[0m  \u001b[0mx3\u001b[0m \u001b[0;34m*\u001b[0m \u001b[0mself\u001b[0m\u001b[0;34m.\u001b[0m\u001b[0m_model_flux3\u001b[0m\u001b[0;34m(\u001b[0m\u001b[0mphase\u001b[0m\u001b[0;34m,\u001b[0m \u001b[0mwave\u001b[0m\u001b[0;34m)\u001b[0m \u001b[0;34m+\u001b[0m  \u001b[0mx4\u001b[0m \u001b[0;34m*\u001b[0m \u001b[0mself\u001b[0m\u001b[0;34m.\u001b[0m\u001b[0m_model_flux4\u001b[0m\u001b[0;34m(\u001b[0m\u001b[0mphase\u001b[0m\u001b[0;34m,\u001b[0m \u001b[0mwave\u001b[0m\u001b[0;34m)\u001b[0m  \u001b[0;34m+\u001b[0m  \u001b[0mx5\u001b[0m \u001b[0;34m*\u001b[0m \u001b[0mself\u001b[0m\u001b[0;34m.\u001b[0m\u001b[0m_model_flux5\u001b[0m\u001b[0;34m(\u001b[0m\u001b[0mphase\u001b[0m\u001b[0;34m,\u001b[0m \u001b[0mwave\u001b[0m\u001b[0;34m)\u001b[0m \u001b[0;34m+\u001b[0m  \u001b[0mx6\u001b[0m \u001b[0;34m*\u001b[0m \u001b[0mself\u001b[0m\u001b[0;34m.\u001b[0m\u001b[0m_model_flux6\u001b[0m\u001b[0;34m(\u001b[0m\u001b[0mphase\u001b[0m\u001b[0;34m,\u001b[0m \u001b[0mwave\u001b[0m\u001b[0;34m)\u001b[0m \u001b[0;34m+\u001b[0m  \u001b[0mx7\u001b[0m \u001b[0;34m*\u001b[0m \u001b[0mself\u001b[0m\u001b[0;34m.\u001b[0m\u001b[0m_model_flux7\u001b[0m\u001b[0;34m(\u001b[0m\u001b[0mphase\u001b[0m\u001b[0;34m,\u001b[0m \u001b[0mwave\u001b[0m\u001b[0;34m)\u001b[0m \u001b[0;34m+\u001b[0m  \u001b[0mx8\u001b[0m \u001b[0;34m*\u001b[0m \u001b[0mself\u001b[0m\u001b[0;34m.\u001b[0m\u001b[0m_model_flux8\u001b[0m\u001b[0;34m(\u001b[0m\u001b[0mphase\u001b[0m\u001b[0;34m,\u001b[0m \u001b[0mwave\u001b[0m\u001b[0;34m)\u001b[0m \u001b[0;34m+\u001b[0m  \u001b[0mx9\u001b[0m \u001b[0;34m*\u001b[0m \u001b[0mself\u001b[0m\u001b[0;34m.\u001b[0m\u001b[0m_model_flux9\u001b[0m\u001b[0;34m(\u001b[0m\u001b[0mphase\u001b[0m\u001b[0;34m,\u001b[0m \u001b[0mwave\u001b[0m\u001b[0;34m)\u001b[0m\u001b[0;34m)\u001b[0m\u001b[0;34m*\u001b[0m \u001b[0;36m10.\u001b[0m\u001b[0;34m**\u001b[0m \u001b[0;34m(\u001b[0m\u001b[0;34m-\u001b[0m\u001b[0;36m0.4\u001b[0m \u001b[0;34m*\u001b[0m \u001b[0mself\u001b[0m\u001b[0;34m.\u001b[0m\u001b[0m_model_ext\u001b[0m\u001b[0;34m(\u001b[0m\u001b[0mwave\u001b[0m\u001b[0;34m)\u001b[0m \u001b[0;34m*\u001b[0m \u001b[0mc\u001b[0m\u001b[0;34m)\u001b[0m\u001b[0;34m\u001b[0m\u001b[0;34m\u001b[0m\u001b[0m\n\u001b[0m",
      "\u001b[0;31mKeyboardInterrupt\u001b[0m: "
     ]
    }
   ],
   "source": [
    "df = pd.DataFrame(data=np.zeros(shape=(len(PHOTOMETRY_DATASET_TEST), 6)), columns=[\"x0_exp\", \"x1_exp\", \"x2_exp\", \"x0_salt2\", \"x1_salt2\", \"c_salt2\"])\n",
    "for i in range(0, len(PHOTOMETRY_DATASET_TEST)):\n",
    "    x0_exp, x1_exp, x2_exp, x0_salt2, x1_salt2, c_salt2 = free_parameters(i)\n",
    "    df[\"x0_exp\"][i] = -2.5*np.log10(x0_exp)\n",
    "    df[\"x1_exp\"][i] = x1_exp\n",
    "    df[\"x2_exp\"][i] = x2_exp\n",
    "    df[\"x0_salt2\"][i] = -2.5*np.log10(x0_salt2)\n",
    "    df[\"x1_salt2\"][i] = x1_salt2\n",
    "    df[\"c_salt2\"][i] = c_salt2\n",
    "\n",
    "df.head()"
   ]
  },
  {
   "cell_type": "code",
   "execution_count": null,
   "id": "65d7e7d8",
   "metadata": {},
   "outputs": [],
   "source": [
    "salt2_param_names = {\n",
    "    0:\"x0_salt2\",\n",
    "    1:\"x1_salt2\",\n",
    "    2:\"c_salt2\"\n",
    "}\n",
    "\n",
    "salt2_param_latex = {\n",
    "    0:\"$x_0$\",\n",
    "    1:\"$x_1$\",\n",
    "    2:\"$c$\"\n",
    "}\n",
    "\n",
    "exp_param_names = {\n",
    "    0:\"x0_exp\",\n",
    "    1:\"x1_exp\",\n",
    "    2:\"x2_exp\"\n",
    "}\n",
    "\n",
    "exp_param_latex = {\n",
    "    0:\"$x_0$\",\n",
    "    1:\"$x_1$\",\n",
    "    2:\"$x_2$\"\n",
    "}"
   ]
  },
  {
   "cell_type": "code",
   "execution_count": null,
   "id": "4d355973",
   "metadata": {},
   "outputs": [],
   "source": [
    "fig, ax = plt.subplots(ncols=3, nrows=3, figsize=(10,10))\n",
    "for i in range(3):\n",
    "    for j in range(3):\n",
    "        ax[i, j].plot(df[exp_param_names[i]], df[salt2_param_names[j]], 'k.', label=str(round(np.corrcoef(df[salt2_param_names[i]], df[exp_param_names[j]])[0][1]*100, 1)))\n",
    "        ax[i, j].annotate(\"ρ = \"+str(round(np.corrcoef(df[exp_param_names[i]], df[salt2_param_names[j]])[0][1]*100, 1)), xy=(0.9, .2), xycoords='axes fraction',\n",
    "                          size=14, ha='right', va='top',\n",
    "                          bbox=dict(boxstyle='round', fc='w'))\n",
    "        if j == 0:\n",
    "            ax[i, j].set_ylabel(exp_param_latex[i])\n",
    "        if i == 2:\n",
    "            ax[i, j].set_xlabel(salt2_param_latex[j])"
   ]
  },
  {
   "cell_type": "markdown",
   "id": "714434fb",
   "metadata": {},
   "source": [
    "## SALT2 x SNEMO2 (with c=0)"
   ]
  },
  {
   "cell_type": "code",
   "execution_count": null,
   "id": "9d269a20",
   "metadata": {},
   "outputs": [],
   "source": [
    "#SNEMO2 = pd.read_csv(\"/home/joao/Documents/Research/SNFACTORY_SNTRAIN/Templates/snemo2/snemo2_ev.dat\",\n",
    "SNEMO2 = pd.read_csv(\"./Templates/snemo2/snemo2_ev.dat\",\n",
    "                       sep=\"\\s+\",\n",
    "                       names=[\"time\", \"wave\", \"M0\", \"M1\"])\n",
    "SNEMO2.head()"
   ]
  },
  {
   "cell_type": "code",
   "execution_count": null,
   "id": "952e11e5",
   "metadata": {},
   "outputs": [],
   "source": [
    "SNEMO2[\"time\"].unique()"
   ]
  },
  {
   "cell_type": "code",
   "execution_count": null,
   "id": "bc897e9e",
   "metadata": {},
   "outputs": [],
   "source": [
    "gridx_SNEMO = SNEMO2[\"time\"].unique()\n",
    "gridy_SNEMO= SNEMO2[\"wave\"].unique()\n",
    "\n",
    "M0_SNEMO2_reshape = np.array(SNEMO2[\"M0\"]).reshape(len(SNEMO2[\"time\"].unique()), len(SNEMO2[\"wave\"].unique()))\n",
    "M1_SNEMO2_reshape = np.array(SNEMO2[\"M1\"]).reshape(len(SNEMO2[\"time\"].unique()), len(SNEMO2[\"wave\"].unique()))"
   ]
  },
  {
   "cell_type": "code",
   "execution_count": null,
   "id": "9988019d",
   "metadata": {},
   "outputs": [],
   "source": [
    "def update_graph(i):\n",
    "    \n",
    "    exp = EXP_LC(gridx_SNEMO, gridy_SNEMO, M0_SNEMO2_reshape, M1_SNEMO2_reshape, M2_reshape, M3_reshape, M4_reshape, M5_reshape, M6_reshape, M7_reshape, M8_reshape, M9_reshape, c, name='EXP')\n",
    "    model = sncosmo.Model(source=exp)\n",
    "\n",
    "    model.set(z=0.,\n",
    "              t0=0,\n",
    "              x2=0,\n",
    "              x3=0,\n",
    "              x4=0,\n",
    "              x5=0,\n",
    "              x6=0,\n",
    "              x7=0,\n",
    "              x8=0,\n",
    "              x9=0,\n",
    "              c=0)\n",
    "    \n",
    "    result_exp, model_exp = sncosmo.fit_lc(PHOTOMETRY_DATASET_TEST[i], model, ['x0', 'x1', 'x2', 'c'], modelcov=False)  # bounds on parameters (if any)\n",
    "    print(\"chi^2 minimum/dof (EXP): \", result_exp.chisq/result_exp.ndof)\n",
    "    model_salt2, result_salt2 = salt2_fit(PHOTOMETRY_DATASET_TEST[i]);\n",
    "    #print(result_salt2)\n",
    "    sncosmo.plot_lc(PHOTOMETRY_DATASET_TEST[i],\n",
    "                    model=[model_salt2, model_exp],\n",
    "                    errors=[result_salt2.errors, result_exp.errors],\n",
    "                    model_label=[\"SALT2\", \"EXP\"],\n",
    "                    color=\"k\")\n",
    "    #plt.savefig('SALT2_x_EXP_SN'+str(i)+'.pdf')\n",
    "    \n",
    "i = widgets.Dropdown(options=optionslist, value=0, description='Component:', disabled=False)\n",
    "widgets.interactive(update_graph,i = i)"
   ]
  },
  {
   "cell_type": "markdown",
   "id": "7750daef",
   "metadata": {},
   "source": [
    "# Finding corrrelations between EXP(3) x EXP10 model coefficients "
   ]
  },
  {
   "cell_type": "code",
   "execution_count": null,
   "id": "9d421608",
   "metadata": {},
   "outputs": [],
   "source": [
    "def parametros_ajustes(ii):\n",
    "    \"\"\"\n",
    "    i:SN train index\n",
    "    \"\"\"   \n",
    "    exp10 = EXP_LC(gridx, gridy, M0_reshape, M1_reshape, M2_reshape, M3_reshape, M4_reshape, M5_reshape, M6_reshape, M7_reshape, M8_reshape, M9_reshape, c, name='EXP')\n",
    "    model10 = sncosmo.Model(source=exp10)\n",
    "\n",
    "    model10.set(z=0.,\n",
    "              t0=0,\n",
    "              c=0)\n",
    "\n",
    "    exp3 = EXP_LC(gridx, gridy, M0_reshape, M1_reshape, M2_reshape, M3_reshape, M4_reshape, M5_reshape, M6_reshape, M7_reshape, M8_reshape, M9_reshape, c, name='EXP')\n",
    "    model3 = sncosmo.Model(source=exp3)\n",
    "\n",
    "    model3.set(z=0.,\n",
    "              t0=0,\n",
    "              x4=0,\n",
    "              x5=0,\n",
    "              x6=0,\n",
    "              x7=0,\n",
    "              x8=0,\n",
    "              x9=0,\n",
    "              c=0)\n",
    "    \n",
    "    result_exp3, model_exp3 = sncosmo.fit_lc(PHOTOMETRY_DATASET_TEST[i], model3, ['x0', 'x1', 'x2', 'x3'], modelcov=False)  # bounds on parameters (if any)\n",
    "    \n",
    "    \n",
    "        \n",
    "    model3 = sncosmo.Model(source=exp3)\n",
    "    model10 = sncosmo.Model(source=exp10)\n",
    "\n",
    "    model3.set(z=0., t0=0)\n",
    "    model10.set(z=0., t0=0)\n",
    "    \n",
    "    result_exp3, model_exp3 = sncosmo.fit_lc(PHOTOMETRY_DATASET_TEST[i], model3, ['x0', 'x1', 'x2'], modelcov=False)\n",
    "    result_exp10, model_exp10 = sncosmo.fit_lc(PHOTOMETRY_DATASET_TEST[i], model10, ['x0', 'x1', 'x2', 'x3', 'x4', 'x5', 'x6', 'x7', 'x8', 'x9'], modelcov=False)\n",
    "\n",
    "    return result_exp3.parameters[2], result_exp3.parameters[3], result_exp3.parameters[4], result_exp10.parameters[2], result_exp10.parameters[3], result_exp10.parameters[4], result_exp10.parameters[5], result_exp10.parameters[6], result_exp10.parameters[7], result_exp10.parameters[8], result_exp10.parameters[9], result_exp10.parameters[10], result_exp10.parameters[11]"
   ]
  },
  {
   "cell_type": "code",
   "execution_count": null,
   "id": "4fcc401a",
   "metadata": {},
   "outputs": [],
   "source": [
    "param_ajuste = pd.DataFrame(data=np.zeros(shape=(len(PHOTOMETRY_DATASET_TEST), 13)), columns=[\"x0_exp3\", \"x1_exp3\", \"x2_exp3\", \"x0_exp10\", \"x1_exp10\", \"x2_exp10\", \"x3_exp10\", \"x4_exp10\", \"x5_exp10\", \"x6_exp10\", \"x7_exp10\", \"x8_exp10\", \"x9_exp10\"])\n",
    "for i in range(0, len(PHOTOMETRY_DATASET_TEST)):\n",
    "    x0_exp, x1_exp, x2_exp, x0_exp10, x1_exp10, x2_exp10, x3_exp10, x4_exp10, x5_exp10, x6_exp10, x7_exp10, x8_exp10, x9_exp10  = parametros_ajustes(i)\n",
    "    #param_ajuste[\"x0_exp3\"][i] = -2.5*np.log10(x0_exp)\n",
    "    param_ajuste[\"x0_exp3\"][i] = x0_exp\n",
    "    param_ajuste[\"x1_exp3\"][i] = x1_exp\n",
    "    param_ajuste[\"x2_exp3\"][i] = x2_exp\n",
    "    #param_ajuste[\"x0_exp10\"][i] = -2.5*np.log10(x0_exp10)\n",
    "    param_ajuste[\"x0_exp10\"][i] = x0_exp10\n",
    "    param_ajuste[\"x1_exp10\"][i] = x1_exp10\n",
    "    param_ajuste[\"x2_exp10\"][i] = x2_exp10\n",
    "    param_ajuste[\"x3_exp10\"][i] = x3_exp10\n",
    "    param_ajuste[\"x4_exp10\"][i] = x4_exp10\n",
    "    param_ajuste[\"x5_exp10\"][i] = x5_exp10\n",
    "    param_ajuste[\"x6_exp10\"][i] = x6_exp10\n",
    "    param_ajuste[\"x7_exp10\"][i] = x7_exp10\n",
    "    param_ajuste[\"x8_exp10\"][i] = x8_exp10\n",
    "    param_ajuste[\"x9_exp10\"][i] = x9_exp10\n",
    "\n",
    "param_ajuste.head()"
   ]
  },
  {
   "cell_type": "code",
   "execution_count": null,
   "id": "70d0d2b7",
   "metadata": {},
   "outputs": [],
   "source": [
    "exp3_param_names = {\n",
    "    0:\"x0_exp3\",\n",
    "    1:\"x1_exp3\",\n",
    "    2:\"x2_exp3\"\n",
    "}\n",
    "\n",
    "exp3_param_latex = {\n",
    "    0:\"$x_0$\",\n",
    "    1:\"$x_1$\",\n",
    "    2:\"$x_2$\"\n",
    "}\n",
    "exp10_param_names = {\n",
    "    0:\"x0_exp10\",\n",
    "    1:\"x1_exp10\",\n",
    "    2:\"x2_exp10\",\n",
    "    3:\"x3_exp10\",\n",
    "    4:\"x4_exp10\",\n",
    "    5:\"x5_exp10\",\n",
    "    6:\"x6_exp10\",\n",
    "    7:\"x7_exp10\",\n",
    "    8:\"x8_exp10\",\n",
    "    9:\"x9_exp10\"\n",
    "}\n",
    "\n",
    "exp10_param_latex = {\n",
    "    0:\"$x_0$\",\n",
    "    1:\"$x_1$\",\n",
    "    2:\"$x_2$\",\n",
    "    3:\"$x_3$\",\n",
    "    4:\"$x_4$\",\n",
    "    5:\"$x_5$\",\n",
    "    6:\"$x_6$\",\n",
    "    7:\"$x_7$\",\n",
    "    8:\"$x_8$\",\n",
    "    9:\"$x_9$\"\n",
    "}"
   ]
  },
  {
   "cell_type": "code",
   "execution_count": null,
   "id": "3ba9c0fa",
   "metadata": {
    "scrolled": false
   },
   "outputs": [],
   "source": [
    "fig, ax = plt.subplots(ncols=3, nrows=10, figsize=(12,36))\n",
    "for i in range(10):\n",
    "    for j in range(3):\n",
    "        ax[i, j].plot(param_ajuste[exp10_param_names[i]], param_ajuste[exp3_param_names[j]], 'k.')#, label=str(round(np.corrcoef(df[salt2_param_names[i]], df[exp_param_names[j]])[0][1]*100, 1)))\n",
    "        ax[i, j].annotate(\"ρ = \"+str(round(np.corrcoef(param_ajuste[exp10_param_names[i]], param_ajuste[exp3_param_names[j]])[0][1]*100, 1)), xy=(0.9, .2), xycoords='axes fraction',\n",
    "                          size=14, ha='right', va='top',\n",
    "                          bbox=dict(boxstyle='round', fc='w'))\n",
    "        if j == 0:\n",
    "            ax[i, j].set_ylabel(exp10_param_latex[i])\n",
    "        if i == 9:\n",
    "            ax[i, j].set_xlabel(exp3_param_latex[j])\n",
    "plt.savefig('correlation.pdf')"
   ]
  },
  {
   "cell_type": "code",
   "execution_count": null,
   "id": "3baa8f11",
   "metadata": {},
   "outputs": [],
   "source": [
    "correlation_matrix=pd.DataFrame(data=np.zeros(shape=(10, 3)), index=[\"x0_exp10\", \"x1_exp10\", \"x2_exp10\", \"x3_exp10\", \"x4_exp10\", \"x5_exp10\", \"x6_exp10\", \"x7_exp10\", \"x8_exp10\", \"x9_exp10\"],columns=[\"x0_exp3\",\"x1_exp3\",\"x2_exp3\"])\n",
    "for i in range(10):\n",
    "    for j in range(3):\n",
    "        correlation_matrix[exp3_param_names[j]][exp10_param_names[i]]=round(np.corrcoef(param_ajuste[exp10_param_names[i]], param_ajuste[exp3_param_names[j]])[0][1], 4)"
   ]
  },
  {
   "cell_type": "code",
   "execution_count": null,
   "id": "434be835",
   "metadata": {},
   "outputs": [],
   "source": [
    "correlation_matrix"
   ]
  },
  {
   "cell_type": "code",
   "execution_count": null,
   "id": "654022e8",
   "metadata": {},
   "outputs": [],
   "source": [
    "new_M0=np.zeros(shape=M0_reshape.shape)\n",
    "new_M1=np.zeros(shape=M1_reshape.shape)\n",
    "new_M2=np.zeros(shape=M2_reshape.shape)\n",
    "M=[M0_reshape,M1_reshape,M2_reshape,M3_reshape,M4_reshape,M5_reshape,M6_reshape,M7_reshape,M8_reshape,M9_reshape]\n",
    "for i in range(10):\n",
    "    new_M0+=M[i]*correlation_matrix[\"x0_exp3\"][exp10_param_names[i]]\n",
    "    new_M1+=M[i]*correlation_matrix[\"x1_exp3\"][exp10_param_names[i]]\n",
    "    new_M2+=M[i]*correlation_matrix[\"x2_exp3\"][exp10_param_names[i]]"
   ]
  },
  {
   "cell_type": "markdown",
   "id": "62a11b3b",
   "metadata": {},
   "source": [
    "## SALT2 x New EXP(3)"
   ]
  },
  {
   "cell_type": "code",
   "execution_count": null,
   "id": "ccc19f1f",
   "metadata": {},
   "outputs": [],
   "source": [
    "def update_graph(i):\n",
    "    \n",
    "    exp = EXP_LC(gridx, gridy, new_M0, new_M1, new_M2, M3_reshape, M4_reshape, M5_reshape, M6_reshape, M7_reshape, M8_reshape, M9_reshape, c, name='EXP')\n",
    "    model = sncosmo.Model(source=exp)\n",
    "\n",
    "    model.set(z=0.,\n",
    "              t0=0,\n",
    "              x3=0,\n",
    "              x4=0,\n",
    "              x5=0,\n",
    "              x6=0,\n",
    "              x7=0,\n",
    "              x8=0,\n",
    "              x9=0,\n",
    "              c=0)\n",
    "    \n",
    "    result_exp, model_exp = sncosmo.fit_lc(PHOTOMETRY_DATASET_TEST[i], model, ['x0', 'x1', 'x2'], modelcov=False)  # bounds on parameters (if any)\n",
    "    print(\"chi^2 minimum/dof (EXP): \", result_exp.chisq/result_exp.ndof)\n",
    "    model_salt2, result_salt2 = salt2_fit(PHOTOMETRY_DATASET_TEST[i]);\n",
    "    #print(result_salt2)\n",
    "    sncosmo.plot_lc(PHOTOMETRY_DATASET_TEST[i],\n",
    "                    model=[model_salt2, model_exp],\n",
    "                    errors=[result_salt2.errors, result_exp.errors],\n",
    "                    model_label=[\"SALT2\", \"EXP\"],\n",
    "                    color=\"k\")\n",
    "    #plt.savefig('SALT2_x_EXP_SN'+str(i)+'.pdf')\n",
    "    \n",
    "i = widgets.Dropdown(options=optionslist, value=0, description='Component:', disabled=False)\n",
    "widgets.interactive(update_graph,i = i)"
   ]
  },
  {
   "cell_type": "markdown",
   "id": "dcec67bb",
   "metadata": {},
   "source": [
    "## New EXP(3) x EXP10"
   ]
  },
  {
   "cell_type": "code",
   "execution_count": null,
   "id": "45b3d660",
   "metadata": {},
   "outputs": [],
   "source": [
    "def update_graph(i):\n",
    "    \n",
    "    exp3 = EXP_LC(gridx, gridy, new_M0, new_M1, new_M2, M3_reshape, M4_reshape, M5_reshape, M6_reshape, M7_reshape, M8_reshape, M9_reshape, c, name='EXP')\n",
    "    model3 = sncosmo.Model(source=exp3)\n",
    "\n",
    "    model3.set(z=0.,\n",
    "              t0=0,\n",
    "              x4=0,\n",
    "              x5=0,\n",
    "              x6=0,\n",
    "              x7=0,\n",
    "              x8=0,\n",
    "              x9=0,\n",
    "              c=0)\n",
    "    \n",
    "    result_exp3, model_exp3 = sncosmo.fit_lc(PHOTOMETRY_DATASET_TEST[i], model3, ['x0', 'x1', 'x2', 'x3'], modelcov=False)  # bounds on parameters (if any)\n",
    "    \n",
    "    \n",
    "\n",
    "    exp10 = EXP_LC(gridx, gridy, M0_reshape, M1_reshape, M2_reshape, M3_reshape, M4_reshape, M5_reshape, M6_reshape, M7_reshape, M8_reshape, M9_reshape, c, name='EXP')\n",
    "    model10 = sncosmo.Model(source=exp10)\n",
    "\n",
    "    model10.set(z=0.,\n",
    "              t0=0,\n",
    "              c=0)\n",
    "    \n",
    "    result_exp10, model_exp10 = sncosmo.fit_lc(PHOTOMETRY_DATASET_TEST[i], model10, ['x0', 'x1', 'x2', 'x3', 'x4', 'x5', 'x6', 'x7', 'x8', 'x9'], modelcov=False)  # bounds on parameters (if any)\n",
    "    \n",
    "    #print(result_exp10.keys())\n",
    "    \n",
    "    sncosmo.plot_lc(PHOTOMETRY_DATASET_TEST[i],\n",
    "                    model=[model_exp3, model_exp10],\n",
    "                    errors=[result_exp3.errors, result_exp10.errors],\n",
    "                    model_label=[\"EXP(3)\", \"EXP10\"],\n",
    "                    color=\"k\")\n",
    "    \n",
    "    #plt.savefig('EXP_x_EXP10_SN'+str(i)+'.pdf')\n",
    "    \n",
    "i = widgets.Dropdown(options=optionslist, value=0, description='Component:', disabled=False)\n",
    "widgets.interactive(update_graph,i = i)"
   ]
  },
  {
   "cell_type": "markdown",
   "id": "80053cc2",
   "metadata": {},
   "source": [
    "## New EXP(3) x Old EXP(3)"
   ]
  },
  {
   "cell_type": "code",
   "execution_count": null,
   "id": "0a948e9f",
   "metadata": {},
   "outputs": [],
   "source": [
    "def update_graph(i):\n",
    "    \n",
    "    exp3_new = EXP_LC(gridx, gridy, new_M0, new_M1, new_M2, M3_reshape, M4_reshape, M5_reshape, M6_reshape, M7_reshape, M8_reshape, M9_reshape, c, name='EXP')\n",
    "    model3_new = sncosmo.Model(source=exp3_new)\n",
    "\n",
    "    model3_new.set(z=0.,\n",
    "              t0=0,\n",
    "              x4=0,\n",
    "              x5=0,\n",
    "              x6=0,\n",
    "              x7=0,\n",
    "              x8=0,\n",
    "              x9=0,\n",
    "              c=0)\n",
    "    \n",
    "    result_exp3_new, model_exp3_new = sncosmo.fit_lc(PHOTOMETRY_DATASET_TEST[i], model3_new, ['x0', 'x1', 'x2', 'x3'], modelcov=False)  # bounds on parameters (if any)\n",
    "    \n",
    "    \n",
    "\n",
    "    exp3 = EXP_LC(gridx, gridy, M0_reshape, M1_reshape, M2_reshape, M3_reshape, M4_reshape, M5_reshape, M6_reshape, M7_reshape, M8_reshape, M9_reshape, c, name='EXP')\n",
    "    model3 = sncosmo.Model(source=exp3)\n",
    "\n",
    "    model3.set(z=0.,\n",
    "              t0=0,\n",
    "              x4=0,\n",
    "              x5=0,\n",
    "              x6=0,\n",
    "              x7=0,\n",
    "              x8=0,\n",
    "              x9=0,\n",
    "              c=0)\n",
    "    \n",
    "    result_exp3, model_exp3 = sncosmo.fit_lc(PHOTOMETRY_DATASET_TEST[i], model3, ['x0', 'x1', 'x2', 'x3'], modelcov=False)  # bounds on parameters (if any)\n",
    "    \n",
    "    #print(result_exp10.keys())\n",
    "    \n",
    "    sncosmo.plot_lc(PHOTOMETRY_DATASET_TEST[i],\n",
    "                    model=[model_exp3_new, model_exp3],\n",
    "                    errors=[result_exp3_new.errors, result_exp3.errors],\n",
    "                    model_label=[\"New EXP(3)\", \"Old EXP3\"],\n",
    "                    color=\"k\")\n",
    "    \n",
    "    #plt.savefig('EXP_x_EXP10_SN'+str(i)+'.pdf')\n",
    "    \n",
    "i = widgets.Dropdown(options=optionslist, value=0, description='Component:', disabled=False)\n",
    "widgets.interactive(update_graph,i = i)"
   ]
  },
  {
   "cell_type": "code",
   "execution_count": null,
   "id": "95e4f6f6",
   "metadata": {},
   "outputs": [],
   "source": [
    "new_M0-M0_reshape"
   ]
  },
  {
   "cell_type": "markdown",
   "id": "16dd6848",
   "metadata": {},
   "source": [
    "## Variance convergency"
   ]
  },
  {
   "cell_type": "code",
   "execution_count": null,
   "id": "3e1b9b38",
   "metadata": {},
   "outputs": [],
   "source": [
    "len(TRAIN_DATASET)"
   ]
  },
  {
   "cell_type": "code",
   "execution_count": null,
   "id": "c430b28f",
   "metadata": {},
   "outputs": [],
   "source": [
    "N_COMPONENTS = np.linspace(10, 112, 50, dtype=int)"
   ]
  },
  {
   "cell_type": "code",
   "execution_count": null,
   "id": "aece9706",
   "metadata": {},
   "outputs": [],
   "source": [
    "N_training = []\n",
    "for i in range(0, len(N_COMPONENTS)):\n",
    "    N_training.append(np.array(random.sample(range(0,112), N_COMPONENTS[i])))"
   ]
  },
  {
   "cell_type": "code",
   "execution_count": null,
   "id": "3e46ea40",
   "metadata": {},
   "outputs": [],
   "source": [
    "variances = []\n",
    "templates = []"
   ]
  },
  {
   "cell_type": "code",
   "execution_count": null,
   "id": "5e1af562",
   "metadata": {},
   "outputs": [],
   "source": [
    "for i in range(0, len(N_COMPONENTS)):\n",
    "    new_dataset = []\n",
    "    for j in range(0, len(N_training[i])):\n",
    "        for k in range(0, len(TRAIN_DATASET)):\n",
    "            if k==int(N_training[i][j]):\n",
    "                new_dataset.append(np.array(TRAIN_DATASET[k]))\n",
    "                \n",
    "    temporary_pca=PCA_FIT(new_dataset, N_comp=10)\n",
    "    variances.append(temporary_pca.explained_variance_ratio_[0]+temporary_pca.explained_variance_ratio_[1]+temporary_pca.explained_variance_ratio_[2])\n",
    "    templates.append([temporary_pca.components_[0], temporary_pca.components_[1], temporary_pca.components_[2], temporary_pca.components_[3], temporary_pca.components_[4], temporary_pca.components_[5], temporary_pca.components_[6], temporary_pca.components_[7], temporary_pca.components_[8], temporary_pca.components_[9]])"
   ]
  },
  {
   "cell_type": "code",
   "execution_count": null,
   "id": "4080928d",
   "metadata": {},
   "outputs": [],
   "source": [
    "plt.plot(N_COMPONENTS, variances, 'k-')\n",
    "plt.xlabel(\"# of training data\")\n",
    "plt.ylabel(\"variance %\");"
   ]
  },
  {
   "cell_type": "code",
   "execution_count": null,
   "id": "45c85bb8",
   "metadata": {},
   "outputs": [],
   "source": [
    "for i in range(0, len(templates)):\n",
    "    for j in range(0, len(templates[i])):\n",
    "        templates[i][j] = (templates[i][j].reshape(501, 61).T).reshape(1, len(templates[i][j]))"
   ]
  },
  {
   "cell_type": "code",
   "execution_count": null,
   "id": "ea350398",
   "metadata": {
    "scrolled": true
   },
   "outputs": [],
   "source": [
    "mean_chisq = []\n",
    "for i in range(0, len(templates)):\n",
    "    print(\"-----------------\", i, \"-----------------\")\n",
    "    chisq = []\n",
    "    for j in range(0, len(PHOTOMETRY_DATASET_TEST)):\n",
    "        \n",
    "        comp0_reshape = np.array(templates[i][0]).reshape(61, 501) \n",
    "        comp1_reshape = np.array(templates[i][1]).reshape(61, 501)\n",
    "        comp2_reshape = np.array(templates[i][2]).reshape(61, 501)\n",
    "        comp3_reshape = np.array(templates[i][3]).reshape(61, 501)\n",
    "        comp4_reshape = np.array(templates[i][4]).reshape(61, 501)\n",
    "        comp5_reshape = np.array(templates[i][5]).reshape(61, 501)\n",
    "        comp6_reshape = np.array(templates[i][6]).reshape(61, 501)\n",
    "        comp7_reshape = np.array(templates[i][7]).reshape(61, 501)\n",
    "        comp8_reshape = np.array(templates[i][8]).reshape(61, 501)\n",
    "        comp9_reshape = np.array(templates[i][9]).reshape(61, 501)\n",
    "\n",
    "        exp = EXP_LC(gridx, gridy, comp0_reshape, comp1_reshape, comp2_reshape, comp3_reshape, comp4_reshape, comp5_reshape, comp6_reshape, comp7_reshape, comp8_reshape, comp9_reshape, c, name='EXP')\n",
    "        model = sncosmo.Model(source=exp)\n",
    "\n",
    "        model.set(z=0.,\n",
    "              t0=0,\n",
    "              x3=0,\n",
    "              x4=0,\n",
    "              x5=0,\n",
    "              x6=0,\n",
    "              x7=0,\n",
    "              x8=0,\n",
    "              x9=0,\n",
    "              c=0)\n",
    "\n",
    "        result_exp, model_exp = sncosmo.fit_lc(PHOTOMETRY_DATASET_TEST[j], model, ['x0', 'x1', 'x2'], modelcov=False)  # bounds on parameters (if any)\n",
    "        if result_exp.chisq/result_exp.ndof < 10:\n",
    "            print(result_exp.chisq/result_exp.ndof)\n",
    "            chisq.append(result_exp.chisq/result_exp.ndof)   \n",
    "    mean_chisq.append(np.mean(chisq))"
   ]
  },
  {
   "cell_type": "code",
   "execution_count": null,
   "id": "d21c0681",
   "metadata": {
    "scrolled": true
   },
   "outputs": [],
   "source": [
    "mean_chisq"
   ]
  },
  {
   "cell_type": "code",
   "execution_count": null,
   "id": "30767f5f",
   "metadata": {},
   "outputs": [],
   "source": [
    "plt.plot(N_COMPONENTS, mean_chisq, 'k-')\n",
    "plt.xlabel(\"chi²/dof\")\n",
    "plt.ylabel(\"variance %\");"
   ]
  },
  {
   "cell_type": "code",
   "execution_count": null,
   "id": "a39340e4",
   "metadata": {},
   "outputs": [],
   "source": []
  }
 ],
 "metadata": {
  "kernelspec": {
   "display_name": "Python 3",
   "language": "python",
   "name": "python3"
  },
  "language_info": {
   "codemirror_mode": {
    "name": "ipython",
    "version": 3
   },
   "file_extension": ".py",
   "mimetype": "text/x-python",
   "name": "python",
   "nbconvert_exporter": "python",
   "pygments_lexer": "ipython3",
   "version": "3.8.10"
  }
 },
 "nbformat": 4,
 "nbformat_minor": 5
}
