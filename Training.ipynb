{
 "cells": [
  {
   "cell_type": "code",
   "execution_count": 1,
   "metadata": {},
   "outputs": [],
   "source": [
    "import matplotlib.pyplot as plt\n",
    "import numpy as np\n",
    "import pandas as pd\n",
    "#from os import listdir\n",
    "import glob\n",
    "import sncosmo\n",
    "from ipywidgets import *\n",
    "from scipy import signal\n",
    "from sklearn.model_selection import train_test_split\n",
    "from sklearn.gaussian_process import GaussianProcessRegressor\n",
    "from sklearn.gaussian_process.kernels import RBF, WhiteKernel\n",
    "from scipy.interpolate import (\n",
    "    InterpolatedUnivariateSpline as Spline1d,\n",
    "    RectBivariateSpline as Spline2d\n",
    ")\n",
    "from sklearn.decomposition import PCA, FactorAnalysis\n",
    "from sklearn.model_selection import cross_val_score\n",
    "from tabulate import tabulate #to export in table format\n",
    "%matplotlib inline"
   ]
  },
  {
   "cell_type": "code",
   "execution_count": 2,
   "metadata": {},
   "outputs": [],
   "source": [
    "kernel = 0.5 * (RBF(length_scale=3, length_scale_bounds=(1, 30)) + WhiteKernel(noise_level=0.1, noise_level_bounds=(1e-5,0.5)))"
   ]
  },
  {
   "cell_type": "markdown",
   "metadata": {},
   "source": [
    "# Read the files"
   ]
  },
  {
   "cell_type": "code",
   "execution_count": 3,
   "metadata": {},
   "outputs": [
    {
     "name": "stdout",
     "output_type": "stream",
     "text": [
      "Total files in path:  2466\n"
     ]
    }
   ],
   "source": [
    "# file data paths\n",
    "data_path = \"./data/sp/\"\n",
    "file_names = glob.glob(data_path+\"*.dat\")\n",
    "for i in range(0, len(file_names)):\n",
    "    file_names[i] = file_names[i][10:]\n",
    "print(\"Total files in path: \", len(file_names))"
   ]
  },
  {
   "cell_type": "code",
   "execution_count": 4,
   "metadata": {},
   "outputs": [
    {
     "data": {
      "text/html": [
       "<div>\n",
       "<style scoped>\n",
       "    .dataframe tbody tr th:only-of-type {\n",
       "        vertical-align: middle;\n",
       "    }\n",
       "\n",
       "    .dataframe tbody tr th {\n",
       "        vertical-align: top;\n",
       "    }\n",
       "\n",
       "    .dataframe thead th {\n",
       "        text-align: right;\n",
       "    }\n",
       "</style>\n",
       "<table border=\"1\" class=\"dataframe\">\n",
       "  <thead>\n",
       "    <tr style=\"text-align: right;\">\n",
       "      <th></th>\n",
       "      <th>name</th>\n",
       "      <th>phase</th>\n",
       "      <th>file_name</th>\n",
       "    </tr>\n",
       "  </thead>\n",
       "  <tbody>\n",
       "    <tr>\n",
       "      <th>0</th>\n",
       "      <td>Test_SN0</td>\n",
       "      <td>-8.154</td>\n",
       "      <td>Test_SN0_0.dat</td>\n",
       "    </tr>\n",
       "    <tr>\n",
       "      <th>1</th>\n",
       "      <td>Test_SN0</td>\n",
       "      <td>-3.522</td>\n",
       "      <td>Test_SN0_1.dat</td>\n",
       "    </tr>\n",
       "    <tr>\n",
       "      <th>2</th>\n",
       "      <td>Test_SN0</td>\n",
       "      <td>17.959</td>\n",
       "      <td>Test_SN0_10.dat</td>\n",
       "    </tr>\n",
       "    <tr>\n",
       "      <th>3</th>\n",
       "      <td>Test_SN0</td>\n",
       "      <td>19.801</td>\n",
       "      <td>Test_SN0_11.dat</td>\n",
       "    </tr>\n",
       "    <tr>\n",
       "      <th>4</th>\n",
       "      <td>Test_SN0</td>\n",
       "      <td>19.816</td>\n",
       "      <td>Test_SN0_12.dat</td>\n",
       "    </tr>\n",
       "  </tbody>\n",
       "</table>\n",
       "</div>"
      ],
      "text/plain": [
       "       name   phase        file_name\n",
       "0  Test_SN0  -8.154   Test_SN0_0.dat\n",
       "1  Test_SN0  -3.522   Test_SN0_1.dat\n",
       "2  Test_SN0  17.959  Test_SN0_10.dat\n",
       "3  Test_SN0  19.801  Test_SN0_11.dat\n",
       "4  Test_SN0  19.816  Test_SN0_12.dat"
      ]
     },
     "execution_count": 4,
     "metadata": {},
     "output_type": "execute_result"
    }
   ],
   "source": [
    "# auxiliar file \n",
    "sn_names = pd.read_csv(\"./data/list.dat\",\n",
    "                       header=None,\n",
    "                       sep=\"\\s+\",\n",
    "                       names=[\"name\", \"phase\", \"file_name\"])\n",
    "sn_names.head()"
   ]
  },
  {
   "cell_type": "code",
   "execution_count": 5,
   "metadata": {},
   "outputs": [
    {
     "name": "stdout",
     "output_type": "stream",
     "text": [
      "Total number of sn files:  171\n"
     ]
    }
   ],
   "source": [
    "names = sn_names[\"name\"].unique()\n",
    "print(\"Total number of sn files: \", len(names))"
   ]
  },
  {
   "cell_type": "markdown",
   "metadata": {},
   "source": [
    "# Training sample and simple graphs"
   ]
  },
  {
   "cell_type": "code",
   "execution_count": 6,
   "metadata": {},
   "outputs": [
    {
     "data": {
      "application/vnd.jupyter.widget-view+json": {
       "model_id": "7aec81f8722442b2b5ff461f2cd9da3a",
       "version_major": 2,
       "version_minor": 0
      },
      "text/plain": [
       "Dropdown(description='SN name:', options=('Test_SN0', 'Test_SN10', 'Test_SN11', 'Test_SN12', 'Test_SN13', 'Tes…"
      ]
     },
     "metadata": {},
     "output_type": "display_data"
    }
   ],
   "source": [
    "w = widgets.Dropdown(\n",
    "    options=names,\n",
    "    value=names[0],\n",
    "    description='SN name:',\n",
    "    disabled=False,\n",
    ")\n",
    "display(w)"
   ]
  },
  {
   "cell_type": "code",
   "execution_count": 7,
   "metadata": {},
   "outputs": [],
   "source": [
    "sn_spectra = glob.glob(data_path + w.value + \"*.dat\")"
   ]
  },
  {
   "cell_type": "code",
   "execution_count": 8,
   "metadata": {
    "scrolled": true
   },
   "outputs": [],
   "source": [
    "def spectra(i=0, plot=True):\n",
    "    \"\"\"\n",
    "    function that returns the wavelenght, the flux and the flux error for a matplotlib graph or whatever spectra\n",
    "    \n",
    "    i = index of the element\n",
    "    returns the wavelength, flux and flux error\n",
    "    \"\"\"\n",
    "    if plot == True:\n",
    "        data = sncosmo.read_lc(sn_spectra[i], format=\"salt2\")\n",
    "        return data[\"WAVE\"], data[\"SN_SPEC\"], data[\"SN_ERR\"]\n",
    "    else:\n",
    "        data = sncosmo.read_lc(data_path+file_names[i], format=\"salt2\")\n",
    "        return data[\"WAVE\"], data[\"SN_SPEC\"], data[\"SN_ERR\"]\n"
   ]
  },
  {
   "cell_type": "markdown",
   "metadata": {},
   "source": [
    "## Spectra"
   ]
  },
  {
   "cell_type": "code",
   "execution_count": 9,
   "metadata": {},
   "outputs": [
    {
     "data": {
      "application/vnd.jupyter.widget-view+json": {
       "model_id": "34e8059af82c4f34b5b380e9125c300d",
       "version_major": 2,
       "version_minor": 0
      },
      "text/plain": [
       "interactive(children=(Dropdown(description='Index: ', options=(0, 1, 2, 3, 4, 5, 6, 7, 8, 9, 10, 11, 12, 13, 1…"
      ]
     },
     "metadata": {},
     "output_type": "display_data"
    }
   ],
   "source": [
    "# option list for jupyter lab widgets\n",
    "optionslist = []\n",
    "for i in range(0, len(sn_spectra)):\n",
    "    optionslist.append(i)\n",
    "\n",
    "def update_graph(i):\n",
    "    \"\"\"\n",
    "    void function that updates a matplotlib graph\n",
    "    \"\"\"\n",
    "    wave, flux, fluxe = spectra(i)\n",
    "    plt.xlabel(\"$\\lambda$  ($\\AA$)\")\n",
    "    plt.ylabel(\"flux (erg/s/cm^2^/{AA} * random offset)\")\n",
    "    plt.plot(wave, flux, \"k\")\n",
    "    \n",
    "i = widgets.Dropdown(options=optionslist, value=0, description='Index: ', disabled=False)\n",
    "\n",
    "widgets.interactive(update_graph,i=i) # to activate the interactive widget"
   ]
  },
  {
   "cell_type": "markdown",
   "metadata": {},
   "source": [
    "## Monochromatic light curves"
   ]
  },
  {
   "cell_type": "code",
   "execution_count": 10,
   "metadata": {},
   "outputs": [],
   "source": [
    "wave_number = 7000\n",
    "\n",
    "time_lc = []\n",
    "flux_lc = []\n",
    "\n",
    "for i in range(0, len(sn_spectra)):\n",
    "    wave, flux, fluxe = spectra(i)\n",
    "    flux_lc.append(Spline1d(wave, flux,  k=1)(wave_number))\n",
    "    time_lc.append(sn_names[\"phase\"][sn_names[\"file_name\"] == str(sn_spectra[i][10:])])"
   ]
  },
  {
   "cell_type": "code",
   "execution_count": 11,
   "metadata": {},
   "outputs": [
    {
     "data": {
      "image/png": "[encoded data removed]",
      "text/plain": [
       "<Figure size 432x288 with 1 Axes>"
      ]
     },
     "metadata": {
      "needs_background": "light"
     },
     "output_type": "display_data"
    }
   ],
   "source": [
    "plt.plot(time_lc, flux_lc, \"k.\")\n",
    "plt.xlabel(\"time (days)\")\n",
    "plt.ylabel(\"flux (erg/s/cm^2^/{AA} * random offset)\");"
   ]
  },
  {
   "cell_type": "markdown",
   "metadata": {},
   "source": [
    "## Training grid"
   ]
  },
  {
   "cell_type": "code",
   "execution_count": 12,
   "metadata": {},
   "outputs": [
    {
     "data": {
      "text/plain": [
       "'\\nfor i in range(0, len(file_names)):\\n    wave = spectra(i, plot=False)[0]\\n    phase = sn_names[\"phase\"][sn_names[\"file_name\"] == str(file_names[i])]\\n    plt.plot([phase,phase], [np.min(wave),np.max(wave)], \\'k\\', linewidth=1)\\n    plt.xlabel(\"time (days)\")\\n    plt.ylabel(\"$\\\\lambda$ ($\\\\AA$)\")\\n    plt.xlim(-10, 50)\\n    plt.ylim(3500, 8500)\\n'"
      ]
     },
     "execution_count": 12,
     "metadata": {},
     "output_type": "execute_result"
    }
   ],
   "source": [
    "\"\"\"\n",
    "for i in range(0, len(file_names)):\n",
    "    wave = spectra(i, plot=False)[0]\n",
    "    phase = sn_names[\"phase\"][sn_names[\"file_name\"] == str(file_names[i])]\n",
    "    plt.plot([phase,phase], [np.min(wave),np.max(wave)], 'k', linewidth=1)\n",
    "    plt.xlabel(\"time (days)\")\n",
    "    plt.ylabel(\"$\\lambda$ ($\\AA$)\")\n",
    "    plt.xlim(-10, 50)\n",
    "    plt.ylim(3500, 8500)\n",
    "\"\"\""
   ]
  },
  {
   "cell_type": "code",
   "execution_count": 13,
   "metadata": {},
   "outputs": [
    {
     "name": "stdout",
     "output_type": "stream",
     "text": [
      "time grid limits:  -10 ,  50\n",
      "wavelenght grid limits:  3500 ,  8500\n"
     ]
    }
   ],
   "source": [
    "## Defining the grid\n",
    "X_GRID = np.linspace(-10, 50, 61, dtype=int)\n",
    "Y_GRID = np.linspace(3500, 8500, 501, dtype=int)\n",
    "\n",
    "# Grid limits\n",
    "print(\"time grid limits: \", np.min(X_GRID), \", \", np.max(X_GRID))\n",
    "print(\"wavelenght grid limits: \", np.min(Y_GRID), \", \", np.max(Y_GRID))"
   ]
  },
  {
   "cell_type": "code",
   "execution_count": 14,
   "metadata": {},
   "outputs": [
    {
     "name": "stdout",
     "output_type": "stream",
     "text": [
      "136 35\n"
     ]
    }
   ],
   "source": [
    "# split our data into a training and test dataset\n",
    "np.random.seed(42)\n",
    "sn_train, sn_test = train_test_split(names, test_size=0.2)\n",
    "print(len(sn_train), len(sn_test))"
   ]
  },
  {
   "cell_type": "code",
   "execution_count": 15,
   "metadata": {},
   "outputs": [],
   "source": [
    "def gaussian_process(wave, flux, error=True):\n",
    "    \"\"\"\n",
    "    function that performs a gaussian process in a dataset of monochromatic light curves\n",
    "    wave: Python list that gives the wavelenghts\n",
    "    flux: np array that gives the flux\n",
    "    error: binary variable to return or not the covariance in gaussian process regression\n",
    "    \n",
    "    return the corresponding gaussian process on data\n",
    "    \"\"\"\n",
    "    # set the gaussian process regressor\n",
    "    gp = GaussianProcessRegressor(kernel=kernel, alpha=0.0).fit(wave, flux)\n",
    "    if error==True:\n",
    "        return gp.predict(X_GRID[:, np.newaxis], return_cov=True) # return mean and covariance\n",
    "    else:\n",
    "        return gp.predict(X_GRID[:, np.newaxis], return_cov=False) # return only mean     \n"
   ]
  },
  {
   "cell_type": "code",
   "execution_count": 16,
   "metadata": {},
   "outputs": [],
   "source": [
    "def prepare_data_to_GP(wave):\n",
    "    \"\"\"\n",
    "    function that convert a np array into a Python list for a gaussian process regression in SK-Learn\n",
    "    wave: np array that gives the wavelenghts\n",
    "    \n",
    "    return the wavelenght in a correct format\n",
    "    \"\"\"\n",
    "    temp_wave = [] # a new python list\n",
    "    for ii in range(0, len(wave)):\n",
    "        temp_wave.append([wave[ii]]) # correct SK-Learn format\n",
    "    return temp_wave"
   ]
  },
  {
   "cell_type": "code",
   "execution_count": 17,
   "metadata": {},
   "outputs": [],
   "source": [
    "def spectra_train(n_file):\n",
    "    \"\"\"\n",
    "    function that returns the wavelenght, the flux and the flux error for a matplotlib graph or whatever spectra\n",
    "    \n",
    "    n_file: file name\n",
    "    returns the wavelength, flux and flux error\n",
    "    \"\"\"\n",
    "    data = sncosmo.read_lc(n_file, format=\"salt2\")\n",
    "    return data[\"WAVE\"], data[\"SN_SPEC\"], data[\"SN_ERR\"]"
   ]
  },
  {
   "cell_type": "code",
   "execution_count": 18,
   "metadata": {},
   "outputs": [],
   "source": [
    "SPEC_TRAIN_FUN = []\n",
    "SPEC_TRAIN_TIME = []\n",
    "SPEC_TRAIN_MINMAX = []\n",
    "for i in range(0, len(sn_train)):\n",
    "    SPEC_TRAIN_FUN.append([]) # for spectra function\n",
    "    SPEC_TRAIN_TIME.append([]) # for spectra time\n",
    "    SPEC_TRAIN_MINMAX.append([]) # for min max spectra (in wavelenghts)"
   ]
  },
  {
   "cell_type": "code",
   "execution_count": 19,
   "metadata": {},
   "outputs": [],
   "source": [
    "for i in range(0, len(sn_train)):\n",
    "    sn_train_spectra = glob.glob(data_path + sn_train[i] + \"_*.dat\")\n",
    "    for j in range(0, len(sn_train_spectra)):\n",
    "        wave, flux, eflux = spectra_train(sn_train_spectra[j]) # to get wave, flux and flux error\n",
    "        Nyquist_frequecy=int(len(wave)-1)/2\n",
    "        cutoff=20 #angstroms\n",
    "        #print(cutoff/Nyquist_frequecy)\n",
    "        b, a = signal.butter(8, cutoff/Nyquist_frequecy, analog=False)\n",
    "        filtered_flux=signal.filtfilt(b, a, flux, padlen=0)\n",
    "        SPEC_TRAIN_FUN[i].append(Spline1d(wave, filtered_flux)) # to register the corresponding function\n",
    "        SPEC_TRAIN_TIME[i].append(np.float(sn_names[\"phase\"][sn_names[\"file_name\"] == str(sn_train_spectra[j][10:])])) # to regirster the corresponding spectra time\n",
    "        SPEC_TRAIN_MINMAX[i].append([np.float(np.min(wave)), np.float(np.max(wave))]) # to register min and max wavelength that function is available"
   ]
  },
  {
   "cell_type": "code",
   "execution_count": 20,
   "metadata": {},
   "outputs": [],
   "source": [
    "SPEC_GRID = []\n",
    "for i in range(0, len(sn_train)):\n",
    "    SPEC_GRID.append([]) # loop for each supernovae in trainingfrom scipy import signal"
   ]
  },
  {
   "cell_type": "code",
   "execution_count": 21,
   "metadata": {},
   "outputs": [],
   "source": [
    "for i in range(0, len(SPEC_GRID)):\n",
    "    for j in range(0, len(Y_GRID)):\n",
    "        SPEC_GRID[i].append([[], []]) # for each supernovae and for each wavelengh we fill with time and flux lists\n",
    "#SPEC_GRID[0][1][0]  # first sn, second wave list order, time or flux"
   ]
  },
  {
   "cell_type": "code",
   "execution_count": 22,
   "metadata": {
    "scrolled": true
   },
   "outputs": [
    {
     "name": "stdout",
     "output_type": "stream",
     "text": [
      "1 / 136\n",
      "2 / 136\n",
      "3 / 136\n",
      "4 / 136\n",
      "5 / 136\n",
      "6 / 136\n",
      "7 / 136\n",
      "8 / 136\n",
      "9 / 136\n",
      "10 / 136\n",
      "11 / 136\n",
      "12 / 136\n",
      "13 / 136\n",
      "14 / 136\n",
      "15 / 136\n",
      "16 / 136\n",
      "17 / 136\n",
      "18 / 136\n",
      "19 / 136\n",
      "20 / 136\n",
      "21 / 136\n",
      "22 / 136\n",
      "23 / 136\n",
      "24 / 136\n",
      "25 / 136\n",
      "26 / 136\n",
      "27 / 136\n",
      "28 / 136\n",
      "29 / 136\n",
      "30 / 136\n",
      "31 / 136\n",
      "32 / 136\n",
      "33 / 136\n",
      "34 / 136\n",
      "35 / 136\n",
      "36 / 136\n",
      "37 / 136\n",
      "38 / 136\n",
      "39 / 136\n",
      "40 / 136\n",
      "41 / 136\n",
      "42 / 136\n",
      "43 / 136\n",
      "44 / 136\n",
      "45 / 136\n",
      "46 / 136\n",
      "47 / 136\n",
      "48 / 136\n",
      "49 / 136\n",
      "50 / 136\n",
      "51 / 136\n",
      "52 / 136\n",
      "53 / 136\n",
      "54 / 136\n",
      "55 / 136\n",
      "56 / 136\n",
      "57 / 136\n",
      "58 / 136\n",
      "59 / 136\n",
      "60 / 136\n",
      "61 / 136\n",
      "62 / 136\n",
      "63 / 136\n",
      "64 / 136\n",
      "65 / 136\n",
      "66 / 136\n",
      "67 / 136\n",
      "68 / 136\n",
      "69 / 136\n",
      "70 / 136\n",
      "71 / 136\n",
      "72 / 136\n",
      "73 / 136\n",
      "74 / 136\n",
      "75 / 136\n",
      "76 / 136\n",
      "77 / 136\n",
      "78 / 136\n",
      "79 / 136\n",
      "80 / 136\n",
      "81 / 136\n",
      "82 / 136\n",
      "83 / 136\n",
      "84 / 136\n",
      "85 / 136\n",
      "86 / 136\n",
      "87 / 136\n",
      "88 / 136\n",
      "89 / 136\n",
      "90 / 136\n",
      "91 / 136\n",
      "92 / 136\n",
      "93 / 136\n",
      "94 / 136\n",
      "95 / 136\n",
      "96 / 136\n",
      "97 / 136\n",
      "98 / 136\n",
      "99 / 136\n",
      "100 / 136\n",
      "101 / 136\n",
      "102 / 136\n",
      "103 / 136\n",
      "104 / 136\n",
      "105 / 136\n",
      "106 / 136\n",
      "107 / 136\n",
      "108 / 136\n",
      "109 / 136\n",
      "110 / 136\n",
      "111 / 136\n",
      "112 / 136\n",
      "113 / 136\n",
      "114 / 136\n",
      "115 / 136\n",
      "116 / 136\n",
      "117 / 136\n",
      "118 / 136\n",
      "119 / 136\n",
      "120 / 136\n",
      "121 / 136\n",
      "122 / 136\n",
      "123 / 136\n",
      "124 / 136\n",
      "125 / 136\n",
      "126 / 136\n",
      "127 / 136\n",
      "128 / 136\n",
      "129 / 136\n",
      "130 / 136\n",
      "131 / 136\n",
      "132 / 136\n",
      "133 / 136\n",
      "134 / 136\n",
      "135 / 136\n",
      "136 / 136\n"
     ]
    }
   ],
   "source": [
    "for i in range(0, len(sn_train)): # sn train index\n",
    "    print(i+1, \"/\", len(sn_train))\n",
    "    for j in range(0, len(Y_GRID)): #  grid index\n",
    "        for k in range(0, len(SPEC_TRAIN_FUN[i])): #func index\n",
    "            if SPEC_TRAIN_MINMAX[i][k][0] < Y_GRID[j] < SPEC_TRAIN_MINMAX[i][k][1]: # if it's inside the bounds\n",
    "                SPEC_GRID[i][j][0].append([SPEC_TRAIN_TIME[i][k]]) # time\n",
    "                SPEC_GRID[i][j][1].append(np.float(SPEC_TRAIN_FUN[i][k](Y_GRID[j]))) # flux"
   ]
  },
  {
   "cell_type": "code",
   "execution_count": 23,
   "metadata": {},
   "outputs": [
    {
     "data": {
      "text/plain": [
       "'\\nNsn = 30\\nNspec = 100\\nTIME_TEMP = SPEC_GRID[Nsn][Nspec][0]\\nFLUX_TEMP = SPEC_GRID[Nsn][Nspec][1]\\n\\ngp = GaussianProcessRegressor(kernel=kernel, alpha=0.0).fit(TIME_TEMP, FLUX_TEMP)\\ny_mean, y_cov = gp.predict(X_GRID[:, np.newaxis], return_cov=True) \\n\\nplt.plot(X_GRID, y_mean, \\'k\\', lw=3, zorder=9)\\nplt.fill_between(X_GRID, y_mean - np.sqrt(np.diag(y_cov)), y_mean + np.sqrt(np.diag(y_cov)), alpha=0.5, color=\\'k\\')\\nplt.scatter(TIME_TEMP, FLUX_TEMP, c=\\'r\\', s=50, zorder=10, edgecolors=(0, 0, 0))\\nplt.xlabel(\"time (days)\")\\nplt.ylabel(\"flux (a.u)\")\\n'"
      ]
     },
     "execution_count": 23,
     "metadata": {},
     "output_type": "execute_result"
    }
   ],
   "source": [
    "\"\"\"\n",
    "Nsn = 30\n",
    "Nspec = 100\n",
    "TIME_TEMP = SPEC_GRID[Nsn][Nspec][0]\n",
    "FLUX_TEMP = SPEC_GRID[Nsn][Nspec][1]\n",
    "\n",
    "gp = GaussianProcessRegressor(kernel=kernel, alpha=0.0).fit(TIME_TEMP, FLUX_TEMP)\n",
    "y_mean, y_cov = gp.predict(X_GRID[:, np.newaxis], return_cov=True) \n",
    "\n",
    "plt.plot(X_GRID, y_mean, 'k', lw=3, zorder=9)\n",
    "plt.fill_between(X_GRID, y_mean - np.sqrt(np.diag(y_cov)), y_mean + np.sqrt(np.diag(y_cov)), alpha=0.5, color='k')\n",
    "plt.scatter(TIME_TEMP, FLUX_TEMP, c='r', s=50, zorder=10, edgecolors=(0, 0, 0))\n",
    "plt.xlabel(\"time (days)\")\n",
    "plt.ylabel(\"flux (a.u)\")\n",
    "\"\"\""
   ]
  },
  {
   "cell_type": "code",
   "execution_count": 24,
   "metadata": {},
   "outputs": [],
   "source": [
    "data_NSPEC_CUT = 7 # minimum number of spectra\n",
    "data_NWAVE_CUT = 200 # wavelengh in a commom grid\n",
    "SN_TRAIN = []\n",
    "SN_TRAIN_ERROR = []\n",
    "for i in range(0, len(sn_train)):\n",
    "        SN_TRAIN.append([])\n",
    "        SN_TRAIN_ERROR.append([])"
   ]
  },
  {
   "cell_type": "code",
   "execution_count": 25,
   "metadata": {
    "scrolled": true
   },
   "outputs": [
    {
     "name": "stdout",
     "output_type": "stream",
     "text": [
      "1 / 136\n",
      "2 / 136\n",
      "3 / 136\n",
      "4 / 136\n",
      "5 / 136\n",
      "6 / 136\n",
      "7 / 136\n",
      "8 / 136\n",
      "9 / 136\n",
      "10 / 136\n",
      "11 / 136\n",
      "12 / 136\n",
      "13 / 136\n",
      "14 / 136\n",
      "15 / 136\n",
      "16 / 136\n",
      "17 / 136\n",
      "18 / 136\n",
      "19 / 136\n",
      "20 / 136\n",
      "21 / 136\n",
      "22 / 136\n",
      "23 / 136\n",
      "24 / 136\n",
      "25 / 136\n",
      "26 / 136\n",
      "27 / 136\n",
      "28 / 136\n",
      "29 / 136\n",
      "30 / 136\n",
      "31 / 136\n",
      "32 / 136\n",
      "33 / 136\n",
      "34 / 136\n",
      "35 / 136\n",
      "36 / 136\n",
      "37 / 136\n",
      "38 / 136\n",
      "39 / 136\n",
      "40 / 136\n",
      "41 / 136\n",
      "42 / 136\n"
     ]
    },
    {
     "name": "stderr",
     "output_type": "stream",
     "text": [
      "/home/joao/.local/lib/python3.6/site-packages/sklearn/gaussian_process/_gpr.py:504: ConvergenceWarning: lbfgs failed to converge (status=2):\n",
      "ABNORMAL_TERMINATION_IN_LNSRCH.\n",
      "\n",
      "Increase the number of iterations (max_iter) or scale the data as shown in:\n",
      "    https://scikit-learn.org/stable/modules/preprocessing.html\n",
      "  _check_optimize_result(\"lbfgs\", opt_res)\n"
     ]
    },
    {
     "name": "stdout",
     "output_type": "stream",
     "text": [
      "43 / 136\n",
      "44 / 136\n",
      "45 / 136\n",
      "46 / 136\n",
      "47 / 136\n",
      "48 / 136\n",
      "49 / 136\n",
      "50 / 136\n",
      "51 / 136\n",
      "52 / 136\n",
      "53 / 136\n",
      "54 / 136\n",
      "55 / 136\n",
      "56 / 136\n",
      "57 / 136\n",
      "58 / 136\n",
      "59 / 136\n",
      "60 / 136\n",
      "61 / 136\n",
      "62 / 136\n",
      "63 / 136\n",
      "64 / 136\n",
      "65 / 136\n",
      "66 / 136\n",
      "67 / 136\n",
      "68 / 136\n",
      "69 / 136\n",
      "70 / 136\n"
     ]
    },
    {
     "name": "stderr",
     "output_type": "stream",
     "text": [
      "/home/joao/.local/lib/python3.6/site-packages/sklearn/gaussian_process/_gpr.py:504: ConvergenceWarning: lbfgs failed to converge (status=2):\n",
      "ABNORMAL_TERMINATION_IN_LNSRCH.\n",
      "\n",
      "Increase the number of iterations (max_iter) or scale the data as shown in:\n",
      "    https://scikit-learn.org/stable/modules/preprocessing.html\n",
      "  _check_optimize_result(\"lbfgs\", opt_res)\n"
     ]
    },
    {
     "name": "stdout",
     "output_type": "stream",
     "text": [
      "71 / 136\n"
     ]
    },
    {
     "name": "stderr",
     "output_type": "stream",
     "text": [
      "/home/joao/.local/lib/python3.6/site-packages/sklearn/gaussian_process/_gpr.py:504: ConvergenceWarning: lbfgs failed to converge (status=2):\n",
      "ABNORMAL_TERMINATION_IN_LNSRCH.\n",
      "\n",
      "Increase the number of iterations (max_iter) or scale the data as shown in:\n",
      "    https://scikit-learn.org/stable/modules/preprocessing.html\n",
      "  _check_optimize_result(\"lbfgs\", opt_res)\n"
     ]
    },
    {
     "name": "stdout",
     "output_type": "stream",
     "text": [
      "72 / 136\n",
      "73 / 136\n",
      "74 / 136\n",
      "75 / 136\n",
      "76 / 136\n",
      "77 / 136\n",
      "78 / 136\n",
      "79 / 136\n",
      "80 / 136\n",
      "81 / 136\n",
      "82 / 136\n",
      "83 / 136\n",
      "84 / 136\n",
      "85 / 136\n",
      "86 / 136\n",
      "87 / 136\n",
      "88 / 136\n",
      "89 / 136\n",
      "90 / 136\n",
      "91 / 136\n",
      "92 / 136\n",
      "93 / 136\n",
      "94 / 136\n",
      "95 / 136\n",
      "96 / 136\n",
      "97 / 136\n",
      "98 / 136\n",
      "99 / 136\n",
      "100 / 136\n",
      "101 / 136\n",
      "102 / 136\n",
      "103 / 136\n",
      "104 / 136\n",
      "105 / 136\n",
      "106 / 136\n",
      "107 / 136\n",
      "108 / 136\n",
      "109 / 136\n",
      "110 / 136\n",
      "111 / 136\n",
      "112 / 136\n",
      "113 / 136\n",
      "114 / 136\n",
      "115 / 136\n",
      "116 / 136\n",
      "117 / 136\n",
      "118 / 136\n",
      "119 / 136\n",
      "120 / 136\n",
      "121 / 136\n",
      "122 / 136\n",
      "123 / 136\n",
      "124 / 136\n",
      "125 / 136\n",
      "126 / 136\n",
      "127 / 136\n",
      "128 / 136\n",
      "129 / 136\n",
      "130 / 136\n",
      "131 / 136\n",
      "132 / 136\n",
      "133 / 136\n",
      "134 / 136\n",
      "135 / 136\n",
      "136 / 136\n"
     ]
    }
   ],
   "source": [
    "for i in range(0, len(SPEC_GRID)):\n",
    "    print(i+1, \"/\", len(SPEC_GRID))\n",
    "    if len(SPEC_GRID[i][data_NWAVE_CUT][0]) > data_NSPEC_CUT:\n",
    "        for j in range(0, len(Y_GRID)):\n",
    "            TIME_TEMP = SPEC_GRID[i][j][0]\n",
    "            FLUX_TEMP = SPEC_GRID[i][j][1]\n",
    "            FLUX_TEMP, FLUX_ERROR_TEMP = gaussian_process(TIME_TEMP, FLUX_TEMP, error=True) # the brand new monochromatic light curves\n",
    "            FLUX_ERROR_TEMP = np.sqrt(np.diag(FLUX_ERROR_TEMP))\n",
    "            for k in range(0, len(FLUX_TEMP)):\n",
    "                SN_TRAIN[i].append(FLUX_TEMP[k])\n",
    "                SN_TRAIN_ERROR[i].append(FLUX_ERROR_TEMP[k])"
   ]
  },
  {
   "cell_type": "code",
   "execution_count": 26,
   "metadata": {},
   "outputs": [],
   "source": [
    "X_TRAIN = []\n",
    "X_TRAIN_ERROR = []\n",
    "\n",
    "for i in range(0, len(SN_TRAIN)):\n",
    "    if len(SN_TRAIN[i]) > 0:\n",
    "        X_TRAIN.append(np.array(SN_TRAIN[i]))\n",
    "        X_TRAIN_ERROR.append(np.array(SN_TRAIN_ERROR[i]))"
   ]
  },
  {
   "cell_type": "code",
   "execution_count": 27,
   "metadata": {},
   "outputs": [
    {
     "data": {
      "text/plain": [
       "[array([ 0.23502716,  0.24782881,  0.25765805, ..., -0.00745727,\n",
       "        -0.00804147, -0.0085526 ]),\n",
       " array([0.11563992, 0.13655425, 0.15595197, ..., 0.00236154, 0.00170908,\n",
       "        0.00110263]),\n",
       " array([0.06326873, 0.06251563, 0.06092227, ..., 0.00217611, 0.00210581,\n",
       "        0.00204548]),\n",
       " array([ 0.30690856,  0.30668711,  0.30467862, ..., -0.00215616,\n",
       "        -0.00228698, -0.00239889]),\n",
       " array([0.20716143, 0.22981938, 0.25060617, ..., 0.00409275, 0.00400448,\n",
       "        0.0039194 ]),\n",
       " array([0.23788375, 0.25173427, 0.26328848, ..., 0.0053562 , 0.00516595,\n",
       "        0.00497522]),\n",
       " array([0.32595909, 0.33834183, 0.34798561, ..., 0.005158  , 0.00508996,\n",
       "        0.00501165]),\n",
       " array([0.20789982, 0.23048992, 0.25045728, ..., 0.00633594, 0.00587816,\n",
       "        0.00540112]),\n",
       " array([0.05608035, 0.08354905, 0.10926267, ..., 0.00231498, 0.00216589,\n",
       "        0.00204879]),\n",
       " array([0.22934063, 0.24199424, 0.25239849, ..., 0.0085891 , 0.00840676,\n",
       "        0.00820407]),\n",
       " array([0.38562777, 0.39132789, 0.39452341, ..., 0.00215048, 0.00218404,\n",
       "        0.00225886]),\n",
       " array([0.29018642, 0.32748089, 0.35675104, ..., 0.00197536, 0.00140367,\n",
       "        0.00092709]),\n",
       " array([0.26704989, 0.29859489, 0.32551298, ..., 0.00225488, 0.00212927,\n",
       "        0.00201697]),\n",
       " array([ 5.01302642e-03,  8.64721938e-03,  1.36834212e-02, ...,\n",
       "        -5.38502488e-05, -6.82095161e-05, -7.60548349e-05]),\n",
       " array([0.0672212 , 0.07823292, 0.08881607, ..., 0.00362821, 0.00327112,\n",
       "        0.0029119 ]),\n",
       " array([0.16714814, 0.18249102, 0.19580658, ..., 0.00290607, 0.00315228,\n",
       "        0.00340098]),\n",
       " array([0.46288474, 0.4684493 , 0.47063125, ..., 0.00389951, 0.00422001,\n",
       "        0.00458194]),\n",
       " array([0.39075575, 0.38622022, 0.37939577, ..., 0.00178612, 0.00145139,\n",
       "        0.00114021]),\n",
       " array([ 1.09134318e-01,  1.21595037e-01,  1.33428493e-01, ...,\n",
       "         1.16856119e-06, -6.82663816e-05, -1.29589527e-04]),\n",
       " array([-2.82205223e-02, -9.90019146e-04,  3.01948468e-02, ...,\n",
       "        -2.12280526e-06, -1.33491970e-06, -8.28250467e-07]),\n",
       " array([0.24628338, 0.24697731, 0.24657078, ..., 0.00718465, 0.00714122,\n",
       "        0.00708009]),\n",
       " array([6.99245037e-02, 8.08252373e-02, 9.13167754e-02, ...,\n",
       "        4.21666194e-05, 4.66053652e-05, 6.06105844e-05]),\n",
       " array([0.00527542, 0.00517137, 0.00505684, ..., 0.00024397, 0.00025495,\n",
       "        0.00026574]),\n",
       " array([ 0.48340327,  0.49535558,  0.50195221, ..., -0.00655801,\n",
       "        -0.00676994, -0.00691032]),\n",
       " array([0.46899915, 0.45122193, 0.43258749, ..., 0.01646869, 0.01603032,\n",
       "        0.01554183]),\n",
       " array([0.21972548, 0.27116785, 0.31655213, ..., 0.00327707, 0.00286489,\n",
       "        0.00247394]),\n",
       " array([0.37930142, 0.39460815, 0.40663915, ..., 0.00572959, 0.00515724,\n",
       "        0.00461657]),\n",
       " array([0.35352216, 0.40318316, 0.4459249 , ..., 0.0057277 , 0.00555282,\n",
       "        0.00544995]),\n",
       " array([ 0.80522646,  0.76711724,  0.72880192, ..., -0.00153437,\n",
       "        -0.00287704, -0.00419152]),\n",
       " array([0.29894066, 0.29546791, 0.29060218, ..., 0.01642747, 0.01724933,\n",
       "        0.01792521]),\n",
       " array([ 0.13855857,  0.16630841,  0.1919233 , ..., -0.00233411,\n",
       "        -0.0036609 , -0.0047808 ]),\n",
       " array([0.11483684, 0.14907558, 0.18494698, ..., 0.00227413, 0.0021893 ,\n",
       "        0.00210588]),\n",
       " array([0.14273482, 0.19688875, 0.24939689, ..., 0.00486621, 0.00438285,\n",
       "        0.00387866]),\n",
       " array([ 0.15044566,  0.20062523,  0.2508793 , ..., -0.00123573,\n",
       "        -0.00111032, -0.00097388]),\n",
       " array([0.00769993, 0.01021707, 0.01323396, ..., 0.00119097, 0.00113826,\n",
       "        0.00107317]),\n",
       " array([0.32395392, 0.335745  , 0.34502597, ..., 0.00321434, 0.00325818,\n",
       "        0.00331167]),\n",
       " array([0.16587985, 0.19443962, 0.22131519, ..., 0.00110797, 0.00076496,\n",
       "        0.00045713]),\n",
       " array([0.22386348, 0.25713698, 0.28658108, ..., 0.00246277, 0.0023603 ,\n",
       "        0.00226534]),\n",
       " array([0.89598469, 0.89384678, 0.88739234, ..., 0.03481499, 0.03346928,\n",
       "        0.03215776]),\n",
       " array([0.13368911, 0.1394264 , 0.14411679, ..., 0.00117381, 0.00095749,\n",
       "        0.0007648 ]),\n",
       " array([3.74205694e-01, 4.21854208e-01, 4.66387182e-01, ...,\n",
       "        1.09394473e-04, 7.71849941e-05, 5.38863018e-05]),\n",
       " array([0.14644021, 0.18960297, 0.23035401, ..., 0.00089087, 0.00060869,\n",
       "        0.00037894]),\n",
       " array([0.17903798, 0.21439956, 0.24704954, ..., 0.00217077, 0.00182659,\n",
       "        0.00144684]),\n",
       " array([ 0.36636378,  0.35718062,  0.34676932, ..., -0.00097976,\n",
       "        -0.0015873 , -0.00215636]),\n",
       " array([ 0.18903502,  0.26599433,  0.33689282, ..., -0.00716628,\n",
       "        -0.00880939, -0.00997814]),\n",
       " array([0.16898837, 0.16441028, 0.1594538 , ..., 0.00113673, 0.00101151,\n",
       "        0.00090642]),\n",
       " array([ 1.70693457e-01,  1.94565823e-01,  2.16172464e-01, ...,\n",
       "         6.69769136e-05, -1.08456178e-03, -2.26587858e-03]),\n",
       " array([ 0.19045258,  0.20838267,  0.22471479, ..., -0.00687007,\n",
       "        -0.00713636, -0.00719639]),\n",
       " array([0.20625095, 0.23836904, 0.2675661 , ..., 0.00241333, 0.0022959 ,\n",
       "        0.0021308 ]),\n",
       " array([0.09662895, 0.12744714, 0.15604341, ..., 0.00165196, 0.00121095,\n",
       "        0.00080629]),\n",
       " array([ 0.04401477,  0.05312491,  0.06324028, ..., -0.01531022,\n",
       "        -0.01438163, -0.01339236]),\n",
       " array([1.75635868e-01, 1.95206796e-01, 2.12861564e-01, ...,\n",
       "        1.34093566e-04, 9.80622062e-05, 7.10090946e-05]),\n",
       " array([ 0.10573536,  0.12956701,  0.15304307, ..., -0.00273657,\n",
       "        -0.00240557, -0.00209187]),\n",
       " array([0.10112014, 0.11693823, 0.13170138, ..., 0.00121077, 0.00087949,\n",
       "        0.00056732]),\n",
       " array([0.05151712, 0.04997523, 0.04829423, ..., 0.00123251, 0.00121882,\n",
       "        0.00121037]),\n",
       " array([0.05869592, 0.08250519, 0.10933582, ..., 0.00191193, 0.00180807,\n",
       "        0.00170708]),\n",
       " array([0.1843255 , 0.20088476, 0.2153182 , ..., 0.00055239, 0.00045149,\n",
       "        0.0003694 ]),\n",
       " array([0.39505409, 0.40332112, 0.40813925, ..., 0.0041796 , 0.00394018,\n",
       "        0.00371189]),\n",
       " array([ 0.31646512,  0.33274134,  0.34641782, ..., -0.00075957,\n",
       "        -0.00137269, -0.00189075]),\n",
       " array([ 2.74563365e-01,  3.13807303e-01,  3.48768834e-01, ...,\n",
       "        -7.92284243e-20, -6.98451439e-21, -5.72087018e-22]),\n",
       " array([0.21675496, 0.24625201, 0.27520985, ..., 0.0025865 , 0.00245349,\n",
       "        0.00232008]),\n",
       " array([0.22062243, 0.25387631, 0.28311717, ..., 0.00633513, 0.00595036,\n",
       "        0.0056138 ]),\n",
       " array([0.06476286, 0.08349594, 0.10323027, ..., 0.00108084, 0.00093138,\n",
       "        0.00078703]),\n",
       " array([ 3.54337331e-01,  3.70980207e-01,  3.83877186e-01, ...,\n",
       "        -1.65143367e-04, -8.14885966e-04, -1.40336600e-03]),\n",
       " array([0.73319694, 0.70366446, 0.67314424, ..., 0.00397669, 0.00381074,\n",
       "        0.00369644]),\n",
       " array([0.22742691, 0.27822665, 0.32456965, ..., 0.00389665, 0.00358774,\n",
       "        0.00326479]),\n",
       " array([0.17924893, 0.17953441, 0.17819003, ..., 0.00123656, 0.00116216,\n",
       "        0.00108791]),\n",
       " array([ 0.57632468,  0.55736655,  0.53680528, ..., -0.00171612,\n",
       "        -0.00165534, -0.00157439]),\n",
       " array([0.62763798, 0.60718513, 0.58475014, ..., 0.0053878 , 0.00529838,\n",
       "        0.00521108]),\n",
       " array([0.19440994, 0.20260729, 0.20930678, ..., 0.00090098, 0.00076611,\n",
       "        0.00064012]),\n",
       " array([ 0.04965344,  0.08592846,  0.12372334, ..., -0.00031268,\n",
       "        -0.00054314, -0.00075204]),\n",
       " array([0.09721655, 0.12399831, 0.14915571, ..., 0.00275771, 0.00219062,\n",
       "        0.00158062]),\n",
       " array([0.06545377, 0.09016263, 0.11328549, ..., 0.00030261, 0.00022711,\n",
       "        0.00016809]),\n",
       " array([0.0607679 , 0.06701079, 0.07249798, ..., 0.00142564, 0.00124094,\n",
       "        0.00106875]),\n",
       " array([0.14890781, 0.17208069, 0.19434579, ..., 0.00137615, 0.00119349,\n",
       "        0.00094509]),\n",
       " array([0.29142216, 0.29649337, 0.29926532, ..., 0.0038223 , 0.00416038,\n",
       "        0.00450444]),\n",
       " array([0.06018683, 0.06137078, 0.06212634, ..., 0.0018356 , 0.00158256,\n",
       "        0.00131769]),\n",
       " array([0.64764335, 0.62800801, 0.60701205, ..., 0.01079905, 0.00909008,\n",
       "        0.00749222]),\n",
       " array([0.0888147 , 0.12531871, 0.16352117, ..., 0.00134521, 0.00133456,\n",
       "        0.00132031]),\n",
       " array([ 2.18695185e-01,  2.61929964e-01,  3.05358423e-01, ...,\n",
       "        -6.62653719e-05, -1.01081174e-04, -1.07793090e-04]),\n",
       " array([0.31895126, 0.31035697, 0.30102866, ..., 0.00656439, 0.00663641,\n",
       "        0.00667388]),\n",
       " array([ 0.25234758,  0.27893618,  0.30243924, ..., -0.00510112,\n",
       "        -0.00518486, -0.005188  ]),\n",
       " array([0.17237277, 0.17441731, 0.175711  , ..., 0.00311057, 0.0030456 ,\n",
       "        0.00296837]),\n",
       " array([ 2.47892251e-01,  2.97407814e-01,  3.46624443e-01, ...,\n",
       "         1.72602478e-03,  7.98533865e-04, -1.43715478e-05]),\n",
       " array([0.34718178, 0.3586309 , 0.36710371, ..., 0.00232382, 0.00193275,\n",
       "        0.00155828]),\n",
       " array([0.10156417, 0.12145823, 0.14218724, ..., 0.00072913, 0.00048227,\n",
       "        0.00023271]),\n",
       " array([ 3.26474253e-01,  3.46338407e-01,  3.62647370e-01, ...,\n",
       "         1.26888460e-04, -2.65448404e-04, -6.08965446e-04]),\n",
       " array([0.26952648, 0.2922134 , 0.30637263, ..., 0.00090424, 0.00076811,\n",
       "        0.0006507 ]),\n",
       " array([0.09338173, 0.11815595, 0.14222936, ..., 0.00065657, 0.00043816,\n",
       "        0.00026082]),\n",
       " array([0.64308778, 0.64030184, 0.63406582, ..., 0.00322665, 0.0029575 ,\n",
       "        0.00270545]),\n",
       " array([0.06885155, 0.10076067, 0.1334202 , ..., 0.00162396, 0.00151674,\n",
       "        0.00137876]),\n",
       " array([ 0.03080384,  0.05337752,  0.0766544 , ..., -0.00025756,\n",
       "        -0.00036598, -0.00046239]),\n",
       " array([0.05485782, 0.06399269, 0.07187785, ..., 0.00239971, 0.002339  ,\n",
       "        0.00229318]),\n",
       " array([0.23229204, 0.26445585, 0.29282134, ..., 0.00207101, 0.00185151,\n",
       "        0.00164655]),\n",
       " array([0.67349665, 0.63693501, 0.60047917, ..., 0.00315241, 0.0025932 ,\n",
       "        0.00208981]),\n",
       " array([0.32736125, 0.38995024, 0.44508369, ..., 0.00500442, 0.00477482,\n",
       "        0.00455413]),\n",
       " array([0.05483069, 0.07157597, 0.08875011, ..., 0.00109927, 0.00100098,\n",
       "        0.00090626]),\n",
       " array([0.40582236, 0.43586162, 0.4601802 , ..., 0.0120537 , 0.01135475,\n",
       "        0.01060237]),\n",
       " array([0.16911754, 0.18125305, 0.19171379, ..., 0.00129849, 0.0010417 ,\n",
       "        0.00081517]),\n",
       " array([ 0.36713831,  0.37507273,  0.38003432, ..., -0.00151198,\n",
       "        -0.00203098, -0.00249815]),\n",
       " array([0.07109045, 0.08865295, 0.10667948, ..., 0.00383417, 0.00374836,\n",
       "        0.0036617 ]),\n",
       " array([ 0.35669491,  0.37480441,  0.39027814, ..., -0.00389255,\n",
       "        -0.0039872 , -0.00399924]),\n",
       " array([6.86333848e-02, 9.19796209e-02, 1.14974406e-01, ...,\n",
       "        1.53409918e-05, 1.02033733e-05, 6.68951234e-06]),\n",
       " array([ 1.55614451e-01,  1.89168688e-01,  2.20856793e-01, ...,\n",
       "        -9.48396962e-06,  1.72136989e-05,  3.76210076e-05]),\n",
       " array([0.40218459, 0.45410816, 0.49963473, ..., 0.01465272, 0.0148045 ,\n",
       "        0.01485234]),\n",
       " array([0.14990338, 0.18510493, 0.22215998, ..., 0.00394652, 0.00395   ,\n",
       "        0.00387253]),\n",
       " array([ 0.15304778,  0.15939694,  0.16397931, ..., -0.00147794,\n",
       "        -0.00195632, -0.00235968]),\n",
       " array([ 0.28287218,  0.3404873 ,  0.38814606, ..., -0.00136596,\n",
       "        -0.00107658, -0.00081918]),\n",
       " array([0.53775907, 0.52468481, 0.51045634, ..., 0.00304275, 0.00229948,\n",
       "        0.00156412]),\n",
       " array([ 0.37730045,  0.37469778,  0.36926422, ..., -0.00182094,\n",
       "        -0.00249118, -0.00312706]),\n",
       " array([0.15743019, 0.1835463 , 0.2082977 , ..., 0.00367621, 0.00356695,\n",
       "        0.00348011]),\n",
       " array([0.08155915, 0.08185935, 0.08152107, ..., 0.004593  , 0.004071  ,\n",
       "        0.00356184]),\n",
       " array([0.13912908, 0.14630748, 0.15276625, ..., 0.00417064, 0.00395164,\n",
       "        0.00372013]),\n",
       " array([0.75526268, 0.71184374, 0.66859039, ..., 0.0016689 , 0.00160364,\n",
       "        0.00153728]),\n",
       " array([0.22691511, 0.28303437, 0.33487387, ..., 0.00352646, 0.00339854,\n",
       "        0.00319369]),\n",
       " array([0.17754775, 0.21610342, 0.24961386, ..., 0.00422567, 0.00384066,\n",
       "        0.00348228]),\n",
       " array([0.09207391, 0.08931356, 0.08628476, ..., 0.00163233, 0.00153305,\n",
       "        0.00142495]),\n",
       " array([0.11324178, 0.12607249, 0.13774639, ..., 0.00440535, 0.00435612,\n",
       "        0.00431275]),\n",
       " array([0.07489967, 0.10386046, 0.13200046, ..., 0.00052787, 0.00041041,\n",
       "        0.00031521]),\n",
       " array([0.05127307, 0.0841964 , 0.12040138, ..., 0.00164695, 0.00163728,\n",
       "        0.00162056]),\n",
       " array([0.16547379, 0.20701944, 0.24469004, ..., 0.00254716, 0.00199305,\n",
       "        0.00140747]),\n",
       " array([ 0.14899286,  0.18956645,  0.22652993, ..., -0.00186105,\n",
       "        -0.00208438, -0.00221801]),\n",
       " array([0.23226762, 0.23247146, 0.23140602, ..., 0.00214888, 0.00206379,\n",
       "        0.00198205]),\n",
       " array([0.0502901 , 0.05604912, 0.06131935, ..., 0.0011701 , 0.00102001,\n",
       "        0.00087977]),\n",
       " array([0.23805456, 0.27085458, 0.30127775, ..., 0.00382538, 0.00368532,\n",
       "        0.00352595]),\n",
       " array([0.04733971, 0.062509  , 0.07822799, ..., 0.00201812, 0.00188646,\n",
       "        0.00171812]),\n",
       " array([0.03891525, 0.05216851, 0.06448939, ..., 0.00275926, 0.00273626,\n",
       "        0.00271264]),\n",
       " array([ 0.42911197,  0.42621472,  0.42069892, ..., -0.00112675,\n",
       "        -0.00114183, -0.00113324]),\n",
       " array([ 0.17812095,  0.20401754,  0.22902738, ..., -0.0005611 ,\n",
       "        -0.00090337, -0.00117059]),\n",
       " array([0.01227537, 0.01290859, 0.01346777, ..., 0.0013515 , 0.00130027,\n",
       "        0.00127376])]"
      ]
     },
     "execution_count": 27,
     "metadata": {},
     "output_type": "execute_result"
    }
   ],
   "source": [
    "X_TRAIN"
   ]
  },
  {
   "cell_type": "code",
   "execution_count": 28,
   "metadata": {},
   "outputs": [],
   "source": [
    "U = []\n",
    "for i in range(0, len(X_TRAIN_ERROR)):\n",
    "    U.append([])\n",
    "\n",
    "rng = np.random.RandomState(42)\n",
    "\n",
    "for i in range(0, len(X_TRAIN_ERROR)):\n",
    "    for j in range(0, len(X_TRAIN_ERROR[i])):\n",
    "        U[i].append(rng.rand()*X_TRAIN_ERROR[i][j])\n",
    "    \n",
    "X_ = np.array(X_TRAIN).T #+ np.array(U).T "
   ]
  },
  {
   "cell_type": "code",
   "execution_count": 29,
   "metadata": {},
   "outputs": [],
   "source": [
    "#N = 3\n",
    "#np.random.seed(42)\n",
    "\n",
    "#transformer = FactorAnalysis(n_components=3, random_state=0)\n",
    "#X_transformed = transformer.fit_transform(X_)"
   ]
  },
  {
   "cell_type": "code",
   "execution_count": 30,
   "metadata": {},
   "outputs": [],
   "source": [
    "#X_transformed = X_transformed.T"
   ]
  },
  {
   "cell_type": "code",
   "execution_count": 32,
   "metadata": {},
   "outputs": [
    {
     "data": {
      "text/plain": [
       "PCA(n_components=3, whiten=True)"
      ]
     },
     "execution_count": 32,
     "metadata": {},
     "output_type": "execute_result"
    }
   ],
   "source": [
    "np.random.seed(42)\n",
    "N=3\n",
    "pca = PCA(N, whiten=True)\n",
    "pca.fit(X_.T)"
   ]
  },
  {
   "cell_type": "code",
   "execution_count": 33,
   "metadata": {},
   "outputs": [],
   "source": [
    "components = pca.transform(X_.T)\n",
    "projected = pca.inverse_transform(components)"
   ]
  },
  {
   "cell_type": "code",
   "execution_count": 34,
   "metadata": {},
   "outputs": [
    {
     "data": {
      "text/plain": [
       "0.902067706667062"
      ]
     },
     "execution_count": 34,
     "metadata": {},
     "output_type": "execute_result"
    }
   ],
   "source": [
    "pca.explained_variance_ratio_[0]+pca.explained_variance_ratio_[1]+pca.explained_variance_ratio_[2]"
   ]
  },
  {
   "cell_type": "code",
   "execution_count": null,
   "metadata": {},
   "outputs": [],
   "source": [
    "xx = []\n",
    "yy = []\n",
    "\n",
    "for i in range(0, len(Y_GRID)):\n",
    "    for j in range(0, len(X_GRID)):\n",
    "        xx.append(X_GRID[j])\n",
    "        yy.append(Y_GRID[i])"
   ]
  },
  {
   "cell_type": "code",
   "execution_count": null,
   "metadata": {},
   "outputs": [],
   "source": [
    "x_grid = np.linspace(-10,50,61)\n",
    "y_grid = np.linspace(3500,8500, 501)\n",
    "B1, B2 = np.meshgrid(x_grid, y_grid, indexing='xy')"
   ]
  },
  {
   "cell_type": "code",
   "execution_count": null,
   "metadata": {},
   "outputs": [],
   "source": [
    "optionslist = []\n",
    "\n",
    "for i in range(0,N):\n",
    "    \n",
    "    optionslist.append(i)"
   ]
  },
  {
   "cell_type": "code",
   "execution_count": null,
   "metadata": {},
   "outputs": [],
   "source": [
    "import matplotlib.pyplot as plt\n",
    "from mpl_toolkits.mplot3d import axes3d\n",
    "import scipy.interpolate as interp\n",
    "\n",
    "%matplotlib notebook\n",
    "\n",
    "fig = plt.figure(figsize=(10, 4))\n",
    "ax = axes3d.Axes3D(fig)\n",
    "\n",
    "def update_graph(i):\n",
    "    \n",
    "    ax.clear()\n",
    "    \n",
    "    Z = interp.griddata((xx,yy),X_transformed[i],(B1,B2),method='cubic')\n",
    "    #Z = splinemean(B1, B2)\n",
    "    #ax.scatter3D(xx,yy,pca.components_[i], c='r')\n",
    "    ax.plot_wireframe(B1, B2, Z)\n",
    "    ax.plot_surface(B1, B2, Z,alpha=0.4)\n",
    "    #ax.set_zlim([0, 0.04])\n",
    "    plt.show()\n",
    "    \n",
    "i = widgets.Dropdown(options=optionslist, value=0, description='Component:', disabled=False)\n",
    "\n",
    "widgets.interactive(update_graph,i = i)"
   ]
  },
  {
   "cell_type": "code",
   "execution_count": null,
   "metadata": {},
   "outputs": [],
   "source": [
    "save_path = '/home/joao/Documents'"
   ]
  },
  {
   "cell_type": "code",
   "execution_count": null,
   "metadata": {},
   "outputs": [],
   "source": [
    "Z = interp.griddata((xx,yy),pca.components_[0],(B1,B2),method='cubic')"
   ]
  },
  {
   "cell_type": "code",
   "execution_count": null,
   "metadata": {},
   "outputs": [],
   "source": [
    "teste = Z.transpose()"
   ]
  },
  {
   "cell_type": "code",
   "execution_count": null,
   "metadata": {},
   "outputs": [],
   "source": [
    "exp_x = []\n",
    "exp_y = []\n",
    "exp_z = []\n",
    "\n",
    "for i in range(0,len(X_GRID)):\n",
    "    \n",
    "    for j in range(0,len(Y_GRID)):\n",
    "        \n",
    "        exp_x.append(X_GRID[i])\n",
    "        exp_y.append(Y_GRID[j])\n",
    "        exp_z.append(teste[i][j])\n",
    "        "
   ]
  },
  {
   "cell_type": "code",
   "execution_count": null,
   "metadata": {},
   "outputs": [],
   "source": [
    "\n",
    "table = []\n",
    "for l in range(0,len(exp_x)):\n",
    "    table.append((exp_x[l],exp_y[l],exp_z[l]))\n",
    "\n",
    "\n",
    "completeName = os.path.join(save_path, \"M0.dat\")\n",
    "\n",
    "f = open(completeName, 'w')\n",
    "f.write(tabulate(table, tablefmt=\"plain\"))\n",
    "f.close()\n"
   ]
  },
  {
   "cell_type": "code",
   "execution_count": null,
   "metadata": {},
   "outputs": [],
   "source": [
    "Z = interp.griddata((xx,yy),pca.components_[1],(B1,B2),method='cubic')"
   ]
  },
  {
   "cell_type": "code",
   "execution_count": null,
   "metadata": {},
   "outputs": [],
   "source": [
    "teste = Z.transpose()"
   ]
  },
  {
   "cell_type": "code",
   "execution_count": null,
   "metadata": {},
   "outputs": [],
   "source": [
    "exp_x = []\n",
    "exp_y = []\n",
    "exp_z = []\n",
    "\n",
    "for i in range(0,len(X_GRID)):\n",
    "    \n",
    "    for j in range(0,len(Y_GRID)):\n",
    "        \n",
    "        exp_x.append(X_GRID[i])\n",
    "        exp_y.append(Y_GRID[j])\n",
    "        exp_z.append(teste[i][j])"
   ]
  },
  {
   "cell_type": "code",
   "execution_count": null,
   "metadata": {},
   "outputs": [],
   "source": [
    "table = []\n",
    "for l in range(0,len(exp_x)):\n",
    "    table.append((exp_x[l],exp_y[l],exp_z[l]))\n",
    "\n",
    "\n",
    "completeName = os.path.join(save_path, \"M1.dat\")\n",
    "\n",
    "f = open(completeName, 'w')\n",
    "f.write(tabulate(table, tablefmt=\"plain\"))\n",
    "f.close()\n"
   ]
  },
  {
   "cell_type": "code",
   "execution_count": null,
   "metadata": {},
   "outputs": [],
   "source": [
    "Z = interp.griddata((xx,yy),pca.components_[2],(B1,B2),method='cubic')"
   ]
  },
  {
   "cell_type": "code",
   "execution_count": null,
   "metadata": {},
   "outputs": [],
   "source": [
    "teste = Z.transpose()"
   ]
  },
  {
   "cell_type": "code",
   "execution_count": null,
   "metadata": {},
   "outputs": [],
   "source": [
    "exp_x = []\n",
    "exp_y = []\n",
    "exp_z = []\n",
    "\n",
    "for i in range(0,len(X_GRID)):\n",
    "    \n",
    "    for j in range(0,len(Y_GRID)):\n",
    "        \n",
    "        exp_x.append(X_GRID[i])\n",
    "        exp_y.append(Y_GRID[j])\n",
    "        exp_z.append(teste[i][j])"
   ]
  },
  {
   "cell_type": "code",
   "execution_count": null,
   "metadata": {},
   "outputs": [],
   "source": [
    "table = []\n",
    "for l in range(0,len(exp_x)):\n",
    "    table.append((exp_x[l],exp_y[l],exp_z[l]))\n",
    "\n",
    "\n",
    "completeName = os.path.join(save_path, \"M2.dat\")\n",
    "\n",
    "f = open(completeName, 'w')\n",
    "f.write(tabulate(table, tablefmt=\"plain\"))\n",
    "f.close()"
   ]
  },
  {
   "cell_type": "code",
   "execution_count": null,
   "metadata": {},
   "outputs": [],
   "source": []
  },
  {
   "cell_type": "code",
   "execution_count": null,
   "metadata": {},
   "outputs": [],
   "source": []
  }
 ],
 "metadata": {
  "kernelspec": {
   "display_name": "Python 3",
   "language": "python",
   "name": "python3"
  },
  "language_info": {
   "codemirror_mode": {
    "name": "ipython",
    "version": 3
   },
   "file_extension": ".py",
   "mimetype": "text/x-python",
   "name": "python",
   "nbconvert_exporter": "python",
   "pygments_lexer": "ipython3",
   "version": "3.6.9"
  }
 },
 "nbformat": 4,
 "nbformat_minor": 4
}
