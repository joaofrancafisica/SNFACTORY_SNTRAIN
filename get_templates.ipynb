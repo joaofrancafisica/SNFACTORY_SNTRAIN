{
 "cells": [
  {
   "cell_type": "code",
   "execution_count": 1,
   "id": "4d41bd74-c83d-4290-b43d-9570ed4ee5bb",
   "metadata": {},
   "outputs": [],
   "source": [
    "import pandas as pd\n",
    "import numpy as np\n",
    "import matplotlib.pyplot as plt\n",
    "\n",
    "%matplotlib inline"
   ]
  },
  {
   "cell_type": "code",
   "execution_count": 2,
   "id": "74fc1cae-74d4-4781-b7a7-6bda47db5e09",
   "metadata": {},
   "outputs": [],
   "source": [
    "path = './PCA_FA_components/FA/fa.pkl'"
   ]
  },
  {
   "cell_type": "code",
   "execution_count": 3,
   "id": "cf8af6f0-dc41-408c-9359-af04f09c6575",
   "metadata": {},
   "outputs": [],
   "source": [
    "fa=pd.read_pickle(path)"
   ]
  },
  {
   "cell_type": "code",
   "execution_count": 4,
   "id": "4aacf4e2-f03a-4a87-8b14-1a65c27d67e3",
   "metadata": {},
   "outputs": [
    {
     "data": {
      "text/plain": [
       "(3, 27417)"
      ]
     },
     "execution_count": 4,
     "metadata": {},
     "output_type": "execute_result"
    }
   ],
   "source": [
    "fa.components_.shape"
   ]
  },
  {
   "cell_type": "code",
   "execution_count": 5,
   "id": "ed757ef4-f2bc-42cb-b376-f6bcff020e3e",
   "metadata": {},
   "outputs": [],
   "source": [
    "# phase (x) and wavelength (y)\n",
    "gridx = np.linspace(-8, 48, 48+8+1, dtype=int) # in days\n",
    "gridy = np.linspace(3500, 8300, int((8300-3500)/10+1), dtype=int) # in Angstroms\n",
    "\n",
    "M0=fa.components_[0].reshape(len(gridy), len(gridx)).T\n",
    "M1=fa.components_[1].reshape(len(gridy), len(gridx)).T\n",
    "M2=fa.components_[2].reshape(len(gridy), len(gridx)).T"
   ]
  },
  {
   "cell_type": "code",
   "execution_count": 6,
   "id": "cf3bc4d4-df7e-4f32-a3d8-69a2248336f9",
   "metadata": {},
   "outputs": [],
   "source": [
    "xv, yv = np.meshgrid(gridx, gridy, indexing='ij')\n",
    "\n",
    "x_grid = xv.flatten()\n",
    "y_grid = yv.flatten()"
   ]
  },
  {
   "cell_type": "code",
   "execution_count": 7,
   "id": "b986a97a-c0ec-4470-b7e8-a01fb95ffb55",
   "metadata": {},
   "outputs": [
    {
     "data": {
      "text/plain": [
       "(57, 57)"
      ]
     },
     "execution_count": 7,
     "metadata": {},
     "output_type": "execute_result"
    }
   ],
   "source": [
    "len(xv), len(yv)"
   ]
  },
  {
   "cell_type": "code",
   "execution_count": 8,
   "id": "bf704ae3-e674-415f-94a7-89c2b7ae584a",
   "metadata": {},
   "outputs": [],
   "source": [
    "file = open('./PCA_FA_components/FA/M0.dat', 'w') \n",
    "for i in range(0, len(xv)):\n",
    "    for j in range(0, len(xv[i])):\n",
    "        file.write(str(yv[i][j])+'    ' + str(xv[i][j]) + '    ' + str(M0[i][j]) + '\\n')\n",
    "file.close()\n",
    "\n",
    "file = open('./PCA_FA_components/FA/M1.dat', 'w') \n",
    "for i in range(0, len(xv)):\n",
    "    for j in range(0, len(xv[i])):\n",
    "        file.write(str(yv[i][j])+'    ' + str(xv[i][j]) + '    ' + str(M1[i][j]) + '\\n')\n",
    "file.close()\n",
    "\n",
    "file = open('./PCA_FA_components/FA/M2.dat', 'w') \n",
    "for i in range(0, len(xv)):\n",
    "    for j in range(0, len(xv[i])):\n",
    "        file.write(str(yv[i][j])+'    ' + str(xv[i][j]) + '    ' + str(M2[i][j]) + '\\n')\n",
    "file.close()"
   ]
  },
  {
   "cell_type": "code",
   "execution_count": null,
   "id": "53a8e1e7-4743-4064-8a3c-dcad2250b268",
   "metadata": {},
   "outputs": [],
   "source": []
  }
 ],
 "metadata": {
  "kernelspec": {
   "display_name": "Python 3 (ipykernel)",
   "language": "python",
   "name": "python3"
  },
  "language_info": {
   "codemirror_mode": {
    "name": "ipython",
    "version": 3
   },
   "file_extension": ".py",
   "mimetype": "text/x-python",
   "name": "python",
   "nbconvert_exporter": "python",
   "pygments_lexer": "ipython3",
   "version": "3.8.10"
  }
 },
 "nbformat": 4,
 "nbformat_minor": 5
}
