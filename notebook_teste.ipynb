{
 "cells": [
  {
   "cell_type": "code",
   "execution_count": 1,
   "id": "695f7a28",
   "metadata": {},
   "outputs": [],
   "source": [
    "%run ./code/make_surface.ipynb\n",
    "import numpy as np\n",
    "import matplotlib.pyplot as plt"
   ]
  },
  {
   "cell_type": "code",
   "execution_count": 2,
   "id": "4128958c",
   "metadata": {},
   "outputs": [],
   "source": [
    "make = make_surface(\"exp2021\", gridx=(-8, 48), gridy=(2700, 8300))"
   ]
  },
  {
   "cell_type": "code",
   "execution_count": 3,
   "id": "808e1014",
   "metadata": {},
   "outputs": [
    {
     "name": "stdout",
     "output_type": "stream",
     "text": [
      "Total files in path:  2466\n"
     ]
    }
   ],
   "source": [
    "file_names = make.get_spec_path(sp_data_path=\"./data/sp/\")"
   ]
  },
  {
   "cell_type": "code",
   "execution_count": 4,
   "id": "83f1b8d4",
   "metadata": {},
   "outputs": [],
   "source": [
    "spec0 = make.read_spec(spec_path=file_names[0])"
   ]
  },
  {
   "cell_type": "code",
   "execution_count": 5,
   "id": "db6405c8",
   "metadata": {},
   "outputs": [
    {
     "data": {
      "text/html": [
       "<div><i>Table length=288</i>\n",
       "<table id=\"table139798259758176\" class=\"table-striped table-bordered table-condensed\">\n",
       "<thead><tr><th>WAVE</th><th>SN_SPEC</th><th>SN_ERR</th></tr></thead>\n",
       "<thead><tr><th>float64</th><th>float64</th><th>float64</th></tr></thead>\n",
       "<tr><td>3305.0</td><td>0.08071072571820934</td><td>0.022970185777450247</td></tr>\n",
       "<tr><td>3317.0</td><td>0.089476592578293</td><td>0.022220290925105402</td></tr>\n",
       "<tr><td>3328.0</td><td>0.10778935172815782</td><td>0.020521374821322876</td></tr>\n",
       "<tr><td>3339.0</td><td>0.11194338970955056</td><td>0.019438763245344052</td></tr>\n",
       "<tr><td>3350.0</td><td>0.11779360595887242</td><td>0.01924870751272833</td></tr>\n",
       "<tr><td>3361.0</td><td>0.0933682837933034</td><td>0.019451270686446018</td></tr>\n",
       "<tr><td>3372.0</td><td>0.1487875599300808</td><td>0.019033293545769516</td></tr>\n",
       "<tr><td>3383.0</td><td>0.13176577005707046</td><td>0.01983021746647068</td></tr>\n",
       "<tr><td>3395.0</td><td>0.12690946408604462</td><td>0.019363811950257118</td></tr>\n",
       "<tr><td>...</td><td>...</td><td>...</td></tr>\n",
       "<tr><td>8333.0</td><td>0.024484855599496213</td><td>0.001961679361489899</td></tr>\n",
       "<tr><td>8360.0</td><td>0.030531264150824668</td><td>0.0018837672338461095</td></tr>\n",
       "<tr><td>8388.0</td><td>0.03041618221674287</td><td>0.0018470510816374964</td></tr>\n",
       "<tr><td>8416.0</td><td>0.027912470417649052</td><td>0.001634188646800299</td></tr>\n",
       "<tr><td>8444.0</td><td>0.02923745984088305</td><td>0.0016996813692096873</td></tr>\n",
       "<tr><td>8472.0</td><td>0.026589574001247587</td><td>0.0016079067611910688</td></tr>\n",
       "<tr><td>8500.0</td><td>0.028781877226448756</td><td>0.0016367037425478344</td></tr>\n",
       "<tr><td>8529.0</td><td>0.026245719904618187</td><td>0.0016343129176333224</td></tr>\n",
       "<tr><td>8557.0</td><td>0.024490393254361854</td><td>0.0016243448284466745</td></tr>\n",
       "<tr><td>8586.0</td><td>0.026039915313152757</td><td>0.0016248714192324393</td></tr>\n",
       "</table></div>"
      ],
      "text/plain": [
       "<Table length=288>\n",
       "  WAVE        SN_SPEC                SN_ERR       \n",
       "float64       float64               float64       \n",
       "------- -------------------- ---------------------\n",
       " 3305.0  0.08071072571820934  0.022970185777450247\n",
       " 3317.0    0.089476592578293  0.022220290925105402\n",
       " 3328.0  0.10778935172815782  0.020521374821322876\n",
       " 3339.0  0.11194338970955056  0.019438763245344052\n",
       " 3350.0  0.11779360595887242   0.01924870751272833\n",
       " 3361.0   0.0933682837933034  0.019451270686446018\n",
       " 3372.0   0.1487875599300808  0.019033293545769516\n",
       " 3383.0  0.13176577005707046   0.01983021746647068\n",
       " 3395.0  0.12690946408604462  0.019363811950257118\n",
       "    ...                  ...                   ...\n",
       " 8333.0 0.024484855599496213  0.001961679361489899\n",
       " 8360.0 0.030531264150824668 0.0018837672338461095\n",
       " 8388.0  0.03041618221674287 0.0018470510816374964\n",
       " 8416.0 0.027912470417649052  0.001634188646800299\n",
       " 8444.0  0.02923745984088305 0.0016996813692096873\n",
       " 8472.0 0.026589574001247587 0.0016079067611910688\n",
       " 8500.0 0.028781877226448756 0.0016367037425478344\n",
       " 8529.0 0.026245719904618187 0.0016343129176333224\n",
       " 8557.0 0.024490393254361854 0.0016243448284466745\n",
       " 8586.0 0.026039915313152757 0.0016248714192324393"
      ]
     },
     "execution_count": 5,
     "metadata": {},
     "output_type": "execute_result"
    }
   ],
   "source": [
    "spec0"
   ]
  },
  {
   "cell_type": "code",
   "execution_count": 6,
   "id": "384115ba",
   "metadata": {},
   "outputs": [],
   "source": [
    "smooth_flux = make.apply_filter(np.array(spec0[\"SN_SPEC\"]))"
   ]
  },
  {
   "cell_type": "code",
   "execution_count": 8,
   "id": "cc1c8f21",
   "metadata": {},
   "outputs": [],
   "source": [
    "#y_gauss, cov_gauss = make.apply_gp(x_array=spec0[\"WAVE\"], y_array=spec0[\"SN_SPEC\"], method='rbf')"
   ]
  },
  {
   "cell_type": "code",
   "execution_count": 33,
   "id": "b18da6e3",
   "metadata": {},
   "outputs": [],
   "source": [
    "fun = make.salt2likeinterp(x_array=spec0[\"WAVE\"], y_array=smooth_flux, k=2)\n",
    "gridy = np.linspace(3500, 8300, 8300-2700+1, dtype=int)"
   ]
  },
  {
   "cell_type": "code",
   "execution_count": 34,
   "id": "b3d58bcc",
   "metadata": {},
   "outputs": [
    {
     "data": {
      "text/plain": [
       "[<matplotlib.lines.Line2D at 0x7f25506a5df0>]"
      ]
     },
     "execution_count": 34,
     "metadata": {},
     "output_type": "execute_result"
    },
    {
     "data": {
      "image/png": "[encoded data removed]",
      "text/plain": [
       "<Figure size 432x288 with 1 Axes>"
      ]
     },
     "metadata": {
      "needs_background": "light"
     },
     "output_type": "display_data"
    }
   ],
   "source": [
    "#plt.plot(np.array(spec0[\"WAVE\"]), np.array(spec0[\"SN_SPEC\"]), 'k')\n",
    "plt.plot(np.array(spec0[\"WAVE\"]), smooth_flux, 'r')\n",
    "plt.plot(np.array(gridy), fun(gridy), 'b')"
   ]
  },
  {
   "cell_type": "code",
   "execution_count": null,
   "id": "09f03d86",
   "metadata": {},
   "outputs": [],
   "source": []
  }
 ],
 "metadata": {
  "kernelspec": {
   "display_name": "Python 3 (ipykernel)",
   "language": "python",
   "name": "python3"
  },
  "language_info": {
   "codemirror_mode": {
    "name": "ipython",
    "version": 3
   },
   "file_extension": ".py",
   "mimetype": "text/x-python",
   "name": "python",
   "nbconvert_exporter": "python",
   "pygments_lexer": "ipython3",
   "version": "3.8.10"
  }
 },
 "nbformat": 4,
 "nbformat_minor": 5
}
